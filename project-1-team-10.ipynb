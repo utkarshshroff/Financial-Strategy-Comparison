{
 "cells": [
  {
   "cell_type": "markdown",
   "metadata": {},
   "source": [
    "# Introduction and Conceptual Explanation"
   ]
  },
  {
   "cell_type": "markdown",
   "metadata": {},
   "source": [
    "Louise’s strategy is an elementary form of technical analysis known as market timing. This is subjective, as traders may interpret price changes differently, and have different rules depending on their risk aversion. It is difficult to time entrances and exits. Research by William Sharpe concluded that an investor using a market timing strategy must be correct 74% of the time to beat the benchmark portfolio of similar risk on an annual basis, which is difficult to accomplish. If Louise inadvertently moves her portfolio out of VFINX during the best months, then she will be losing more than if she held it for the entire duration passively, incurring an opportunity cost. There is also research by market analysts that conclude that a passively managed portfolio will outperform an actively managed portfolio that seeks to time the market. Another consideration is transaction costs and commissions, which are higher due to the frequent movement of portfolio funds. Because the security was held less than a year, Louise also would be taxed at short term capital gains, which are higher than the long term capital gains rate.\n",
    "\n",
    "In addition, according to the efficient markets hypothesis, share prices reflect all available information, and stocks always trade at their fair value on exchanges. Therefore, it would be impossible for investors to outperform the market. The weak form of the theory assumes that current stock prices reflect all available information and that historical performance is irrelevant to future performance. As a result, the market timing technique used by Louise cannot be used to generate returns because past prices are already reflected in today’s stock price. \n",
    "\n",
    "One of the first things that we remember when we invest is the principle of diversification. Louise’s strategy or portfolio does not follow the principle of diversification. Louise shifts 100% of her portfolio based on how the market is performing. She tends to put ‘all eggs in one basket’ which is not ideal according to portfolio theory. Ideally Louise should be diving her portfolio by weight into equity and risk-free debt based on her risk appetite. If she has a high-risk high-return strategy she should place the majority of her portfolio in equity. Her portfolio should always ideally be on the Capital Market Line(CAL) of the efficient frontier.\n"
   ]
  },
  {
   "cell_type": "code",
   "execution_count": 1,
   "metadata": {},
   "outputs": [
    {
     "data": {
      "text/html": [
       "<img src=\"Efficient Frontier Image.png\"/>"
      ],
      "text/plain": [
       "<IPython.core.display.Image object>"
      ]
     },
     "execution_count": 1,
     "metadata": {},
     "output_type": "execute_result"
    }
   ],
   "source": [
    "from IPython.display import Image\n",
    "Image(url= \"Efficient Frontier Image.png\")"
   ]
  },
  {
   "cell_type": "markdown",
   "metadata": {},
   "source": [
    "As we can see from the above diagram, individual portfolios do not lie one on the Capital Market line and individual portfolios are not optimised. Louise’s portfolio would be one of these points that is not on the line. If she optimised her portfolio based on her risk appetite her portfolio would probably be one of the 3 points on the Efficient frontier. The Capital Market Line is always tangent to the efficient frontier. A high risk high return portfolio would lie higher up the efficiency as the standard deviation and expected return increases. \n"
   ]
  },
  {
   "cell_type": "code",
   "execution_count": 2,
   "metadata": {},
   "outputs": [
    {
     "data": {
      "text/html": [
       "        <script type=\"text/javascript\">\n",
       "        window.PlotlyConfig = {MathJaxConfig: 'local'};\n",
       "        if (window.MathJax) {MathJax.Hub.Config({SVG: {font: \"STIX-Web\"}});}\n",
       "        if (typeof require !== 'undefined') {\n",
       "        require.undef(\"plotly\");\n",
       "        requirejs.config({\n",
       "            paths: {\n",
       "                'plotly': ['https://cdn.plot.ly/plotly-latest.min']\n",
       "            }\n",
       "        });\n",
       "        require(['plotly'], function(Plotly) {\n",
       "            window._Plotly = Plotly;\n",
       "        });\n",
       "        }\n",
       "        </script>\n",
       "        "
      ]
     },
     "metadata": {},
     "output_type": "display_data"
    }
   ],
   "source": [
    "import numpy as np\n",
    "import pandas as pd\n",
    "import matplotlib.pyplot as plt \n",
    "import plotly.offline as plyo \n",
    "import cufflinks as cf \n",
    "plyo.init_notebook_mode(connected=True)  "
   ]
  },
  {
   "cell_type": "code",
   "execution_count": 3,
   "metadata": {},
   "outputs": [
    {
     "data": {
      "text/html": [
       "<div>\n",
       "<style scoped>\n",
       "    .dataframe tbody tr th:only-of-type {\n",
       "        vertical-align: middle;\n",
       "    }\n",
       "\n",
       "    .dataframe tbody tr th {\n",
       "        vertical-align: top;\n",
       "    }\n",
       "\n",
       "    .dataframe thead th {\n",
       "        text-align: right;\n",
       "    }\n",
       "</style>\n",
       "<table border=\"1\" class=\"dataframe\">\n",
       "  <thead>\n",
       "    <tr style=\"text-align: right;\">\n",
       "      <th></th>\n",
       "      <th>R</th>\n",
       "    </tr>\n",
       "    <tr>\n",
       "      <th>Date</th>\n",
       "      <th></th>\n",
       "    </tr>\n",
       "  </thead>\n",
       "  <tbody>\n",
       "    <tr>\n",
       "      <th>1985-02-28</th>\n",
       "      <td>1.380961</td>\n",
       "    </tr>\n",
       "    <tr>\n",
       "      <th>1985-03-31</th>\n",
       "      <td>-0.845488</td>\n",
       "    </tr>\n",
       "    <tr>\n",
       "      <th>1985-04-30</th>\n",
       "      <td>0.571295</td>\n",
       "    </tr>\n",
       "    <tr>\n",
       "      <th>1985-05-31</th>\n",
       "      <td>6.033273</td>\n",
       "    </tr>\n",
       "    <tr>\n",
       "      <th>1985-06-30</th>\n",
       "      <td>0.627205</td>\n",
       "    </tr>\n",
       "    <tr>\n",
       "      <th>...</th>\n",
       "      <td>...</td>\n",
       "    </tr>\n",
       "    <tr>\n",
       "      <th>2020-10-31</th>\n",
       "      <td>-2.276990</td>\n",
       "    </tr>\n",
       "    <tr>\n",
       "      <th>2020-11-30</th>\n",
       "      <td>10.935640</td>\n",
       "    </tr>\n",
       "    <tr>\n",
       "      <th>2020-12-31</th>\n",
       "      <td>3.441073</td>\n",
       "    </tr>\n",
       "    <tr>\n",
       "      <th>2021-01-31</th>\n",
       "      <td>-0.642105</td>\n",
       "    </tr>\n",
       "    <tr>\n",
       "      <th>2021-02-28</th>\n",
       "      <td>4.261644</td>\n",
       "    </tr>\n",
       "  </tbody>\n",
       "</table>\n",
       "<p>433 rows × 1 columns</p>\n",
       "</div>"
      ],
      "text/plain": [
       "                    R\n",
       "Date                 \n",
       "1985-02-28   1.380961\n",
       "1985-03-31  -0.845488\n",
       "1985-04-30   0.571295\n",
       "1985-05-31   6.033273\n",
       "1985-06-30   0.627205\n",
       "...               ...\n",
       "2020-10-31  -2.276990\n",
       "2020-11-30  10.935640\n",
       "2020-12-31   3.441073\n",
       "2021-01-31  -0.642105\n",
       "2021-02-28   4.261644\n",
       "\n",
       "[433 rows x 1 columns]"
      ]
     },
     "execution_count": 3,
     "metadata": {},
     "output_type": "execute_result"
    }
   ],
   "source": [
    "vfinx_n = pd.read_csv('VFINX.csv', index_col='Date', parse_dates=True)\n",
    "vfinx_n = vfinx_n.resample('1M').last()[['Adj Close']].pct_change().multiply(100).dropna()\n",
    "\n",
    "vfinx_n.columns = ['R']\n",
    "vfinx_n"
   ]
  },
  {
   "cell_type": "code",
   "execution_count": 4,
   "metadata": {},
   "outputs": [],
   "source": [
    "ff_n = pd.read_csv(\n",
    "    'F-F_Research_Data_Factors.CSV',\n",
    "    index_col=0,\n",
    "    skiprows=3,\n",
    "    nrows=12*(2020 - 1927 + 1) + 6 + 1\n",
    ")\n",
    "ff_n.index = pd.to_datetime(ff_n.index, format='%Y%m') + pd.offsets.MonthEnd(0)\n",
    "ff_n['Date'] = pd.to_datetime(ff_n.index, format='%Y%m') + pd.offsets.MonthEnd(0)"
   ]
  },
  {
   "cell_type": "code",
   "execution_count": 5,
   "metadata": {},
   "outputs": [
    {
     "data": {
      "text/html": [
       "<div>\n",
       "<style scoped>\n",
       "    .dataframe tbody tr th:only-of-type {\n",
       "        vertical-align: middle;\n",
       "    }\n",
       "\n",
       "    .dataframe tbody tr th {\n",
       "        vertical-align: top;\n",
       "    }\n",
       "\n",
       "    .dataframe thead th {\n",
       "        text-align: right;\n",
       "    }\n",
       "</style>\n",
       "<table border=\"1\" class=\"dataframe\">\n",
       "  <thead>\n",
       "    <tr style=\"text-align: right;\">\n",
       "      <th></th>\n",
       "      <th>R</th>\n",
       "      <th>Mkt-RF</th>\n",
       "      <th>SMB</th>\n",
       "      <th>HML</th>\n",
       "      <th>RF</th>\n",
       "      <th>Date</th>\n",
       "      <th>Return</th>\n",
       "    </tr>\n",
       "  </thead>\n",
       "  <tbody>\n",
       "    <tr>\n",
       "      <th>1985-02-28</th>\n",
       "      <td>1.380961</td>\n",
       "      <td>1.22</td>\n",
       "      <td>0.76</td>\n",
       "      <td>-0.13</td>\n",
       "      <td>0.58</td>\n",
       "      <td>1985-02-28</td>\n",
       "      <td>0.013810</td>\n",
       "    </tr>\n",
       "    <tr>\n",
       "      <th>1985-03-31</th>\n",
       "      <td>-0.845488</td>\n",
       "      <td>-0.84</td>\n",
       "      <td>-1.15</td>\n",
       "      <td>4.10</td>\n",
       "      <td>0.62</td>\n",
       "      <td>1985-03-31</td>\n",
       "      <td>-0.008455</td>\n",
       "    </tr>\n",
       "    <tr>\n",
       "      <th>1985-04-30</th>\n",
       "      <td>0.571295</td>\n",
       "      <td>-0.96</td>\n",
       "      <td>0.14</td>\n",
       "      <td>3.72</td>\n",
       "      <td>0.72</td>\n",
       "      <td>1985-04-30</td>\n",
       "      <td>0.005713</td>\n",
       "    </tr>\n",
       "    <tr>\n",
       "      <th>1985-05-31</th>\n",
       "      <td>6.033273</td>\n",
       "      <td>5.09</td>\n",
       "      <td>-2.25</td>\n",
       "      <td>-0.92</td>\n",
       "      <td>0.66</td>\n",
       "      <td>1985-05-31</td>\n",
       "      <td>0.060333</td>\n",
       "    </tr>\n",
       "    <tr>\n",
       "      <th>1985-06-30</th>\n",
       "      <td>0.627205</td>\n",
       "      <td>1.27</td>\n",
       "      <td>0.50</td>\n",
       "      <td>0.50</td>\n",
       "      <td>0.55</td>\n",
       "      <td>1985-06-30</td>\n",
       "      <td>0.006272</td>\n",
       "    </tr>\n",
       "    <tr>\n",
       "      <th>...</th>\n",
       "      <td>...</td>\n",
       "      <td>...</td>\n",
       "      <td>...</td>\n",
       "      <td>...</td>\n",
       "      <td>...</td>\n",
       "      <td>...</td>\n",
       "      <td>...</td>\n",
       "    </tr>\n",
       "    <tr>\n",
       "      <th>2020-09-30</th>\n",
       "      <td>-4.393229</td>\n",
       "      <td>-3.63</td>\n",
       "      <td>0.06</td>\n",
       "      <td>-2.51</td>\n",
       "      <td>0.01</td>\n",
       "      <td>2020-09-30</td>\n",
       "      <td>-0.043932</td>\n",
       "    </tr>\n",
       "    <tr>\n",
       "      <th>2020-10-31</th>\n",
       "      <td>-2.276990</td>\n",
       "      <td>-2.10</td>\n",
       "      <td>4.44</td>\n",
       "      <td>4.03</td>\n",
       "      <td>0.01</td>\n",
       "      <td>2020-10-31</td>\n",
       "      <td>-0.022770</td>\n",
       "    </tr>\n",
       "    <tr>\n",
       "      <th>2020-11-30</th>\n",
       "      <td>10.935640</td>\n",
       "      <td>12.47</td>\n",
       "      <td>5.48</td>\n",
       "      <td>2.11</td>\n",
       "      <td>0.01</td>\n",
       "      <td>2020-11-30</td>\n",
       "      <td>0.109356</td>\n",
       "    </tr>\n",
       "    <tr>\n",
       "      <th>2020-12-31</th>\n",
       "      <td>3.441073</td>\n",
       "      <td>4.63</td>\n",
       "      <td>4.81</td>\n",
       "      <td>-1.36</td>\n",
       "      <td>0.01</td>\n",
       "      <td>2020-12-31</td>\n",
       "      <td>0.034411</td>\n",
       "    </tr>\n",
       "    <tr>\n",
       "      <th>2021-01-31</th>\n",
       "      <td>-0.642105</td>\n",
       "      <td>-0.04</td>\n",
       "      <td>7.18</td>\n",
       "      <td>2.85</td>\n",
       "      <td>0.00</td>\n",
       "      <td>2021-01-31</td>\n",
       "      <td>-0.006421</td>\n",
       "    </tr>\n",
       "  </tbody>\n",
       "</table>\n",
       "<p>432 rows × 7 columns</p>\n",
       "</div>"
      ],
      "text/plain": [
       "                    R  Mkt-RF   SMB   HML    RF       Date    Return\n",
       "1985-02-28   1.380961    1.22  0.76 -0.13  0.58 1985-02-28  0.013810\n",
       "1985-03-31  -0.845488   -0.84 -1.15  4.10  0.62 1985-03-31 -0.008455\n",
       "1985-04-30   0.571295   -0.96  0.14  3.72  0.72 1985-04-30  0.005713\n",
       "1985-05-31   6.033273    5.09 -2.25 -0.92  0.66 1985-05-31  0.060333\n",
       "1985-06-30   0.627205    1.27  0.50  0.50  0.55 1985-06-30  0.006272\n",
       "...               ...     ...   ...   ...   ...        ...       ...\n",
       "2020-09-30  -4.393229   -3.63  0.06 -2.51  0.01 2020-09-30 -0.043932\n",
       "2020-10-31  -2.276990   -2.10  4.44  4.03  0.01 2020-10-31 -0.022770\n",
       "2020-11-30  10.935640   12.47  5.48  2.11  0.01 2020-11-30  0.109356\n",
       "2020-12-31   3.441073    4.63  4.81 -1.36  0.01 2020-12-31  0.034411\n",
       "2021-01-31  -0.642105   -0.04  7.18  2.85  0.00 2021-01-31 -0.006421\n",
       "\n",
       "[432 rows x 7 columns]"
      ]
     },
     "execution_count": 5,
     "metadata": {},
     "output_type": "execute_result"
    }
   ],
   "source": [
    "df_n = vfinx_n.join(ff_n, how='inner')\n",
    "df_n['Return'] = df_n['R'] / 100\n",
    "df_n"
   ]
  },
  {
   "cell_type": "code",
   "execution_count": 6,
   "metadata": {},
   "outputs": [
    {
     "name": "stdout",
     "output_type": "stream",
     "text": [
      "                    R  Mkt-RF   SMB   HML    RF       Date    Return\n",
      "1985-02-28   1.380961    1.22  0.76 -0.13  0.58 1985-02-28  0.013810\n",
      "1985-03-31  -0.845488   -0.84 -1.15  4.10  0.62 1985-03-31 -0.008455\n",
      "1985-04-30   0.571295   -0.96  0.14  3.72  0.72 1985-04-30  0.005713\n",
      "1985-05-31   6.033273    5.09 -2.25 -0.92  0.66 1985-05-31  0.060333\n",
      "1985-06-30   0.627205    1.27  0.50  0.50  0.55 1985-06-30  0.006272\n",
      "...               ...     ...   ...   ...   ...        ...       ...\n",
      "2020-09-30  -4.393229   -3.63  0.06 -2.51  0.01 2020-09-30 -0.043932\n",
      "2020-10-31  -2.276990   -2.10  4.44  4.03  0.01 2020-10-31 -0.022770\n",
      "2020-11-30  10.935640   12.47  5.48  2.11  0.01 2020-11-30  0.109356\n",
      "2020-12-31   3.441073    4.63  4.81 -1.36  0.01 2020-12-31  0.034411\n",
      "2021-01-31  -0.642105   -0.04  7.18  2.85  0.00 2021-01-31 -0.006421\n",
      "\n",
      "[432 rows x 7 columns]\n"
     ]
    },
    {
     "data": {
      "text/html": [
       "<div>\n",
       "<style scoped>\n",
       "    .dataframe tbody tr th:only-of-type {\n",
       "        vertical-align: middle;\n",
       "    }\n",
       "\n",
       "    .dataframe tbody tr th {\n",
       "        vertical-align: top;\n",
       "    }\n",
       "\n",
       "    .dataframe thead th {\n",
       "        text-align: right;\n",
       "    }\n",
       "</style>\n",
       "<table border=\"1\" class=\"dataframe\">\n",
       "  <thead>\n",
       "    <tr style=\"text-align: right;\">\n",
       "      <th></th>\n",
       "      <th>R-RF</th>\n",
       "    </tr>\n",
       "    <tr>\n",
       "      <th>Date</th>\n",
       "      <th></th>\n",
       "    </tr>\n",
       "  </thead>\n",
       "  <tbody>\n",
       "    <tr>\n",
       "      <th>1985-02-28</th>\n",
       "      <td>0.730961</td>\n",
       "    </tr>\n",
       "    <tr>\n",
       "      <th>1985-03-31</th>\n",
       "      <td>-1.425488</td>\n",
       "    </tr>\n",
       "    <tr>\n",
       "      <th>1985-04-30</th>\n",
       "      <td>-0.048705</td>\n",
       "    </tr>\n",
       "    <tr>\n",
       "      <th>1985-05-31</th>\n",
       "      <td>5.313273</td>\n",
       "    </tr>\n",
       "    <tr>\n",
       "      <th>1985-06-30</th>\n",
       "      <td>0.000000</td>\n",
       "    </tr>\n",
       "    <tr>\n",
       "      <th>...</th>\n",
       "      <td>...</td>\n",
       "    </tr>\n",
       "    <tr>\n",
       "      <th>2020-09-30</th>\n",
       "      <td>-4.403229</td>\n",
       "    </tr>\n",
       "    <tr>\n",
       "      <th>2020-10-31</th>\n",
       "      <td>-2.286990</td>\n",
       "    </tr>\n",
       "    <tr>\n",
       "      <th>2020-11-30</th>\n",
       "      <td>10.925640</td>\n",
       "    </tr>\n",
       "    <tr>\n",
       "      <th>2020-12-31</th>\n",
       "      <td>0.000000</td>\n",
       "    </tr>\n",
       "    <tr>\n",
       "      <th>2021-01-31</th>\n",
       "      <td>0.000000</td>\n",
       "    </tr>\n",
       "  </tbody>\n",
       "</table>\n",
       "<p>432 rows × 1 columns</p>\n",
       "</div>"
      ],
      "text/plain": [
       "                 R-RF\n",
       "Date                 \n",
       "1985-02-28   0.730961\n",
       "1985-03-31  -1.425488\n",
       "1985-04-30  -0.048705\n",
       "1985-05-31   5.313273\n",
       "1985-06-30   0.000000\n",
       "...               ...\n",
       "2020-09-30  -4.403229\n",
       "2020-10-31  -2.286990\n",
       "2020-11-30  10.925640\n",
       "2020-12-31   0.000000\n",
       "2021-01-31   0.000000\n",
       "\n",
       "[432 rows x 1 columns]"
      ]
     },
     "execution_count": 6,
     "metadata": {},
     "output_type": "execute_result"
    }
   ],
   "source": [
    "import numpy as np\n",
    "import pandas as pd\n",
    "from pandas import DataFrame\n",
    "import matplotlib.pyplot as plt\n",
    "\n",
    "pd.plotting.register_matplotlib_converters()\n",
    "\n",
    "gspc = pd.read_csv('GSPC.csv', index_col='Date', parse_dates=True).resample('M').last().loc[:'2021-01']\n",
    "gspc['Return'] = (gspc['Close'] - gspc['Open'])\n",
    "gspc['Percent Return'] = ((gspc['Close'] / gspc['Open']) - 1) * 100\n",
    "gspc['Sign'] = np.sign(gspc['Return'])\n",
    "\n",
    "vfinx = pd.read_csv('VFINX.csv', index_col='Date', parse_dates=True).resample('M').last().loc[:'2021-01']\n",
    "vfinx['Return'] = (vfinx['Close'] - vfinx['Open'])\n",
    "vfinx['Percent Return'] = ((vfinx['Close'] - vfinx['Open']) / vfinx['Open']) * 100\n",
    "\n",
    "ff = pd.read_csv(\n",
    "    'F-F_Research_Data_Factors.CSV',\n",
    "    index_col=0,\n",
    "    skiprows=3,\n",
    "    nrows=12*(2020 - 1927 + 1) + 6 + 1\n",
    ")\n",
    "ff.index = pd.to_datetime(ff.index, format='%Y%m') + pd.offsets.MonthEnd(0)\n",
    "ff[\"Date\"] = pd.to_datetime(ff.index, format='%Y%m') + pd.offsets.MonthEnd(0)\n",
    "\n",
    "\n",
    "pastMonthSign = 0\n",
    "pastMonthSign2 = 0\n",
    "portfolio = \"vfinx\"\n",
    "portfolioStocks = []\n",
    "for monthlySign in gspc['Sign']:\n",
    "    if pastMonthSign2 == 1 and pastMonthSign == 1:\n",
    "        portfolio = \"vfinx\"\n",
    "    elif pastMonthSign2 == -1 and pastMonthSign == -1:\n",
    "        portfolio = \"ff\"\n",
    "    pastMonthSign2 = pastMonthSign\n",
    "    pastMonthSign = monthlySign\n",
    "    portfolioStocks.append(portfolio)\n",
    "\n",
    "finalFF = []\n",
    "for i in range(len(ff[\"RF\"])):\n",
    "    if i > (len(ff[\"RF\"]) - 433 - 1):\n",
    "        finalFF.append(ff[\"RF\"][i])\n",
    "        \n",
    "vfinx = vfinx.resample('1M').last()[['Adj Close']].pct_change().multiply(100).dropna()\n",
    "vfinx.columns = ['R']\n",
    "df = vfinx.join(ff, how='inner')\n",
    "df['Return'] = df['R'] / 100\n",
    "print(df)\n",
    "\n",
    "currentBal = 0\n",
    "currentBalLst = []\n",
    "returnsLst = []\n",
    "for i in range(len(df['Return'])):\n",
    "    currentBal += 500\n",
    "    if portfolioStocks[i] == \"vfinx\":\n",
    "        currentBal = currentBal * (1 + (df['Return'][i]))\n",
    "        returnsLst.append(df['R'][i])\n",
    "    elif portfolioStocks[i] == \"ff\":\n",
    "        currentBal = currentBal * (1 + finalFF[i] / 100)\n",
    "        returnsLst.append(finalFF[i])\n",
    "    currentBalLst.append(currentBal)\n",
    "\n",
    "currentBalVfinx = 0\n",
    "vfinxLst = []\n",
    "for i in range(len(df['Return'])):\n",
    "    currentBalVfinx += 500\n",
    "    currentBalVfinx = currentBalVfinx * (1 + (df[\"Return\"][i]))\n",
    "    vfinxLst.append(currentBalVfinx)\n",
    "    \n",
    "\n",
    "rrfLst = []\n",
    "for i in range(len(returnsLst)):\n",
    "    temp = returnsLst[i] - finalFF[i]\n",
    "    rrfLst.append(temp)\n",
    "\n",
    "louiseDf = pd.DataFrame(rrfLst,columns=['R-RF'])\n",
    "louiseDf['Date'] = pd.date_range(start='19850228', periods=432, freq='M')\n",
    "louiseDf.set_index('Date')"
   ]
  },
  {
   "cell_type": "markdown",
   "metadata": {},
   "source": [
    "# Excess Return Calculations"
   ]
  },
  {
   "cell_type": "code",
   "execution_count": 7,
   "metadata": {},
   "outputs": [],
   "source": [
    "df_n['R-RF'] = df_n['R'] - df_n['RF']"
   ]
  },
  {
   "cell_type": "code",
   "execution_count": 8,
   "metadata": {},
   "outputs": [],
   "source": [
    "df_n['R-RF'] = df_n['R'] - df_n['RF']"
   ]
  },
  {
   "cell_type": "markdown",
   "metadata": {},
   "source": [
    "# Rolling Sharpe Ratios"
   ]
  },
  {
   "cell_type": "code",
   "execution_count": 9,
   "metadata": {},
   "outputs": [
    {
     "data": {
      "text/html": [
       "<div>\n",
       "<style scoped>\n",
       "    .dataframe tbody tr th:only-of-type {\n",
       "        vertical-align: middle;\n",
       "    }\n",
       "\n",
       "    .dataframe tbody tr th {\n",
       "        vertical-align: top;\n",
       "    }\n",
       "\n",
       "    .dataframe thead th {\n",
       "        text-align: right;\n",
       "    }\n",
       "</style>\n",
       "<table border=\"1\" class=\"dataframe\">\n",
       "  <thead>\n",
       "    <tr style=\"text-align: right;\">\n",
       "      <th></th>\n",
       "      <th>naive_rolling</th>\n",
       "    </tr>\n",
       "    <tr>\n",
       "      <th>Date</th>\n",
       "      <th></th>\n",
       "    </tr>\n",
       "  </thead>\n",
       "  <tbody>\n",
       "    <tr>\n",
       "      <th>1985-02-28</th>\n",
       "      <td>NaN</td>\n",
       "    </tr>\n",
       "    <tr>\n",
       "      <th>1985-03-31</th>\n",
       "      <td>NaN</td>\n",
       "    </tr>\n",
       "    <tr>\n",
       "      <th>1985-04-30</th>\n",
       "      <td>NaN</td>\n",
       "    </tr>\n",
       "    <tr>\n",
       "      <th>1985-05-31</th>\n",
       "      <td>NaN</td>\n",
       "    </tr>\n",
       "    <tr>\n",
       "      <th>1985-06-30</th>\n",
       "      <td>NaN</td>\n",
       "    </tr>\n",
       "    <tr>\n",
       "      <th>...</th>\n",
       "      <td>...</td>\n",
       "    </tr>\n",
       "    <tr>\n",
       "      <th>2020-09-30</th>\n",
       "      <td>0.652793</td>\n",
       "    </tr>\n",
       "    <tr>\n",
       "      <th>2020-10-31</th>\n",
       "      <td>0.454900</td>\n",
       "    </tr>\n",
       "    <tr>\n",
       "      <th>2020-11-30</th>\n",
       "      <td>0.701709</td>\n",
       "    </tr>\n",
       "    <tr>\n",
       "      <th>2020-12-31</th>\n",
       "      <td>0.739108</td>\n",
       "    </tr>\n",
       "    <tr>\n",
       "      <th>2021-01-31</th>\n",
       "      <td>0.702721</td>\n",
       "    </tr>\n",
       "  </tbody>\n",
       "</table>\n",
       "<p>432 rows × 1 columns</p>\n",
       "</div>"
      ],
      "text/plain": [
       "            naive_rolling\n",
       "Date                     \n",
       "1985-02-28            NaN\n",
       "1985-03-31            NaN\n",
       "1985-04-30            NaN\n",
       "1985-05-31            NaN\n",
       "1985-06-30            NaN\n",
       "...                   ...\n",
       "2020-09-30       0.652793\n",
       "2020-10-31       0.454900\n",
       "2020-11-30       0.701709\n",
       "2020-12-31       0.739108\n",
       "2021-01-31       0.702721\n",
       "\n",
       "[432 rows x 1 columns]"
      ]
     },
     "execution_count": 9,
     "metadata": {},
     "output_type": "execute_result"
    }
   ],
   "source": [
    "df_n['naive_rolling'] = df_n['R-RF'].rolling(12).mean() / df_n['R-RF'].rolling(12).std() * np.sqrt(12) \n",
    "df_n['naive_rolling'].dropna()\n",
    "sharpe_plot = df_n[['Date','naive_rolling']]\n",
    "sharpe_plot.set_index('Date')"
   ]
  },
  {
   "cell_type": "markdown",
   "metadata": {},
   "source": [
    "# Data Driven Explanation"
   ]
  },
  {
   "cell_type": "markdown",
   "metadata": {},
   "source": [
    "The Sharpe Ratio measures an investment’s returns relative to the risk. A higher sharpe ratio is considered better as it indicates optimisation and high return relative to the risk. If we analyse the chart below, we notice that the sharpe ratio is higher for the naive strategy than it is for Louise's strategy indicating that the return is better relative to the risk. This enforces our explanation of Louise’s strategy not being on the efficient frontier as it is not risk-return optimised. \n"
   ]
  },
  {
   "cell_type": "code",
   "execution_count": 10,
   "metadata": {},
   "outputs": [
    {
     "name": "stdout",
     "output_type": "stream",
     "text": [
      "            louise_rolling  naive_rolling\n",
      "Date                                     \n",
      "1985-02-28             NaN            NaN\n",
      "1985-03-31             NaN            NaN\n",
      "1985-04-30             NaN            NaN\n",
      "1985-05-31             NaN            NaN\n",
      "1985-06-30             NaN            NaN\n",
      "...                    ...            ...\n",
      "2020-09-30       -0.176590       0.652793\n",
      "2020-10-31       -0.414508       0.454900\n",
      "2020-11-30       -0.035657       0.701709\n",
      "2020-12-31       -0.142407       0.739108\n",
      "2021-01-31       -0.154402       0.702721\n",
      "\n",
      "[432 rows x 2 columns]\n"
     ]
    },
    {
     "data": {
      "application/vnd.plotly.v1+json": {
       "config": {
        "linkText": "Export to plot.ly",
        "plotlyServerURL": "https://plot.ly",
        "showLink": false
       },
       "data": [
        {
         "line": {
          "color": "blue",
          "dash": "solid",
          "shape": "linear",
          "width": 1.3
         },
         "marker": {
          "size": 3.5,
          "symbol": "circle"
         },
         "mode": "lines+markers",
         "name": "naive_rolling",
         "text": "",
         "type": "scatter",
         "x": [
          "1985-02-28",
          "1985-03-31",
          "1985-04-30",
          "1985-05-31",
          "1985-06-30",
          "1985-07-31",
          "1985-08-31",
          "1985-09-30",
          "1985-10-31",
          "1985-11-30",
          "1985-12-31",
          "1986-01-31",
          "1986-02-28",
          "1986-03-31",
          "1986-04-30",
          "1986-05-31",
          "1986-06-30",
          "1986-07-31",
          "1986-08-31",
          "1986-09-30",
          "1986-10-31",
          "1986-11-30",
          "1986-12-31",
          "1987-01-31",
          "1987-02-28",
          "1987-03-31",
          "1987-04-30",
          "1987-05-31",
          "1987-06-30",
          "1987-07-31",
          "1987-08-31",
          "1987-09-30",
          "1987-10-31",
          "1987-11-30",
          "1987-12-31",
          "1988-01-31",
          "1988-02-29",
          "1988-03-31",
          "1988-04-30",
          "1988-05-31",
          "1988-06-30",
          "1988-07-31",
          "1988-08-31",
          "1988-09-30",
          "1988-10-31",
          "1988-11-30",
          "1988-12-31",
          "1989-01-31",
          "1989-02-28",
          "1989-03-31",
          "1989-04-30",
          "1989-05-31",
          "1989-06-30",
          "1989-07-31",
          "1989-08-31",
          "1989-09-30",
          "1989-10-31",
          "1989-11-30",
          "1989-12-31",
          "1990-01-31",
          "1990-02-28",
          "1990-03-31",
          "1990-04-30",
          "1990-05-31",
          "1990-06-30",
          "1990-07-31",
          "1990-08-31",
          "1990-09-30",
          "1990-10-31",
          "1990-11-30",
          "1990-12-31",
          "1991-01-31",
          "1991-02-28",
          "1991-03-31",
          "1991-04-30",
          "1991-05-31",
          "1991-06-30",
          "1991-07-31",
          "1991-08-31",
          "1991-09-30",
          "1991-10-31",
          "1991-11-30",
          "1991-12-31",
          "1992-01-31",
          "1992-02-29",
          "1992-03-31",
          "1992-04-30",
          "1992-05-31",
          "1992-06-30",
          "1992-07-31",
          "1992-08-31",
          "1992-09-30",
          "1992-10-31",
          "1992-11-30",
          "1992-12-31",
          "1993-01-31",
          "1993-02-28",
          "1993-03-31",
          "1993-04-30",
          "1993-05-31",
          "1993-06-30",
          "1993-07-31",
          "1993-08-31",
          "1993-09-30",
          "1993-10-31",
          "1993-11-30",
          "1993-12-31",
          "1994-01-31",
          "1994-02-28",
          "1994-03-31",
          "1994-04-30",
          "1994-05-31",
          "1994-06-30",
          "1994-07-31",
          "1994-08-31",
          "1994-09-30",
          "1994-10-31",
          "1994-11-30",
          "1994-12-31",
          "1995-01-31",
          "1995-02-28",
          "1995-03-31",
          "1995-04-30",
          "1995-05-31",
          "1995-06-30",
          "1995-07-31",
          "1995-08-31",
          "1995-09-30",
          "1995-10-31",
          "1995-11-30",
          "1995-12-31",
          "1996-01-31",
          "1996-02-29",
          "1996-03-31",
          "1996-04-30",
          "1996-05-31",
          "1996-06-30",
          "1996-07-31",
          "1996-08-31",
          "1996-09-30",
          "1996-10-31",
          "1996-11-30",
          "1996-12-31",
          "1997-01-31",
          "1997-02-28",
          "1997-03-31",
          "1997-04-30",
          "1997-05-31",
          "1997-06-30",
          "1997-07-31",
          "1997-08-31",
          "1997-09-30",
          "1997-10-31",
          "1997-11-30",
          "1997-12-31",
          "1998-01-31",
          "1998-02-28",
          "1998-03-31",
          "1998-04-30",
          "1998-05-31",
          "1998-06-30",
          "1998-07-31",
          "1998-08-31",
          "1998-09-30",
          "1998-10-31",
          "1998-11-30",
          "1998-12-31",
          "1999-01-31",
          "1999-02-28",
          "1999-03-31",
          "1999-04-30",
          "1999-05-31",
          "1999-06-30",
          "1999-07-31",
          "1999-08-31",
          "1999-09-30",
          "1999-10-31",
          "1999-11-30",
          "1999-12-31",
          "2000-01-31",
          "2000-02-29",
          "2000-03-31",
          "2000-04-30",
          "2000-05-31",
          "2000-06-30",
          "2000-07-31",
          "2000-08-31",
          "2000-09-30",
          "2000-10-31",
          "2000-11-30",
          "2000-12-31",
          "2001-01-31",
          "2001-02-28",
          "2001-03-31",
          "2001-04-30",
          "2001-05-31",
          "2001-06-30",
          "2001-07-31",
          "2001-08-31",
          "2001-09-30",
          "2001-10-31",
          "2001-11-30",
          "2001-12-31",
          "2002-01-31",
          "2002-02-28",
          "2002-03-31",
          "2002-04-30",
          "2002-05-31",
          "2002-06-30",
          "2002-07-31",
          "2002-08-31",
          "2002-09-30",
          "2002-10-31",
          "2002-11-30",
          "2002-12-31",
          "2003-01-31",
          "2003-02-28",
          "2003-03-31",
          "2003-04-30",
          "2003-05-31",
          "2003-06-30",
          "2003-07-31",
          "2003-08-31",
          "2003-09-30",
          "2003-10-31",
          "2003-11-30",
          "2003-12-31",
          "2004-01-31",
          "2004-02-29",
          "2004-03-31",
          "2004-04-30",
          "2004-05-31",
          "2004-06-30",
          "2004-07-31",
          "2004-08-31",
          "2004-09-30",
          "2004-10-31",
          "2004-11-30",
          "2004-12-31",
          "2005-01-31",
          "2005-02-28",
          "2005-03-31",
          "2005-04-30",
          "2005-05-31",
          "2005-06-30",
          "2005-07-31",
          "2005-08-31",
          "2005-09-30",
          "2005-10-31",
          "2005-11-30",
          "2005-12-31",
          "2006-01-31",
          "2006-02-28",
          "2006-03-31",
          "2006-04-30",
          "2006-05-31",
          "2006-06-30",
          "2006-07-31",
          "2006-08-31",
          "2006-09-30",
          "2006-10-31",
          "2006-11-30",
          "2006-12-31",
          "2007-01-31",
          "2007-02-28",
          "2007-03-31",
          "2007-04-30",
          "2007-05-31",
          "2007-06-30",
          "2007-07-31",
          "2007-08-31",
          "2007-09-30",
          "2007-10-31",
          "2007-11-30",
          "2007-12-31",
          "2008-01-31",
          "2008-02-29",
          "2008-03-31",
          "2008-04-30",
          "2008-05-31",
          "2008-06-30",
          "2008-07-31",
          "2008-08-31",
          "2008-09-30",
          "2008-10-31",
          "2008-11-30",
          "2008-12-31",
          "2009-01-31",
          "2009-02-28",
          "2009-03-31",
          "2009-04-30",
          "2009-05-31",
          "2009-06-30",
          "2009-07-31",
          "2009-08-31",
          "2009-09-30",
          "2009-10-31",
          "2009-11-30",
          "2009-12-31",
          "2010-01-31",
          "2010-02-28",
          "2010-03-31",
          "2010-04-30",
          "2010-05-31",
          "2010-06-30",
          "2010-07-31",
          "2010-08-31",
          "2010-09-30",
          "2010-10-31",
          "2010-11-30",
          "2010-12-31",
          "2011-01-31",
          "2011-02-28",
          "2011-03-31",
          "2011-04-30",
          "2011-05-31",
          "2011-06-30",
          "2011-07-31",
          "2011-08-31",
          "2011-09-30",
          "2011-10-31",
          "2011-11-30",
          "2011-12-31",
          "2012-01-31",
          "2012-02-29",
          "2012-03-31",
          "2012-04-30",
          "2012-05-31",
          "2012-06-30",
          "2012-07-31",
          "2012-08-31",
          "2012-09-30",
          "2012-10-31",
          "2012-11-30",
          "2012-12-31",
          "2013-01-31",
          "2013-02-28",
          "2013-03-31",
          "2013-04-30",
          "2013-05-31",
          "2013-06-30",
          "2013-07-31",
          "2013-08-31",
          "2013-09-30",
          "2013-10-31",
          "2013-11-30",
          "2013-12-31",
          "2014-01-31",
          "2014-02-28",
          "2014-03-31",
          "2014-04-30",
          "2014-05-31",
          "2014-06-30",
          "2014-07-31",
          "2014-08-31",
          "2014-09-30",
          "2014-10-31",
          "2014-11-30",
          "2014-12-31",
          "2015-01-31",
          "2015-02-28",
          "2015-03-31",
          "2015-04-30",
          "2015-05-31",
          "2015-06-30",
          "2015-07-31",
          "2015-08-31",
          "2015-09-30",
          "2015-10-31",
          "2015-11-30",
          "2015-12-31",
          "2016-01-31",
          "2016-02-29",
          "2016-03-31",
          "2016-04-30",
          "2016-05-31",
          "2016-06-30",
          "2016-07-31",
          "2016-08-31",
          "2016-09-30",
          "2016-10-31",
          "2016-11-30",
          "2016-12-31",
          "2017-01-31",
          "2017-02-28",
          "2017-03-31",
          "2017-04-30",
          "2017-05-31",
          "2017-06-30",
          "2017-07-31",
          "2017-08-31",
          "2017-09-30",
          "2017-10-31",
          "2017-11-30",
          "2017-12-31",
          "2018-01-31",
          "2018-02-28",
          "2018-03-31",
          "2018-04-30",
          "2018-05-31",
          "2018-06-30",
          "2018-07-31",
          "2018-08-31",
          "2018-09-30",
          "2018-10-31",
          "2018-11-30",
          "2018-12-31",
          "2019-01-31",
          "2019-02-28",
          "2019-03-31",
          "2019-04-30",
          "2019-05-31",
          "2019-06-30",
          "2019-07-31",
          "2019-08-31",
          "2019-09-30",
          "2019-10-31",
          "2019-11-30",
          "2019-12-31",
          "2020-01-31",
          "2020-02-29",
          "2020-03-31",
          "2020-04-30",
          "2020-05-31",
          "2020-06-30",
          "2020-07-31",
          "2020-08-31",
          "2020-09-30",
          "2020-10-31",
          "2020-11-30",
          "2020-12-31",
          "2021-01-31"
         ],
         "y": [
          "",
          "",
          "",
          "",
          "",
          "",
          "",
          "",
          "",
          "",
          "",
          0.5711835870063433,
          0.9599800077643678,
          1.3704497587247486,
          1.2784826991779312,
          1.259847098259035,
          1.292551417645641,
          0.7853911113148879,
          1.2481596697298298,
          0.8208366058492276,
          0.876280616591136,
          0.6844005103535513,
          0.24259963367231988,
          0.7059759830802345,
          0.583757745564557,
          0.4935767658471396,
          0.5075475140939458,
          0.3412835896870237,
          0.4767000919935071,
          0.9354065942506163,
          0.8047101497945967,
          1.187027265021044,
          -0.08544042434485807,
          -0.41348078912790953,
          0.12977623773224695,
          -0.246569007959337,
          -0.19390507776864088,
          -0.40823922742766827,
          -0.3307117886220215,
          -0.34386310958996685,
          -0.3654487883509892,
          -0.5726468696939515,
          -0.8601838944802808,
          -0.6157604150103742,
          0.5555297873271954,
          1.2848221875054868,
          0.7153921390388284,
          0.9450999333217391,
          0.3217632082771775,
          0.7382179444357706,
          1.0038746020672011,
          1.2257043575326825,
          0.800856385493042,
          1.290394031528903,
          1.783241985730196,
          1.410743053967895,
          0.9973477911127527,
          1.2673247808182495,
          1.2213453895897044,
          0.2743828931158945,
          0.5699342388121964,
          0.6371924910170869,
          0.04977096950622075,
          0.417701886682403,
          0.42054802984222667,
          -0.2421332533842593,
          -0.8981503642436313,
          -1.134057986604492,
          -1.009529012437185,
          -0.6707324111557122,
          -0.5674164095222809,
          0.08142957120419231,
          0.3874382872114186,
          0.3875220088798812,
          0.5448133200703823,
          0.2960318205225125,
          0.07643126743255885,
          0.35569371023941204,
          1.241416974499871,
          1.668843669957984,
          1.8472233953595785,
          0.9855516059748153,
          1.445450336625336,
          1.0557670166226323,
          0.7345963678638819,
          0.4257433924585183,
          0.6260115234781203,
          0.38857974105139703,
          0.6585649600843206,
          0.6379532759184143,
          0.3066567232522978,
          0.5474801390893579,
          0.49036144673449783,
          1.1740473408052472,
          0.6275670072683985,
          0.8371757155941089,
          0.8576942521679588,
          1.5529874250512872,
          0.7734139381247528,
          1.0483896423496477,
          1.4216600990459107,
          0.91866643575674,
          1.9965290811245153,
          1.507203946855665,
          1.7325607927110829,
          1.057313000349634,
          0.9950434475265592,
          1.30340761218804,
          0.6530959533535279,
          -0.13662410072169118,
          0.24400210412036236,
          0.1285337613734995,
          -0.15463720609669784,
          0.2007135090683019,
          0.2155625016337618,
          0.049855226963602235,
          0.04966792726343374,
          -0.1885663848244622,
          -0.21986830285840184,
          -0.3005992184552279,
          0.253058861175293,
          1.0217495874616271,
          1.1434606056231251,
          1.3135013376986158,
          1.9727167519623083,
          1.9585138906599686,
          1.569732434775487,
          2.6568066822642264,
          2.230178644381042,
          4.497914358988131,
          4.860150793453622,
          4.82578766701412,
          4.241489300977805,
          3.7281995511493586,
          3.5211071102206306,
          3.4538708826681774,
          2.965154553313811,
          1.2370212767252853,
          1.4756993130495102,
          1.5458245630182819,
          1.9142068315892833,
          1.9471550326998426,
          1.4038258365082537,
          1.5146838941458134,
          1.5022881119575497,
          0.9650453645712253,
          1.2204710322053287,
          1.4026295266130901,
          1.6796521190848315,
          2.6490007335093524,
          1.779853624825851,
          1.7755124066537529,
          1.3338235912920824,
          1.2171319779346772,
          1.4988321389479078,
          1.2270797231986734,
          1.5601801293464839,
          2.3948022210014552,
          2.0845231839116187,
          1.5173384937420706,
          1.4980295560279984,
          0.9638817164408106,
          0.19381590200872892,
          0.23879449490264304,
          0.7845769202956134,
          0.8472795652680931,
          1.058136974913321,
          1.195477250166821,
          0.7159179895640794,
          0.6569675303983057,
          0.786287541840238,
          0.755026395912971,
          0.8140508521730245,
          0.7101273233854265,
          2.15424198015468,
          1.426091412151014,
          1.3725803384865605,
          1.1377855509053327,
          1.1450016591918146,
          0.38304665006735417,
          0.4754666169872025,
          0.7893384929309876,
          0.34632288024607016,
          0.35898855577254823,
          0.18143536470558655,
          0.2808733504358364,
          0.6760851625628604,
          0.4849982414334193,
          0.07843652656589127,
          -0.49178530049600916,
          -0.8234595195025421,
          -0.3221176275945027,
          -0.6603740170268647,
          -1.7520545157346823,
          -0.9272642903773088,
          -0.7758098716013065,
          -1.0398276539710276,
          -1.003193336711259,
          -1.7624003494526537,
          -1.8357605173585059,
          -1.6371548299256549,
          -0.7523138569333547,
          -0.7180206915544816,
          -0.9720337901323278,
          -0.6603325020310571,
          -0.0836221206772861,
          -0.9655139707775234,
          -1.0499253357512275,
          -1.2529302529096744,
          -1.5547126256025652,
          -1.1833731325001255,
          -1.2425219043453437,
          -0.7471294158853956,
          -0.8390956487816741,
          -1.1522156474838552,
          -1.1987470473949473,
          -1.1768483923066808,
          -1.349923844150629,
          -0.5835080773958201,
          -0.3061740917324159,
          0.05127820487143453,
          0.5143813071154327,
          0.5786408389274011,
          1.3482483753315744,
          1.254041389100374,
          0.9562800087101576,
          2.142820026456568,
          2.758381580999724,
          3.2944976199723017,
          2.8017954046881,
          2.230108832615857,
          1.9874329813258305,
          2.07573058710769,
          1.2737345644078302,
          1.104957727873793,
          1.3865810976593542,
          1.1390619571690133,
          1.4344339005271418,
          1.3013226239163604,
          0.6812775227146783,
          0.7554331855545875,
          0.6842848856670323,
          0.6180966628678276,
          0.7936616092427916,
          0.5439905391249311,
          1.4681576321607424,
          1.2296532278835615,
          1.1582972607064288,
          0.7268910064998394,
          0.689017017882483,
          0.2871400535183814,
          0.886985515473404,
          0.6391239514727222,
          1.091475138764356,
          1.6391824704188067,
          0.6191626290726082,
          0.589283878691788,
          0.18167823741108766,
          0.6629135879665766,
          0.9040650483697797,
          1.5836086929136768,
          1.4035046876665442,
          1.67135749836274,
          1.5463170120867036,
          1.0157820346169975,
          0.9845686375229167,
          1.248206494569543,
          2.4897402531580375,
          1.9575252032512738,
          1.2336113156606177,
          1.1407082466721967,
          1.2536242728199245,
          1.1136251600716318,
          0.32019465012533393,
          0.11026869133910899,
          -0.5517419512287156,
          -0.630951779973244,
          -0.7519998481022283,
          -0.6603580160897795,
          -0.8649156368957146,
          -1.1716772377505016,
          -0.9945661185433153,
          -0.974270535252386,
          -1.6880727130298177,
          -2.173640553532395,
          -2.272345695197516,
          -2.159759810450487,
          -2.2214714310525103,
          -2.4469066451464667,
          -1.7825550206784953,
          -1.444536345390811,
          -1.2315807758584738,
          -0.9521091687391184,
          -0.6054090312619314,
          -0.524165188338432,
          -0.10719972685852745,
          0.5060113975470886,
          1.13321495469649,
          1.1869793106957107,
          1.5228762438572505,
          3.1442557798917137,
          3.1060066999483205,
          2.968200960112163,
          1.3239502909801844,
          0.8729105781328494,
          0.8502591362408907,
          0.34676486342986873,
          0.5909726923536783,
          0.8872826483761754,
          0.5915638764524052,
          0.8255825079458453,
          1.161829109695289,
          1.1771004858992278,
          0.871977715083707,
          0.943349598289441,
          1.5546766403262506,
          1.999109562275185,
          1.418954493157023,
          1.3008349190791408,
          0.1286547669028613,
          0.5062311960852407,
          0.49332075019353394,
          0.18009547709129822,
          0.306378070693863,
          0.35458482674557923,
          0.5373426250629146,
          0.33622485252428247,
          0.05172771912548357,
          0.3575280871607869,
          0.5472814065919956,
          1.0343509711168135,
          1.9380272008452515,
          1.401876013969281,
          1.4902082888349968,
          1.4626805982845485,
          1.4911200622289427,
          1.2732085935302517,
          1.3035320745096082,
          1.5615953404260314,
          3.832998556022268,
          2.6470758263092145,
          2.759737374036913,
          1.8447147983157766,
          1.8928075778694238,
          2.5584866340496837,
          2.8472889206931127,
          3.11961660600401,
          2.0319869155656525,
          2.266785612335569,
          1.9860551464006506,
          1.8705139614508715,
          1.8711351681926767,
          2.371692732471839,
          1.7833539026464484,
          2.8620657271718812,
          2.0956569599833426,
          2.01131476073101,
          1.9860200624967723,
          1.5920068026130851,
          1.702311985161611,
          1.7167568881727222,
          1.3365225629120947,
          1.366447543944301,
          1.2645832133948232,
          0.7775822232044225,
          1.142025056194726,
          0.08324430550739227,
          -0.01675127822065028,
          0.4095028172643816,
          0.24633486163663232,
          0.1482047670286403,
          0.010522220576168475,
          -0.42479158681939583,
          0.17000409283367793,
          0.13271142384247422,
          0.1657873515173574,
          0.3132233567618892,
          0.4138904545354884,
          0.9336544302177394,
          1.179787019901826,
          0.46975646990666453,
          0.7786152205520365,
          1.1740252930394854,
          2.3543282771739866,
          2.8418914176610595,
          2.4103461565401854,
          2.4984403462238394,
          2.437037932737205,
          2.526216387363055,
          2.4951270557862046,
          2.5193127530794714,
          2.9967511633510817,
          4.382598348847654,
          4.495819250295152,
          4.200486593306953,
          3.5746261669781774,
          1.8527261046963246,
          1.356055324100092,
          1.2738523154412673,
          1.3617860119689134,
          1.34927896044414,
          1.4606108595440588,
          1.7393688211155016,
          1.568920608770234,
          0.48771387271731875,
          0.40312910327003765,
          -0.3338170113501982,
          -0.17943705592199044,
          0.2245077576177862,
          0.4916101318715881,
          0.7010315433433464,
          0.16187567525910346,
          0.48024754797555,
          0.3679988273207453,
          0.11446846179649198,
          0.1801237497254437,
          0.716088235844775,
          0.8032724234575181,
          2.0088714429153915,
          1.6108593205997042,
          0.4605714861946134,
          -0.3629530717773463,
          0.06837674222085373,
          0.5592779141104206,
          0.36039035667130703,
          0.540325090399895,
          0.9123800431302249,
          0.6527933225516225,
          0.45489951641239224,
          0.701708620169082,
          0.7391083836343751,
          0.702720903605846
         ]
        },
        {
         "line": {
          "color": "red",
          "dash": "solid",
          "shape": "linear",
          "width": 1.3
         },
         "marker": {
          "size": 3.5,
          "symbol": "diamond"
         },
         "mode": "lines+markers",
         "name": "louise_rolling",
         "text": "",
         "type": "scatter",
         "x": [
          "1985-02-28",
          "1985-03-31",
          "1985-04-30",
          "1985-05-31",
          "1985-06-30",
          "1985-07-31",
          "1985-08-31",
          "1985-09-30",
          "1985-10-31",
          "1985-11-30",
          "1985-12-31",
          "1986-01-31",
          "1986-02-28",
          "1986-03-31",
          "1986-04-30",
          "1986-05-31",
          "1986-06-30",
          "1986-07-31",
          "1986-08-31",
          "1986-09-30",
          "1986-10-31",
          "1986-11-30",
          "1986-12-31",
          "1987-01-31",
          "1987-02-28",
          "1987-03-31",
          "1987-04-30",
          "1987-05-31",
          "1987-06-30",
          "1987-07-31",
          "1987-08-31",
          "1987-09-30",
          "1987-10-31",
          "1987-11-30",
          "1987-12-31",
          "1988-01-31",
          "1988-02-29",
          "1988-03-31",
          "1988-04-30",
          "1988-05-31",
          "1988-06-30",
          "1988-07-31",
          "1988-08-31",
          "1988-09-30",
          "1988-10-31",
          "1988-11-30",
          "1988-12-31",
          "1989-01-31",
          "1989-02-28",
          "1989-03-31",
          "1989-04-30",
          "1989-05-31",
          "1989-06-30",
          "1989-07-31",
          "1989-08-31",
          "1989-09-30",
          "1989-10-31",
          "1989-11-30",
          "1989-12-31",
          "1990-01-31",
          "1990-02-28",
          "1990-03-31",
          "1990-04-30",
          "1990-05-31",
          "1990-06-30",
          "1990-07-31",
          "1990-08-31",
          "1990-09-30",
          "1990-10-31",
          "1990-11-30",
          "1990-12-31",
          "1991-01-31",
          "1991-02-28",
          "1991-03-31",
          "1991-04-30",
          "1991-05-31",
          "1991-06-30",
          "1991-07-31",
          "1991-08-31",
          "1991-09-30",
          "1991-10-31",
          "1991-11-30",
          "1991-12-31",
          "1992-01-31",
          "1992-02-29",
          "1992-03-31",
          "1992-04-30",
          "1992-05-31",
          "1992-06-30",
          "1992-07-31",
          "1992-08-31",
          "1992-09-30",
          "1992-10-31",
          "1992-11-30",
          "1992-12-31",
          "1993-01-31",
          "1993-02-28",
          "1993-03-31",
          "1993-04-30",
          "1993-05-31",
          "1993-06-30",
          "1993-07-31",
          "1993-08-31",
          "1993-09-30",
          "1993-10-31",
          "1993-11-30",
          "1993-12-31",
          "1994-01-31",
          "1994-02-28",
          "1994-03-31",
          "1994-04-30",
          "1994-05-31",
          "1994-06-30",
          "1994-07-31",
          "1994-08-31",
          "1994-09-30",
          "1994-10-31",
          "1994-11-30",
          "1994-12-31",
          "1995-01-31",
          "1995-02-28",
          "1995-03-31",
          "1995-04-30",
          "1995-05-31",
          "1995-06-30",
          "1995-07-31",
          "1995-08-31",
          "1995-09-30",
          "1995-10-31",
          "1995-11-30",
          "1995-12-31",
          "1996-01-31",
          "1996-02-29",
          "1996-03-31",
          "1996-04-30",
          "1996-05-31",
          "1996-06-30",
          "1996-07-31",
          "1996-08-31",
          "1996-09-30",
          "1996-10-31",
          "1996-11-30",
          "1996-12-31",
          "1997-01-31",
          "1997-02-28",
          "1997-03-31",
          "1997-04-30",
          "1997-05-31",
          "1997-06-30",
          "1997-07-31",
          "1997-08-31",
          "1997-09-30",
          "1997-10-31",
          "1997-11-30",
          "1997-12-31",
          "1998-01-31",
          "1998-02-28",
          "1998-03-31",
          "1998-04-30",
          "1998-05-31",
          "1998-06-30",
          "1998-07-31",
          "1998-08-31",
          "1998-09-30",
          "1998-10-31",
          "1998-11-30",
          "1998-12-31",
          "1999-01-31",
          "1999-02-28",
          "1999-03-31",
          "1999-04-30",
          "1999-05-31",
          "1999-06-30",
          "1999-07-31",
          "1999-08-31",
          "1999-09-30",
          "1999-10-31",
          "1999-11-30",
          "1999-12-31",
          "2000-01-31",
          "2000-02-29",
          "2000-03-31",
          "2000-04-30",
          "2000-05-31",
          "2000-06-30",
          "2000-07-31",
          "2000-08-31",
          "2000-09-30",
          "2000-10-31",
          "2000-11-30",
          "2000-12-31",
          "2001-01-31",
          "2001-02-28",
          "2001-03-31",
          "2001-04-30",
          "2001-05-31",
          "2001-06-30",
          "2001-07-31",
          "2001-08-31",
          "2001-09-30",
          "2001-10-31",
          "2001-11-30",
          "2001-12-31",
          "2002-01-31",
          "2002-02-28",
          "2002-03-31",
          "2002-04-30",
          "2002-05-31",
          "2002-06-30",
          "2002-07-31",
          "2002-08-31",
          "2002-09-30",
          "2002-10-31",
          "2002-11-30",
          "2002-12-31",
          "2003-01-31",
          "2003-02-28",
          "2003-03-31",
          "2003-04-30",
          "2003-05-31",
          "2003-06-30",
          "2003-07-31",
          "2003-08-31",
          "2003-09-30",
          "2003-10-31",
          "2003-11-30",
          "2003-12-31",
          "2004-01-31",
          "2004-02-29",
          "2004-03-31",
          "2004-04-30",
          "2004-05-31",
          "2004-06-30",
          "2004-07-31",
          "2004-08-31",
          "2004-09-30",
          "2004-10-31",
          "2004-11-30",
          "2004-12-31",
          "2005-01-31",
          "2005-02-28",
          "2005-03-31",
          "2005-04-30",
          "2005-05-31",
          "2005-06-30",
          "2005-07-31",
          "2005-08-31",
          "2005-09-30",
          "2005-10-31",
          "2005-11-30",
          "2005-12-31",
          "2006-01-31",
          "2006-02-28",
          "2006-03-31",
          "2006-04-30",
          "2006-05-31",
          "2006-06-30",
          "2006-07-31",
          "2006-08-31",
          "2006-09-30",
          "2006-10-31",
          "2006-11-30",
          "2006-12-31",
          "2007-01-31",
          "2007-02-28",
          "2007-03-31",
          "2007-04-30",
          "2007-05-31",
          "2007-06-30",
          "2007-07-31",
          "2007-08-31",
          "2007-09-30",
          "2007-10-31",
          "2007-11-30",
          "2007-12-31",
          "2008-01-31",
          "2008-02-29",
          "2008-03-31",
          "2008-04-30",
          "2008-05-31",
          "2008-06-30",
          "2008-07-31",
          "2008-08-31",
          "2008-09-30",
          "2008-10-31",
          "2008-11-30",
          "2008-12-31",
          "2009-01-31",
          "2009-02-28",
          "2009-03-31",
          "2009-04-30",
          "2009-05-31",
          "2009-06-30",
          "2009-07-31",
          "2009-08-31",
          "2009-09-30",
          "2009-10-31",
          "2009-11-30",
          "2009-12-31",
          "2010-01-31",
          "2010-02-28",
          "2010-03-31",
          "2010-04-30",
          "2010-05-31",
          "2010-06-30",
          "2010-07-31",
          "2010-08-31",
          "2010-09-30",
          "2010-10-31",
          "2010-11-30",
          "2010-12-31",
          "2011-01-31",
          "2011-02-28",
          "2011-03-31",
          "2011-04-30",
          "2011-05-31",
          "2011-06-30",
          "2011-07-31",
          "2011-08-31",
          "2011-09-30",
          "2011-10-31",
          "2011-11-30",
          "2011-12-31",
          "2012-01-31",
          "2012-02-29",
          "2012-03-31",
          "2012-04-30",
          "2012-05-31",
          "2012-06-30",
          "2012-07-31",
          "2012-08-31",
          "2012-09-30",
          "2012-10-31",
          "2012-11-30",
          "2012-12-31",
          "2013-01-31",
          "2013-02-28",
          "2013-03-31",
          "2013-04-30",
          "2013-05-31",
          "2013-06-30",
          "2013-07-31",
          "2013-08-31",
          "2013-09-30",
          "2013-10-31",
          "2013-11-30",
          "2013-12-31",
          "2014-01-31",
          "2014-02-28",
          "2014-03-31",
          "2014-04-30",
          "2014-05-31",
          "2014-06-30",
          "2014-07-31",
          "2014-08-31",
          "2014-09-30",
          "2014-10-31",
          "2014-11-30",
          "2014-12-31",
          "2015-01-31",
          "2015-02-28",
          "2015-03-31",
          "2015-04-30",
          "2015-05-31",
          "2015-06-30",
          "2015-07-31",
          "2015-08-31",
          "2015-09-30",
          "2015-10-31",
          "2015-11-30",
          "2015-12-31",
          "2016-01-31",
          "2016-02-29",
          "2016-03-31",
          "2016-04-30",
          "2016-05-31",
          "2016-06-30",
          "2016-07-31",
          "2016-08-31",
          "2016-09-30",
          "2016-10-31",
          "2016-11-30",
          "2016-12-31",
          "2017-01-31",
          "2017-02-28",
          "2017-03-31",
          "2017-04-30",
          "2017-05-31",
          "2017-06-30",
          "2017-07-31",
          "2017-08-31",
          "2017-09-30",
          "2017-10-31",
          "2017-11-30",
          "2017-12-31",
          "2018-01-31",
          "2018-02-28",
          "2018-03-31",
          "2018-04-30",
          "2018-05-31",
          "2018-06-30",
          "2018-07-31",
          "2018-08-31",
          "2018-09-30",
          "2018-10-31",
          "2018-11-30",
          "2018-12-31",
          "2019-01-31",
          "2019-02-28",
          "2019-03-31",
          "2019-04-30",
          "2019-05-31",
          "2019-06-30",
          "2019-07-31",
          "2019-08-31",
          "2019-09-30",
          "2019-10-31",
          "2019-11-30",
          "2019-12-31",
          "2020-01-31",
          "2020-02-29",
          "2020-03-31",
          "2020-04-30",
          "2020-05-31",
          "2020-06-30",
          "2020-07-31",
          "2020-08-31",
          "2020-09-30",
          "2020-10-31",
          "2020-11-30",
          "2020-12-31",
          "2021-01-31"
         ],
         "y": [
          "",
          "",
          "",
          "",
          "",
          "",
          "",
          "",
          "",
          "",
          "",
          0.012864783303265707,
          0.612082191566366,
          1.1141032727427043,
          0.9844419919990449,
          0.9640186682870703,
          1.0139053935641735,
          0.42066651254416687,
          0.9664036101680764,
          0.5146693461106748,
          0.8316784840654737,
          0.9530352000601233,
          0.23612499820286242,
          0.7032292866508482,
          0.5819541777111886,
          0.4904219218303283,
          0.5065506562131356,
          0.33828632368391204,
          0.4768055788196557,
          0.9365550581323921,
          0.8079057714215322,
          1.192154824260823,
          -0.08144557020805916,
          -0.41594153746110335,
          -0.06302592722418646,
          -0.6317313307620034,
          -0.7844248712422787,
          -1.0287487762205503,
          -0.9349637487306076,
          -0.9457092356995838,
          -0.9791140957102041,
          -1.2416300695028721,
          -1.6021540535665506,
          -1.2885057515695162,
          -0.7796981726577124,
          -0.04079281679624856,
          -0.2110218711998227,
          0.5691485589224079,
          0.29053318975419484,
          0.7381825445631519,
          1.0119135007933575,
          1.2459110734718148,
          0.7954808322984896,
          1.292382366825015,
          1.7967777483256053,
          1.4020237689271364,
          1.176575461661518,
          1.2791738016611833,
          1.396616397724055,
          0.9408006875788116,
          1.339156724056458,
          1.425017040473178,
          0.7430918268330747,
          1.0133993593304615,
          1.0199010475067443,
          0.4214308386321229,
          -0.43702010591058144,
          -0.3238629194869456,
          -0.15617962552887796,
          -0.2521618977380808,
          -0.2521618977380808,
          -0.2521618977380808,
          0.14439623307306088,
          0.13763333407366496,
          0.32436247924462847,
          -0.016289107812714802,
          -0.27338580724114814,
          0.08863673350212416,
          1.2247336360862897,
          0.924468495853119,
          1.0500096948314668,
          0.5849481122519632,
          1.0929096524710202,
          1.0423681681178905,
          0.7184276824939136,
          0.4183424337614643,
          0.6109111714415545,
          0.3744303955686136,
          0.6510232596623523,
          0.6254683656186875,
          0.2919164856266754,
          0.5325034577923178,
          0.476004261321246,
          1.1624342108990935,
          0.6176731337616043,
          0.8276812943806946,
          0.8544075744523094,
          1.5412986817819692,
          0.7620888715375681,
          1.0409522335895394,
          1.4091614552503398,
          0.9035376358322883,
          1.9961905901210213,
          1.5092570577104425,
          1.736394027914599,
          1.0659832371583051,
          0.9911018719642657,
          1.3077386703931626,
          0.6507974879896279,
          -0.13498146804652644,
          0.24797605266233397,
          -0.003916781896902817,
          0.04773745463113785,
          0.4146264765608055,
          0.4359649766468545,
          0.24703226947890813,
          0.25134473603903673,
          -0.016172973018111797,
          -0.0410127321118051,
          -0.1242693670648288,
          0.4611089711382837,
          1.3528465368563087,
          1.478842159755327,
          1.8185548170675296,
          1.9849327403116495,
          1.97119866264658,
          1.5801887066871099,
          2.6688504221447227,
          2.2473776021337173,
          4.562181751195785,
          4.9282091432087105,
          4.896177908512539,
          4.2849199631192025,
          3.753610531404628,
          3.561792554653907,
          3.496415951439263,
          3.001053525890342,
          1.253218158099332,
          1.4878671400463002,
          1.5601921556149398,
          1.923718565645778,
          1.955957226452695,
          1.408863017264405,
          1.5222507879812395,
          1.5078522714346618,
          0.9720470186937064,
          1.2231480655371634,
          1.410586022883894,
          1.683837489718485,
          2.648708869365023,
          1.779551238417259,
          1.7752301091231923,
          1.333084908861174,
          1.2153362221048636,
          1.4985206046754405,
          1.2240062527403386,
          1.559855990310253,
          2.3875922192503714,
          2.081387785707884,
          1.509804803769787,
          1.497581959033415,
          0.9612674006649861,
          0.19512834614678512,
          0.24013655649727483,
          0.4246562833537376,
          0.21477646707308984,
          0.44410868791036745,
          0.5920577214315842,
          0.08204186338423686,
          0.015218685098601938,
          0.1576308607478631,
          0.12691266388308353,
          0.19958285736909454,
          0.0965143542816284,
          1.3422481224124896,
          0.5833246070691026,
          0.5833246070691026,
          0.5833246070691026,
          0.19544065262352353,
          -0.669722574336033,
          -0.5787728660002569,
          -0.009566169118865788,
          -0.27998101713539497,
          -0.07774753252873298,
          -0.487990588023056,
          -0.22890269001787358,
          -0.1546377590718226,
          0.14312956194175186,
          0.14312956194175186,
          0.14312956194175186,
          0.14312956194175186,
          0.7070994040436593,
          0.9999999999999973,
          -0.9999999999999962,
          0.05990534367755536,
          0.05990534367755536,
          0.05990534367755536,
          -0.035805760849917885,
          -0.5489491191352962,
          -0.5489491191352962,
          -0.5489491191352962,
          -0.5489491191352962,
          -0.5489491191352962,
          -0.6488895878431934,
          -0.8095424737033907,
          0.001256629425686097,
          -0.9716030394756018,
          -0.9716030394756018,
          -0.9716030394756018,
          -0.838326054098643,
          -0.0032197133500184885,
          -0.0032197133500184885,
          -0.0032197133500184885,
          -0.0032197133500184885,
          -0.0032197133500184885,
          -0.2086479936505146,
          -0.11622335561655282,
          -1.460903059294763,
          -1.460903059294763,
          -1.460903059294763,
          -1.0488998246925099,
          -0.28514204484871863,
          0.19961197053890828,
          -0.1584704435970904,
          0.7038678725590006,
          0.8108961138745981,
          1.2596190255902264,
          1.9286226325883133,
          2.508402047731582,
          2.0540694110290767,
          1.8063231079124358,
          1.9885163879141265,
          1.8620564692373947,
          1.6110697738878532,
          1.4210701223026194,
          1.7664377474309672,
          1.6378329798762443,
          1.9173096191857373,
          1.8704670018968808,
          1.0693837551675358,
          1.1500688754659227,
          1.0562476308259525,
          0.9703667623478541,
          1.1543625648651852,
          1.1543625648651852,
          1.1543625648651852,
          1.110067625887735,
          1.0261744412973146,
          0.7797227737177409,
          0.25059492355130447,
          -0.20149120322330089,
          0.1787023397317618,
          -0.25169787487825707,
          0.3444826696600498,
          1.3773605272771041,
          -0.5151997468085938,
          -0.7052939972919193,
          -0.5218347650409164,
          -0.0022904320127894845,
          0.3635003999621268,
          0.8868570772166936,
          1.1340753938088644,
          1.2241077252129686,
          1.4943934602299638,
          0.9428919238762707,
          0.9940443054147433,
          1.2583666666824542,
          2.47007277284229,
          1.9482222895782373,
          1.2292819798444863,
          1.136941149566506,
          0.934655249124265,
          0.5720601400269936,
          -0.1716492675548809,
          -0.3962206478730352,
          -1.0628345257456395,
          -0.837502329527148,
          -0.8706134945369339,
          -1.549751264499802,
          -2.1951822187491787,
          -1.860004390224564,
          -1.578602072963174,
          -1.5371474619161072,
          -1.5371474619161072,
          -1.5371474619161072,
          -1.0803211704753821,
          -0.8327147659648154,
          0.5243925692913233,
          0.5243925692913233,
          0.5243925692913233,
          0.5243925692913233,
          0.5243925692913233,
          0.3033825239959298,
          1.118505375236286,
          1.3228508412293225,
          1.6540393293028295,
          1.4462029680848685,
          1.874141358193439,
          2.0289117309859668,
          1.5828171787423189,
          1.8644060907813356,
          2.276034735871732,
          2.5007539987201306,
          1.3240299504615323,
          0.8725345786601877,
          0.8498813055295438,
          0.641007600973018,
          0.4514676948340898,
          0.5409437961603448,
          0.18206929176328773,
          0.4717628126269197,
          0.8487432584647625,
          0.8661011058344407,
          0.5119517606694621,
          0.5960395441702191,
          1.300255438094027,
          1.8821662086503517,
          1.2142137815798406,
          1.2142137815798406,
          1.2142137815798406,
          1.2142137815798406,
          1.2142137815798406,
          0.6697138514522749,
          0.258755530491168,
          -0.40955763361840175,
          0.2474057131737242,
          -0.533148129624019,
          -0.990286101232408,
          -0.17417877754988126,
          0.02510704310583426,
          0.02510704310583426,
          0.27808664397835914,
          0.10532887201711998,
          0.1711638864823982,
          0.19561463878709748,
          0.7427829306611772,
          0.8753236618658746,
          0.9078960571930165,
          1.1549680718899162,
          2.9310802439410772,
          2.008910845015359,
          2.429207048980763,
          1.8446534354764972,
          1.8927556748736925,
          2.558612728981176,
          2.84749246774654,
          3.119929316873302,
          2.031986915565645,
          2.26678561233556,
          1.9860551464006433,
          1.8705139614508646,
          1.8711351681926698,
          2.3716927324718293,
          1.7833539026464396,
          2.862065727171866,
          2.0956569599833323,
          2.0113147607309982,
          1.9860200624967603,
          1.5920068026130754,
          1.7023119851616002,
          1.716756888172713,
          1.6606626193296967,
          1.5122311882184065,
          1.2506441220293119,
          1.062077734586883,
          1.4772986758076805,
          0.2525371528629596,
          0.14135994706067595,
          0.5519272196169446,
          0.3619039088177686,
          0.42152433903300296,
          0.622150235531404,
          0.20607510833844261,
          0.20607510833844261,
          0.20607510833844261,
          0.20607510833844261,
          0.1866454796355212,
          0.31024293585246265,
          0.967429400536474,
          1.3060396878435687,
          0.4734708011892295,
          0.4734708011892295,
          0.4734708011892295,
          0.4734708011892295,
          1.0329571436634737,
          0.9601273779896947,
          1.1916406317770893,
          1.4148639293690501,
          1.486621879264273,
          1.4089281525412798,
          1.4345522960854529,
          1.839427761350141,
          2.8283435950313804,
          3.3382809244849505,
          3.556909797012234,
          3.581923921443876,
          1.85876922597404,
          1.365118302415469,
          1.2831227705285322,
          1.1312540579769856,
          1.1163765673434065,
          1.2334823715856995,
          1.503488316556808,
          1.3395608976338012,
          0.3168041327347962,
          0.2287705201667349,
          -0.47910970984415235,
          -0.31156644490669944,
          0.09407980388958836,
          0.3592380853461394,
          0.5713776180625976,
          0.16447494767246756,
          0.48280181652529836,
          0.3700117311249739,
          0.11458057453702625,
          0.18187212379018927,
          0.7139667775376813,
          0.8002153296609307,
          2.004260341123592,
          1.6051028419652162,
          0.4565487327179302,
          -0.3665566803471855,
          -0.6095987471933512,
          -0.2822365298423077,
          -0.6846091919990142,
          -0.39239529745462015,
          0.10706684796022096,
          -0.1765895334662083,
          -0.4145082611997381,
          -0.035656676594919806,
          -0.14240686593012186,
          -0.15440160770046743
         ]
        }
       ],
       "layout": {
        "legend": {
         "bgcolor": "#F5F6F9",
         "font": {
          "color": "#4D5663"
         }
        },
        "paper_bgcolor": "#F5F6F9",
        "plot_bgcolor": "#F5F6F9",
        "template": {
         "data": {
          "bar": [
           {
            "error_x": {
             "color": "#2a3f5f"
            },
            "error_y": {
             "color": "#2a3f5f"
            },
            "marker": {
             "line": {
              "color": "#E5ECF6",
              "width": 0.5
             }
            },
            "type": "bar"
           }
          ],
          "barpolar": [
           {
            "marker": {
             "line": {
              "color": "#E5ECF6",
              "width": 0.5
             }
            },
            "type": "barpolar"
           }
          ],
          "carpet": [
           {
            "aaxis": {
             "endlinecolor": "#2a3f5f",
             "gridcolor": "white",
             "linecolor": "white",
             "minorgridcolor": "white",
             "startlinecolor": "#2a3f5f"
            },
            "baxis": {
             "endlinecolor": "#2a3f5f",
             "gridcolor": "white",
             "linecolor": "white",
             "minorgridcolor": "white",
             "startlinecolor": "#2a3f5f"
            },
            "type": "carpet"
           }
          ],
          "choropleth": [
           {
            "colorbar": {
             "outlinewidth": 0,
             "ticks": ""
            },
            "type": "choropleth"
           }
          ],
          "contour": [
           {
            "colorbar": {
             "outlinewidth": 0,
             "ticks": ""
            },
            "colorscale": [
             [
              0,
              "#0d0887"
             ],
             [
              0.1111111111111111,
              "#46039f"
             ],
             [
              0.2222222222222222,
              "#7201a8"
             ],
             [
              0.3333333333333333,
              "#9c179e"
             ],
             [
              0.4444444444444444,
              "#bd3786"
             ],
             [
              0.5555555555555556,
              "#d8576b"
             ],
             [
              0.6666666666666666,
              "#ed7953"
             ],
             [
              0.7777777777777778,
              "#fb9f3a"
             ],
             [
              0.8888888888888888,
              "#fdca26"
             ],
             [
              1,
              "#f0f921"
             ]
            ],
            "type": "contour"
           }
          ],
          "contourcarpet": [
           {
            "colorbar": {
             "outlinewidth": 0,
             "ticks": ""
            },
            "type": "contourcarpet"
           }
          ],
          "heatmap": [
           {
            "colorbar": {
             "outlinewidth": 0,
             "ticks": ""
            },
            "colorscale": [
             [
              0,
              "#0d0887"
             ],
             [
              0.1111111111111111,
              "#46039f"
             ],
             [
              0.2222222222222222,
              "#7201a8"
             ],
             [
              0.3333333333333333,
              "#9c179e"
             ],
             [
              0.4444444444444444,
              "#bd3786"
             ],
             [
              0.5555555555555556,
              "#d8576b"
             ],
             [
              0.6666666666666666,
              "#ed7953"
             ],
             [
              0.7777777777777778,
              "#fb9f3a"
             ],
             [
              0.8888888888888888,
              "#fdca26"
             ],
             [
              1,
              "#f0f921"
             ]
            ],
            "type": "heatmap"
           }
          ],
          "heatmapgl": [
           {
            "colorbar": {
             "outlinewidth": 0,
             "ticks": ""
            },
            "colorscale": [
             [
              0,
              "#0d0887"
             ],
             [
              0.1111111111111111,
              "#46039f"
             ],
             [
              0.2222222222222222,
              "#7201a8"
             ],
             [
              0.3333333333333333,
              "#9c179e"
             ],
             [
              0.4444444444444444,
              "#bd3786"
             ],
             [
              0.5555555555555556,
              "#d8576b"
             ],
             [
              0.6666666666666666,
              "#ed7953"
             ],
             [
              0.7777777777777778,
              "#fb9f3a"
             ],
             [
              0.8888888888888888,
              "#fdca26"
             ],
             [
              1,
              "#f0f921"
             ]
            ],
            "type": "heatmapgl"
           }
          ],
          "histogram": [
           {
            "marker": {
             "colorbar": {
              "outlinewidth": 0,
              "ticks": ""
             }
            },
            "type": "histogram"
           }
          ],
          "histogram2d": [
           {
            "colorbar": {
             "outlinewidth": 0,
             "ticks": ""
            },
            "colorscale": [
             [
              0,
              "#0d0887"
             ],
             [
              0.1111111111111111,
              "#46039f"
             ],
             [
              0.2222222222222222,
              "#7201a8"
             ],
             [
              0.3333333333333333,
              "#9c179e"
             ],
             [
              0.4444444444444444,
              "#bd3786"
             ],
             [
              0.5555555555555556,
              "#d8576b"
             ],
             [
              0.6666666666666666,
              "#ed7953"
             ],
             [
              0.7777777777777778,
              "#fb9f3a"
             ],
             [
              0.8888888888888888,
              "#fdca26"
             ],
             [
              1,
              "#f0f921"
             ]
            ],
            "type": "histogram2d"
           }
          ],
          "histogram2dcontour": [
           {
            "colorbar": {
             "outlinewidth": 0,
             "ticks": ""
            },
            "colorscale": [
             [
              0,
              "#0d0887"
             ],
             [
              0.1111111111111111,
              "#46039f"
             ],
             [
              0.2222222222222222,
              "#7201a8"
             ],
             [
              0.3333333333333333,
              "#9c179e"
             ],
             [
              0.4444444444444444,
              "#bd3786"
             ],
             [
              0.5555555555555556,
              "#d8576b"
             ],
             [
              0.6666666666666666,
              "#ed7953"
             ],
             [
              0.7777777777777778,
              "#fb9f3a"
             ],
             [
              0.8888888888888888,
              "#fdca26"
             ],
             [
              1,
              "#f0f921"
             ]
            ],
            "type": "histogram2dcontour"
           }
          ],
          "mesh3d": [
           {
            "colorbar": {
             "outlinewidth": 0,
             "ticks": ""
            },
            "type": "mesh3d"
           }
          ],
          "parcoords": [
           {
            "line": {
             "colorbar": {
              "outlinewidth": 0,
              "ticks": ""
             }
            },
            "type": "parcoords"
           }
          ],
          "pie": [
           {
            "automargin": true,
            "type": "pie"
           }
          ],
          "scatter": [
           {
            "marker": {
             "colorbar": {
              "outlinewidth": 0,
              "ticks": ""
             }
            },
            "type": "scatter"
           }
          ],
          "scatter3d": [
           {
            "line": {
             "colorbar": {
              "outlinewidth": 0,
              "ticks": ""
             }
            },
            "marker": {
             "colorbar": {
              "outlinewidth": 0,
              "ticks": ""
             }
            },
            "type": "scatter3d"
           }
          ],
          "scattercarpet": [
           {
            "marker": {
             "colorbar": {
              "outlinewidth": 0,
              "ticks": ""
             }
            },
            "type": "scattercarpet"
           }
          ],
          "scattergeo": [
           {
            "marker": {
             "colorbar": {
              "outlinewidth": 0,
              "ticks": ""
             }
            },
            "type": "scattergeo"
           }
          ],
          "scattergl": [
           {
            "marker": {
             "colorbar": {
              "outlinewidth": 0,
              "ticks": ""
             }
            },
            "type": "scattergl"
           }
          ],
          "scattermapbox": [
           {
            "marker": {
             "colorbar": {
              "outlinewidth": 0,
              "ticks": ""
             }
            },
            "type": "scattermapbox"
           }
          ],
          "scatterpolar": [
           {
            "marker": {
             "colorbar": {
              "outlinewidth": 0,
              "ticks": ""
             }
            },
            "type": "scatterpolar"
           }
          ],
          "scatterpolargl": [
           {
            "marker": {
             "colorbar": {
              "outlinewidth": 0,
              "ticks": ""
             }
            },
            "type": "scatterpolargl"
           }
          ],
          "scatterternary": [
           {
            "marker": {
             "colorbar": {
              "outlinewidth": 0,
              "ticks": ""
             }
            },
            "type": "scatterternary"
           }
          ],
          "surface": [
           {
            "colorbar": {
             "outlinewidth": 0,
             "ticks": ""
            },
            "colorscale": [
             [
              0,
              "#0d0887"
             ],
             [
              0.1111111111111111,
              "#46039f"
             ],
             [
              0.2222222222222222,
              "#7201a8"
             ],
             [
              0.3333333333333333,
              "#9c179e"
             ],
             [
              0.4444444444444444,
              "#bd3786"
             ],
             [
              0.5555555555555556,
              "#d8576b"
             ],
             [
              0.6666666666666666,
              "#ed7953"
             ],
             [
              0.7777777777777778,
              "#fb9f3a"
             ],
             [
              0.8888888888888888,
              "#fdca26"
             ],
             [
              1,
              "#f0f921"
             ]
            ],
            "type": "surface"
           }
          ],
          "table": [
           {
            "cells": {
             "fill": {
              "color": "#EBF0F8"
             },
             "line": {
              "color": "white"
             }
            },
            "header": {
             "fill": {
              "color": "#C8D4E3"
             },
             "line": {
              "color": "white"
             }
            },
            "type": "table"
           }
          ]
         },
         "layout": {
          "annotationdefaults": {
           "arrowcolor": "#2a3f5f",
           "arrowhead": 0,
           "arrowwidth": 1
          },
          "autotypenumbers": "strict",
          "coloraxis": {
           "colorbar": {
            "outlinewidth": 0,
            "ticks": ""
           }
          },
          "colorscale": {
           "diverging": [
            [
             0,
             "#8e0152"
            ],
            [
             0.1,
             "#c51b7d"
            ],
            [
             0.2,
             "#de77ae"
            ],
            [
             0.3,
             "#f1b6da"
            ],
            [
             0.4,
             "#fde0ef"
            ],
            [
             0.5,
             "#f7f7f7"
            ],
            [
             0.6,
             "#e6f5d0"
            ],
            [
             0.7,
             "#b8e186"
            ],
            [
             0.8,
             "#7fbc41"
            ],
            [
             0.9,
             "#4d9221"
            ],
            [
             1,
             "#276419"
            ]
           ],
           "sequential": [
            [
             0,
             "#0d0887"
            ],
            [
             0.1111111111111111,
             "#46039f"
            ],
            [
             0.2222222222222222,
             "#7201a8"
            ],
            [
             0.3333333333333333,
             "#9c179e"
            ],
            [
             0.4444444444444444,
             "#bd3786"
            ],
            [
             0.5555555555555556,
             "#d8576b"
            ],
            [
             0.6666666666666666,
             "#ed7953"
            ],
            [
             0.7777777777777778,
             "#fb9f3a"
            ],
            [
             0.8888888888888888,
             "#fdca26"
            ],
            [
             1,
             "#f0f921"
            ]
           ],
           "sequentialminus": [
            [
             0,
             "#0d0887"
            ],
            [
             0.1111111111111111,
             "#46039f"
            ],
            [
             0.2222222222222222,
             "#7201a8"
            ],
            [
             0.3333333333333333,
             "#9c179e"
            ],
            [
             0.4444444444444444,
             "#bd3786"
            ],
            [
             0.5555555555555556,
             "#d8576b"
            ],
            [
             0.6666666666666666,
             "#ed7953"
            ],
            [
             0.7777777777777778,
             "#fb9f3a"
            ],
            [
             0.8888888888888888,
             "#fdca26"
            ],
            [
             1,
             "#f0f921"
            ]
           ]
          },
          "colorway": [
           "#636efa",
           "#EF553B",
           "#00cc96",
           "#ab63fa",
           "#FFA15A",
           "#19d3f3",
           "#FF6692",
           "#B6E880",
           "#FF97FF",
           "#FECB52"
          ],
          "font": {
           "color": "#2a3f5f"
          },
          "geo": {
           "bgcolor": "white",
           "lakecolor": "white",
           "landcolor": "#E5ECF6",
           "showlakes": true,
           "showland": true,
           "subunitcolor": "white"
          },
          "hoverlabel": {
           "align": "left"
          },
          "hovermode": "closest",
          "mapbox": {
           "style": "light"
          },
          "paper_bgcolor": "white",
          "plot_bgcolor": "#E5ECF6",
          "polar": {
           "angularaxis": {
            "gridcolor": "white",
            "linecolor": "white",
            "ticks": ""
           },
           "bgcolor": "#E5ECF6",
           "radialaxis": {
            "gridcolor": "white",
            "linecolor": "white",
            "ticks": ""
           }
          },
          "scene": {
           "xaxis": {
            "backgroundcolor": "#E5ECF6",
            "gridcolor": "white",
            "gridwidth": 2,
            "linecolor": "white",
            "showbackground": true,
            "ticks": "",
            "zerolinecolor": "white"
           },
           "yaxis": {
            "backgroundcolor": "#E5ECF6",
            "gridcolor": "white",
            "gridwidth": 2,
            "linecolor": "white",
            "showbackground": true,
            "ticks": "",
            "zerolinecolor": "white"
           },
           "zaxis": {
            "backgroundcolor": "#E5ECF6",
            "gridcolor": "white",
            "gridwidth": 2,
            "linecolor": "white",
            "showbackground": true,
            "ticks": "",
            "zerolinecolor": "white"
           }
          },
          "shapedefaults": {
           "line": {
            "color": "#2a3f5f"
           }
          },
          "ternary": {
           "aaxis": {
            "gridcolor": "white",
            "linecolor": "white",
            "ticks": ""
           },
           "baxis": {
            "gridcolor": "white",
            "linecolor": "white",
            "ticks": ""
           },
           "bgcolor": "#E5ECF6",
           "caxis": {
            "gridcolor": "white",
            "linecolor": "white",
            "ticks": ""
           }
          },
          "title": {
           "x": 0.05
          },
          "xaxis": {
           "automargin": true,
           "gridcolor": "white",
           "linecolor": "white",
           "ticks": "",
           "title": {
            "standoff": 15
           },
           "zerolinecolor": "white",
           "zerolinewidth": 2
          },
          "yaxis": {
           "automargin": true,
           "gridcolor": "white",
           "linecolor": "white",
           "ticks": "",
           "title": {
            "standoff": 15
           },
           "zerolinecolor": "white",
           "zerolinewidth": 2
          }
         }
        },
        "title": {
         "font": {
          "color": "#4D5663"
         },
         "text": "Sharpe Ratio Comparison"
        },
        "xaxis": {
         "gridcolor": "#E1E5ED",
         "showgrid": true,
         "tickfont": {
          "color": "#4D5663"
         },
         "title": {
          "font": {
           "color": "#4D5663"
          },
          "text": "Date"
         },
         "zerolinecolor": "#E1E5ED"
        },
        "yaxis": {
         "gridcolor": "#E1E5ED",
         "showgrid": true,
         "tickfont": {
          "color": "#4D5663"
         },
         "title": {
          "font": {
           "color": "#4D5663"
          },
          "text": "Sharpe Ratio"
         },
         "zerolinecolor": "#E1E5ED"
        }
       }
      },
      "text/html": [
       "<div>                            <div id=\"edc81fa0-20aa-4b40-bee2-dcb8443a0fa1\" class=\"plotly-graph-div\" style=\"height:525px; width:100%;\"></div>            <script type=\"text/javascript\">                require([\"plotly\"], function(Plotly) {                    window.PLOTLYENV=window.PLOTLYENV || {};                                    if (document.getElementById(\"edc81fa0-20aa-4b40-bee2-dcb8443a0fa1\")) {                    Plotly.newPlot(                        \"edc81fa0-20aa-4b40-bee2-dcb8443a0fa1\",                        [{\"line\": {\"color\": \"blue\", \"dash\": \"solid\", \"shape\": \"linear\", \"width\": 1.3}, \"marker\": {\"size\": 3.5, \"symbol\": \"circle\"}, \"mode\": \"lines+markers\", \"name\": \"naive_rolling\", \"text\": \"\", \"type\": \"scatter\", \"x\": [\"1985-02-28\", \"1985-03-31\", \"1985-04-30\", \"1985-05-31\", \"1985-06-30\", \"1985-07-31\", \"1985-08-31\", \"1985-09-30\", \"1985-10-31\", \"1985-11-30\", \"1985-12-31\", \"1986-01-31\", \"1986-02-28\", \"1986-03-31\", \"1986-04-30\", \"1986-05-31\", \"1986-06-30\", \"1986-07-31\", \"1986-08-31\", \"1986-09-30\", \"1986-10-31\", \"1986-11-30\", \"1986-12-31\", \"1987-01-31\", \"1987-02-28\", \"1987-03-31\", \"1987-04-30\", \"1987-05-31\", \"1987-06-30\", \"1987-07-31\", \"1987-08-31\", \"1987-09-30\", \"1987-10-31\", \"1987-11-30\", \"1987-12-31\", \"1988-01-31\", \"1988-02-29\", \"1988-03-31\", \"1988-04-30\", \"1988-05-31\", \"1988-06-30\", \"1988-07-31\", \"1988-08-31\", \"1988-09-30\", \"1988-10-31\", \"1988-11-30\", \"1988-12-31\", \"1989-01-31\", \"1989-02-28\", \"1989-03-31\", \"1989-04-30\", \"1989-05-31\", \"1989-06-30\", \"1989-07-31\", \"1989-08-31\", \"1989-09-30\", \"1989-10-31\", \"1989-11-30\", \"1989-12-31\", \"1990-01-31\", \"1990-02-28\", \"1990-03-31\", \"1990-04-30\", \"1990-05-31\", \"1990-06-30\", \"1990-07-31\", \"1990-08-31\", \"1990-09-30\", \"1990-10-31\", \"1990-11-30\", \"1990-12-31\", \"1991-01-31\", \"1991-02-28\", \"1991-03-31\", \"1991-04-30\", \"1991-05-31\", \"1991-06-30\", \"1991-07-31\", \"1991-08-31\", \"1991-09-30\", \"1991-10-31\", \"1991-11-30\", \"1991-12-31\", \"1992-01-31\", \"1992-02-29\", \"1992-03-31\", \"1992-04-30\", \"1992-05-31\", \"1992-06-30\", \"1992-07-31\", \"1992-08-31\", \"1992-09-30\", \"1992-10-31\", \"1992-11-30\", \"1992-12-31\", \"1993-01-31\", \"1993-02-28\", \"1993-03-31\", \"1993-04-30\", \"1993-05-31\", \"1993-06-30\", \"1993-07-31\", \"1993-08-31\", \"1993-09-30\", \"1993-10-31\", \"1993-11-30\", \"1993-12-31\", \"1994-01-31\", \"1994-02-28\", \"1994-03-31\", \"1994-04-30\", \"1994-05-31\", \"1994-06-30\", \"1994-07-31\", \"1994-08-31\", \"1994-09-30\", \"1994-10-31\", \"1994-11-30\", \"1994-12-31\", \"1995-01-31\", \"1995-02-28\", \"1995-03-31\", \"1995-04-30\", \"1995-05-31\", \"1995-06-30\", \"1995-07-31\", \"1995-08-31\", \"1995-09-30\", \"1995-10-31\", \"1995-11-30\", \"1995-12-31\", \"1996-01-31\", \"1996-02-29\", \"1996-03-31\", \"1996-04-30\", \"1996-05-31\", \"1996-06-30\", \"1996-07-31\", \"1996-08-31\", \"1996-09-30\", \"1996-10-31\", \"1996-11-30\", \"1996-12-31\", \"1997-01-31\", \"1997-02-28\", \"1997-03-31\", \"1997-04-30\", \"1997-05-31\", \"1997-06-30\", \"1997-07-31\", \"1997-08-31\", \"1997-09-30\", \"1997-10-31\", \"1997-11-30\", \"1997-12-31\", \"1998-01-31\", \"1998-02-28\", \"1998-03-31\", \"1998-04-30\", \"1998-05-31\", \"1998-06-30\", \"1998-07-31\", \"1998-08-31\", \"1998-09-30\", \"1998-10-31\", \"1998-11-30\", \"1998-12-31\", \"1999-01-31\", \"1999-02-28\", \"1999-03-31\", \"1999-04-30\", \"1999-05-31\", \"1999-06-30\", \"1999-07-31\", \"1999-08-31\", \"1999-09-30\", \"1999-10-31\", \"1999-11-30\", \"1999-12-31\", \"2000-01-31\", \"2000-02-29\", \"2000-03-31\", \"2000-04-30\", \"2000-05-31\", \"2000-06-30\", \"2000-07-31\", \"2000-08-31\", \"2000-09-30\", \"2000-10-31\", \"2000-11-30\", \"2000-12-31\", \"2001-01-31\", \"2001-02-28\", \"2001-03-31\", \"2001-04-30\", \"2001-05-31\", \"2001-06-30\", \"2001-07-31\", \"2001-08-31\", \"2001-09-30\", \"2001-10-31\", \"2001-11-30\", \"2001-12-31\", \"2002-01-31\", \"2002-02-28\", \"2002-03-31\", \"2002-04-30\", \"2002-05-31\", \"2002-06-30\", \"2002-07-31\", \"2002-08-31\", \"2002-09-30\", \"2002-10-31\", \"2002-11-30\", \"2002-12-31\", \"2003-01-31\", \"2003-02-28\", \"2003-03-31\", \"2003-04-30\", \"2003-05-31\", \"2003-06-30\", \"2003-07-31\", \"2003-08-31\", \"2003-09-30\", \"2003-10-31\", \"2003-11-30\", \"2003-12-31\", \"2004-01-31\", \"2004-02-29\", \"2004-03-31\", \"2004-04-30\", \"2004-05-31\", \"2004-06-30\", \"2004-07-31\", \"2004-08-31\", \"2004-09-30\", \"2004-10-31\", \"2004-11-30\", \"2004-12-31\", \"2005-01-31\", \"2005-02-28\", \"2005-03-31\", \"2005-04-30\", \"2005-05-31\", \"2005-06-30\", \"2005-07-31\", \"2005-08-31\", \"2005-09-30\", \"2005-10-31\", \"2005-11-30\", \"2005-12-31\", \"2006-01-31\", \"2006-02-28\", \"2006-03-31\", \"2006-04-30\", \"2006-05-31\", \"2006-06-30\", \"2006-07-31\", \"2006-08-31\", \"2006-09-30\", \"2006-10-31\", \"2006-11-30\", \"2006-12-31\", \"2007-01-31\", \"2007-02-28\", \"2007-03-31\", \"2007-04-30\", \"2007-05-31\", \"2007-06-30\", \"2007-07-31\", \"2007-08-31\", \"2007-09-30\", \"2007-10-31\", \"2007-11-30\", \"2007-12-31\", \"2008-01-31\", \"2008-02-29\", \"2008-03-31\", \"2008-04-30\", \"2008-05-31\", \"2008-06-30\", \"2008-07-31\", \"2008-08-31\", \"2008-09-30\", \"2008-10-31\", \"2008-11-30\", \"2008-12-31\", \"2009-01-31\", \"2009-02-28\", \"2009-03-31\", \"2009-04-30\", \"2009-05-31\", \"2009-06-30\", \"2009-07-31\", \"2009-08-31\", \"2009-09-30\", \"2009-10-31\", \"2009-11-30\", \"2009-12-31\", \"2010-01-31\", \"2010-02-28\", \"2010-03-31\", \"2010-04-30\", \"2010-05-31\", \"2010-06-30\", \"2010-07-31\", \"2010-08-31\", \"2010-09-30\", \"2010-10-31\", \"2010-11-30\", \"2010-12-31\", \"2011-01-31\", \"2011-02-28\", \"2011-03-31\", \"2011-04-30\", \"2011-05-31\", \"2011-06-30\", \"2011-07-31\", \"2011-08-31\", \"2011-09-30\", \"2011-10-31\", \"2011-11-30\", \"2011-12-31\", \"2012-01-31\", \"2012-02-29\", \"2012-03-31\", \"2012-04-30\", \"2012-05-31\", \"2012-06-30\", \"2012-07-31\", \"2012-08-31\", \"2012-09-30\", \"2012-10-31\", \"2012-11-30\", \"2012-12-31\", \"2013-01-31\", \"2013-02-28\", \"2013-03-31\", \"2013-04-30\", \"2013-05-31\", \"2013-06-30\", \"2013-07-31\", \"2013-08-31\", \"2013-09-30\", \"2013-10-31\", \"2013-11-30\", \"2013-12-31\", \"2014-01-31\", \"2014-02-28\", \"2014-03-31\", \"2014-04-30\", \"2014-05-31\", \"2014-06-30\", \"2014-07-31\", \"2014-08-31\", \"2014-09-30\", \"2014-10-31\", \"2014-11-30\", \"2014-12-31\", \"2015-01-31\", \"2015-02-28\", \"2015-03-31\", \"2015-04-30\", \"2015-05-31\", \"2015-06-30\", \"2015-07-31\", \"2015-08-31\", \"2015-09-30\", \"2015-10-31\", \"2015-11-30\", \"2015-12-31\", \"2016-01-31\", \"2016-02-29\", \"2016-03-31\", \"2016-04-30\", \"2016-05-31\", \"2016-06-30\", \"2016-07-31\", \"2016-08-31\", \"2016-09-30\", \"2016-10-31\", \"2016-11-30\", \"2016-12-31\", \"2017-01-31\", \"2017-02-28\", \"2017-03-31\", \"2017-04-30\", \"2017-05-31\", \"2017-06-30\", \"2017-07-31\", \"2017-08-31\", \"2017-09-30\", \"2017-10-31\", \"2017-11-30\", \"2017-12-31\", \"2018-01-31\", \"2018-02-28\", \"2018-03-31\", \"2018-04-30\", \"2018-05-31\", \"2018-06-30\", \"2018-07-31\", \"2018-08-31\", \"2018-09-30\", \"2018-10-31\", \"2018-11-30\", \"2018-12-31\", \"2019-01-31\", \"2019-02-28\", \"2019-03-31\", \"2019-04-30\", \"2019-05-31\", \"2019-06-30\", \"2019-07-31\", \"2019-08-31\", \"2019-09-30\", \"2019-10-31\", \"2019-11-30\", \"2019-12-31\", \"2020-01-31\", \"2020-02-29\", \"2020-03-31\", \"2020-04-30\", \"2020-05-31\", \"2020-06-30\", \"2020-07-31\", \"2020-08-31\", \"2020-09-30\", \"2020-10-31\", \"2020-11-30\", \"2020-12-31\", \"2021-01-31\"], \"y\": [\"\", \"\", \"\", \"\", \"\", \"\", \"\", \"\", \"\", \"\", \"\", 0.5711835870063433, 0.9599800077643678, 1.3704497587247486, 1.2784826991779312, 1.259847098259035, 1.292551417645641, 0.7853911113148879, 1.2481596697298298, 0.8208366058492276, 0.876280616591136, 0.6844005103535513, 0.24259963367231988, 0.7059759830802345, 0.583757745564557, 0.4935767658471396, 0.5075475140939458, 0.3412835896870237, 0.4767000919935071, 0.9354065942506163, 0.8047101497945967, 1.187027265021044, -0.08544042434485807, -0.41348078912790953, 0.12977623773224695, -0.246569007959337, -0.19390507776864088, -0.40823922742766827, -0.3307117886220215, -0.34386310958996685, -0.3654487883509892, -0.5726468696939515, -0.8601838944802808, -0.6157604150103742, 0.5555297873271954, 1.2848221875054868, 0.7153921390388284, 0.9450999333217391, 0.3217632082771775, 0.7382179444357706, 1.0038746020672011, 1.2257043575326825, 0.800856385493042, 1.290394031528903, 1.783241985730196, 1.410743053967895, 0.9973477911127527, 1.2673247808182495, 1.2213453895897044, 0.2743828931158945, 0.5699342388121964, 0.6371924910170869, 0.04977096950622075, 0.417701886682403, 0.42054802984222667, -0.2421332533842593, -0.8981503642436313, -1.134057986604492, -1.009529012437185, -0.6707324111557122, -0.5674164095222809, 0.08142957120419231, 0.3874382872114186, 0.3875220088798812, 0.5448133200703823, 0.2960318205225125, 0.07643126743255885, 0.35569371023941204, 1.241416974499871, 1.668843669957984, 1.8472233953595785, 0.9855516059748153, 1.445450336625336, 1.0557670166226323, 0.7345963678638819, 0.4257433924585183, 0.6260115234781203, 0.38857974105139703, 0.6585649600843206, 0.6379532759184143, 0.3066567232522978, 0.5474801390893579, 0.49036144673449783, 1.1740473408052472, 0.6275670072683985, 0.8371757155941089, 0.8576942521679588, 1.5529874250512872, 0.7734139381247528, 1.0483896423496477, 1.4216600990459107, 0.91866643575674, 1.9965290811245153, 1.507203946855665, 1.7325607927110829, 1.057313000349634, 0.9950434475265592, 1.30340761218804, 0.6530959533535279, -0.13662410072169118, 0.24400210412036236, 0.1285337613734995, -0.15463720609669784, 0.2007135090683019, 0.2155625016337618, 0.049855226963602235, 0.04966792726343374, -0.1885663848244622, -0.21986830285840184, -0.3005992184552279, 0.253058861175293, 1.0217495874616271, 1.1434606056231251, 1.3135013376986158, 1.9727167519623083, 1.9585138906599686, 1.569732434775487, 2.6568066822642264, 2.230178644381042, 4.497914358988131, 4.860150793453622, 4.82578766701412, 4.241489300977805, 3.7281995511493586, 3.5211071102206306, 3.4538708826681774, 2.965154553313811, 1.2370212767252853, 1.4756993130495102, 1.5458245630182819, 1.9142068315892833, 1.9471550326998426, 1.4038258365082537, 1.5146838941458134, 1.5022881119575497, 0.9650453645712253, 1.2204710322053287, 1.4026295266130901, 1.6796521190848315, 2.6490007335093524, 1.779853624825851, 1.7755124066537529, 1.3338235912920824, 1.2171319779346772, 1.4988321389479078, 1.2270797231986734, 1.5601801293464839, 2.3948022210014552, 2.0845231839116187, 1.5173384937420706, 1.4980295560279984, 0.9638817164408106, 0.19381590200872892, 0.23879449490264304, 0.7845769202956134, 0.8472795652680931, 1.058136974913321, 1.195477250166821, 0.7159179895640794, 0.6569675303983057, 0.786287541840238, 0.755026395912971, 0.8140508521730245, 0.7101273233854265, 2.15424198015468, 1.426091412151014, 1.3725803384865605, 1.1377855509053327, 1.1450016591918146, 0.38304665006735417, 0.4754666169872025, 0.7893384929309876, 0.34632288024607016, 0.35898855577254823, 0.18143536470558655, 0.2808733504358364, 0.6760851625628604, 0.4849982414334193, 0.07843652656589127, -0.49178530049600916, -0.8234595195025421, -0.3221176275945027, -0.6603740170268647, -1.7520545157346823, -0.9272642903773088, -0.7758098716013065, -1.0398276539710276, -1.003193336711259, -1.7624003494526537, -1.8357605173585059, -1.6371548299256549, -0.7523138569333547, -0.7180206915544816, -0.9720337901323278, -0.6603325020310571, -0.0836221206772861, -0.9655139707775234, -1.0499253357512275, -1.2529302529096744, -1.5547126256025652, -1.1833731325001255, -1.2425219043453437, -0.7471294158853956, -0.8390956487816741, -1.1522156474838552, -1.1987470473949473, -1.1768483923066808, -1.349923844150629, -0.5835080773958201, -0.3061740917324159, 0.05127820487143453, 0.5143813071154327, 0.5786408389274011, 1.3482483753315744, 1.254041389100374, 0.9562800087101576, 2.142820026456568, 2.758381580999724, 3.2944976199723017, 2.8017954046881, 2.230108832615857, 1.9874329813258305, 2.07573058710769, 1.2737345644078302, 1.104957727873793, 1.3865810976593542, 1.1390619571690133, 1.4344339005271418, 1.3013226239163604, 0.6812775227146783, 0.7554331855545875, 0.6842848856670323, 0.6180966628678276, 0.7936616092427916, 0.5439905391249311, 1.4681576321607424, 1.2296532278835615, 1.1582972607064288, 0.7268910064998394, 0.689017017882483, 0.2871400535183814, 0.886985515473404, 0.6391239514727222, 1.091475138764356, 1.6391824704188067, 0.6191626290726082, 0.589283878691788, 0.18167823741108766, 0.6629135879665766, 0.9040650483697797, 1.5836086929136768, 1.4035046876665442, 1.67135749836274, 1.5463170120867036, 1.0157820346169975, 0.9845686375229167, 1.248206494569543, 2.4897402531580375, 1.9575252032512738, 1.2336113156606177, 1.1407082466721967, 1.2536242728199245, 1.1136251600716318, 0.32019465012533393, 0.11026869133910899, -0.5517419512287156, -0.630951779973244, -0.7519998481022283, -0.6603580160897795, -0.8649156368957146, -1.1716772377505016, -0.9945661185433153, -0.974270535252386, -1.6880727130298177, -2.173640553532395, -2.272345695197516, -2.159759810450487, -2.2214714310525103, -2.4469066451464667, -1.7825550206784953, -1.444536345390811, -1.2315807758584738, -0.9521091687391184, -0.6054090312619314, -0.524165188338432, -0.10719972685852745, 0.5060113975470886, 1.13321495469649, 1.1869793106957107, 1.5228762438572505, 3.1442557798917137, 3.1060066999483205, 2.968200960112163, 1.3239502909801844, 0.8729105781328494, 0.8502591362408907, 0.34676486342986873, 0.5909726923536783, 0.8872826483761754, 0.5915638764524052, 0.8255825079458453, 1.161829109695289, 1.1771004858992278, 0.871977715083707, 0.943349598289441, 1.5546766403262506, 1.999109562275185, 1.418954493157023, 1.3008349190791408, 0.1286547669028613, 0.5062311960852407, 0.49332075019353394, 0.18009547709129822, 0.306378070693863, 0.35458482674557923, 0.5373426250629146, 0.33622485252428247, 0.05172771912548357, 0.3575280871607869, 0.5472814065919956, 1.0343509711168135, 1.9380272008452515, 1.401876013969281, 1.4902082888349968, 1.4626805982845485, 1.4911200622289427, 1.2732085935302517, 1.3035320745096082, 1.5615953404260314, 3.832998556022268, 2.6470758263092145, 2.759737374036913, 1.8447147983157766, 1.8928075778694238, 2.5584866340496837, 2.8472889206931127, 3.11961660600401, 2.0319869155656525, 2.266785612335569, 1.9860551464006506, 1.8705139614508715, 1.8711351681926767, 2.371692732471839, 1.7833539026464484, 2.8620657271718812, 2.0956569599833426, 2.01131476073101, 1.9860200624967723, 1.5920068026130851, 1.702311985161611, 1.7167568881727222, 1.3365225629120947, 1.366447543944301, 1.2645832133948232, 0.7775822232044225, 1.142025056194726, 0.08324430550739227, -0.01675127822065028, 0.4095028172643816, 0.24633486163663232, 0.1482047670286403, 0.010522220576168475, -0.42479158681939583, 0.17000409283367793, 0.13271142384247422, 0.1657873515173574, 0.3132233567618892, 0.4138904545354884, 0.9336544302177394, 1.179787019901826, 0.46975646990666453, 0.7786152205520365, 1.1740252930394854, 2.3543282771739866, 2.8418914176610595, 2.4103461565401854, 2.4984403462238394, 2.437037932737205, 2.526216387363055, 2.4951270557862046, 2.5193127530794714, 2.9967511633510817, 4.382598348847654, 4.495819250295152, 4.200486593306953, 3.5746261669781774, 1.8527261046963246, 1.356055324100092, 1.2738523154412673, 1.3617860119689134, 1.34927896044414, 1.4606108595440588, 1.7393688211155016, 1.568920608770234, 0.48771387271731875, 0.40312910327003765, -0.3338170113501982, -0.17943705592199044, 0.2245077576177862, 0.4916101318715881, 0.7010315433433464, 0.16187567525910346, 0.48024754797555, 0.3679988273207453, 0.11446846179649198, 0.1801237497254437, 0.716088235844775, 0.8032724234575181, 2.0088714429153915, 1.6108593205997042, 0.4605714861946134, -0.3629530717773463, 0.06837674222085373, 0.5592779141104206, 0.36039035667130703, 0.540325090399895, 0.9123800431302249, 0.6527933225516225, 0.45489951641239224, 0.701708620169082, 0.7391083836343751, 0.702720903605846]}, {\"line\": {\"color\": \"red\", \"dash\": \"solid\", \"shape\": \"linear\", \"width\": 1.3}, \"marker\": {\"size\": 3.5, \"symbol\": \"diamond\"}, \"mode\": \"lines+markers\", \"name\": \"louise_rolling\", \"text\": \"\", \"type\": \"scatter\", \"x\": [\"1985-02-28\", \"1985-03-31\", \"1985-04-30\", \"1985-05-31\", \"1985-06-30\", \"1985-07-31\", \"1985-08-31\", \"1985-09-30\", \"1985-10-31\", \"1985-11-30\", \"1985-12-31\", \"1986-01-31\", \"1986-02-28\", \"1986-03-31\", \"1986-04-30\", \"1986-05-31\", \"1986-06-30\", \"1986-07-31\", \"1986-08-31\", \"1986-09-30\", \"1986-10-31\", \"1986-11-30\", \"1986-12-31\", \"1987-01-31\", \"1987-02-28\", \"1987-03-31\", \"1987-04-30\", \"1987-05-31\", \"1987-06-30\", \"1987-07-31\", \"1987-08-31\", \"1987-09-30\", \"1987-10-31\", \"1987-11-30\", \"1987-12-31\", \"1988-01-31\", \"1988-02-29\", \"1988-03-31\", \"1988-04-30\", \"1988-05-31\", \"1988-06-30\", \"1988-07-31\", \"1988-08-31\", \"1988-09-30\", \"1988-10-31\", \"1988-11-30\", \"1988-12-31\", \"1989-01-31\", \"1989-02-28\", \"1989-03-31\", \"1989-04-30\", \"1989-05-31\", \"1989-06-30\", \"1989-07-31\", \"1989-08-31\", \"1989-09-30\", \"1989-10-31\", \"1989-11-30\", \"1989-12-31\", \"1990-01-31\", \"1990-02-28\", \"1990-03-31\", \"1990-04-30\", \"1990-05-31\", \"1990-06-30\", \"1990-07-31\", \"1990-08-31\", \"1990-09-30\", \"1990-10-31\", \"1990-11-30\", \"1990-12-31\", \"1991-01-31\", \"1991-02-28\", \"1991-03-31\", \"1991-04-30\", \"1991-05-31\", \"1991-06-30\", \"1991-07-31\", \"1991-08-31\", \"1991-09-30\", \"1991-10-31\", \"1991-11-30\", \"1991-12-31\", \"1992-01-31\", \"1992-02-29\", \"1992-03-31\", \"1992-04-30\", \"1992-05-31\", \"1992-06-30\", \"1992-07-31\", \"1992-08-31\", \"1992-09-30\", \"1992-10-31\", \"1992-11-30\", \"1992-12-31\", \"1993-01-31\", \"1993-02-28\", \"1993-03-31\", \"1993-04-30\", \"1993-05-31\", \"1993-06-30\", \"1993-07-31\", \"1993-08-31\", \"1993-09-30\", \"1993-10-31\", \"1993-11-30\", \"1993-12-31\", \"1994-01-31\", \"1994-02-28\", \"1994-03-31\", \"1994-04-30\", \"1994-05-31\", \"1994-06-30\", \"1994-07-31\", \"1994-08-31\", \"1994-09-30\", \"1994-10-31\", \"1994-11-30\", \"1994-12-31\", \"1995-01-31\", \"1995-02-28\", \"1995-03-31\", \"1995-04-30\", \"1995-05-31\", \"1995-06-30\", \"1995-07-31\", \"1995-08-31\", \"1995-09-30\", \"1995-10-31\", \"1995-11-30\", \"1995-12-31\", \"1996-01-31\", \"1996-02-29\", \"1996-03-31\", \"1996-04-30\", \"1996-05-31\", \"1996-06-30\", \"1996-07-31\", \"1996-08-31\", \"1996-09-30\", \"1996-10-31\", \"1996-11-30\", \"1996-12-31\", \"1997-01-31\", \"1997-02-28\", \"1997-03-31\", \"1997-04-30\", \"1997-05-31\", \"1997-06-30\", \"1997-07-31\", \"1997-08-31\", \"1997-09-30\", \"1997-10-31\", \"1997-11-30\", \"1997-12-31\", \"1998-01-31\", \"1998-02-28\", \"1998-03-31\", \"1998-04-30\", \"1998-05-31\", \"1998-06-30\", \"1998-07-31\", \"1998-08-31\", \"1998-09-30\", \"1998-10-31\", \"1998-11-30\", \"1998-12-31\", \"1999-01-31\", \"1999-02-28\", \"1999-03-31\", \"1999-04-30\", \"1999-05-31\", \"1999-06-30\", \"1999-07-31\", \"1999-08-31\", \"1999-09-30\", \"1999-10-31\", \"1999-11-30\", \"1999-12-31\", \"2000-01-31\", \"2000-02-29\", \"2000-03-31\", \"2000-04-30\", \"2000-05-31\", \"2000-06-30\", \"2000-07-31\", \"2000-08-31\", \"2000-09-30\", \"2000-10-31\", \"2000-11-30\", \"2000-12-31\", \"2001-01-31\", \"2001-02-28\", \"2001-03-31\", \"2001-04-30\", \"2001-05-31\", \"2001-06-30\", \"2001-07-31\", \"2001-08-31\", \"2001-09-30\", \"2001-10-31\", \"2001-11-30\", \"2001-12-31\", \"2002-01-31\", \"2002-02-28\", \"2002-03-31\", \"2002-04-30\", \"2002-05-31\", \"2002-06-30\", \"2002-07-31\", \"2002-08-31\", \"2002-09-30\", \"2002-10-31\", \"2002-11-30\", \"2002-12-31\", \"2003-01-31\", \"2003-02-28\", \"2003-03-31\", \"2003-04-30\", \"2003-05-31\", \"2003-06-30\", \"2003-07-31\", \"2003-08-31\", \"2003-09-30\", \"2003-10-31\", \"2003-11-30\", \"2003-12-31\", \"2004-01-31\", \"2004-02-29\", \"2004-03-31\", \"2004-04-30\", \"2004-05-31\", \"2004-06-30\", \"2004-07-31\", \"2004-08-31\", \"2004-09-30\", \"2004-10-31\", \"2004-11-30\", \"2004-12-31\", \"2005-01-31\", \"2005-02-28\", \"2005-03-31\", \"2005-04-30\", \"2005-05-31\", \"2005-06-30\", \"2005-07-31\", \"2005-08-31\", \"2005-09-30\", \"2005-10-31\", \"2005-11-30\", \"2005-12-31\", \"2006-01-31\", \"2006-02-28\", \"2006-03-31\", \"2006-04-30\", \"2006-05-31\", \"2006-06-30\", \"2006-07-31\", \"2006-08-31\", \"2006-09-30\", \"2006-10-31\", \"2006-11-30\", \"2006-12-31\", \"2007-01-31\", \"2007-02-28\", \"2007-03-31\", \"2007-04-30\", \"2007-05-31\", \"2007-06-30\", \"2007-07-31\", \"2007-08-31\", \"2007-09-30\", \"2007-10-31\", \"2007-11-30\", \"2007-12-31\", \"2008-01-31\", \"2008-02-29\", \"2008-03-31\", \"2008-04-30\", \"2008-05-31\", \"2008-06-30\", \"2008-07-31\", \"2008-08-31\", \"2008-09-30\", \"2008-10-31\", \"2008-11-30\", \"2008-12-31\", \"2009-01-31\", \"2009-02-28\", \"2009-03-31\", \"2009-04-30\", \"2009-05-31\", \"2009-06-30\", \"2009-07-31\", \"2009-08-31\", \"2009-09-30\", \"2009-10-31\", \"2009-11-30\", \"2009-12-31\", \"2010-01-31\", \"2010-02-28\", \"2010-03-31\", \"2010-04-30\", \"2010-05-31\", \"2010-06-30\", \"2010-07-31\", \"2010-08-31\", \"2010-09-30\", \"2010-10-31\", \"2010-11-30\", \"2010-12-31\", \"2011-01-31\", \"2011-02-28\", \"2011-03-31\", \"2011-04-30\", \"2011-05-31\", \"2011-06-30\", \"2011-07-31\", \"2011-08-31\", \"2011-09-30\", \"2011-10-31\", \"2011-11-30\", \"2011-12-31\", \"2012-01-31\", \"2012-02-29\", \"2012-03-31\", \"2012-04-30\", \"2012-05-31\", \"2012-06-30\", \"2012-07-31\", \"2012-08-31\", \"2012-09-30\", \"2012-10-31\", \"2012-11-30\", \"2012-12-31\", \"2013-01-31\", \"2013-02-28\", \"2013-03-31\", \"2013-04-30\", \"2013-05-31\", \"2013-06-30\", \"2013-07-31\", \"2013-08-31\", \"2013-09-30\", \"2013-10-31\", \"2013-11-30\", \"2013-12-31\", \"2014-01-31\", \"2014-02-28\", \"2014-03-31\", \"2014-04-30\", \"2014-05-31\", \"2014-06-30\", \"2014-07-31\", \"2014-08-31\", \"2014-09-30\", \"2014-10-31\", \"2014-11-30\", \"2014-12-31\", \"2015-01-31\", \"2015-02-28\", \"2015-03-31\", \"2015-04-30\", \"2015-05-31\", \"2015-06-30\", \"2015-07-31\", \"2015-08-31\", \"2015-09-30\", \"2015-10-31\", \"2015-11-30\", \"2015-12-31\", \"2016-01-31\", \"2016-02-29\", \"2016-03-31\", \"2016-04-30\", \"2016-05-31\", \"2016-06-30\", \"2016-07-31\", \"2016-08-31\", \"2016-09-30\", \"2016-10-31\", \"2016-11-30\", \"2016-12-31\", \"2017-01-31\", \"2017-02-28\", \"2017-03-31\", \"2017-04-30\", \"2017-05-31\", \"2017-06-30\", \"2017-07-31\", \"2017-08-31\", \"2017-09-30\", \"2017-10-31\", \"2017-11-30\", \"2017-12-31\", \"2018-01-31\", \"2018-02-28\", \"2018-03-31\", \"2018-04-30\", \"2018-05-31\", \"2018-06-30\", \"2018-07-31\", \"2018-08-31\", \"2018-09-30\", \"2018-10-31\", \"2018-11-30\", \"2018-12-31\", \"2019-01-31\", \"2019-02-28\", \"2019-03-31\", \"2019-04-30\", \"2019-05-31\", \"2019-06-30\", \"2019-07-31\", \"2019-08-31\", \"2019-09-30\", \"2019-10-31\", \"2019-11-30\", \"2019-12-31\", \"2020-01-31\", \"2020-02-29\", \"2020-03-31\", \"2020-04-30\", \"2020-05-31\", \"2020-06-30\", \"2020-07-31\", \"2020-08-31\", \"2020-09-30\", \"2020-10-31\", \"2020-11-30\", \"2020-12-31\", \"2021-01-31\"], \"y\": [\"\", \"\", \"\", \"\", \"\", \"\", \"\", \"\", \"\", \"\", \"\", 0.012864783303265707, 0.612082191566366, 1.1141032727427043, 0.9844419919990449, 0.9640186682870703, 1.0139053935641735, 0.42066651254416687, 0.9664036101680764, 0.5146693461106748, 0.8316784840654737, 0.9530352000601233, 0.23612499820286242, 0.7032292866508482, 0.5819541777111886, 0.4904219218303283, 0.5065506562131356, 0.33828632368391204, 0.4768055788196557, 0.9365550581323921, 0.8079057714215322, 1.192154824260823, -0.08144557020805916, -0.41594153746110335, -0.06302592722418646, -0.6317313307620034, -0.7844248712422787, -1.0287487762205503, -0.9349637487306076, -0.9457092356995838, -0.9791140957102041, -1.2416300695028721, -1.6021540535665506, -1.2885057515695162, -0.7796981726577124, -0.04079281679624856, -0.2110218711998227, 0.5691485589224079, 0.29053318975419484, 0.7381825445631519, 1.0119135007933575, 1.2459110734718148, 0.7954808322984896, 1.292382366825015, 1.7967777483256053, 1.4020237689271364, 1.176575461661518, 1.2791738016611833, 1.396616397724055, 0.9408006875788116, 1.339156724056458, 1.425017040473178, 0.7430918268330747, 1.0133993593304615, 1.0199010475067443, 0.4214308386321229, -0.43702010591058144, -0.3238629194869456, -0.15617962552887796, -0.2521618977380808, -0.2521618977380808, -0.2521618977380808, 0.14439623307306088, 0.13763333407366496, 0.32436247924462847, -0.016289107812714802, -0.27338580724114814, 0.08863673350212416, 1.2247336360862897, 0.924468495853119, 1.0500096948314668, 0.5849481122519632, 1.0929096524710202, 1.0423681681178905, 0.7184276824939136, 0.4183424337614643, 0.6109111714415545, 0.3744303955686136, 0.6510232596623523, 0.6254683656186875, 0.2919164856266754, 0.5325034577923178, 0.476004261321246, 1.1624342108990935, 0.6176731337616043, 0.8276812943806946, 0.8544075744523094, 1.5412986817819692, 0.7620888715375681, 1.0409522335895394, 1.4091614552503398, 0.9035376358322883, 1.9961905901210213, 1.5092570577104425, 1.736394027914599, 1.0659832371583051, 0.9911018719642657, 1.3077386703931626, 0.6507974879896279, -0.13498146804652644, 0.24797605266233397, -0.003916781896902817, 0.04773745463113785, 0.4146264765608055, 0.4359649766468545, 0.24703226947890813, 0.25134473603903673, -0.016172973018111797, -0.0410127321118051, -0.1242693670648288, 0.4611089711382837, 1.3528465368563087, 1.478842159755327, 1.8185548170675296, 1.9849327403116495, 1.97119866264658, 1.5801887066871099, 2.6688504221447227, 2.2473776021337173, 4.562181751195785, 4.9282091432087105, 4.896177908512539, 4.2849199631192025, 3.753610531404628, 3.561792554653907, 3.496415951439263, 3.001053525890342, 1.253218158099332, 1.4878671400463002, 1.5601921556149398, 1.923718565645778, 1.955957226452695, 1.408863017264405, 1.5222507879812395, 1.5078522714346618, 0.9720470186937064, 1.2231480655371634, 1.410586022883894, 1.683837489718485, 2.648708869365023, 1.779551238417259, 1.7752301091231923, 1.333084908861174, 1.2153362221048636, 1.4985206046754405, 1.2240062527403386, 1.559855990310253, 2.3875922192503714, 2.081387785707884, 1.509804803769787, 1.497581959033415, 0.9612674006649861, 0.19512834614678512, 0.24013655649727483, 0.4246562833537376, 0.21477646707308984, 0.44410868791036745, 0.5920577214315842, 0.08204186338423686, 0.015218685098601938, 0.1576308607478631, 0.12691266388308353, 0.19958285736909454, 0.0965143542816284, 1.3422481224124896, 0.5833246070691026, 0.5833246070691026, 0.5833246070691026, 0.19544065262352353, -0.669722574336033, -0.5787728660002569, -0.009566169118865788, -0.27998101713539497, -0.07774753252873298, -0.487990588023056, -0.22890269001787358, -0.1546377590718226, 0.14312956194175186, 0.14312956194175186, 0.14312956194175186, 0.14312956194175186, 0.7070994040436593, 0.9999999999999973, -0.9999999999999962, 0.05990534367755536, 0.05990534367755536, 0.05990534367755536, -0.035805760849917885, -0.5489491191352962, -0.5489491191352962, -0.5489491191352962, -0.5489491191352962, -0.5489491191352962, -0.6488895878431934, -0.8095424737033907, 0.001256629425686097, -0.9716030394756018, -0.9716030394756018, -0.9716030394756018, -0.838326054098643, -0.0032197133500184885, -0.0032197133500184885, -0.0032197133500184885, -0.0032197133500184885, -0.0032197133500184885, -0.2086479936505146, -0.11622335561655282, -1.460903059294763, -1.460903059294763, -1.460903059294763, -1.0488998246925099, -0.28514204484871863, 0.19961197053890828, -0.1584704435970904, 0.7038678725590006, 0.8108961138745981, 1.2596190255902264, 1.9286226325883133, 2.508402047731582, 2.0540694110290767, 1.8063231079124358, 1.9885163879141265, 1.8620564692373947, 1.6110697738878532, 1.4210701223026194, 1.7664377474309672, 1.6378329798762443, 1.9173096191857373, 1.8704670018968808, 1.0693837551675358, 1.1500688754659227, 1.0562476308259525, 0.9703667623478541, 1.1543625648651852, 1.1543625648651852, 1.1543625648651852, 1.110067625887735, 1.0261744412973146, 0.7797227737177409, 0.25059492355130447, -0.20149120322330089, 0.1787023397317618, -0.25169787487825707, 0.3444826696600498, 1.3773605272771041, -0.5151997468085938, -0.7052939972919193, -0.5218347650409164, -0.0022904320127894845, 0.3635003999621268, 0.8868570772166936, 1.1340753938088644, 1.2241077252129686, 1.4943934602299638, 0.9428919238762707, 0.9940443054147433, 1.2583666666824542, 2.47007277284229, 1.9482222895782373, 1.2292819798444863, 1.136941149566506, 0.934655249124265, 0.5720601400269936, -0.1716492675548809, -0.3962206478730352, -1.0628345257456395, -0.837502329527148, -0.8706134945369339, -1.549751264499802, -2.1951822187491787, -1.860004390224564, -1.578602072963174, -1.5371474619161072, -1.5371474619161072, -1.5371474619161072, -1.0803211704753821, -0.8327147659648154, 0.5243925692913233, 0.5243925692913233, 0.5243925692913233, 0.5243925692913233, 0.5243925692913233, 0.3033825239959298, 1.118505375236286, 1.3228508412293225, 1.6540393293028295, 1.4462029680848685, 1.874141358193439, 2.0289117309859668, 1.5828171787423189, 1.8644060907813356, 2.276034735871732, 2.5007539987201306, 1.3240299504615323, 0.8725345786601877, 0.8498813055295438, 0.641007600973018, 0.4514676948340898, 0.5409437961603448, 0.18206929176328773, 0.4717628126269197, 0.8487432584647625, 0.8661011058344407, 0.5119517606694621, 0.5960395441702191, 1.300255438094027, 1.8821662086503517, 1.2142137815798406, 1.2142137815798406, 1.2142137815798406, 1.2142137815798406, 1.2142137815798406, 0.6697138514522749, 0.258755530491168, -0.40955763361840175, 0.2474057131737242, -0.533148129624019, -0.990286101232408, -0.17417877754988126, 0.02510704310583426, 0.02510704310583426, 0.27808664397835914, 0.10532887201711998, 0.1711638864823982, 0.19561463878709748, 0.7427829306611772, 0.8753236618658746, 0.9078960571930165, 1.1549680718899162, 2.9310802439410772, 2.008910845015359, 2.429207048980763, 1.8446534354764972, 1.8927556748736925, 2.558612728981176, 2.84749246774654, 3.119929316873302, 2.031986915565645, 2.26678561233556, 1.9860551464006433, 1.8705139614508646, 1.8711351681926698, 2.3716927324718293, 1.7833539026464396, 2.862065727171866, 2.0956569599833323, 2.0113147607309982, 1.9860200624967603, 1.5920068026130754, 1.7023119851616002, 1.716756888172713, 1.6606626193296967, 1.5122311882184065, 1.2506441220293119, 1.062077734586883, 1.4772986758076805, 0.2525371528629596, 0.14135994706067595, 0.5519272196169446, 0.3619039088177686, 0.42152433903300296, 0.622150235531404, 0.20607510833844261, 0.20607510833844261, 0.20607510833844261, 0.20607510833844261, 0.1866454796355212, 0.31024293585246265, 0.967429400536474, 1.3060396878435687, 0.4734708011892295, 0.4734708011892295, 0.4734708011892295, 0.4734708011892295, 1.0329571436634737, 0.9601273779896947, 1.1916406317770893, 1.4148639293690501, 1.486621879264273, 1.4089281525412798, 1.4345522960854529, 1.839427761350141, 2.8283435950313804, 3.3382809244849505, 3.556909797012234, 3.581923921443876, 1.85876922597404, 1.365118302415469, 1.2831227705285322, 1.1312540579769856, 1.1163765673434065, 1.2334823715856995, 1.503488316556808, 1.3395608976338012, 0.3168041327347962, 0.2287705201667349, -0.47910970984415235, -0.31156644490669944, 0.09407980388958836, 0.3592380853461394, 0.5713776180625976, 0.16447494767246756, 0.48280181652529836, 0.3700117311249739, 0.11458057453702625, 0.18187212379018927, 0.7139667775376813, 0.8002153296609307, 2.004260341123592, 1.6051028419652162, 0.4565487327179302, -0.3665566803471855, -0.6095987471933512, -0.2822365298423077, -0.6846091919990142, -0.39239529745462015, 0.10706684796022096, -0.1765895334662083, -0.4145082611997381, -0.035656676594919806, -0.14240686593012186, -0.15440160770046743]}],                        {\"legend\": {\"bgcolor\": \"#F5F6F9\", \"font\": {\"color\": \"#4D5663\"}}, \"paper_bgcolor\": \"#F5F6F9\", \"plot_bgcolor\": \"#F5F6F9\", \"template\": {\"data\": {\"bar\": [{\"error_x\": {\"color\": \"#2a3f5f\"}, \"error_y\": {\"color\": \"#2a3f5f\"}, \"marker\": {\"line\": {\"color\": \"#E5ECF6\", \"width\": 0.5}}, \"type\": \"bar\"}], \"barpolar\": [{\"marker\": {\"line\": {\"color\": \"#E5ECF6\", \"width\": 0.5}}, \"type\": \"barpolar\"}], \"carpet\": [{\"aaxis\": {\"endlinecolor\": \"#2a3f5f\", \"gridcolor\": \"white\", \"linecolor\": \"white\", \"minorgridcolor\": \"white\", \"startlinecolor\": \"#2a3f5f\"}, \"baxis\": {\"endlinecolor\": \"#2a3f5f\", \"gridcolor\": \"white\", \"linecolor\": \"white\", \"minorgridcolor\": \"white\", \"startlinecolor\": \"#2a3f5f\"}, \"type\": \"carpet\"}], \"choropleth\": [{\"colorbar\": {\"outlinewidth\": 0, \"ticks\": \"\"}, \"type\": \"choropleth\"}], \"contour\": [{\"colorbar\": {\"outlinewidth\": 0, \"ticks\": \"\"}, \"colorscale\": [[0.0, \"#0d0887\"], [0.1111111111111111, \"#46039f\"], [0.2222222222222222, \"#7201a8\"], [0.3333333333333333, \"#9c179e\"], [0.4444444444444444, \"#bd3786\"], [0.5555555555555556, \"#d8576b\"], [0.6666666666666666, \"#ed7953\"], [0.7777777777777778, \"#fb9f3a\"], [0.8888888888888888, \"#fdca26\"], [1.0, \"#f0f921\"]], \"type\": \"contour\"}], \"contourcarpet\": [{\"colorbar\": {\"outlinewidth\": 0, \"ticks\": \"\"}, \"type\": \"contourcarpet\"}], \"heatmap\": [{\"colorbar\": {\"outlinewidth\": 0, \"ticks\": \"\"}, \"colorscale\": [[0.0, \"#0d0887\"], [0.1111111111111111, \"#46039f\"], [0.2222222222222222, \"#7201a8\"], [0.3333333333333333, \"#9c179e\"], [0.4444444444444444, \"#bd3786\"], [0.5555555555555556, \"#d8576b\"], [0.6666666666666666, \"#ed7953\"], [0.7777777777777778, \"#fb9f3a\"], [0.8888888888888888, \"#fdca26\"], [1.0, \"#f0f921\"]], \"type\": \"heatmap\"}], \"heatmapgl\": [{\"colorbar\": {\"outlinewidth\": 0, \"ticks\": \"\"}, \"colorscale\": [[0.0, \"#0d0887\"], [0.1111111111111111, \"#46039f\"], [0.2222222222222222, \"#7201a8\"], [0.3333333333333333, \"#9c179e\"], [0.4444444444444444, \"#bd3786\"], [0.5555555555555556, \"#d8576b\"], [0.6666666666666666, \"#ed7953\"], [0.7777777777777778, \"#fb9f3a\"], [0.8888888888888888, \"#fdca26\"], [1.0, \"#f0f921\"]], \"type\": \"heatmapgl\"}], \"histogram\": [{\"marker\": {\"colorbar\": {\"outlinewidth\": 0, \"ticks\": \"\"}}, \"type\": \"histogram\"}], \"histogram2d\": [{\"colorbar\": {\"outlinewidth\": 0, \"ticks\": \"\"}, \"colorscale\": [[0.0, \"#0d0887\"], [0.1111111111111111, \"#46039f\"], [0.2222222222222222, \"#7201a8\"], [0.3333333333333333, \"#9c179e\"], [0.4444444444444444, \"#bd3786\"], [0.5555555555555556, \"#d8576b\"], [0.6666666666666666, \"#ed7953\"], [0.7777777777777778, \"#fb9f3a\"], [0.8888888888888888, \"#fdca26\"], [1.0, \"#f0f921\"]], \"type\": \"histogram2d\"}], \"histogram2dcontour\": [{\"colorbar\": {\"outlinewidth\": 0, \"ticks\": \"\"}, \"colorscale\": [[0.0, \"#0d0887\"], [0.1111111111111111, \"#46039f\"], [0.2222222222222222, \"#7201a8\"], [0.3333333333333333, \"#9c179e\"], [0.4444444444444444, \"#bd3786\"], [0.5555555555555556, \"#d8576b\"], [0.6666666666666666, \"#ed7953\"], [0.7777777777777778, \"#fb9f3a\"], [0.8888888888888888, \"#fdca26\"], [1.0, \"#f0f921\"]], \"type\": \"histogram2dcontour\"}], \"mesh3d\": [{\"colorbar\": {\"outlinewidth\": 0, \"ticks\": \"\"}, \"type\": \"mesh3d\"}], \"parcoords\": [{\"line\": {\"colorbar\": {\"outlinewidth\": 0, \"ticks\": \"\"}}, \"type\": \"parcoords\"}], \"pie\": [{\"automargin\": true, \"type\": \"pie\"}], \"scatter\": [{\"marker\": {\"colorbar\": {\"outlinewidth\": 0, \"ticks\": \"\"}}, \"type\": \"scatter\"}], \"scatter3d\": [{\"line\": {\"colorbar\": {\"outlinewidth\": 0, \"ticks\": \"\"}}, \"marker\": {\"colorbar\": {\"outlinewidth\": 0, \"ticks\": \"\"}}, \"type\": \"scatter3d\"}], \"scattercarpet\": [{\"marker\": {\"colorbar\": {\"outlinewidth\": 0, \"ticks\": \"\"}}, \"type\": \"scattercarpet\"}], \"scattergeo\": [{\"marker\": {\"colorbar\": {\"outlinewidth\": 0, \"ticks\": \"\"}}, \"type\": \"scattergeo\"}], \"scattergl\": [{\"marker\": {\"colorbar\": {\"outlinewidth\": 0, \"ticks\": \"\"}}, \"type\": \"scattergl\"}], \"scattermapbox\": [{\"marker\": {\"colorbar\": {\"outlinewidth\": 0, \"ticks\": \"\"}}, \"type\": \"scattermapbox\"}], \"scatterpolar\": [{\"marker\": {\"colorbar\": {\"outlinewidth\": 0, \"ticks\": \"\"}}, \"type\": \"scatterpolar\"}], \"scatterpolargl\": [{\"marker\": {\"colorbar\": {\"outlinewidth\": 0, \"ticks\": \"\"}}, \"type\": \"scatterpolargl\"}], \"scatterternary\": [{\"marker\": {\"colorbar\": {\"outlinewidth\": 0, \"ticks\": \"\"}}, \"type\": \"scatterternary\"}], \"surface\": [{\"colorbar\": {\"outlinewidth\": 0, \"ticks\": \"\"}, \"colorscale\": [[0.0, \"#0d0887\"], [0.1111111111111111, \"#46039f\"], [0.2222222222222222, \"#7201a8\"], [0.3333333333333333, \"#9c179e\"], [0.4444444444444444, \"#bd3786\"], [0.5555555555555556, \"#d8576b\"], [0.6666666666666666, \"#ed7953\"], [0.7777777777777778, \"#fb9f3a\"], [0.8888888888888888, \"#fdca26\"], [1.0, \"#f0f921\"]], \"type\": \"surface\"}], \"table\": [{\"cells\": {\"fill\": {\"color\": \"#EBF0F8\"}, \"line\": {\"color\": \"white\"}}, \"header\": {\"fill\": {\"color\": \"#C8D4E3\"}, \"line\": {\"color\": \"white\"}}, \"type\": \"table\"}]}, \"layout\": {\"annotationdefaults\": {\"arrowcolor\": \"#2a3f5f\", \"arrowhead\": 0, \"arrowwidth\": 1}, \"autotypenumbers\": \"strict\", \"coloraxis\": {\"colorbar\": {\"outlinewidth\": 0, \"ticks\": \"\"}}, \"colorscale\": {\"diverging\": [[0, \"#8e0152\"], [0.1, \"#c51b7d\"], [0.2, \"#de77ae\"], [0.3, \"#f1b6da\"], [0.4, \"#fde0ef\"], [0.5, \"#f7f7f7\"], [0.6, \"#e6f5d0\"], [0.7, \"#b8e186\"], [0.8, \"#7fbc41\"], [0.9, \"#4d9221\"], [1, \"#276419\"]], \"sequential\": [[0.0, \"#0d0887\"], [0.1111111111111111, \"#46039f\"], [0.2222222222222222, \"#7201a8\"], [0.3333333333333333, \"#9c179e\"], [0.4444444444444444, \"#bd3786\"], [0.5555555555555556, \"#d8576b\"], [0.6666666666666666, \"#ed7953\"], [0.7777777777777778, \"#fb9f3a\"], [0.8888888888888888, \"#fdca26\"], [1.0, \"#f0f921\"]], \"sequentialminus\": [[0.0, \"#0d0887\"], [0.1111111111111111, \"#46039f\"], [0.2222222222222222, \"#7201a8\"], [0.3333333333333333, \"#9c179e\"], [0.4444444444444444, \"#bd3786\"], [0.5555555555555556, \"#d8576b\"], [0.6666666666666666, \"#ed7953\"], [0.7777777777777778, \"#fb9f3a\"], [0.8888888888888888, \"#fdca26\"], [1.0, \"#f0f921\"]]}, \"colorway\": [\"#636efa\", \"#EF553B\", \"#00cc96\", \"#ab63fa\", \"#FFA15A\", \"#19d3f3\", \"#FF6692\", \"#B6E880\", \"#FF97FF\", \"#FECB52\"], \"font\": {\"color\": \"#2a3f5f\"}, \"geo\": {\"bgcolor\": \"white\", \"lakecolor\": \"white\", \"landcolor\": \"#E5ECF6\", \"showlakes\": true, \"showland\": true, \"subunitcolor\": \"white\"}, \"hoverlabel\": {\"align\": \"left\"}, \"hovermode\": \"closest\", \"mapbox\": {\"style\": \"light\"}, \"paper_bgcolor\": \"white\", \"plot_bgcolor\": \"#E5ECF6\", \"polar\": {\"angularaxis\": {\"gridcolor\": \"white\", \"linecolor\": \"white\", \"ticks\": \"\"}, \"bgcolor\": \"#E5ECF6\", \"radialaxis\": {\"gridcolor\": \"white\", \"linecolor\": \"white\", \"ticks\": \"\"}}, \"scene\": {\"xaxis\": {\"backgroundcolor\": \"#E5ECF6\", \"gridcolor\": \"white\", \"gridwidth\": 2, \"linecolor\": \"white\", \"showbackground\": true, \"ticks\": \"\", \"zerolinecolor\": \"white\"}, \"yaxis\": {\"backgroundcolor\": \"#E5ECF6\", \"gridcolor\": \"white\", \"gridwidth\": 2, \"linecolor\": \"white\", \"showbackground\": true, \"ticks\": \"\", \"zerolinecolor\": \"white\"}, \"zaxis\": {\"backgroundcolor\": \"#E5ECF6\", \"gridcolor\": \"white\", \"gridwidth\": 2, \"linecolor\": \"white\", \"showbackground\": true, \"ticks\": \"\", \"zerolinecolor\": \"white\"}}, \"shapedefaults\": {\"line\": {\"color\": \"#2a3f5f\"}}, \"ternary\": {\"aaxis\": {\"gridcolor\": \"white\", \"linecolor\": \"white\", \"ticks\": \"\"}, \"baxis\": {\"gridcolor\": \"white\", \"linecolor\": \"white\", \"ticks\": \"\"}, \"bgcolor\": \"#E5ECF6\", \"caxis\": {\"gridcolor\": \"white\", \"linecolor\": \"white\", \"ticks\": \"\"}}, \"title\": {\"x\": 0.05}, \"xaxis\": {\"automargin\": true, \"gridcolor\": \"white\", \"linecolor\": \"white\", \"ticks\": \"\", \"title\": {\"standoff\": 15}, \"zerolinecolor\": \"white\", \"zerolinewidth\": 2}, \"yaxis\": {\"automargin\": true, \"gridcolor\": \"white\", \"linecolor\": \"white\", \"ticks\": \"\", \"title\": {\"standoff\": 15}, \"zerolinecolor\": \"white\", \"zerolinewidth\": 2}}}, \"title\": {\"font\": {\"color\": \"#4D5663\"}, \"text\": \"Sharpe Ratio Comparison\"}, \"xaxis\": {\"gridcolor\": \"#E1E5ED\", \"showgrid\": true, \"tickfont\": {\"color\": \"#4D5663\"}, \"title\": {\"font\": {\"color\": \"#4D5663\"}, \"text\": \"Date\"}, \"zerolinecolor\": \"#E1E5ED\"}, \"yaxis\": {\"gridcolor\": \"#E1E5ED\", \"showgrid\": true, \"tickfont\": {\"color\": \"#4D5663\"}, \"title\": {\"font\": {\"color\": \"#4D5663\"}, \"text\": \"Sharpe Ratio\"}, \"zerolinecolor\": \"#E1E5ED\"}},                        {\"responsive\": true}                    ).then(function(){\n",
       "                            \n",
       "var gd = document.getElementById('edc81fa0-20aa-4b40-bee2-dcb8443a0fa1');\n",
       "var x = new MutationObserver(function (mutations, observer) {{\n",
       "        var display = window.getComputedStyle(gd).display;\n",
       "        if (!display || display === 'none') {{\n",
       "            console.log([gd, 'removed!']);\n",
       "            Plotly.purge(gd);\n",
       "            observer.disconnect();\n",
       "        }}\n",
       "}});\n",
       "\n",
       "// Listen for the removal of the full notebook cells\n",
       "var notebookContainer = gd.closest('#notebook-container');\n",
       "if (notebookContainer) {{\n",
       "    x.observe(notebookContainer, {childList: true});\n",
       "}}\n",
       "\n",
       "// Listen for the clearing of the current output cell\n",
       "var outputEl = gd.closest('.output');\n",
       "if (outputEl) {{\n",
       "    x.observe(outputEl, {childList: true});\n",
       "}}\n",
       "\n",
       "                        })                };                });            </script>        </div>"
      ]
     },
     "metadata": {},
     "output_type": "display_data"
    }
   ],
   "source": [
    "louiseDf['louise_rolling'] = louiseDf['R-RF'].rolling(12).mean() / louiseDf['R-RF'].rolling(12).std() * np.sqrt(12) \n",
    "louiseDf['louise_rolling'].dropna()\n",
    "plotdf = louiseDf[['Date','louise_rolling']]\n",
    "plotdf.set_index(\"Date\")\n",
    "finalplot = pd.merge(plotdf,sharpe_plot,on = 'Date',how = 'inner')\n",
    "finalplot = finalplot.set_index(\"Date\")\n",
    "print(finalplot)\n",
    "plyo.iplot(  \n",
    "    finalplot[['naive_rolling','louise_rolling']].iplot(asFigure=True,\n",
    "                                                 title='Sharpe Ratio Comparison',  \n",
    "             xTitle='Date',  \n",
    "             yTitle='Sharpe Ratio',\n",
    "                                                 mode={'naive_rolling': 'lines+markers', 'louise_rolling': 'lines+markers'},  \n",
    "             symbol={'naive_rolling': 'circle', 'louise_rolling': 'diamond'},  \n",
    "             size=3.5,  \n",
    "             colors={'naive_rolling': 'blue', 'louise_rolling': 'red'}, ),)"
   ]
  },
  {
   "cell_type": "markdown",
   "metadata": {},
   "source": [
    "# Calculating Rolling Volatilities"
   ]
  },
  {
   "cell_type": "code",
   "execution_count": 11,
   "metadata": {},
   "outputs": [
    {
     "data": {
      "text/html": [
       "<div>\n",
       "<style scoped>\n",
       "    .dataframe tbody tr th:only-of-type {\n",
       "        vertical-align: middle;\n",
       "    }\n",
       "\n",
       "    .dataframe tbody tr th {\n",
       "        vertical-align: top;\n",
       "    }\n",
       "\n",
       "    .dataframe thead th {\n",
       "        text-align: right;\n",
       "    }\n",
       "</style>\n",
       "<table border=\"1\" class=\"dataframe\">\n",
       "  <thead>\n",
       "    <tr style=\"text-align: right;\">\n",
       "      <th></th>\n",
       "      <th>naive_std</th>\n",
       "    </tr>\n",
       "    <tr>\n",
       "      <th>Date</th>\n",
       "      <th></th>\n",
       "    </tr>\n",
       "  </thead>\n",
       "  <tbody>\n",
       "    <tr>\n",
       "      <th>1985-02-28</th>\n",
       "      <td>NaN</td>\n",
       "    </tr>\n",
       "    <tr>\n",
       "      <th>1985-03-31</th>\n",
       "      <td>NaN</td>\n",
       "    </tr>\n",
       "    <tr>\n",
       "      <th>1985-04-30</th>\n",
       "      <td>NaN</td>\n",
       "    </tr>\n",
       "    <tr>\n",
       "      <th>1985-05-31</th>\n",
       "      <td>NaN</td>\n",
       "    </tr>\n",
       "    <tr>\n",
       "      <th>1985-06-30</th>\n",
       "      <td>NaN</td>\n",
       "    </tr>\n",
       "    <tr>\n",
       "      <th>...</th>\n",
       "      <td>...</td>\n",
       "    </tr>\n",
       "    <tr>\n",
       "      <th>2020-09-30</th>\n",
       "      <td>7.076253</td>\n",
       "    </tr>\n",
       "    <tr>\n",
       "      <th>2020-10-31</th>\n",
       "      <td>7.139880</td>\n",
       "    </tr>\n",
       "    <tr>\n",
       "      <th>2020-11-30</th>\n",
       "      <td>7.683247</td>\n",
       "    </tr>\n",
       "    <tr>\n",
       "      <th>2020-12-31</th>\n",
       "      <td>7.699337</td>\n",
       "    </tr>\n",
       "    <tr>\n",
       "      <th>2021-01-31</th>\n",
       "      <td>7.718768</td>\n",
       "    </tr>\n",
       "  </tbody>\n",
       "</table>\n",
       "<p>432 rows × 1 columns</p>\n",
       "</div>"
      ],
      "text/plain": [
       "            naive_std\n",
       "Date                 \n",
       "1985-02-28        NaN\n",
       "1985-03-31        NaN\n",
       "1985-04-30        NaN\n",
       "1985-05-31        NaN\n",
       "1985-06-30        NaN\n",
       "...               ...\n",
       "2020-09-30   7.076253\n",
       "2020-10-31   7.139880\n",
       "2020-11-30   7.683247\n",
       "2020-12-31   7.699337\n",
       "2021-01-31   7.718768\n",
       "\n",
       "[432 rows x 1 columns]"
      ]
     },
     "execution_count": 11,
     "metadata": {},
     "output_type": "execute_result"
    }
   ],
   "source": [
    "df_n['naive_std'] = df_n['R-RF'].rolling(12).std() \n",
    "df_n['naive_std'].dropna()\n",
    "volatile_plot = df_n[['Date','naive_std']]\n",
    "volatile_plot.set_index('Date')"
   ]
  },
  {
   "cell_type": "markdown",
   "metadata": {},
   "source": [
    "Next, we analyse the rolling volatility which indicates that Louise's portfolio is less volatile than the naive strategy on average. This is owing to the fact that Louise tries to time the market and shifts her entire portfolio to risk-free debt at times removing any aspect of volatility. We notice this large difference in volatility in 2008 owing to the stock market crash. Even though Louise’s portfolio is less volatile, the naive strategy is better overall based on its Sharpe ratio, return rate and total investment growth.\n"
   ]
  },
  {
   "cell_type": "code",
   "execution_count": 12,
   "metadata": {},
   "outputs": [
    {
     "name": "stdout",
     "output_type": "stream",
     "text": [
      "            louise_volatile  naive_std\n",
      "Date                                  \n",
      "1985-02-28              NaN        NaN\n",
      "1985-03-31              NaN        NaN\n",
      "1985-04-30              NaN        NaN\n",
      "1985-05-31              NaN        NaN\n",
      "1985-06-30              NaN        NaN\n",
      "...                     ...        ...\n",
      "2020-09-30         5.800951   7.076253\n",
      "2020-10-31         5.758945   7.139880\n",
      "2020-11-30         6.590549   7.683247\n",
      "2020-12-31         6.544572   7.699337\n",
      "2021-01-31         6.543006   7.718768\n",
      "\n",
      "[432 rows x 2 columns]\n"
     ]
    },
    {
     "data": {
      "application/vnd.plotly.v1+json": {
       "config": {
        "linkText": "Export to plot.ly",
        "plotlyServerURL": "https://plot.ly",
        "showLink": false
       },
       "data": [
        {
         "line": {
          "color": "green",
          "dash": "solid",
          "shape": "linear",
          "width": 1.3
         },
         "marker": {
          "size": 3.5,
          "symbol": "circle"
         },
         "mode": "lines+markers",
         "name": "naive_std",
         "text": "",
         "type": "scatter",
         "x": [
          "1985-02-28",
          "1985-03-31",
          "1985-04-30",
          "1985-05-31",
          "1985-06-30",
          "1985-07-31",
          "1985-08-31",
          "1985-09-30",
          "1985-10-31",
          "1985-11-30",
          "1985-12-31",
          "1986-01-31",
          "1986-02-28",
          "1986-03-31",
          "1986-04-30",
          "1986-05-31",
          "1986-06-30",
          "1986-07-31",
          "1986-08-31",
          "1986-09-30",
          "1986-10-31",
          "1986-11-30",
          "1986-12-31",
          "1987-01-31",
          "1987-02-28",
          "1987-03-31",
          "1987-04-30",
          "1987-05-31",
          "1987-06-30",
          "1987-07-31",
          "1987-08-31",
          "1987-09-30",
          "1987-10-31",
          "1987-11-30",
          "1987-12-31",
          "1988-01-31",
          "1988-02-29",
          "1988-03-31",
          "1988-04-30",
          "1988-05-31",
          "1988-06-30",
          "1988-07-31",
          "1988-08-31",
          "1988-09-30",
          "1988-10-31",
          "1988-11-30",
          "1988-12-31",
          "1989-01-31",
          "1989-02-28",
          "1989-03-31",
          "1989-04-30",
          "1989-05-31",
          "1989-06-30",
          "1989-07-31",
          "1989-08-31",
          "1989-09-30",
          "1989-10-31",
          "1989-11-30",
          "1989-12-31",
          "1990-01-31",
          "1990-02-28",
          "1990-03-31",
          "1990-04-30",
          "1990-05-31",
          "1990-06-30",
          "1990-07-31",
          "1990-08-31",
          "1990-09-30",
          "1990-10-31",
          "1990-11-30",
          "1990-12-31",
          "1991-01-31",
          "1991-02-28",
          "1991-03-31",
          "1991-04-30",
          "1991-05-31",
          "1991-06-30",
          "1991-07-31",
          "1991-08-31",
          "1991-09-30",
          "1991-10-31",
          "1991-11-30",
          "1991-12-31",
          "1992-01-31",
          "1992-02-29",
          "1992-03-31",
          "1992-04-30",
          "1992-05-31",
          "1992-06-30",
          "1992-07-31",
          "1992-08-31",
          "1992-09-30",
          "1992-10-31",
          "1992-11-30",
          "1992-12-31",
          "1993-01-31",
          "1993-02-28",
          "1993-03-31",
          "1993-04-30",
          "1993-05-31",
          "1993-06-30",
          "1993-07-31",
          "1993-08-31",
          "1993-09-30",
          "1993-10-31",
          "1993-11-30",
          "1993-12-31",
          "1994-01-31",
          "1994-02-28",
          "1994-03-31",
          "1994-04-30",
          "1994-05-31",
          "1994-06-30",
          "1994-07-31",
          "1994-08-31",
          "1994-09-30",
          "1994-10-31",
          "1994-11-30",
          "1994-12-31",
          "1995-01-31",
          "1995-02-28",
          "1995-03-31",
          "1995-04-30",
          "1995-05-31",
          "1995-06-30",
          "1995-07-31",
          "1995-08-31",
          "1995-09-30",
          "1995-10-31",
          "1995-11-30",
          "1995-12-31",
          "1996-01-31",
          "1996-02-29",
          "1996-03-31",
          "1996-04-30",
          "1996-05-31",
          "1996-06-30",
          "1996-07-31",
          "1996-08-31",
          "1996-09-30",
          "1996-10-31",
          "1996-11-30",
          "1996-12-31",
          "1997-01-31",
          "1997-02-28",
          "1997-03-31",
          "1997-04-30",
          "1997-05-31",
          "1997-06-30",
          "1997-07-31",
          "1997-08-31",
          "1997-09-30",
          "1997-10-31",
          "1997-11-30",
          "1997-12-31",
          "1998-01-31",
          "1998-02-28",
          "1998-03-31",
          "1998-04-30",
          "1998-05-31",
          "1998-06-30",
          "1998-07-31",
          "1998-08-31",
          "1998-09-30",
          "1998-10-31",
          "1998-11-30",
          "1998-12-31",
          "1999-01-31",
          "1999-02-28",
          "1999-03-31",
          "1999-04-30",
          "1999-05-31",
          "1999-06-30",
          "1999-07-31",
          "1999-08-31",
          "1999-09-30",
          "1999-10-31",
          "1999-11-30",
          "1999-12-31",
          "2000-01-31",
          "2000-02-29",
          "2000-03-31",
          "2000-04-30",
          "2000-05-31",
          "2000-06-30",
          "2000-07-31",
          "2000-08-31",
          "2000-09-30",
          "2000-10-31",
          "2000-11-30",
          "2000-12-31",
          "2001-01-31",
          "2001-02-28",
          "2001-03-31",
          "2001-04-30",
          "2001-05-31",
          "2001-06-30",
          "2001-07-31",
          "2001-08-31",
          "2001-09-30",
          "2001-10-31",
          "2001-11-30",
          "2001-12-31",
          "2002-01-31",
          "2002-02-28",
          "2002-03-31",
          "2002-04-30",
          "2002-05-31",
          "2002-06-30",
          "2002-07-31",
          "2002-08-31",
          "2002-09-30",
          "2002-10-31",
          "2002-11-30",
          "2002-12-31",
          "2003-01-31",
          "2003-02-28",
          "2003-03-31",
          "2003-04-30",
          "2003-05-31",
          "2003-06-30",
          "2003-07-31",
          "2003-08-31",
          "2003-09-30",
          "2003-10-31",
          "2003-11-30",
          "2003-12-31",
          "2004-01-31",
          "2004-02-29",
          "2004-03-31",
          "2004-04-30",
          "2004-05-31",
          "2004-06-30",
          "2004-07-31",
          "2004-08-31",
          "2004-09-30",
          "2004-10-31",
          "2004-11-30",
          "2004-12-31",
          "2005-01-31",
          "2005-02-28",
          "2005-03-31",
          "2005-04-30",
          "2005-05-31",
          "2005-06-30",
          "2005-07-31",
          "2005-08-31",
          "2005-09-30",
          "2005-10-31",
          "2005-11-30",
          "2005-12-31",
          "2006-01-31",
          "2006-02-28",
          "2006-03-31",
          "2006-04-30",
          "2006-05-31",
          "2006-06-30",
          "2006-07-31",
          "2006-08-31",
          "2006-09-30",
          "2006-10-31",
          "2006-11-30",
          "2006-12-31",
          "2007-01-31",
          "2007-02-28",
          "2007-03-31",
          "2007-04-30",
          "2007-05-31",
          "2007-06-30",
          "2007-07-31",
          "2007-08-31",
          "2007-09-30",
          "2007-10-31",
          "2007-11-30",
          "2007-12-31",
          "2008-01-31",
          "2008-02-29",
          "2008-03-31",
          "2008-04-30",
          "2008-05-31",
          "2008-06-30",
          "2008-07-31",
          "2008-08-31",
          "2008-09-30",
          "2008-10-31",
          "2008-11-30",
          "2008-12-31",
          "2009-01-31",
          "2009-02-28",
          "2009-03-31",
          "2009-04-30",
          "2009-05-31",
          "2009-06-30",
          "2009-07-31",
          "2009-08-31",
          "2009-09-30",
          "2009-10-31",
          "2009-11-30",
          "2009-12-31",
          "2010-01-31",
          "2010-02-28",
          "2010-03-31",
          "2010-04-30",
          "2010-05-31",
          "2010-06-30",
          "2010-07-31",
          "2010-08-31",
          "2010-09-30",
          "2010-10-31",
          "2010-11-30",
          "2010-12-31",
          "2011-01-31",
          "2011-02-28",
          "2011-03-31",
          "2011-04-30",
          "2011-05-31",
          "2011-06-30",
          "2011-07-31",
          "2011-08-31",
          "2011-09-30",
          "2011-10-31",
          "2011-11-30",
          "2011-12-31",
          "2012-01-31",
          "2012-02-29",
          "2012-03-31",
          "2012-04-30",
          "2012-05-31",
          "2012-06-30",
          "2012-07-31",
          "2012-08-31",
          "2012-09-30",
          "2012-10-31",
          "2012-11-30",
          "2012-12-31",
          "2013-01-31",
          "2013-02-28",
          "2013-03-31",
          "2013-04-30",
          "2013-05-31",
          "2013-06-30",
          "2013-07-31",
          "2013-08-31",
          "2013-09-30",
          "2013-10-31",
          "2013-11-30",
          "2013-12-31",
          "2014-01-31",
          "2014-02-28",
          "2014-03-31",
          "2014-04-30",
          "2014-05-31",
          "2014-06-30",
          "2014-07-31",
          "2014-08-31",
          "2014-09-30",
          "2014-10-31",
          "2014-11-30",
          "2014-12-31",
          "2015-01-31",
          "2015-02-28",
          "2015-03-31",
          "2015-04-30",
          "2015-05-31",
          "2015-06-30",
          "2015-07-31",
          "2015-08-31",
          "2015-09-30",
          "2015-10-31",
          "2015-11-30",
          "2015-12-31",
          "2016-01-31",
          "2016-02-29",
          "2016-03-31",
          "2016-04-30",
          "2016-05-31",
          "2016-06-30",
          "2016-07-31",
          "2016-08-31",
          "2016-09-30",
          "2016-10-31",
          "2016-11-30",
          "2016-12-31",
          "2017-01-31",
          "2017-02-28",
          "2017-03-31",
          "2017-04-30",
          "2017-05-31",
          "2017-06-30",
          "2017-07-31",
          "2017-08-31",
          "2017-09-30",
          "2017-10-31",
          "2017-11-30",
          "2017-12-31",
          "2018-01-31",
          "2018-02-28",
          "2018-03-31",
          "2018-04-30",
          "2018-05-31",
          "2018-06-30",
          "2018-07-31",
          "2018-08-31",
          "2018-09-30",
          "2018-10-31",
          "2018-11-30",
          "2018-12-31",
          "2019-01-31",
          "2019-02-28",
          "2019-03-31",
          "2019-04-30",
          "2019-05-31",
          "2019-06-30",
          "2019-07-31",
          "2019-08-31",
          "2019-09-30",
          "2019-10-31",
          "2019-11-30",
          "2019-12-31",
          "2020-01-31",
          "2020-02-29",
          "2020-03-31",
          "2020-04-30",
          "2020-05-31",
          "2020-06-30",
          "2020-07-31",
          "2020-08-31",
          "2020-09-30",
          "2020-10-31",
          "2020-11-30",
          "2020-12-31",
          "2021-01-31"
         ],
         "y": [
          "",
          "",
          "",
          "",
          "",
          "",
          "",
          "",
          "",
          "",
          "",
          3.4685990308582015,
          3.9426642540486543,
          3.944714920775045,
          3.9961060131110386,
          3.961386584266854,
          3.9505338748795262,
          4.444893754574063,
          4.695684588965494,
          5.4334838929623155,
          5.518625308188475,
          5.306589093257311,
          6.301981413512251,
          7.494513135501926,
          7.325905900752542,
          7.271796757021643,
          7.263122653207378,
          7.158564968843353,
          7.217836674712185,
          6.98158083571241,
          6.817230398253392,
          6.112116525596437,
          9.0799542630376,
          9.345574239251933,
          8.906329375630936,
          7.836729943694893,
          7.911962645054285,
          7.946080557553866,
          7.971565264964391,
          7.966455870809798,
          7.93787895456322,
          7.724364659805938,
          7.613184376095822,
          7.720975606049727,
          4.280227525622595,
          3.308909889786513,
          3.051410478309998,
          3.6759293658866006,
          3.626549859030389,
          3.3414541675973792,
          3.5824124209935966,
          3.627865841855767,
          3.6677669548769534,
          4.317415419263583,
          3.9514175051945277,
          4.070651026556611,
          4.21944276423503,
          4.092947382638943,
          4.127812578726209,
          3.97681338085484,
          3.8306286209144833,
          3.8334207398776416,
          3.6658068493889093,
          4.422419071136857,
          4.420435765455752,
          3.5469974004051514,
          4.4310907810796225,
          4.655654076321108,
          4.653688959193037,
          5.057963532441339,
          5.055043134512101,
          5.173713223669527,
          5.507123527439855,
          5.507140448299185,
          5.41429154277084,
          4.883154034545984,
          5.141251570637484,
          5.299459318304714,
          4.207808292224528,
          3.730844215388814,
          3.6652270533652525,
          3.8618758253328025,
          4.471250766691262,
          4.327839188242271,
          3.9909043622516265,
          4.124446064694128,
          4.193250779905498,
          4.082968082323382,
          3.7609395210122125,
          3.729817821378433,
          3.804745493668702,
          3.69077141101799,
          3.681984101598224,
          3.3998757357628664,
          2.2950337521872526,
          2.2753142268116346,
          2.2786950312454572,
          2.016588668705823,
          2.0565795482271825,
          2.1307874268702,
          1.9506237453350708,
          1.6122253868229617,
          1.5895577367648024,
          1.7398383387266811,
          1.8011919200619266,
          1.7453517061678738,
          1.752873680829803,
          2.056993148974127,
          2.310414272534629,
          2.819230455378755,
          2.77650891973003,
          2.711758654839456,
          2.8789117141390443,
          3.0666016464181123,
          3.083937798825809,
          3.212765470916006,
          3.2126260318789197,
          3.4084095265313716,
          3.40894290755847,
          3.3152469295758213,
          3.3672023262421686,
          2.9004129737977107,
          2.961319542937574,
          3.04403126507658,
          2.708761083765605,
          2.6939546022125405,
          2.641939391050072,
          2.2858111246920987,
          2.358684055237306,
          1.6819739690278515,
          1.5962248544719984,
          1.643406134873136,
          1.6693115437131794,
          1.7560001215842491,
          1.72591015935343,
          1.6516848397629051,
          1.7515640451448826,
          2.370475556142707,
          2.357038976217221,
          2.5195713112755307,
          2.5051879073051495,
          2.936223052960565,
          3.289040439717652,
          3.5739069793185876,
          3.5776255312154976,
          4.035768222190231,
          4.267309447432581,
          4.428058248322974,
          4.404708726225561,
          4.146219461355428,
          4.921209136898266,
          4.917116469033642,
          5.211305467000376,
          5.012419265873913,
          4.76483983327446,
          4.5341187410664885,
          4.750774382715868,
          4.213613051177396,
          4.138933765308498,
          4.2132091104486005,
          4.200048755720634,
          3.8073033222952253,
          5.701551559242904,
          5.774021845878798,
          6.033847237205105,
          6.116433979680065,
          6.160903277879091,
          6.196639468685128,
          6.2036302999164,
          6.155026439251913,
          6.1970209037807615,
          6.229733966600583,
          6.285760726227194,
          6.389362910446877,
          3.984528718213407,
          4.182494143731862,
          3.947114692055533,
          3.7217661281385697,
          3.7337442026396186,
          4.010829569768895,
          3.92223462100536,
          4.601553270233021,
          4.673896251760351,
          4.662349795932283,
          4.486027511198743,
          4.403019572449974,
          4.63722834259315,
          4.9113352621191435,
          4.596112768351832,
          5.166559146031662,
          4.872027074501422,
          4.855499313325724,
          5.507689642268188,
          4.726625963357252,
          5.528819086190969,
          5.540889185048912,
          5.470720638735053,
          5.473155006688652,
          5.12586653904753,
          5.34157330727103,
          5.498374354160122,
          5.875240436147381,
          5.8883829314138,
          5.712319264831622,
          5.151160083907274,
          4.907591999671491,
          4.502585508125623,
          4.4772081802688,
          4.81221662201145,
          5.087620045686344,
          4.952940087906326,
          5.349424824825586,
          6.156550382898549,
          5.979832930429542,
          6.13362796090624,
          6.128767168527223,
          6.130561800400233,
          5.954404935881627,
          6.588284577157508,
          6.8345965018562085,
          6.477226963628362,
          6.020606441663898,
          6.025441463050007,
          4.702411303855248,
          4.33205880703844,
          4.098577774986912,
          3.363613767432471,
          3.0788571240278166,
          2.83422000341392,
          3.0825551890728127,
          2.595222478926108,
          2.3491306686418714,
          2.34371483089742,
          2.6644611082547387,
          2.6560890309559624,
          2.5520192249412386,
          2.0496278297110226,
          2.2517775317409905,
          1.9976104981922584,
          2.0729654492190837,
          2.104934116915002,
          2.150500006744909,
          2.1844905499293596,
          2.2939812626460374,
          2.288407442528464,
          2.2143954072099414,
          2.2950836197150775,
          2.3054888910257487,
          2.3656627583277063,
          2.310805052254665,
          2.2446427779520857,
          2.261315124053262,
          2.2262081142547023,
          2.0489762844014106,
          1.9133948654412907,
          2.1497045377535806,
          2.1580534549164154,
          1.8641598381323525,
          1.884837658340577,
          1.920360397017065,
          1.9650917885747996,
          1.807278716654514,
          1.7438725893146578,
          1.6484248746148937,
          1.8661108119653,
          1.8678126547797582,
          2.173185175688703,
          1.8308208523183316,
          2.0656641996767533,
          2.406029077822626,
          2.383430929245116,
          2.452766952164001,
          2.353061865429273,
          2.7852432650830727,
          2.829585576557176,
          3.2340026746302257,
          3.300270923296834,
          3.291253490097106,
          3.4072815760196917,
          3.2564374954219284,
          4.023831828783215,
          3.991406782402658,
          4.004035240971335,
          4.452159477460189,
          5.861046695910612,
          5.946680879972201,
          6.028754210362936,
          6.109274647547779,
          6.405940208659068,
          7.3207624502582105,
          8.008810026568467,
          8.335780293448003,
          8.135081197787416,
          8.667441301718483,
          8.75926609649303,
          8.435998679040416,
          6.777013900592948,
          6.385185827575237,
          6.363359780568422,
          5.835213306836794,
          4.089408603211736,
          3.914922016724383,
          3.2855473885637596,
          4.395446774982592,
          4.8725009152401135,
          4.797149500408625,
          4.995494236209663,
          5.449830923699966,
          5.4779579495977755,
          5.292647430154592,
          5.511162140512142,
          5.350913895095147,
          5.358608286608494,
          5.254578946660981,
          5.28604118632839,
          4.481350344572089,
          4.0085166197436175,
          3.7887419493648733,
          3.929355668682405,
          4.074998158086112,
          5.130910395574781,
          5.1343260084928275,
          4.836382457048493,
          4.986943154450958,
          5.0420911207048755,
          5.075664560144533,
          5.014408577561829,
          5.345992981785903,
          5.386921808382813,
          5.35360520553539,
          4.9776359789775135,
          4.08776643246602,
          2.998746611863953,
          2.972787826691994,
          2.979901242560869,
          3.0844109699024673,
          2.939392744301475,
          2.965144632672773,
          2.952760862912168,
          1.8322426056358723,
          2.0626171130309667,
          2.365324280008315,
          2.734041535872123,
          2.750346413419376,
          2.7651618310701678,
          2.7359707586538886,
          2.6622122024206547,
          2.828385133880849,
          2.945703742758756,
          2.943091590470428,
          2.9386574508162804,
          2.9388285352532386,
          2.737423865927091,
          2.581070607931747,
          2.304125491866702,
          2.5282499479845244,
          2.318580956937036,
          2.2978175565961694,
          2.363059804100499,
          2.291241532327955,
          2.469234822329065,
          2.6404137860865067,
          2.6430222850313307,
          2.6134269627040347,
          2.7694398204770367,
          2.7706906896637737,
          3.2331581663044324,
          3.309652804963033,
          4.151788506288564,
          4.094020672026868,
          4.145413716752402,
          4.296998194867005,
          3.9023410695176968,
          4.307316620138375,
          4.295803339542278,
          4.309939961267126,
          4.237790831642742,
          4.337012196956516,
          3.824444501029204,
          3.6484872571966904,
          2.7796189561980973,
          2.938553625778543,
          2.8041463079681086,
          2.2460649148266043,
          2.2759680317472903,
          1.8945131748670867,
          1.8894712866930565,
          1.885052297438331,
          1.8602308140194084,
          1.6819924537726918,
          1.6766078871322017,
          1.5936003251343107,
          1.3633262636576022,
          1.2834236082278072,
          1.3207480145300152,
          1.8451278201655554,
          2.355365391711398,
          2.6398362814531087,
          2.639008304406467,
          2.663803805025022,
          2.6671089042250187,
          2.77886958354557,
          2.811968409320639,
          2.842034609368045,
          3.597019623972679,
          3.540647649828535,
          4.584734495512135,
          4.910217631269902,
          4.856294424549507,
          4.739499565265286,
          4.859027989716436,
          5.297698654271654,
          5.579224758854204,
          5.497619097781157,
          5.474764663803944,
          5.482407079175441,
          5.049610768875302,
          5.095868886562015,
          3.774451369728484,
          3.2641602528678515,
          4.28260321342457,
          5.764988410275828,
          6.919404904239463,
          6.6891094351397244,
          6.486057175576129,
          6.672128707972972,
          6.844157524438583,
          7.0762530898277065,
          7.139879505183072,
          7.683246743274835,
          7.699336844090659,
          7.718767546230142
         ]
        },
        {
         "line": {
          "color": "orange",
          "dash": "solid",
          "shape": "linear",
          "width": 1.3
         },
         "marker": {
          "size": 3.5,
          "symbol": "diamond"
         },
         "mode": "lines+markers",
         "name": "louise_volatile",
         "text": "",
         "type": "scatter",
         "x": [
          "1985-02-28",
          "1985-03-31",
          "1985-04-30",
          "1985-05-31",
          "1985-06-30",
          "1985-07-31",
          "1985-08-31",
          "1985-09-30",
          "1985-10-31",
          "1985-11-30",
          "1985-12-31",
          "1986-01-31",
          "1986-02-28",
          "1986-03-31",
          "1986-04-30",
          "1986-05-31",
          "1986-06-30",
          "1986-07-31",
          "1986-08-31",
          "1986-09-30",
          "1986-10-31",
          "1986-11-30",
          "1986-12-31",
          "1987-01-31",
          "1987-02-28",
          "1987-03-31",
          "1987-04-30",
          "1987-05-31",
          "1987-06-30",
          "1987-07-31",
          "1987-08-31",
          "1987-09-30",
          "1987-10-31",
          "1987-11-30",
          "1987-12-31",
          "1988-01-31",
          "1988-02-29",
          "1988-03-31",
          "1988-04-30",
          "1988-05-31",
          "1988-06-30",
          "1988-07-31",
          "1988-08-31",
          "1988-09-30",
          "1988-10-31",
          "1988-11-30",
          "1988-12-31",
          "1989-01-31",
          "1989-02-28",
          "1989-03-31",
          "1989-04-30",
          "1989-05-31",
          "1989-06-30",
          "1989-07-31",
          "1989-08-31",
          "1989-09-30",
          "1989-10-31",
          "1989-11-30",
          "1989-12-31",
          "1990-01-31",
          "1990-02-28",
          "1990-03-31",
          "1990-04-30",
          "1990-05-31",
          "1990-06-30",
          "1990-07-31",
          "1990-08-31",
          "1990-09-30",
          "1990-10-31",
          "1990-11-30",
          "1990-12-31",
          "1991-01-31",
          "1991-02-28",
          "1991-03-31",
          "1991-04-30",
          "1991-05-31",
          "1991-06-30",
          "1991-07-31",
          "1991-08-31",
          "1991-09-30",
          "1991-10-31",
          "1991-11-30",
          "1991-12-31",
          "1992-01-31",
          "1992-02-29",
          "1992-03-31",
          "1992-04-30",
          "1992-05-31",
          "1992-06-30",
          "1992-07-31",
          "1992-08-31",
          "1992-09-30",
          "1992-10-31",
          "1992-11-30",
          "1992-12-31",
          "1993-01-31",
          "1993-02-28",
          "1993-03-31",
          "1993-04-30",
          "1993-05-31",
          "1993-06-30",
          "1993-07-31",
          "1993-08-31",
          "1993-09-30",
          "1993-10-31",
          "1993-11-30",
          "1993-12-31",
          "1994-01-31",
          "1994-02-28",
          "1994-03-31",
          "1994-04-30",
          "1994-05-31",
          "1994-06-30",
          "1994-07-31",
          "1994-08-31",
          "1994-09-30",
          "1994-10-31",
          "1994-11-30",
          "1994-12-31",
          "1995-01-31",
          "1995-02-28",
          "1995-03-31",
          "1995-04-30",
          "1995-05-31",
          "1995-06-30",
          "1995-07-31",
          "1995-08-31",
          "1995-09-30",
          "1995-10-31",
          "1995-11-30",
          "1995-12-31",
          "1996-01-31",
          "1996-02-29",
          "1996-03-31",
          "1996-04-30",
          "1996-05-31",
          "1996-06-30",
          "1996-07-31",
          "1996-08-31",
          "1996-09-30",
          "1996-10-31",
          "1996-11-30",
          "1996-12-31",
          "1997-01-31",
          "1997-02-28",
          "1997-03-31",
          "1997-04-30",
          "1997-05-31",
          "1997-06-30",
          "1997-07-31",
          "1997-08-31",
          "1997-09-30",
          "1997-10-31",
          "1997-11-30",
          "1997-12-31",
          "1998-01-31",
          "1998-02-28",
          "1998-03-31",
          "1998-04-30",
          "1998-05-31",
          "1998-06-30",
          "1998-07-31",
          "1998-08-31",
          "1998-09-30",
          "1998-10-31",
          "1998-11-30",
          "1998-12-31",
          "1999-01-31",
          "1999-02-28",
          "1999-03-31",
          "1999-04-30",
          "1999-05-31",
          "1999-06-30",
          "1999-07-31",
          "1999-08-31",
          "1999-09-30",
          "1999-10-31",
          "1999-11-30",
          "1999-12-31",
          "2000-01-31",
          "2000-02-29",
          "2000-03-31",
          "2000-04-30",
          "2000-05-31",
          "2000-06-30",
          "2000-07-31",
          "2000-08-31",
          "2000-09-30",
          "2000-10-31",
          "2000-11-30",
          "2000-12-31",
          "2001-01-31",
          "2001-02-28",
          "2001-03-31",
          "2001-04-30",
          "2001-05-31",
          "2001-06-30",
          "2001-07-31",
          "2001-08-31",
          "2001-09-30",
          "2001-10-31",
          "2001-11-30",
          "2001-12-31",
          "2002-01-31",
          "2002-02-28",
          "2002-03-31",
          "2002-04-30",
          "2002-05-31",
          "2002-06-30",
          "2002-07-31",
          "2002-08-31",
          "2002-09-30",
          "2002-10-31",
          "2002-11-30",
          "2002-12-31",
          "2003-01-31",
          "2003-02-28",
          "2003-03-31",
          "2003-04-30",
          "2003-05-31",
          "2003-06-30",
          "2003-07-31",
          "2003-08-31",
          "2003-09-30",
          "2003-10-31",
          "2003-11-30",
          "2003-12-31",
          "2004-01-31",
          "2004-02-29",
          "2004-03-31",
          "2004-04-30",
          "2004-05-31",
          "2004-06-30",
          "2004-07-31",
          "2004-08-31",
          "2004-09-30",
          "2004-10-31",
          "2004-11-30",
          "2004-12-31",
          "2005-01-31",
          "2005-02-28",
          "2005-03-31",
          "2005-04-30",
          "2005-05-31",
          "2005-06-30",
          "2005-07-31",
          "2005-08-31",
          "2005-09-30",
          "2005-10-31",
          "2005-11-30",
          "2005-12-31",
          "2006-01-31",
          "2006-02-28",
          "2006-03-31",
          "2006-04-30",
          "2006-05-31",
          "2006-06-30",
          "2006-07-31",
          "2006-08-31",
          "2006-09-30",
          "2006-10-31",
          "2006-11-30",
          "2006-12-31",
          "2007-01-31",
          "2007-02-28",
          "2007-03-31",
          "2007-04-30",
          "2007-05-31",
          "2007-06-30",
          "2007-07-31",
          "2007-08-31",
          "2007-09-30",
          "2007-10-31",
          "2007-11-30",
          "2007-12-31",
          "2008-01-31",
          "2008-02-29",
          "2008-03-31",
          "2008-04-30",
          "2008-05-31",
          "2008-06-30",
          "2008-07-31",
          "2008-08-31",
          "2008-09-30",
          "2008-10-31",
          "2008-11-30",
          "2008-12-31",
          "2009-01-31",
          "2009-02-28",
          "2009-03-31",
          "2009-04-30",
          "2009-05-31",
          "2009-06-30",
          "2009-07-31",
          "2009-08-31",
          "2009-09-30",
          "2009-10-31",
          "2009-11-30",
          "2009-12-31",
          "2010-01-31",
          "2010-02-28",
          "2010-03-31",
          "2010-04-30",
          "2010-05-31",
          "2010-06-30",
          "2010-07-31",
          "2010-08-31",
          "2010-09-30",
          "2010-10-31",
          "2010-11-30",
          "2010-12-31",
          "2011-01-31",
          "2011-02-28",
          "2011-03-31",
          "2011-04-30",
          "2011-05-31",
          "2011-06-30",
          "2011-07-31",
          "2011-08-31",
          "2011-09-30",
          "2011-10-31",
          "2011-11-30",
          "2011-12-31",
          "2012-01-31",
          "2012-02-29",
          "2012-03-31",
          "2012-04-30",
          "2012-05-31",
          "2012-06-30",
          "2012-07-31",
          "2012-08-31",
          "2012-09-30",
          "2012-10-31",
          "2012-11-30",
          "2012-12-31",
          "2013-01-31",
          "2013-02-28",
          "2013-03-31",
          "2013-04-30",
          "2013-05-31",
          "2013-06-30",
          "2013-07-31",
          "2013-08-31",
          "2013-09-30",
          "2013-10-31",
          "2013-11-30",
          "2013-12-31",
          "2014-01-31",
          "2014-02-28",
          "2014-03-31",
          "2014-04-30",
          "2014-05-31",
          "2014-06-30",
          "2014-07-31",
          "2014-08-31",
          "2014-09-30",
          "2014-10-31",
          "2014-11-30",
          "2014-12-31",
          "2015-01-31",
          "2015-02-28",
          "2015-03-31",
          "2015-04-30",
          "2015-05-31",
          "2015-06-30",
          "2015-07-31",
          "2015-08-31",
          "2015-09-30",
          "2015-10-31",
          "2015-11-30",
          "2015-12-31",
          "2016-01-31",
          "2016-02-29",
          "2016-03-31",
          "2016-04-30",
          "2016-05-31",
          "2016-06-30",
          "2016-07-31",
          "2016-08-31",
          "2016-09-30",
          "2016-10-31",
          "2016-11-30",
          "2016-12-31",
          "2017-01-31",
          "2017-02-28",
          "2017-03-31",
          "2017-04-30",
          "2017-05-31",
          "2017-06-30",
          "2017-07-31",
          "2017-08-31",
          "2017-09-30",
          "2017-10-31",
          "2017-11-30",
          "2017-12-31",
          "2018-01-31",
          "2018-02-28",
          "2018-03-31",
          "2018-04-30",
          "2018-05-31",
          "2018-06-30",
          "2018-07-31",
          "2018-08-31",
          "2018-09-30",
          "2018-10-31",
          "2018-11-30",
          "2018-12-31",
          "2019-01-31",
          "2019-02-28",
          "2019-03-31",
          "2019-04-30",
          "2019-05-31",
          "2019-06-30",
          "2019-07-31",
          "2019-08-31",
          "2019-09-30",
          "2019-10-31",
          "2019-11-30",
          "2019-12-31",
          "2020-01-31",
          "2020-02-29",
          "2020-03-31",
          "2020-04-30",
          "2020-05-31",
          "2020-06-30",
          "2020-07-31",
          "2020-08-31",
          "2020-09-30",
          "2020-10-31",
          "2020-11-30",
          "2020-12-31",
          "2021-01-31"
         ],
         "y": [
          "",
          "",
          "",
          "",
          "",
          "",
          "",
          "",
          "",
          "",
          "",
          2.2256298020519862,
          3.0124243129236152,
          3.117903308073588,
          3.1740047369142896,
          3.127608303109969,
          3.1181872903042485,
          3.647706901845796,
          4.043175058075621,
          4.836225110970328,
          5.055179752312088,
          5.04560285190272,
          6.279175741989257,
          7.466315552223732,
          7.299005595402638,
          7.242054238676357,
          7.231825270572514,
          7.128122882739774,
          7.19202239607741,
          6.954525724234255,
          6.793838391141896,
          6.08582779285163,
          9.02910526065409,
          9.318046089699763,
          8.72332511877411,
          7.4386405271923035,
          7.295289737364438,
          7.241475712130294,
          7.3025444552526,
          7.29499035768679,
          7.2464473351114105,
          6.93120836263384,
          6.685496179961111,
          6.909005718208451,
          3.369113236301651,
          2.2274150451587693,
          2.2591816817439225,
          3.2906066120032316,
          3.4473063723883213,
          3.1489257687398187,
          3.4076825220227827,
          3.466447509114938,
          3.5101140482271975,
          4.191778557109525,
          3.8296334667076333,
          3.9533340064150306,
          4.105388479795477,
          4.082115076132549,
          4.015138932844218,
          3.4630375580092463,
          3.23542747177376,
          3.224559130162446,
          3.1615329774172922,
          3.924004431687667,
          3.9190043028032227,
          3.0763423326685104,
          4.214439410698866,
          4.201067224713031,
          4.150355698285709,
          4.122892169416626,
          4.122892169416626,
          4.122892169416626,
          4.579024843869888,
          4.576705932559521,
          4.492179018015185,
          3.7785130070209094,
          4.075431793594789,
          4.32823108707772,
          3.0369165152994353,
          3.209114149783748,
          3.2001550741762976,
          3.557855511757756,
          4.310136025534628,
          4.333620770598107,
          4.000359245772174,
          4.1284077510538975,
          4.197666781470668,
          4.090774741327432,
          3.760165916875351,
          3.7211921520570126,
          3.799085743984731,
          3.6861526245670655,
          3.6778132415890843,
          3.394107819705241,
          2.285059642120331,
          2.263049272641318,
          2.2671886118389613,
          2.0150254578151015,
          2.0568379033420268,
          2.1293724042076527,
          1.9535850042702614,
          1.6168558258028205,
          1.5883811455294041,
          1.7374715576932243,
          1.795553140231533,
          1.7365719152774013,
          1.7452814515358732,
          2.05459553358289,
          2.314138404665529,
          2.8107660147143823,
          2.766937634478862,
          2.6775611599152747,
          2.673397673535966,
          2.8520680799476716,
          2.878464983013862,
          3.0255762709245055,
          3.0286691726941823,
          3.251281632620822,
          3.2528717386646475,
          3.1544242659715898,
          3.1715631429545983,
          2.641712488301257,
          2.69853989536085,
          2.752318848924132,
          2.715359709214587,
          2.70151476004552,
          2.6427258014372454,
          2.2819858048310313,
          2.3521937594852456,
          1.6614438084317096,
          1.577109863617055,
          1.620369185343248,
          1.6517182029603654,
          1.7387290319767699,
          1.7078164837099399,
          1.6216792389693082,
          1.7238782313706404,
          2.33983898170849,
          2.3261218672060227,
          2.4982191831720812,
          2.485298075939546,
          2.9215335928992068,
          3.271133982568979,
          3.559934332914835,
          3.5644236550223267,
          4.018577646523489,
          4.250889535377979,
          4.417406952142305,
          4.388617153994967,
          4.144496595566216,
          4.922045362753812,
          4.917898390109422,
          5.214193129867892,
          5.015074974119548,
          4.769683219197971,
          4.540786989120839,
          4.751761596560817,
          4.221500977742802,
          4.145168646469149,
          4.2170243381512815,
          4.209014498465438,
          3.80864867021827,
          5.692790837063788,
          5.765794900748723,
          5.637877458571606,
          5.530927656134932,
          5.671786437405188,
          5.765527527235413,
          5.587648757792789,
          5.511456033601659,
          5.608022502645716,
          5.633564401238928,
          5.725540402383037,
          5.803958098316418,
          3.4276595681497586,
          3.382489415858492,
          3.382489415858492,
          3.382489415858492,
          3.1198867034537976,
          3.1790115257879945,
          3.1009150394647644,
          4.074880166330035,
          3.9090392469399364,
          3.8326707925085968,
          3.501553765281675,
          3.39478053237113,
          3.3888969884714593,
          3.229396313771071,
          3.229396313771071,
          3.229396313771071,
          3.229396313771071,
          2.768004674384872,
          2.6259245551504407,
          2.0182466745365413,
          3.121813593110517,
          3.121813593110517,
          3.121813593110517,
          3.137756752185452,
          3.661721251270722,
          3.661721251270722,
          3.661721251270722,
          3.661721251270722,
          3.661721251270722,
          3.6617461273231977,
          3.675413805541078,
          3.2981773685698594,
          2.265447219251808,
          2.265447219251808,
          2.265447219251808,
          2.2685115303672965,
          1.2434126783293284,
          1.2434126783293284,
          1.2434126783293284,
          1.2434126783293284,
          1.2434126783293284,
          1.3591449526106576,
          1.303379324521296,
          0.7617100997047324,
          0.7617100997047324,
          0.7617100997047324,
          0.8295650065838582,
          1.05069009063681,
          1.1926059540288427,
          1.2789163857561618,
          2.161248975848232,
          2.158738083961013,
          2.4584301754879156,
          2.271947444471277,
          2.08355655763469,
          2.2747360759484874,
          2.3756485466223554,
          2.3434956546439336,
          2.372337016769771,
          2.3877866015534166,
          2.3861084755479256,
          2.2597208620143836,
          1.7038455593244786,
          1.9285014579060584,
          1.6397210428424867,
          1.760509149356297,
          1.7941698970524527,
          1.8467355263871832,
          1.8881195385925522,
          2.0071863142035795,
          2.0071863142035795,
          2.0071863142035795,
          2.0137779908813607,
          2.02239480469638,
          1.9910505696234106,
          1.6611227243702578,
          1.4859898554166833,
          1.3736597399064034,
          1.24242699980387,
          1.0276988394279123,
          0.9083564627911078,
          1.0533880704102898,
          1.06409656381457,
          1.0908235791961634,
          1.2527076360464462,
          1.3460084441556948,
          1.6204191979449998,
          1.641699727437997,
          1.633260696534808,
          1.6471724651731474,
          1.873002863371836,
          1.8674321241302665,
          2.17399104203609,
          1.84306103030626,
          2.0755279076477917,
          2.414502729948056,
          2.3913280976769107,
          2.3823281033027945,
          2.235516428177534,
          2.6034035440623122,
          2.6276050176205614,
          2.979135927309587,
          2.9502533267862425,
          2.9417359659819295,
          2.4764451557959903,
          2.147700688726529,
          2.149400073969353,
          2.0643282567641252,
          2.082816096957986,
          2.082816096957986,
          2.082816096957986,
          1.7592956685015362,
          1.7338963290650917,
          0.41789180674058296,
          0.41789180674058296,
          0.41789180674058296,
          0.41789180674058296,
          0.41789180674058296,
          0.43122122664794565,
          2.3555869287923183,
          2.492008108894035,
          2.551356946679237,
          2.6413218437052994,
          2.9595199535903385,
          2.919068075368884,
          3.1944296066722524,
          3.1906876856697086,
          3.3222051911140316,
          3.2523625539806598,
          4.3973626019883705,
          4.874600611710001,
          4.799282163400949,
          4.746885015946512,
          4.69424432959437,
          4.657520665208991,
          4.3543073423702054,
          4.6821811186885665,
          4.569926313497187,
          4.58314510238737,
          4.3770444559602595,
          4.433695677219439,
          3.555550458128461,
          3.012240364207236,
          2.4971924872188804,
          2.4971924872188804,
          2.4971924872188804,
          2.4971924872188804,
          2.4971924872188804,
          1.851625936171708,
          1.6872208442931833,
          1.3349395026151811,
          1.5876240021413603,
          1.211160835934216,
          2.0724052791721395,
          2.329336987609696,
          2.281799604432457,
          2.281799604432457,
          2.3576217885417576,
          2.40177072693462,
          2.4054946604548704,
          2.4052981604737007,
          2.919519638808908,
          2.919004548444289,
          2.9494288047359283,
          2.964264845742504,
          1.989952397563351,
          2.1267830565898502,
          2.4210492455234216,
          2.732567555588177,
          2.7488966752602324,
          2.7638973082289566,
          2.734761396321539,
          2.661020106811982,
          2.828385133880857,
          2.945703742758764,
          2.9430915904704356,
          2.9386574508162884,
          2.938828535253246,
          2.7374238659270995,
          2.5810706079317565,
          2.3041254918667122,
          2.528249947984534,
          2.318580956937047,
          2.29781755659618,
          2.3630598041005095,
          2.2912415323279656,
          2.4692348223290748,
          2.4838905420507356,
          2.5076714084210496,
          2.4932379507480635,
          2.494443993307109,
          2.4775114899419504,
          3.0291315567050874,
          3.1153473599517056,
          3.9787770285423125,
          3.928258267783562,
          3.9129333011362815,
          3.80597978935349,
          3.4583583858356914,
          3.4583583858356914,
          3.4583583858356914,
          3.4583583858356914,
          3.46025598065616,
          3.589167998600869,
          2.986445954128529,
          2.77396162587454,
          1.3183707519255088,
          1.3183707519255088,
          1.3183707519255088,
          1.3183707519255088,
          1.7005584086331462,
          1.7144675932487352,
          1.7281419931304127,
          1.7296540050381888,
          1.7151233671712656,
          1.4550536046180846,
          1.4519890618893263,
          1.432335802623511,
          1.3555517262613297,
          1.4052565877849863,
          1.364677099433206,
          1.8470100403857765,
          2.3585790777476823,
          2.641342365676679,
          2.6401897612299514,
          2.6517356861394474,
          2.6551187322815646,
          2.778452556620749,
          2.82915522887406,
          2.8506293219507035,
          3.5527575684488855,
          3.4906159269562327,
          4.506797532003411,
          4.846038818146593,
          4.813226729537858,
          4.711464988068449,
          4.84597831355684,
          5.295385284877201,
          5.573624463127916,
          5.491116805675527,
          5.469407814506194,
          5.477320844449135,
          5.048441993664983,
          5.09369202384795,
          3.77593352385952,
          3.261478840873625,
          4.282400275374374,
          5.763440212550684,
          5.551410904512211,
          5.265823687065431,
          4.829332764780933,
          5.202626734267179,
          5.664948494301054,
          5.800951364756965,
          5.758944504000502,
          6.590549221382716,
          6.54457249055133,
          6.543006188148369
         ]
        }
       ],
       "layout": {
        "legend": {
         "bgcolor": "#F5F6F9",
         "font": {
          "color": "#4D5663"
         }
        },
        "paper_bgcolor": "#F5F6F9",
        "plot_bgcolor": "#F5F6F9",
        "template": {
         "data": {
          "bar": [
           {
            "error_x": {
             "color": "#2a3f5f"
            },
            "error_y": {
             "color": "#2a3f5f"
            },
            "marker": {
             "line": {
              "color": "#E5ECF6",
              "width": 0.5
             }
            },
            "type": "bar"
           }
          ],
          "barpolar": [
           {
            "marker": {
             "line": {
              "color": "#E5ECF6",
              "width": 0.5
             }
            },
            "type": "barpolar"
           }
          ],
          "carpet": [
           {
            "aaxis": {
             "endlinecolor": "#2a3f5f",
             "gridcolor": "white",
             "linecolor": "white",
             "minorgridcolor": "white",
             "startlinecolor": "#2a3f5f"
            },
            "baxis": {
             "endlinecolor": "#2a3f5f",
             "gridcolor": "white",
             "linecolor": "white",
             "minorgridcolor": "white",
             "startlinecolor": "#2a3f5f"
            },
            "type": "carpet"
           }
          ],
          "choropleth": [
           {
            "colorbar": {
             "outlinewidth": 0,
             "ticks": ""
            },
            "type": "choropleth"
           }
          ],
          "contour": [
           {
            "colorbar": {
             "outlinewidth": 0,
             "ticks": ""
            },
            "colorscale": [
             [
              0,
              "#0d0887"
             ],
             [
              0.1111111111111111,
              "#46039f"
             ],
             [
              0.2222222222222222,
              "#7201a8"
             ],
             [
              0.3333333333333333,
              "#9c179e"
             ],
             [
              0.4444444444444444,
              "#bd3786"
             ],
             [
              0.5555555555555556,
              "#d8576b"
             ],
             [
              0.6666666666666666,
              "#ed7953"
             ],
             [
              0.7777777777777778,
              "#fb9f3a"
             ],
             [
              0.8888888888888888,
              "#fdca26"
             ],
             [
              1,
              "#f0f921"
             ]
            ],
            "type": "contour"
           }
          ],
          "contourcarpet": [
           {
            "colorbar": {
             "outlinewidth": 0,
             "ticks": ""
            },
            "type": "contourcarpet"
           }
          ],
          "heatmap": [
           {
            "colorbar": {
             "outlinewidth": 0,
             "ticks": ""
            },
            "colorscale": [
             [
              0,
              "#0d0887"
             ],
             [
              0.1111111111111111,
              "#46039f"
             ],
             [
              0.2222222222222222,
              "#7201a8"
             ],
             [
              0.3333333333333333,
              "#9c179e"
             ],
             [
              0.4444444444444444,
              "#bd3786"
             ],
             [
              0.5555555555555556,
              "#d8576b"
             ],
             [
              0.6666666666666666,
              "#ed7953"
             ],
             [
              0.7777777777777778,
              "#fb9f3a"
             ],
             [
              0.8888888888888888,
              "#fdca26"
             ],
             [
              1,
              "#f0f921"
             ]
            ],
            "type": "heatmap"
           }
          ],
          "heatmapgl": [
           {
            "colorbar": {
             "outlinewidth": 0,
             "ticks": ""
            },
            "colorscale": [
             [
              0,
              "#0d0887"
             ],
             [
              0.1111111111111111,
              "#46039f"
             ],
             [
              0.2222222222222222,
              "#7201a8"
             ],
             [
              0.3333333333333333,
              "#9c179e"
             ],
             [
              0.4444444444444444,
              "#bd3786"
             ],
             [
              0.5555555555555556,
              "#d8576b"
             ],
             [
              0.6666666666666666,
              "#ed7953"
             ],
             [
              0.7777777777777778,
              "#fb9f3a"
             ],
             [
              0.8888888888888888,
              "#fdca26"
             ],
             [
              1,
              "#f0f921"
             ]
            ],
            "type": "heatmapgl"
           }
          ],
          "histogram": [
           {
            "marker": {
             "colorbar": {
              "outlinewidth": 0,
              "ticks": ""
             }
            },
            "type": "histogram"
           }
          ],
          "histogram2d": [
           {
            "colorbar": {
             "outlinewidth": 0,
             "ticks": ""
            },
            "colorscale": [
             [
              0,
              "#0d0887"
             ],
             [
              0.1111111111111111,
              "#46039f"
             ],
             [
              0.2222222222222222,
              "#7201a8"
             ],
             [
              0.3333333333333333,
              "#9c179e"
             ],
             [
              0.4444444444444444,
              "#bd3786"
             ],
             [
              0.5555555555555556,
              "#d8576b"
             ],
             [
              0.6666666666666666,
              "#ed7953"
             ],
             [
              0.7777777777777778,
              "#fb9f3a"
             ],
             [
              0.8888888888888888,
              "#fdca26"
             ],
             [
              1,
              "#f0f921"
             ]
            ],
            "type": "histogram2d"
           }
          ],
          "histogram2dcontour": [
           {
            "colorbar": {
             "outlinewidth": 0,
             "ticks": ""
            },
            "colorscale": [
             [
              0,
              "#0d0887"
             ],
             [
              0.1111111111111111,
              "#46039f"
             ],
             [
              0.2222222222222222,
              "#7201a8"
             ],
             [
              0.3333333333333333,
              "#9c179e"
             ],
             [
              0.4444444444444444,
              "#bd3786"
             ],
             [
              0.5555555555555556,
              "#d8576b"
             ],
             [
              0.6666666666666666,
              "#ed7953"
             ],
             [
              0.7777777777777778,
              "#fb9f3a"
             ],
             [
              0.8888888888888888,
              "#fdca26"
             ],
             [
              1,
              "#f0f921"
             ]
            ],
            "type": "histogram2dcontour"
           }
          ],
          "mesh3d": [
           {
            "colorbar": {
             "outlinewidth": 0,
             "ticks": ""
            },
            "type": "mesh3d"
           }
          ],
          "parcoords": [
           {
            "line": {
             "colorbar": {
              "outlinewidth": 0,
              "ticks": ""
             }
            },
            "type": "parcoords"
           }
          ],
          "pie": [
           {
            "automargin": true,
            "type": "pie"
           }
          ],
          "scatter": [
           {
            "marker": {
             "colorbar": {
              "outlinewidth": 0,
              "ticks": ""
             }
            },
            "type": "scatter"
           }
          ],
          "scatter3d": [
           {
            "line": {
             "colorbar": {
              "outlinewidth": 0,
              "ticks": ""
             }
            },
            "marker": {
             "colorbar": {
              "outlinewidth": 0,
              "ticks": ""
             }
            },
            "type": "scatter3d"
           }
          ],
          "scattercarpet": [
           {
            "marker": {
             "colorbar": {
              "outlinewidth": 0,
              "ticks": ""
             }
            },
            "type": "scattercarpet"
           }
          ],
          "scattergeo": [
           {
            "marker": {
             "colorbar": {
              "outlinewidth": 0,
              "ticks": ""
             }
            },
            "type": "scattergeo"
           }
          ],
          "scattergl": [
           {
            "marker": {
             "colorbar": {
              "outlinewidth": 0,
              "ticks": ""
             }
            },
            "type": "scattergl"
           }
          ],
          "scattermapbox": [
           {
            "marker": {
             "colorbar": {
              "outlinewidth": 0,
              "ticks": ""
             }
            },
            "type": "scattermapbox"
           }
          ],
          "scatterpolar": [
           {
            "marker": {
             "colorbar": {
              "outlinewidth": 0,
              "ticks": ""
             }
            },
            "type": "scatterpolar"
           }
          ],
          "scatterpolargl": [
           {
            "marker": {
             "colorbar": {
              "outlinewidth": 0,
              "ticks": ""
             }
            },
            "type": "scatterpolargl"
           }
          ],
          "scatterternary": [
           {
            "marker": {
             "colorbar": {
              "outlinewidth": 0,
              "ticks": ""
             }
            },
            "type": "scatterternary"
           }
          ],
          "surface": [
           {
            "colorbar": {
             "outlinewidth": 0,
             "ticks": ""
            },
            "colorscale": [
             [
              0,
              "#0d0887"
             ],
             [
              0.1111111111111111,
              "#46039f"
             ],
             [
              0.2222222222222222,
              "#7201a8"
             ],
             [
              0.3333333333333333,
              "#9c179e"
             ],
             [
              0.4444444444444444,
              "#bd3786"
             ],
             [
              0.5555555555555556,
              "#d8576b"
             ],
             [
              0.6666666666666666,
              "#ed7953"
             ],
             [
              0.7777777777777778,
              "#fb9f3a"
             ],
             [
              0.8888888888888888,
              "#fdca26"
             ],
             [
              1,
              "#f0f921"
             ]
            ],
            "type": "surface"
           }
          ],
          "table": [
           {
            "cells": {
             "fill": {
              "color": "#EBF0F8"
             },
             "line": {
              "color": "white"
             }
            },
            "header": {
             "fill": {
              "color": "#C8D4E3"
             },
             "line": {
              "color": "white"
             }
            },
            "type": "table"
           }
          ]
         },
         "layout": {
          "annotationdefaults": {
           "arrowcolor": "#2a3f5f",
           "arrowhead": 0,
           "arrowwidth": 1
          },
          "autotypenumbers": "strict",
          "coloraxis": {
           "colorbar": {
            "outlinewidth": 0,
            "ticks": ""
           }
          },
          "colorscale": {
           "diverging": [
            [
             0,
             "#8e0152"
            ],
            [
             0.1,
             "#c51b7d"
            ],
            [
             0.2,
             "#de77ae"
            ],
            [
             0.3,
             "#f1b6da"
            ],
            [
             0.4,
             "#fde0ef"
            ],
            [
             0.5,
             "#f7f7f7"
            ],
            [
             0.6,
             "#e6f5d0"
            ],
            [
             0.7,
             "#b8e186"
            ],
            [
             0.8,
             "#7fbc41"
            ],
            [
             0.9,
             "#4d9221"
            ],
            [
             1,
             "#276419"
            ]
           ],
           "sequential": [
            [
             0,
             "#0d0887"
            ],
            [
             0.1111111111111111,
             "#46039f"
            ],
            [
             0.2222222222222222,
             "#7201a8"
            ],
            [
             0.3333333333333333,
             "#9c179e"
            ],
            [
             0.4444444444444444,
             "#bd3786"
            ],
            [
             0.5555555555555556,
             "#d8576b"
            ],
            [
             0.6666666666666666,
             "#ed7953"
            ],
            [
             0.7777777777777778,
             "#fb9f3a"
            ],
            [
             0.8888888888888888,
             "#fdca26"
            ],
            [
             1,
             "#f0f921"
            ]
           ],
           "sequentialminus": [
            [
             0,
             "#0d0887"
            ],
            [
             0.1111111111111111,
             "#46039f"
            ],
            [
             0.2222222222222222,
             "#7201a8"
            ],
            [
             0.3333333333333333,
             "#9c179e"
            ],
            [
             0.4444444444444444,
             "#bd3786"
            ],
            [
             0.5555555555555556,
             "#d8576b"
            ],
            [
             0.6666666666666666,
             "#ed7953"
            ],
            [
             0.7777777777777778,
             "#fb9f3a"
            ],
            [
             0.8888888888888888,
             "#fdca26"
            ],
            [
             1,
             "#f0f921"
            ]
           ]
          },
          "colorway": [
           "#636efa",
           "#EF553B",
           "#00cc96",
           "#ab63fa",
           "#FFA15A",
           "#19d3f3",
           "#FF6692",
           "#B6E880",
           "#FF97FF",
           "#FECB52"
          ],
          "font": {
           "color": "#2a3f5f"
          },
          "geo": {
           "bgcolor": "white",
           "lakecolor": "white",
           "landcolor": "#E5ECF6",
           "showlakes": true,
           "showland": true,
           "subunitcolor": "white"
          },
          "hoverlabel": {
           "align": "left"
          },
          "hovermode": "closest",
          "mapbox": {
           "style": "light"
          },
          "paper_bgcolor": "white",
          "plot_bgcolor": "#E5ECF6",
          "polar": {
           "angularaxis": {
            "gridcolor": "white",
            "linecolor": "white",
            "ticks": ""
           },
           "bgcolor": "#E5ECF6",
           "radialaxis": {
            "gridcolor": "white",
            "linecolor": "white",
            "ticks": ""
           }
          },
          "scene": {
           "xaxis": {
            "backgroundcolor": "#E5ECF6",
            "gridcolor": "white",
            "gridwidth": 2,
            "linecolor": "white",
            "showbackground": true,
            "ticks": "",
            "zerolinecolor": "white"
           },
           "yaxis": {
            "backgroundcolor": "#E5ECF6",
            "gridcolor": "white",
            "gridwidth": 2,
            "linecolor": "white",
            "showbackground": true,
            "ticks": "",
            "zerolinecolor": "white"
           },
           "zaxis": {
            "backgroundcolor": "#E5ECF6",
            "gridcolor": "white",
            "gridwidth": 2,
            "linecolor": "white",
            "showbackground": true,
            "ticks": "",
            "zerolinecolor": "white"
           }
          },
          "shapedefaults": {
           "line": {
            "color": "#2a3f5f"
           }
          },
          "ternary": {
           "aaxis": {
            "gridcolor": "white",
            "linecolor": "white",
            "ticks": ""
           },
           "baxis": {
            "gridcolor": "white",
            "linecolor": "white",
            "ticks": ""
           },
           "bgcolor": "#E5ECF6",
           "caxis": {
            "gridcolor": "white",
            "linecolor": "white",
            "ticks": ""
           }
          },
          "title": {
           "x": 0.05
          },
          "xaxis": {
           "automargin": true,
           "gridcolor": "white",
           "linecolor": "white",
           "ticks": "",
           "title": {
            "standoff": 15
           },
           "zerolinecolor": "white",
           "zerolinewidth": 2
          },
          "yaxis": {
           "automargin": true,
           "gridcolor": "white",
           "linecolor": "white",
           "ticks": "",
           "title": {
            "standoff": 15
           },
           "zerolinecolor": "white",
           "zerolinewidth": 2
          }
         }
        },
        "title": {
         "font": {
          "color": "#4D5663"
         },
         "text": "Rolling Volatility Comparison"
        },
        "xaxis": {
         "gridcolor": "#E1E5ED",
         "showgrid": true,
         "tickfont": {
          "color": "#4D5663"
         },
         "title": {
          "font": {
           "color": "#4D5663"
          },
          "text": "Date"
         },
         "zerolinecolor": "#E1E5ED"
        },
        "yaxis": {
         "gridcolor": "#E1E5ED",
         "showgrid": true,
         "tickfont": {
          "color": "#4D5663"
         },
         "title": {
          "font": {
           "color": "#4D5663"
          },
          "text": "Volatility"
         },
         "zerolinecolor": "#E1E5ED"
        }
       }
      },
      "text/html": [
       "<div>                            <div id=\"0a450e3a-37c9-499d-b99f-351145b6df33\" class=\"plotly-graph-div\" style=\"height:525px; width:100%;\"></div>            <script type=\"text/javascript\">                require([\"plotly\"], function(Plotly) {                    window.PLOTLYENV=window.PLOTLYENV || {};                                    if (document.getElementById(\"0a450e3a-37c9-499d-b99f-351145b6df33\")) {                    Plotly.newPlot(                        \"0a450e3a-37c9-499d-b99f-351145b6df33\",                        [{\"line\": {\"color\": \"green\", \"dash\": \"solid\", \"shape\": \"linear\", \"width\": 1.3}, \"marker\": {\"size\": 3.5, \"symbol\": \"circle\"}, \"mode\": \"lines+markers\", \"name\": \"naive_std\", \"text\": \"\", \"type\": \"scatter\", \"x\": [\"1985-02-28\", \"1985-03-31\", \"1985-04-30\", \"1985-05-31\", \"1985-06-30\", \"1985-07-31\", \"1985-08-31\", \"1985-09-30\", \"1985-10-31\", \"1985-11-30\", \"1985-12-31\", \"1986-01-31\", \"1986-02-28\", \"1986-03-31\", \"1986-04-30\", \"1986-05-31\", \"1986-06-30\", \"1986-07-31\", \"1986-08-31\", \"1986-09-30\", \"1986-10-31\", \"1986-11-30\", \"1986-12-31\", \"1987-01-31\", \"1987-02-28\", \"1987-03-31\", \"1987-04-30\", \"1987-05-31\", \"1987-06-30\", \"1987-07-31\", \"1987-08-31\", \"1987-09-30\", \"1987-10-31\", \"1987-11-30\", \"1987-12-31\", \"1988-01-31\", \"1988-02-29\", \"1988-03-31\", \"1988-04-30\", \"1988-05-31\", \"1988-06-30\", \"1988-07-31\", \"1988-08-31\", \"1988-09-30\", \"1988-10-31\", \"1988-11-30\", \"1988-12-31\", \"1989-01-31\", \"1989-02-28\", \"1989-03-31\", \"1989-04-30\", \"1989-05-31\", \"1989-06-30\", \"1989-07-31\", \"1989-08-31\", \"1989-09-30\", \"1989-10-31\", \"1989-11-30\", \"1989-12-31\", \"1990-01-31\", \"1990-02-28\", \"1990-03-31\", \"1990-04-30\", \"1990-05-31\", \"1990-06-30\", \"1990-07-31\", \"1990-08-31\", \"1990-09-30\", \"1990-10-31\", \"1990-11-30\", \"1990-12-31\", \"1991-01-31\", \"1991-02-28\", \"1991-03-31\", \"1991-04-30\", \"1991-05-31\", \"1991-06-30\", \"1991-07-31\", \"1991-08-31\", \"1991-09-30\", \"1991-10-31\", \"1991-11-30\", \"1991-12-31\", \"1992-01-31\", \"1992-02-29\", \"1992-03-31\", \"1992-04-30\", \"1992-05-31\", \"1992-06-30\", \"1992-07-31\", \"1992-08-31\", \"1992-09-30\", \"1992-10-31\", \"1992-11-30\", \"1992-12-31\", \"1993-01-31\", \"1993-02-28\", \"1993-03-31\", \"1993-04-30\", \"1993-05-31\", \"1993-06-30\", \"1993-07-31\", \"1993-08-31\", \"1993-09-30\", \"1993-10-31\", \"1993-11-30\", \"1993-12-31\", \"1994-01-31\", \"1994-02-28\", \"1994-03-31\", \"1994-04-30\", \"1994-05-31\", \"1994-06-30\", \"1994-07-31\", \"1994-08-31\", \"1994-09-30\", \"1994-10-31\", \"1994-11-30\", \"1994-12-31\", \"1995-01-31\", \"1995-02-28\", \"1995-03-31\", \"1995-04-30\", \"1995-05-31\", \"1995-06-30\", \"1995-07-31\", \"1995-08-31\", \"1995-09-30\", \"1995-10-31\", \"1995-11-30\", \"1995-12-31\", \"1996-01-31\", \"1996-02-29\", \"1996-03-31\", \"1996-04-30\", \"1996-05-31\", \"1996-06-30\", \"1996-07-31\", \"1996-08-31\", \"1996-09-30\", \"1996-10-31\", \"1996-11-30\", \"1996-12-31\", \"1997-01-31\", \"1997-02-28\", \"1997-03-31\", \"1997-04-30\", \"1997-05-31\", \"1997-06-30\", \"1997-07-31\", \"1997-08-31\", \"1997-09-30\", \"1997-10-31\", \"1997-11-30\", \"1997-12-31\", \"1998-01-31\", \"1998-02-28\", \"1998-03-31\", \"1998-04-30\", \"1998-05-31\", \"1998-06-30\", \"1998-07-31\", \"1998-08-31\", \"1998-09-30\", \"1998-10-31\", \"1998-11-30\", \"1998-12-31\", \"1999-01-31\", \"1999-02-28\", \"1999-03-31\", \"1999-04-30\", \"1999-05-31\", \"1999-06-30\", \"1999-07-31\", \"1999-08-31\", \"1999-09-30\", \"1999-10-31\", \"1999-11-30\", \"1999-12-31\", \"2000-01-31\", \"2000-02-29\", \"2000-03-31\", \"2000-04-30\", \"2000-05-31\", \"2000-06-30\", \"2000-07-31\", \"2000-08-31\", \"2000-09-30\", \"2000-10-31\", \"2000-11-30\", \"2000-12-31\", \"2001-01-31\", \"2001-02-28\", \"2001-03-31\", \"2001-04-30\", \"2001-05-31\", \"2001-06-30\", \"2001-07-31\", \"2001-08-31\", \"2001-09-30\", \"2001-10-31\", \"2001-11-30\", \"2001-12-31\", \"2002-01-31\", \"2002-02-28\", \"2002-03-31\", \"2002-04-30\", \"2002-05-31\", \"2002-06-30\", \"2002-07-31\", \"2002-08-31\", \"2002-09-30\", \"2002-10-31\", \"2002-11-30\", \"2002-12-31\", \"2003-01-31\", \"2003-02-28\", \"2003-03-31\", \"2003-04-30\", \"2003-05-31\", \"2003-06-30\", \"2003-07-31\", \"2003-08-31\", \"2003-09-30\", \"2003-10-31\", \"2003-11-30\", \"2003-12-31\", \"2004-01-31\", \"2004-02-29\", \"2004-03-31\", \"2004-04-30\", \"2004-05-31\", \"2004-06-30\", \"2004-07-31\", \"2004-08-31\", \"2004-09-30\", \"2004-10-31\", \"2004-11-30\", \"2004-12-31\", \"2005-01-31\", \"2005-02-28\", \"2005-03-31\", \"2005-04-30\", \"2005-05-31\", \"2005-06-30\", \"2005-07-31\", \"2005-08-31\", \"2005-09-30\", \"2005-10-31\", \"2005-11-30\", \"2005-12-31\", \"2006-01-31\", \"2006-02-28\", \"2006-03-31\", \"2006-04-30\", \"2006-05-31\", \"2006-06-30\", \"2006-07-31\", \"2006-08-31\", \"2006-09-30\", \"2006-10-31\", \"2006-11-30\", \"2006-12-31\", \"2007-01-31\", \"2007-02-28\", \"2007-03-31\", \"2007-04-30\", \"2007-05-31\", \"2007-06-30\", \"2007-07-31\", \"2007-08-31\", \"2007-09-30\", \"2007-10-31\", \"2007-11-30\", \"2007-12-31\", \"2008-01-31\", \"2008-02-29\", \"2008-03-31\", \"2008-04-30\", \"2008-05-31\", \"2008-06-30\", \"2008-07-31\", \"2008-08-31\", \"2008-09-30\", \"2008-10-31\", \"2008-11-30\", \"2008-12-31\", \"2009-01-31\", \"2009-02-28\", \"2009-03-31\", \"2009-04-30\", \"2009-05-31\", \"2009-06-30\", \"2009-07-31\", \"2009-08-31\", \"2009-09-30\", \"2009-10-31\", \"2009-11-30\", \"2009-12-31\", \"2010-01-31\", \"2010-02-28\", \"2010-03-31\", \"2010-04-30\", \"2010-05-31\", \"2010-06-30\", \"2010-07-31\", \"2010-08-31\", \"2010-09-30\", \"2010-10-31\", \"2010-11-30\", \"2010-12-31\", \"2011-01-31\", \"2011-02-28\", \"2011-03-31\", \"2011-04-30\", \"2011-05-31\", \"2011-06-30\", \"2011-07-31\", \"2011-08-31\", \"2011-09-30\", \"2011-10-31\", \"2011-11-30\", \"2011-12-31\", \"2012-01-31\", \"2012-02-29\", \"2012-03-31\", \"2012-04-30\", \"2012-05-31\", \"2012-06-30\", \"2012-07-31\", \"2012-08-31\", \"2012-09-30\", \"2012-10-31\", \"2012-11-30\", \"2012-12-31\", \"2013-01-31\", \"2013-02-28\", \"2013-03-31\", \"2013-04-30\", \"2013-05-31\", \"2013-06-30\", \"2013-07-31\", \"2013-08-31\", \"2013-09-30\", \"2013-10-31\", \"2013-11-30\", \"2013-12-31\", \"2014-01-31\", \"2014-02-28\", \"2014-03-31\", \"2014-04-30\", \"2014-05-31\", \"2014-06-30\", \"2014-07-31\", \"2014-08-31\", \"2014-09-30\", \"2014-10-31\", \"2014-11-30\", \"2014-12-31\", \"2015-01-31\", \"2015-02-28\", \"2015-03-31\", \"2015-04-30\", \"2015-05-31\", \"2015-06-30\", \"2015-07-31\", \"2015-08-31\", \"2015-09-30\", \"2015-10-31\", \"2015-11-30\", \"2015-12-31\", \"2016-01-31\", \"2016-02-29\", \"2016-03-31\", \"2016-04-30\", \"2016-05-31\", \"2016-06-30\", \"2016-07-31\", \"2016-08-31\", \"2016-09-30\", \"2016-10-31\", \"2016-11-30\", \"2016-12-31\", \"2017-01-31\", \"2017-02-28\", \"2017-03-31\", \"2017-04-30\", \"2017-05-31\", \"2017-06-30\", \"2017-07-31\", \"2017-08-31\", \"2017-09-30\", \"2017-10-31\", \"2017-11-30\", \"2017-12-31\", \"2018-01-31\", \"2018-02-28\", \"2018-03-31\", \"2018-04-30\", \"2018-05-31\", \"2018-06-30\", \"2018-07-31\", \"2018-08-31\", \"2018-09-30\", \"2018-10-31\", \"2018-11-30\", \"2018-12-31\", \"2019-01-31\", \"2019-02-28\", \"2019-03-31\", \"2019-04-30\", \"2019-05-31\", \"2019-06-30\", \"2019-07-31\", \"2019-08-31\", \"2019-09-30\", \"2019-10-31\", \"2019-11-30\", \"2019-12-31\", \"2020-01-31\", \"2020-02-29\", \"2020-03-31\", \"2020-04-30\", \"2020-05-31\", \"2020-06-30\", \"2020-07-31\", \"2020-08-31\", \"2020-09-30\", \"2020-10-31\", \"2020-11-30\", \"2020-12-31\", \"2021-01-31\"], \"y\": [\"\", \"\", \"\", \"\", \"\", \"\", \"\", \"\", \"\", \"\", \"\", 3.4685990308582015, 3.9426642540486543, 3.944714920775045, 3.9961060131110386, 3.961386584266854, 3.9505338748795262, 4.444893754574063, 4.695684588965494, 5.4334838929623155, 5.518625308188475, 5.306589093257311, 6.301981413512251, 7.494513135501926, 7.325905900752542, 7.271796757021643, 7.263122653207378, 7.158564968843353, 7.217836674712185, 6.98158083571241, 6.817230398253392, 6.112116525596437, 9.0799542630376, 9.345574239251933, 8.906329375630936, 7.836729943694893, 7.911962645054285, 7.946080557553866, 7.971565264964391, 7.966455870809798, 7.93787895456322, 7.724364659805938, 7.613184376095822, 7.720975606049727, 4.280227525622595, 3.308909889786513, 3.051410478309998, 3.6759293658866006, 3.626549859030389, 3.3414541675973792, 3.5824124209935966, 3.627865841855767, 3.6677669548769534, 4.317415419263583, 3.9514175051945277, 4.070651026556611, 4.21944276423503, 4.092947382638943, 4.127812578726209, 3.97681338085484, 3.8306286209144833, 3.8334207398776416, 3.6658068493889093, 4.422419071136857, 4.420435765455752, 3.5469974004051514, 4.4310907810796225, 4.655654076321108, 4.653688959193037, 5.057963532441339, 5.055043134512101, 5.173713223669527, 5.507123527439855, 5.507140448299185, 5.41429154277084, 4.883154034545984, 5.141251570637484, 5.299459318304714, 4.207808292224528, 3.730844215388814, 3.6652270533652525, 3.8618758253328025, 4.471250766691262, 4.327839188242271, 3.9909043622516265, 4.124446064694128, 4.193250779905498, 4.082968082323382, 3.7609395210122125, 3.729817821378433, 3.804745493668702, 3.69077141101799, 3.681984101598224, 3.3998757357628664, 2.2950337521872526, 2.2753142268116346, 2.2786950312454572, 2.016588668705823, 2.0565795482271825, 2.1307874268702, 1.9506237453350708, 1.6122253868229617, 1.5895577367648024, 1.7398383387266811, 1.8011919200619266, 1.7453517061678738, 1.752873680829803, 2.056993148974127, 2.310414272534629, 2.819230455378755, 2.77650891973003, 2.711758654839456, 2.8789117141390443, 3.0666016464181123, 3.083937798825809, 3.212765470916006, 3.2126260318789197, 3.4084095265313716, 3.40894290755847, 3.3152469295758213, 3.3672023262421686, 2.9004129737977107, 2.961319542937574, 3.04403126507658, 2.708761083765605, 2.6939546022125405, 2.641939391050072, 2.2858111246920987, 2.358684055237306, 1.6819739690278515, 1.5962248544719984, 1.643406134873136, 1.6693115437131794, 1.7560001215842491, 1.72591015935343, 1.6516848397629051, 1.7515640451448826, 2.370475556142707, 2.357038976217221, 2.5195713112755307, 2.5051879073051495, 2.936223052960565, 3.289040439717652, 3.5739069793185876, 3.5776255312154976, 4.035768222190231, 4.267309447432581, 4.428058248322974, 4.404708726225561, 4.146219461355428, 4.921209136898266, 4.917116469033642, 5.211305467000376, 5.012419265873913, 4.76483983327446, 4.5341187410664885, 4.750774382715868, 4.213613051177396, 4.138933765308498, 4.2132091104486005, 4.200048755720634, 3.8073033222952253, 5.701551559242904, 5.774021845878798, 6.033847237205105, 6.116433979680065, 6.160903277879091, 6.196639468685128, 6.2036302999164, 6.155026439251913, 6.1970209037807615, 6.229733966600583, 6.285760726227194, 6.389362910446877, 3.984528718213407, 4.182494143731862, 3.947114692055533, 3.7217661281385697, 3.7337442026396186, 4.010829569768895, 3.92223462100536, 4.601553270233021, 4.673896251760351, 4.662349795932283, 4.486027511198743, 4.403019572449974, 4.63722834259315, 4.9113352621191435, 4.596112768351832, 5.166559146031662, 4.872027074501422, 4.855499313325724, 5.507689642268188, 4.726625963357252, 5.528819086190969, 5.540889185048912, 5.470720638735053, 5.473155006688652, 5.12586653904753, 5.34157330727103, 5.498374354160122, 5.875240436147381, 5.8883829314138, 5.712319264831622, 5.151160083907274, 4.907591999671491, 4.502585508125623, 4.4772081802688, 4.81221662201145, 5.087620045686344, 4.952940087906326, 5.349424824825586, 6.156550382898549, 5.979832930429542, 6.13362796090624, 6.128767168527223, 6.130561800400233, 5.954404935881627, 6.588284577157508, 6.8345965018562085, 6.477226963628362, 6.020606441663898, 6.025441463050007, 4.702411303855248, 4.33205880703844, 4.098577774986912, 3.363613767432471, 3.0788571240278166, 2.83422000341392, 3.0825551890728127, 2.595222478926108, 2.3491306686418714, 2.34371483089742, 2.6644611082547387, 2.6560890309559624, 2.5520192249412386, 2.0496278297110226, 2.2517775317409905, 1.9976104981922584, 2.0729654492190837, 2.104934116915002, 2.150500006744909, 2.1844905499293596, 2.2939812626460374, 2.288407442528464, 2.2143954072099414, 2.2950836197150775, 2.3054888910257487, 2.3656627583277063, 2.310805052254665, 2.2446427779520857, 2.261315124053262, 2.2262081142547023, 2.0489762844014106, 1.9133948654412907, 2.1497045377535806, 2.1580534549164154, 1.8641598381323525, 1.884837658340577, 1.920360397017065, 1.9650917885747996, 1.807278716654514, 1.7438725893146578, 1.6484248746148937, 1.8661108119653, 1.8678126547797582, 2.173185175688703, 1.8308208523183316, 2.0656641996767533, 2.406029077822626, 2.383430929245116, 2.452766952164001, 2.353061865429273, 2.7852432650830727, 2.829585576557176, 3.2340026746302257, 3.300270923296834, 3.291253490097106, 3.4072815760196917, 3.2564374954219284, 4.023831828783215, 3.991406782402658, 4.004035240971335, 4.452159477460189, 5.861046695910612, 5.946680879972201, 6.028754210362936, 6.109274647547779, 6.405940208659068, 7.3207624502582105, 8.008810026568467, 8.335780293448003, 8.135081197787416, 8.667441301718483, 8.75926609649303, 8.435998679040416, 6.777013900592948, 6.385185827575237, 6.363359780568422, 5.835213306836794, 4.089408603211736, 3.914922016724383, 3.2855473885637596, 4.395446774982592, 4.8725009152401135, 4.797149500408625, 4.995494236209663, 5.449830923699966, 5.4779579495977755, 5.292647430154592, 5.511162140512142, 5.350913895095147, 5.358608286608494, 5.254578946660981, 5.28604118632839, 4.481350344572089, 4.0085166197436175, 3.7887419493648733, 3.929355668682405, 4.074998158086112, 5.130910395574781, 5.1343260084928275, 4.836382457048493, 4.986943154450958, 5.0420911207048755, 5.075664560144533, 5.014408577561829, 5.345992981785903, 5.386921808382813, 5.35360520553539, 4.9776359789775135, 4.08776643246602, 2.998746611863953, 2.972787826691994, 2.979901242560869, 3.0844109699024673, 2.939392744301475, 2.965144632672773, 2.952760862912168, 1.8322426056358723, 2.0626171130309667, 2.365324280008315, 2.734041535872123, 2.750346413419376, 2.7651618310701678, 2.7359707586538886, 2.6622122024206547, 2.828385133880849, 2.945703742758756, 2.943091590470428, 2.9386574508162804, 2.9388285352532386, 2.737423865927091, 2.581070607931747, 2.304125491866702, 2.5282499479845244, 2.318580956937036, 2.2978175565961694, 2.363059804100499, 2.291241532327955, 2.469234822329065, 2.6404137860865067, 2.6430222850313307, 2.6134269627040347, 2.7694398204770367, 2.7706906896637737, 3.2331581663044324, 3.309652804963033, 4.151788506288564, 4.094020672026868, 4.145413716752402, 4.296998194867005, 3.9023410695176968, 4.307316620138375, 4.295803339542278, 4.309939961267126, 4.237790831642742, 4.337012196956516, 3.824444501029204, 3.6484872571966904, 2.7796189561980973, 2.938553625778543, 2.8041463079681086, 2.2460649148266043, 2.2759680317472903, 1.8945131748670867, 1.8894712866930565, 1.885052297438331, 1.8602308140194084, 1.6819924537726918, 1.6766078871322017, 1.5936003251343107, 1.3633262636576022, 1.2834236082278072, 1.3207480145300152, 1.8451278201655554, 2.355365391711398, 2.6398362814531087, 2.639008304406467, 2.663803805025022, 2.6671089042250187, 2.77886958354557, 2.811968409320639, 2.842034609368045, 3.597019623972679, 3.540647649828535, 4.584734495512135, 4.910217631269902, 4.856294424549507, 4.739499565265286, 4.859027989716436, 5.297698654271654, 5.579224758854204, 5.497619097781157, 5.474764663803944, 5.482407079175441, 5.049610768875302, 5.095868886562015, 3.774451369728484, 3.2641602528678515, 4.28260321342457, 5.764988410275828, 6.919404904239463, 6.6891094351397244, 6.486057175576129, 6.672128707972972, 6.844157524438583, 7.0762530898277065, 7.139879505183072, 7.683246743274835, 7.699336844090659, 7.718767546230142]}, {\"line\": {\"color\": \"orange\", \"dash\": \"solid\", \"shape\": \"linear\", \"width\": 1.3}, \"marker\": {\"size\": 3.5, \"symbol\": \"diamond\"}, \"mode\": \"lines+markers\", \"name\": \"louise_volatile\", \"text\": \"\", \"type\": \"scatter\", \"x\": [\"1985-02-28\", \"1985-03-31\", \"1985-04-30\", \"1985-05-31\", \"1985-06-30\", \"1985-07-31\", \"1985-08-31\", \"1985-09-30\", \"1985-10-31\", \"1985-11-30\", \"1985-12-31\", \"1986-01-31\", \"1986-02-28\", \"1986-03-31\", \"1986-04-30\", \"1986-05-31\", \"1986-06-30\", \"1986-07-31\", \"1986-08-31\", \"1986-09-30\", \"1986-10-31\", \"1986-11-30\", \"1986-12-31\", \"1987-01-31\", \"1987-02-28\", \"1987-03-31\", \"1987-04-30\", \"1987-05-31\", \"1987-06-30\", \"1987-07-31\", \"1987-08-31\", \"1987-09-30\", \"1987-10-31\", \"1987-11-30\", \"1987-12-31\", \"1988-01-31\", \"1988-02-29\", \"1988-03-31\", \"1988-04-30\", \"1988-05-31\", \"1988-06-30\", \"1988-07-31\", \"1988-08-31\", \"1988-09-30\", \"1988-10-31\", \"1988-11-30\", \"1988-12-31\", \"1989-01-31\", \"1989-02-28\", \"1989-03-31\", \"1989-04-30\", \"1989-05-31\", \"1989-06-30\", \"1989-07-31\", \"1989-08-31\", \"1989-09-30\", \"1989-10-31\", \"1989-11-30\", \"1989-12-31\", \"1990-01-31\", \"1990-02-28\", \"1990-03-31\", \"1990-04-30\", \"1990-05-31\", \"1990-06-30\", \"1990-07-31\", \"1990-08-31\", \"1990-09-30\", \"1990-10-31\", \"1990-11-30\", \"1990-12-31\", \"1991-01-31\", \"1991-02-28\", \"1991-03-31\", \"1991-04-30\", \"1991-05-31\", \"1991-06-30\", \"1991-07-31\", \"1991-08-31\", \"1991-09-30\", \"1991-10-31\", \"1991-11-30\", \"1991-12-31\", \"1992-01-31\", \"1992-02-29\", \"1992-03-31\", \"1992-04-30\", \"1992-05-31\", \"1992-06-30\", \"1992-07-31\", \"1992-08-31\", \"1992-09-30\", \"1992-10-31\", \"1992-11-30\", \"1992-12-31\", \"1993-01-31\", \"1993-02-28\", \"1993-03-31\", \"1993-04-30\", \"1993-05-31\", \"1993-06-30\", \"1993-07-31\", \"1993-08-31\", \"1993-09-30\", \"1993-10-31\", \"1993-11-30\", \"1993-12-31\", \"1994-01-31\", \"1994-02-28\", \"1994-03-31\", \"1994-04-30\", \"1994-05-31\", \"1994-06-30\", \"1994-07-31\", \"1994-08-31\", \"1994-09-30\", \"1994-10-31\", \"1994-11-30\", \"1994-12-31\", \"1995-01-31\", \"1995-02-28\", \"1995-03-31\", \"1995-04-30\", \"1995-05-31\", \"1995-06-30\", \"1995-07-31\", \"1995-08-31\", \"1995-09-30\", \"1995-10-31\", \"1995-11-30\", \"1995-12-31\", \"1996-01-31\", \"1996-02-29\", \"1996-03-31\", \"1996-04-30\", \"1996-05-31\", \"1996-06-30\", \"1996-07-31\", \"1996-08-31\", \"1996-09-30\", \"1996-10-31\", \"1996-11-30\", \"1996-12-31\", \"1997-01-31\", \"1997-02-28\", \"1997-03-31\", \"1997-04-30\", \"1997-05-31\", \"1997-06-30\", \"1997-07-31\", \"1997-08-31\", \"1997-09-30\", \"1997-10-31\", \"1997-11-30\", \"1997-12-31\", \"1998-01-31\", \"1998-02-28\", \"1998-03-31\", \"1998-04-30\", \"1998-05-31\", \"1998-06-30\", \"1998-07-31\", \"1998-08-31\", \"1998-09-30\", \"1998-10-31\", \"1998-11-30\", \"1998-12-31\", \"1999-01-31\", \"1999-02-28\", \"1999-03-31\", \"1999-04-30\", \"1999-05-31\", \"1999-06-30\", \"1999-07-31\", \"1999-08-31\", \"1999-09-30\", \"1999-10-31\", \"1999-11-30\", \"1999-12-31\", \"2000-01-31\", \"2000-02-29\", \"2000-03-31\", \"2000-04-30\", \"2000-05-31\", \"2000-06-30\", \"2000-07-31\", \"2000-08-31\", \"2000-09-30\", \"2000-10-31\", \"2000-11-30\", \"2000-12-31\", \"2001-01-31\", \"2001-02-28\", \"2001-03-31\", \"2001-04-30\", \"2001-05-31\", \"2001-06-30\", \"2001-07-31\", \"2001-08-31\", \"2001-09-30\", \"2001-10-31\", \"2001-11-30\", \"2001-12-31\", \"2002-01-31\", \"2002-02-28\", \"2002-03-31\", \"2002-04-30\", \"2002-05-31\", \"2002-06-30\", \"2002-07-31\", \"2002-08-31\", \"2002-09-30\", \"2002-10-31\", \"2002-11-30\", \"2002-12-31\", \"2003-01-31\", \"2003-02-28\", \"2003-03-31\", \"2003-04-30\", \"2003-05-31\", \"2003-06-30\", \"2003-07-31\", \"2003-08-31\", \"2003-09-30\", \"2003-10-31\", \"2003-11-30\", \"2003-12-31\", \"2004-01-31\", \"2004-02-29\", \"2004-03-31\", \"2004-04-30\", \"2004-05-31\", \"2004-06-30\", \"2004-07-31\", \"2004-08-31\", \"2004-09-30\", \"2004-10-31\", \"2004-11-30\", \"2004-12-31\", \"2005-01-31\", \"2005-02-28\", \"2005-03-31\", \"2005-04-30\", \"2005-05-31\", \"2005-06-30\", \"2005-07-31\", \"2005-08-31\", \"2005-09-30\", \"2005-10-31\", \"2005-11-30\", \"2005-12-31\", \"2006-01-31\", \"2006-02-28\", \"2006-03-31\", \"2006-04-30\", \"2006-05-31\", \"2006-06-30\", \"2006-07-31\", \"2006-08-31\", \"2006-09-30\", \"2006-10-31\", \"2006-11-30\", \"2006-12-31\", \"2007-01-31\", \"2007-02-28\", \"2007-03-31\", \"2007-04-30\", \"2007-05-31\", \"2007-06-30\", \"2007-07-31\", \"2007-08-31\", \"2007-09-30\", \"2007-10-31\", \"2007-11-30\", \"2007-12-31\", \"2008-01-31\", \"2008-02-29\", \"2008-03-31\", \"2008-04-30\", \"2008-05-31\", \"2008-06-30\", \"2008-07-31\", \"2008-08-31\", \"2008-09-30\", \"2008-10-31\", \"2008-11-30\", \"2008-12-31\", \"2009-01-31\", \"2009-02-28\", \"2009-03-31\", \"2009-04-30\", \"2009-05-31\", \"2009-06-30\", \"2009-07-31\", \"2009-08-31\", \"2009-09-30\", \"2009-10-31\", \"2009-11-30\", \"2009-12-31\", \"2010-01-31\", \"2010-02-28\", \"2010-03-31\", \"2010-04-30\", \"2010-05-31\", \"2010-06-30\", \"2010-07-31\", \"2010-08-31\", \"2010-09-30\", \"2010-10-31\", \"2010-11-30\", \"2010-12-31\", \"2011-01-31\", \"2011-02-28\", \"2011-03-31\", \"2011-04-30\", \"2011-05-31\", \"2011-06-30\", \"2011-07-31\", \"2011-08-31\", \"2011-09-30\", \"2011-10-31\", \"2011-11-30\", \"2011-12-31\", \"2012-01-31\", \"2012-02-29\", \"2012-03-31\", \"2012-04-30\", \"2012-05-31\", \"2012-06-30\", \"2012-07-31\", \"2012-08-31\", \"2012-09-30\", \"2012-10-31\", \"2012-11-30\", \"2012-12-31\", \"2013-01-31\", \"2013-02-28\", \"2013-03-31\", \"2013-04-30\", \"2013-05-31\", \"2013-06-30\", \"2013-07-31\", \"2013-08-31\", \"2013-09-30\", \"2013-10-31\", \"2013-11-30\", \"2013-12-31\", \"2014-01-31\", \"2014-02-28\", \"2014-03-31\", \"2014-04-30\", \"2014-05-31\", \"2014-06-30\", \"2014-07-31\", \"2014-08-31\", \"2014-09-30\", \"2014-10-31\", \"2014-11-30\", \"2014-12-31\", \"2015-01-31\", \"2015-02-28\", \"2015-03-31\", \"2015-04-30\", \"2015-05-31\", \"2015-06-30\", \"2015-07-31\", \"2015-08-31\", \"2015-09-30\", \"2015-10-31\", \"2015-11-30\", \"2015-12-31\", \"2016-01-31\", \"2016-02-29\", \"2016-03-31\", \"2016-04-30\", \"2016-05-31\", \"2016-06-30\", \"2016-07-31\", \"2016-08-31\", \"2016-09-30\", \"2016-10-31\", \"2016-11-30\", \"2016-12-31\", \"2017-01-31\", \"2017-02-28\", \"2017-03-31\", \"2017-04-30\", \"2017-05-31\", \"2017-06-30\", \"2017-07-31\", \"2017-08-31\", \"2017-09-30\", \"2017-10-31\", \"2017-11-30\", \"2017-12-31\", \"2018-01-31\", \"2018-02-28\", \"2018-03-31\", \"2018-04-30\", \"2018-05-31\", \"2018-06-30\", \"2018-07-31\", \"2018-08-31\", \"2018-09-30\", \"2018-10-31\", \"2018-11-30\", \"2018-12-31\", \"2019-01-31\", \"2019-02-28\", \"2019-03-31\", \"2019-04-30\", \"2019-05-31\", \"2019-06-30\", \"2019-07-31\", \"2019-08-31\", \"2019-09-30\", \"2019-10-31\", \"2019-11-30\", \"2019-12-31\", \"2020-01-31\", \"2020-02-29\", \"2020-03-31\", \"2020-04-30\", \"2020-05-31\", \"2020-06-30\", \"2020-07-31\", \"2020-08-31\", \"2020-09-30\", \"2020-10-31\", \"2020-11-30\", \"2020-12-31\", \"2021-01-31\"], \"y\": [\"\", \"\", \"\", \"\", \"\", \"\", \"\", \"\", \"\", \"\", \"\", 2.2256298020519862, 3.0124243129236152, 3.117903308073588, 3.1740047369142896, 3.127608303109969, 3.1181872903042485, 3.647706901845796, 4.043175058075621, 4.836225110970328, 5.055179752312088, 5.04560285190272, 6.279175741989257, 7.466315552223732, 7.299005595402638, 7.242054238676357, 7.231825270572514, 7.128122882739774, 7.19202239607741, 6.954525724234255, 6.793838391141896, 6.08582779285163, 9.02910526065409, 9.318046089699763, 8.72332511877411, 7.4386405271923035, 7.295289737364438, 7.241475712130294, 7.3025444552526, 7.29499035768679, 7.2464473351114105, 6.93120836263384, 6.685496179961111, 6.909005718208451, 3.369113236301651, 2.2274150451587693, 2.2591816817439225, 3.2906066120032316, 3.4473063723883213, 3.1489257687398187, 3.4076825220227827, 3.466447509114938, 3.5101140482271975, 4.191778557109525, 3.8296334667076333, 3.9533340064150306, 4.105388479795477, 4.082115076132549, 4.015138932844218, 3.4630375580092463, 3.23542747177376, 3.224559130162446, 3.1615329774172922, 3.924004431687667, 3.9190043028032227, 3.0763423326685104, 4.214439410698866, 4.201067224713031, 4.150355698285709, 4.122892169416626, 4.122892169416626, 4.122892169416626, 4.579024843869888, 4.576705932559521, 4.492179018015185, 3.7785130070209094, 4.075431793594789, 4.32823108707772, 3.0369165152994353, 3.209114149783748, 3.2001550741762976, 3.557855511757756, 4.310136025534628, 4.333620770598107, 4.000359245772174, 4.1284077510538975, 4.197666781470668, 4.090774741327432, 3.760165916875351, 3.7211921520570126, 3.799085743984731, 3.6861526245670655, 3.6778132415890843, 3.394107819705241, 2.285059642120331, 2.263049272641318, 2.2671886118389613, 2.0150254578151015, 2.0568379033420268, 2.1293724042076527, 1.9535850042702614, 1.6168558258028205, 1.5883811455294041, 1.7374715576932243, 1.795553140231533, 1.7365719152774013, 1.7452814515358732, 2.05459553358289, 2.314138404665529, 2.8107660147143823, 2.766937634478862, 2.6775611599152747, 2.673397673535966, 2.8520680799476716, 2.878464983013862, 3.0255762709245055, 3.0286691726941823, 3.251281632620822, 3.2528717386646475, 3.1544242659715898, 3.1715631429545983, 2.641712488301257, 2.69853989536085, 2.752318848924132, 2.715359709214587, 2.70151476004552, 2.6427258014372454, 2.2819858048310313, 2.3521937594852456, 1.6614438084317096, 1.577109863617055, 1.620369185343248, 1.6517182029603654, 1.7387290319767699, 1.7078164837099399, 1.6216792389693082, 1.7238782313706404, 2.33983898170849, 2.3261218672060227, 2.4982191831720812, 2.485298075939546, 2.9215335928992068, 3.271133982568979, 3.559934332914835, 3.5644236550223267, 4.018577646523489, 4.250889535377979, 4.417406952142305, 4.388617153994967, 4.144496595566216, 4.922045362753812, 4.917898390109422, 5.214193129867892, 5.015074974119548, 4.769683219197971, 4.540786989120839, 4.751761596560817, 4.221500977742802, 4.145168646469149, 4.2170243381512815, 4.209014498465438, 3.80864867021827, 5.692790837063788, 5.765794900748723, 5.637877458571606, 5.530927656134932, 5.671786437405188, 5.765527527235413, 5.587648757792789, 5.511456033601659, 5.608022502645716, 5.633564401238928, 5.725540402383037, 5.803958098316418, 3.4276595681497586, 3.382489415858492, 3.382489415858492, 3.382489415858492, 3.1198867034537976, 3.1790115257879945, 3.1009150394647644, 4.074880166330035, 3.9090392469399364, 3.8326707925085968, 3.501553765281675, 3.39478053237113, 3.3888969884714593, 3.229396313771071, 3.229396313771071, 3.229396313771071, 3.229396313771071, 2.768004674384872, 2.6259245551504407, 2.0182466745365413, 3.121813593110517, 3.121813593110517, 3.121813593110517, 3.137756752185452, 3.661721251270722, 3.661721251270722, 3.661721251270722, 3.661721251270722, 3.661721251270722, 3.6617461273231977, 3.675413805541078, 3.2981773685698594, 2.265447219251808, 2.265447219251808, 2.265447219251808, 2.2685115303672965, 1.2434126783293284, 1.2434126783293284, 1.2434126783293284, 1.2434126783293284, 1.2434126783293284, 1.3591449526106576, 1.303379324521296, 0.7617100997047324, 0.7617100997047324, 0.7617100997047324, 0.8295650065838582, 1.05069009063681, 1.1926059540288427, 1.2789163857561618, 2.161248975848232, 2.158738083961013, 2.4584301754879156, 2.271947444471277, 2.08355655763469, 2.2747360759484874, 2.3756485466223554, 2.3434956546439336, 2.372337016769771, 2.3877866015534166, 2.3861084755479256, 2.2597208620143836, 1.7038455593244786, 1.9285014579060584, 1.6397210428424867, 1.760509149356297, 1.7941698970524527, 1.8467355263871832, 1.8881195385925522, 2.0071863142035795, 2.0071863142035795, 2.0071863142035795, 2.0137779908813607, 2.02239480469638, 1.9910505696234106, 1.6611227243702578, 1.4859898554166833, 1.3736597399064034, 1.24242699980387, 1.0276988394279123, 0.9083564627911078, 1.0533880704102898, 1.06409656381457, 1.0908235791961634, 1.2527076360464462, 1.3460084441556948, 1.6204191979449998, 1.641699727437997, 1.633260696534808, 1.6471724651731474, 1.873002863371836, 1.8674321241302665, 2.17399104203609, 1.84306103030626, 2.0755279076477917, 2.414502729948056, 2.3913280976769107, 2.3823281033027945, 2.235516428177534, 2.6034035440623122, 2.6276050176205614, 2.979135927309587, 2.9502533267862425, 2.9417359659819295, 2.4764451557959903, 2.147700688726529, 2.149400073969353, 2.0643282567641252, 2.082816096957986, 2.082816096957986, 2.082816096957986, 1.7592956685015362, 1.7338963290650917, 0.41789180674058296, 0.41789180674058296, 0.41789180674058296, 0.41789180674058296, 0.41789180674058296, 0.43122122664794565, 2.3555869287923183, 2.492008108894035, 2.551356946679237, 2.6413218437052994, 2.9595199535903385, 2.919068075368884, 3.1944296066722524, 3.1906876856697086, 3.3222051911140316, 3.2523625539806598, 4.3973626019883705, 4.874600611710001, 4.799282163400949, 4.746885015946512, 4.69424432959437, 4.657520665208991, 4.3543073423702054, 4.6821811186885665, 4.569926313497187, 4.58314510238737, 4.3770444559602595, 4.433695677219439, 3.555550458128461, 3.012240364207236, 2.4971924872188804, 2.4971924872188804, 2.4971924872188804, 2.4971924872188804, 2.4971924872188804, 1.851625936171708, 1.6872208442931833, 1.3349395026151811, 1.5876240021413603, 1.211160835934216, 2.0724052791721395, 2.329336987609696, 2.281799604432457, 2.281799604432457, 2.3576217885417576, 2.40177072693462, 2.4054946604548704, 2.4052981604737007, 2.919519638808908, 2.919004548444289, 2.9494288047359283, 2.964264845742504, 1.989952397563351, 2.1267830565898502, 2.4210492455234216, 2.732567555588177, 2.7488966752602324, 2.7638973082289566, 2.734761396321539, 2.661020106811982, 2.828385133880857, 2.945703742758764, 2.9430915904704356, 2.9386574508162884, 2.938828535253246, 2.7374238659270995, 2.5810706079317565, 2.3041254918667122, 2.528249947984534, 2.318580956937047, 2.29781755659618, 2.3630598041005095, 2.2912415323279656, 2.4692348223290748, 2.4838905420507356, 2.5076714084210496, 2.4932379507480635, 2.494443993307109, 2.4775114899419504, 3.0291315567050874, 3.1153473599517056, 3.9787770285423125, 3.928258267783562, 3.9129333011362815, 3.80597978935349, 3.4583583858356914, 3.4583583858356914, 3.4583583858356914, 3.4583583858356914, 3.46025598065616, 3.589167998600869, 2.986445954128529, 2.77396162587454, 1.3183707519255088, 1.3183707519255088, 1.3183707519255088, 1.3183707519255088, 1.7005584086331462, 1.7144675932487352, 1.7281419931304127, 1.7296540050381888, 1.7151233671712656, 1.4550536046180846, 1.4519890618893263, 1.432335802623511, 1.3555517262613297, 1.4052565877849863, 1.364677099433206, 1.8470100403857765, 2.3585790777476823, 2.641342365676679, 2.6401897612299514, 2.6517356861394474, 2.6551187322815646, 2.778452556620749, 2.82915522887406, 2.8506293219507035, 3.5527575684488855, 3.4906159269562327, 4.506797532003411, 4.846038818146593, 4.813226729537858, 4.711464988068449, 4.84597831355684, 5.295385284877201, 5.573624463127916, 5.491116805675527, 5.469407814506194, 5.477320844449135, 5.048441993664983, 5.09369202384795, 3.77593352385952, 3.261478840873625, 4.282400275374374, 5.763440212550684, 5.551410904512211, 5.265823687065431, 4.829332764780933, 5.202626734267179, 5.664948494301054, 5.800951364756965, 5.758944504000502, 6.590549221382716, 6.54457249055133, 6.543006188148369]}],                        {\"legend\": {\"bgcolor\": \"#F5F6F9\", \"font\": {\"color\": \"#4D5663\"}}, \"paper_bgcolor\": \"#F5F6F9\", \"plot_bgcolor\": \"#F5F6F9\", \"template\": {\"data\": {\"bar\": [{\"error_x\": {\"color\": \"#2a3f5f\"}, \"error_y\": {\"color\": \"#2a3f5f\"}, \"marker\": {\"line\": {\"color\": \"#E5ECF6\", \"width\": 0.5}}, \"type\": \"bar\"}], \"barpolar\": [{\"marker\": {\"line\": {\"color\": \"#E5ECF6\", \"width\": 0.5}}, \"type\": \"barpolar\"}], \"carpet\": [{\"aaxis\": {\"endlinecolor\": \"#2a3f5f\", \"gridcolor\": \"white\", \"linecolor\": \"white\", \"minorgridcolor\": \"white\", \"startlinecolor\": \"#2a3f5f\"}, \"baxis\": {\"endlinecolor\": \"#2a3f5f\", \"gridcolor\": \"white\", \"linecolor\": \"white\", \"minorgridcolor\": \"white\", \"startlinecolor\": \"#2a3f5f\"}, \"type\": \"carpet\"}], \"choropleth\": [{\"colorbar\": {\"outlinewidth\": 0, \"ticks\": \"\"}, \"type\": \"choropleth\"}], \"contour\": [{\"colorbar\": {\"outlinewidth\": 0, \"ticks\": \"\"}, \"colorscale\": [[0.0, \"#0d0887\"], [0.1111111111111111, \"#46039f\"], [0.2222222222222222, \"#7201a8\"], [0.3333333333333333, \"#9c179e\"], [0.4444444444444444, \"#bd3786\"], [0.5555555555555556, \"#d8576b\"], [0.6666666666666666, \"#ed7953\"], [0.7777777777777778, \"#fb9f3a\"], [0.8888888888888888, \"#fdca26\"], [1.0, \"#f0f921\"]], \"type\": \"contour\"}], \"contourcarpet\": [{\"colorbar\": {\"outlinewidth\": 0, \"ticks\": \"\"}, \"type\": \"contourcarpet\"}], \"heatmap\": [{\"colorbar\": {\"outlinewidth\": 0, \"ticks\": \"\"}, \"colorscale\": [[0.0, \"#0d0887\"], [0.1111111111111111, \"#46039f\"], [0.2222222222222222, \"#7201a8\"], [0.3333333333333333, \"#9c179e\"], [0.4444444444444444, \"#bd3786\"], [0.5555555555555556, \"#d8576b\"], [0.6666666666666666, \"#ed7953\"], [0.7777777777777778, \"#fb9f3a\"], [0.8888888888888888, \"#fdca26\"], [1.0, \"#f0f921\"]], \"type\": \"heatmap\"}], \"heatmapgl\": [{\"colorbar\": {\"outlinewidth\": 0, \"ticks\": \"\"}, \"colorscale\": [[0.0, \"#0d0887\"], [0.1111111111111111, \"#46039f\"], [0.2222222222222222, \"#7201a8\"], [0.3333333333333333, \"#9c179e\"], [0.4444444444444444, \"#bd3786\"], [0.5555555555555556, \"#d8576b\"], [0.6666666666666666, \"#ed7953\"], [0.7777777777777778, \"#fb9f3a\"], [0.8888888888888888, \"#fdca26\"], [1.0, \"#f0f921\"]], \"type\": \"heatmapgl\"}], \"histogram\": [{\"marker\": {\"colorbar\": {\"outlinewidth\": 0, \"ticks\": \"\"}}, \"type\": \"histogram\"}], \"histogram2d\": [{\"colorbar\": {\"outlinewidth\": 0, \"ticks\": \"\"}, \"colorscale\": [[0.0, \"#0d0887\"], [0.1111111111111111, \"#46039f\"], [0.2222222222222222, \"#7201a8\"], [0.3333333333333333, \"#9c179e\"], [0.4444444444444444, \"#bd3786\"], [0.5555555555555556, \"#d8576b\"], [0.6666666666666666, \"#ed7953\"], [0.7777777777777778, \"#fb9f3a\"], [0.8888888888888888, \"#fdca26\"], [1.0, \"#f0f921\"]], \"type\": \"histogram2d\"}], \"histogram2dcontour\": [{\"colorbar\": {\"outlinewidth\": 0, \"ticks\": \"\"}, \"colorscale\": [[0.0, \"#0d0887\"], [0.1111111111111111, \"#46039f\"], [0.2222222222222222, \"#7201a8\"], [0.3333333333333333, \"#9c179e\"], [0.4444444444444444, \"#bd3786\"], [0.5555555555555556, \"#d8576b\"], [0.6666666666666666, \"#ed7953\"], [0.7777777777777778, \"#fb9f3a\"], [0.8888888888888888, \"#fdca26\"], [1.0, \"#f0f921\"]], \"type\": \"histogram2dcontour\"}], \"mesh3d\": [{\"colorbar\": {\"outlinewidth\": 0, \"ticks\": \"\"}, \"type\": \"mesh3d\"}], \"parcoords\": [{\"line\": {\"colorbar\": {\"outlinewidth\": 0, \"ticks\": \"\"}}, \"type\": \"parcoords\"}], \"pie\": [{\"automargin\": true, \"type\": \"pie\"}], \"scatter\": [{\"marker\": {\"colorbar\": {\"outlinewidth\": 0, \"ticks\": \"\"}}, \"type\": \"scatter\"}], \"scatter3d\": [{\"line\": {\"colorbar\": {\"outlinewidth\": 0, \"ticks\": \"\"}}, \"marker\": {\"colorbar\": {\"outlinewidth\": 0, \"ticks\": \"\"}}, \"type\": \"scatter3d\"}], \"scattercarpet\": [{\"marker\": {\"colorbar\": {\"outlinewidth\": 0, \"ticks\": \"\"}}, \"type\": \"scattercarpet\"}], \"scattergeo\": [{\"marker\": {\"colorbar\": {\"outlinewidth\": 0, \"ticks\": \"\"}}, \"type\": \"scattergeo\"}], \"scattergl\": [{\"marker\": {\"colorbar\": {\"outlinewidth\": 0, \"ticks\": \"\"}}, \"type\": \"scattergl\"}], \"scattermapbox\": [{\"marker\": {\"colorbar\": {\"outlinewidth\": 0, \"ticks\": \"\"}}, \"type\": \"scattermapbox\"}], \"scatterpolar\": [{\"marker\": {\"colorbar\": {\"outlinewidth\": 0, \"ticks\": \"\"}}, \"type\": \"scatterpolar\"}], \"scatterpolargl\": [{\"marker\": {\"colorbar\": {\"outlinewidth\": 0, \"ticks\": \"\"}}, \"type\": \"scatterpolargl\"}], \"scatterternary\": [{\"marker\": {\"colorbar\": {\"outlinewidth\": 0, \"ticks\": \"\"}}, \"type\": \"scatterternary\"}], \"surface\": [{\"colorbar\": {\"outlinewidth\": 0, \"ticks\": \"\"}, \"colorscale\": [[0.0, \"#0d0887\"], [0.1111111111111111, \"#46039f\"], [0.2222222222222222, \"#7201a8\"], [0.3333333333333333, \"#9c179e\"], [0.4444444444444444, \"#bd3786\"], [0.5555555555555556, \"#d8576b\"], [0.6666666666666666, \"#ed7953\"], [0.7777777777777778, \"#fb9f3a\"], [0.8888888888888888, \"#fdca26\"], [1.0, \"#f0f921\"]], \"type\": \"surface\"}], \"table\": [{\"cells\": {\"fill\": {\"color\": \"#EBF0F8\"}, \"line\": {\"color\": \"white\"}}, \"header\": {\"fill\": {\"color\": \"#C8D4E3\"}, \"line\": {\"color\": \"white\"}}, \"type\": \"table\"}]}, \"layout\": {\"annotationdefaults\": {\"arrowcolor\": \"#2a3f5f\", \"arrowhead\": 0, \"arrowwidth\": 1}, \"autotypenumbers\": \"strict\", \"coloraxis\": {\"colorbar\": {\"outlinewidth\": 0, \"ticks\": \"\"}}, \"colorscale\": {\"diverging\": [[0, \"#8e0152\"], [0.1, \"#c51b7d\"], [0.2, \"#de77ae\"], [0.3, \"#f1b6da\"], [0.4, \"#fde0ef\"], [0.5, \"#f7f7f7\"], [0.6, \"#e6f5d0\"], [0.7, \"#b8e186\"], [0.8, \"#7fbc41\"], [0.9, \"#4d9221\"], [1, \"#276419\"]], \"sequential\": [[0.0, \"#0d0887\"], [0.1111111111111111, \"#46039f\"], [0.2222222222222222, \"#7201a8\"], [0.3333333333333333, \"#9c179e\"], [0.4444444444444444, \"#bd3786\"], [0.5555555555555556, \"#d8576b\"], [0.6666666666666666, \"#ed7953\"], [0.7777777777777778, \"#fb9f3a\"], [0.8888888888888888, \"#fdca26\"], [1.0, \"#f0f921\"]], \"sequentialminus\": [[0.0, \"#0d0887\"], [0.1111111111111111, \"#46039f\"], [0.2222222222222222, \"#7201a8\"], [0.3333333333333333, \"#9c179e\"], [0.4444444444444444, \"#bd3786\"], [0.5555555555555556, \"#d8576b\"], [0.6666666666666666, \"#ed7953\"], [0.7777777777777778, \"#fb9f3a\"], [0.8888888888888888, \"#fdca26\"], [1.0, \"#f0f921\"]]}, \"colorway\": [\"#636efa\", \"#EF553B\", \"#00cc96\", \"#ab63fa\", \"#FFA15A\", \"#19d3f3\", \"#FF6692\", \"#B6E880\", \"#FF97FF\", \"#FECB52\"], \"font\": {\"color\": \"#2a3f5f\"}, \"geo\": {\"bgcolor\": \"white\", \"lakecolor\": \"white\", \"landcolor\": \"#E5ECF6\", \"showlakes\": true, \"showland\": true, \"subunitcolor\": \"white\"}, \"hoverlabel\": {\"align\": \"left\"}, \"hovermode\": \"closest\", \"mapbox\": {\"style\": \"light\"}, \"paper_bgcolor\": \"white\", \"plot_bgcolor\": \"#E5ECF6\", \"polar\": {\"angularaxis\": {\"gridcolor\": \"white\", \"linecolor\": \"white\", \"ticks\": \"\"}, \"bgcolor\": \"#E5ECF6\", \"radialaxis\": {\"gridcolor\": \"white\", \"linecolor\": \"white\", \"ticks\": \"\"}}, \"scene\": {\"xaxis\": {\"backgroundcolor\": \"#E5ECF6\", \"gridcolor\": \"white\", \"gridwidth\": 2, \"linecolor\": \"white\", \"showbackground\": true, \"ticks\": \"\", \"zerolinecolor\": \"white\"}, \"yaxis\": {\"backgroundcolor\": \"#E5ECF6\", \"gridcolor\": \"white\", \"gridwidth\": 2, \"linecolor\": \"white\", \"showbackground\": true, \"ticks\": \"\", \"zerolinecolor\": \"white\"}, \"zaxis\": {\"backgroundcolor\": \"#E5ECF6\", \"gridcolor\": \"white\", \"gridwidth\": 2, \"linecolor\": \"white\", \"showbackground\": true, \"ticks\": \"\", \"zerolinecolor\": \"white\"}}, \"shapedefaults\": {\"line\": {\"color\": \"#2a3f5f\"}}, \"ternary\": {\"aaxis\": {\"gridcolor\": \"white\", \"linecolor\": \"white\", \"ticks\": \"\"}, \"baxis\": {\"gridcolor\": \"white\", \"linecolor\": \"white\", \"ticks\": \"\"}, \"bgcolor\": \"#E5ECF6\", \"caxis\": {\"gridcolor\": \"white\", \"linecolor\": \"white\", \"ticks\": \"\"}}, \"title\": {\"x\": 0.05}, \"xaxis\": {\"automargin\": true, \"gridcolor\": \"white\", \"linecolor\": \"white\", \"ticks\": \"\", \"title\": {\"standoff\": 15}, \"zerolinecolor\": \"white\", \"zerolinewidth\": 2}, \"yaxis\": {\"automargin\": true, \"gridcolor\": \"white\", \"linecolor\": \"white\", \"ticks\": \"\", \"title\": {\"standoff\": 15}, \"zerolinecolor\": \"white\", \"zerolinewidth\": 2}}}, \"title\": {\"font\": {\"color\": \"#4D5663\"}, \"text\": \"Rolling Volatility Comparison\"}, \"xaxis\": {\"gridcolor\": \"#E1E5ED\", \"showgrid\": true, \"tickfont\": {\"color\": \"#4D5663\"}, \"title\": {\"font\": {\"color\": \"#4D5663\"}, \"text\": \"Date\"}, \"zerolinecolor\": \"#E1E5ED\"}, \"yaxis\": {\"gridcolor\": \"#E1E5ED\", \"showgrid\": true, \"tickfont\": {\"color\": \"#4D5663\"}, \"title\": {\"font\": {\"color\": \"#4D5663\"}, \"text\": \"Volatility\"}, \"zerolinecolor\": \"#E1E5ED\"}},                        {\"responsive\": true}                    ).then(function(){\n",
       "                            \n",
       "var gd = document.getElementById('0a450e3a-37c9-499d-b99f-351145b6df33');\n",
       "var x = new MutationObserver(function (mutations, observer) {{\n",
       "        var display = window.getComputedStyle(gd).display;\n",
       "        if (!display || display === 'none') {{\n",
       "            console.log([gd, 'removed!']);\n",
       "            Plotly.purge(gd);\n",
       "            observer.disconnect();\n",
       "        }}\n",
       "}});\n",
       "\n",
       "// Listen for the removal of the full notebook cells\n",
       "var notebookContainer = gd.closest('#notebook-container');\n",
       "if (notebookContainer) {{\n",
       "    x.observe(notebookContainer, {childList: true});\n",
       "}}\n",
       "\n",
       "// Listen for the clearing of the current output cell\n",
       "var outputEl = gd.closest('.output');\n",
       "if (outputEl) {{\n",
       "    x.observe(outputEl, {childList: true});\n",
       "}}\n",
       "\n",
       "                        })                };                });            </script>        </div>"
      ]
     },
     "metadata": {},
     "output_type": "display_data"
    }
   ],
   "source": [
    "louiseDf['louise_volatile'] = louiseDf['R-RF'].rolling(12).std() \n",
    "louiseDf['louise_volatile'].dropna()\n",
    "plotvolatile = louiseDf[['Date','louise_volatile']]\n",
    "plotdf.set_index(\"Date\")\n",
    "finalvolatile = pd.merge(plotvolatile,volatile_plot,on = 'Date',how = 'inner')\n",
    "finalvolatile = finalvolatile.set_index(\"Date\")\n",
    "print(finalvolatile)\n",
    "plyo.iplot(  \n",
    "    finalvolatile[['naive_std','louise_volatile']].iplot(asFigure=True,\n",
    "                                                 title='Rolling Volatility Comparison',  \n",
    "             xTitle='Date',  \n",
    "             yTitle='Volatility',\n",
    "                                                 mode={'naive_std': 'lines+markers', 'louise_volatile': 'lines+markers'},  \n",
    "             symbol={'naive_std': 'circle', 'louise_volatile': 'diamond'},  \n",
    "             size=3.5,  \n",
    "             colors={'naive_std': 'green', 'louise_volatile': 'orange'}, ),)"
   ]
  },
  {
   "cell_type": "markdown",
   "metadata": {},
   "source": [
    "# Investment Value Calculation"
   ]
  },
  {
   "cell_type": "code",
   "execution_count": 13,
   "metadata": {},
   "outputs": [],
   "source": [
    "lump = 500\n",
    "regular = 500\n",
    "\n",
    "df_n['Value'] = lump * df_n['Return'].add(1).cumprod()"
   ]
  },
  {
   "cell_type": "code",
   "execution_count": 14,
   "metadata": {},
   "outputs": [],
   "source": [
    "df_n['Naive Portfolio'] = np.nan\n",
    "\n",
    "df_n['Investment'] = regular\n",
    "iloc_Value2 = df_n.columns.get_loc('Naive Portfolio')\n",
    "iloc_Invest = df_n.columns.get_loc('Investment')\n",
    "iloc_Return = df_n.columns.get_loc('Return') \n",
    "\n",
    "df_n.iloc[0, iloc_Value2] = lump * (1 + df_n.iloc[0, iloc_Return]) + df_n.iloc[0, iloc_Invest]\n",
    "\n",
    "for i in range(1, len(df_n)):\n",
    "    df_n.iloc[i, iloc_Value2] = df_n.iloc[i-1, iloc_Value2] * (1 + df_n.iloc[i, iloc_Return]) + df_n.iloc[i, iloc_Invest]"
   ]
  },
  {
   "cell_type": "code",
   "execution_count": 15,
   "metadata": {},
   "outputs": [
    {
     "name": "stdout",
     "output_type": "stream",
     "text": [
      "            Naive Portfolio\n",
      "Date                       \n",
      "1985-02-28     1.006905e+03\n",
      "1985-03-31     1.498392e+03\n",
      "1985-04-30     2.006952e+03\n",
      "1985-05-31     2.628037e+03\n",
      "1985-06-30     3.144520e+03\n",
      "...                     ...\n",
      "2020-09-30     1.681263e+06\n",
      "2020-10-31     1.643481e+06\n",
      "2020-11-30     1.823706e+06\n",
      "2020-12-31     1.886961e+06\n",
      "2021-01-31     1.875345e+06\n",
      "\n",
      "[432 rows x 1 columns]\n"
     ]
    }
   ],
   "source": [
    "df_n[['Value', 'Naive Portfolio', 'Investment', 'Return']]\n",
    "naive_invest = df_n['Naive Portfolio']\n",
    "naive_invest = pd.DataFrame(naive_invest)\n",
    "naive_invest.index.name = 'Date'\n",
    "print(naive_invest)"
   ]
  },
  {
   "cell_type": "code",
   "execution_count": 16,
   "metadata": {},
   "outputs": [
    {
     "name": "stdout",
     "output_type": "stream",
     "text": [
      "            Louise Portfolio\n",
      "Date                        \n",
      "1985-02-28      5.069048e+02\n",
      "1985-03-31      9.983916e+02\n",
      "1985-04-30      1.506952e+03\n",
      "1985-05-31      2.128037e+03\n",
      "1985-06-30      2.645382e+03\n",
      "...                      ...\n",
      "2020-09-30      1.531557e+06\n",
      "2020-10-31      1.497172e+06\n",
      "2020-11-30      1.661452e+06\n",
      "2020-12-31      1.662118e+06\n",
      "2021-01-31      1.662784e+06\n",
      "\n",
      "[432 rows x 1 columns]\n"
     ]
    }
   ],
   "source": [
    "louise_invest = pd.DataFrame(currentBalLst,columns=['Louise Portfolio'])\n",
    "louise_invest['Date'] = pd.date_range(start='19850228', periods=432, freq='M')\n",
    "louise_invest = louise_invest.set_index('Date')\n",
    "print(louise_invest)"
   ]
  },
  {
   "cell_type": "markdown",
   "metadata": {},
   "source": [
    "Our naive strategy comprised Louise holding her portfolio in VFINX for the entire duration, she would have more money today than she has following her original strategy. If we analyse the chart below we see how the naive strategy gains significantly in the last year. \n",
    "\n",
    "Whenever we look at the value of an investment, we cannot ignore two events that are outliers and cannot be mapped by strategy, one would be the 2008 recession and the ongoing coronavirus pandemic. We see a sharp drop in the naive portfolio around 2008 as equities fell sharply and we see a sharp uprise in the naive portfolio in the last 6-8 months as the market has been really volatile and inflated. The market has been reaching all time highs and holding equities would prove very beneficial. Louise would have lost a lot of money when the pandemic started as the market crashed and following her strategy she would have moved her portfolio to the risk-free debt option and she would not have been able to enjoy the sharp recovery of the stock market."
   ]
  },
  {
   "cell_type": "code",
   "execution_count": 17,
   "metadata": {},
   "outputs": [
    {
     "data": {
      "application/vnd.plotly.v1+json": {
       "config": {
        "linkText": "Export to plot.ly",
        "plotlyServerURL": "https://plot.ly",
        "showLink": false
       },
       "data": [
        {
         "line": {
          "color": "red",
          "dash": "solid",
          "shape": "linear",
          "width": 1.3
         },
         "marker": {
          "size": 2.75,
          "symbol": "circle"
         },
         "mode": "lines+markers",
         "name": "Louise Portfolio",
         "text": "",
         "type": "scatter",
         "x": [
          "1985-02-28",
          "1985-03-31",
          "1985-04-30",
          "1985-05-31",
          "1985-06-30",
          "1985-07-31",
          "1985-08-31",
          "1985-09-30",
          "1985-10-31",
          "1985-11-30",
          "1985-12-31",
          "1986-01-31",
          "1986-02-28",
          "1986-03-31",
          "1986-04-30",
          "1986-05-31",
          "1986-06-30",
          "1986-07-31",
          "1986-08-31",
          "1986-09-30",
          "1986-10-31",
          "1986-11-30",
          "1986-12-31",
          "1987-01-31",
          "1987-02-28",
          "1987-03-31",
          "1987-04-30",
          "1987-05-31",
          "1987-06-30",
          "1987-07-31",
          "1987-08-31",
          "1987-09-30",
          "1987-10-31",
          "1987-11-30",
          "1987-12-31",
          "1988-01-31",
          "1988-02-29",
          "1988-03-31",
          "1988-04-30",
          "1988-05-31",
          "1988-06-30",
          "1988-07-31",
          "1988-08-31",
          "1988-09-30",
          "1988-10-31",
          "1988-11-30",
          "1988-12-31",
          "1989-01-31",
          "1989-02-28",
          "1989-03-31",
          "1989-04-30",
          "1989-05-31",
          "1989-06-30",
          "1989-07-31",
          "1989-08-31",
          "1989-09-30",
          "1989-10-31",
          "1989-11-30",
          "1989-12-31",
          "1990-01-31",
          "1990-02-28",
          "1990-03-31",
          "1990-04-30",
          "1990-05-31",
          "1990-06-30",
          "1990-07-31",
          "1990-08-31",
          "1990-09-30",
          "1990-10-31",
          "1990-11-30",
          "1990-12-31",
          "1991-01-31",
          "1991-02-28",
          "1991-03-31",
          "1991-04-30",
          "1991-05-31",
          "1991-06-30",
          "1991-07-31",
          "1991-08-31",
          "1991-09-30",
          "1991-10-31",
          "1991-11-30",
          "1991-12-31",
          "1992-01-31",
          "1992-02-29",
          "1992-03-31",
          "1992-04-30",
          "1992-05-31",
          "1992-06-30",
          "1992-07-31",
          "1992-08-31",
          "1992-09-30",
          "1992-10-31",
          "1992-11-30",
          "1992-12-31",
          "1993-01-31",
          "1993-02-28",
          "1993-03-31",
          "1993-04-30",
          "1993-05-31",
          "1993-06-30",
          "1993-07-31",
          "1993-08-31",
          "1993-09-30",
          "1993-10-31",
          "1993-11-30",
          "1993-12-31",
          "1994-01-31",
          "1994-02-28",
          "1994-03-31",
          "1994-04-30",
          "1994-05-31",
          "1994-06-30",
          "1994-07-31",
          "1994-08-31",
          "1994-09-30",
          "1994-10-31",
          "1994-11-30",
          "1994-12-31",
          "1995-01-31",
          "1995-02-28",
          "1995-03-31",
          "1995-04-30",
          "1995-05-31",
          "1995-06-30",
          "1995-07-31",
          "1995-08-31",
          "1995-09-30",
          "1995-10-31",
          "1995-11-30",
          "1995-12-31",
          "1996-01-31",
          "1996-02-29",
          "1996-03-31",
          "1996-04-30",
          "1996-05-31",
          "1996-06-30",
          "1996-07-31",
          "1996-08-31",
          "1996-09-30",
          "1996-10-31",
          "1996-11-30",
          "1996-12-31",
          "1997-01-31",
          "1997-02-28",
          "1997-03-31",
          "1997-04-30",
          "1997-05-31",
          "1997-06-30",
          "1997-07-31",
          "1997-08-31",
          "1997-09-30",
          "1997-10-31",
          "1997-11-30",
          "1997-12-31",
          "1998-01-31",
          "1998-02-28",
          "1998-03-31",
          "1998-04-30",
          "1998-05-31",
          "1998-06-30",
          "1998-07-31",
          "1998-08-31",
          "1998-09-30",
          "1998-10-31",
          "1998-11-30",
          "1998-12-31",
          "1999-01-31",
          "1999-02-28",
          "1999-03-31",
          "1999-04-30",
          "1999-05-31",
          "1999-06-30",
          "1999-07-31",
          "1999-08-31",
          "1999-09-30",
          "1999-10-31",
          "1999-11-30",
          "1999-12-31",
          "2000-01-31",
          "2000-02-29",
          "2000-03-31",
          "2000-04-30",
          "2000-05-31",
          "2000-06-30",
          "2000-07-31",
          "2000-08-31",
          "2000-09-30",
          "2000-10-31",
          "2000-11-30",
          "2000-12-31",
          "2001-01-31",
          "2001-02-28",
          "2001-03-31",
          "2001-04-30",
          "2001-05-31",
          "2001-06-30",
          "2001-07-31",
          "2001-08-31",
          "2001-09-30",
          "2001-10-31",
          "2001-11-30",
          "2001-12-31",
          "2002-01-31",
          "2002-02-28",
          "2002-03-31",
          "2002-04-30",
          "2002-05-31",
          "2002-06-30",
          "2002-07-31",
          "2002-08-31",
          "2002-09-30",
          "2002-10-31",
          "2002-11-30",
          "2002-12-31",
          "2003-01-31",
          "2003-02-28",
          "2003-03-31",
          "2003-04-30",
          "2003-05-31",
          "2003-06-30",
          "2003-07-31",
          "2003-08-31",
          "2003-09-30",
          "2003-10-31",
          "2003-11-30",
          "2003-12-31",
          "2004-01-31",
          "2004-02-29",
          "2004-03-31",
          "2004-04-30",
          "2004-05-31",
          "2004-06-30",
          "2004-07-31",
          "2004-08-31",
          "2004-09-30",
          "2004-10-31",
          "2004-11-30",
          "2004-12-31",
          "2005-01-31",
          "2005-02-28",
          "2005-03-31",
          "2005-04-30",
          "2005-05-31",
          "2005-06-30",
          "2005-07-31",
          "2005-08-31",
          "2005-09-30",
          "2005-10-31",
          "2005-11-30",
          "2005-12-31",
          "2006-01-31",
          "2006-02-28",
          "2006-03-31",
          "2006-04-30",
          "2006-05-31",
          "2006-06-30",
          "2006-07-31",
          "2006-08-31",
          "2006-09-30",
          "2006-10-31",
          "2006-11-30",
          "2006-12-31",
          "2007-01-31",
          "2007-02-28",
          "2007-03-31",
          "2007-04-30",
          "2007-05-31",
          "2007-06-30",
          "2007-07-31",
          "2007-08-31",
          "2007-09-30",
          "2007-10-31",
          "2007-11-30",
          "2007-12-31",
          "2008-01-31",
          "2008-02-29",
          "2008-03-31",
          "2008-04-30",
          "2008-05-31",
          "2008-06-30",
          "2008-07-31",
          "2008-08-31",
          "2008-09-30",
          "2008-10-31",
          "2008-11-30",
          "2008-12-31",
          "2009-01-31",
          "2009-02-28",
          "2009-03-31",
          "2009-04-30",
          "2009-05-31",
          "2009-06-30",
          "2009-07-31",
          "2009-08-31",
          "2009-09-30",
          "2009-10-31",
          "2009-11-30",
          "2009-12-31",
          "2010-01-31",
          "2010-02-28",
          "2010-03-31",
          "2010-04-30",
          "2010-05-31",
          "2010-06-30",
          "2010-07-31",
          "2010-08-31",
          "2010-09-30",
          "2010-10-31",
          "2010-11-30",
          "2010-12-31",
          "2011-01-31",
          "2011-02-28",
          "2011-03-31",
          "2011-04-30",
          "2011-05-31",
          "2011-06-30",
          "2011-07-31",
          "2011-08-31",
          "2011-09-30",
          "2011-10-31",
          "2011-11-30",
          "2011-12-31",
          "2012-01-31",
          "2012-02-29",
          "2012-03-31",
          "2012-04-30",
          "2012-05-31",
          "2012-06-30",
          "2012-07-31",
          "2012-08-31",
          "2012-09-30",
          "2012-10-31",
          "2012-11-30",
          "2012-12-31",
          "2013-01-31",
          "2013-02-28",
          "2013-03-31",
          "2013-04-30",
          "2013-05-31",
          "2013-06-30",
          "2013-07-31",
          "2013-08-31",
          "2013-09-30",
          "2013-10-31",
          "2013-11-30",
          "2013-12-31",
          "2014-01-31",
          "2014-02-28",
          "2014-03-31",
          "2014-04-30",
          "2014-05-31",
          "2014-06-30",
          "2014-07-31",
          "2014-08-31",
          "2014-09-30",
          "2014-10-31",
          "2014-11-30",
          "2014-12-31",
          "2015-01-31",
          "2015-02-28",
          "2015-03-31",
          "2015-04-30",
          "2015-05-31",
          "2015-06-30",
          "2015-07-31",
          "2015-08-31",
          "2015-09-30",
          "2015-10-31",
          "2015-11-30",
          "2015-12-31",
          "2016-01-31",
          "2016-02-29",
          "2016-03-31",
          "2016-04-30",
          "2016-05-31",
          "2016-06-30",
          "2016-07-31",
          "2016-08-31",
          "2016-09-30",
          "2016-10-31",
          "2016-11-30",
          "2016-12-31",
          "2017-01-31",
          "2017-02-28",
          "2017-03-31",
          "2017-04-30",
          "2017-05-31",
          "2017-06-30",
          "2017-07-31",
          "2017-08-31",
          "2017-09-30",
          "2017-10-31",
          "2017-11-30",
          "2017-12-31",
          "2018-01-31",
          "2018-02-28",
          "2018-03-31",
          "2018-04-30",
          "2018-05-31",
          "2018-06-30",
          "2018-07-31",
          "2018-08-31",
          "2018-09-30",
          "2018-10-31",
          "2018-11-30",
          "2018-12-31",
          "2019-01-31",
          "2019-02-28",
          "2019-03-31",
          "2019-04-30",
          "2019-05-31",
          "2019-06-30",
          "2019-07-31",
          "2019-08-31",
          "2019-09-30",
          "2019-10-31",
          "2019-11-30",
          "2019-12-31",
          "2020-01-31",
          "2020-02-29",
          "2020-03-31",
          "2020-04-30",
          "2020-05-31",
          "2020-06-30",
          "2020-07-31",
          "2020-08-31",
          "2020-09-30",
          "2020-10-31",
          "2020-11-30",
          "2020-12-31",
          "2021-01-31"
         ],
         "y": [
          506.9048067077746,
          998.3915503234296,
          1506.9517867244203,
          2128.036676982416,
          2645.3817190504997,
          3162.6813185052774,
          3638.1642012967973,
          3974.571742439654,
          4501.4191728942915,
          5033.928397518104,
          5567.685360742965,
          6187.326810637937,
          7194.163624020383,
          8059.6638704291245,
          8503.356306799762,
          9494.379422008806,
          10094.06348603266,
          10052.032402924255,
          11338.210466494693,
          10777.940658657417,
          11998.795280501745,
          12817.956995437215,
          11835.470365906018,
          14169.019057016232,
          15250.661456664973,
          16103.35924493618,
          16536.755084176577,
          17213.414891624547,
          18495.167545624878,
          20045.08156207562,
          21334.31376515351,
          21217.033369153076,
          17093.774314767143,
          16153.71301267834,
          16712.001008222713,
          17279.12781215478,
          17830.687282810028,
          17649.990301919446,
          18462.8377221575,
          19116.40919858753,
          20374.352363995655,
          20937.67781718359,
          20708.549237958407,
          21963.383999832808,
          22602.65698063177,
          23243.583188213626,
          23561.53935964882,
          26171.54061977073,
          26013.22644427622,
          26783.480656619435,
          28878.64436771916,
          30564.284328706803,
          30708.700024613187,
          34210.090333873806,
          35355.34120258273,
          35522.95795184246,
          35368.16207142901,
          36598.427702793946,
          37354.40685394322,
          38085.31873575227,
          39077.16562822193,
          40324.37358948581,
          40023.05175446762,
          44450.8554677436,
          44418.65546087176,
          45000.51746333748,
          41390.78309504983,
          42167.26226347716,
          42923.265837058025,
          43718.544044750015,
          44470.58974580509,
          45240.41328427992,
          48995.55193171088,
          50331.8274605259,
          51188.97615122266,
          53897.14494172317,
          51655.34901782589,
          54846.97985330177,
          56638.323414318016,
          55911.34034359538,
          57439.72828858494,
          55615.93946816319,
          61446.1721174759,
          61766.63855591209,
          63041.31675461942,
          61963.38642755193,
          64651.57070670117,
          65467.34957590117,
          64610.82038564077,
          68134.23072374698,
          67215.05770131723,
          68128.46692426929,
          69237.76098315642,
          72110.38879932612,
          73017.40567884967,
          74406.54558068288,
          75922.20398048434,
          77572.37247310865,
          76576.85587923371,
          79121.83461766459,
          79416.074037524,
          79994.2098113995,
          83541.12617219219,
          82949.20452245224,
          85622.4435344698,
          85265.07286207977,
          85902.28874725616,
          90268.78832722921,
          88304.73879938028,
          84332.24276916632,
          86355.46673327335,
          87089.97649345318,
          87861.5054205829,
          91729.95945172923,
          95989.20473773846,
          93655.04211872359,
          96755.75238221532,
          93701.35551705532,
          94201.35551705532,
          98289.7959666507,
          102622.15401862231,
          105666.96361456867,
          109808.16872749358,
          114670.22644112134,
          117326.40621109774,
          122243.01414294765,
          123068.2147365396,
          128256.33423568287,
          128803.94918414974,
          134967.93882297317,
          136439.11400912772,
          142961.61076360167,
          144786.57223253977,
          146084.41447410826,
          149256.56014577422,
          153566.91836666077,
          154115.98134936826,
          148299.80662385738,
          151918.91517718617,
          160416.13777248206,
          165915.58245555445,
          179002.74822485715,
          173895.5282204117,
          186909.63995500724,
          188889.1497625148,
          180795.69381327947,
          192794.8960599063,
          205063.00094172233,
          214022.54220710814,
          232357.07439512847,
          219796.01439594085,
          231636.17200949468,
          225039.08563741914,
          235910.6406229587,
          237597.65519171028,
          242120.21665603324,
          260070.15447765408,
          272821.7739690221,
          276805.47144589986,
          272470.5167053989,
          283357.5810419595,
          281588.6916694553,
          241260.41194899814,
          256546.4785691186,
          258228.89237053652,
          259556.82482612226,
          273144.7997608098,
          286474.8189876496,
          278008.30426209583,
          287878.4158237119,
          300162.35207203776,
          293479.3056892614,
          309345.49402378546,
          301085.12908242404,
          300087.7672284886,
          291490.32311294746,
          293129.08537308796,
          294774.238806043,
          296337.22606574476,
          282770.2759491539,
          277870.17805159773,
          304889.0281405317,
          306824.35657279217,
          308738.048613027,
          310784.2388560921,
          312529.3758115165,
          314531.9168154117,
          316607.0763994887,
          318724.3224891262,
          321011.9786950653,
          323151.6897864102,
          325269.9482353422,
          327529.1059558131,
          306341.7517080568,
          331570.87930673,
          333365.9557360262,
          334934.32679438154,
          332895.0079565465,
          312477.821872382,
          313948.05312018644,
          315328.50766892295,
          316523.3303857946,
          317562.27004745044,
          314507.1028225456,
          308908.07350867754,
          320113.73538301256,
          321030.5332390105,
          322012.829038869,
          322964.34699952346,
          323884.85065062286,
          324871.4279265988,
          325826.9479256961,
          326783.8056527921,
          327742.00298070605,
          328635.89338428294,
          322137.6420754842,
          317738.2308343557,
          318524.6452421066,
          319343.66988734866,
          320163.513557236,
          323647.53830925433,
          330878.1056019309,
          337781.9519910093,
          333354.09867937525,
          354058.2115971501,
          357622.4610289396,
          375073.4013077615,
          384193.83478984097,
          389992.867575318,
          383234.0899681024,
          379011.1598063152,
          384664.4457922522,
          385395.54445972753,
          386204.2608952953,
          388183.9440481339,
          391267.14649362984,
          399293.9666682092,
          415969.2596882365,
          427419.0609864278,
          420526.5253379902,
          429841.28550738585,
          421090.42200144054,
          415177.71259792306,
          428844.1059482529,
          430374.53180252865,
          431865.5432256745,
          433403.2205294161,
          435204.9301910043,
          436968.4744885582,
          438649.6393696773,
          440511.0032517233,
          442422.23846212885,
          444472.46629674634,
          446485.3726821553,
          454792.437779209,
          442104.48096778936,
          441321.7014104789,
          446363.37242007535,
          457417.9727456974,
          467647.9800724399,
          485438.066011643,
          495080.07449239766,
          500021.61199413665,
          510538.2255852072,
          500974.7129873784,
          504948.4679467975,
          529976.9867082664,
          548921.9282095669,
          538033.9260573239,
          524006.17954430694,
          532364.912762661,
          535102.9453962642,
          537316.8748215323,
          515299.74375198514,
          509392.0954986608,
          481895.2808878626,
          483408.3109777271,
          484537.3917819982,
          485861.95534802764,
          487237.4068676541,
          488615.33420001593,
          487319.3570401058,
          494874.7366629842,
          496018.7238206461,
          497263.5019063771,
          498161.71270790213,
          498811.3112217145,
          499311.3112217145,
          499811.3112217145,
          500361.3423528366,
          500961.5146213072,
          501511.6607727693,
          500475.8566701767,
          541788.433603306,
          561804.9389025811,
          580349.6541170906,
          572856.086263983,
          607650.6047247978,
          616071.2049892584,
          598129.1474916402,
          617137.8479057993,
          652142.8970476397,
          665637.8944588653,
          612873.837326949,
          578221.114485486,
          622370.2670681083,
          622932.5540948152,
          623494.8973502247,
          624057.2968399597,
          624619.7525696437,
          663989.0656096375,
          683050.5220477452,
          706902.6177423946,
          704632.8547005679,
          728988.1184649991,
          721132.4476693838,
          706361.5356856681,
          695524.0791622254,
          696024.0791622254,
          696593.7315701416,
          697093.7315701416,
          697593.7315701416,
          698093.7315701416,
          698593.7315701416,
          699093.7315701416,
          719553.5572603744,
          718437.5051376316,
          675673.0401189905,
          700499.4817259968,
          700999.4817259968,
          701499.4817259968,
          716619.950481056,
          707189.1926288005,
          711651.9257985968,
          713673.1676305826,
          756253.9992908782,
          766886.1067380864,
          792541.8550353453,
          811751.9933077168,
          831156.8352676221,
          816545.6253592696,
          862577.4785416805,
          837945.6259116362,
          860539.3815746285,
          904769.3262076572,
          932684.6241118977,
          951732.2520978648,
          923966.454883266,
          966627.9876621836,
          970953.0023159462,
          982649.9124099631,
          1006105.4100311445,
          1022954.4792164648,
          1013504.3258881231,
          1054434.7414605785,
          1035364.3102622085,
          1065689.0510614177,
          1094788.5482659938,
          1086647.483482698,
          1060089.05338197,
          1121401.261237783,
          1121901.261237783,
          1122401.261237783,
          1122901.261237783,
          1123401.261237783,
          1152325.4249867015,
          1083176.7236369415,
          1051388.3573140085,
          1146146.227392155,
          1146646.227392155,
          1147146.227392155,
          1147760.9920148943,
          1148375.8181140958,
          1149105.5932777186,
          1149835.514396374,
          1150450.5479478138,
          1148400.7081340312,
          1196799.8577254165,
          1198850.4434110231,
          1194339.4305785343,
          1178028.5666113633,
          1178764.2723246855,
          1179382.198751918,
          1180236.1634115435,
          1227525.5205193823,
          1223816.1961645244,
          1242208.6649448262,
          1260028.6428891735,
          1262842.7190252112,
          1294650.9723831478,
          1298951.4004398785,
          1319767.2500547431,
          1357465.76542714,
          1399510.5832246004,
          1409030.4976340833,
          1496824.2719032804,
          1441946.662692237,
          1399621.65336058,
          1411267.3659970853,
          1413743.8403094814,
          1416223.7816859148,
          1475691.9912058169,
          1524113.1865831113,
          1526541.78694629,
          1428523.9837194842,
          1457985.386072567,
          1319902.3407367773,
          1433199.7420936383,
          1479585.609437256,
          1500741.2052847247,
          1570217.6041318635,
          1470747.6141880064,
          1567094.3544468433,
          1597673.8745362016,
          1572745.2906674587,
          1595371.854497614,
          1637582.9931811802,
          1697388.6805715375,
          1740921.0141157417,
          1748579.922816921,
          1604932.4410966935,
          1400650.8897545105,
          1402832.270822216,
          1403332.270822216,
          1403972.6540492983,
          1490566.1177190463,
          1601433.1714564203,
          1531556.581531554,
          1497171.8104849923,
          1661451.8045629817,
          1662117.999743438,
          1662784.2615434125
         ]
        },
        {
         "line": {
          "color": "green",
          "dash": "solid",
          "shape": "linear",
          "width": 1.3
         },
         "marker": {
          "size": 2.75,
          "symbol": "diamond"
         },
         "mode": "lines+markers",
         "name": "Naive Portfolio",
         "text": "",
         "type": "scatter",
         "x": [
          "1985-02-28",
          "1985-03-31",
          "1985-04-30",
          "1985-05-31",
          "1985-06-30",
          "1985-07-31",
          "1985-08-31",
          "1985-09-30",
          "1985-10-31",
          "1985-11-30",
          "1985-12-31",
          "1986-01-31",
          "1986-02-28",
          "1986-03-31",
          "1986-04-30",
          "1986-05-31",
          "1986-06-30",
          "1986-07-31",
          "1986-08-31",
          "1986-09-30",
          "1986-10-31",
          "1986-11-30",
          "1986-12-31",
          "1987-01-31",
          "1987-02-28",
          "1987-03-31",
          "1987-04-30",
          "1987-05-31",
          "1987-06-30",
          "1987-07-31",
          "1987-08-31",
          "1987-09-30",
          "1987-10-31",
          "1987-11-30",
          "1987-12-31",
          "1988-01-31",
          "1988-02-29",
          "1988-03-31",
          "1988-04-30",
          "1988-05-31",
          "1988-06-30",
          "1988-07-31",
          "1988-08-31",
          "1988-09-30",
          "1988-10-31",
          "1988-11-30",
          "1988-12-31",
          "1989-01-31",
          "1989-02-28",
          "1989-03-31",
          "1989-04-30",
          "1989-05-31",
          "1989-06-30",
          "1989-07-31",
          "1989-08-31",
          "1989-09-30",
          "1989-10-31",
          "1989-11-30",
          "1989-12-31",
          "1990-01-31",
          "1990-02-28",
          "1990-03-31",
          "1990-04-30",
          "1990-05-31",
          "1990-06-30",
          "1990-07-31",
          "1990-08-31",
          "1990-09-30",
          "1990-10-31",
          "1990-11-30",
          "1990-12-31",
          "1991-01-31",
          "1991-02-28",
          "1991-03-31",
          "1991-04-30",
          "1991-05-31",
          "1991-06-30",
          "1991-07-31",
          "1991-08-31",
          "1991-09-30",
          "1991-10-31",
          "1991-11-30",
          "1991-12-31",
          "1992-01-31",
          "1992-02-29",
          "1992-03-31",
          "1992-04-30",
          "1992-05-31",
          "1992-06-30",
          "1992-07-31",
          "1992-08-31",
          "1992-09-30",
          "1992-10-31",
          "1992-11-30",
          "1992-12-31",
          "1993-01-31",
          "1993-02-28",
          "1993-03-31",
          "1993-04-30",
          "1993-05-31",
          "1993-06-30",
          "1993-07-31",
          "1993-08-31",
          "1993-09-30",
          "1993-10-31",
          "1993-11-30",
          "1993-12-31",
          "1994-01-31",
          "1994-02-28",
          "1994-03-31",
          "1994-04-30",
          "1994-05-31",
          "1994-06-30",
          "1994-07-31",
          "1994-08-31",
          "1994-09-30",
          "1994-10-31",
          "1994-11-30",
          "1994-12-31",
          "1995-01-31",
          "1995-02-28",
          "1995-03-31",
          "1995-04-30",
          "1995-05-31",
          "1995-06-30",
          "1995-07-31",
          "1995-08-31",
          "1995-09-30",
          "1995-10-31",
          "1995-11-30",
          "1995-12-31",
          "1996-01-31",
          "1996-02-29",
          "1996-03-31",
          "1996-04-30",
          "1996-05-31",
          "1996-06-30",
          "1996-07-31",
          "1996-08-31",
          "1996-09-30",
          "1996-10-31",
          "1996-11-30",
          "1996-12-31",
          "1997-01-31",
          "1997-02-28",
          "1997-03-31",
          "1997-04-30",
          "1997-05-31",
          "1997-06-30",
          "1997-07-31",
          "1997-08-31",
          "1997-09-30",
          "1997-10-31",
          "1997-11-30",
          "1997-12-31",
          "1998-01-31",
          "1998-02-28",
          "1998-03-31",
          "1998-04-30",
          "1998-05-31",
          "1998-06-30",
          "1998-07-31",
          "1998-08-31",
          "1998-09-30",
          "1998-10-31",
          "1998-11-30",
          "1998-12-31",
          "1999-01-31",
          "1999-02-28",
          "1999-03-31",
          "1999-04-30",
          "1999-05-31",
          "1999-06-30",
          "1999-07-31",
          "1999-08-31",
          "1999-09-30",
          "1999-10-31",
          "1999-11-30",
          "1999-12-31",
          "2000-01-31",
          "2000-02-29",
          "2000-03-31",
          "2000-04-30",
          "2000-05-31",
          "2000-06-30",
          "2000-07-31",
          "2000-08-31",
          "2000-09-30",
          "2000-10-31",
          "2000-11-30",
          "2000-12-31",
          "2001-01-31",
          "2001-02-28",
          "2001-03-31",
          "2001-04-30",
          "2001-05-31",
          "2001-06-30",
          "2001-07-31",
          "2001-08-31",
          "2001-09-30",
          "2001-10-31",
          "2001-11-30",
          "2001-12-31",
          "2002-01-31",
          "2002-02-28",
          "2002-03-31",
          "2002-04-30",
          "2002-05-31",
          "2002-06-30",
          "2002-07-31",
          "2002-08-31",
          "2002-09-30",
          "2002-10-31",
          "2002-11-30",
          "2002-12-31",
          "2003-01-31",
          "2003-02-28",
          "2003-03-31",
          "2003-04-30",
          "2003-05-31",
          "2003-06-30",
          "2003-07-31",
          "2003-08-31",
          "2003-09-30",
          "2003-10-31",
          "2003-11-30",
          "2003-12-31",
          "2004-01-31",
          "2004-02-29",
          "2004-03-31",
          "2004-04-30",
          "2004-05-31",
          "2004-06-30",
          "2004-07-31",
          "2004-08-31",
          "2004-09-30",
          "2004-10-31",
          "2004-11-30",
          "2004-12-31",
          "2005-01-31",
          "2005-02-28",
          "2005-03-31",
          "2005-04-30",
          "2005-05-31",
          "2005-06-30",
          "2005-07-31",
          "2005-08-31",
          "2005-09-30",
          "2005-10-31",
          "2005-11-30",
          "2005-12-31",
          "2006-01-31",
          "2006-02-28",
          "2006-03-31",
          "2006-04-30",
          "2006-05-31",
          "2006-06-30",
          "2006-07-31",
          "2006-08-31",
          "2006-09-30",
          "2006-10-31",
          "2006-11-30",
          "2006-12-31",
          "2007-01-31",
          "2007-02-28",
          "2007-03-31",
          "2007-04-30",
          "2007-05-31",
          "2007-06-30",
          "2007-07-31",
          "2007-08-31",
          "2007-09-30",
          "2007-10-31",
          "2007-11-30",
          "2007-12-31",
          "2008-01-31",
          "2008-02-29",
          "2008-03-31",
          "2008-04-30",
          "2008-05-31",
          "2008-06-30",
          "2008-07-31",
          "2008-08-31",
          "2008-09-30",
          "2008-10-31",
          "2008-11-30",
          "2008-12-31",
          "2009-01-31",
          "2009-02-28",
          "2009-03-31",
          "2009-04-30",
          "2009-05-31",
          "2009-06-30",
          "2009-07-31",
          "2009-08-31",
          "2009-09-30",
          "2009-10-31",
          "2009-11-30",
          "2009-12-31",
          "2010-01-31",
          "2010-02-28",
          "2010-03-31",
          "2010-04-30",
          "2010-05-31",
          "2010-06-30",
          "2010-07-31",
          "2010-08-31",
          "2010-09-30",
          "2010-10-31",
          "2010-11-30",
          "2010-12-31",
          "2011-01-31",
          "2011-02-28",
          "2011-03-31",
          "2011-04-30",
          "2011-05-31",
          "2011-06-30",
          "2011-07-31",
          "2011-08-31",
          "2011-09-30",
          "2011-10-31",
          "2011-11-30",
          "2011-12-31",
          "2012-01-31",
          "2012-02-29",
          "2012-03-31",
          "2012-04-30",
          "2012-05-31",
          "2012-06-30",
          "2012-07-31",
          "2012-08-31",
          "2012-09-30",
          "2012-10-31",
          "2012-11-30",
          "2012-12-31",
          "2013-01-31",
          "2013-02-28",
          "2013-03-31",
          "2013-04-30",
          "2013-05-31",
          "2013-06-30",
          "2013-07-31",
          "2013-08-31",
          "2013-09-30",
          "2013-10-31",
          "2013-11-30",
          "2013-12-31",
          "2014-01-31",
          "2014-02-28",
          "2014-03-31",
          "2014-04-30",
          "2014-05-31",
          "2014-06-30",
          "2014-07-31",
          "2014-08-31",
          "2014-09-30",
          "2014-10-31",
          "2014-11-30",
          "2014-12-31",
          "2015-01-31",
          "2015-02-28",
          "2015-03-31",
          "2015-04-30",
          "2015-05-31",
          "2015-06-30",
          "2015-07-31",
          "2015-08-31",
          "2015-09-30",
          "2015-10-31",
          "2015-11-30",
          "2015-12-31",
          "2016-01-31",
          "2016-02-29",
          "2016-03-31",
          "2016-04-30",
          "2016-05-31",
          "2016-06-30",
          "2016-07-31",
          "2016-08-31",
          "2016-09-30",
          "2016-10-31",
          "2016-11-30",
          "2016-12-31",
          "2017-01-31",
          "2017-02-28",
          "2017-03-31",
          "2017-04-30",
          "2017-05-31",
          "2017-06-30",
          "2017-07-31",
          "2017-08-31",
          "2017-09-30",
          "2017-10-31",
          "2017-11-30",
          "2017-12-31",
          "2018-01-31",
          "2018-02-28",
          "2018-03-31",
          "2018-04-30",
          "2018-05-31",
          "2018-06-30",
          "2018-07-31",
          "2018-08-31",
          "2018-09-30",
          "2018-10-31",
          "2018-11-30",
          "2018-12-31",
          "2019-01-31",
          "2019-02-28",
          "2019-03-31",
          "2019-04-30",
          "2019-05-31",
          "2019-06-30",
          "2019-07-31",
          "2019-08-31",
          "2019-09-30",
          "2019-10-31",
          "2019-11-30",
          "2019-12-31",
          "2020-01-31",
          "2020-02-29",
          "2020-03-31",
          "2020-04-30",
          "2020-05-31",
          "2020-06-30",
          "2020-07-31",
          "2020-08-31",
          "2020-09-30",
          "2020-10-31",
          "2020-11-30",
          "2020-12-31",
          "2021-01-31"
         ],
         "y": [
          1006.9048067077746,
          1498.3915503234296,
          2006.9517867244203,
          2628.036676982416,
          3144.519848552986,
          3662.731522995567,
          4138.214069730175,
          4474.619639443374,
          5210.8660526318,
          6072.730965744544,
          6348.855393896652,
          6974.040900286572,
          8002.607959500312,
          8882.76041323531,
          9324.327441480362,
          10332.855611590323,
          10935.915641317311,
          10876.39415009155,
          12186.738751495368,
          11595.253582281523,
          12836.389964288313,
          13664.172293916025,
          12643.146754016681,
          15022.428572601715,
          16118.084040057163,
          16979.009364224552,
          17410.898287872427,
          18091.437711244693,
          19389.873785371452,
          20961.60427764401,
          22266.83705679393,
          22137.32874506347,
          17924.594559836034,
          16957.45541621374,
          18501.773575977102,
          19748.58987703775,
          21309.929082799106,
          21018.600085372113,
          21880.89310615839,
          22558.096598017313,
          23929.701333012064,
          24502.295641814602,
          24168.934670471353,
          25529.132689772527,
          26904.160866426697,
          27007.368753520415,
          27300.30123686215,
          30194.31556614019,
          29949.051307134087,
          30754.327516668494,
          33052.418743784816,
          34886.32196884267,
          34986.98785290383,
          38851.742110822524,
          40073.98512738414,
          40202.4945488536,
          39971.726469005036,
          41285.5395104568,
          41252.49732730691,
          39733.14339342597,
          40739.62160188509,
          42008.77646976425,
          41684.206564880515,
          46224.55827191724,
          46177.278137335255,
          46761.43391666465,
          43037.810037385105,
          41179.19616104619,
          41760.53116424976,
          44949.21421900721,
          45680.63966343979,
          49127.23649837553,
          53123.400058889376,
          54520.9716131574,
          55404.04054063745,
          58270.91801237407,
          55833.87112031307,
          59215.34295400852,
          61096.94231208923,
          60284.952225396104,
          61883.956747452416,
          59901.976746839864,
          66091.83020452854,
          66400.28161869523,
          67726.38772866037,
          66544.5289539598,
          69375.6816571411,
          70211.93409228644,
          69268.12077080019,
          72984.57467507034,
          71975.44813077687,
          72914.86759069402,
          74062.21697235186,
          77081.97203242955,
          78014.05433143594,
          79457.57794967781,
          81034.94383068141,
          82754.5349225509,
          81669.32909013296,
          84336.1538738646,
          84618.21044124667,
          85200.94360145777,
          88926.02214589603,
          88270.63247861089,
          91069.43428524007,
          90662.81507074852,
          91307.86687339224,
          95893.89091318272,
          93790.71309200935,
          89567.1071488333,
          91675.34901008035,
          93645.5932590801,
          91384.90594686383,
          95368.61588771934,
          99755.79118130462,
          97325.67961944896,
          100513.96787456381,
          97340.49331324342,
          97840.49331324342,
          102047.88252532684,
          106506.63171046143,
          109634.96216949898,
          113895.10912308605,
          118899.00983167432,
          121624.99867958498,
          126683.99314570744,
          127519.6351376957,
          132857.66965399342,
          133406.80130356667,
          139750.51098992635,
          141252.38811085303,
          147964.57996790422,
          149831.12929201667,
          151153.92800090043,
          154409.37315454776,
          158838.1160677708,
          159388.69844992357,
          153377.55477709268,
          157092.62107219352,
          165835.06694797185,
          171487.33604414057,
          184958.11374580325,
          179680.481672556,
          193073.8261700965,
          195098.0520288103,
          186745.55695190892,
          199090.43248580137,
          211711.37896817978,
          220923.94464647904,
          239790.66341348932,
          226840.69522925402,
          239017.75277440075,
          232210.27621348834,
          243388.61004262906,
          245110.6608996781,
          249751.70419653837,
          268214.55893774924,
          281325.60690960055,
          285411.3194298301,
          280935.0353173145,
          292125.16523117694,
          290290.19260017975,
          248774.86361466523,
          264489.9340935897,
          287380.3376358792,
          305328.8109659118,
          321195.2057045681,
          336754.6574769403,
          326732.77403846435,
          338225.345881836,
          352546.16496794944,
          344623.57584901655,
          363136.92123942496,
          353369.83001138346,
          352115.3585445689,
          341958.40524896805,
          365167.9692538184,
          373055.22158777574,
          393078.24834332184,
          374950.49001041736,
          368302.6544459251,
          403888.89446261805,
          393085.20069665933,
          385572.6899902451,
          394742.31739914714,
          390257.4083657572,
          414914.33101283415,
          392529.24520655104,
          392277.15411769884,
          361875.26192769787,
          363089.2878352674,
          377643.5454108549,
          343635.43471676117,
          321416.2818444303,
          347820.00649004,
          350580.52759509545,
          341662.69907828694,
          339576.2299585451,
          318771.2343158758,
          292430.7785895152,
          299522.42585339415,
          322947.2378685626,
          325102.5771662325,
          321968.71632853855,
          316234.89930841106,
          327676.7725002406,
          309110.35263601044,
          307278.45738598256,
          284920.3580318739,
          264276.4925556126,
          266501.16442043294,
          236936.16355934812,
          259388.85453180855,
          275857.088914181,
          258074.69967115566,
          253087.3868588978,
          249744.13044223265,
          251688.19984083052,
          273981.00691776106,
          288902.8717788543,
          292091.33892235236,
          298656.294474627,
          304927.79536927067,
          300985.82192854845,
          319700.8193089875,
          322963.8156855128,
          338750.5986931365,
          347025.8484655661,
          352306.0169583407,
          346257.0854947173,
          342495.41556345974,
          347646.0741268906,
          353674.23215534113,
          343600.55778949667,
          345415.3091591608,
          348210.9472604897,
          355400.9446385426,
          370280.1371687136,
          380515.5349978345,
          374441.9211682205,
          382781.3695968343,
          375052.8813666518,
          369848.0431785868,
          382062.80360176414,
          381590.9607734055,
          397736.37615225,
          394604.2527167712,
          396363.215273304,
          392056.7729105546,
          407316.134684707,
          405805.6925900491,
          419201.6849558623,
          420767.73037763,
          424754.5455596257,
          432673.32610619074,
          420640.55230047065,
          419921.4297550166,
          424737.9786654441,
          435269.99266481964,
          445018.7674887155,
          461954.6233760943,
          471145.428604197,
          475867.97546922544,
          485891.21186185523,
          476822.90153409715,
          480625.8914477887,
          504449.8145442689,
          522489.77867607377,
          512160.00574822933,
          498843.73461357923,
          506817.9646243324,
          523881.91995627317,
          535012.219654827,
          513112.512918636,
          507238.2474464475,
          479887.1485519331,
          464783.85267251584,
          460972.1434018662,
          486236.6425061461,
          492982.7043940614,
          449716.21440731804,
          448564.90643751615,
          455552.5450577225,
          413126.0049165037,
          346252.7660961218,
          321909.5356266557,
          323030.6350962438,
          298950.68720849993,
          267591.4942853189,
          289541.223897681,
          319954.7034955298,
          338428.82878617535,
          337893.4735856899,
          365920.3557743404,
          379589.52207045705,
          392270.7859191103,
          387372.4128258138,
          411042.5695244709,
          416896.01957382733,
          404926.38054220466,
          417946.0867720957,
          441795.12587584986,
          451091.8607258266,
          415522.7782711179,
          392208.9861430826,
          422290.74746460497,
          403661.81937860424,
          437928.80648418475,
          457322.0793814358,
          457822.0793814358,
          486788.99255598855,
          500886.6770740756,
          518498.4387331381,
          516968.3108019875,
          534957.8027889561,
          529330.3125989089,
          518628.82541507034,
          510810.46112008305,
          483489.5059701122,
          447557.25024985493,
          499463.0816628793,
          498796.1700096986,
          501545.99228345125,
          527418.4000126799,
          550633.3525484526,
          566843.2499362249,
          566071.0553500232,
          532505.839392806,
          552163.6162321479,
          563010.4972436352,
          576118.2584094519,
          588617.0122768831,
          580965.7775877372,
          584718.9180642952,
          586467.9477248067,
          621524.075147298,
          630345.601979426,
          651509.014001675,
          667379.9854835325,
          683412.989103987,
          671495.370809391,
          709416.082318516,
          689258.6779979474,
          707921.2306425822,
          744374.7037159419,
          767417.4472553071,
          783170.3489361274,
          760422.9382138533,
          795603.0463627125,
          799249.6757124347,
          808961.7804053942,
          828350.1716785036,
          842304.0575125016,
          834615.0713958449,
          868392.8724052379,
          852783.0389770279,
          877836.4798509716,
          901883.6002482215,
          895268.3659758695,
          873485.6887216782,
          924069.736913801,
          905493.5413556732,
          919020.470835511,
          931215.9923906003,
          909697.507166614,
          933204.3244000154,
          877324.1753508296,
          851684.124780561,
          928502.0448554397,
          931661.2003515201,
          912184.1798189715,
          872086.9403044239,
          871320.7654557755,
          926144.4632800882,
          934858.6139259432,
          952026.5089957506,
          950417.3696406826,
          990541.4933272346,
          992324.312706726,
          988678.2769152005,
          975268.0094807965,
          1011843.519981626,
          1026045.8332538944,
          1052127.4532164217,
          1094320.3975480893,
          1091069.3765599679,
          1107514.5423744852,
          1123450.2820519113,
          1126012.7099883067,
          1154417.6408338118,
          1158305.1078434198,
          1176914.2517260695,
          1210573.7979338618,
          1248109.3912794148,
          1256650.6446941441,
          1334976.4014956472,
          1286103.1275460974,
          1248419.8242301631,
          1258857.909665231,
          1289502.1311824697,
          1292111.9735666108,
          1346393.4732247721,
          1390601.0567027282,
          1392860.1348260152,
          1303499.1226007629,
          1330416.5676448073,
          1204502.425089777,
          1307898.897843947,
          1350258.4822208628,
          1369602.2526896365,
          1433030.3357391176,
          1342323.5982095783,
          1430271.3806359973,
          1458215.901984925,
          1435514.192863557,
          1456203.6678334863,
          1494764.3134732589,
          1549381.2449511637,
          1589149.7148354377,
          1596182.642616138,
          1465135.9332307272,
          1278749.9568085684,
          1448964.869210687,
          1518375.9965345,
          1541387.2463071637,
          1636373.5052658953,
          1757996.0500302892,
          1681263.2607310745,
          1643481.0689200072,
          1823706.2382465508,
          1886961.2981487757,
          1875345.0260227018
         ]
        }
       ],
       "layout": {
        "legend": {
         "bgcolor": "#F5F6F9",
         "font": {
          "color": "#4D5663"
         }
        },
        "paper_bgcolor": "#F5F6F9",
        "plot_bgcolor": "#F5F6F9",
        "template": {
         "data": {
          "bar": [
           {
            "error_x": {
             "color": "#2a3f5f"
            },
            "error_y": {
             "color": "#2a3f5f"
            },
            "marker": {
             "line": {
              "color": "#E5ECF6",
              "width": 0.5
             }
            },
            "type": "bar"
           }
          ],
          "barpolar": [
           {
            "marker": {
             "line": {
              "color": "#E5ECF6",
              "width": 0.5
             }
            },
            "type": "barpolar"
           }
          ],
          "carpet": [
           {
            "aaxis": {
             "endlinecolor": "#2a3f5f",
             "gridcolor": "white",
             "linecolor": "white",
             "minorgridcolor": "white",
             "startlinecolor": "#2a3f5f"
            },
            "baxis": {
             "endlinecolor": "#2a3f5f",
             "gridcolor": "white",
             "linecolor": "white",
             "minorgridcolor": "white",
             "startlinecolor": "#2a3f5f"
            },
            "type": "carpet"
           }
          ],
          "choropleth": [
           {
            "colorbar": {
             "outlinewidth": 0,
             "ticks": ""
            },
            "type": "choropleth"
           }
          ],
          "contour": [
           {
            "colorbar": {
             "outlinewidth": 0,
             "ticks": ""
            },
            "colorscale": [
             [
              0,
              "#0d0887"
             ],
             [
              0.1111111111111111,
              "#46039f"
             ],
             [
              0.2222222222222222,
              "#7201a8"
             ],
             [
              0.3333333333333333,
              "#9c179e"
             ],
             [
              0.4444444444444444,
              "#bd3786"
             ],
             [
              0.5555555555555556,
              "#d8576b"
             ],
             [
              0.6666666666666666,
              "#ed7953"
             ],
             [
              0.7777777777777778,
              "#fb9f3a"
             ],
             [
              0.8888888888888888,
              "#fdca26"
             ],
             [
              1,
              "#f0f921"
             ]
            ],
            "type": "contour"
           }
          ],
          "contourcarpet": [
           {
            "colorbar": {
             "outlinewidth": 0,
             "ticks": ""
            },
            "type": "contourcarpet"
           }
          ],
          "heatmap": [
           {
            "colorbar": {
             "outlinewidth": 0,
             "ticks": ""
            },
            "colorscale": [
             [
              0,
              "#0d0887"
             ],
             [
              0.1111111111111111,
              "#46039f"
             ],
             [
              0.2222222222222222,
              "#7201a8"
             ],
             [
              0.3333333333333333,
              "#9c179e"
             ],
             [
              0.4444444444444444,
              "#bd3786"
             ],
             [
              0.5555555555555556,
              "#d8576b"
             ],
             [
              0.6666666666666666,
              "#ed7953"
             ],
             [
              0.7777777777777778,
              "#fb9f3a"
             ],
             [
              0.8888888888888888,
              "#fdca26"
             ],
             [
              1,
              "#f0f921"
             ]
            ],
            "type": "heatmap"
           }
          ],
          "heatmapgl": [
           {
            "colorbar": {
             "outlinewidth": 0,
             "ticks": ""
            },
            "colorscale": [
             [
              0,
              "#0d0887"
             ],
             [
              0.1111111111111111,
              "#46039f"
             ],
             [
              0.2222222222222222,
              "#7201a8"
             ],
             [
              0.3333333333333333,
              "#9c179e"
             ],
             [
              0.4444444444444444,
              "#bd3786"
             ],
             [
              0.5555555555555556,
              "#d8576b"
             ],
             [
              0.6666666666666666,
              "#ed7953"
             ],
             [
              0.7777777777777778,
              "#fb9f3a"
             ],
             [
              0.8888888888888888,
              "#fdca26"
             ],
             [
              1,
              "#f0f921"
             ]
            ],
            "type": "heatmapgl"
           }
          ],
          "histogram": [
           {
            "marker": {
             "colorbar": {
              "outlinewidth": 0,
              "ticks": ""
             }
            },
            "type": "histogram"
           }
          ],
          "histogram2d": [
           {
            "colorbar": {
             "outlinewidth": 0,
             "ticks": ""
            },
            "colorscale": [
             [
              0,
              "#0d0887"
             ],
             [
              0.1111111111111111,
              "#46039f"
             ],
             [
              0.2222222222222222,
              "#7201a8"
             ],
             [
              0.3333333333333333,
              "#9c179e"
             ],
             [
              0.4444444444444444,
              "#bd3786"
             ],
             [
              0.5555555555555556,
              "#d8576b"
             ],
             [
              0.6666666666666666,
              "#ed7953"
             ],
             [
              0.7777777777777778,
              "#fb9f3a"
             ],
             [
              0.8888888888888888,
              "#fdca26"
             ],
             [
              1,
              "#f0f921"
             ]
            ],
            "type": "histogram2d"
           }
          ],
          "histogram2dcontour": [
           {
            "colorbar": {
             "outlinewidth": 0,
             "ticks": ""
            },
            "colorscale": [
             [
              0,
              "#0d0887"
             ],
             [
              0.1111111111111111,
              "#46039f"
             ],
             [
              0.2222222222222222,
              "#7201a8"
             ],
             [
              0.3333333333333333,
              "#9c179e"
             ],
             [
              0.4444444444444444,
              "#bd3786"
             ],
             [
              0.5555555555555556,
              "#d8576b"
             ],
             [
              0.6666666666666666,
              "#ed7953"
             ],
             [
              0.7777777777777778,
              "#fb9f3a"
             ],
             [
              0.8888888888888888,
              "#fdca26"
             ],
             [
              1,
              "#f0f921"
             ]
            ],
            "type": "histogram2dcontour"
           }
          ],
          "mesh3d": [
           {
            "colorbar": {
             "outlinewidth": 0,
             "ticks": ""
            },
            "type": "mesh3d"
           }
          ],
          "parcoords": [
           {
            "line": {
             "colorbar": {
              "outlinewidth": 0,
              "ticks": ""
             }
            },
            "type": "parcoords"
           }
          ],
          "pie": [
           {
            "automargin": true,
            "type": "pie"
           }
          ],
          "scatter": [
           {
            "marker": {
             "colorbar": {
              "outlinewidth": 0,
              "ticks": ""
             }
            },
            "type": "scatter"
           }
          ],
          "scatter3d": [
           {
            "line": {
             "colorbar": {
              "outlinewidth": 0,
              "ticks": ""
             }
            },
            "marker": {
             "colorbar": {
              "outlinewidth": 0,
              "ticks": ""
             }
            },
            "type": "scatter3d"
           }
          ],
          "scattercarpet": [
           {
            "marker": {
             "colorbar": {
              "outlinewidth": 0,
              "ticks": ""
             }
            },
            "type": "scattercarpet"
           }
          ],
          "scattergeo": [
           {
            "marker": {
             "colorbar": {
              "outlinewidth": 0,
              "ticks": ""
             }
            },
            "type": "scattergeo"
           }
          ],
          "scattergl": [
           {
            "marker": {
             "colorbar": {
              "outlinewidth": 0,
              "ticks": ""
             }
            },
            "type": "scattergl"
           }
          ],
          "scattermapbox": [
           {
            "marker": {
             "colorbar": {
              "outlinewidth": 0,
              "ticks": ""
             }
            },
            "type": "scattermapbox"
           }
          ],
          "scatterpolar": [
           {
            "marker": {
             "colorbar": {
              "outlinewidth": 0,
              "ticks": ""
             }
            },
            "type": "scatterpolar"
           }
          ],
          "scatterpolargl": [
           {
            "marker": {
             "colorbar": {
              "outlinewidth": 0,
              "ticks": ""
             }
            },
            "type": "scatterpolargl"
           }
          ],
          "scatterternary": [
           {
            "marker": {
             "colorbar": {
              "outlinewidth": 0,
              "ticks": ""
             }
            },
            "type": "scatterternary"
           }
          ],
          "surface": [
           {
            "colorbar": {
             "outlinewidth": 0,
             "ticks": ""
            },
            "colorscale": [
             [
              0,
              "#0d0887"
             ],
             [
              0.1111111111111111,
              "#46039f"
             ],
             [
              0.2222222222222222,
              "#7201a8"
             ],
             [
              0.3333333333333333,
              "#9c179e"
             ],
             [
              0.4444444444444444,
              "#bd3786"
             ],
             [
              0.5555555555555556,
              "#d8576b"
             ],
             [
              0.6666666666666666,
              "#ed7953"
             ],
             [
              0.7777777777777778,
              "#fb9f3a"
             ],
             [
              0.8888888888888888,
              "#fdca26"
             ],
             [
              1,
              "#f0f921"
             ]
            ],
            "type": "surface"
           }
          ],
          "table": [
           {
            "cells": {
             "fill": {
              "color": "#EBF0F8"
             },
             "line": {
              "color": "white"
             }
            },
            "header": {
             "fill": {
              "color": "#C8D4E3"
             },
             "line": {
              "color": "white"
             }
            },
            "type": "table"
           }
          ]
         },
         "layout": {
          "annotationdefaults": {
           "arrowcolor": "#2a3f5f",
           "arrowhead": 0,
           "arrowwidth": 1
          },
          "autotypenumbers": "strict",
          "coloraxis": {
           "colorbar": {
            "outlinewidth": 0,
            "ticks": ""
           }
          },
          "colorscale": {
           "diverging": [
            [
             0,
             "#8e0152"
            ],
            [
             0.1,
             "#c51b7d"
            ],
            [
             0.2,
             "#de77ae"
            ],
            [
             0.3,
             "#f1b6da"
            ],
            [
             0.4,
             "#fde0ef"
            ],
            [
             0.5,
             "#f7f7f7"
            ],
            [
             0.6,
             "#e6f5d0"
            ],
            [
             0.7,
             "#b8e186"
            ],
            [
             0.8,
             "#7fbc41"
            ],
            [
             0.9,
             "#4d9221"
            ],
            [
             1,
             "#276419"
            ]
           ],
           "sequential": [
            [
             0,
             "#0d0887"
            ],
            [
             0.1111111111111111,
             "#46039f"
            ],
            [
             0.2222222222222222,
             "#7201a8"
            ],
            [
             0.3333333333333333,
             "#9c179e"
            ],
            [
             0.4444444444444444,
             "#bd3786"
            ],
            [
             0.5555555555555556,
             "#d8576b"
            ],
            [
             0.6666666666666666,
             "#ed7953"
            ],
            [
             0.7777777777777778,
             "#fb9f3a"
            ],
            [
             0.8888888888888888,
             "#fdca26"
            ],
            [
             1,
             "#f0f921"
            ]
           ],
           "sequentialminus": [
            [
             0,
             "#0d0887"
            ],
            [
             0.1111111111111111,
             "#46039f"
            ],
            [
             0.2222222222222222,
             "#7201a8"
            ],
            [
             0.3333333333333333,
             "#9c179e"
            ],
            [
             0.4444444444444444,
             "#bd3786"
            ],
            [
             0.5555555555555556,
             "#d8576b"
            ],
            [
             0.6666666666666666,
             "#ed7953"
            ],
            [
             0.7777777777777778,
             "#fb9f3a"
            ],
            [
             0.8888888888888888,
             "#fdca26"
            ],
            [
             1,
             "#f0f921"
            ]
           ]
          },
          "colorway": [
           "#636efa",
           "#EF553B",
           "#00cc96",
           "#ab63fa",
           "#FFA15A",
           "#19d3f3",
           "#FF6692",
           "#B6E880",
           "#FF97FF",
           "#FECB52"
          ],
          "font": {
           "color": "#2a3f5f"
          },
          "geo": {
           "bgcolor": "white",
           "lakecolor": "white",
           "landcolor": "#E5ECF6",
           "showlakes": true,
           "showland": true,
           "subunitcolor": "white"
          },
          "hoverlabel": {
           "align": "left"
          },
          "hovermode": "closest",
          "mapbox": {
           "style": "light"
          },
          "paper_bgcolor": "white",
          "plot_bgcolor": "#E5ECF6",
          "polar": {
           "angularaxis": {
            "gridcolor": "white",
            "linecolor": "white",
            "ticks": ""
           },
           "bgcolor": "#E5ECF6",
           "radialaxis": {
            "gridcolor": "white",
            "linecolor": "white",
            "ticks": ""
           }
          },
          "scene": {
           "xaxis": {
            "backgroundcolor": "#E5ECF6",
            "gridcolor": "white",
            "gridwidth": 2,
            "linecolor": "white",
            "showbackground": true,
            "ticks": "",
            "zerolinecolor": "white"
           },
           "yaxis": {
            "backgroundcolor": "#E5ECF6",
            "gridcolor": "white",
            "gridwidth": 2,
            "linecolor": "white",
            "showbackground": true,
            "ticks": "",
            "zerolinecolor": "white"
           },
           "zaxis": {
            "backgroundcolor": "#E5ECF6",
            "gridcolor": "white",
            "gridwidth": 2,
            "linecolor": "white",
            "showbackground": true,
            "ticks": "",
            "zerolinecolor": "white"
           }
          },
          "shapedefaults": {
           "line": {
            "color": "#2a3f5f"
           }
          },
          "ternary": {
           "aaxis": {
            "gridcolor": "white",
            "linecolor": "white",
            "ticks": ""
           },
           "baxis": {
            "gridcolor": "white",
            "linecolor": "white",
            "ticks": ""
           },
           "bgcolor": "#E5ECF6",
           "caxis": {
            "gridcolor": "white",
            "linecolor": "white",
            "ticks": ""
           }
          },
          "title": {
           "x": 0.05
          },
          "xaxis": {
           "automargin": true,
           "gridcolor": "white",
           "linecolor": "white",
           "ticks": "",
           "title": {
            "standoff": 15
           },
           "zerolinecolor": "white",
           "zerolinewidth": 2
          },
          "yaxis": {
           "automargin": true,
           "gridcolor": "white",
           "linecolor": "white",
           "ticks": "",
           "title": {
            "standoff": 15
           },
           "zerolinecolor": "white",
           "zerolinewidth": 2
          }
         }
        },
        "title": {
         "font": {
          "color": "#4D5663"
         },
         "text": "Investment Value Comparison"
        },
        "xaxis": {
         "gridcolor": "#E1E5ED",
         "showgrid": true,
         "tickfont": {
          "color": "#4D5663"
         },
         "title": {
          "font": {
           "color": "#4D5663"
          },
          "text": "Date"
         },
         "zerolinecolor": "#E1E5ED"
        },
        "yaxis": {
         "gridcolor": "#E1E5ED",
         "showgrid": true,
         "tickfont": {
          "color": "#4D5663"
         },
         "title": {
          "font": {
           "color": "#4D5663"
          },
          "text": "Investment Value"
         },
         "zerolinecolor": "#E1E5ED"
        }
       }
      },
      "text/html": [
       "<div>                            <div id=\"7fff7b65-d4d3-41e1-b83b-923a98d40f9a\" class=\"plotly-graph-div\" style=\"height:525px; width:100%;\"></div>            <script type=\"text/javascript\">                require([\"plotly\"], function(Plotly) {                    window.PLOTLYENV=window.PLOTLYENV || {};                                    if (document.getElementById(\"7fff7b65-d4d3-41e1-b83b-923a98d40f9a\")) {                    Plotly.newPlot(                        \"7fff7b65-d4d3-41e1-b83b-923a98d40f9a\",                        [{\"line\": {\"color\": \"red\", \"dash\": \"solid\", \"shape\": \"linear\", \"width\": 1.3}, \"marker\": {\"size\": 2.75, \"symbol\": \"circle\"}, \"mode\": \"lines+markers\", \"name\": \"Louise Portfolio\", \"text\": \"\", \"type\": \"scatter\", \"x\": [\"1985-02-28\", \"1985-03-31\", \"1985-04-30\", \"1985-05-31\", \"1985-06-30\", \"1985-07-31\", \"1985-08-31\", \"1985-09-30\", \"1985-10-31\", \"1985-11-30\", \"1985-12-31\", \"1986-01-31\", \"1986-02-28\", \"1986-03-31\", \"1986-04-30\", \"1986-05-31\", \"1986-06-30\", \"1986-07-31\", \"1986-08-31\", \"1986-09-30\", \"1986-10-31\", \"1986-11-30\", \"1986-12-31\", \"1987-01-31\", \"1987-02-28\", \"1987-03-31\", \"1987-04-30\", \"1987-05-31\", \"1987-06-30\", \"1987-07-31\", \"1987-08-31\", \"1987-09-30\", \"1987-10-31\", \"1987-11-30\", \"1987-12-31\", \"1988-01-31\", \"1988-02-29\", \"1988-03-31\", \"1988-04-30\", \"1988-05-31\", \"1988-06-30\", \"1988-07-31\", \"1988-08-31\", \"1988-09-30\", \"1988-10-31\", \"1988-11-30\", \"1988-12-31\", \"1989-01-31\", \"1989-02-28\", \"1989-03-31\", \"1989-04-30\", \"1989-05-31\", \"1989-06-30\", \"1989-07-31\", \"1989-08-31\", \"1989-09-30\", \"1989-10-31\", \"1989-11-30\", \"1989-12-31\", \"1990-01-31\", \"1990-02-28\", \"1990-03-31\", \"1990-04-30\", \"1990-05-31\", \"1990-06-30\", \"1990-07-31\", \"1990-08-31\", \"1990-09-30\", \"1990-10-31\", \"1990-11-30\", \"1990-12-31\", \"1991-01-31\", \"1991-02-28\", \"1991-03-31\", \"1991-04-30\", \"1991-05-31\", \"1991-06-30\", \"1991-07-31\", \"1991-08-31\", \"1991-09-30\", \"1991-10-31\", \"1991-11-30\", \"1991-12-31\", \"1992-01-31\", \"1992-02-29\", \"1992-03-31\", \"1992-04-30\", \"1992-05-31\", \"1992-06-30\", \"1992-07-31\", \"1992-08-31\", \"1992-09-30\", \"1992-10-31\", \"1992-11-30\", \"1992-12-31\", \"1993-01-31\", \"1993-02-28\", \"1993-03-31\", \"1993-04-30\", \"1993-05-31\", \"1993-06-30\", \"1993-07-31\", \"1993-08-31\", \"1993-09-30\", \"1993-10-31\", \"1993-11-30\", \"1993-12-31\", \"1994-01-31\", \"1994-02-28\", \"1994-03-31\", \"1994-04-30\", \"1994-05-31\", \"1994-06-30\", \"1994-07-31\", \"1994-08-31\", \"1994-09-30\", \"1994-10-31\", \"1994-11-30\", \"1994-12-31\", \"1995-01-31\", \"1995-02-28\", \"1995-03-31\", \"1995-04-30\", \"1995-05-31\", \"1995-06-30\", \"1995-07-31\", \"1995-08-31\", \"1995-09-30\", \"1995-10-31\", \"1995-11-30\", \"1995-12-31\", \"1996-01-31\", \"1996-02-29\", \"1996-03-31\", \"1996-04-30\", \"1996-05-31\", \"1996-06-30\", \"1996-07-31\", \"1996-08-31\", \"1996-09-30\", \"1996-10-31\", \"1996-11-30\", \"1996-12-31\", \"1997-01-31\", \"1997-02-28\", \"1997-03-31\", \"1997-04-30\", \"1997-05-31\", \"1997-06-30\", \"1997-07-31\", \"1997-08-31\", \"1997-09-30\", \"1997-10-31\", \"1997-11-30\", \"1997-12-31\", \"1998-01-31\", \"1998-02-28\", \"1998-03-31\", \"1998-04-30\", \"1998-05-31\", \"1998-06-30\", \"1998-07-31\", \"1998-08-31\", \"1998-09-30\", \"1998-10-31\", \"1998-11-30\", \"1998-12-31\", \"1999-01-31\", \"1999-02-28\", \"1999-03-31\", \"1999-04-30\", \"1999-05-31\", \"1999-06-30\", \"1999-07-31\", \"1999-08-31\", \"1999-09-30\", \"1999-10-31\", \"1999-11-30\", \"1999-12-31\", \"2000-01-31\", \"2000-02-29\", \"2000-03-31\", \"2000-04-30\", \"2000-05-31\", \"2000-06-30\", \"2000-07-31\", \"2000-08-31\", \"2000-09-30\", \"2000-10-31\", \"2000-11-30\", \"2000-12-31\", \"2001-01-31\", \"2001-02-28\", \"2001-03-31\", \"2001-04-30\", \"2001-05-31\", \"2001-06-30\", \"2001-07-31\", \"2001-08-31\", \"2001-09-30\", \"2001-10-31\", \"2001-11-30\", \"2001-12-31\", \"2002-01-31\", \"2002-02-28\", \"2002-03-31\", \"2002-04-30\", \"2002-05-31\", \"2002-06-30\", \"2002-07-31\", \"2002-08-31\", \"2002-09-30\", \"2002-10-31\", \"2002-11-30\", \"2002-12-31\", \"2003-01-31\", \"2003-02-28\", \"2003-03-31\", \"2003-04-30\", \"2003-05-31\", \"2003-06-30\", \"2003-07-31\", \"2003-08-31\", \"2003-09-30\", \"2003-10-31\", \"2003-11-30\", \"2003-12-31\", \"2004-01-31\", \"2004-02-29\", \"2004-03-31\", \"2004-04-30\", \"2004-05-31\", \"2004-06-30\", \"2004-07-31\", \"2004-08-31\", \"2004-09-30\", \"2004-10-31\", \"2004-11-30\", \"2004-12-31\", \"2005-01-31\", \"2005-02-28\", \"2005-03-31\", \"2005-04-30\", \"2005-05-31\", \"2005-06-30\", \"2005-07-31\", \"2005-08-31\", \"2005-09-30\", \"2005-10-31\", \"2005-11-30\", \"2005-12-31\", \"2006-01-31\", \"2006-02-28\", \"2006-03-31\", \"2006-04-30\", \"2006-05-31\", \"2006-06-30\", \"2006-07-31\", \"2006-08-31\", \"2006-09-30\", \"2006-10-31\", \"2006-11-30\", \"2006-12-31\", \"2007-01-31\", \"2007-02-28\", \"2007-03-31\", \"2007-04-30\", \"2007-05-31\", \"2007-06-30\", \"2007-07-31\", \"2007-08-31\", \"2007-09-30\", \"2007-10-31\", \"2007-11-30\", \"2007-12-31\", \"2008-01-31\", \"2008-02-29\", \"2008-03-31\", \"2008-04-30\", \"2008-05-31\", \"2008-06-30\", \"2008-07-31\", \"2008-08-31\", \"2008-09-30\", \"2008-10-31\", \"2008-11-30\", \"2008-12-31\", \"2009-01-31\", \"2009-02-28\", \"2009-03-31\", \"2009-04-30\", \"2009-05-31\", \"2009-06-30\", \"2009-07-31\", \"2009-08-31\", \"2009-09-30\", \"2009-10-31\", \"2009-11-30\", \"2009-12-31\", \"2010-01-31\", \"2010-02-28\", \"2010-03-31\", \"2010-04-30\", \"2010-05-31\", \"2010-06-30\", \"2010-07-31\", \"2010-08-31\", \"2010-09-30\", \"2010-10-31\", \"2010-11-30\", \"2010-12-31\", \"2011-01-31\", \"2011-02-28\", \"2011-03-31\", \"2011-04-30\", \"2011-05-31\", \"2011-06-30\", \"2011-07-31\", \"2011-08-31\", \"2011-09-30\", \"2011-10-31\", \"2011-11-30\", \"2011-12-31\", \"2012-01-31\", \"2012-02-29\", \"2012-03-31\", \"2012-04-30\", \"2012-05-31\", \"2012-06-30\", \"2012-07-31\", \"2012-08-31\", \"2012-09-30\", \"2012-10-31\", \"2012-11-30\", \"2012-12-31\", \"2013-01-31\", \"2013-02-28\", \"2013-03-31\", \"2013-04-30\", \"2013-05-31\", \"2013-06-30\", \"2013-07-31\", \"2013-08-31\", \"2013-09-30\", \"2013-10-31\", \"2013-11-30\", \"2013-12-31\", \"2014-01-31\", \"2014-02-28\", \"2014-03-31\", \"2014-04-30\", \"2014-05-31\", \"2014-06-30\", \"2014-07-31\", \"2014-08-31\", \"2014-09-30\", \"2014-10-31\", \"2014-11-30\", \"2014-12-31\", \"2015-01-31\", \"2015-02-28\", \"2015-03-31\", \"2015-04-30\", \"2015-05-31\", \"2015-06-30\", \"2015-07-31\", \"2015-08-31\", \"2015-09-30\", \"2015-10-31\", \"2015-11-30\", \"2015-12-31\", \"2016-01-31\", \"2016-02-29\", \"2016-03-31\", \"2016-04-30\", \"2016-05-31\", \"2016-06-30\", \"2016-07-31\", \"2016-08-31\", \"2016-09-30\", \"2016-10-31\", \"2016-11-30\", \"2016-12-31\", \"2017-01-31\", \"2017-02-28\", \"2017-03-31\", \"2017-04-30\", \"2017-05-31\", \"2017-06-30\", \"2017-07-31\", \"2017-08-31\", \"2017-09-30\", \"2017-10-31\", \"2017-11-30\", \"2017-12-31\", \"2018-01-31\", \"2018-02-28\", \"2018-03-31\", \"2018-04-30\", \"2018-05-31\", \"2018-06-30\", \"2018-07-31\", \"2018-08-31\", \"2018-09-30\", \"2018-10-31\", \"2018-11-30\", \"2018-12-31\", \"2019-01-31\", \"2019-02-28\", \"2019-03-31\", \"2019-04-30\", \"2019-05-31\", \"2019-06-30\", \"2019-07-31\", \"2019-08-31\", \"2019-09-30\", \"2019-10-31\", \"2019-11-30\", \"2019-12-31\", \"2020-01-31\", \"2020-02-29\", \"2020-03-31\", \"2020-04-30\", \"2020-05-31\", \"2020-06-30\", \"2020-07-31\", \"2020-08-31\", \"2020-09-30\", \"2020-10-31\", \"2020-11-30\", \"2020-12-31\", \"2021-01-31\"], \"y\": [506.9048067077746, 998.3915503234296, 1506.9517867244203, 2128.036676982416, 2645.3817190504997, 3162.6813185052774, 3638.1642012967973, 3974.571742439654, 4501.4191728942915, 5033.928397518104, 5567.685360742965, 6187.326810637937, 7194.163624020383, 8059.6638704291245, 8503.356306799762, 9494.379422008806, 10094.06348603266, 10052.032402924255, 11338.210466494693, 10777.940658657417, 11998.795280501745, 12817.956995437215, 11835.470365906018, 14169.019057016232, 15250.661456664973, 16103.35924493618, 16536.755084176577, 17213.414891624547, 18495.167545624878, 20045.08156207562, 21334.31376515351, 21217.033369153076, 17093.774314767143, 16153.71301267834, 16712.001008222713, 17279.12781215478, 17830.687282810028, 17649.990301919446, 18462.8377221575, 19116.40919858753, 20374.352363995655, 20937.67781718359, 20708.549237958407, 21963.383999832808, 22602.65698063177, 23243.583188213626, 23561.53935964882, 26171.54061977073, 26013.22644427622, 26783.480656619435, 28878.64436771916, 30564.284328706803, 30708.700024613187, 34210.090333873806, 35355.34120258273, 35522.95795184246, 35368.16207142901, 36598.427702793946, 37354.40685394322, 38085.31873575227, 39077.16562822193, 40324.37358948581, 40023.05175446762, 44450.8554677436, 44418.65546087176, 45000.51746333748, 41390.78309504983, 42167.26226347716, 42923.265837058025, 43718.544044750015, 44470.58974580509, 45240.41328427992, 48995.55193171088, 50331.8274605259, 51188.97615122266, 53897.14494172317, 51655.34901782589, 54846.97985330177, 56638.323414318016, 55911.34034359538, 57439.72828858494, 55615.93946816319, 61446.1721174759, 61766.63855591209, 63041.31675461942, 61963.38642755193, 64651.57070670117, 65467.34957590117, 64610.82038564077, 68134.23072374698, 67215.05770131723, 68128.46692426929, 69237.76098315642, 72110.38879932612, 73017.40567884967, 74406.54558068288, 75922.20398048434, 77572.37247310865, 76576.85587923371, 79121.83461766459, 79416.074037524, 79994.2098113995, 83541.12617219219, 82949.20452245224, 85622.4435344698, 85265.07286207977, 85902.28874725616, 90268.78832722921, 88304.73879938028, 84332.24276916632, 86355.46673327335, 87089.97649345318, 87861.5054205829, 91729.95945172923, 95989.20473773846, 93655.04211872359, 96755.75238221532, 93701.35551705532, 94201.35551705532, 98289.7959666507, 102622.15401862231, 105666.96361456867, 109808.16872749358, 114670.22644112134, 117326.40621109774, 122243.01414294765, 123068.2147365396, 128256.33423568287, 128803.94918414974, 134967.93882297317, 136439.11400912772, 142961.61076360167, 144786.57223253977, 146084.41447410826, 149256.56014577422, 153566.91836666077, 154115.98134936826, 148299.80662385738, 151918.91517718617, 160416.13777248206, 165915.58245555445, 179002.74822485715, 173895.5282204117, 186909.63995500724, 188889.1497625148, 180795.69381327947, 192794.8960599063, 205063.00094172233, 214022.54220710814, 232357.07439512847, 219796.01439594085, 231636.17200949468, 225039.08563741914, 235910.6406229587, 237597.65519171028, 242120.21665603324, 260070.15447765408, 272821.7739690221, 276805.47144589986, 272470.5167053989, 283357.5810419595, 281588.6916694553, 241260.41194899814, 256546.4785691186, 258228.89237053652, 259556.82482612226, 273144.7997608098, 286474.8189876496, 278008.30426209583, 287878.4158237119, 300162.35207203776, 293479.3056892614, 309345.49402378546, 301085.12908242404, 300087.7672284886, 291490.32311294746, 293129.08537308796, 294774.238806043, 296337.22606574476, 282770.2759491539, 277870.17805159773, 304889.0281405317, 306824.35657279217, 308738.048613027, 310784.2388560921, 312529.3758115165, 314531.9168154117, 316607.0763994887, 318724.3224891262, 321011.9786950653, 323151.6897864102, 325269.9482353422, 327529.1059558131, 306341.7517080568, 331570.87930673, 333365.9557360262, 334934.32679438154, 332895.0079565465, 312477.821872382, 313948.05312018644, 315328.50766892295, 316523.3303857946, 317562.27004745044, 314507.1028225456, 308908.07350867754, 320113.73538301256, 321030.5332390105, 322012.829038869, 322964.34699952346, 323884.85065062286, 324871.4279265988, 325826.9479256961, 326783.8056527921, 327742.00298070605, 328635.89338428294, 322137.6420754842, 317738.2308343557, 318524.6452421066, 319343.66988734866, 320163.513557236, 323647.53830925433, 330878.1056019309, 337781.9519910093, 333354.09867937525, 354058.2115971501, 357622.4610289396, 375073.4013077615, 384193.83478984097, 389992.867575318, 383234.0899681024, 379011.1598063152, 384664.4457922522, 385395.54445972753, 386204.2608952953, 388183.9440481339, 391267.14649362984, 399293.9666682092, 415969.2596882365, 427419.0609864278, 420526.5253379902, 429841.28550738585, 421090.42200144054, 415177.71259792306, 428844.1059482529, 430374.53180252865, 431865.5432256745, 433403.2205294161, 435204.9301910043, 436968.4744885582, 438649.6393696773, 440511.0032517233, 442422.23846212885, 444472.46629674634, 446485.3726821553, 454792.437779209, 442104.48096778936, 441321.7014104789, 446363.37242007535, 457417.9727456974, 467647.9800724399, 485438.066011643, 495080.07449239766, 500021.61199413665, 510538.2255852072, 500974.7129873784, 504948.4679467975, 529976.9867082664, 548921.9282095669, 538033.9260573239, 524006.17954430694, 532364.912762661, 535102.9453962642, 537316.8748215323, 515299.74375198514, 509392.0954986608, 481895.2808878626, 483408.3109777271, 484537.3917819982, 485861.95534802764, 487237.4068676541, 488615.33420001593, 487319.3570401058, 494874.7366629842, 496018.7238206461, 497263.5019063771, 498161.71270790213, 498811.3112217145, 499311.3112217145, 499811.3112217145, 500361.3423528366, 500961.5146213072, 501511.6607727693, 500475.8566701767, 541788.433603306, 561804.9389025811, 580349.6541170906, 572856.086263983, 607650.6047247978, 616071.2049892584, 598129.1474916402, 617137.8479057993, 652142.8970476397, 665637.8944588653, 612873.837326949, 578221.114485486, 622370.2670681083, 622932.5540948152, 623494.8973502247, 624057.2968399597, 624619.7525696437, 663989.0656096375, 683050.5220477452, 706902.6177423946, 704632.8547005679, 728988.1184649991, 721132.4476693838, 706361.5356856681, 695524.0791622254, 696024.0791622254, 696593.7315701416, 697093.7315701416, 697593.7315701416, 698093.7315701416, 698593.7315701416, 699093.7315701416, 719553.5572603744, 718437.5051376316, 675673.0401189905, 700499.4817259968, 700999.4817259968, 701499.4817259968, 716619.950481056, 707189.1926288005, 711651.9257985968, 713673.1676305826, 756253.9992908782, 766886.1067380864, 792541.8550353453, 811751.9933077168, 831156.8352676221, 816545.6253592696, 862577.4785416805, 837945.6259116362, 860539.3815746285, 904769.3262076572, 932684.6241118977, 951732.2520978648, 923966.454883266, 966627.9876621836, 970953.0023159462, 982649.9124099631, 1006105.4100311445, 1022954.4792164648, 1013504.3258881231, 1054434.7414605785, 1035364.3102622085, 1065689.0510614177, 1094788.5482659938, 1086647.483482698, 1060089.05338197, 1121401.261237783, 1121901.261237783, 1122401.261237783, 1122901.261237783, 1123401.261237783, 1152325.4249867015, 1083176.7236369415, 1051388.3573140085, 1146146.227392155, 1146646.227392155, 1147146.227392155, 1147760.9920148943, 1148375.8181140958, 1149105.5932777186, 1149835.514396374, 1150450.5479478138, 1148400.7081340312, 1196799.8577254165, 1198850.4434110231, 1194339.4305785343, 1178028.5666113633, 1178764.2723246855, 1179382.198751918, 1180236.1634115435, 1227525.5205193823, 1223816.1961645244, 1242208.6649448262, 1260028.6428891735, 1262842.7190252112, 1294650.9723831478, 1298951.4004398785, 1319767.2500547431, 1357465.76542714, 1399510.5832246004, 1409030.4976340833, 1496824.2719032804, 1441946.662692237, 1399621.65336058, 1411267.3659970853, 1413743.8403094814, 1416223.7816859148, 1475691.9912058169, 1524113.1865831113, 1526541.78694629, 1428523.9837194842, 1457985.386072567, 1319902.3407367773, 1433199.7420936383, 1479585.609437256, 1500741.2052847247, 1570217.6041318635, 1470747.6141880064, 1567094.3544468433, 1597673.8745362016, 1572745.2906674587, 1595371.854497614, 1637582.9931811802, 1697388.6805715375, 1740921.0141157417, 1748579.922816921, 1604932.4410966935, 1400650.8897545105, 1402832.270822216, 1403332.270822216, 1403972.6540492983, 1490566.1177190463, 1601433.1714564203, 1531556.581531554, 1497171.8104849923, 1661451.8045629817, 1662117.999743438, 1662784.2615434125]}, {\"line\": {\"color\": \"green\", \"dash\": \"solid\", \"shape\": \"linear\", \"width\": 1.3}, \"marker\": {\"size\": 2.75, \"symbol\": \"diamond\"}, \"mode\": \"lines+markers\", \"name\": \"Naive Portfolio\", \"text\": \"\", \"type\": \"scatter\", \"x\": [\"1985-02-28\", \"1985-03-31\", \"1985-04-30\", \"1985-05-31\", \"1985-06-30\", \"1985-07-31\", \"1985-08-31\", \"1985-09-30\", \"1985-10-31\", \"1985-11-30\", \"1985-12-31\", \"1986-01-31\", \"1986-02-28\", \"1986-03-31\", \"1986-04-30\", \"1986-05-31\", \"1986-06-30\", \"1986-07-31\", \"1986-08-31\", \"1986-09-30\", \"1986-10-31\", \"1986-11-30\", \"1986-12-31\", \"1987-01-31\", \"1987-02-28\", \"1987-03-31\", \"1987-04-30\", \"1987-05-31\", \"1987-06-30\", \"1987-07-31\", \"1987-08-31\", \"1987-09-30\", \"1987-10-31\", \"1987-11-30\", \"1987-12-31\", \"1988-01-31\", \"1988-02-29\", \"1988-03-31\", \"1988-04-30\", \"1988-05-31\", \"1988-06-30\", \"1988-07-31\", \"1988-08-31\", \"1988-09-30\", \"1988-10-31\", \"1988-11-30\", \"1988-12-31\", \"1989-01-31\", \"1989-02-28\", \"1989-03-31\", \"1989-04-30\", \"1989-05-31\", \"1989-06-30\", \"1989-07-31\", \"1989-08-31\", \"1989-09-30\", \"1989-10-31\", \"1989-11-30\", \"1989-12-31\", \"1990-01-31\", \"1990-02-28\", \"1990-03-31\", \"1990-04-30\", \"1990-05-31\", \"1990-06-30\", \"1990-07-31\", \"1990-08-31\", \"1990-09-30\", \"1990-10-31\", \"1990-11-30\", \"1990-12-31\", \"1991-01-31\", \"1991-02-28\", \"1991-03-31\", \"1991-04-30\", \"1991-05-31\", \"1991-06-30\", \"1991-07-31\", \"1991-08-31\", \"1991-09-30\", \"1991-10-31\", \"1991-11-30\", \"1991-12-31\", \"1992-01-31\", \"1992-02-29\", \"1992-03-31\", \"1992-04-30\", \"1992-05-31\", \"1992-06-30\", \"1992-07-31\", \"1992-08-31\", \"1992-09-30\", \"1992-10-31\", \"1992-11-30\", \"1992-12-31\", \"1993-01-31\", \"1993-02-28\", \"1993-03-31\", \"1993-04-30\", \"1993-05-31\", \"1993-06-30\", \"1993-07-31\", \"1993-08-31\", \"1993-09-30\", \"1993-10-31\", \"1993-11-30\", \"1993-12-31\", \"1994-01-31\", \"1994-02-28\", \"1994-03-31\", \"1994-04-30\", \"1994-05-31\", \"1994-06-30\", \"1994-07-31\", \"1994-08-31\", \"1994-09-30\", \"1994-10-31\", \"1994-11-30\", \"1994-12-31\", \"1995-01-31\", \"1995-02-28\", \"1995-03-31\", \"1995-04-30\", \"1995-05-31\", \"1995-06-30\", \"1995-07-31\", \"1995-08-31\", \"1995-09-30\", \"1995-10-31\", \"1995-11-30\", \"1995-12-31\", \"1996-01-31\", \"1996-02-29\", \"1996-03-31\", \"1996-04-30\", \"1996-05-31\", \"1996-06-30\", \"1996-07-31\", \"1996-08-31\", \"1996-09-30\", \"1996-10-31\", \"1996-11-30\", \"1996-12-31\", \"1997-01-31\", \"1997-02-28\", \"1997-03-31\", \"1997-04-30\", \"1997-05-31\", \"1997-06-30\", \"1997-07-31\", \"1997-08-31\", \"1997-09-30\", \"1997-10-31\", \"1997-11-30\", \"1997-12-31\", \"1998-01-31\", \"1998-02-28\", \"1998-03-31\", \"1998-04-30\", \"1998-05-31\", \"1998-06-30\", \"1998-07-31\", \"1998-08-31\", \"1998-09-30\", \"1998-10-31\", \"1998-11-30\", \"1998-12-31\", \"1999-01-31\", \"1999-02-28\", \"1999-03-31\", \"1999-04-30\", \"1999-05-31\", \"1999-06-30\", \"1999-07-31\", \"1999-08-31\", \"1999-09-30\", \"1999-10-31\", \"1999-11-30\", \"1999-12-31\", \"2000-01-31\", \"2000-02-29\", \"2000-03-31\", \"2000-04-30\", \"2000-05-31\", \"2000-06-30\", \"2000-07-31\", \"2000-08-31\", \"2000-09-30\", \"2000-10-31\", \"2000-11-30\", \"2000-12-31\", \"2001-01-31\", \"2001-02-28\", \"2001-03-31\", \"2001-04-30\", \"2001-05-31\", \"2001-06-30\", \"2001-07-31\", \"2001-08-31\", \"2001-09-30\", \"2001-10-31\", \"2001-11-30\", \"2001-12-31\", \"2002-01-31\", \"2002-02-28\", \"2002-03-31\", \"2002-04-30\", \"2002-05-31\", \"2002-06-30\", \"2002-07-31\", \"2002-08-31\", \"2002-09-30\", \"2002-10-31\", \"2002-11-30\", \"2002-12-31\", \"2003-01-31\", \"2003-02-28\", \"2003-03-31\", \"2003-04-30\", \"2003-05-31\", \"2003-06-30\", \"2003-07-31\", \"2003-08-31\", \"2003-09-30\", \"2003-10-31\", \"2003-11-30\", \"2003-12-31\", \"2004-01-31\", \"2004-02-29\", \"2004-03-31\", \"2004-04-30\", \"2004-05-31\", \"2004-06-30\", \"2004-07-31\", \"2004-08-31\", \"2004-09-30\", \"2004-10-31\", \"2004-11-30\", \"2004-12-31\", \"2005-01-31\", \"2005-02-28\", \"2005-03-31\", \"2005-04-30\", \"2005-05-31\", \"2005-06-30\", \"2005-07-31\", \"2005-08-31\", \"2005-09-30\", \"2005-10-31\", \"2005-11-30\", \"2005-12-31\", \"2006-01-31\", \"2006-02-28\", \"2006-03-31\", \"2006-04-30\", \"2006-05-31\", \"2006-06-30\", \"2006-07-31\", \"2006-08-31\", \"2006-09-30\", \"2006-10-31\", \"2006-11-30\", \"2006-12-31\", \"2007-01-31\", \"2007-02-28\", \"2007-03-31\", \"2007-04-30\", \"2007-05-31\", \"2007-06-30\", \"2007-07-31\", \"2007-08-31\", \"2007-09-30\", \"2007-10-31\", \"2007-11-30\", \"2007-12-31\", \"2008-01-31\", \"2008-02-29\", \"2008-03-31\", \"2008-04-30\", \"2008-05-31\", \"2008-06-30\", \"2008-07-31\", \"2008-08-31\", \"2008-09-30\", \"2008-10-31\", \"2008-11-30\", \"2008-12-31\", \"2009-01-31\", \"2009-02-28\", \"2009-03-31\", \"2009-04-30\", \"2009-05-31\", \"2009-06-30\", \"2009-07-31\", \"2009-08-31\", \"2009-09-30\", \"2009-10-31\", \"2009-11-30\", \"2009-12-31\", \"2010-01-31\", \"2010-02-28\", \"2010-03-31\", \"2010-04-30\", \"2010-05-31\", \"2010-06-30\", \"2010-07-31\", \"2010-08-31\", \"2010-09-30\", \"2010-10-31\", \"2010-11-30\", \"2010-12-31\", \"2011-01-31\", \"2011-02-28\", \"2011-03-31\", \"2011-04-30\", \"2011-05-31\", \"2011-06-30\", \"2011-07-31\", \"2011-08-31\", \"2011-09-30\", \"2011-10-31\", \"2011-11-30\", \"2011-12-31\", \"2012-01-31\", \"2012-02-29\", \"2012-03-31\", \"2012-04-30\", \"2012-05-31\", \"2012-06-30\", \"2012-07-31\", \"2012-08-31\", \"2012-09-30\", \"2012-10-31\", \"2012-11-30\", \"2012-12-31\", \"2013-01-31\", \"2013-02-28\", \"2013-03-31\", \"2013-04-30\", \"2013-05-31\", \"2013-06-30\", \"2013-07-31\", \"2013-08-31\", \"2013-09-30\", \"2013-10-31\", \"2013-11-30\", \"2013-12-31\", \"2014-01-31\", \"2014-02-28\", \"2014-03-31\", \"2014-04-30\", \"2014-05-31\", \"2014-06-30\", \"2014-07-31\", \"2014-08-31\", \"2014-09-30\", \"2014-10-31\", \"2014-11-30\", \"2014-12-31\", \"2015-01-31\", \"2015-02-28\", \"2015-03-31\", \"2015-04-30\", \"2015-05-31\", \"2015-06-30\", \"2015-07-31\", \"2015-08-31\", \"2015-09-30\", \"2015-10-31\", \"2015-11-30\", \"2015-12-31\", \"2016-01-31\", \"2016-02-29\", \"2016-03-31\", \"2016-04-30\", \"2016-05-31\", \"2016-06-30\", \"2016-07-31\", \"2016-08-31\", \"2016-09-30\", \"2016-10-31\", \"2016-11-30\", \"2016-12-31\", \"2017-01-31\", \"2017-02-28\", \"2017-03-31\", \"2017-04-30\", \"2017-05-31\", \"2017-06-30\", \"2017-07-31\", \"2017-08-31\", \"2017-09-30\", \"2017-10-31\", \"2017-11-30\", \"2017-12-31\", \"2018-01-31\", \"2018-02-28\", \"2018-03-31\", \"2018-04-30\", \"2018-05-31\", \"2018-06-30\", \"2018-07-31\", \"2018-08-31\", \"2018-09-30\", \"2018-10-31\", \"2018-11-30\", \"2018-12-31\", \"2019-01-31\", \"2019-02-28\", \"2019-03-31\", \"2019-04-30\", \"2019-05-31\", \"2019-06-30\", \"2019-07-31\", \"2019-08-31\", \"2019-09-30\", \"2019-10-31\", \"2019-11-30\", \"2019-12-31\", \"2020-01-31\", \"2020-02-29\", \"2020-03-31\", \"2020-04-30\", \"2020-05-31\", \"2020-06-30\", \"2020-07-31\", \"2020-08-31\", \"2020-09-30\", \"2020-10-31\", \"2020-11-30\", \"2020-12-31\", \"2021-01-31\"], \"y\": [1006.9048067077746, 1498.3915503234296, 2006.9517867244203, 2628.036676982416, 3144.519848552986, 3662.731522995567, 4138.214069730175, 4474.619639443374, 5210.8660526318, 6072.730965744544, 6348.855393896652, 6974.040900286572, 8002.607959500312, 8882.76041323531, 9324.327441480362, 10332.855611590323, 10935.915641317311, 10876.39415009155, 12186.738751495368, 11595.253582281523, 12836.389964288313, 13664.172293916025, 12643.146754016681, 15022.428572601715, 16118.084040057163, 16979.009364224552, 17410.898287872427, 18091.437711244693, 19389.873785371452, 20961.60427764401, 22266.83705679393, 22137.32874506347, 17924.594559836034, 16957.45541621374, 18501.773575977102, 19748.58987703775, 21309.929082799106, 21018.600085372113, 21880.89310615839, 22558.096598017313, 23929.701333012064, 24502.295641814602, 24168.934670471353, 25529.132689772527, 26904.160866426697, 27007.368753520415, 27300.30123686215, 30194.31556614019, 29949.051307134087, 30754.327516668494, 33052.418743784816, 34886.32196884267, 34986.98785290383, 38851.742110822524, 40073.98512738414, 40202.4945488536, 39971.726469005036, 41285.5395104568, 41252.49732730691, 39733.14339342597, 40739.62160188509, 42008.77646976425, 41684.206564880515, 46224.55827191724, 46177.278137335255, 46761.43391666465, 43037.810037385105, 41179.19616104619, 41760.53116424976, 44949.21421900721, 45680.63966343979, 49127.23649837553, 53123.400058889376, 54520.9716131574, 55404.04054063745, 58270.91801237407, 55833.87112031307, 59215.34295400852, 61096.94231208923, 60284.952225396104, 61883.956747452416, 59901.976746839864, 66091.83020452854, 66400.28161869523, 67726.38772866037, 66544.5289539598, 69375.6816571411, 70211.93409228644, 69268.12077080019, 72984.57467507034, 71975.44813077687, 72914.86759069402, 74062.21697235186, 77081.97203242955, 78014.05433143594, 79457.57794967781, 81034.94383068141, 82754.5349225509, 81669.32909013296, 84336.1538738646, 84618.21044124667, 85200.94360145777, 88926.02214589603, 88270.63247861089, 91069.43428524007, 90662.81507074852, 91307.86687339224, 95893.89091318272, 93790.71309200935, 89567.1071488333, 91675.34901008035, 93645.5932590801, 91384.90594686383, 95368.61588771934, 99755.79118130462, 97325.67961944896, 100513.96787456381, 97340.49331324342, 97840.49331324342, 102047.88252532684, 106506.63171046143, 109634.96216949898, 113895.10912308605, 118899.00983167432, 121624.99867958498, 126683.99314570744, 127519.6351376957, 132857.66965399342, 133406.80130356667, 139750.51098992635, 141252.38811085303, 147964.57996790422, 149831.12929201667, 151153.92800090043, 154409.37315454776, 158838.1160677708, 159388.69844992357, 153377.55477709268, 157092.62107219352, 165835.06694797185, 171487.33604414057, 184958.11374580325, 179680.481672556, 193073.8261700965, 195098.0520288103, 186745.55695190892, 199090.43248580137, 211711.37896817978, 220923.94464647904, 239790.66341348932, 226840.69522925402, 239017.75277440075, 232210.27621348834, 243388.61004262906, 245110.6608996781, 249751.70419653837, 268214.55893774924, 281325.60690960055, 285411.3194298301, 280935.0353173145, 292125.16523117694, 290290.19260017975, 248774.86361466523, 264489.9340935897, 287380.3376358792, 305328.8109659118, 321195.2057045681, 336754.6574769403, 326732.77403846435, 338225.345881836, 352546.16496794944, 344623.57584901655, 363136.92123942496, 353369.83001138346, 352115.3585445689, 341958.40524896805, 365167.9692538184, 373055.22158777574, 393078.24834332184, 374950.49001041736, 368302.6544459251, 403888.89446261805, 393085.20069665933, 385572.6899902451, 394742.31739914714, 390257.4083657572, 414914.33101283415, 392529.24520655104, 392277.15411769884, 361875.26192769787, 363089.2878352674, 377643.5454108549, 343635.43471676117, 321416.2818444303, 347820.00649004, 350580.52759509545, 341662.69907828694, 339576.2299585451, 318771.2343158758, 292430.7785895152, 299522.42585339415, 322947.2378685626, 325102.5771662325, 321968.71632853855, 316234.89930841106, 327676.7725002406, 309110.35263601044, 307278.45738598256, 284920.3580318739, 264276.4925556126, 266501.16442043294, 236936.16355934812, 259388.85453180855, 275857.088914181, 258074.69967115566, 253087.3868588978, 249744.13044223265, 251688.19984083052, 273981.00691776106, 288902.8717788543, 292091.33892235236, 298656.294474627, 304927.79536927067, 300985.82192854845, 319700.8193089875, 322963.8156855128, 338750.5986931365, 347025.8484655661, 352306.0169583407, 346257.0854947173, 342495.41556345974, 347646.0741268906, 353674.23215534113, 343600.55778949667, 345415.3091591608, 348210.9472604897, 355400.9446385426, 370280.1371687136, 380515.5349978345, 374441.9211682205, 382781.3695968343, 375052.8813666518, 369848.0431785868, 382062.80360176414, 381590.9607734055, 397736.37615225, 394604.2527167712, 396363.215273304, 392056.7729105546, 407316.134684707, 405805.6925900491, 419201.6849558623, 420767.73037763, 424754.5455596257, 432673.32610619074, 420640.55230047065, 419921.4297550166, 424737.9786654441, 435269.99266481964, 445018.7674887155, 461954.6233760943, 471145.428604197, 475867.97546922544, 485891.21186185523, 476822.90153409715, 480625.8914477887, 504449.8145442689, 522489.77867607377, 512160.00574822933, 498843.73461357923, 506817.9646243324, 523881.91995627317, 535012.219654827, 513112.512918636, 507238.2474464475, 479887.1485519331, 464783.85267251584, 460972.1434018662, 486236.6425061461, 492982.7043940614, 449716.21440731804, 448564.90643751615, 455552.5450577225, 413126.0049165037, 346252.7660961218, 321909.5356266557, 323030.6350962438, 298950.68720849993, 267591.4942853189, 289541.223897681, 319954.7034955298, 338428.82878617535, 337893.4735856899, 365920.3557743404, 379589.52207045705, 392270.7859191103, 387372.4128258138, 411042.5695244709, 416896.01957382733, 404926.38054220466, 417946.0867720957, 441795.12587584986, 451091.8607258266, 415522.7782711179, 392208.9861430826, 422290.74746460497, 403661.81937860424, 437928.80648418475, 457322.0793814358, 457822.0793814358, 486788.99255598855, 500886.6770740756, 518498.4387331381, 516968.3108019875, 534957.8027889561, 529330.3125989089, 518628.82541507034, 510810.46112008305, 483489.5059701122, 447557.25024985493, 499463.0816628793, 498796.1700096986, 501545.99228345125, 527418.4000126799, 550633.3525484526, 566843.2499362249, 566071.0553500232, 532505.839392806, 552163.6162321479, 563010.4972436352, 576118.2584094519, 588617.0122768831, 580965.7775877372, 584718.9180642952, 586467.9477248067, 621524.075147298, 630345.601979426, 651509.014001675, 667379.9854835325, 683412.989103987, 671495.370809391, 709416.082318516, 689258.6779979474, 707921.2306425822, 744374.7037159419, 767417.4472553071, 783170.3489361274, 760422.9382138533, 795603.0463627125, 799249.6757124347, 808961.7804053942, 828350.1716785036, 842304.0575125016, 834615.0713958449, 868392.8724052379, 852783.0389770279, 877836.4798509716, 901883.6002482215, 895268.3659758695, 873485.6887216782, 924069.736913801, 905493.5413556732, 919020.470835511, 931215.9923906003, 909697.507166614, 933204.3244000154, 877324.1753508296, 851684.124780561, 928502.0448554397, 931661.2003515201, 912184.1798189715, 872086.9403044239, 871320.7654557755, 926144.4632800882, 934858.6139259432, 952026.5089957506, 950417.3696406826, 990541.4933272346, 992324.312706726, 988678.2769152005, 975268.0094807965, 1011843.519981626, 1026045.8332538944, 1052127.4532164217, 1094320.3975480893, 1091069.3765599679, 1107514.5423744852, 1123450.2820519113, 1126012.7099883067, 1154417.6408338118, 1158305.1078434198, 1176914.2517260695, 1210573.7979338618, 1248109.3912794148, 1256650.6446941441, 1334976.4014956472, 1286103.1275460974, 1248419.8242301631, 1258857.909665231, 1289502.1311824697, 1292111.9735666108, 1346393.4732247721, 1390601.0567027282, 1392860.1348260152, 1303499.1226007629, 1330416.5676448073, 1204502.425089777, 1307898.897843947, 1350258.4822208628, 1369602.2526896365, 1433030.3357391176, 1342323.5982095783, 1430271.3806359973, 1458215.901984925, 1435514.192863557, 1456203.6678334863, 1494764.3134732589, 1549381.2449511637, 1589149.7148354377, 1596182.642616138, 1465135.9332307272, 1278749.9568085684, 1448964.869210687, 1518375.9965345, 1541387.2463071637, 1636373.5052658953, 1757996.0500302892, 1681263.2607310745, 1643481.0689200072, 1823706.2382465508, 1886961.2981487757, 1875345.0260227018]}],                        {\"legend\": {\"bgcolor\": \"#F5F6F9\", \"font\": {\"color\": \"#4D5663\"}}, \"paper_bgcolor\": \"#F5F6F9\", \"plot_bgcolor\": \"#F5F6F9\", \"template\": {\"data\": {\"bar\": [{\"error_x\": {\"color\": \"#2a3f5f\"}, \"error_y\": {\"color\": \"#2a3f5f\"}, \"marker\": {\"line\": {\"color\": \"#E5ECF6\", \"width\": 0.5}}, \"type\": \"bar\"}], \"barpolar\": [{\"marker\": {\"line\": {\"color\": \"#E5ECF6\", \"width\": 0.5}}, \"type\": \"barpolar\"}], \"carpet\": [{\"aaxis\": {\"endlinecolor\": \"#2a3f5f\", \"gridcolor\": \"white\", \"linecolor\": \"white\", \"minorgridcolor\": \"white\", \"startlinecolor\": \"#2a3f5f\"}, \"baxis\": {\"endlinecolor\": \"#2a3f5f\", \"gridcolor\": \"white\", \"linecolor\": \"white\", \"minorgridcolor\": \"white\", \"startlinecolor\": \"#2a3f5f\"}, \"type\": \"carpet\"}], \"choropleth\": [{\"colorbar\": {\"outlinewidth\": 0, \"ticks\": \"\"}, \"type\": \"choropleth\"}], \"contour\": [{\"colorbar\": {\"outlinewidth\": 0, \"ticks\": \"\"}, \"colorscale\": [[0.0, \"#0d0887\"], [0.1111111111111111, \"#46039f\"], [0.2222222222222222, \"#7201a8\"], [0.3333333333333333, \"#9c179e\"], [0.4444444444444444, \"#bd3786\"], [0.5555555555555556, \"#d8576b\"], [0.6666666666666666, \"#ed7953\"], [0.7777777777777778, \"#fb9f3a\"], [0.8888888888888888, \"#fdca26\"], [1.0, \"#f0f921\"]], \"type\": \"contour\"}], \"contourcarpet\": [{\"colorbar\": {\"outlinewidth\": 0, \"ticks\": \"\"}, \"type\": \"contourcarpet\"}], \"heatmap\": [{\"colorbar\": {\"outlinewidth\": 0, \"ticks\": \"\"}, \"colorscale\": [[0.0, \"#0d0887\"], [0.1111111111111111, \"#46039f\"], [0.2222222222222222, \"#7201a8\"], [0.3333333333333333, \"#9c179e\"], [0.4444444444444444, \"#bd3786\"], [0.5555555555555556, \"#d8576b\"], [0.6666666666666666, \"#ed7953\"], [0.7777777777777778, \"#fb9f3a\"], [0.8888888888888888, \"#fdca26\"], [1.0, \"#f0f921\"]], \"type\": \"heatmap\"}], \"heatmapgl\": [{\"colorbar\": {\"outlinewidth\": 0, \"ticks\": \"\"}, \"colorscale\": [[0.0, \"#0d0887\"], [0.1111111111111111, \"#46039f\"], [0.2222222222222222, \"#7201a8\"], [0.3333333333333333, \"#9c179e\"], [0.4444444444444444, \"#bd3786\"], [0.5555555555555556, \"#d8576b\"], [0.6666666666666666, \"#ed7953\"], [0.7777777777777778, \"#fb9f3a\"], [0.8888888888888888, \"#fdca26\"], [1.0, \"#f0f921\"]], \"type\": \"heatmapgl\"}], \"histogram\": [{\"marker\": {\"colorbar\": {\"outlinewidth\": 0, \"ticks\": \"\"}}, \"type\": \"histogram\"}], \"histogram2d\": [{\"colorbar\": {\"outlinewidth\": 0, \"ticks\": \"\"}, \"colorscale\": [[0.0, \"#0d0887\"], [0.1111111111111111, \"#46039f\"], [0.2222222222222222, \"#7201a8\"], [0.3333333333333333, \"#9c179e\"], [0.4444444444444444, \"#bd3786\"], [0.5555555555555556, \"#d8576b\"], [0.6666666666666666, \"#ed7953\"], [0.7777777777777778, \"#fb9f3a\"], [0.8888888888888888, \"#fdca26\"], [1.0, \"#f0f921\"]], \"type\": \"histogram2d\"}], \"histogram2dcontour\": [{\"colorbar\": {\"outlinewidth\": 0, \"ticks\": \"\"}, \"colorscale\": [[0.0, \"#0d0887\"], [0.1111111111111111, \"#46039f\"], [0.2222222222222222, \"#7201a8\"], [0.3333333333333333, \"#9c179e\"], [0.4444444444444444, \"#bd3786\"], [0.5555555555555556, \"#d8576b\"], [0.6666666666666666, \"#ed7953\"], [0.7777777777777778, \"#fb9f3a\"], [0.8888888888888888, \"#fdca26\"], [1.0, \"#f0f921\"]], \"type\": \"histogram2dcontour\"}], \"mesh3d\": [{\"colorbar\": {\"outlinewidth\": 0, \"ticks\": \"\"}, \"type\": \"mesh3d\"}], \"parcoords\": [{\"line\": {\"colorbar\": {\"outlinewidth\": 0, \"ticks\": \"\"}}, \"type\": \"parcoords\"}], \"pie\": [{\"automargin\": true, \"type\": \"pie\"}], \"scatter\": [{\"marker\": {\"colorbar\": {\"outlinewidth\": 0, \"ticks\": \"\"}}, \"type\": \"scatter\"}], \"scatter3d\": [{\"line\": {\"colorbar\": {\"outlinewidth\": 0, \"ticks\": \"\"}}, \"marker\": {\"colorbar\": {\"outlinewidth\": 0, \"ticks\": \"\"}}, \"type\": \"scatter3d\"}], \"scattercarpet\": [{\"marker\": {\"colorbar\": {\"outlinewidth\": 0, \"ticks\": \"\"}}, \"type\": \"scattercarpet\"}], \"scattergeo\": [{\"marker\": {\"colorbar\": {\"outlinewidth\": 0, \"ticks\": \"\"}}, \"type\": \"scattergeo\"}], \"scattergl\": [{\"marker\": {\"colorbar\": {\"outlinewidth\": 0, \"ticks\": \"\"}}, \"type\": \"scattergl\"}], \"scattermapbox\": [{\"marker\": {\"colorbar\": {\"outlinewidth\": 0, \"ticks\": \"\"}}, \"type\": \"scattermapbox\"}], \"scatterpolar\": [{\"marker\": {\"colorbar\": {\"outlinewidth\": 0, \"ticks\": \"\"}}, \"type\": \"scatterpolar\"}], \"scatterpolargl\": [{\"marker\": {\"colorbar\": {\"outlinewidth\": 0, \"ticks\": \"\"}}, \"type\": \"scatterpolargl\"}], \"scatterternary\": [{\"marker\": {\"colorbar\": {\"outlinewidth\": 0, \"ticks\": \"\"}}, \"type\": \"scatterternary\"}], \"surface\": [{\"colorbar\": {\"outlinewidth\": 0, \"ticks\": \"\"}, \"colorscale\": [[0.0, \"#0d0887\"], [0.1111111111111111, \"#46039f\"], [0.2222222222222222, \"#7201a8\"], [0.3333333333333333, \"#9c179e\"], [0.4444444444444444, \"#bd3786\"], [0.5555555555555556, \"#d8576b\"], [0.6666666666666666, \"#ed7953\"], [0.7777777777777778, \"#fb9f3a\"], [0.8888888888888888, \"#fdca26\"], [1.0, \"#f0f921\"]], \"type\": \"surface\"}], \"table\": [{\"cells\": {\"fill\": {\"color\": \"#EBF0F8\"}, \"line\": {\"color\": \"white\"}}, \"header\": {\"fill\": {\"color\": \"#C8D4E3\"}, \"line\": {\"color\": \"white\"}}, \"type\": \"table\"}]}, \"layout\": {\"annotationdefaults\": {\"arrowcolor\": \"#2a3f5f\", \"arrowhead\": 0, \"arrowwidth\": 1}, \"autotypenumbers\": \"strict\", \"coloraxis\": {\"colorbar\": {\"outlinewidth\": 0, \"ticks\": \"\"}}, \"colorscale\": {\"diverging\": [[0, \"#8e0152\"], [0.1, \"#c51b7d\"], [0.2, \"#de77ae\"], [0.3, \"#f1b6da\"], [0.4, \"#fde0ef\"], [0.5, \"#f7f7f7\"], [0.6, \"#e6f5d0\"], [0.7, \"#b8e186\"], [0.8, \"#7fbc41\"], [0.9, \"#4d9221\"], [1, \"#276419\"]], \"sequential\": [[0.0, \"#0d0887\"], [0.1111111111111111, \"#46039f\"], [0.2222222222222222, \"#7201a8\"], [0.3333333333333333, \"#9c179e\"], [0.4444444444444444, \"#bd3786\"], [0.5555555555555556, \"#d8576b\"], [0.6666666666666666, \"#ed7953\"], [0.7777777777777778, \"#fb9f3a\"], [0.8888888888888888, \"#fdca26\"], [1.0, \"#f0f921\"]], \"sequentialminus\": [[0.0, \"#0d0887\"], [0.1111111111111111, \"#46039f\"], [0.2222222222222222, \"#7201a8\"], [0.3333333333333333, \"#9c179e\"], [0.4444444444444444, \"#bd3786\"], [0.5555555555555556, \"#d8576b\"], [0.6666666666666666, \"#ed7953\"], [0.7777777777777778, \"#fb9f3a\"], [0.8888888888888888, \"#fdca26\"], [1.0, \"#f0f921\"]]}, \"colorway\": [\"#636efa\", \"#EF553B\", \"#00cc96\", \"#ab63fa\", \"#FFA15A\", \"#19d3f3\", \"#FF6692\", \"#B6E880\", \"#FF97FF\", \"#FECB52\"], \"font\": {\"color\": \"#2a3f5f\"}, \"geo\": {\"bgcolor\": \"white\", \"lakecolor\": \"white\", \"landcolor\": \"#E5ECF6\", \"showlakes\": true, \"showland\": true, \"subunitcolor\": \"white\"}, \"hoverlabel\": {\"align\": \"left\"}, \"hovermode\": \"closest\", \"mapbox\": {\"style\": \"light\"}, \"paper_bgcolor\": \"white\", \"plot_bgcolor\": \"#E5ECF6\", \"polar\": {\"angularaxis\": {\"gridcolor\": \"white\", \"linecolor\": \"white\", \"ticks\": \"\"}, \"bgcolor\": \"#E5ECF6\", \"radialaxis\": {\"gridcolor\": \"white\", \"linecolor\": \"white\", \"ticks\": \"\"}}, \"scene\": {\"xaxis\": {\"backgroundcolor\": \"#E5ECF6\", \"gridcolor\": \"white\", \"gridwidth\": 2, \"linecolor\": \"white\", \"showbackground\": true, \"ticks\": \"\", \"zerolinecolor\": \"white\"}, \"yaxis\": {\"backgroundcolor\": \"#E5ECF6\", \"gridcolor\": \"white\", \"gridwidth\": 2, \"linecolor\": \"white\", \"showbackground\": true, \"ticks\": \"\", \"zerolinecolor\": \"white\"}, \"zaxis\": {\"backgroundcolor\": \"#E5ECF6\", \"gridcolor\": \"white\", \"gridwidth\": 2, \"linecolor\": \"white\", \"showbackground\": true, \"ticks\": \"\", \"zerolinecolor\": \"white\"}}, \"shapedefaults\": {\"line\": {\"color\": \"#2a3f5f\"}}, \"ternary\": {\"aaxis\": {\"gridcolor\": \"white\", \"linecolor\": \"white\", \"ticks\": \"\"}, \"baxis\": {\"gridcolor\": \"white\", \"linecolor\": \"white\", \"ticks\": \"\"}, \"bgcolor\": \"#E5ECF6\", \"caxis\": {\"gridcolor\": \"white\", \"linecolor\": \"white\", \"ticks\": \"\"}}, \"title\": {\"x\": 0.05}, \"xaxis\": {\"automargin\": true, \"gridcolor\": \"white\", \"linecolor\": \"white\", \"ticks\": \"\", \"title\": {\"standoff\": 15}, \"zerolinecolor\": \"white\", \"zerolinewidth\": 2}, \"yaxis\": {\"automargin\": true, \"gridcolor\": \"white\", \"linecolor\": \"white\", \"ticks\": \"\", \"title\": {\"standoff\": 15}, \"zerolinecolor\": \"white\", \"zerolinewidth\": 2}}}, \"title\": {\"font\": {\"color\": \"#4D5663\"}, \"text\": \"Investment Value Comparison\"}, \"xaxis\": {\"gridcolor\": \"#E1E5ED\", \"showgrid\": true, \"tickfont\": {\"color\": \"#4D5663\"}, \"title\": {\"font\": {\"color\": \"#4D5663\"}, \"text\": \"Date\"}, \"zerolinecolor\": \"#E1E5ED\"}, \"yaxis\": {\"gridcolor\": \"#E1E5ED\", \"showgrid\": true, \"tickfont\": {\"color\": \"#4D5663\"}, \"title\": {\"font\": {\"color\": \"#4D5663\"}, \"text\": \"Investment Value\"}, \"zerolinecolor\": \"#E1E5ED\"}},                        {\"responsive\": true}                    ).then(function(){\n",
       "                            \n",
       "var gd = document.getElementById('7fff7b65-d4d3-41e1-b83b-923a98d40f9a');\n",
       "var x = new MutationObserver(function (mutations, observer) {{\n",
       "        var display = window.getComputedStyle(gd).display;\n",
       "        if (!display || display === 'none') {{\n",
       "            console.log([gd, 'removed!']);\n",
       "            Plotly.purge(gd);\n",
       "            observer.disconnect();\n",
       "        }}\n",
       "}});\n",
       "\n",
       "// Listen for the removal of the full notebook cells\n",
       "var notebookContainer = gd.closest('#notebook-container');\n",
       "if (notebookContainer) {{\n",
       "    x.observe(notebookContainer, {childList: true});\n",
       "}}\n",
       "\n",
       "// Listen for the clearing of the current output cell\n",
       "var outputEl = gd.closest('.output');\n",
       "if (outputEl) {{\n",
       "    x.observe(outputEl, {childList: true});\n",
       "}}\n",
       "\n",
       "                        })                };                });            </script>        </div>"
      ]
     },
     "metadata": {},
     "output_type": "display_data"
    }
   ],
   "source": [
    "finalinvest = pd.merge(louise_invest,naive_invest,on = 'Date',how = 'inner')\n",
    "plyo.iplot(  \n",
    "    finalinvest[['Louise Portfolio','Naive Portfolio']].iplot(asFigure=True,\n",
    "                                                 title='Investment Value Comparison',  \n",
    "             xTitle='Date',  \n",
    "             yTitle='Investment Value',\n",
    "                                                 mode={'Louise Portfolio': 'lines+markers', 'Naive Portfolio': 'lines+markers'},  \n",
    "             symbol={'Louise Portfolio': 'circle', 'Naive Portfolio': 'diamond'},  \n",
    "             size=2.75,  \n",
    "             colors={'Louise Portfolio': 'red', 'Naive Portfolio': 'green'}, ),)\n"
   ]
  },
  {
   "cell_type": "markdown",
   "metadata": {},
   "source": [
    "The figure below shows which strategy Louise was following in a given point of time. She clearly changed her strategy to risk-free debt in 2008 and a few times since the pandemic started."
   ]
  },
  {
   "cell_type": "code",
   "execution_count": 18,
   "metadata": {},
   "outputs": [
    {
     "data": {
      "application/vnd.plotly.v1+json": {
       "config": {
        "linkText": "Export to plot.ly",
        "plotlyServerURL": "https://plot.ly",
        "showLink": false
       },
       "data": [
        {
         "line": {
          "color": "orange",
          "dash": "solid",
          "shape": "linear",
          "width": 1.3
         },
         "marker": {
          "size": 4.5,
          "symbol": "diamond"
         },
         "mode": "markers",
         "name": "Indicator",
         "text": "",
         "type": "scatter",
         "x": [
          "1985-02-28",
          "1985-03-31",
          "1985-04-30",
          "1985-05-31",
          "1985-06-30",
          "1985-07-31",
          "1985-08-31",
          "1985-09-30",
          "1985-10-31",
          "1985-11-30",
          "1985-12-31",
          "1986-01-31",
          "1986-02-28",
          "1986-03-31",
          "1986-04-30",
          "1986-05-31",
          "1986-06-30",
          "1986-07-31",
          "1986-08-31",
          "1986-09-30",
          "1986-10-31",
          "1986-11-30",
          "1986-12-31",
          "1987-01-31",
          "1987-02-28",
          "1987-03-31",
          "1987-04-30",
          "1987-05-31",
          "1987-06-30",
          "1987-07-31",
          "1987-08-31",
          "1987-09-30",
          "1987-10-31",
          "1987-11-30",
          "1987-12-31",
          "1988-01-31",
          "1988-02-29",
          "1988-03-31",
          "1988-04-30",
          "1988-05-31",
          "1988-06-30",
          "1988-07-31",
          "1988-08-31",
          "1988-09-30",
          "1988-10-31",
          "1988-11-30",
          "1988-12-31",
          "1989-01-31",
          "1989-02-28",
          "1989-03-31",
          "1989-04-30",
          "1989-05-31",
          "1989-06-30",
          "1989-07-31",
          "1989-08-31",
          "1989-09-30",
          "1989-10-31",
          "1989-11-30",
          "1989-12-31",
          "1990-01-31",
          "1990-02-28",
          "1990-03-31",
          "1990-04-30",
          "1990-05-31",
          "1990-06-30",
          "1990-07-31",
          "1990-08-31",
          "1990-09-30",
          "1990-10-31",
          "1990-11-30",
          "1990-12-31",
          "1991-01-31",
          "1991-02-28",
          "1991-03-31",
          "1991-04-30",
          "1991-05-31",
          "1991-06-30",
          "1991-07-31",
          "1991-08-31",
          "1991-09-30",
          "1991-10-31",
          "1991-11-30",
          "1991-12-31",
          "1992-01-31",
          "1992-02-29",
          "1992-03-31",
          "1992-04-30",
          "1992-05-31",
          "1992-06-30",
          "1992-07-31",
          "1992-08-31",
          "1992-09-30",
          "1992-10-31",
          "1992-11-30",
          "1992-12-31",
          "1993-01-31",
          "1993-02-28",
          "1993-03-31",
          "1993-04-30",
          "1993-05-31",
          "1993-06-30",
          "1993-07-31",
          "1993-08-31",
          "1993-09-30",
          "1993-10-31",
          "1993-11-30",
          "1993-12-31",
          "1994-01-31",
          "1994-02-28",
          "1994-03-31",
          "1994-04-30",
          "1994-05-31",
          "1994-06-30",
          "1994-07-31",
          "1994-08-31",
          "1994-09-30",
          "1994-10-31",
          "1994-11-30",
          "1994-12-31",
          "1995-01-31",
          "1995-02-28",
          "1995-03-31",
          "1995-04-30",
          "1995-05-31",
          "1995-06-30",
          "1995-07-31",
          "1995-08-31",
          "1995-09-30",
          "1995-10-31",
          "1995-11-30",
          "1995-12-31",
          "1996-01-31",
          "1996-02-29",
          "1996-03-31",
          "1996-04-30",
          "1996-05-31",
          "1996-06-30",
          "1996-07-31",
          "1996-08-31",
          "1996-09-30",
          "1996-10-31",
          "1996-11-30",
          "1996-12-31",
          "1997-01-31",
          "1997-02-28",
          "1997-03-31",
          "1997-04-30",
          "1997-05-31",
          "1997-06-30",
          "1997-07-31",
          "1997-08-31",
          "1997-09-30",
          "1997-10-31",
          "1997-11-30",
          "1997-12-31",
          "1998-01-31",
          "1998-02-28",
          "1998-03-31",
          "1998-04-30",
          "1998-05-31",
          "1998-06-30",
          "1998-07-31",
          "1998-08-31",
          "1998-09-30",
          "1998-10-31",
          "1998-11-30",
          "1998-12-31",
          "1999-01-31",
          "1999-02-28",
          "1999-03-31",
          "1999-04-30",
          "1999-05-31",
          "1999-06-30",
          "1999-07-31",
          "1999-08-31",
          "1999-09-30",
          "1999-10-31",
          "1999-11-30",
          "1999-12-31",
          "2000-01-31",
          "2000-02-29",
          "2000-03-31",
          "2000-04-30",
          "2000-05-31",
          "2000-06-30",
          "2000-07-31",
          "2000-08-31",
          "2000-09-30",
          "2000-10-31",
          "2000-11-30",
          "2000-12-31",
          "2001-01-31",
          "2001-02-28",
          "2001-03-31",
          "2001-04-30",
          "2001-05-31",
          "2001-06-30",
          "2001-07-31",
          "2001-08-31",
          "2001-09-30",
          "2001-10-31",
          "2001-11-30",
          "2001-12-31",
          "2002-01-31",
          "2002-02-28",
          "2002-03-31",
          "2002-04-30",
          "2002-05-31",
          "2002-06-30",
          "2002-07-31",
          "2002-08-31",
          "2002-09-30",
          "2002-10-31",
          "2002-11-30",
          "2002-12-31",
          "2003-01-31",
          "2003-02-28",
          "2003-03-31",
          "2003-04-30",
          "2003-05-31",
          "2003-06-30",
          "2003-07-31",
          "2003-08-31",
          "2003-09-30",
          "2003-10-31",
          "2003-11-30",
          "2003-12-31",
          "2004-01-31",
          "2004-02-29",
          "2004-03-31",
          "2004-04-30",
          "2004-05-31",
          "2004-06-30",
          "2004-07-31",
          "2004-08-31",
          "2004-09-30",
          "2004-10-31",
          "2004-11-30",
          "2004-12-31",
          "2005-01-31",
          "2005-02-28",
          "2005-03-31",
          "2005-04-30",
          "2005-05-31",
          "2005-06-30",
          "2005-07-31",
          "2005-08-31",
          "2005-09-30",
          "2005-10-31",
          "2005-11-30",
          "2005-12-31",
          "2006-01-31",
          "2006-02-28",
          "2006-03-31",
          "2006-04-30",
          "2006-05-31",
          "2006-06-30",
          "2006-07-31",
          "2006-08-31",
          "2006-09-30",
          "2006-10-31",
          "2006-11-30",
          "2006-12-31",
          "2007-01-31",
          "2007-02-28",
          "2007-03-31",
          "2007-04-30",
          "2007-05-31",
          "2007-06-30",
          "2007-07-31",
          "2007-08-31",
          "2007-09-30",
          "2007-10-31",
          "2007-11-30",
          "2007-12-31",
          "2008-01-31",
          "2008-02-29",
          "2008-03-31",
          "2008-04-30",
          "2008-05-31",
          "2008-06-30",
          "2008-07-31",
          "2008-08-31",
          "2008-09-30",
          "2008-10-31",
          "2008-11-30",
          "2008-12-31",
          "2009-01-31",
          "2009-02-28",
          "2009-03-31",
          "2009-04-30",
          "2009-05-31",
          "2009-06-30",
          "2009-07-31",
          "2009-08-31",
          "2009-09-30",
          "2009-10-31",
          "2009-11-30",
          "2009-12-31",
          "2010-01-31",
          "2010-02-28",
          "2010-03-31",
          "2010-04-30",
          "2010-05-31",
          "2010-06-30",
          "2010-07-31",
          "2010-08-31",
          "2010-09-30",
          "2010-10-31",
          "2010-11-30",
          "2010-12-31",
          "2011-01-31",
          "2011-02-28",
          "2011-03-31",
          "2011-04-30",
          "2011-05-31",
          "2011-06-30",
          "2011-07-31",
          "2011-08-31",
          "2011-09-30",
          "2011-10-31",
          "2011-11-30",
          "2011-12-31",
          "2012-01-31",
          "2012-02-29",
          "2012-03-31",
          "2012-04-30",
          "2012-05-31",
          "2012-06-30",
          "2012-07-31",
          "2012-08-31",
          "2012-09-30",
          "2012-10-31",
          "2012-11-30",
          "2012-12-31",
          "2013-01-31",
          "2013-02-28",
          "2013-03-31",
          "2013-04-30",
          "2013-05-31",
          "2013-06-30",
          "2013-07-31",
          "2013-08-31",
          "2013-09-30",
          "2013-10-31",
          "2013-11-30",
          "2013-12-31",
          "2014-01-31",
          "2014-02-28",
          "2014-03-31",
          "2014-04-30",
          "2014-05-31",
          "2014-06-30",
          "2014-07-31",
          "2014-08-31",
          "2014-09-30",
          "2014-10-31",
          "2014-11-30",
          "2014-12-31",
          "2015-01-31",
          "2015-02-28",
          "2015-03-31",
          "2015-04-30",
          "2015-05-31",
          "2015-06-30",
          "2015-07-31",
          "2015-08-31",
          "2015-09-30",
          "2015-10-31",
          "2015-11-30",
          "2015-12-31",
          "2016-01-31",
          "2016-02-29",
          "2016-03-31",
          "2016-04-30",
          "2016-05-31",
          "2016-06-30",
          "2016-07-31",
          "2016-08-31",
          "2016-09-30",
          "2016-10-31",
          "2016-11-30",
          "2016-12-31",
          "2017-01-31",
          "2017-02-28",
          "2017-03-31",
          "2017-04-30",
          "2017-05-31",
          "2017-06-30",
          "2017-07-31",
          "2017-08-31",
          "2017-09-30",
          "2017-10-31",
          "2017-11-30",
          "2017-12-31",
          "2018-01-31",
          "2018-02-28",
          "2018-03-31",
          "2018-04-30",
          "2018-05-31",
          "2018-06-30",
          "2018-07-31",
          "2018-08-31",
          "2018-09-30",
          "2018-10-31",
          "2018-11-30",
          "2018-12-31",
          "2019-01-31",
          "2019-02-28",
          "2019-03-31",
          "2019-04-30",
          "2019-05-31",
          "2019-06-30",
          "2019-07-31",
          "2019-08-31",
          "2019-09-30",
          "2019-10-31",
          "2019-11-30",
          "2019-12-31",
          "2020-01-31",
          "2020-02-29",
          "2020-03-31",
          "2020-04-30",
          "2020-05-31",
          "2020-06-30",
          "2020-07-31",
          "2020-08-31",
          "2020-09-30",
          "2020-10-31",
          "2020-11-30",
          "2020-12-31",
          "2021-01-31",
          "2021-02-28"
         ],
         "y": [
          "vfinx",
          "vfinx",
          "vfinx",
          "vfinx",
          "ff",
          "ff",
          "vfinx",
          "vfinx",
          "ff",
          "ff",
          "ff",
          "vfinx",
          "vfinx",
          "vfinx",
          "vfinx",
          "vfinx",
          "vfinx",
          "vfinx",
          "vfinx",
          "vfinx",
          "vfinx",
          "vfinx",
          "vfinx",
          "vfinx",
          "vfinx",
          "vfinx",
          "vfinx",
          "vfinx",
          "vfinx",
          "vfinx",
          "vfinx",
          "vfinx",
          "vfinx",
          "vfinx",
          "ff",
          "ff",
          "ff",
          "vfinx",
          "vfinx",
          "vfinx",
          "vfinx",
          "vfinx",
          "vfinx",
          "vfinx",
          "ff",
          "ff",
          "vfinx",
          "vfinx",
          "vfinx",
          "vfinx",
          "vfinx",
          "vfinx",
          "vfinx",
          "vfinx",
          "vfinx",
          "vfinx",
          "vfinx",
          "vfinx",
          "ff",
          "ff",
          "vfinx",
          "vfinx",
          "vfinx",
          "vfinx",
          "vfinx",
          "vfinx",
          "vfinx",
          "ff",
          "ff",
          "ff",
          "ff",
          "ff",
          "vfinx",
          "vfinx",
          "vfinx",
          "vfinx",
          "vfinx",
          "vfinx",
          "vfinx",
          "vfinx",
          "vfinx",
          "vfinx",
          "vfinx",
          "vfinx",
          "vfinx",
          "vfinx",
          "vfinx",
          "vfinx",
          "vfinx",
          "vfinx",
          "vfinx",
          "vfinx",
          "vfinx",
          "vfinx",
          "vfinx",
          "vfinx",
          "vfinx",
          "vfinx",
          "vfinx",
          "vfinx",
          "vfinx",
          "vfinx",
          "vfinx",
          "vfinx",
          "vfinx",
          "vfinx",
          "vfinx",
          "vfinx",
          "vfinx",
          "vfinx",
          "vfinx",
          "ff",
          "ff",
          "vfinx",
          "vfinx",
          "vfinx",
          "vfinx",
          "vfinx",
          "vfinx",
          "vfinx",
          "vfinx",
          "vfinx",
          "vfinx",
          "vfinx",
          "vfinx",
          "vfinx",
          "vfinx",
          "vfinx",
          "vfinx",
          "vfinx",
          "vfinx",
          "vfinx",
          "vfinx",
          "vfinx",
          "vfinx",
          "vfinx",
          "vfinx",
          "vfinx",
          "vfinx",
          "vfinx",
          "vfinx",
          "vfinx",
          "vfinx",
          "vfinx",
          "vfinx",
          "vfinx",
          "vfinx",
          "vfinx",
          "vfinx",
          "vfinx",
          "vfinx",
          "vfinx",
          "vfinx",
          "vfinx",
          "vfinx",
          "vfinx",
          "vfinx",
          "vfinx",
          "vfinx",
          "vfinx",
          "vfinx",
          "vfinx",
          "vfinx",
          "vfinx",
          "ff",
          "ff",
          "vfinx",
          "vfinx",
          "vfinx",
          "vfinx",
          "vfinx",
          "vfinx",
          "vfinx",
          "vfinx",
          "vfinx",
          "vfinx",
          "ff",
          "ff",
          "ff",
          "vfinx",
          "vfinx",
          "vfinx",
          "ff",
          "ff",
          "ff",
          "ff",
          "ff",
          "ff",
          "ff",
          "ff",
          "ff",
          "ff",
          "ff",
          "vfinx",
          "vfinx",
          "ff",
          "ff",
          "vfinx",
          "vfinx",
          "ff",
          "ff",
          "ff",
          "ff",
          "vfinx",
          "vfinx",
          "vfinx",
          "ff",
          "ff",
          "ff",
          "ff",
          "ff",
          "ff",
          "ff",
          "ff",
          "ff",
          "vfinx",
          "vfinx",
          "ff",
          "ff",
          "ff",
          "vfinx",
          "vfinx",
          "vfinx",
          "vfinx",
          "vfinx",
          "vfinx",
          "vfinx",
          "vfinx",
          "vfinx",
          "vfinx",
          "vfinx",
          "vfinx",
          "ff",
          "ff",
          "vfinx",
          "vfinx",
          "vfinx",
          "vfinx",
          "vfinx",
          "vfinx",
          "vfinx",
          "vfinx",
          "vfinx",
          "vfinx",
          "ff",
          "ff",
          "ff",
          "ff",
          "ff",
          "ff",
          "ff",
          "ff",
          "ff",
          "ff",
          "vfinx",
          "vfinx",
          "vfinx",
          "vfinx",
          "vfinx",
          "vfinx",
          "vfinx",
          "vfinx",
          "vfinx",
          "vfinx",
          "vfinx",
          "vfinx",
          "vfinx",
          "vfinx",
          "vfinx",
          "vfinx",
          "vfinx",
          "ff",
          "ff",
          "vfinx",
          "vfinx",
          "vfinx",
          "ff",
          "ff",
          "ff",
          "ff",
          "ff",
          "vfinx",
          "vfinx",
          "ff",
          "ff",
          "ff",
          "ff",
          "ff",
          "ff",
          "ff",
          "ff",
          "ff",
          "vfinx",
          "vfinx",
          "vfinx",
          "vfinx",
          "vfinx",
          "vfinx",
          "vfinx",
          "vfinx",
          "vfinx",
          "vfinx",
          "vfinx",
          "vfinx",
          "vfinx",
          "vfinx",
          "ff",
          "ff",
          "ff",
          "ff",
          "vfinx",
          "vfinx",
          "vfinx",
          "vfinx",
          "vfinx",
          "vfinx",
          "vfinx",
          "vfinx",
          "ff",
          "ff",
          "ff",
          "ff",
          "ff",
          "ff",
          "ff",
          "vfinx",
          "vfinx",
          "vfinx",
          "vfinx",
          "ff",
          "ff",
          "vfinx",
          "vfinx",
          "vfinx",
          "vfinx",
          "vfinx",
          "vfinx",
          "vfinx",
          "vfinx",
          "vfinx",
          "vfinx",
          "vfinx",
          "vfinx",
          "vfinx",
          "vfinx",
          "vfinx",
          "vfinx",
          "vfinx",
          "vfinx",
          "vfinx",
          "vfinx",
          "vfinx",
          "vfinx",
          "vfinx",
          "vfinx",
          "vfinx",
          "vfinx",
          "vfinx",
          "vfinx",
          "vfinx",
          "vfinx",
          "ff",
          "ff",
          "ff",
          "ff",
          "vfinx",
          "vfinx",
          "vfinx",
          "vfinx",
          "ff",
          "ff",
          "ff",
          "ff",
          "ff",
          "ff",
          "ff",
          "vfinx",
          "vfinx",
          "vfinx",
          "vfinx",
          "vfinx",
          "ff",
          "ff",
          "ff",
          "vfinx",
          "vfinx",
          "vfinx",
          "vfinx",
          "vfinx",
          "vfinx",
          "vfinx",
          "vfinx",
          "vfinx",
          "vfinx",
          "vfinx",
          "vfinx",
          "vfinx",
          "vfinx",
          "vfinx",
          "ff",
          "ff",
          "vfinx",
          "vfinx",
          "vfinx",
          "vfinx",
          "vfinx",
          "vfinx",
          "vfinx",
          "vfinx",
          "vfinx",
          "vfinx",
          "vfinx",
          "vfinx",
          "vfinx",
          "vfinx",
          "vfinx",
          "vfinx",
          "vfinx",
          "vfinx",
          "vfinx",
          "vfinx",
          "vfinx",
          "ff",
          "ff",
          "ff",
          "vfinx",
          "vfinx",
          "vfinx",
          "vfinx",
          "vfinx",
          "ff",
          "ff",
          "vfinx"
         ]
        }
       ],
       "layout": {
        "legend": {
         "bgcolor": "#F5F6F9",
         "font": {
          "color": "#4D5663"
         }
        },
        "paper_bgcolor": "#F5F6F9",
        "plot_bgcolor": "#F5F6F9",
        "template": {
         "data": {
          "bar": [
           {
            "error_x": {
             "color": "#2a3f5f"
            },
            "error_y": {
             "color": "#2a3f5f"
            },
            "marker": {
             "line": {
              "color": "#E5ECF6",
              "width": 0.5
             }
            },
            "type": "bar"
           }
          ],
          "barpolar": [
           {
            "marker": {
             "line": {
              "color": "#E5ECF6",
              "width": 0.5
             }
            },
            "type": "barpolar"
           }
          ],
          "carpet": [
           {
            "aaxis": {
             "endlinecolor": "#2a3f5f",
             "gridcolor": "white",
             "linecolor": "white",
             "minorgridcolor": "white",
             "startlinecolor": "#2a3f5f"
            },
            "baxis": {
             "endlinecolor": "#2a3f5f",
             "gridcolor": "white",
             "linecolor": "white",
             "minorgridcolor": "white",
             "startlinecolor": "#2a3f5f"
            },
            "type": "carpet"
           }
          ],
          "choropleth": [
           {
            "colorbar": {
             "outlinewidth": 0,
             "ticks": ""
            },
            "type": "choropleth"
           }
          ],
          "contour": [
           {
            "colorbar": {
             "outlinewidth": 0,
             "ticks": ""
            },
            "colorscale": [
             [
              0,
              "#0d0887"
             ],
             [
              0.1111111111111111,
              "#46039f"
             ],
             [
              0.2222222222222222,
              "#7201a8"
             ],
             [
              0.3333333333333333,
              "#9c179e"
             ],
             [
              0.4444444444444444,
              "#bd3786"
             ],
             [
              0.5555555555555556,
              "#d8576b"
             ],
             [
              0.6666666666666666,
              "#ed7953"
             ],
             [
              0.7777777777777778,
              "#fb9f3a"
             ],
             [
              0.8888888888888888,
              "#fdca26"
             ],
             [
              1,
              "#f0f921"
             ]
            ],
            "type": "contour"
           }
          ],
          "contourcarpet": [
           {
            "colorbar": {
             "outlinewidth": 0,
             "ticks": ""
            },
            "type": "contourcarpet"
           }
          ],
          "heatmap": [
           {
            "colorbar": {
             "outlinewidth": 0,
             "ticks": ""
            },
            "colorscale": [
             [
              0,
              "#0d0887"
             ],
             [
              0.1111111111111111,
              "#46039f"
             ],
             [
              0.2222222222222222,
              "#7201a8"
             ],
             [
              0.3333333333333333,
              "#9c179e"
             ],
             [
              0.4444444444444444,
              "#bd3786"
             ],
             [
              0.5555555555555556,
              "#d8576b"
             ],
             [
              0.6666666666666666,
              "#ed7953"
             ],
             [
              0.7777777777777778,
              "#fb9f3a"
             ],
             [
              0.8888888888888888,
              "#fdca26"
             ],
             [
              1,
              "#f0f921"
             ]
            ],
            "type": "heatmap"
           }
          ],
          "heatmapgl": [
           {
            "colorbar": {
             "outlinewidth": 0,
             "ticks": ""
            },
            "colorscale": [
             [
              0,
              "#0d0887"
             ],
             [
              0.1111111111111111,
              "#46039f"
             ],
             [
              0.2222222222222222,
              "#7201a8"
             ],
             [
              0.3333333333333333,
              "#9c179e"
             ],
             [
              0.4444444444444444,
              "#bd3786"
             ],
             [
              0.5555555555555556,
              "#d8576b"
             ],
             [
              0.6666666666666666,
              "#ed7953"
             ],
             [
              0.7777777777777778,
              "#fb9f3a"
             ],
             [
              0.8888888888888888,
              "#fdca26"
             ],
             [
              1,
              "#f0f921"
             ]
            ],
            "type": "heatmapgl"
           }
          ],
          "histogram": [
           {
            "marker": {
             "colorbar": {
              "outlinewidth": 0,
              "ticks": ""
             }
            },
            "type": "histogram"
           }
          ],
          "histogram2d": [
           {
            "colorbar": {
             "outlinewidth": 0,
             "ticks": ""
            },
            "colorscale": [
             [
              0,
              "#0d0887"
             ],
             [
              0.1111111111111111,
              "#46039f"
             ],
             [
              0.2222222222222222,
              "#7201a8"
             ],
             [
              0.3333333333333333,
              "#9c179e"
             ],
             [
              0.4444444444444444,
              "#bd3786"
             ],
             [
              0.5555555555555556,
              "#d8576b"
             ],
             [
              0.6666666666666666,
              "#ed7953"
             ],
             [
              0.7777777777777778,
              "#fb9f3a"
             ],
             [
              0.8888888888888888,
              "#fdca26"
             ],
             [
              1,
              "#f0f921"
             ]
            ],
            "type": "histogram2d"
           }
          ],
          "histogram2dcontour": [
           {
            "colorbar": {
             "outlinewidth": 0,
             "ticks": ""
            },
            "colorscale": [
             [
              0,
              "#0d0887"
             ],
             [
              0.1111111111111111,
              "#46039f"
             ],
             [
              0.2222222222222222,
              "#7201a8"
             ],
             [
              0.3333333333333333,
              "#9c179e"
             ],
             [
              0.4444444444444444,
              "#bd3786"
             ],
             [
              0.5555555555555556,
              "#d8576b"
             ],
             [
              0.6666666666666666,
              "#ed7953"
             ],
             [
              0.7777777777777778,
              "#fb9f3a"
             ],
             [
              0.8888888888888888,
              "#fdca26"
             ],
             [
              1,
              "#f0f921"
             ]
            ],
            "type": "histogram2dcontour"
           }
          ],
          "mesh3d": [
           {
            "colorbar": {
             "outlinewidth": 0,
             "ticks": ""
            },
            "type": "mesh3d"
           }
          ],
          "parcoords": [
           {
            "line": {
             "colorbar": {
              "outlinewidth": 0,
              "ticks": ""
             }
            },
            "type": "parcoords"
           }
          ],
          "pie": [
           {
            "automargin": true,
            "type": "pie"
           }
          ],
          "scatter": [
           {
            "marker": {
             "colorbar": {
              "outlinewidth": 0,
              "ticks": ""
             }
            },
            "type": "scatter"
           }
          ],
          "scatter3d": [
           {
            "line": {
             "colorbar": {
              "outlinewidth": 0,
              "ticks": ""
             }
            },
            "marker": {
             "colorbar": {
              "outlinewidth": 0,
              "ticks": ""
             }
            },
            "type": "scatter3d"
           }
          ],
          "scattercarpet": [
           {
            "marker": {
             "colorbar": {
              "outlinewidth": 0,
              "ticks": ""
             }
            },
            "type": "scattercarpet"
           }
          ],
          "scattergeo": [
           {
            "marker": {
             "colorbar": {
              "outlinewidth": 0,
              "ticks": ""
             }
            },
            "type": "scattergeo"
           }
          ],
          "scattergl": [
           {
            "marker": {
             "colorbar": {
              "outlinewidth": 0,
              "ticks": ""
             }
            },
            "type": "scattergl"
           }
          ],
          "scattermapbox": [
           {
            "marker": {
             "colorbar": {
              "outlinewidth": 0,
              "ticks": ""
             }
            },
            "type": "scattermapbox"
           }
          ],
          "scatterpolar": [
           {
            "marker": {
             "colorbar": {
              "outlinewidth": 0,
              "ticks": ""
             }
            },
            "type": "scatterpolar"
           }
          ],
          "scatterpolargl": [
           {
            "marker": {
             "colorbar": {
              "outlinewidth": 0,
              "ticks": ""
             }
            },
            "type": "scatterpolargl"
           }
          ],
          "scatterternary": [
           {
            "marker": {
             "colorbar": {
              "outlinewidth": 0,
              "ticks": ""
             }
            },
            "type": "scatterternary"
           }
          ],
          "surface": [
           {
            "colorbar": {
             "outlinewidth": 0,
             "ticks": ""
            },
            "colorscale": [
             [
              0,
              "#0d0887"
             ],
             [
              0.1111111111111111,
              "#46039f"
             ],
             [
              0.2222222222222222,
              "#7201a8"
             ],
             [
              0.3333333333333333,
              "#9c179e"
             ],
             [
              0.4444444444444444,
              "#bd3786"
             ],
             [
              0.5555555555555556,
              "#d8576b"
             ],
             [
              0.6666666666666666,
              "#ed7953"
             ],
             [
              0.7777777777777778,
              "#fb9f3a"
             ],
             [
              0.8888888888888888,
              "#fdca26"
             ],
             [
              1,
              "#f0f921"
             ]
            ],
            "type": "surface"
           }
          ],
          "table": [
           {
            "cells": {
             "fill": {
              "color": "#EBF0F8"
             },
             "line": {
              "color": "white"
             }
            },
            "header": {
             "fill": {
              "color": "#C8D4E3"
             },
             "line": {
              "color": "white"
             }
            },
            "type": "table"
           }
          ]
         },
         "layout": {
          "annotationdefaults": {
           "arrowcolor": "#2a3f5f",
           "arrowhead": 0,
           "arrowwidth": 1
          },
          "autotypenumbers": "strict",
          "coloraxis": {
           "colorbar": {
            "outlinewidth": 0,
            "ticks": ""
           }
          },
          "colorscale": {
           "diverging": [
            [
             0,
             "#8e0152"
            ],
            [
             0.1,
             "#c51b7d"
            ],
            [
             0.2,
             "#de77ae"
            ],
            [
             0.3,
             "#f1b6da"
            ],
            [
             0.4,
             "#fde0ef"
            ],
            [
             0.5,
             "#f7f7f7"
            ],
            [
             0.6,
             "#e6f5d0"
            ],
            [
             0.7,
             "#b8e186"
            ],
            [
             0.8,
             "#7fbc41"
            ],
            [
             0.9,
             "#4d9221"
            ],
            [
             1,
             "#276419"
            ]
           ],
           "sequential": [
            [
             0,
             "#0d0887"
            ],
            [
             0.1111111111111111,
             "#46039f"
            ],
            [
             0.2222222222222222,
             "#7201a8"
            ],
            [
             0.3333333333333333,
             "#9c179e"
            ],
            [
             0.4444444444444444,
             "#bd3786"
            ],
            [
             0.5555555555555556,
             "#d8576b"
            ],
            [
             0.6666666666666666,
             "#ed7953"
            ],
            [
             0.7777777777777778,
             "#fb9f3a"
            ],
            [
             0.8888888888888888,
             "#fdca26"
            ],
            [
             1,
             "#f0f921"
            ]
           ],
           "sequentialminus": [
            [
             0,
             "#0d0887"
            ],
            [
             0.1111111111111111,
             "#46039f"
            ],
            [
             0.2222222222222222,
             "#7201a8"
            ],
            [
             0.3333333333333333,
             "#9c179e"
            ],
            [
             0.4444444444444444,
             "#bd3786"
            ],
            [
             0.5555555555555556,
             "#d8576b"
            ],
            [
             0.6666666666666666,
             "#ed7953"
            ],
            [
             0.7777777777777778,
             "#fb9f3a"
            ],
            [
             0.8888888888888888,
             "#fdca26"
            ],
            [
             1,
             "#f0f921"
            ]
           ]
          },
          "colorway": [
           "#636efa",
           "#EF553B",
           "#00cc96",
           "#ab63fa",
           "#FFA15A",
           "#19d3f3",
           "#FF6692",
           "#B6E880",
           "#FF97FF",
           "#FECB52"
          ],
          "font": {
           "color": "#2a3f5f"
          },
          "geo": {
           "bgcolor": "white",
           "lakecolor": "white",
           "landcolor": "#E5ECF6",
           "showlakes": true,
           "showland": true,
           "subunitcolor": "white"
          },
          "hoverlabel": {
           "align": "left"
          },
          "hovermode": "closest",
          "mapbox": {
           "style": "light"
          },
          "paper_bgcolor": "white",
          "plot_bgcolor": "#E5ECF6",
          "polar": {
           "angularaxis": {
            "gridcolor": "white",
            "linecolor": "white",
            "ticks": ""
           },
           "bgcolor": "#E5ECF6",
           "radialaxis": {
            "gridcolor": "white",
            "linecolor": "white",
            "ticks": ""
           }
          },
          "scene": {
           "xaxis": {
            "backgroundcolor": "#E5ECF6",
            "gridcolor": "white",
            "gridwidth": 2,
            "linecolor": "white",
            "showbackground": true,
            "ticks": "",
            "zerolinecolor": "white"
           },
           "yaxis": {
            "backgroundcolor": "#E5ECF6",
            "gridcolor": "white",
            "gridwidth": 2,
            "linecolor": "white",
            "showbackground": true,
            "ticks": "",
            "zerolinecolor": "white"
           },
           "zaxis": {
            "backgroundcolor": "#E5ECF6",
            "gridcolor": "white",
            "gridwidth": 2,
            "linecolor": "white",
            "showbackground": true,
            "ticks": "",
            "zerolinecolor": "white"
           }
          },
          "shapedefaults": {
           "line": {
            "color": "#2a3f5f"
           }
          },
          "ternary": {
           "aaxis": {
            "gridcolor": "white",
            "linecolor": "white",
            "ticks": ""
           },
           "baxis": {
            "gridcolor": "white",
            "linecolor": "white",
            "ticks": ""
           },
           "bgcolor": "#E5ECF6",
           "caxis": {
            "gridcolor": "white",
            "linecolor": "white",
            "ticks": ""
           }
          },
          "title": {
           "x": 0.05
          },
          "xaxis": {
           "automargin": true,
           "gridcolor": "white",
           "linecolor": "white",
           "ticks": "",
           "title": {
            "standoff": 15
           },
           "zerolinecolor": "white",
           "zerolinewidth": 2
          },
          "yaxis": {
           "automargin": true,
           "gridcolor": "white",
           "linecolor": "white",
           "ticks": "",
           "title": {
            "standoff": 15
           },
           "zerolinecolor": "white",
           "zerolinewidth": 2
          }
         }
        },
        "title": {
         "font": {
          "color": "#4D5663"
         },
         "text": "Strategy Change Points"
        },
        "xaxis": {
         "gridcolor": "#E1E5ED",
         "showgrid": true,
         "tickfont": {
          "color": "#4D5663"
         },
         "title": {
          "font": {
           "color": "#4D5663"
          },
          "text": "Date"
         },
         "zerolinecolor": "#E1E5ED"
        },
        "yaxis": {
         "gridcolor": "#E1E5ED",
         "showgrid": true,
         "tickfont": {
          "color": "#4D5663"
         },
         "title": {
          "font": {
           "color": "#4D5663"
          },
          "text": "Strategy Point"
         },
         "zerolinecolor": "#E1E5ED"
        }
       }
      },
      "text/html": [
       "<div>                            <div id=\"75299f7a-116a-42a2-9be4-b81cbabd0a22\" class=\"plotly-graph-div\" style=\"height:525px; width:100%;\"></div>            <script type=\"text/javascript\">                require([\"plotly\"], function(Plotly) {                    window.PLOTLYENV=window.PLOTLYENV || {};                                    if (document.getElementById(\"75299f7a-116a-42a2-9be4-b81cbabd0a22\")) {                    Plotly.newPlot(                        \"75299f7a-116a-42a2-9be4-b81cbabd0a22\",                        [{\"line\": {\"color\": \"orange\", \"dash\": \"solid\", \"shape\": \"linear\", \"width\": 1.3}, \"marker\": {\"size\": 4.5, \"symbol\": \"diamond\"}, \"mode\": \"markers\", \"name\": \"Indicator\", \"text\": \"\", \"type\": \"scatter\", \"x\": [\"1985-02-28\", \"1985-03-31\", \"1985-04-30\", \"1985-05-31\", \"1985-06-30\", \"1985-07-31\", \"1985-08-31\", \"1985-09-30\", \"1985-10-31\", \"1985-11-30\", \"1985-12-31\", \"1986-01-31\", \"1986-02-28\", \"1986-03-31\", \"1986-04-30\", \"1986-05-31\", \"1986-06-30\", \"1986-07-31\", \"1986-08-31\", \"1986-09-30\", \"1986-10-31\", \"1986-11-30\", \"1986-12-31\", \"1987-01-31\", \"1987-02-28\", \"1987-03-31\", \"1987-04-30\", \"1987-05-31\", \"1987-06-30\", \"1987-07-31\", \"1987-08-31\", \"1987-09-30\", \"1987-10-31\", \"1987-11-30\", \"1987-12-31\", \"1988-01-31\", \"1988-02-29\", \"1988-03-31\", \"1988-04-30\", \"1988-05-31\", \"1988-06-30\", \"1988-07-31\", \"1988-08-31\", \"1988-09-30\", \"1988-10-31\", \"1988-11-30\", \"1988-12-31\", \"1989-01-31\", \"1989-02-28\", \"1989-03-31\", \"1989-04-30\", \"1989-05-31\", \"1989-06-30\", \"1989-07-31\", \"1989-08-31\", \"1989-09-30\", \"1989-10-31\", \"1989-11-30\", \"1989-12-31\", \"1990-01-31\", \"1990-02-28\", \"1990-03-31\", \"1990-04-30\", \"1990-05-31\", \"1990-06-30\", \"1990-07-31\", \"1990-08-31\", \"1990-09-30\", \"1990-10-31\", \"1990-11-30\", \"1990-12-31\", \"1991-01-31\", \"1991-02-28\", \"1991-03-31\", \"1991-04-30\", \"1991-05-31\", \"1991-06-30\", \"1991-07-31\", \"1991-08-31\", \"1991-09-30\", \"1991-10-31\", \"1991-11-30\", \"1991-12-31\", \"1992-01-31\", \"1992-02-29\", \"1992-03-31\", \"1992-04-30\", \"1992-05-31\", \"1992-06-30\", \"1992-07-31\", \"1992-08-31\", \"1992-09-30\", \"1992-10-31\", \"1992-11-30\", \"1992-12-31\", \"1993-01-31\", \"1993-02-28\", \"1993-03-31\", \"1993-04-30\", \"1993-05-31\", \"1993-06-30\", \"1993-07-31\", \"1993-08-31\", \"1993-09-30\", \"1993-10-31\", \"1993-11-30\", \"1993-12-31\", \"1994-01-31\", \"1994-02-28\", \"1994-03-31\", \"1994-04-30\", \"1994-05-31\", \"1994-06-30\", \"1994-07-31\", \"1994-08-31\", \"1994-09-30\", \"1994-10-31\", \"1994-11-30\", \"1994-12-31\", \"1995-01-31\", \"1995-02-28\", \"1995-03-31\", \"1995-04-30\", \"1995-05-31\", \"1995-06-30\", \"1995-07-31\", \"1995-08-31\", \"1995-09-30\", \"1995-10-31\", \"1995-11-30\", \"1995-12-31\", \"1996-01-31\", \"1996-02-29\", \"1996-03-31\", \"1996-04-30\", \"1996-05-31\", \"1996-06-30\", \"1996-07-31\", \"1996-08-31\", \"1996-09-30\", \"1996-10-31\", \"1996-11-30\", \"1996-12-31\", \"1997-01-31\", \"1997-02-28\", \"1997-03-31\", \"1997-04-30\", \"1997-05-31\", \"1997-06-30\", \"1997-07-31\", \"1997-08-31\", \"1997-09-30\", \"1997-10-31\", \"1997-11-30\", \"1997-12-31\", \"1998-01-31\", \"1998-02-28\", \"1998-03-31\", \"1998-04-30\", \"1998-05-31\", \"1998-06-30\", \"1998-07-31\", \"1998-08-31\", \"1998-09-30\", \"1998-10-31\", \"1998-11-30\", \"1998-12-31\", \"1999-01-31\", \"1999-02-28\", \"1999-03-31\", \"1999-04-30\", \"1999-05-31\", \"1999-06-30\", \"1999-07-31\", \"1999-08-31\", \"1999-09-30\", \"1999-10-31\", \"1999-11-30\", \"1999-12-31\", \"2000-01-31\", \"2000-02-29\", \"2000-03-31\", \"2000-04-30\", \"2000-05-31\", \"2000-06-30\", \"2000-07-31\", \"2000-08-31\", \"2000-09-30\", \"2000-10-31\", \"2000-11-30\", \"2000-12-31\", \"2001-01-31\", \"2001-02-28\", \"2001-03-31\", \"2001-04-30\", \"2001-05-31\", \"2001-06-30\", \"2001-07-31\", \"2001-08-31\", \"2001-09-30\", \"2001-10-31\", \"2001-11-30\", \"2001-12-31\", \"2002-01-31\", \"2002-02-28\", \"2002-03-31\", \"2002-04-30\", \"2002-05-31\", \"2002-06-30\", \"2002-07-31\", \"2002-08-31\", \"2002-09-30\", \"2002-10-31\", \"2002-11-30\", \"2002-12-31\", \"2003-01-31\", \"2003-02-28\", \"2003-03-31\", \"2003-04-30\", \"2003-05-31\", \"2003-06-30\", \"2003-07-31\", \"2003-08-31\", \"2003-09-30\", \"2003-10-31\", \"2003-11-30\", \"2003-12-31\", \"2004-01-31\", \"2004-02-29\", \"2004-03-31\", \"2004-04-30\", \"2004-05-31\", \"2004-06-30\", \"2004-07-31\", \"2004-08-31\", \"2004-09-30\", \"2004-10-31\", \"2004-11-30\", \"2004-12-31\", \"2005-01-31\", \"2005-02-28\", \"2005-03-31\", \"2005-04-30\", \"2005-05-31\", \"2005-06-30\", \"2005-07-31\", \"2005-08-31\", \"2005-09-30\", \"2005-10-31\", \"2005-11-30\", \"2005-12-31\", \"2006-01-31\", \"2006-02-28\", \"2006-03-31\", \"2006-04-30\", \"2006-05-31\", \"2006-06-30\", \"2006-07-31\", \"2006-08-31\", \"2006-09-30\", \"2006-10-31\", \"2006-11-30\", \"2006-12-31\", \"2007-01-31\", \"2007-02-28\", \"2007-03-31\", \"2007-04-30\", \"2007-05-31\", \"2007-06-30\", \"2007-07-31\", \"2007-08-31\", \"2007-09-30\", \"2007-10-31\", \"2007-11-30\", \"2007-12-31\", \"2008-01-31\", \"2008-02-29\", \"2008-03-31\", \"2008-04-30\", \"2008-05-31\", \"2008-06-30\", \"2008-07-31\", \"2008-08-31\", \"2008-09-30\", \"2008-10-31\", \"2008-11-30\", \"2008-12-31\", \"2009-01-31\", \"2009-02-28\", \"2009-03-31\", \"2009-04-30\", \"2009-05-31\", \"2009-06-30\", \"2009-07-31\", \"2009-08-31\", \"2009-09-30\", \"2009-10-31\", \"2009-11-30\", \"2009-12-31\", \"2010-01-31\", \"2010-02-28\", \"2010-03-31\", \"2010-04-30\", \"2010-05-31\", \"2010-06-30\", \"2010-07-31\", \"2010-08-31\", \"2010-09-30\", \"2010-10-31\", \"2010-11-30\", \"2010-12-31\", \"2011-01-31\", \"2011-02-28\", \"2011-03-31\", \"2011-04-30\", \"2011-05-31\", \"2011-06-30\", \"2011-07-31\", \"2011-08-31\", \"2011-09-30\", \"2011-10-31\", \"2011-11-30\", \"2011-12-31\", \"2012-01-31\", \"2012-02-29\", \"2012-03-31\", \"2012-04-30\", \"2012-05-31\", \"2012-06-30\", \"2012-07-31\", \"2012-08-31\", \"2012-09-30\", \"2012-10-31\", \"2012-11-30\", \"2012-12-31\", \"2013-01-31\", \"2013-02-28\", \"2013-03-31\", \"2013-04-30\", \"2013-05-31\", \"2013-06-30\", \"2013-07-31\", \"2013-08-31\", \"2013-09-30\", \"2013-10-31\", \"2013-11-30\", \"2013-12-31\", \"2014-01-31\", \"2014-02-28\", \"2014-03-31\", \"2014-04-30\", \"2014-05-31\", \"2014-06-30\", \"2014-07-31\", \"2014-08-31\", \"2014-09-30\", \"2014-10-31\", \"2014-11-30\", \"2014-12-31\", \"2015-01-31\", \"2015-02-28\", \"2015-03-31\", \"2015-04-30\", \"2015-05-31\", \"2015-06-30\", \"2015-07-31\", \"2015-08-31\", \"2015-09-30\", \"2015-10-31\", \"2015-11-30\", \"2015-12-31\", \"2016-01-31\", \"2016-02-29\", \"2016-03-31\", \"2016-04-30\", \"2016-05-31\", \"2016-06-30\", \"2016-07-31\", \"2016-08-31\", \"2016-09-30\", \"2016-10-31\", \"2016-11-30\", \"2016-12-31\", \"2017-01-31\", \"2017-02-28\", \"2017-03-31\", \"2017-04-30\", \"2017-05-31\", \"2017-06-30\", \"2017-07-31\", \"2017-08-31\", \"2017-09-30\", \"2017-10-31\", \"2017-11-30\", \"2017-12-31\", \"2018-01-31\", \"2018-02-28\", \"2018-03-31\", \"2018-04-30\", \"2018-05-31\", \"2018-06-30\", \"2018-07-31\", \"2018-08-31\", \"2018-09-30\", \"2018-10-31\", \"2018-11-30\", \"2018-12-31\", \"2019-01-31\", \"2019-02-28\", \"2019-03-31\", \"2019-04-30\", \"2019-05-31\", \"2019-06-30\", \"2019-07-31\", \"2019-08-31\", \"2019-09-30\", \"2019-10-31\", \"2019-11-30\", \"2019-12-31\", \"2020-01-31\", \"2020-02-29\", \"2020-03-31\", \"2020-04-30\", \"2020-05-31\", \"2020-06-30\", \"2020-07-31\", \"2020-08-31\", \"2020-09-30\", \"2020-10-31\", \"2020-11-30\", \"2020-12-31\", \"2021-01-31\", \"2021-02-28\"], \"y\": [\"vfinx\", \"vfinx\", \"vfinx\", \"vfinx\", \"ff\", \"ff\", \"vfinx\", \"vfinx\", \"ff\", \"ff\", \"ff\", \"vfinx\", \"vfinx\", \"vfinx\", \"vfinx\", \"vfinx\", \"vfinx\", \"vfinx\", \"vfinx\", \"vfinx\", \"vfinx\", \"vfinx\", \"vfinx\", \"vfinx\", \"vfinx\", \"vfinx\", \"vfinx\", \"vfinx\", \"vfinx\", \"vfinx\", \"vfinx\", \"vfinx\", \"vfinx\", \"vfinx\", \"ff\", \"ff\", \"ff\", \"vfinx\", \"vfinx\", \"vfinx\", \"vfinx\", \"vfinx\", \"vfinx\", \"vfinx\", \"ff\", \"ff\", \"vfinx\", \"vfinx\", \"vfinx\", \"vfinx\", \"vfinx\", \"vfinx\", \"vfinx\", \"vfinx\", \"vfinx\", \"vfinx\", \"vfinx\", \"vfinx\", \"ff\", \"ff\", \"vfinx\", \"vfinx\", \"vfinx\", \"vfinx\", \"vfinx\", \"vfinx\", \"vfinx\", \"ff\", \"ff\", \"ff\", \"ff\", \"ff\", \"vfinx\", \"vfinx\", \"vfinx\", \"vfinx\", \"vfinx\", \"vfinx\", \"vfinx\", \"vfinx\", \"vfinx\", \"vfinx\", \"vfinx\", \"vfinx\", \"vfinx\", \"vfinx\", \"vfinx\", \"vfinx\", \"vfinx\", \"vfinx\", \"vfinx\", \"vfinx\", \"vfinx\", \"vfinx\", \"vfinx\", \"vfinx\", \"vfinx\", \"vfinx\", \"vfinx\", \"vfinx\", \"vfinx\", \"vfinx\", \"vfinx\", \"vfinx\", \"vfinx\", \"vfinx\", \"vfinx\", \"vfinx\", \"vfinx\", \"vfinx\", \"vfinx\", \"ff\", \"ff\", \"vfinx\", \"vfinx\", \"vfinx\", \"vfinx\", \"vfinx\", \"vfinx\", \"vfinx\", \"vfinx\", \"vfinx\", \"vfinx\", \"vfinx\", \"vfinx\", \"vfinx\", \"vfinx\", \"vfinx\", \"vfinx\", \"vfinx\", \"vfinx\", \"vfinx\", \"vfinx\", \"vfinx\", \"vfinx\", \"vfinx\", \"vfinx\", \"vfinx\", \"vfinx\", \"vfinx\", \"vfinx\", \"vfinx\", \"vfinx\", \"vfinx\", \"vfinx\", \"vfinx\", \"vfinx\", \"vfinx\", \"vfinx\", \"vfinx\", \"vfinx\", \"vfinx\", \"vfinx\", \"vfinx\", \"vfinx\", \"vfinx\", \"vfinx\", \"vfinx\", \"vfinx\", \"vfinx\", \"vfinx\", \"vfinx\", \"vfinx\", \"vfinx\", \"ff\", \"ff\", \"vfinx\", \"vfinx\", \"vfinx\", \"vfinx\", \"vfinx\", \"vfinx\", \"vfinx\", \"vfinx\", \"vfinx\", \"vfinx\", \"ff\", \"ff\", \"ff\", \"vfinx\", \"vfinx\", \"vfinx\", \"ff\", \"ff\", \"ff\", \"ff\", \"ff\", \"ff\", \"ff\", \"ff\", \"ff\", \"ff\", \"ff\", \"vfinx\", \"vfinx\", \"ff\", \"ff\", \"vfinx\", \"vfinx\", \"ff\", \"ff\", \"ff\", \"ff\", \"vfinx\", \"vfinx\", \"vfinx\", \"ff\", \"ff\", \"ff\", \"ff\", \"ff\", \"ff\", \"ff\", \"ff\", \"ff\", \"vfinx\", \"vfinx\", \"ff\", \"ff\", \"ff\", \"vfinx\", \"vfinx\", \"vfinx\", \"vfinx\", \"vfinx\", \"vfinx\", \"vfinx\", \"vfinx\", \"vfinx\", \"vfinx\", \"vfinx\", \"vfinx\", \"ff\", \"ff\", \"vfinx\", \"vfinx\", \"vfinx\", \"vfinx\", \"vfinx\", \"vfinx\", \"vfinx\", \"vfinx\", \"vfinx\", \"vfinx\", \"ff\", \"ff\", \"ff\", \"ff\", \"ff\", \"ff\", \"ff\", \"ff\", \"ff\", \"ff\", \"vfinx\", \"vfinx\", \"vfinx\", \"vfinx\", \"vfinx\", \"vfinx\", \"vfinx\", \"vfinx\", \"vfinx\", \"vfinx\", \"vfinx\", \"vfinx\", \"vfinx\", \"vfinx\", \"vfinx\", \"vfinx\", \"vfinx\", \"ff\", \"ff\", \"vfinx\", \"vfinx\", \"vfinx\", \"ff\", \"ff\", \"ff\", \"ff\", \"ff\", \"vfinx\", \"vfinx\", \"ff\", \"ff\", \"ff\", \"ff\", \"ff\", \"ff\", \"ff\", \"ff\", \"ff\", \"vfinx\", \"vfinx\", \"vfinx\", \"vfinx\", \"vfinx\", \"vfinx\", \"vfinx\", \"vfinx\", \"vfinx\", \"vfinx\", \"vfinx\", \"vfinx\", \"vfinx\", \"vfinx\", \"ff\", \"ff\", \"ff\", \"ff\", \"vfinx\", \"vfinx\", \"vfinx\", \"vfinx\", \"vfinx\", \"vfinx\", \"vfinx\", \"vfinx\", \"ff\", \"ff\", \"ff\", \"ff\", \"ff\", \"ff\", \"ff\", \"vfinx\", \"vfinx\", \"vfinx\", \"vfinx\", \"ff\", \"ff\", \"vfinx\", \"vfinx\", \"vfinx\", \"vfinx\", \"vfinx\", \"vfinx\", \"vfinx\", \"vfinx\", \"vfinx\", \"vfinx\", \"vfinx\", \"vfinx\", \"vfinx\", \"vfinx\", \"vfinx\", \"vfinx\", \"vfinx\", \"vfinx\", \"vfinx\", \"vfinx\", \"vfinx\", \"vfinx\", \"vfinx\", \"vfinx\", \"vfinx\", \"vfinx\", \"vfinx\", \"vfinx\", \"vfinx\", \"vfinx\", \"ff\", \"ff\", \"ff\", \"ff\", \"vfinx\", \"vfinx\", \"vfinx\", \"vfinx\", \"ff\", \"ff\", \"ff\", \"ff\", \"ff\", \"ff\", \"ff\", \"vfinx\", \"vfinx\", \"vfinx\", \"vfinx\", \"vfinx\", \"ff\", \"ff\", \"ff\", \"vfinx\", \"vfinx\", \"vfinx\", \"vfinx\", \"vfinx\", \"vfinx\", \"vfinx\", \"vfinx\", \"vfinx\", \"vfinx\", \"vfinx\", \"vfinx\", \"vfinx\", \"vfinx\", \"vfinx\", \"ff\", \"ff\", \"vfinx\", \"vfinx\", \"vfinx\", \"vfinx\", \"vfinx\", \"vfinx\", \"vfinx\", \"vfinx\", \"vfinx\", \"vfinx\", \"vfinx\", \"vfinx\", \"vfinx\", \"vfinx\", \"vfinx\", \"vfinx\", \"vfinx\", \"vfinx\", \"vfinx\", \"vfinx\", \"vfinx\", \"ff\", \"ff\", \"ff\", \"vfinx\", \"vfinx\", \"vfinx\", \"vfinx\", \"vfinx\", \"ff\", \"ff\", \"vfinx\"]}],                        {\"legend\": {\"bgcolor\": \"#F5F6F9\", \"font\": {\"color\": \"#4D5663\"}}, \"paper_bgcolor\": \"#F5F6F9\", \"plot_bgcolor\": \"#F5F6F9\", \"template\": {\"data\": {\"bar\": [{\"error_x\": {\"color\": \"#2a3f5f\"}, \"error_y\": {\"color\": \"#2a3f5f\"}, \"marker\": {\"line\": {\"color\": \"#E5ECF6\", \"width\": 0.5}}, \"type\": \"bar\"}], \"barpolar\": [{\"marker\": {\"line\": {\"color\": \"#E5ECF6\", \"width\": 0.5}}, \"type\": \"barpolar\"}], \"carpet\": [{\"aaxis\": {\"endlinecolor\": \"#2a3f5f\", \"gridcolor\": \"white\", \"linecolor\": \"white\", \"minorgridcolor\": \"white\", \"startlinecolor\": \"#2a3f5f\"}, \"baxis\": {\"endlinecolor\": \"#2a3f5f\", \"gridcolor\": \"white\", \"linecolor\": \"white\", \"minorgridcolor\": \"white\", \"startlinecolor\": \"#2a3f5f\"}, \"type\": \"carpet\"}], \"choropleth\": [{\"colorbar\": {\"outlinewidth\": 0, \"ticks\": \"\"}, \"type\": \"choropleth\"}], \"contour\": [{\"colorbar\": {\"outlinewidth\": 0, \"ticks\": \"\"}, \"colorscale\": [[0.0, \"#0d0887\"], [0.1111111111111111, \"#46039f\"], [0.2222222222222222, \"#7201a8\"], [0.3333333333333333, \"#9c179e\"], [0.4444444444444444, \"#bd3786\"], [0.5555555555555556, \"#d8576b\"], [0.6666666666666666, \"#ed7953\"], [0.7777777777777778, \"#fb9f3a\"], [0.8888888888888888, \"#fdca26\"], [1.0, \"#f0f921\"]], \"type\": \"contour\"}], \"contourcarpet\": [{\"colorbar\": {\"outlinewidth\": 0, \"ticks\": \"\"}, \"type\": \"contourcarpet\"}], \"heatmap\": [{\"colorbar\": {\"outlinewidth\": 0, \"ticks\": \"\"}, \"colorscale\": [[0.0, \"#0d0887\"], [0.1111111111111111, \"#46039f\"], [0.2222222222222222, \"#7201a8\"], [0.3333333333333333, \"#9c179e\"], [0.4444444444444444, \"#bd3786\"], [0.5555555555555556, \"#d8576b\"], [0.6666666666666666, \"#ed7953\"], [0.7777777777777778, \"#fb9f3a\"], [0.8888888888888888, \"#fdca26\"], [1.0, \"#f0f921\"]], \"type\": \"heatmap\"}], \"heatmapgl\": [{\"colorbar\": {\"outlinewidth\": 0, \"ticks\": \"\"}, \"colorscale\": [[0.0, \"#0d0887\"], [0.1111111111111111, \"#46039f\"], [0.2222222222222222, \"#7201a8\"], [0.3333333333333333, \"#9c179e\"], [0.4444444444444444, \"#bd3786\"], [0.5555555555555556, \"#d8576b\"], [0.6666666666666666, \"#ed7953\"], [0.7777777777777778, \"#fb9f3a\"], [0.8888888888888888, \"#fdca26\"], [1.0, \"#f0f921\"]], \"type\": \"heatmapgl\"}], \"histogram\": [{\"marker\": {\"colorbar\": {\"outlinewidth\": 0, \"ticks\": \"\"}}, \"type\": \"histogram\"}], \"histogram2d\": [{\"colorbar\": {\"outlinewidth\": 0, \"ticks\": \"\"}, \"colorscale\": [[0.0, \"#0d0887\"], [0.1111111111111111, \"#46039f\"], [0.2222222222222222, \"#7201a8\"], [0.3333333333333333, \"#9c179e\"], [0.4444444444444444, \"#bd3786\"], [0.5555555555555556, \"#d8576b\"], [0.6666666666666666, \"#ed7953\"], [0.7777777777777778, \"#fb9f3a\"], [0.8888888888888888, \"#fdca26\"], [1.0, \"#f0f921\"]], \"type\": \"histogram2d\"}], \"histogram2dcontour\": [{\"colorbar\": {\"outlinewidth\": 0, \"ticks\": \"\"}, \"colorscale\": [[0.0, \"#0d0887\"], [0.1111111111111111, \"#46039f\"], [0.2222222222222222, \"#7201a8\"], [0.3333333333333333, \"#9c179e\"], [0.4444444444444444, \"#bd3786\"], [0.5555555555555556, \"#d8576b\"], [0.6666666666666666, \"#ed7953\"], [0.7777777777777778, \"#fb9f3a\"], [0.8888888888888888, \"#fdca26\"], [1.0, \"#f0f921\"]], \"type\": \"histogram2dcontour\"}], \"mesh3d\": [{\"colorbar\": {\"outlinewidth\": 0, \"ticks\": \"\"}, \"type\": \"mesh3d\"}], \"parcoords\": [{\"line\": {\"colorbar\": {\"outlinewidth\": 0, \"ticks\": \"\"}}, \"type\": \"parcoords\"}], \"pie\": [{\"automargin\": true, \"type\": \"pie\"}], \"scatter\": [{\"marker\": {\"colorbar\": {\"outlinewidth\": 0, \"ticks\": \"\"}}, \"type\": \"scatter\"}], \"scatter3d\": [{\"line\": {\"colorbar\": {\"outlinewidth\": 0, \"ticks\": \"\"}}, \"marker\": {\"colorbar\": {\"outlinewidth\": 0, \"ticks\": \"\"}}, \"type\": \"scatter3d\"}], \"scattercarpet\": [{\"marker\": {\"colorbar\": {\"outlinewidth\": 0, \"ticks\": \"\"}}, \"type\": \"scattercarpet\"}], \"scattergeo\": [{\"marker\": {\"colorbar\": {\"outlinewidth\": 0, \"ticks\": \"\"}}, \"type\": \"scattergeo\"}], \"scattergl\": [{\"marker\": {\"colorbar\": {\"outlinewidth\": 0, \"ticks\": \"\"}}, \"type\": \"scattergl\"}], \"scattermapbox\": [{\"marker\": {\"colorbar\": {\"outlinewidth\": 0, \"ticks\": \"\"}}, \"type\": \"scattermapbox\"}], \"scatterpolar\": [{\"marker\": {\"colorbar\": {\"outlinewidth\": 0, \"ticks\": \"\"}}, \"type\": \"scatterpolar\"}], \"scatterpolargl\": [{\"marker\": {\"colorbar\": {\"outlinewidth\": 0, \"ticks\": \"\"}}, \"type\": \"scatterpolargl\"}], \"scatterternary\": [{\"marker\": {\"colorbar\": {\"outlinewidth\": 0, \"ticks\": \"\"}}, \"type\": \"scatterternary\"}], \"surface\": [{\"colorbar\": {\"outlinewidth\": 0, \"ticks\": \"\"}, \"colorscale\": [[0.0, \"#0d0887\"], [0.1111111111111111, \"#46039f\"], [0.2222222222222222, \"#7201a8\"], [0.3333333333333333, \"#9c179e\"], [0.4444444444444444, \"#bd3786\"], [0.5555555555555556, \"#d8576b\"], [0.6666666666666666, \"#ed7953\"], [0.7777777777777778, \"#fb9f3a\"], [0.8888888888888888, \"#fdca26\"], [1.0, \"#f0f921\"]], \"type\": \"surface\"}], \"table\": [{\"cells\": {\"fill\": {\"color\": \"#EBF0F8\"}, \"line\": {\"color\": \"white\"}}, \"header\": {\"fill\": {\"color\": \"#C8D4E3\"}, \"line\": {\"color\": \"white\"}}, \"type\": \"table\"}]}, \"layout\": {\"annotationdefaults\": {\"arrowcolor\": \"#2a3f5f\", \"arrowhead\": 0, \"arrowwidth\": 1}, \"autotypenumbers\": \"strict\", \"coloraxis\": {\"colorbar\": {\"outlinewidth\": 0, \"ticks\": \"\"}}, \"colorscale\": {\"diverging\": [[0, \"#8e0152\"], [0.1, \"#c51b7d\"], [0.2, \"#de77ae\"], [0.3, \"#f1b6da\"], [0.4, \"#fde0ef\"], [0.5, \"#f7f7f7\"], [0.6, \"#e6f5d0\"], [0.7, \"#b8e186\"], [0.8, \"#7fbc41\"], [0.9, \"#4d9221\"], [1, \"#276419\"]], \"sequential\": [[0.0, \"#0d0887\"], [0.1111111111111111, \"#46039f\"], [0.2222222222222222, \"#7201a8\"], [0.3333333333333333, \"#9c179e\"], [0.4444444444444444, \"#bd3786\"], [0.5555555555555556, \"#d8576b\"], [0.6666666666666666, \"#ed7953\"], [0.7777777777777778, \"#fb9f3a\"], [0.8888888888888888, \"#fdca26\"], [1.0, \"#f0f921\"]], \"sequentialminus\": [[0.0, \"#0d0887\"], [0.1111111111111111, \"#46039f\"], [0.2222222222222222, \"#7201a8\"], [0.3333333333333333, \"#9c179e\"], [0.4444444444444444, \"#bd3786\"], [0.5555555555555556, \"#d8576b\"], [0.6666666666666666, \"#ed7953\"], [0.7777777777777778, \"#fb9f3a\"], [0.8888888888888888, \"#fdca26\"], [1.0, \"#f0f921\"]]}, \"colorway\": [\"#636efa\", \"#EF553B\", \"#00cc96\", \"#ab63fa\", \"#FFA15A\", \"#19d3f3\", \"#FF6692\", \"#B6E880\", \"#FF97FF\", \"#FECB52\"], \"font\": {\"color\": \"#2a3f5f\"}, \"geo\": {\"bgcolor\": \"white\", \"lakecolor\": \"white\", \"landcolor\": \"#E5ECF6\", \"showlakes\": true, \"showland\": true, \"subunitcolor\": \"white\"}, \"hoverlabel\": {\"align\": \"left\"}, \"hovermode\": \"closest\", \"mapbox\": {\"style\": \"light\"}, \"paper_bgcolor\": \"white\", \"plot_bgcolor\": \"#E5ECF6\", \"polar\": {\"angularaxis\": {\"gridcolor\": \"white\", \"linecolor\": \"white\", \"ticks\": \"\"}, \"bgcolor\": \"#E5ECF6\", \"radialaxis\": {\"gridcolor\": \"white\", \"linecolor\": \"white\", \"ticks\": \"\"}}, \"scene\": {\"xaxis\": {\"backgroundcolor\": \"#E5ECF6\", \"gridcolor\": \"white\", \"gridwidth\": 2, \"linecolor\": \"white\", \"showbackground\": true, \"ticks\": \"\", \"zerolinecolor\": \"white\"}, \"yaxis\": {\"backgroundcolor\": \"#E5ECF6\", \"gridcolor\": \"white\", \"gridwidth\": 2, \"linecolor\": \"white\", \"showbackground\": true, \"ticks\": \"\", \"zerolinecolor\": \"white\"}, \"zaxis\": {\"backgroundcolor\": \"#E5ECF6\", \"gridcolor\": \"white\", \"gridwidth\": 2, \"linecolor\": \"white\", \"showbackground\": true, \"ticks\": \"\", \"zerolinecolor\": \"white\"}}, \"shapedefaults\": {\"line\": {\"color\": \"#2a3f5f\"}}, \"ternary\": {\"aaxis\": {\"gridcolor\": \"white\", \"linecolor\": \"white\", \"ticks\": \"\"}, \"baxis\": {\"gridcolor\": \"white\", \"linecolor\": \"white\", \"ticks\": \"\"}, \"bgcolor\": \"#E5ECF6\", \"caxis\": {\"gridcolor\": \"white\", \"linecolor\": \"white\", \"ticks\": \"\"}}, \"title\": {\"x\": 0.05}, \"xaxis\": {\"automargin\": true, \"gridcolor\": \"white\", \"linecolor\": \"white\", \"ticks\": \"\", \"title\": {\"standoff\": 15}, \"zerolinecolor\": \"white\", \"zerolinewidth\": 2}, \"yaxis\": {\"automargin\": true, \"gridcolor\": \"white\", \"linecolor\": \"white\", \"ticks\": \"\", \"title\": {\"standoff\": 15}, \"zerolinecolor\": \"white\", \"zerolinewidth\": 2}}}, \"title\": {\"font\": {\"color\": \"#4D5663\"}, \"text\": \"Strategy Change Points\"}, \"xaxis\": {\"gridcolor\": \"#E1E5ED\", \"showgrid\": true, \"tickfont\": {\"color\": \"#4D5663\"}, \"title\": {\"font\": {\"color\": \"#4D5663\"}, \"text\": \"Date\"}, \"zerolinecolor\": \"#E1E5ED\"}, \"yaxis\": {\"gridcolor\": \"#E1E5ED\", \"showgrid\": true, \"tickfont\": {\"color\": \"#4D5663\"}, \"title\": {\"font\": {\"color\": \"#4D5663\"}, \"text\": \"Strategy Point\"}, \"zerolinecolor\": \"#E1E5ED\"}},                        {\"responsive\": true}                    ).then(function(){\n",
       "                            \n",
       "var gd = document.getElementById('75299f7a-116a-42a2-9be4-b81cbabd0a22');\n",
       "var x = new MutationObserver(function (mutations, observer) {{\n",
       "        var display = window.getComputedStyle(gd).display;\n",
       "        if (!display || display === 'none') {{\n",
       "            console.log([gd, 'removed!']);\n",
       "            Plotly.purge(gd);\n",
       "            observer.disconnect();\n",
       "        }}\n",
       "}});\n",
       "\n",
       "// Listen for the removal of the full notebook cells\n",
       "var notebookContainer = gd.closest('#notebook-container');\n",
       "if (notebookContainer) {{\n",
       "    x.observe(notebookContainer, {childList: true});\n",
       "}}\n",
       "\n",
       "// Listen for the clearing of the current output cell\n",
       "var outputEl = gd.closest('.output');\n",
       "if (outputEl) {{\n",
       "    x.observe(outputEl, {childList: true});\n",
       "}}\n",
       "\n",
       "                        })                };                });            </script>        </div>"
      ]
     },
     "metadata": {},
     "output_type": "display_data"
    }
   ],
   "source": [
    "portfolio_direction = pd.DataFrame(portfolioStocks,columns=['Indicator'])\n",
    "portfolio_direction['Date'] = pd.date_range(start='19850228', periods=433, freq='M')\n",
    "portfolio_direction = portfolio_direction.set_index('Date')\n",
    "plyo.iplot(  \n",
    "    portfolio_direction[['Indicator']].iplot(asFigure=True,\n",
    "                                                 title='Strategy Change Points',  \n",
    "             xTitle='Date',  \n",
    "             yTitle='Strategy Point',\n",
    "                                                 mode={'Indicator': 'markers'},  \n",
    "             symbol={'Indicator': 'diamond'},  \n",
    "             size=4.5,  \n",
    "             colors={'Indicator': 'orange'}, ),)"
   ]
  },
  {
   "cell_type": "markdown",
   "metadata": {},
   "source": [
    "# Returns Comparison"
   ]
  },
  {
   "cell_type": "markdown",
   "metadata": {},
   "source": [
    "It is equally important to compare the return rate in both portfolios as well. If we analyse the chart below, we notice that there are a lot of high and low isolated blue points which indicate points where Louise switched to the risk-free strategy, we notice a lot of high points in the chart where Louise did not hold her portfolio in VFINX causing large losses. So overall, we notice that the overall return over time for the naive strategy is better owing to these high points (blue) in the chart."
   ]
  },
  {
   "cell_type": "code",
   "execution_count": 19,
   "metadata": {
    "scrolled": true
   },
   "outputs": [],
   "source": [
    "vfinx_return = df_n.set_index('Date')\n",
    "portfolio_return = pd.DataFrame(returnsLst,columns=['Louise Returns'])\n",
    "portfolio_return['Date'] = pd.date_range(start='19850228', periods=432, freq='M')\n",
    "portfolio_return = portfolio_return.set_index('Date')\n",
    "portfolio_return = pd.merge(portfolio_return,vfinx_return, on = 'Date')\n",
    "portfolio_return = pd.merge(portfolio_return,louise_invest, on = 'Date')\n",
    "portfolio_return = portfolio_return[['Louise Returns','R','Naive Portfolio','Louise Portfolio']]\n",
    "portfolio_return.columns = ['Louise Returns', 'Naive Returns','Naive Portfolio','Louise Portfolio']\n"
   ]
  },
  {
   "cell_type": "code",
   "execution_count": 20,
   "metadata": {},
   "outputs": [
    {
     "data": {
      "application/vnd.plotly.v1+json": {
       "config": {
        "linkText": "Export to plot.ly",
        "plotlyServerURL": "https://plot.ly",
        "showLink": false
       },
       "data": [
        {
         "line": {
          "color": "orange",
          "dash": "solid",
          "shape": "linear",
          "width": 1.3
         },
         "marker": {
          "size": 5.5,
          "symbol": "circle"
         },
         "mode": "lines+markers",
         "name": "Louise Returns",
         "text": "",
         "type": "scatter",
         "x": [
          "1985-02-28",
          "1985-03-31",
          "1985-04-30",
          "1985-05-31",
          "1985-06-30",
          "1985-07-31",
          "1985-08-31",
          "1985-09-30",
          "1985-10-31",
          "1985-11-30",
          "1985-12-31",
          "1986-01-31",
          "1986-02-28",
          "1986-03-31",
          "1986-04-30",
          "1986-05-31",
          "1986-06-30",
          "1986-07-31",
          "1986-08-31",
          "1986-09-30",
          "1986-10-31",
          "1986-11-30",
          "1986-12-31",
          "1987-01-31",
          "1987-02-28",
          "1987-03-31",
          "1987-04-30",
          "1987-05-31",
          "1987-06-30",
          "1987-07-31",
          "1987-08-31",
          "1987-09-30",
          "1987-10-31",
          "1987-11-30",
          "1987-12-31",
          "1988-01-31",
          "1988-02-29",
          "1988-03-31",
          "1988-04-30",
          "1988-05-31",
          "1988-06-30",
          "1988-07-31",
          "1988-08-31",
          "1988-09-30",
          "1988-10-31",
          "1988-11-30",
          "1988-12-31",
          "1989-01-31",
          "1989-02-28",
          "1989-03-31",
          "1989-04-30",
          "1989-05-31",
          "1989-06-30",
          "1989-07-31",
          "1989-08-31",
          "1989-09-30",
          "1989-10-31",
          "1989-11-30",
          "1989-12-31",
          "1990-01-31",
          "1990-02-28",
          "1990-03-31",
          "1990-04-30",
          "1990-05-31",
          "1990-06-30",
          "1990-07-31",
          "1990-08-31",
          "1990-09-30",
          "1990-10-31",
          "1990-11-30",
          "1990-12-31",
          "1991-01-31",
          "1991-02-28",
          "1991-03-31",
          "1991-04-30",
          "1991-05-31",
          "1991-06-30",
          "1991-07-31",
          "1991-08-31",
          "1991-09-30",
          "1991-10-31",
          "1991-11-30",
          "1991-12-31",
          "1992-01-31",
          "1992-02-29",
          "1992-03-31",
          "1992-04-30",
          "1992-05-31",
          "1992-06-30",
          "1992-07-31",
          "1992-08-31",
          "1992-09-30",
          "1992-10-31",
          "1992-11-30",
          "1992-12-31",
          "1993-01-31",
          "1993-02-28",
          "1993-03-31",
          "1993-04-30",
          "1993-05-31",
          "1993-06-30",
          "1993-07-31",
          "1993-08-31",
          "1993-09-30",
          "1993-10-31",
          "1993-11-30",
          "1993-12-31",
          "1994-01-31",
          "1994-02-28",
          "1994-03-31",
          "1994-04-30",
          "1994-05-31",
          "1994-06-30",
          "1994-07-31",
          "1994-08-31",
          "1994-09-30",
          "1994-10-31",
          "1994-11-30",
          "1994-12-31",
          "1995-01-31",
          "1995-02-28",
          "1995-03-31",
          "1995-04-30",
          "1995-05-31",
          "1995-06-30",
          "1995-07-31",
          "1995-08-31",
          "1995-09-30",
          "1995-10-31",
          "1995-11-30",
          "1995-12-31",
          "1996-01-31",
          "1996-02-29",
          "1996-03-31",
          "1996-04-30",
          "1996-05-31",
          "1996-06-30",
          "1996-07-31",
          "1996-08-31",
          "1996-09-30",
          "1996-10-31",
          "1996-11-30",
          "1996-12-31",
          "1997-01-31",
          "1997-02-28",
          "1997-03-31",
          "1997-04-30",
          "1997-05-31",
          "1997-06-30",
          "1997-07-31",
          "1997-08-31",
          "1997-09-30",
          "1997-10-31",
          "1997-11-30",
          "1997-12-31",
          "1998-01-31",
          "1998-02-28",
          "1998-03-31",
          "1998-04-30",
          "1998-05-31",
          "1998-06-30",
          "1998-07-31",
          "1998-08-31",
          "1998-09-30",
          "1998-10-31",
          "1998-11-30",
          "1998-12-31",
          "1999-01-31",
          "1999-02-28",
          "1999-03-31",
          "1999-04-30",
          "1999-05-31",
          "1999-06-30",
          "1999-07-31",
          "1999-08-31",
          "1999-09-30",
          "1999-10-31",
          "1999-11-30",
          "1999-12-31",
          "2000-01-31",
          "2000-02-29",
          "2000-03-31",
          "2000-04-30",
          "2000-05-31",
          "2000-06-30",
          "2000-07-31",
          "2000-08-31",
          "2000-09-30",
          "2000-10-31",
          "2000-11-30",
          "2000-12-31",
          "2001-01-31",
          "2001-02-28",
          "2001-03-31",
          "2001-04-30",
          "2001-05-31",
          "2001-06-30",
          "2001-07-31",
          "2001-08-31",
          "2001-09-30",
          "2001-10-31",
          "2001-11-30",
          "2001-12-31",
          "2002-01-31",
          "2002-02-28",
          "2002-03-31",
          "2002-04-30",
          "2002-05-31",
          "2002-06-30",
          "2002-07-31",
          "2002-08-31",
          "2002-09-30",
          "2002-10-31",
          "2002-11-30",
          "2002-12-31",
          "2003-01-31",
          "2003-02-28",
          "2003-03-31",
          "2003-04-30",
          "2003-05-31",
          "2003-06-30",
          "2003-07-31",
          "2003-08-31",
          "2003-09-30",
          "2003-10-31",
          "2003-11-30",
          "2003-12-31",
          "2004-01-31",
          "2004-02-29",
          "2004-03-31",
          "2004-04-30",
          "2004-05-31",
          "2004-06-30",
          "2004-07-31",
          "2004-08-31",
          "2004-09-30",
          "2004-10-31",
          "2004-11-30",
          "2004-12-31",
          "2005-01-31",
          "2005-02-28",
          "2005-03-31",
          "2005-04-30",
          "2005-05-31",
          "2005-06-30",
          "2005-07-31",
          "2005-08-31",
          "2005-09-30",
          "2005-10-31",
          "2005-11-30",
          "2005-12-31",
          "2006-01-31",
          "2006-02-28",
          "2006-03-31",
          "2006-04-30",
          "2006-05-31",
          "2006-06-30",
          "2006-07-31",
          "2006-08-31",
          "2006-09-30",
          "2006-10-31",
          "2006-11-30",
          "2006-12-31",
          "2007-01-31",
          "2007-02-28",
          "2007-03-31",
          "2007-04-30",
          "2007-05-31",
          "2007-06-30",
          "2007-07-31",
          "2007-08-31",
          "2007-09-30",
          "2007-10-31",
          "2007-11-30",
          "2007-12-31",
          "2008-01-31",
          "2008-02-29",
          "2008-03-31",
          "2008-04-30",
          "2008-05-31",
          "2008-06-30",
          "2008-07-31",
          "2008-08-31",
          "2008-09-30",
          "2008-10-31",
          "2008-11-30",
          "2008-12-31",
          "2009-01-31",
          "2009-02-28",
          "2009-03-31",
          "2009-04-30",
          "2009-05-31",
          "2009-06-30",
          "2009-07-31",
          "2009-08-31",
          "2009-09-30",
          "2009-10-31",
          "2009-11-30",
          "2009-12-31",
          "2010-01-31",
          "2010-02-28",
          "2010-03-31",
          "2010-04-30",
          "2010-05-31",
          "2010-06-30",
          "2010-07-31",
          "2010-08-31",
          "2010-09-30",
          "2010-10-31",
          "2010-11-30",
          "2010-12-31",
          "2011-01-31",
          "2011-02-28",
          "2011-03-31",
          "2011-04-30",
          "2011-05-31",
          "2011-06-30",
          "2011-07-31",
          "2011-08-31",
          "2011-09-30",
          "2011-10-31",
          "2011-11-30",
          "2011-12-31",
          "2012-01-31",
          "2012-02-29",
          "2012-03-31",
          "2012-04-30",
          "2012-05-31",
          "2012-06-30",
          "2012-07-31",
          "2012-08-31",
          "2012-09-30",
          "2012-10-31",
          "2012-11-30",
          "2012-12-31",
          "2013-01-31",
          "2013-02-28",
          "2013-03-31",
          "2013-04-30",
          "2013-05-31",
          "2013-06-30",
          "2013-07-31",
          "2013-08-31",
          "2013-09-30",
          "2013-10-31",
          "2013-11-30",
          "2013-12-31",
          "2014-01-31",
          "2014-02-28",
          "2014-03-31",
          "2014-04-30",
          "2014-05-31",
          "2014-06-30",
          "2014-07-31",
          "2014-08-31",
          "2014-09-30",
          "2014-10-31",
          "2014-11-30",
          "2014-12-31",
          "2015-01-31",
          "2015-02-28",
          "2015-03-31",
          "2015-04-30",
          "2015-05-31",
          "2015-06-30",
          "2015-07-31",
          "2015-08-31",
          "2015-09-30",
          "2015-10-31",
          "2015-11-30",
          "2015-12-31",
          "2016-01-31",
          "2016-02-29",
          "2016-03-31",
          "2016-04-30",
          "2016-05-31",
          "2016-06-30",
          "2016-07-31",
          "2016-08-31",
          "2016-09-30",
          "2016-10-31",
          "2016-11-30",
          "2016-12-31",
          "2017-01-31",
          "2017-02-28",
          "2017-03-31",
          "2017-04-30",
          "2017-05-31",
          "2017-06-30",
          "2017-07-31",
          "2017-08-31",
          "2017-09-30",
          "2017-10-31",
          "2017-11-30",
          "2017-12-31",
          "2018-01-31",
          "2018-02-28",
          "2018-03-31",
          "2018-04-30",
          "2018-05-31",
          "2018-06-30",
          "2018-07-31",
          "2018-08-31",
          "2018-09-30",
          "2018-10-31",
          "2018-11-30",
          "2018-12-31",
          "2019-01-31",
          "2019-02-28",
          "2019-03-31",
          "2019-04-30",
          "2019-05-31",
          "2019-06-30",
          "2019-07-31",
          "2019-08-31",
          "2019-09-30",
          "2019-10-31",
          "2019-11-30",
          "2019-12-31",
          "2020-01-31",
          "2020-02-29",
          "2020-03-31",
          "2020-04-30",
          "2020-05-31",
          "2020-06-30",
          "2020-07-31",
          "2020-08-31",
          "2020-09-30",
          "2020-10-31",
          "2020-11-30",
          "2020-12-31",
          "2021-01-31"
         ],
         "y": [
          1.3809613415549205,
          -0.8454877092284763,
          0.5712950262662053,
          6.03327349759708,
          0.66,
          0.55,
          -0.6693762049297058,
          -3.9532616614361804,
          0.6,
          0.65,
          0.61,
          1.9717807167298984,
          7.579064516126088,
          4.750357079328116,
          -0.6578244716347825,
          5.453778551874033,
          0.9974012373828778,
          -5.116366197191724,
          7.450489474923971,
          -8.956335172770613,
          6.391722067547589,
          2.553539823420947,
          -11.131486834197634,
          14.864035474301463,
          3.96510766935394,
          2.239256994009997,
          -0.4011487059759733,
          1.0369334217409154,
          4.413336777709453,
          5.5272690484510445,
          3.841465416884704,
          -2.827111502746582,
          -21.288630798683684,
          -8.18506180836993,
          0.35,
          0.39,
          0.29,
          -3.7134285822928215,
          1.7236781675027624,
          0.8098549314198289,
          3.8638221589642363,
          0.30336487611064555,
          -3.401154665365591,
          3.559106063338935,
          0.62,
          0.61,
          -0.7667074810139507,
          8.769186495442515,
          -2.468227032249215,
          1.019318463225205,
          5.846628335936721,
          4.0357204578520545,
          -1.1446724486905868,
          9.617159019419352,
          1.8589720237034868,
          -0.9270118191382015,
          -1.8177182487035592,
          2.0359717063580307,
          0.69,
          0.61,
          1.2746995711970799,
          1.8879774471041388,
          -1.9628515138431113,
          9.692763854693997,
          -1.1839596851582423,
          0.18224499737535815,
          -9.03228050449999,
          0.66,
          0.6,
          0.68,
          0.57,
          0.6,
          7.116548394961009,
          1.6895973399161823,
          0.7026084021356738,
          4.272030430705831,
          -5.0403305666770315,
          5.16079536646552,
          2.333178006169412,
          -2.1473907482822185,
          1.8230163274365774,
          -4.010700238094788,
          9.49860716906783,
          -0.28982188152536503,
          1.2441304311163526,
          -2.483313862004255,
          3.5031470502919326,
          0.48468343245564594,
          -2.0563645484947046,
          4.643483710079277,
          -2.0677335601558933,
          0.610512989260914,
          0.8878153428073521,
          3.4022139264590745,
          0.5605490980752359,
          1.2094277452026736,
          1.355900731942672,
          1.5050187415662997,
          -1.915551617686595,
          2.6531683410062845,
          -0.25842230479694583,
          0.09777228776131075,
          3.785261533632922,
          -1.2992706065155568,
          2.604265702056918,
          -0.9955252512625967,
          0.1599904023833032,
          4.4749967113525635,
          -2.714644067921035,
          -5.036325865805235,
          1.7955719598877318,
          0.27,
          0.31,
          3.8121283868050693,
          4.075948106620086,
          -2.937284670050122,
          2.7621571877291418,
          -3.6546906255901623,
          0,
          3.7892176199622707,
          3.8793055643776553,
          2.467762257455175,
          3.4296969499326035,
          3.954428546814004,
          1.8721676917764052,
          3.748402479438373,
          0.26494427879473204,
          3.7939526027294557,
          0.036980664873320634,
          4.380368638824006,
          0.7169040841638941,
          4.397937578355093,
          0.9235651697243163,
          0.5491507090493508,
          1.8229398270291242,
          2.544368151336762,
          0.03184524181285564,
          -4.085072364698783,
          2.0961778271751497,
          5.2468701709359244,
          3.106863458369258,
          7.5636942067395685,
          -3.123751619346493,
          7.175706775450941,
          0.7894523504035078,
          -4.537459490161455,
          6.34278840537168,
          6.0881612094759285,
          4.115303447911867,
          8.313593529393382,
          -5.609045820538261,
          5.147690776271618,
          -3.057294479632089,
          4.598562132247475,
          0.5020986219671508,
          1.6894586639604192,
          7.192285153367872,
          4.701850645914507,
          1.2745773694826878,
          -1.7435482665707935,
          3.805196422649093,
          -0.7993055405375316,
          -14.473561304009586,
          6.11599992774654,
          0.46,
          0.32,
          5.032736573415586,
          4.688566798292659,
          -3.124495297944463,
          3.3643921628987217,
          4.086275394317118,
          -2.3890741003234517,
          5.226962591294182,
          -2.827333335591109,
          -0.4964972439095994,
          -3.026551678873135,
          0.39,
          0.39,
          0.36,
          -4.7389440681120165,
          -1.9063411716820688,
          9.526469492726509,
          0.47,
          0.46,
          0.5,
          0.4,
          0.48,
          0.5,
          0.51,
          0.56,
          0.51,
          0.5,
          0.54,
          -6.611411565008407,
          8.059244695683287,
          0.39,
          0.32,
          -0.7570241430274405,
          -6.273994986418863,
          0.31,
          0.28,
          0.22,
          0.17,
          -1.117758237836386,
          -1.9361561244870984,
          3.4600460656805554,
          0.13,
          0.15,
          0.14,
          0.13,
          0.15,
          0.14,
          0.14,
          0.14,
          0.12,
          -2.1262498103261973,
          -1.518549171637651,
          0.09,
          0.1,
          0.1,
          0.9305781998442786,
          2.0763900684802383,
          1.9324892866552368,
          -1.4567295957204962,
          6.051779204657404,
          0.8642443840141789,
          4.733280406406037,
          2.295272629015477,
          1.3774675615407128,
          -1.8588758489463397,
          -1.2307820142275605,
          1.3578746903166072,
          0.06,
          0.08,
          0.3826394747792117,
          0.664602303504469,
          1.9212484359511617,
          4.045907234375878,
          2.629197964427954,
          -1.7275546528347063,
          2.09363535048519,
          -2.1496574503741317,
          -1.5210756859878494,
          3.1674523197411375,
          0.24,
          0.23,
          0.24,
          0.3,
          0.29,
          0.27,
          0.31,
          0.32,
          0.35,
          0.34,
          1.7466041562405277,
          -2.896590348776018,
          -0.2898252531256751,
          1.027942039763441,
          2.3619300611866123,
          2.124836303847366,
          3.6932949996981046,
          1.8813114510225715,
          0.8962300403801082,
          2.0012349818748554,
          -1.969228933179068,
          0.6927079012070791,
          4.852822852764249,
          3.4770483854079437,
          -2.072724361285261,
          -2.69764741088393,
          1.4983108921961197,
          0.42,
          0.32,
          -4.186765444468277,
          -1.242274415786715,
          -5.490733207663878,
          0.21,
          0.13,
          0.17,
          0.18,
          0.18,
          -0.36718888865907573,
          1.446309893417852,
          0.13,
          0.15,
          0.08,
          0.03,
          0,
          0,
          0.01,
          0.02,
          0.01,
          -0.30592996589530186,
          8.146615528420288,
          3.5989160177352764,
          3.20906219492334,
          -1.376185351312309,
          5.981364684602819,
          1.3024076935753248,
          -2.991066943831655,
          3.091847513892998,
          5.586615078534352,
          1.991134427419805,
          -7.995950624485215,
          -5.731043729327734,
          7.542346648511145,
          0.01,
          0.01,
          0.01,
          0.01,
          6.21789871144145,
          2.7933426445593046,
          3.41629403261845,
          -0.3915398349339072,
          3.383087825990083,
          -1.1454156118673287,
          -2.1161620480114607,
          -1.6039147628036154,
          0,
          0.01,
          0,
          0,
          0,
          0,
          0,
          2.853059538631908,
          -0.22443498909880955,
          -6.017833915947756,
          3.597665118787563,
          0,
          0,
          2.082689394458237,
          -1.3848112642234733,
          0.5599538909272006,
          0.21361198037621598,
          5.892244845869454,
          1.3388905055939704,
          3.2781083832997604,
          2.359287615599759,
          2.327460211321797,
          -1.8170006266454708,
          5.572743035297423,
          -2.9118883593752143,
          2.6350850884301558,
          5.078739203897675,
          3.0284134357106973,
          1.987562536579368,
          -2.96837217520477,
          4.560634142667874,
          0.39550242600348007,
          1.1525941108137427,
          2.3348929122021023,
          1.624178553224187,
          -0.9722125927827618,
          3.987203460601041,
          -1.8551319270492916,
          2.879213088407262,
          2.682403948540335,
          -0.7889304418434717,
          -2.488938300629273,
          5.73381439888494,
          0,
          0,
          0,
          0,
          2.529062358877887,
          -6.041565343734801,
          -2.979520148275361,
          8.960824542143753,
          0,
          0,
          0.01,
          0.01,
          0.02,
          0.02,
          0.01,
          -0.22154208261414565,
          4.169128737781014,
          0.1295068796343335,
          -0.4178105623771855,
          -1.4069559086304362,
          0.02,
          0.01,
          0.03,
          3.962727538779598,
          -0.3427717327142865,
          1.4614254745918043,
          1.393727945488843,
          0.18357981384173883,
          2.4782074481019656,
          0.29343513905082386,
          1.5634174243059462,
          2.817498909471139,
          3.0593420581845665,
          0.6442747303172291,
          6.193110004765479,
          -3.6984379569731884,
          -2.968914583761917,
          0.7960531579347618,
          0.14,
          0.14,
          4.162294039401893,
          3.2462711939082123,
          0.1264976834878917,
          -6.451545993631081,
          2.026656143146144,
          -9.50184668692281,
          8.54265384700248,
          3.2005214199599674,
          1.3955676425583485,
          4.594624674857406,
          -6.3646061953390065,
          6.514657310879346,
          1.9188331473656284,
          -1.5911024622475733,
          1.4064280987466482,
          2.6136897248994373,
          3.620432397944917,
          2.534461418855738,
          0.41109580297642445,
          -8.241331904838045,
          -12.755538389537824,
          0.12,
          0,
          0.01,
          6.1299494455465675,
          7.401888650397859,
          -4.393228829944418,
          -2.2769897317818533,
          10.935639766428684,
          0.01,
          0.01
         ]
        },
        {
         "line": {
          "color": "blue",
          "dash": "solid",
          "shape": "linear",
          "width": 1.3
         },
         "marker": {
          "size": 5.5,
          "symbol": "diamond"
         },
         "mode": "markers",
         "name": "Naive Returns",
         "text": "",
         "type": "scatter",
         "x": [
          "1985-02-28",
          "1985-03-31",
          "1985-04-30",
          "1985-05-31",
          "1985-06-30",
          "1985-07-31",
          "1985-08-31",
          "1985-09-30",
          "1985-10-31",
          "1985-11-30",
          "1985-12-31",
          "1986-01-31",
          "1986-02-28",
          "1986-03-31",
          "1986-04-30",
          "1986-05-31",
          "1986-06-30",
          "1986-07-31",
          "1986-08-31",
          "1986-09-30",
          "1986-10-31",
          "1986-11-30",
          "1986-12-31",
          "1987-01-31",
          "1987-02-28",
          "1987-03-31",
          "1987-04-30",
          "1987-05-31",
          "1987-06-30",
          "1987-07-31",
          "1987-08-31",
          "1987-09-30",
          "1987-10-31",
          "1987-11-30",
          "1987-12-31",
          "1988-01-31",
          "1988-02-29",
          "1988-03-31",
          "1988-04-30",
          "1988-05-31",
          "1988-06-30",
          "1988-07-31",
          "1988-08-31",
          "1988-09-30",
          "1988-10-31",
          "1988-11-30",
          "1988-12-31",
          "1989-01-31",
          "1989-02-28",
          "1989-03-31",
          "1989-04-30",
          "1989-05-31",
          "1989-06-30",
          "1989-07-31",
          "1989-08-31",
          "1989-09-30",
          "1989-10-31",
          "1989-11-30",
          "1989-12-31",
          "1990-01-31",
          "1990-02-28",
          "1990-03-31",
          "1990-04-30",
          "1990-05-31",
          "1990-06-30",
          "1990-07-31",
          "1990-08-31",
          "1990-09-30",
          "1990-10-31",
          "1990-11-30",
          "1990-12-31",
          "1991-01-31",
          "1991-02-28",
          "1991-03-31",
          "1991-04-30",
          "1991-05-31",
          "1991-06-30",
          "1991-07-31",
          "1991-08-31",
          "1991-09-30",
          "1991-10-31",
          "1991-11-30",
          "1991-12-31",
          "1992-01-31",
          "1992-02-29",
          "1992-03-31",
          "1992-04-30",
          "1992-05-31",
          "1992-06-30",
          "1992-07-31",
          "1992-08-31",
          "1992-09-30",
          "1992-10-31",
          "1992-11-30",
          "1992-12-31",
          "1993-01-31",
          "1993-02-28",
          "1993-03-31",
          "1993-04-30",
          "1993-05-31",
          "1993-06-30",
          "1993-07-31",
          "1993-08-31",
          "1993-09-30",
          "1993-10-31",
          "1993-11-30",
          "1993-12-31",
          "1994-01-31",
          "1994-02-28",
          "1994-03-31",
          "1994-04-30",
          "1994-05-31",
          "1994-06-30",
          "1994-07-31",
          "1994-08-31",
          "1994-09-30",
          "1994-10-31",
          "1994-11-30",
          "1994-12-31",
          "1995-01-31",
          "1995-02-28",
          "1995-03-31",
          "1995-04-30",
          "1995-05-31",
          "1995-06-30",
          "1995-07-31",
          "1995-08-31",
          "1995-09-30",
          "1995-10-31",
          "1995-11-30",
          "1995-12-31",
          "1996-01-31",
          "1996-02-29",
          "1996-03-31",
          "1996-04-30",
          "1996-05-31",
          "1996-06-30",
          "1996-07-31",
          "1996-08-31",
          "1996-09-30",
          "1996-10-31",
          "1996-11-30",
          "1996-12-31",
          "1997-01-31",
          "1997-02-28",
          "1997-03-31",
          "1997-04-30",
          "1997-05-31",
          "1997-06-30",
          "1997-07-31",
          "1997-08-31",
          "1997-09-30",
          "1997-10-31",
          "1997-11-30",
          "1997-12-31",
          "1998-01-31",
          "1998-02-28",
          "1998-03-31",
          "1998-04-30",
          "1998-05-31",
          "1998-06-30",
          "1998-07-31",
          "1998-08-31",
          "1998-09-30",
          "1998-10-31",
          "1998-11-30",
          "1998-12-31",
          "1999-01-31",
          "1999-02-28",
          "1999-03-31",
          "1999-04-30",
          "1999-05-31",
          "1999-06-30",
          "1999-07-31",
          "1999-08-31",
          "1999-09-30",
          "1999-10-31",
          "1999-11-30",
          "1999-12-31",
          "2000-01-31",
          "2000-02-29",
          "2000-03-31",
          "2000-04-30",
          "2000-05-31",
          "2000-06-30",
          "2000-07-31",
          "2000-08-31",
          "2000-09-30",
          "2000-10-31",
          "2000-11-30",
          "2000-12-31",
          "2001-01-31",
          "2001-02-28",
          "2001-03-31",
          "2001-04-30",
          "2001-05-31",
          "2001-06-30",
          "2001-07-31",
          "2001-08-31",
          "2001-09-30",
          "2001-10-31",
          "2001-11-30",
          "2001-12-31",
          "2002-01-31",
          "2002-02-28",
          "2002-03-31",
          "2002-04-30",
          "2002-05-31",
          "2002-06-30",
          "2002-07-31",
          "2002-08-31",
          "2002-09-30",
          "2002-10-31",
          "2002-11-30",
          "2002-12-31",
          "2003-01-31",
          "2003-02-28",
          "2003-03-31",
          "2003-04-30",
          "2003-05-31",
          "2003-06-30",
          "2003-07-31",
          "2003-08-31",
          "2003-09-30",
          "2003-10-31",
          "2003-11-30",
          "2003-12-31",
          "2004-01-31",
          "2004-02-29",
          "2004-03-31",
          "2004-04-30",
          "2004-05-31",
          "2004-06-30",
          "2004-07-31",
          "2004-08-31",
          "2004-09-30",
          "2004-10-31",
          "2004-11-30",
          "2004-12-31",
          "2005-01-31",
          "2005-02-28",
          "2005-03-31",
          "2005-04-30",
          "2005-05-31",
          "2005-06-30",
          "2005-07-31",
          "2005-08-31",
          "2005-09-30",
          "2005-10-31",
          "2005-11-30",
          "2005-12-31",
          "2006-01-31",
          "2006-02-28",
          "2006-03-31",
          "2006-04-30",
          "2006-05-31",
          "2006-06-30",
          "2006-07-31",
          "2006-08-31",
          "2006-09-30",
          "2006-10-31",
          "2006-11-30",
          "2006-12-31",
          "2007-01-31",
          "2007-02-28",
          "2007-03-31",
          "2007-04-30",
          "2007-05-31",
          "2007-06-30",
          "2007-07-31",
          "2007-08-31",
          "2007-09-30",
          "2007-10-31",
          "2007-11-30",
          "2007-12-31",
          "2008-01-31",
          "2008-02-29",
          "2008-03-31",
          "2008-04-30",
          "2008-05-31",
          "2008-06-30",
          "2008-07-31",
          "2008-08-31",
          "2008-09-30",
          "2008-10-31",
          "2008-11-30",
          "2008-12-31",
          "2009-01-31",
          "2009-02-28",
          "2009-03-31",
          "2009-04-30",
          "2009-05-31",
          "2009-06-30",
          "2009-07-31",
          "2009-08-31",
          "2009-09-30",
          "2009-10-31",
          "2009-11-30",
          "2009-12-31",
          "2010-01-31",
          "2010-02-28",
          "2010-03-31",
          "2010-04-30",
          "2010-05-31",
          "2010-06-30",
          "2010-07-31",
          "2010-08-31",
          "2010-09-30",
          "2010-10-31",
          "2010-11-30",
          "2010-12-31",
          "2011-01-31",
          "2011-02-28",
          "2011-03-31",
          "2011-04-30",
          "2011-05-31",
          "2011-06-30",
          "2011-07-31",
          "2011-08-31",
          "2011-09-30",
          "2011-10-31",
          "2011-11-30",
          "2011-12-31",
          "2012-01-31",
          "2012-02-29",
          "2012-03-31",
          "2012-04-30",
          "2012-05-31",
          "2012-06-30",
          "2012-07-31",
          "2012-08-31",
          "2012-09-30",
          "2012-10-31",
          "2012-11-30",
          "2012-12-31",
          "2013-01-31",
          "2013-02-28",
          "2013-03-31",
          "2013-04-30",
          "2013-05-31",
          "2013-06-30",
          "2013-07-31",
          "2013-08-31",
          "2013-09-30",
          "2013-10-31",
          "2013-11-30",
          "2013-12-31",
          "2014-01-31",
          "2014-02-28",
          "2014-03-31",
          "2014-04-30",
          "2014-05-31",
          "2014-06-30",
          "2014-07-31",
          "2014-08-31",
          "2014-09-30",
          "2014-10-31",
          "2014-11-30",
          "2014-12-31",
          "2015-01-31",
          "2015-02-28",
          "2015-03-31",
          "2015-04-30",
          "2015-05-31",
          "2015-06-30",
          "2015-07-31",
          "2015-08-31",
          "2015-09-30",
          "2015-10-31",
          "2015-11-30",
          "2015-12-31",
          "2016-01-31",
          "2016-02-29",
          "2016-03-31",
          "2016-04-30",
          "2016-05-31",
          "2016-06-30",
          "2016-07-31",
          "2016-08-31",
          "2016-09-30",
          "2016-10-31",
          "2016-11-30",
          "2016-12-31",
          "2017-01-31",
          "2017-02-28",
          "2017-03-31",
          "2017-04-30",
          "2017-05-31",
          "2017-06-30",
          "2017-07-31",
          "2017-08-31",
          "2017-09-30",
          "2017-10-31",
          "2017-11-30",
          "2017-12-31",
          "2018-01-31",
          "2018-02-28",
          "2018-03-31",
          "2018-04-30",
          "2018-05-31",
          "2018-06-30",
          "2018-07-31",
          "2018-08-31",
          "2018-09-30",
          "2018-10-31",
          "2018-11-30",
          "2018-12-31",
          "2019-01-31",
          "2019-02-28",
          "2019-03-31",
          "2019-04-30",
          "2019-05-31",
          "2019-06-30",
          "2019-07-31",
          "2019-08-31",
          "2019-09-30",
          "2019-10-31",
          "2019-11-30",
          "2019-12-31",
          "2020-01-31",
          "2020-02-29",
          "2020-03-31",
          "2020-04-30",
          "2020-05-31",
          "2020-06-30",
          "2020-07-31",
          "2020-08-31",
          "2020-09-30",
          "2020-10-31",
          "2020-11-30",
          "2020-12-31",
          "2021-01-31"
         ],
         "y": [
          1.3809613415549205,
          -0.8454877092284763,
          0.5712950262662053,
          6.03327349759708,
          0.6272047766660682,
          0.5791559703768989,
          -0.6693762049297058,
          -3.9532616614361804,
          5.279698214032202,
          6.9444293800256185,
          -3.6865715459937998,
          1.9717807167298984,
          7.579064516126088,
          4.750357079328116,
          -0.6578244716347825,
          5.453778551874033,
          0.9974012373828778,
          -5.116366197191724,
          7.450489474923971,
          -8.956335172770613,
          6.391722067547589,
          2.553539823420947,
          -11.131486834197634,
          14.864035474301463,
          3.96510766935394,
          2.239256994009997,
          -0.4011487059759733,
          1.0369334217409154,
          4.413336777709453,
          5.5272690484510445,
          3.841465416884704,
          -2.827111502746582,
          -21.288630798683684,
          -8.18506180836993,
          6.158460300387092,
          4.036457899529822,
          5.374253110574778,
          -3.7134285822928215,
          1.7236781675027624,
          0.8098549314198289,
          3.8638221589642363,
          0.30336487611064555,
          -3.401154665365591,
          3.559106063338935,
          3.4275671926948137,
          -1.4748354906003902,
          -0.7667074810139507,
          8.769186495442515,
          -2.468227032249215,
          1.019318463225205,
          5.846628335936721,
          4.0357204578520545,
          -1.1446724486905868,
          9.617159019419352,
          1.8589720237034868,
          -0.9270118191382015,
          -1.8177182487035592,
          2.0359717063580307,
          -1.2911110996015385,
          -4.895107120082742,
          1.2746995711970799,
          1.8879774471041388,
          -1.9628515138431113,
          9.692763854693997,
          -1.1839596851582423,
          0.18224499737535815,
          -9.03228050449999,
          -5.480329678229657,
          0.19751479092862123,
          6.438335384630278,
          0.5148598222540546,
          6.4504281390219464,
          7.116548394961009,
          1.6895973399161823,
          0.7026084021356738,
          4.272030430705831,
          -5.0403305666770315,
          5.16079536646552,
          2.333178006169412,
          -2.1473907482822185,
          1.8230163274365774,
          -4.010700238094788,
          9.49860716906783,
          -0.28982188152536503,
          1.2441304311163526,
          -2.483313862004255,
          3.5031470502919326,
          0.48468343245564594,
          -2.0563645484947046,
          4.643483710079277,
          -2.0677335601558933,
          0.610512989260914,
          0.8878153428073521,
          3.4022139264590745,
          0.5605490980752359,
          1.2094277452026736,
          1.355900731942672,
          1.5050187415662997,
          -1.915551617686595,
          2.6531683410062845,
          -0.25842230479694583,
          0.09777228776131075,
          3.785261533632922,
          -1.2992706065155568,
          2.604265702056918,
          -0.9955252512625967,
          0.1599904023833032,
          4.4749967113525635,
          -2.714644067921035,
          -5.036325865805235,
          1.7955719598877318,
          1.6037509154593899,
          -2.948016255904906,
          3.8121283868050693,
          4.075948106620086,
          -2.937284670050122,
          2.7621571877291418,
          -3.6546906255901623,
          0,
          3.7892176199622707,
          3.8793055643776553,
          2.467762257455175,
          3.4296969499326035,
          3.954428546814004,
          1.8721676917764052,
          3.748402479438373,
          0.26494427879473204,
          3.7939526027294557,
          0.036980664873320634,
          4.380368638824006,
          0.7169040841638941,
          4.397937578355093,
          0.9235651697243163,
          0.5491507090493508,
          1.8229398270291242,
          2.544368151336762,
          0.03184524181285564,
          -4.085072364698783,
          2.0961778271751497,
          5.2468701709359244,
          3.106863458369258,
          7.5636942067395685,
          -3.123751619346493,
          7.175706775450941,
          0.7894523504035078,
          -4.537459490161455,
          6.34278840537168,
          6.0881612094759285,
          4.115303447911867,
          8.313593529393382,
          -5.609045820538261,
          5.147690776271618,
          -3.057294479632089,
          4.598562132247475,
          0.5020986219671508,
          1.6894586639604192,
          7.192285153367872,
          4.701850645914507,
          1.2745773694826878,
          -1.7435482665707935,
          3.805196422649093,
          -0.7993055405375316,
          -14.473561304009586,
          6.11599992774654,
          8.465503089568083,
          6.071561288281457,
          5.032736573415586,
          4.688566798292659,
          -3.124495297944463,
          3.3643921628987217,
          4.086275394317118,
          -2.3890741003234517,
          5.226962591294182,
          -2.827333335591109,
          -0.4964972439095994,
          -3.026551678873135,
          6.641031089239147,
          2.022973797250738,
          5.233280658143147,
          -4.7389440681120165,
          -1.9063411716820688,
          9.526469492726509,
          -2.7987136860988637,
          -2.0383648868524618,
          2.248506606917977,
          -1.2628261054538514,
          6.189997199088815,
          -5.515617103516057,
          -0.19160128781141594,
          -7.8775661201848095,
          0.19731271592480226,
          3.8707442071284515,
          -9.137746722653727,
          -6.611411565008407,
          8.059244695683287,
          0.6499111790224665,
          -2.6863524284742035,
          -0.7570241430274405,
          -6.273994986418863,
          -8.41997421253009,
          2.2540880599752677,
          7.6537881762447135,
          0.5125726755228266,
          -1.117758237836386,
          -1.9361561244870984,
          3.4600460656805554,
          -5.81866688894348,
          -0.7543892432401944,
          -7.4388876944262545,
          -7.420973924894458,
          0.652601314684631,
          -11.281376922486608,
          9.265234417017009,
          6.156098885279704,
          -6.6274857445164255,
          -2.1262498103261973,
          -1.518549171637651,
          0.5782195545660285,
          8.658652686424094,
          5.263819205329856,
          0.9305781998442786,
          2.0763900684802383,
          1.9324892866552368,
          -1.4567295957204962,
          6.051779204657404,
          0.8642443840141789,
          4.733280406406037,
          2.295272629015477,
          1.3774675615407128,
          -1.8588758489463397,
          -1.2307820142275605,
          1.3578746903166072,
          1.5901684039822506,
          -2.989664896254096,
          0.3826394747792117,
          0.664602303504469,
          1.9212484359511617,
          4.045907234375878,
          2.629197964427954,
          -1.7275546528347063,
          2.09363535048519,
          -2.1496574503741317,
          -1.5210756859878494,
          3.1674523197411375,
          -0.2543672975220068,
          4.100048739921536,
          -0.9131987047844015,
          0.31904434578824414,
          -1.2126358293453765,
          3.7645980873080465,
          -0.49358272934955094,
          3.177873697016098,
          0.25430370631260857,
          0.8286793235941392,
          1.7466041562405277,
          -2.896590348776018,
          -0.2898252531256751,
          1.027942039763441,
          2.3619300611866123,
          2.124836303847366,
          3.6932949996981046,
          1.8813114510225715,
          0.8962300403801082,
          2.0012349818748554,
          -1.969228933179068,
          0.6927079012070791,
          4.852822852764249,
          3.4770483854079437,
          -2.072724361285261,
          -2.69764741088393,
          1.4983108921961197,
          3.2682257710060503,
          2.0291404023718096,
          -4.186765444468277,
          -1.242274415786715,
          -5.490733207663878,
          -3.2514510810511266,
          -0.9276805220011952,
          5.372233324452913,
          1.2845724369356493,
          -8.877895633384947,
          -0.36718888865907573,
          1.446309893417852,
          -9.422961326180202,
          -16.30815732212224,
          -7.174882889619861,
          0.19294224024120066,
          -7.6091692914576186,
          -10.65700608373622,
          8.015848810759053,
          10.331337001055063,
          5.6177093489412355,
          -0.30592996589530186,
          8.146615528420288,
          3.5989160177352764,
          3.20906219492334,
          -1.376185351312309,
          5.981364684602819,
          1.3024076935753248,
          -2.991066943831655,
          3.091847513892998,
          5.586615078534352,
          1.991134427419805,
          -7.995950624485215,
          -5.731043729327734,
          7.542346648511145,
          -4.529800427986896,
          8.365167445749844,
          4.314233870325079,
          0,
          6.21789871144145,
          2.7933426445593046,
          3.41629403261845,
          -0.3915398349339072,
          3.383087825990083,
          -1.1454156118673287,
          -2.1161620480114607,
          -1.6039147628036154,
          -5.446434101793107,
          -7.535273314186353,
          11.485867201196353,
          -0.233633214550244,
          0.4510504308220531,
          5.058839691592887,
          4.306818369481724,
          2.853059538631908,
          -0.22443498909880955,
          -6.017833915947756,
          3.597665118787563,
          1.8738795363034466,
          2.2393474415737025,
          2.082689394458237,
          -1.3848112642234733,
          0.5599538909272006,
          0.21361198037621598,
          5.892244845869454,
          1.3388905055939704,
          3.2781083832997604,
          2.359287615599759,
          2.327460211321797,
          -1.8170006266454708,
          5.572743035297423,
          -2.9118883593752143,
          2.6350850884301558,
          5.078739203897675,
          3.0284134357106973,
          1.987562536579368,
          -2.96837217520477,
          4.560634142667874,
          0.39550242600348007,
          1.1525941108137427,
          2.3348929122021023,
          1.624178553224187,
          -0.9722125927827618,
          3.987203460601041,
          -1.8551319270492916,
          2.879213088407262,
          2.682403948540335,
          -0.7889304418434717,
          -2.488938300629273,
          5.73381439888494,
          -2.0643675251002525,
          1.4386551515689794,
          1.2726072950754341,
          -2.3644874447936393,
          2.529062358877887,
          -6.041565343734801,
          -2.979520148275361,
          8.960824542143753,
          0.28639199136006877,
          -2.1442366092965015,
          -4.450552905072791,
          -0.14518906202245496,
          6.234638261593206,
          0.8869189388406307,
          1.7829321804941678,
          -0.22154208261414565,
          4.169128737781014,
          0.1295068796343335,
          -0.4178105623771855,
          -1.4069559086304362,
          3.699035562546027,
          1.3541929163629174,
          2.4932239022306124,
          3.962727538779598,
          -0.3427717327142865,
          1.4614254745918043,
          1.393727945488843,
          0.18357981384173883,
          2.4782074481019656,
          0.29343513905082386,
          1.5634174243059462,
          2.817498909471139,
          3.0593420581845665,
          0.6442747303172291,
          6.193110004765479,
          -3.6984379569731884,
          -2.968914583761917,
          0.7960531579347618,
          2.3945690205223524,
          0.1636168202534538,
          4.162294039401893,
          3.2462711939082123,
          0.1264976834878917,
          -6.451545993631081,
          2.026656143146144,
          -9.50184668692281,
          8.54265384700248,
          3.2005214199599674,
          1.3955676425583485,
          4.594624674857406,
          -6.3646061953390065,
          6.514657310879346,
          1.9188331473656284,
          -1.5911024622475733,
          1.4064280987466482,
          2.6136897248994373,
          3.620432397944917,
          2.534461418855738,
          0.41109580297642445,
          -8.241331904838045,
          -12.755538389537824,
          13.271938857044695,
          4.755886687670485,
          1.4825873053869953,
          6.1299494455465675,
          7.401888650397859,
          -4.393228829944418,
          -2.2769897317818533,
          10.935639766428684,
          3.4410728321334405,
          -0.6421049619809827
         ]
        }
       ],
       "layout": {
        "legend": {
         "bgcolor": "#F5F6F9",
         "font": {
          "color": "#4D5663"
         }
        },
        "paper_bgcolor": "#F5F6F9",
        "plot_bgcolor": "#F5F6F9",
        "template": {
         "data": {
          "bar": [
           {
            "error_x": {
             "color": "#2a3f5f"
            },
            "error_y": {
             "color": "#2a3f5f"
            },
            "marker": {
             "line": {
              "color": "#E5ECF6",
              "width": 0.5
             }
            },
            "type": "bar"
           }
          ],
          "barpolar": [
           {
            "marker": {
             "line": {
              "color": "#E5ECF6",
              "width": 0.5
             }
            },
            "type": "barpolar"
           }
          ],
          "carpet": [
           {
            "aaxis": {
             "endlinecolor": "#2a3f5f",
             "gridcolor": "white",
             "linecolor": "white",
             "minorgridcolor": "white",
             "startlinecolor": "#2a3f5f"
            },
            "baxis": {
             "endlinecolor": "#2a3f5f",
             "gridcolor": "white",
             "linecolor": "white",
             "minorgridcolor": "white",
             "startlinecolor": "#2a3f5f"
            },
            "type": "carpet"
           }
          ],
          "choropleth": [
           {
            "colorbar": {
             "outlinewidth": 0,
             "ticks": ""
            },
            "type": "choropleth"
           }
          ],
          "contour": [
           {
            "colorbar": {
             "outlinewidth": 0,
             "ticks": ""
            },
            "colorscale": [
             [
              0,
              "#0d0887"
             ],
             [
              0.1111111111111111,
              "#46039f"
             ],
             [
              0.2222222222222222,
              "#7201a8"
             ],
             [
              0.3333333333333333,
              "#9c179e"
             ],
             [
              0.4444444444444444,
              "#bd3786"
             ],
             [
              0.5555555555555556,
              "#d8576b"
             ],
             [
              0.6666666666666666,
              "#ed7953"
             ],
             [
              0.7777777777777778,
              "#fb9f3a"
             ],
             [
              0.8888888888888888,
              "#fdca26"
             ],
             [
              1,
              "#f0f921"
             ]
            ],
            "type": "contour"
           }
          ],
          "contourcarpet": [
           {
            "colorbar": {
             "outlinewidth": 0,
             "ticks": ""
            },
            "type": "contourcarpet"
           }
          ],
          "heatmap": [
           {
            "colorbar": {
             "outlinewidth": 0,
             "ticks": ""
            },
            "colorscale": [
             [
              0,
              "#0d0887"
             ],
             [
              0.1111111111111111,
              "#46039f"
             ],
             [
              0.2222222222222222,
              "#7201a8"
             ],
             [
              0.3333333333333333,
              "#9c179e"
             ],
             [
              0.4444444444444444,
              "#bd3786"
             ],
             [
              0.5555555555555556,
              "#d8576b"
             ],
             [
              0.6666666666666666,
              "#ed7953"
             ],
             [
              0.7777777777777778,
              "#fb9f3a"
             ],
             [
              0.8888888888888888,
              "#fdca26"
             ],
             [
              1,
              "#f0f921"
             ]
            ],
            "type": "heatmap"
           }
          ],
          "heatmapgl": [
           {
            "colorbar": {
             "outlinewidth": 0,
             "ticks": ""
            },
            "colorscale": [
             [
              0,
              "#0d0887"
             ],
             [
              0.1111111111111111,
              "#46039f"
             ],
             [
              0.2222222222222222,
              "#7201a8"
             ],
             [
              0.3333333333333333,
              "#9c179e"
             ],
             [
              0.4444444444444444,
              "#bd3786"
             ],
             [
              0.5555555555555556,
              "#d8576b"
             ],
             [
              0.6666666666666666,
              "#ed7953"
             ],
             [
              0.7777777777777778,
              "#fb9f3a"
             ],
             [
              0.8888888888888888,
              "#fdca26"
             ],
             [
              1,
              "#f0f921"
             ]
            ],
            "type": "heatmapgl"
           }
          ],
          "histogram": [
           {
            "marker": {
             "colorbar": {
              "outlinewidth": 0,
              "ticks": ""
             }
            },
            "type": "histogram"
           }
          ],
          "histogram2d": [
           {
            "colorbar": {
             "outlinewidth": 0,
             "ticks": ""
            },
            "colorscale": [
             [
              0,
              "#0d0887"
             ],
             [
              0.1111111111111111,
              "#46039f"
             ],
             [
              0.2222222222222222,
              "#7201a8"
             ],
             [
              0.3333333333333333,
              "#9c179e"
             ],
             [
              0.4444444444444444,
              "#bd3786"
             ],
             [
              0.5555555555555556,
              "#d8576b"
             ],
             [
              0.6666666666666666,
              "#ed7953"
             ],
             [
              0.7777777777777778,
              "#fb9f3a"
             ],
             [
              0.8888888888888888,
              "#fdca26"
             ],
             [
              1,
              "#f0f921"
             ]
            ],
            "type": "histogram2d"
           }
          ],
          "histogram2dcontour": [
           {
            "colorbar": {
             "outlinewidth": 0,
             "ticks": ""
            },
            "colorscale": [
             [
              0,
              "#0d0887"
             ],
             [
              0.1111111111111111,
              "#46039f"
             ],
             [
              0.2222222222222222,
              "#7201a8"
             ],
             [
              0.3333333333333333,
              "#9c179e"
             ],
             [
              0.4444444444444444,
              "#bd3786"
             ],
             [
              0.5555555555555556,
              "#d8576b"
             ],
             [
              0.6666666666666666,
              "#ed7953"
             ],
             [
              0.7777777777777778,
              "#fb9f3a"
             ],
             [
              0.8888888888888888,
              "#fdca26"
             ],
             [
              1,
              "#f0f921"
             ]
            ],
            "type": "histogram2dcontour"
           }
          ],
          "mesh3d": [
           {
            "colorbar": {
             "outlinewidth": 0,
             "ticks": ""
            },
            "type": "mesh3d"
           }
          ],
          "parcoords": [
           {
            "line": {
             "colorbar": {
              "outlinewidth": 0,
              "ticks": ""
             }
            },
            "type": "parcoords"
           }
          ],
          "pie": [
           {
            "automargin": true,
            "type": "pie"
           }
          ],
          "scatter": [
           {
            "marker": {
             "colorbar": {
              "outlinewidth": 0,
              "ticks": ""
             }
            },
            "type": "scatter"
           }
          ],
          "scatter3d": [
           {
            "line": {
             "colorbar": {
              "outlinewidth": 0,
              "ticks": ""
             }
            },
            "marker": {
             "colorbar": {
              "outlinewidth": 0,
              "ticks": ""
             }
            },
            "type": "scatter3d"
           }
          ],
          "scattercarpet": [
           {
            "marker": {
             "colorbar": {
              "outlinewidth": 0,
              "ticks": ""
             }
            },
            "type": "scattercarpet"
           }
          ],
          "scattergeo": [
           {
            "marker": {
             "colorbar": {
              "outlinewidth": 0,
              "ticks": ""
             }
            },
            "type": "scattergeo"
           }
          ],
          "scattergl": [
           {
            "marker": {
             "colorbar": {
              "outlinewidth": 0,
              "ticks": ""
             }
            },
            "type": "scattergl"
           }
          ],
          "scattermapbox": [
           {
            "marker": {
             "colorbar": {
              "outlinewidth": 0,
              "ticks": ""
             }
            },
            "type": "scattermapbox"
           }
          ],
          "scatterpolar": [
           {
            "marker": {
             "colorbar": {
              "outlinewidth": 0,
              "ticks": ""
             }
            },
            "type": "scatterpolar"
           }
          ],
          "scatterpolargl": [
           {
            "marker": {
             "colorbar": {
              "outlinewidth": 0,
              "ticks": ""
             }
            },
            "type": "scatterpolargl"
           }
          ],
          "scatterternary": [
           {
            "marker": {
             "colorbar": {
              "outlinewidth": 0,
              "ticks": ""
             }
            },
            "type": "scatterternary"
           }
          ],
          "surface": [
           {
            "colorbar": {
             "outlinewidth": 0,
             "ticks": ""
            },
            "colorscale": [
             [
              0,
              "#0d0887"
             ],
             [
              0.1111111111111111,
              "#46039f"
             ],
             [
              0.2222222222222222,
              "#7201a8"
             ],
             [
              0.3333333333333333,
              "#9c179e"
             ],
             [
              0.4444444444444444,
              "#bd3786"
             ],
             [
              0.5555555555555556,
              "#d8576b"
             ],
             [
              0.6666666666666666,
              "#ed7953"
             ],
             [
              0.7777777777777778,
              "#fb9f3a"
             ],
             [
              0.8888888888888888,
              "#fdca26"
             ],
             [
              1,
              "#f0f921"
             ]
            ],
            "type": "surface"
           }
          ],
          "table": [
           {
            "cells": {
             "fill": {
              "color": "#EBF0F8"
             },
             "line": {
              "color": "white"
             }
            },
            "header": {
             "fill": {
              "color": "#C8D4E3"
             },
             "line": {
              "color": "white"
             }
            },
            "type": "table"
           }
          ]
         },
         "layout": {
          "annotationdefaults": {
           "arrowcolor": "#2a3f5f",
           "arrowhead": 0,
           "arrowwidth": 1
          },
          "autotypenumbers": "strict",
          "coloraxis": {
           "colorbar": {
            "outlinewidth": 0,
            "ticks": ""
           }
          },
          "colorscale": {
           "diverging": [
            [
             0,
             "#8e0152"
            ],
            [
             0.1,
             "#c51b7d"
            ],
            [
             0.2,
             "#de77ae"
            ],
            [
             0.3,
             "#f1b6da"
            ],
            [
             0.4,
             "#fde0ef"
            ],
            [
             0.5,
             "#f7f7f7"
            ],
            [
             0.6,
             "#e6f5d0"
            ],
            [
             0.7,
             "#b8e186"
            ],
            [
             0.8,
             "#7fbc41"
            ],
            [
             0.9,
             "#4d9221"
            ],
            [
             1,
             "#276419"
            ]
           ],
           "sequential": [
            [
             0,
             "#0d0887"
            ],
            [
             0.1111111111111111,
             "#46039f"
            ],
            [
             0.2222222222222222,
             "#7201a8"
            ],
            [
             0.3333333333333333,
             "#9c179e"
            ],
            [
             0.4444444444444444,
             "#bd3786"
            ],
            [
             0.5555555555555556,
             "#d8576b"
            ],
            [
             0.6666666666666666,
             "#ed7953"
            ],
            [
             0.7777777777777778,
             "#fb9f3a"
            ],
            [
             0.8888888888888888,
             "#fdca26"
            ],
            [
             1,
             "#f0f921"
            ]
           ],
           "sequentialminus": [
            [
             0,
             "#0d0887"
            ],
            [
             0.1111111111111111,
             "#46039f"
            ],
            [
             0.2222222222222222,
             "#7201a8"
            ],
            [
             0.3333333333333333,
             "#9c179e"
            ],
            [
             0.4444444444444444,
             "#bd3786"
            ],
            [
             0.5555555555555556,
             "#d8576b"
            ],
            [
             0.6666666666666666,
             "#ed7953"
            ],
            [
             0.7777777777777778,
             "#fb9f3a"
            ],
            [
             0.8888888888888888,
             "#fdca26"
            ],
            [
             1,
             "#f0f921"
            ]
           ]
          },
          "colorway": [
           "#636efa",
           "#EF553B",
           "#00cc96",
           "#ab63fa",
           "#FFA15A",
           "#19d3f3",
           "#FF6692",
           "#B6E880",
           "#FF97FF",
           "#FECB52"
          ],
          "font": {
           "color": "#2a3f5f"
          },
          "geo": {
           "bgcolor": "white",
           "lakecolor": "white",
           "landcolor": "#E5ECF6",
           "showlakes": true,
           "showland": true,
           "subunitcolor": "white"
          },
          "hoverlabel": {
           "align": "left"
          },
          "hovermode": "closest",
          "mapbox": {
           "style": "light"
          },
          "paper_bgcolor": "white",
          "plot_bgcolor": "#E5ECF6",
          "polar": {
           "angularaxis": {
            "gridcolor": "white",
            "linecolor": "white",
            "ticks": ""
           },
           "bgcolor": "#E5ECF6",
           "radialaxis": {
            "gridcolor": "white",
            "linecolor": "white",
            "ticks": ""
           }
          },
          "scene": {
           "xaxis": {
            "backgroundcolor": "#E5ECF6",
            "gridcolor": "white",
            "gridwidth": 2,
            "linecolor": "white",
            "showbackground": true,
            "ticks": "",
            "zerolinecolor": "white"
           },
           "yaxis": {
            "backgroundcolor": "#E5ECF6",
            "gridcolor": "white",
            "gridwidth": 2,
            "linecolor": "white",
            "showbackground": true,
            "ticks": "",
            "zerolinecolor": "white"
           },
           "zaxis": {
            "backgroundcolor": "#E5ECF6",
            "gridcolor": "white",
            "gridwidth": 2,
            "linecolor": "white",
            "showbackground": true,
            "ticks": "",
            "zerolinecolor": "white"
           }
          },
          "shapedefaults": {
           "line": {
            "color": "#2a3f5f"
           }
          },
          "ternary": {
           "aaxis": {
            "gridcolor": "white",
            "linecolor": "white",
            "ticks": ""
           },
           "baxis": {
            "gridcolor": "white",
            "linecolor": "white",
            "ticks": ""
           },
           "bgcolor": "#E5ECF6",
           "caxis": {
            "gridcolor": "white",
            "linecolor": "white",
            "ticks": ""
           }
          },
          "title": {
           "x": 0.05
          },
          "xaxis": {
           "automargin": true,
           "gridcolor": "white",
           "linecolor": "white",
           "ticks": "",
           "title": {
            "standoff": 15
           },
           "zerolinecolor": "white",
           "zerolinewidth": 2
          },
          "yaxis": {
           "automargin": true,
           "gridcolor": "white",
           "linecolor": "white",
           "ticks": "",
           "title": {
            "standoff": 15
           },
           "zerolinecolor": "white",
           "zerolinewidth": 2
          }
         }
        },
        "title": {
         "font": {
          "color": "#4D5663"
         },
         "text": "Return Comparison"
        },
        "xaxis": {
         "gridcolor": "#E1E5ED",
         "showgrid": true,
         "tickfont": {
          "color": "#4D5663"
         },
         "title": {
          "font": {
           "color": "#4D5663"
          },
          "text": "Date"
         },
         "zerolinecolor": "#E1E5ED"
        },
        "yaxis": {
         "gridcolor": "#E1E5ED",
         "showgrid": true,
         "tickfont": {
          "color": "#4D5663"
         },
         "title": {
          "font": {
           "color": "#4D5663"
          },
          "text": "Returns"
         },
         "zerolinecolor": "#E1E5ED"
        }
       }
      },
      "text/html": [
       "<div>                            <div id=\"49e2310c-df18-406c-b6fd-b69c07d11bdd\" class=\"plotly-graph-div\" style=\"height:525px; width:100%;\"></div>            <script type=\"text/javascript\">                require([\"plotly\"], function(Plotly) {                    window.PLOTLYENV=window.PLOTLYENV || {};                                    if (document.getElementById(\"49e2310c-df18-406c-b6fd-b69c07d11bdd\")) {                    Plotly.newPlot(                        \"49e2310c-df18-406c-b6fd-b69c07d11bdd\",                        [{\"line\": {\"color\": \"orange\", \"dash\": \"solid\", \"shape\": \"linear\", \"width\": 1.3}, \"marker\": {\"size\": 5.5, \"symbol\": \"circle\"}, \"mode\": \"lines+markers\", \"name\": \"Louise Returns\", \"text\": \"\", \"type\": \"scatter\", \"x\": [\"1985-02-28\", \"1985-03-31\", \"1985-04-30\", \"1985-05-31\", \"1985-06-30\", \"1985-07-31\", \"1985-08-31\", \"1985-09-30\", \"1985-10-31\", \"1985-11-30\", \"1985-12-31\", \"1986-01-31\", \"1986-02-28\", \"1986-03-31\", \"1986-04-30\", \"1986-05-31\", \"1986-06-30\", \"1986-07-31\", \"1986-08-31\", \"1986-09-30\", \"1986-10-31\", \"1986-11-30\", \"1986-12-31\", \"1987-01-31\", \"1987-02-28\", \"1987-03-31\", \"1987-04-30\", \"1987-05-31\", \"1987-06-30\", \"1987-07-31\", \"1987-08-31\", \"1987-09-30\", \"1987-10-31\", \"1987-11-30\", \"1987-12-31\", \"1988-01-31\", \"1988-02-29\", \"1988-03-31\", \"1988-04-30\", \"1988-05-31\", \"1988-06-30\", \"1988-07-31\", \"1988-08-31\", \"1988-09-30\", \"1988-10-31\", \"1988-11-30\", \"1988-12-31\", \"1989-01-31\", \"1989-02-28\", \"1989-03-31\", \"1989-04-30\", \"1989-05-31\", \"1989-06-30\", \"1989-07-31\", \"1989-08-31\", \"1989-09-30\", \"1989-10-31\", \"1989-11-30\", \"1989-12-31\", \"1990-01-31\", \"1990-02-28\", \"1990-03-31\", \"1990-04-30\", \"1990-05-31\", \"1990-06-30\", \"1990-07-31\", \"1990-08-31\", \"1990-09-30\", \"1990-10-31\", \"1990-11-30\", \"1990-12-31\", \"1991-01-31\", \"1991-02-28\", \"1991-03-31\", \"1991-04-30\", \"1991-05-31\", \"1991-06-30\", \"1991-07-31\", \"1991-08-31\", \"1991-09-30\", \"1991-10-31\", \"1991-11-30\", \"1991-12-31\", \"1992-01-31\", \"1992-02-29\", \"1992-03-31\", \"1992-04-30\", \"1992-05-31\", \"1992-06-30\", \"1992-07-31\", \"1992-08-31\", \"1992-09-30\", \"1992-10-31\", \"1992-11-30\", \"1992-12-31\", \"1993-01-31\", \"1993-02-28\", \"1993-03-31\", \"1993-04-30\", \"1993-05-31\", \"1993-06-30\", \"1993-07-31\", \"1993-08-31\", \"1993-09-30\", \"1993-10-31\", \"1993-11-30\", \"1993-12-31\", \"1994-01-31\", \"1994-02-28\", \"1994-03-31\", \"1994-04-30\", \"1994-05-31\", \"1994-06-30\", \"1994-07-31\", \"1994-08-31\", \"1994-09-30\", \"1994-10-31\", \"1994-11-30\", \"1994-12-31\", \"1995-01-31\", \"1995-02-28\", \"1995-03-31\", \"1995-04-30\", \"1995-05-31\", \"1995-06-30\", \"1995-07-31\", \"1995-08-31\", \"1995-09-30\", \"1995-10-31\", \"1995-11-30\", \"1995-12-31\", \"1996-01-31\", \"1996-02-29\", \"1996-03-31\", \"1996-04-30\", \"1996-05-31\", \"1996-06-30\", \"1996-07-31\", \"1996-08-31\", \"1996-09-30\", \"1996-10-31\", \"1996-11-30\", \"1996-12-31\", \"1997-01-31\", \"1997-02-28\", \"1997-03-31\", \"1997-04-30\", \"1997-05-31\", \"1997-06-30\", \"1997-07-31\", \"1997-08-31\", \"1997-09-30\", \"1997-10-31\", \"1997-11-30\", \"1997-12-31\", \"1998-01-31\", \"1998-02-28\", \"1998-03-31\", \"1998-04-30\", \"1998-05-31\", \"1998-06-30\", \"1998-07-31\", \"1998-08-31\", \"1998-09-30\", \"1998-10-31\", \"1998-11-30\", \"1998-12-31\", \"1999-01-31\", \"1999-02-28\", \"1999-03-31\", \"1999-04-30\", \"1999-05-31\", \"1999-06-30\", \"1999-07-31\", \"1999-08-31\", \"1999-09-30\", \"1999-10-31\", \"1999-11-30\", \"1999-12-31\", \"2000-01-31\", \"2000-02-29\", \"2000-03-31\", \"2000-04-30\", \"2000-05-31\", \"2000-06-30\", \"2000-07-31\", \"2000-08-31\", \"2000-09-30\", \"2000-10-31\", \"2000-11-30\", \"2000-12-31\", \"2001-01-31\", \"2001-02-28\", \"2001-03-31\", \"2001-04-30\", \"2001-05-31\", \"2001-06-30\", \"2001-07-31\", \"2001-08-31\", \"2001-09-30\", \"2001-10-31\", \"2001-11-30\", \"2001-12-31\", \"2002-01-31\", \"2002-02-28\", \"2002-03-31\", \"2002-04-30\", \"2002-05-31\", \"2002-06-30\", \"2002-07-31\", \"2002-08-31\", \"2002-09-30\", \"2002-10-31\", \"2002-11-30\", \"2002-12-31\", \"2003-01-31\", \"2003-02-28\", \"2003-03-31\", \"2003-04-30\", \"2003-05-31\", \"2003-06-30\", \"2003-07-31\", \"2003-08-31\", \"2003-09-30\", \"2003-10-31\", \"2003-11-30\", \"2003-12-31\", \"2004-01-31\", \"2004-02-29\", \"2004-03-31\", \"2004-04-30\", \"2004-05-31\", \"2004-06-30\", \"2004-07-31\", \"2004-08-31\", \"2004-09-30\", \"2004-10-31\", \"2004-11-30\", \"2004-12-31\", \"2005-01-31\", \"2005-02-28\", \"2005-03-31\", \"2005-04-30\", \"2005-05-31\", \"2005-06-30\", \"2005-07-31\", \"2005-08-31\", \"2005-09-30\", \"2005-10-31\", \"2005-11-30\", \"2005-12-31\", \"2006-01-31\", \"2006-02-28\", \"2006-03-31\", \"2006-04-30\", \"2006-05-31\", \"2006-06-30\", \"2006-07-31\", \"2006-08-31\", \"2006-09-30\", \"2006-10-31\", \"2006-11-30\", \"2006-12-31\", \"2007-01-31\", \"2007-02-28\", \"2007-03-31\", \"2007-04-30\", \"2007-05-31\", \"2007-06-30\", \"2007-07-31\", \"2007-08-31\", \"2007-09-30\", \"2007-10-31\", \"2007-11-30\", \"2007-12-31\", \"2008-01-31\", \"2008-02-29\", \"2008-03-31\", \"2008-04-30\", \"2008-05-31\", \"2008-06-30\", \"2008-07-31\", \"2008-08-31\", \"2008-09-30\", \"2008-10-31\", \"2008-11-30\", \"2008-12-31\", \"2009-01-31\", \"2009-02-28\", \"2009-03-31\", \"2009-04-30\", \"2009-05-31\", \"2009-06-30\", \"2009-07-31\", \"2009-08-31\", \"2009-09-30\", \"2009-10-31\", \"2009-11-30\", \"2009-12-31\", \"2010-01-31\", \"2010-02-28\", \"2010-03-31\", \"2010-04-30\", \"2010-05-31\", \"2010-06-30\", \"2010-07-31\", \"2010-08-31\", \"2010-09-30\", \"2010-10-31\", \"2010-11-30\", \"2010-12-31\", \"2011-01-31\", \"2011-02-28\", \"2011-03-31\", \"2011-04-30\", \"2011-05-31\", \"2011-06-30\", \"2011-07-31\", \"2011-08-31\", \"2011-09-30\", \"2011-10-31\", \"2011-11-30\", \"2011-12-31\", \"2012-01-31\", \"2012-02-29\", \"2012-03-31\", \"2012-04-30\", \"2012-05-31\", \"2012-06-30\", \"2012-07-31\", \"2012-08-31\", \"2012-09-30\", \"2012-10-31\", \"2012-11-30\", \"2012-12-31\", \"2013-01-31\", \"2013-02-28\", \"2013-03-31\", \"2013-04-30\", \"2013-05-31\", \"2013-06-30\", \"2013-07-31\", \"2013-08-31\", \"2013-09-30\", \"2013-10-31\", \"2013-11-30\", \"2013-12-31\", \"2014-01-31\", \"2014-02-28\", \"2014-03-31\", \"2014-04-30\", \"2014-05-31\", \"2014-06-30\", \"2014-07-31\", \"2014-08-31\", \"2014-09-30\", \"2014-10-31\", \"2014-11-30\", \"2014-12-31\", \"2015-01-31\", \"2015-02-28\", \"2015-03-31\", \"2015-04-30\", \"2015-05-31\", \"2015-06-30\", \"2015-07-31\", \"2015-08-31\", \"2015-09-30\", \"2015-10-31\", \"2015-11-30\", \"2015-12-31\", \"2016-01-31\", \"2016-02-29\", \"2016-03-31\", \"2016-04-30\", \"2016-05-31\", \"2016-06-30\", \"2016-07-31\", \"2016-08-31\", \"2016-09-30\", \"2016-10-31\", \"2016-11-30\", \"2016-12-31\", \"2017-01-31\", \"2017-02-28\", \"2017-03-31\", \"2017-04-30\", \"2017-05-31\", \"2017-06-30\", \"2017-07-31\", \"2017-08-31\", \"2017-09-30\", \"2017-10-31\", \"2017-11-30\", \"2017-12-31\", \"2018-01-31\", \"2018-02-28\", \"2018-03-31\", \"2018-04-30\", \"2018-05-31\", \"2018-06-30\", \"2018-07-31\", \"2018-08-31\", \"2018-09-30\", \"2018-10-31\", \"2018-11-30\", \"2018-12-31\", \"2019-01-31\", \"2019-02-28\", \"2019-03-31\", \"2019-04-30\", \"2019-05-31\", \"2019-06-30\", \"2019-07-31\", \"2019-08-31\", \"2019-09-30\", \"2019-10-31\", \"2019-11-30\", \"2019-12-31\", \"2020-01-31\", \"2020-02-29\", \"2020-03-31\", \"2020-04-30\", \"2020-05-31\", \"2020-06-30\", \"2020-07-31\", \"2020-08-31\", \"2020-09-30\", \"2020-10-31\", \"2020-11-30\", \"2020-12-31\", \"2021-01-31\"], \"y\": [1.3809613415549205, -0.8454877092284763, 0.5712950262662053, 6.03327349759708, 0.66, 0.55, -0.6693762049297058, -3.9532616614361804, 0.6, 0.65, 0.61, 1.9717807167298984, 7.579064516126088, 4.750357079328116, -0.6578244716347825, 5.453778551874033, 0.9974012373828778, -5.116366197191724, 7.450489474923971, -8.956335172770613, 6.391722067547589, 2.553539823420947, -11.131486834197634, 14.864035474301463, 3.96510766935394, 2.239256994009997, -0.4011487059759733, 1.0369334217409154, 4.413336777709453, 5.5272690484510445, 3.841465416884704, -2.827111502746582, -21.288630798683684, -8.18506180836993, 0.35, 0.39, 0.29, -3.7134285822928215, 1.7236781675027624, 0.8098549314198289, 3.8638221589642363, 0.30336487611064555, -3.401154665365591, 3.559106063338935, 0.62, 0.61, -0.7667074810139507, 8.769186495442515, -2.468227032249215, 1.019318463225205, 5.846628335936721, 4.0357204578520545, -1.1446724486905868, 9.617159019419352, 1.8589720237034868, -0.9270118191382015, -1.8177182487035592, 2.0359717063580307, 0.69, 0.61, 1.2746995711970799, 1.8879774471041388, -1.9628515138431113, 9.692763854693997, -1.1839596851582423, 0.18224499737535815, -9.03228050449999, 0.66, 0.6, 0.68, 0.57, 0.6, 7.116548394961009, 1.6895973399161823, 0.7026084021356738, 4.272030430705831, -5.0403305666770315, 5.16079536646552, 2.333178006169412, -2.1473907482822185, 1.8230163274365774, -4.010700238094788, 9.49860716906783, -0.28982188152536503, 1.2441304311163526, -2.483313862004255, 3.5031470502919326, 0.48468343245564594, -2.0563645484947046, 4.643483710079277, -2.0677335601558933, 0.610512989260914, 0.8878153428073521, 3.4022139264590745, 0.5605490980752359, 1.2094277452026736, 1.355900731942672, 1.5050187415662997, -1.915551617686595, 2.6531683410062845, -0.25842230479694583, 0.09777228776131075, 3.785261533632922, -1.2992706065155568, 2.604265702056918, -0.9955252512625967, 0.1599904023833032, 4.4749967113525635, -2.714644067921035, -5.036325865805235, 1.7955719598877318, 0.27, 0.31, 3.8121283868050693, 4.075948106620086, -2.937284670050122, 2.7621571877291418, -3.6546906255901623, 0.0, 3.7892176199622707, 3.8793055643776553, 2.467762257455175, 3.4296969499326035, 3.954428546814004, 1.8721676917764052, 3.748402479438373, 0.26494427879473204, 3.7939526027294557, 0.036980664873320634, 4.380368638824006, 0.7169040841638941, 4.397937578355093, 0.9235651697243163, 0.5491507090493508, 1.8229398270291242, 2.544368151336762, 0.03184524181285564, -4.085072364698783, 2.0961778271751497, 5.2468701709359244, 3.106863458369258, 7.5636942067395685, -3.123751619346493, 7.175706775450941, 0.7894523504035078, -4.537459490161455, 6.34278840537168, 6.0881612094759285, 4.115303447911867, 8.313593529393382, -5.609045820538261, 5.147690776271618, -3.057294479632089, 4.598562132247475, 0.5020986219671508, 1.6894586639604192, 7.192285153367872, 4.701850645914507, 1.2745773694826878, -1.7435482665707935, 3.805196422649093, -0.7993055405375316, -14.473561304009586, 6.11599992774654, 0.46, 0.32, 5.032736573415586, 4.688566798292659, -3.124495297944463, 3.3643921628987217, 4.086275394317118, -2.3890741003234517, 5.226962591294182, -2.827333335591109, -0.4964972439095994, -3.026551678873135, 0.39, 0.39, 0.36, -4.7389440681120165, -1.9063411716820688, 9.526469492726509, 0.47, 0.46, 0.5, 0.4, 0.48, 0.5, 0.51, 0.56, 0.51, 0.5, 0.54, -6.611411565008407, 8.059244695683287, 0.39, 0.32, -0.7570241430274405, -6.273994986418863, 0.31, 0.28, 0.22, 0.17, -1.117758237836386, -1.9361561244870984, 3.4600460656805554, 0.13, 0.15, 0.14, 0.13, 0.15, 0.14, 0.14, 0.14, 0.12, -2.1262498103261973, -1.518549171637651, 0.09, 0.1, 0.1, 0.9305781998442786, 2.0763900684802383, 1.9324892866552368, -1.4567295957204962, 6.051779204657404, 0.8642443840141789, 4.733280406406037, 2.295272629015477, 1.3774675615407128, -1.8588758489463397, -1.2307820142275605, 1.3578746903166072, 0.06, 0.08, 0.3826394747792117, 0.664602303504469, 1.9212484359511617, 4.045907234375878, 2.629197964427954, -1.7275546528347063, 2.09363535048519, -2.1496574503741317, -1.5210756859878494, 3.1674523197411375, 0.24, 0.23, 0.24, 0.3, 0.29, 0.27, 0.31, 0.32, 0.35, 0.34, 1.7466041562405277, -2.896590348776018, -0.2898252531256751, 1.027942039763441, 2.3619300611866123, 2.124836303847366, 3.6932949996981046, 1.8813114510225715, 0.8962300403801082, 2.0012349818748554, -1.969228933179068, 0.6927079012070791, 4.852822852764249, 3.4770483854079437, -2.072724361285261, -2.69764741088393, 1.4983108921961197, 0.42, 0.32, -4.186765444468277, -1.242274415786715, -5.490733207663878, 0.21, 0.13, 0.17, 0.18, 0.18, -0.36718888865907573, 1.446309893417852, 0.13, 0.15, 0.08, 0.03, 0.0, 0.0, 0.01, 0.02, 0.01, -0.30592996589530186, 8.146615528420288, 3.5989160177352764, 3.20906219492334, -1.376185351312309, 5.981364684602819, 1.3024076935753248, -2.991066943831655, 3.091847513892998, 5.586615078534352, 1.991134427419805, -7.995950624485215, -5.731043729327734, 7.542346648511145, 0.01, 0.01, 0.01, 0.01, 6.21789871144145, 2.7933426445593046, 3.41629403261845, -0.3915398349339072, 3.383087825990083, -1.1454156118673287, -2.1161620480114607, -1.6039147628036154, 0.0, 0.01, 0.0, 0.0, 0.0, 0.0, 0.0, 2.853059538631908, -0.22443498909880955, -6.017833915947756, 3.597665118787563, 0.0, 0.0, 2.082689394458237, -1.3848112642234733, 0.5599538909272006, 0.21361198037621598, 5.892244845869454, 1.3388905055939704, 3.2781083832997604, 2.359287615599759, 2.327460211321797, -1.8170006266454708, 5.572743035297423, -2.9118883593752143, 2.6350850884301558, 5.078739203897675, 3.0284134357106973, 1.987562536579368, -2.96837217520477, 4.560634142667874, 0.39550242600348007, 1.1525941108137427, 2.3348929122021023, 1.624178553224187, -0.9722125927827618, 3.987203460601041, -1.8551319270492916, 2.879213088407262, 2.682403948540335, -0.7889304418434717, -2.488938300629273, 5.73381439888494, 0.0, 0.0, 0.0, 0.0, 2.529062358877887, -6.041565343734801, -2.979520148275361, 8.960824542143753, 0.0, 0.0, 0.01, 0.01, 0.02, 0.02, 0.01, -0.22154208261414565, 4.169128737781014, 0.1295068796343335, -0.4178105623771855, -1.4069559086304362, 0.02, 0.01, 0.03, 3.962727538779598, -0.3427717327142865, 1.4614254745918043, 1.393727945488843, 0.18357981384173883, 2.4782074481019656, 0.29343513905082386, 1.5634174243059462, 2.817498909471139, 3.0593420581845665, 0.6442747303172291, 6.193110004765479, -3.6984379569731884, -2.968914583761917, 0.7960531579347618, 0.14, 0.14, 4.162294039401893, 3.2462711939082123, 0.1264976834878917, -6.451545993631081, 2.026656143146144, -9.50184668692281, 8.54265384700248, 3.2005214199599674, 1.3955676425583485, 4.594624674857406, -6.3646061953390065, 6.514657310879346, 1.9188331473656284, -1.5911024622475733, 1.4064280987466482, 2.6136897248994373, 3.620432397944917, 2.534461418855738, 0.41109580297642445, -8.241331904838045, -12.755538389537824, 0.12, 0.0, 0.01, 6.1299494455465675, 7.401888650397859, -4.393228829944418, -2.2769897317818533, 10.935639766428684, 0.01, 0.01]}, {\"line\": {\"color\": \"blue\", \"dash\": \"solid\", \"shape\": \"linear\", \"width\": 1.3}, \"marker\": {\"size\": 5.5, \"symbol\": \"diamond\"}, \"mode\": \"markers\", \"name\": \"Naive Returns\", \"text\": \"\", \"type\": \"scatter\", \"x\": [\"1985-02-28\", \"1985-03-31\", \"1985-04-30\", \"1985-05-31\", \"1985-06-30\", \"1985-07-31\", \"1985-08-31\", \"1985-09-30\", \"1985-10-31\", \"1985-11-30\", \"1985-12-31\", \"1986-01-31\", \"1986-02-28\", \"1986-03-31\", \"1986-04-30\", \"1986-05-31\", \"1986-06-30\", \"1986-07-31\", \"1986-08-31\", \"1986-09-30\", \"1986-10-31\", \"1986-11-30\", \"1986-12-31\", \"1987-01-31\", \"1987-02-28\", \"1987-03-31\", \"1987-04-30\", \"1987-05-31\", \"1987-06-30\", \"1987-07-31\", \"1987-08-31\", \"1987-09-30\", \"1987-10-31\", \"1987-11-30\", \"1987-12-31\", \"1988-01-31\", \"1988-02-29\", \"1988-03-31\", \"1988-04-30\", \"1988-05-31\", \"1988-06-30\", \"1988-07-31\", \"1988-08-31\", \"1988-09-30\", \"1988-10-31\", \"1988-11-30\", \"1988-12-31\", \"1989-01-31\", \"1989-02-28\", \"1989-03-31\", \"1989-04-30\", \"1989-05-31\", \"1989-06-30\", \"1989-07-31\", \"1989-08-31\", \"1989-09-30\", \"1989-10-31\", \"1989-11-30\", \"1989-12-31\", \"1990-01-31\", \"1990-02-28\", \"1990-03-31\", \"1990-04-30\", \"1990-05-31\", \"1990-06-30\", \"1990-07-31\", \"1990-08-31\", \"1990-09-30\", \"1990-10-31\", \"1990-11-30\", \"1990-12-31\", \"1991-01-31\", \"1991-02-28\", \"1991-03-31\", \"1991-04-30\", \"1991-05-31\", \"1991-06-30\", \"1991-07-31\", \"1991-08-31\", \"1991-09-30\", \"1991-10-31\", \"1991-11-30\", \"1991-12-31\", \"1992-01-31\", \"1992-02-29\", \"1992-03-31\", \"1992-04-30\", \"1992-05-31\", \"1992-06-30\", \"1992-07-31\", \"1992-08-31\", \"1992-09-30\", \"1992-10-31\", \"1992-11-30\", \"1992-12-31\", \"1993-01-31\", \"1993-02-28\", \"1993-03-31\", \"1993-04-30\", \"1993-05-31\", \"1993-06-30\", \"1993-07-31\", \"1993-08-31\", \"1993-09-30\", \"1993-10-31\", \"1993-11-30\", \"1993-12-31\", \"1994-01-31\", \"1994-02-28\", \"1994-03-31\", \"1994-04-30\", \"1994-05-31\", \"1994-06-30\", \"1994-07-31\", \"1994-08-31\", \"1994-09-30\", \"1994-10-31\", \"1994-11-30\", \"1994-12-31\", \"1995-01-31\", \"1995-02-28\", \"1995-03-31\", \"1995-04-30\", \"1995-05-31\", \"1995-06-30\", \"1995-07-31\", \"1995-08-31\", \"1995-09-30\", \"1995-10-31\", \"1995-11-30\", \"1995-12-31\", \"1996-01-31\", \"1996-02-29\", \"1996-03-31\", \"1996-04-30\", \"1996-05-31\", \"1996-06-30\", \"1996-07-31\", \"1996-08-31\", \"1996-09-30\", \"1996-10-31\", \"1996-11-30\", \"1996-12-31\", \"1997-01-31\", \"1997-02-28\", \"1997-03-31\", \"1997-04-30\", \"1997-05-31\", \"1997-06-30\", \"1997-07-31\", \"1997-08-31\", \"1997-09-30\", \"1997-10-31\", \"1997-11-30\", \"1997-12-31\", \"1998-01-31\", \"1998-02-28\", \"1998-03-31\", \"1998-04-30\", \"1998-05-31\", \"1998-06-30\", \"1998-07-31\", \"1998-08-31\", \"1998-09-30\", \"1998-10-31\", \"1998-11-30\", \"1998-12-31\", \"1999-01-31\", \"1999-02-28\", \"1999-03-31\", \"1999-04-30\", \"1999-05-31\", \"1999-06-30\", \"1999-07-31\", \"1999-08-31\", \"1999-09-30\", \"1999-10-31\", \"1999-11-30\", \"1999-12-31\", \"2000-01-31\", \"2000-02-29\", \"2000-03-31\", \"2000-04-30\", \"2000-05-31\", \"2000-06-30\", \"2000-07-31\", \"2000-08-31\", \"2000-09-30\", \"2000-10-31\", \"2000-11-30\", \"2000-12-31\", \"2001-01-31\", \"2001-02-28\", \"2001-03-31\", \"2001-04-30\", \"2001-05-31\", \"2001-06-30\", \"2001-07-31\", \"2001-08-31\", \"2001-09-30\", \"2001-10-31\", \"2001-11-30\", \"2001-12-31\", \"2002-01-31\", \"2002-02-28\", \"2002-03-31\", \"2002-04-30\", \"2002-05-31\", \"2002-06-30\", \"2002-07-31\", \"2002-08-31\", \"2002-09-30\", \"2002-10-31\", \"2002-11-30\", \"2002-12-31\", \"2003-01-31\", \"2003-02-28\", \"2003-03-31\", \"2003-04-30\", \"2003-05-31\", \"2003-06-30\", \"2003-07-31\", \"2003-08-31\", \"2003-09-30\", \"2003-10-31\", \"2003-11-30\", \"2003-12-31\", \"2004-01-31\", \"2004-02-29\", \"2004-03-31\", \"2004-04-30\", \"2004-05-31\", \"2004-06-30\", \"2004-07-31\", \"2004-08-31\", \"2004-09-30\", \"2004-10-31\", \"2004-11-30\", \"2004-12-31\", \"2005-01-31\", \"2005-02-28\", \"2005-03-31\", \"2005-04-30\", \"2005-05-31\", \"2005-06-30\", \"2005-07-31\", \"2005-08-31\", \"2005-09-30\", \"2005-10-31\", \"2005-11-30\", \"2005-12-31\", \"2006-01-31\", \"2006-02-28\", \"2006-03-31\", \"2006-04-30\", \"2006-05-31\", \"2006-06-30\", \"2006-07-31\", \"2006-08-31\", \"2006-09-30\", \"2006-10-31\", \"2006-11-30\", \"2006-12-31\", \"2007-01-31\", \"2007-02-28\", \"2007-03-31\", \"2007-04-30\", \"2007-05-31\", \"2007-06-30\", \"2007-07-31\", \"2007-08-31\", \"2007-09-30\", \"2007-10-31\", \"2007-11-30\", \"2007-12-31\", \"2008-01-31\", \"2008-02-29\", \"2008-03-31\", \"2008-04-30\", \"2008-05-31\", \"2008-06-30\", \"2008-07-31\", \"2008-08-31\", \"2008-09-30\", \"2008-10-31\", \"2008-11-30\", \"2008-12-31\", \"2009-01-31\", \"2009-02-28\", \"2009-03-31\", \"2009-04-30\", \"2009-05-31\", \"2009-06-30\", \"2009-07-31\", \"2009-08-31\", \"2009-09-30\", \"2009-10-31\", \"2009-11-30\", \"2009-12-31\", \"2010-01-31\", \"2010-02-28\", \"2010-03-31\", \"2010-04-30\", \"2010-05-31\", \"2010-06-30\", \"2010-07-31\", \"2010-08-31\", \"2010-09-30\", \"2010-10-31\", \"2010-11-30\", \"2010-12-31\", \"2011-01-31\", \"2011-02-28\", \"2011-03-31\", \"2011-04-30\", \"2011-05-31\", \"2011-06-30\", \"2011-07-31\", \"2011-08-31\", \"2011-09-30\", \"2011-10-31\", \"2011-11-30\", \"2011-12-31\", \"2012-01-31\", \"2012-02-29\", \"2012-03-31\", \"2012-04-30\", \"2012-05-31\", \"2012-06-30\", \"2012-07-31\", \"2012-08-31\", \"2012-09-30\", \"2012-10-31\", \"2012-11-30\", \"2012-12-31\", \"2013-01-31\", \"2013-02-28\", \"2013-03-31\", \"2013-04-30\", \"2013-05-31\", \"2013-06-30\", \"2013-07-31\", \"2013-08-31\", \"2013-09-30\", \"2013-10-31\", \"2013-11-30\", \"2013-12-31\", \"2014-01-31\", \"2014-02-28\", \"2014-03-31\", \"2014-04-30\", \"2014-05-31\", \"2014-06-30\", \"2014-07-31\", \"2014-08-31\", \"2014-09-30\", \"2014-10-31\", \"2014-11-30\", \"2014-12-31\", \"2015-01-31\", \"2015-02-28\", \"2015-03-31\", \"2015-04-30\", \"2015-05-31\", \"2015-06-30\", \"2015-07-31\", \"2015-08-31\", \"2015-09-30\", \"2015-10-31\", \"2015-11-30\", \"2015-12-31\", \"2016-01-31\", \"2016-02-29\", \"2016-03-31\", \"2016-04-30\", \"2016-05-31\", \"2016-06-30\", \"2016-07-31\", \"2016-08-31\", \"2016-09-30\", \"2016-10-31\", \"2016-11-30\", \"2016-12-31\", \"2017-01-31\", \"2017-02-28\", \"2017-03-31\", \"2017-04-30\", \"2017-05-31\", \"2017-06-30\", \"2017-07-31\", \"2017-08-31\", \"2017-09-30\", \"2017-10-31\", \"2017-11-30\", \"2017-12-31\", \"2018-01-31\", \"2018-02-28\", \"2018-03-31\", \"2018-04-30\", \"2018-05-31\", \"2018-06-30\", \"2018-07-31\", \"2018-08-31\", \"2018-09-30\", \"2018-10-31\", \"2018-11-30\", \"2018-12-31\", \"2019-01-31\", \"2019-02-28\", \"2019-03-31\", \"2019-04-30\", \"2019-05-31\", \"2019-06-30\", \"2019-07-31\", \"2019-08-31\", \"2019-09-30\", \"2019-10-31\", \"2019-11-30\", \"2019-12-31\", \"2020-01-31\", \"2020-02-29\", \"2020-03-31\", \"2020-04-30\", \"2020-05-31\", \"2020-06-30\", \"2020-07-31\", \"2020-08-31\", \"2020-09-30\", \"2020-10-31\", \"2020-11-30\", \"2020-12-31\", \"2021-01-31\"], \"y\": [1.3809613415549205, -0.8454877092284763, 0.5712950262662053, 6.03327349759708, 0.6272047766660682, 0.5791559703768989, -0.6693762049297058, -3.9532616614361804, 5.279698214032202, 6.9444293800256185, -3.6865715459937998, 1.9717807167298984, 7.579064516126088, 4.750357079328116, -0.6578244716347825, 5.453778551874033, 0.9974012373828778, -5.116366197191724, 7.450489474923971, -8.956335172770613, 6.391722067547589, 2.553539823420947, -11.131486834197634, 14.864035474301463, 3.96510766935394, 2.239256994009997, -0.4011487059759733, 1.0369334217409154, 4.413336777709453, 5.5272690484510445, 3.841465416884704, -2.827111502746582, -21.288630798683684, -8.18506180836993, 6.158460300387092, 4.036457899529822, 5.374253110574778, -3.7134285822928215, 1.7236781675027624, 0.8098549314198289, 3.8638221589642363, 0.30336487611064555, -3.401154665365591, 3.559106063338935, 3.4275671926948137, -1.4748354906003902, -0.7667074810139507, 8.769186495442515, -2.468227032249215, 1.019318463225205, 5.846628335936721, 4.0357204578520545, -1.1446724486905868, 9.617159019419352, 1.8589720237034868, -0.9270118191382015, -1.8177182487035592, 2.0359717063580307, -1.2911110996015385, -4.895107120082742, 1.2746995711970799, 1.8879774471041388, -1.9628515138431113, 9.692763854693997, -1.1839596851582423, 0.18224499737535815, -9.03228050449999, -5.480329678229657, 0.19751479092862123, 6.438335384630278, 0.5148598222540546, 6.4504281390219464, 7.116548394961009, 1.6895973399161823, 0.7026084021356738, 4.272030430705831, -5.0403305666770315, 5.16079536646552, 2.333178006169412, -2.1473907482822185, 1.8230163274365774, -4.010700238094788, 9.49860716906783, -0.28982188152536503, 1.2441304311163526, -2.483313862004255, 3.5031470502919326, 0.48468343245564594, -2.0563645484947046, 4.643483710079277, -2.0677335601558933, 0.610512989260914, 0.8878153428073521, 3.4022139264590745, 0.5605490980752359, 1.2094277452026736, 1.355900731942672, 1.5050187415662997, -1.915551617686595, 2.6531683410062845, -0.25842230479694583, 0.09777228776131075, 3.785261533632922, -1.2992706065155568, 2.604265702056918, -0.9955252512625967, 0.1599904023833032, 4.4749967113525635, -2.714644067921035, -5.036325865805235, 1.7955719598877318, 1.6037509154593899, -2.948016255904906, 3.8121283868050693, 4.075948106620086, -2.937284670050122, 2.7621571877291418, -3.6546906255901623, 0.0, 3.7892176199622707, 3.8793055643776553, 2.467762257455175, 3.4296969499326035, 3.954428546814004, 1.8721676917764052, 3.748402479438373, 0.26494427879473204, 3.7939526027294557, 0.036980664873320634, 4.380368638824006, 0.7169040841638941, 4.397937578355093, 0.9235651697243163, 0.5491507090493508, 1.8229398270291242, 2.544368151336762, 0.03184524181285564, -4.085072364698783, 2.0961778271751497, 5.2468701709359244, 3.106863458369258, 7.5636942067395685, -3.123751619346493, 7.175706775450941, 0.7894523504035078, -4.537459490161455, 6.34278840537168, 6.0881612094759285, 4.115303447911867, 8.313593529393382, -5.609045820538261, 5.147690776271618, -3.057294479632089, 4.598562132247475, 0.5020986219671508, 1.6894586639604192, 7.192285153367872, 4.701850645914507, 1.2745773694826878, -1.7435482665707935, 3.805196422649093, -0.7993055405375316, -14.473561304009586, 6.11599992774654, 8.465503089568083, 6.071561288281457, 5.032736573415586, 4.688566798292659, -3.124495297944463, 3.3643921628987217, 4.086275394317118, -2.3890741003234517, 5.226962591294182, -2.827333335591109, -0.4964972439095994, -3.026551678873135, 6.641031089239147, 2.022973797250738, 5.233280658143147, -4.7389440681120165, -1.9063411716820688, 9.526469492726509, -2.7987136860988637, -2.0383648868524618, 2.248506606917977, -1.2628261054538514, 6.189997199088815, -5.515617103516057, -0.19160128781141594, -7.8775661201848095, 0.19731271592480226, 3.8707442071284515, -9.137746722653727, -6.611411565008407, 8.059244695683287, 0.6499111790224665, -2.6863524284742035, -0.7570241430274405, -6.273994986418863, -8.41997421253009, 2.2540880599752677, 7.6537881762447135, 0.5125726755228266, -1.117758237836386, -1.9361561244870984, 3.4600460656805554, -5.81866688894348, -0.7543892432401944, -7.4388876944262545, -7.420973924894458, 0.652601314684631, -11.281376922486608, 9.265234417017009, 6.156098885279704, -6.6274857445164255, -2.1262498103261973, -1.518549171637651, 0.5782195545660285, 8.658652686424094, 5.263819205329856, 0.9305781998442786, 2.0763900684802383, 1.9324892866552368, -1.4567295957204962, 6.051779204657404, 0.8642443840141789, 4.733280406406037, 2.295272629015477, 1.3774675615407128, -1.8588758489463397, -1.2307820142275605, 1.3578746903166072, 1.5901684039822506, -2.989664896254096, 0.3826394747792117, 0.664602303504469, 1.9212484359511617, 4.045907234375878, 2.629197964427954, -1.7275546528347063, 2.09363535048519, -2.1496574503741317, -1.5210756859878494, 3.1674523197411375, -0.2543672975220068, 4.100048739921536, -0.9131987047844015, 0.31904434578824414, -1.2126358293453765, 3.7645980873080465, -0.49358272934955094, 3.177873697016098, 0.25430370631260857, 0.8286793235941392, 1.7466041562405277, -2.896590348776018, -0.2898252531256751, 1.027942039763441, 2.3619300611866123, 2.124836303847366, 3.6932949996981046, 1.8813114510225715, 0.8962300403801082, 2.0012349818748554, -1.969228933179068, 0.6927079012070791, 4.852822852764249, 3.4770483854079437, -2.072724361285261, -2.69764741088393, 1.4983108921961197, 3.2682257710060503, 2.0291404023718096, -4.186765444468277, -1.242274415786715, -5.490733207663878, -3.2514510810511266, -0.9276805220011952, 5.372233324452913, 1.2845724369356493, -8.877895633384947, -0.36718888865907573, 1.446309893417852, -9.422961326180202, -16.30815732212224, -7.174882889619861, 0.19294224024120066, -7.6091692914576186, -10.65700608373622, 8.015848810759053, 10.331337001055063, 5.6177093489412355, -0.30592996589530186, 8.146615528420288, 3.5989160177352764, 3.20906219492334, -1.376185351312309, 5.981364684602819, 1.3024076935753248, -2.991066943831655, 3.091847513892998, 5.586615078534352, 1.991134427419805, -7.995950624485215, -5.731043729327734, 7.542346648511145, -4.529800427986896, 8.365167445749844, 4.314233870325079, 0.0, 6.21789871144145, 2.7933426445593046, 3.41629403261845, -0.3915398349339072, 3.383087825990083, -1.1454156118673287, -2.1161620480114607, -1.6039147628036154, -5.446434101793107, -7.535273314186353, 11.485867201196353, -0.233633214550244, 0.4510504308220531, 5.058839691592887, 4.306818369481724, 2.853059538631908, -0.22443498909880955, -6.017833915947756, 3.597665118787563, 1.8738795363034466, 2.2393474415737025, 2.082689394458237, -1.3848112642234733, 0.5599538909272006, 0.21361198037621598, 5.892244845869454, 1.3388905055939704, 3.2781083832997604, 2.359287615599759, 2.327460211321797, -1.8170006266454708, 5.572743035297423, -2.9118883593752143, 2.6350850884301558, 5.078739203897675, 3.0284134357106973, 1.987562536579368, -2.96837217520477, 4.560634142667874, 0.39550242600348007, 1.1525941108137427, 2.3348929122021023, 1.624178553224187, -0.9722125927827618, 3.987203460601041, -1.8551319270492916, 2.879213088407262, 2.682403948540335, -0.7889304418434717, -2.488938300629273, 5.73381439888494, -2.0643675251002525, 1.4386551515689794, 1.2726072950754341, -2.3644874447936393, 2.529062358877887, -6.041565343734801, -2.979520148275361, 8.960824542143753, 0.28639199136006877, -2.1442366092965015, -4.450552905072791, -0.14518906202245496, 6.234638261593206, 0.8869189388406307, 1.7829321804941678, -0.22154208261414565, 4.169128737781014, 0.1295068796343335, -0.4178105623771855, -1.4069559086304362, 3.699035562546027, 1.3541929163629174, 2.4932239022306124, 3.962727538779598, -0.3427717327142865, 1.4614254745918043, 1.393727945488843, 0.18357981384173883, 2.4782074481019656, 0.29343513905082386, 1.5634174243059462, 2.817498909471139, 3.0593420581845665, 0.6442747303172291, 6.193110004765479, -3.6984379569731884, -2.968914583761917, 0.7960531579347618, 2.3945690205223524, 0.1636168202534538, 4.162294039401893, 3.2462711939082123, 0.1264976834878917, -6.451545993631081, 2.026656143146144, -9.50184668692281, 8.54265384700248, 3.2005214199599674, 1.3955676425583485, 4.594624674857406, -6.3646061953390065, 6.514657310879346, 1.9188331473656284, -1.5911024622475733, 1.4064280987466482, 2.6136897248994373, 3.620432397944917, 2.534461418855738, 0.41109580297642445, -8.241331904838045, -12.755538389537824, 13.271938857044695, 4.755886687670485, 1.4825873053869953, 6.1299494455465675, 7.401888650397859, -4.393228829944418, -2.2769897317818533, 10.935639766428684, 3.4410728321334405, -0.6421049619809827]}],                        {\"legend\": {\"bgcolor\": \"#F5F6F9\", \"font\": {\"color\": \"#4D5663\"}}, \"paper_bgcolor\": \"#F5F6F9\", \"plot_bgcolor\": \"#F5F6F9\", \"template\": {\"data\": {\"bar\": [{\"error_x\": {\"color\": \"#2a3f5f\"}, \"error_y\": {\"color\": \"#2a3f5f\"}, \"marker\": {\"line\": {\"color\": \"#E5ECF6\", \"width\": 0.5}}, \"type\": \"bar\"}], \"barpolar\": [{\"marker\": {\"line\": {\"color\": \"#E5ECF6\", \"width\": 0.5}}, \"type\": \"barpolar\"}], \"carpet\": [{\"aaxis\": {\"endlinecolor\": \"#2a3f5f\", \"gridcolor\": \"white\", \"linecolor\": \"white\", \"minorgridcolor\": \"white\", \"startlinecolor\": \"#2a3f5f\"}, \"baxis\": {\"endlinecolor\": \"#2a3f5f\", \"gridcolor\": \"white\", \"linecolor\": \"white\", \"minorgridcolor\": \"white\", \"startlinecolor\": \"#2a3f5f\"}, \"type\": \"carpet\"}], \"choropleth\": [{\"colorbar\": {\"outlinewidth\": 0, \"ticks\": \"\"}, \"type\": \"choropleth\"}], \"contour\": [{\"colorbar\": {\"outlinewidth\": 0, \"ticks\": \"\"}, \"colorscale\": [[0.0, \"#0d0887\"], [0.1111111111111111, \"#46039f\"], [0.2222222222222222, \"#7201a8\"], [0.3333333333333333, \"#9c179e\"], [0.4444444444444444, \"#bd3786\"], [0.5555555555555556, \"#d8576b\"], [0.6666666666666666, \"#ed7953\"], [0.7777777777777778, \"#fb9f3a\"], [0.8888888888888888, \"#fdca26\"], [1.0, \"#f0f921\"]], \"type\": \"contour\"}], \"contourcarpet\": [{\"colorbar\": {\"outlinewidth\": 0, \"ticks\": \"\"}, \"type\": \"contourcarpet\"}], \"heatmap\": [{\"colorbar\": {\"outlinewidth\": 0, \"ticks\": \"\"}, \"colorscale\": [[0.0, \"#0d0887\"], [0.1111111111111111, \"#46039f\"], [0.2222222222222222, \"#7201a8\"], [0.3333333333333333, \"#9c179e\"], [0.4444444444444444, \"#bd3786\"], [0.5555555555555556, \"#d8576b\"], [0.6666666666666666, \"#ed7953\"], [0.7777777777777778, \"#fb9f3a\"], [0.8888888888888888, \"#fdca26\"], [1.0, \"#f0f921\"]], \"type\": \"heatmap\"}], \"heatmapgl\": [{\"colorbar\": {\"outlinewidth\": 0, \"ticks\": \"\"}, \"colorscale\": [[0.0, \"#0d0887\"], [0.1111111111111111, \"#46039f\"], [0.2222222222222222, \"#7201a8\"], [0.3333333333333333, \"#9c179e\"], [0.4444444444444444, \"#bd3786\"], [0.5555555555555556, \"#d8576b\"], [0.6666666666666666, \"#ed7953\"], [0.7777777777777778, \"#fb9f3a\"], [0.8888888888888888, \"#fdca26\"], [1.0, \"#f0f921\"]], \"type\": \"heatmapgl\"}], \"histogram\": [{\"marker\": {\"colorbar\": {\"outlinewidth\": 0, \"ticks\": \"\"}}, \"type\": \"histogram\"}], \"histogram2d\": [{\"colorbar\": {\"outlinewidth\": 0, \"ticks\": \"\"}, \"colorscale\": [[0.0, \"#0d0887\"], [0.1111111111111111, \"#46039f\"], [0.2222222222222222, \"#7201a8\"], [0.3333333333333333, \"#9c179e\"], [0.4444444444444444, \"#bd3786\"], [0.5555555555555556, \"#d8576b\"], [0.6666666666666666, \"#ed7953\"], [0.7777777777777778, \"#fb9f3a\"], [0.8888888888888888, \"#fdca26\"], [1.0, \"#f0f921\"]], \"type\": \"histogram2d\"}], \"histogram2dcontour\": [{\"colorbar\": {\"outlinewidth\": 0, \"ticks\": \"\"}, \"colorscale\": [[0.0, \"#0d0887\"], [0.1111111111111111, \"#46039f\"], [0.2222222222222222, \"#7201a8\"], [0.3333333333333333, \"#9c179e\"], [0.4444444444444444, \"#bd3786\"], [0.5555555555555556, \"#d8576b\"], [0.6666666666666666, \"#ed7953\"], [0.7777777777777778, \"#fb9f3a\"], [0.8888888888888888, \"#fdca26\"], [1.0, \"#f0f921\"]], \"type\": \"histogram2dcontour\"}], \"mesh3d\": [{\"colorbar\": {\"outlinewidth\": 0, \"ticks\": \"\"}, \"type\": \"mesh3d\"}], \"parcoords\": [{\"line\": {\"colorbar\": {\"outlinewidth\": 0, \"ticks\": \"\"}}, \"type\": \"parcoords\"}], \"pie\": [{\"automargin\": true, \"type\": \"pie\"}], \"scatter\": [{\"marker\": {\"colorbar\": {\"outlinewidth\": 0, \"ticks\": \"\"}}, \"type\": \"scatter\"}], \"scatter3d\": [{\"line\": {\"colorbar\": {\"outlinewidth\": 0, \"ticks\": \"\"}}, \"marker\": {\"colorbar\": {\"outlinewidth\": 0, \"ticks\": \"\"}}, \"type\": \"scatter3d\"}], \"scattercarpet\": [{\"marker\": {\"colorbar\": {\"outlinewidth\": 0, \"ticks\": \"\"}}, \"type\": \"scattercarpet\"}], \"scattergeo\": [{\"marker\": {\"colorbar\": {\"outlinewidth\": 0, \"ticks\": \"\"}}, \"type\": \"scattergeo\"}], \"scattergl\": [{\"marker\": {\"colorbar\": {\"outlinewidth\": 0, \"ticks\": \"\"}}, \"type\": \"scattergl\"}], \"scattermapbox\": [{\"marker\": {\"colorbar\": {\"outlinewidth\": 0, \"ticks\": \"\"}}, \"type\": \"scattermapbox\"}], \"scatterpolar\": [{\"marker\": {\"colorbar\": {\"outlinewidth\": 0, \"ticks\": \"\"}}, \"type\": \"scatterpolar\"}], \"scatterpolargl\": [{\"marker\": {\"colorbar\": {\"outlinewidth\": 0, \"ticks\": \"\"}}, \"type\": \"scatterpolargl\"}], \"scatterternary\": [{\"marker\": {\"colorbar\": {\"outlinewidth\": 0, \"ticks\": \"\"}}, \"type\": \"scatterternary\"}], \"surface\": [{\"colorbar\": {\"outlinewidth\": 0, \"ticks\": \"\"}, \"colorscale\": [[0.0, \"#0d0887\"], [0.1111111111111111, \"#46039f\"], [0.2222222222222222, \"#7201a8\"], [0.3333333333333333, \"#9c179e\"], [0.4444444444444444, \"#bd3786\"], [0.5555555555555556, \"#d8576b\"], [0.6666666666666666, \"#ed7953\"], [0.7777777777777778, \"#fb9f3a\"], [0.8888888888888888, \"#fdca26\"], [1.0, \"#f0f921\"]], \"type\": \"surface\"}], \"table\": [{\"cells\": {\"fill\": {\"color\": \"#EBF0F8\"}, \"line\": {\"color\": \"white\"}}, \"header\": {\"fill\": {\"color\": \"#C8D4E3\"}, \"line\": {\"color\": \"white\"}}, \"type\": \"table\"}]}, \"layout\": {\"annotationdefaults\": {\"arrowcolor\": \"#2a3f5f\", \"arrowhead\": 0, \"arrowwidth\": 1}, \"autotypenumbers\": \"strict\", \"coloraxis\": {\"colorbar\": {\"outlinewidth\": 0, \"ticks\": \"\"}}, \"colorscale\": {\"diverging\": [[0, \"#8e0152\"], [0.1, \"#c51b7d\"], [0.2, \"#de77ae\"], [0.3, \"#f1b6da\"], [0.4, \"#fde0ef\"], [0.5, \"#f7f7f7\"], [0.6, \"#e6f5d0\"], [0.7, \"#b8e186\"], [0.8, \"#7fbc41\"], [0.9, \"#4d9221\"], [1, \"#276419\"]], \"sequential\": [[0.0, \"#0d0887\"], [0.1111111111111111, \"#46039f\"], [0.2222222222222222, \"#7201a8\"], [0.3333333333333333, \"#9c179e\"], [0.4444444444444444, \"#bd3786\"], [0.5555555555555556, \"#d8576b\"], [0.6666666666666666, \"#ed7953\"], [0.7777777777777778, \"#fb9f3a\"], [0.8888888888888888, \"#fdca26\"], [1.0, \"#f0f921\"]], \"sequentialminus\": [[0.0, \"#0d0887\"], [0.1111111111111111, \"#46039f\"], [0.2222222222222222, \"#7201a8\"], [0.3333333333333333, \"#9c179e\"], [0.4444444444444444, \"#bd3786\"], [0.5555555555555556, \"#d8576b\"], [0.6666666666666666, \"#ed7953\"], [0.7777777777777778, \"#fb9f3a\"], [0.8888888888888888, \"#fdca26\"], [1.0, \"#f0f921\"]]}, \"colorway\": [\"#636efa\", \"#EF553B\", \"#00cc96\", \"#ab63fa\", \"#FFA15A\", \"#19d3f3\", \"#FF6692\", \"#B6E880\", \"#FF97FF\", \"#FECB52\"], \"font\": {\"color\": \"#2a3f5f\"}, \"geo\": {\"bgcolor\": \"white\", \"lakecolor\": \"white\", \"landcolor\": \"#E5ECF6\", \"showlakes\": true, \"showland\": true, \"subunitcolor\": \"white\"}, \"hoverlabel\": {\"align\": \"left\"}, \"hovermode\": \"closest\", \"mapbox\": {\"style\": \"light\"}, \"paper_bgcolor\": \"white\", \"plot_bgcolor\": \"#E5ECF6\", \"polar\": {\"angularaxis\": {\"gridcolor\": \"white\", \"linecolor\": \"white\", \"ticks\": \"\"}, \"bgcolor\": \"#E5ECF6\", \"radialaxis\": {\"gridcolor\": \"white\", \"linecolor\": \"white\", \"ticks\": \"\"}}, \"scene\": {\"xaxis\": {\"backgroundcolor\": \"#E5ECF6\", \"gridcolor\": \"white\", \"gridwidth\": 2, \"linecolor\": \"white\", \"showbackground\": true, \"ticks\": \"\", \"zerolinecolor\": \"white\"}, \"yaxis\": {\"backgroundcolor\": \"#E5ECF6\", \"gridcolor\": \"white\", \"gridwidth\": 2, \"linecolor\": \"white\", \"showbackground\": true, \"ticks\": \"\", \"zerolinecolor\": \"white\"}, \"zaxis\": {\"backgroundcolor\": \"#E5ECF6\", \"gridcolor\": \"white\", \"gridwidth\": 2, \"linecolor\": \"white\", \"showbackground\": true, \"ticks\": \"\", \"zerolinecolor\": \"white\"}}, \"shapedefaults\": {\"line\": {\"color\": \"#2a3f5f\"}}, \"ternary\": {\"aaxis\": {\"gridcolor\": \"white\", \"linecolor\": \"white\", \"ticks\": \"\"}, \"baxis\": {\"gridcolor\": \"white\", \"linecolor\": \"white\", \"ticks\": \"\"}, \"bgcolor\": \"#E5ECF6\", \"caxis\": {\"gridcolor\": \"white\", \"linecolor\": \"white\", \"ticks\": \"\"}}, \"title\": {\"x\": 0.05}, \"xaxis\": {\"automargin\": true, \"gridcolor\": \"white\", \"linecolor\": \"white\", \"ticks\": \"\", \"title\": {\"standoff\": 15}, \"zerolinecolor\": \"white\", \"zerolinewidth\": 2}, \"yaxis\": {\"automargin\": true, \"gridcolor\": \"white\", \"linecolor\": \"white\", \"ticks\": \"\", \"title\": {\"standoff\": 15}, \"zerolinecolor\": \"white\", \"zerolinewidth\": 2}}}, \"title\": {\"font\": {\"color\": \"#4D5663\"}, \"text\": \"Return Comparison\"}, \"xaxis\": {\"gridcolor\": \"#E1E5ED\", \"showgrid\": true, \"tickfont\": {\"color\": \"#4D5663\"}, \"title\": {\"font\": {\"color\": \"#4D5663\"}, \"text\": \"Date\"}, \"zerolinecolor\": \"#E1E5ED\"}, \"yaxis\": {\"gridcolor\": \"#E1E5ED\", \"showgrid\": true, \"tickfont\": {\"color\": \"#4D5663\"}, \"title\": {\"font\": {\"color\": \"#4D5663\"}, \"text\": \"Returns\"}, \"zerolinecolor\": \"#E1E5ED\"}},                        {\"responsive\": true}                    ).then(function(){\n",
       "                            \n",
       "var gd = document.getElementById('49e2310c-df18-406c-b6fd-b69c07d11bdd');\n",
       "var x = new MutationObserver(function (mutations, observer) {{\n",
       "        var display = window.getComputedStyle(gd).display;\n",
       "        if (!display || display === 'none') {{\n",
       "            console.log([gd, 'removed!']);\n",
       "            Plotly.purge(gd);\n",
       "            observer.disconnect();\n",
       "        }}\n",
       "}});\n",
       "\n",
       "// Listen for the removal of the full notebook cells\n",
       "var notebookContainer = gd.closest('#notebook-container');\n",
       "if (notebookContainer) {{\n",
       "    x.observe(notebookContainer, {childList: true});\n",
       "}}\n",
       "\n",
       "// Listen for the clearing of the current output cell\n",
       "var outputEl = gd.closest('.output');\n",
       "if (outputEl) {{\n",
       "    x.observe(outputEl, {childList: true});\n",
       "}}\n",
       "\n",
       "                        })                };                });            </script>        </div>"
      ]
     },
     "metadata": {},
     "output_type": "display_data"
    }
   ],
   "source": [
    "plyo.iplot(  \n",
    "    portfolio_return[['Louise Returns','Naive Returns']].iplot(asFigure=True,\n",
    "                    title='Return Comparison',  \n",
    "                     xTitle='Date',  \n",
    "                     yTitle='Returns',\n",
    "                    mode={'Louise Returns': 'lines+markers','Naive Returns' : 'markers'},  \n",
    "             symbol={'Louise Returns': 'circle', 'Naive Returns' : 'diamond'},  \n",
    "             size=5.5,  \n",
    "             colors={'Louise Returns': 'orange', 'Naive Returns' : 'blue'}, ),)"
   ]
  },
  {
   "cell_type": "code",
   "execution_count": 21,
   "metadata": {},
   "outputs": [
    {
     "data": {
      "application/vnd.plotly.v1+json": {
       "config": {
        "linkText": "Export to plot.ly",
        "plotlyServerURL": "https://plot.ly",
        "showLink": false
       },
       "data": [
        {
         "line": {
          "color": "red",
          "dash": "solid",
          "shape": "linear",
          "width": 1.3
         },
         "marker": {
          "size": 2.5,
          "symbol": "circle"
         },
         "mode": "lines+markers",
         "name": "Vfinx Return",
         "text": "",
         "type": "scatter",
         "x": [
          "1985-02-28",
          "1985-03-31",
          "1985-04-30",
          "1985-05-31",
          "1985-06-30",
          "1985-07-31",
          "1985-08-31",
          "1985-09-30",
          "1985-10-31",
          "1985-11-30",
          "1985-12-31",
          "1986-01-31",
          "1986-02-28",
          "1986-03-31",
          "1986-04-30",
          "1986-05-31",
          "1986-06-30",
          "1986-07-31",
          "1986-08-31",
          "1986-09-30",
          "1986-10-31",
          "1986-11-30",
          "1986-12-31",
          "1987-01-31",
          "1987-02-28",
          "1987-03-31",
          "1987-04-30",
          "1987-05-31",
          "1987-06-30",
          "1987-07-31",
          "1987-08-31",
          "1987-09-30",
          "1987-10-31",
          "1987-11-30",
          "1987-12-31",
          "1988-01-31",
          "1988-02-29",
          "1988-03-31",
          "1988-04-30",
          "1988-05-31",
          "1988-06-30",
          "1988-07-31",
          "1988-08-31",
          "1988-09-30",
          "1988-10-31",
          "1988-11-30",
          "1988-12-31",
          "1989-01-31",
          "1989-02-28",
          "1989-03-31",
          "1989-04-30",
          "1989-05-31",
          "1989-06-30",
          "1989-07-31",
          "1989-08-31",
          "1989-09-30",
          "1989-10-31",
          "1989-11-30",
          "1989-12-31",
          "1990-01-31",
          "1990-02-28",
          "1990-03-31",
          "1990-04-30",
          "1990-05-31",
          "1990-06-30",
          "1990-07-31",
          "1990-08-31",
          "1990-09-30",
          "1990-10-31",
          "1990-11-30",
          "1990-12-31",
          "1991-01-31",
          "1991-02-28",
          "1991-03-31",
          "1991-04-30",
          "1991-05-31",
          "1991-06-30",
          "1991-07-31",
          "1991-08-31",
          "1991-09-30",
          "1991-10-31",
          "1991-11-30",
          "1991-12-31",
          "1992-01-31",
          "1992-02-29",
          "1992-03-31",
          "1992-04-30",
          "1992-05-31",
          "1992-06-30",
          "1992-07-31",
          "1992-08-31",
          "1992-09-30",
          "1992-10-31",
          "1992-11-30",
          "1992-12-31",
          "1993-01-31",
          "1993-02-28",
          "1993-03-31",
          "1993-04-30",
          "1993-05-31",
          "1993-06-30",
          "1993-07-31",
          "1993-08-31",
          "1993-09-30",
          "1993-10-31",
          "1993-11-30",
          "1993-12-31",
          "1994-01-31",
          "1994-02-28",
          "1994-03-31",
          "1994-04-30",
          "1994-05-31",
          "1994-06-30",
          "1994-07-31",
          "1994-08-31",
          "1994-09-30",
          "1994-10-31",
          "1994-11-30",
          "1994-12-31",
          "1995-01-31",
          "1995-02-28",
          "1995-03-31",
          "1995-04-30",
          "1995-05-31",
          "1995-06-30",
          "1995-07-31",
          "1995-08-31",
          "1995-09-30",
          "1995-10-31",
          "1995-11-30",
          "1995-12-31",
          "1996-01-31",
          "1996-02-29",
          "1996-03-31",
          "1996-04-30",
          "1996-05-31",
          "1996-06-30",
          "1996-07-31",
          "1996-08-31",
          "1996-09-30",
          "1996-10-31",
          "1996-11-30",
          "1996-12-31",
          "1997-01-31",
          "1997-02-28",
          "1997-03-31",
          "1997-04-30",
          "1997-05-31",
          "1997-06-30",
          "1997-07-31",
          "1997-08-31",
          "1997-09-30",
          "1997-10-31",
          "1997-11-30",
          "1997-12-31",
          "1998-01-31",
          "1998-02-28",
          "1998-03-31",
          "1998-04-30",
          "1998-05-31",
          "1998-06-30",
          "1998-07-31",
          "1998-08-31",
          "1998-09-30",
          "1998-10-31",
          "1998-11-30",
          "1998-12-31",
          "1999-01-31",
          "1999-02-28",
          "1999-03-31",
          "1999-04-30",
          "1999-05-31",
          "1999-06-30",
          "1999-07-31",
          "1999-08-31",
          "1999-09-30",
          "1999-10-31",
          "1999-11-30",
          "1999-12-31",
          "2000-01-31",
          "2000-02-29",
          "2000-03-31",
          "2000-04-30",
          "2000-05-31",
          "2000-06-30",
          "2000-07-31",
          "2000-08-31",
          "2000-09-30",
          "2000-10-31",
          "2000-11-30",
          "2000-12-31",
          "2001-01-31",
          "2001-02-28",
          "2001-03-31",
          "2001-04-30",
          "2001-05-31",
          "2001-06-30",
          "2001-07-31",
          "2001-08-31",
          "2001-09-30",
          "2001-10-31",
          "2001-11-30",
          "2001-12-31",
          "2002-01-31",
          "2002-02-28",
          "2002-03-31",
          "2002-04-30",
          "2002-05-31",
          "2002-06-30",
          "2002-07-31",
          "2002-08-31",
          "2002-09-30",
          "2002-10-31",
          "2002-11-30",
          "2002-12-31",
          "2003-01-31",
          "2003-02-28",
          "2003-03-31",
          "2003-04-30",
          "2003-05-31",
          "2003-06-30",
          "2003-07-31",
          "2003-08-31",
          "2003-09-30",
          "2003-10-31",
          "2003-11-30",
          "2003-12-31",
          "2004-01-31",
          "2004-02-29",
          "2004-03-31",
          "2004-04-30",
          "2004-05-31",
          "2004-06-30",
          "2004-07-31",
          "2004-08-31",
          "2004-09-30",
          "2004-10-31",
          "2004-11-30",
          "2004-12-31",
          "2005-01-31",
          "2005-02-28",
          "2005-03-31",
          "2005-04-30",
          "2005-05-31",
          "2005-06-30",
          "2005-07-31",
          "2005-08-31",
          "2005-09-30",
          "2005-10-31",
          "2005-11-30",
          "2005-12-31",
          "2006-01-31",
          "2006-02-28",
          "2006-03-31",
          "2006-04-30",
          "2006-05-31",
          "2006-06-30",
          "2006-07-31",
          "2006-08-31",
          "2006-09-30",
          "2006-10-31",
          "2006-11-30",
          "2006-12-31",
          "2007-01-31",
          "2007-02-28",
          "2007-03-31",
          "2007-04-30",
          "2007-05-31",
          "2007-06-30",
          "2007-07-31",
          "2007-08-31",
          "2007-09-30",
          "2007-10-31",
          "2007-11-30",
          "2007-12-31",
          "2008-01-31",
          "2008-02-29",
          "2008-03-31",
          "2008-04-30",
          "2008-05-31",
          "2008-06-30",
          "2008-07-31",
          "2008-08-31",
          "2008-09-30",
          "2008-10-31",
          "2008-11-30",
          "2008-12-31",
          "2009-01-31",
          "2009-02-28",
          "2009-03-31",
          "2009-04-30",
          "2009-05-31",
          "2009-06-30",
          "2009-07-31",
          "2009-08-31",
          "2009-09-30",
          "2009-10-31",
          "2009-11-30",
          "2009-12-31",
          "2010-01-31",
          "2010-02-28",
          "2010-03-31",
          "2010-04-30",
          "2010-05-31",
          "2010-06-30",
          "2010-07-31",
          "2010-08-31",
          "2010-09-30",
          "2010-10-31",
          "2010-11-30",
          "2010-12-31",
          "2011-01-31",
          "2011-02-28",
          "2011-03-31",
          "2011-04-30",
          "2011-05-31",
          "2011-06-30",
          "2011-07-31",
          "2011-08-31",
          "2011-09-30",
          "2011-10-31",
          "2011-11-30",
          "2011-12-31",
          "2012-01-31",
          "2012-02-29",
          "2012-03-31",
          "2012-04-30",
          "2012-05-31",
          "2012-06-30",
          "2012-07-31",
          "2012-08-31",
          "2012-09-30",
          "2012-10-31",
          "2012-11-30",
          "2012-12-31",
          "2013-01-31",
          "2013-02-28",
          "2013-03-31",
          "2013-04-30",
          "2013-05-31",
          "2013-06-30",
          "2013-07-31",
          "2013-08-31",
          "2013-09-30",
          "2013-10-31",
          "2013-11-30",
          "2013-12-31",
          "2014-01-31",
          "2014-02-28",
          "2014-03-31",
          "2014-04-30",
          "2014-05-31",
          "2014-06-30",
          "2014-07-31",
          "2014-08-31",
          "2014-09-30",
          "2014-10-31",
          "2014-11-30",
          "2014-12-31",
          "2015-01-31",
          "2015-02-28",
          "2015-03-31",
          "2015-04-30",
          "2015-05-31",
          "2015-06-30",
          "2015-07-31",
          "2015-08-31",
          "2015-09-30",
          "2015-10-31",
          "2015-11-30",
          "2015-12-31",
          "2016-01-31",
          "2016-02-29",
          "2016-03-31",
          "2016-04-30",
          "2016-05-31",
          "2016-06-30",
          "2016-07-31",
          "2016-08-31",
          "2016-09-30",
          "2016-10-31",
          "2016-11-30",
          "2016-12-31",
          "2017-01-31",
          "2017-02-28",
          "2017-03-31",
          "2017-04-30",
          "2017-05-31",
          "2017-06-30",
          "2017-07-31",
          "2017-08-31",
          "2017-09-30",
          "2017-10-31",
          "2017-11-30",
          "2017-12-31",
          "2018-01-31",
          "2018-02-28",
          "2018-03-31",
          "2018-04-30",
          "2018-05-31",
          "2018-06-30",
          "2018-07-31",
          "2018-08-31",
          "2018-09-30",
          "2018-10-31",
          "2018-11-30",
          "2018-12-31",
          "2019-01-31",
          "2019-02-28",
          "2019-03-31",
          "2019-04-30",
          "2019-05-31",
          "2019-06-30",
          "2019-07-31",
          "2019-08-31",
          "2019-09-30",
          "2019-10-31",
          "2019-11-30",
          "2019-12-31",
          "2020-01-31",
          "2020-02-29",
          "2020-03-31",
          "2020-04-30",
          "2020-05-31",
          "2020-06-30",
          "2020-07-31",
          "2020-08-31",
          "2020-09-30",
          "2020-10-31",
          "2020-11-30",
          "2020-12-31",
          "2021-01-31"
         ],
         "y": [
          1.3809613415549205,
          -0.8454877092284763,
          0.5712950262662053,
          6.03327349759708,
          0.6272047766660682,
          0.5791559703768989,
          -0.6693762049297058,
          -3.9532616614361804,
          5.279698214032202,
          6.9444293800256185,
          -3.6865715459937998,
          1.9717807167298984,
          7.579064516126088,
          4.750357079328116,
          -0.6578244716347825,
          5.453778551874033,
          0.9974012373828778,
          -5.116366197191724,
          7.450489474923971,
          -8.956335172770613,
          6.391722067547589,
          2.553539823420947,
          -11.131486834197634,
          14.864035474301463,
          3.96510766935394,
          2.239256994009997,
          -0.4011487059759733,
          1.0369334217409154,
          4.413336777709453,
          5.5272690484510445,
          3.841465416884704,
          -2.827111502746582,
          -21.288630798683684,
          -8.18506180836993,
          6.158460300387092,
          4.036457899529822,
          5.374253110574778,
          -3.7134285822928215,
          1.7236781675027624,
          0.8098549314198289,
          3.8638221589642363,
          0.30336487611064555,
          -3.401154665365591,
          3.559106063338935,
          3.4275671926948137,
          -1.4748354906003902,
          -0.7667074810139507,
          8.769186495442515,
          -2.468227032249215,
          1.019318463225205,
          5.846628335936721,
          4.0357204578520545,
          -1.1446724486905868,
          9.617159019419352,
          1.8589720237034868,
          -0.9270118191382015,
          -1.8177182487035592,
          2.0359717063580307,
          -1.2911110996015385,
          -4.895107120082742,
          1.2746995711970799,
          1.8879774471041388,
          -1.9628515138431113,
          9.692763854693997,
          -1.1839596851582423,
          0.18224499737535815,
          -9.03228050449999,
          -5.480329678229657,
          0.19751479092862123,
          6.438335384630278,
          0.5148598222540546,
          6.4504281390219464,
          7.116548394961009,
          1.6895973399161823,
          0.7026084021356738,
          4.272030430705831,
          -5.0403305666770315,
          5.16079536646552,
          2.333178006169412,
          -2.1473907482822185,
          1.8230163274365774,
          -4.010700238094788,
          9.49860716906783,
          -0.28982188152536503,
          1.2441304311163526,
          -2.483313862004255,
          3.5031470502919326,
          0.48468343245564594,
          -2.0563645484947046,
          4.643483710079277,
          -2.0677335601558933,
          0.610512989260914,
          0.8878153428073521,
          3.4022139264590745,
          0.5605490980752359,
          1.2094277452026736,
          1.355900731942672,
          1.5050187415662997,
          -1.915551617686595,
          2.6531683410062845,
          -0.25842230479694583,
          0.09777228776131075,
          3.785261533632922,
          -1.2992706065155568,
          2.604265702056918,
          -0.9955252512625967,
          0.1599904023833032,
          4.4749967113525635,
          -2.714644067921035,
          -5.036325865805235,
          1.7955719598877318,
          1.6037509154593899,
          -2.948016255904906,
          3.8121283868050693,
          4.075948106620086,
          -2.937284670050122,
          2.7621571877291418,
          -3.6546906255901623,
          0,
          3.7892176199622707,
          3.8793055643776553,
          2.467762257455175,
          3.4296969499326035,
          3.954428546814004,
          1.8721676917764052,
          3.748402479438373,
          0.26494427879473204,
          3.7939526027294557,
          0.036980664873320634,
          4.380368638824006,
          0.7169040841638941,
          4.397937578355093,
          0.9235651697243163,
          0.5491507090493508,
          1.8229398270291242,
          2.544368151336762,
          0.03184524181285564,
          -4.085072364698783,
          2.0961778271751497,
          5.2468701709359244,
          3.106863458369258,
          7.5636942067395685,
          -3.123751619346493,
          7.175706775450941,
          0.7894523504035078,
          -4.537459490161455,
          6.34278840537168,
          6.0881612094759285,
          4.115303447911867,
          8.313593529393382,
          -5.609045820538261,
          5.147690776271618,
          -3.057294479632089,
          4.598562132247475,
          0.5020986219671508,
          1.6894586639604192,
          7.192285153367872,
          4.701850645914507,
          1.2745773694826878,
          -1.7435482665707935,
          3.805196422649093,
          -0.7993055405375316,
          -14.473561304009586,
          6.11599992774654,
          8.465503089568083,
          6.071561288281457,
          5.032736573415586,
          4.688566798292659,
          -3.124495297944463,
          3.3643921628987217,
          4.086275394317118,
          -2.3890741003234517,
          5.226962591294182,
          -2.827333335591109,
          -0.4964972439095994,
          -3.026551678873135,
          6.641031089239147,
          2.022973797250738,
          5.233280658143147,
          -4.7389440681120165,
          -1.9063411716820688,
          9.526469492726509,
          -2.7987136860988637,
          -2.0383648868524618,
          2.248506606917977,
          -1.2628261054538514,
          6.189997199088815,
          -5.515617103516057,
          -0.19160128781141594,
          -7.8775661201848095,
          0.19731271592480226,
          3.8707442071284515,
          -9.137746722653727,
          -6.611411565008407,
          8.059244695683287,
          0.6499111790224665,
          -2.6863524284742035,
          -0.7570241430274405,
          -6.273994986418863,
          -8.41997421253009,
          2.2540880599752677,
          7.6537881762447135,
          0.5125726755228266,
          -1.117758237836386,
          -1.9361561244870984,
          3.4600460656805554,
          -5.81866688894348,
          -0.7543892432401944,
          -7.4388876944262545,
          -7.420973924894458,
          0.652601314684631,
          -11.281376922486608,
          9.265234417017009,
          6.156098885279704,
          -6.6274857445164255,
          -2.1262498103261973,
          -1.518549171637651,
          0.5782195545660285,
          8.658652686424094,
          5.263819205329856,
          0.9305781998442786,
          2.0763900684802383,
          1.9324892866552368,
          -1.4567295957204962,
          6.051779204657404,
          0.8642443840141789,
          4.733280406406037,
          2.295272629015477,
          1.3774675615407128,
          -1.8588758489463397,
          -1.2307820142275605,
          1.3578746903166072,
          1.5901684039822506,
          -2.989664896254096,
          0.3826394747792117,
          0.664602303504469,
          1.9212484359511617,
          4.045907234375878,
          2.629197964427954,
          -1.7275546528347063,
          2.09363535048519,
          -2.1496574503741317,
          -1.5210756859878494,
          3.1674523197411375,
          -0.2543672975220068,
          4.100048739921536,
          -0.9131987047844015,
          0.31904434578824414,
          -1.2126358293453765,
          3.7645980873080465,
          -0.49358272934955094,
          3.177873697016098,
          0.25430370631260857,
          0.8286793235941392,
          1.7466041562405277,
          -2.896590348776018,
          -0.2898252531256751,
          1.027942039763441,
          2.3619300611866123,
          2.124836303847366,
          3.6932949996981046,
          1.8813114510225715,
          0.8962300403801082,
          2.0012349818748554,
          -1.969228933179068,
          0.6927079012070791,
          4.852822852764249,
          3.4770483854079437,
          -2.072724361285261,
          -2.69764741088393,
          1.4983108921961197,
          3.2682257710060503,
          2.0291404023718096,
          -4.186765444468277,
          -1.242274415786715,
          -5.490733207663878,
          -3.2514510810511266,
          -0.9276805220011952,
          5.372233324452913,
          1.2845724369356493,
          -8.877895633384947,
          -0.36718888865907573,
          1.446309893417852,
          -9.422961326180202,
          -16.30815732212224,
          -7.174882889619861,
          0.19294224024120066,
          -7.6091692914576186,
          -10.65700608373622,
          8.015848810759053,
          10.331337001055063,
          5.6177093489412355,
          -0.30592996589530186,
          8.146615528420288,
          3.5989160177352764,
          3.20906219492334,
          -1.376185351312309,
          5.981364684602819,
          1.3024076935753248,
          -2.991066943831655,
          3.091847513892998,
          5.586615078534352,
          1.991134427419805,
          -7.995950624485215,
          -5.731043729327734,
          7.542346648511145,
          -4.529800427986896,
          8.365167445749844,
          4.314233870325079,
          0,
          6.21789871144145,
          2.7933426445593046,
          3.41629403261845,
          -0.3915398349339072,
          3.383087825990083,
          -1.1454156118673287,
          -2.1161620480114607,
          -1.6039147628036154,
          -5.446434101793107,
          -7.535273314186353,
          11.485867201196353,
          -0.233633214550244,
          0.4510504308220531,
          5.058839691592887,
          4.306818369481724,
          2.853059538631908,
          -0.22443498909880955,
          -6.017833915947756,
          3.597665118787563,
          1.8738795363034466,
          2.2393474415737025,
          2.082689394458237,
          -1.3848112642234733,
          0.5599538909272006,
          0.21361198037621598,
          5.892244845869454,
          1.3388905055939704,
          3.2781083832997604,
          2.359287615599759,
          2.327460211321797,
          -1.8170006266454708,
          5.572743035297423,
          -2.9118883593752143,
          2.6350850884301558,
          5.078739203897675,
          3.0284134357106973,
          1.987562536579368,
          -2.96837217520477,
          4.560634142667874,
          0.39550242600348007,
          1.1525941108137427,
          2.3348929122021023,
          1.624178553224187,
          -0.9722125927827618,
          3.987203460601041,
          -1.8551319270492916,
          2.879213088407262,
          2.682403948540335,
          -0.7889304418434717,
          -2.488938300629273,
          5.73381439888494,
          -2.0643675251002525,
          1.4386551515689794,
          1.2726072950754341,
          -2.3644874447936393,
          2.529062358877887,
          -6.041565343734801,
          -2.979520148275361,
          8.960824542143753,
          0.28639199136006877,
          -2.1442366092965015,
          -4.450552905072791,
          -0.14518906202245496,
          6.234638261593206,
          0.8869189388406307,
          1.7829321804941678,
          -0.22154208261414565,
          4.169128737781014,
          0.1295068796343335,
          -0.4178105623771855,
          -1.4069559086304362,
          3.699035562546027,
          1.3541929163629174,
          2.4932239022306124,
          3.962727538779598,
          -0.3427717327142865,
          1.4614254745918043,
          1.393727945488843,
          0.18357981384173883,
          2.4782074481019656,
          0.29343513905082386,
          1.5634174243059462,
          2.817498909471139,
          3.0593420581845665,
          0.6442747303172291,
          6.193110004765479,
          -3.6984379569731884,
          -2.968914583761917,
          0.7960531579347618,
          2.3945690205223524,
          0.1636168202534538,
          4.162294039401893,
          3.2462711939082123,
          0.1264976834878917,
          -6.451545993631081,
          2.026656143146144,
          -9.50184668692281,
          8.54265384700248,
          3.2005214199599674,
          1.3955676425583485,
          4.594624674857406,
          -6.3646061953390065,
          6.514657310879346,
          1.9188331473656284,
          -1.5911024622475733,
          1.4064280987466482,
          2.6136897248994373,
          3.620432397944917,
          2.534461418855738,
          0.41109580297642445,
          -8.241331904838045,
          -12.755538389537824,
          13.271938857044695,
          4.755886687670485,
          1.4825873053869953,
          6.1299494455465675,
          7.401888650397859,
          -4.393228829944418,
          -2.2769897317818533,
          10.935639766428684,
          3.4410728321334405,
          -0.6421049619809827
         ]
        },
        {
         "line": {
          "color": "blue",
          "dash": "solid",
          "shape": "linear",
          "width": 1.3
         },
         "marker": {
          "size": 2.5,
          "symbol": "diamond"
         },
         "mode": "lines+markers",
         "name": "RF Return",
         "text": "",
         "type": "scatter",
         "x": [
          "1985-02-28",
          "1985-03-31",
          "1985-04-30",
          "1985-05-31",
          "1985-06-30",
          "1985-07-31",
          "1985-08-31",
          "1985-09-30",
          "1985-10-31",
          "1985-11-30",
          "1985-12-31",
          "1986-01-31",
          "1986-02-28",
          "1986-03-31",
          "1986-04-30",
          "1986-05-31",
          "1986-06-30",
          "1986-07-31",
          "1986-08-31",
          "1986-09-30",
          "1986-10-31",
          "1986-11-30",
          "1986-12-31",
          "1987-01-31",
          "1987-02-28",
          "1987-03-31",
          "1987-04-30",
          "1987-05-31",
          "1987-06-30",
          "1987-07-31",
          "1987-08-31",
          "1987-09-30",
          "1987-10-31",
          "1987-11-30",
          "1987-12-31",
          "1988-01-31",
          "1988-02-29",
          "1988-03-31",
          "1988-04-30",
          "1988-05-31",
          "1988-06-30",
          "1988-07-31",
          "1988-08-31",
          "1988-09-30",
          "1988-10-31",
          "1988-11-30",
          "1988-12-31",
          "1989-01-31",
          "1989-02-28",
          "1989-03-31",
          "1989-04-30",
          "1989-05-31",
          "1989-06-30",
          "1989-07-31",
          "1989-08-31",
          "1989-09-30",
          "1989-10-31",
          "1989-11-30",
          "1989-12-31",
          "1990-01-31",
          "1990-02-28",
          "1990-03-31",
          "1990-04-30",
          "1990-05-31",
          "1990-06-30",
          "1990-07-31",
          "1990-08-31",
          "1990-09-30",
          "1990-10-31",
          "1990-11-30",
          "1990-12-31",
          "1991-01-31",
          "1991-02-28",
          "1991-03-31",
          "1991-04-30",
          "1991-05-31",
          "1991-06-30",
          "1991-07-31",
          "1991-08-31",
          "1991-09-30",
          "1991-10-31",
          "1991-11-30",
          "1991-12-31",
          "1992-01-31",
          "1992-02-29",
          "1992-03-31",
          "1992-04-30",
          "1992-05-31",
          "1992-06-30",
          "1992-07-31",
          "1992-08-31",
          "1992-09-30",
          "1992-10-31",
          "1992-11-30",
          "1992-12-31",
          "1993-01-31",
          "1993-02-28",
          "1993-03-31",
          "1993-04-30",
          "1993-05-31",
          "1993-06-30",
          "1993-07-31",
          "1993-08-31",
          "1993-09-30",
          "1993-10-31",
          "1993-11-30",
          "1993-12-31",
          "1994-01-31",
          "1994-02-28",
          "1994-03-31",
          "1994-04-30",
          "1994-05-31",
          "1994-06-30",
          "1994-07-31",
          "1994-08-31",
          "1994-09-30",
          "1994-10-31",
          "1994-11-30",
          "1994-12-31",
          "1995-01-31",
          "1995-02-28",
          "1995-03-31",
          "1995-04-30",
          "1995-05-31",
          "1995-06-30",
          "1995-07-31",
          "1995-08-31",
          "1995-09-30",
          "1995-10-31",
          "1995-11-30",
          "1995-12-31",
          "1996-01-31",
          "1996-02-29",
          "1996-03-31",
          "1996-04-30",
          "1996-05-31",
          "1996-06-30",
          "1996-07-31",
          "1996-08-31",
          "1996-09-30",
          "1996-10-31",
          "1996-11-30",
          "1996-12-31",
          "1997-01-31",
          "1997-02-28",
          "1997-03-31",
          "1997-04-30",
          "1997-05-31",
          "1997-06-30",
          "1997-07-31",
          "1997-08-31",
          "1997-09-30",
          "1997-10-31",
          "1997-11-30",
          "1997-12-31",
          "1998-01-31",
          "1998-02-28",
          "1998-03-31",
          "1998-04-30",
          "1998-05-31",
          "1998-06-30",
          "1998-07-31",
          "1998-08-31",
          "1998-09-30",
          "1998-10-31",
          "1998-11-30",
          "1998-12-31",
          "1999-01-31",
          "1999-02-28",
          "1999-03-31",
          "1999-04-30",
          "1999-05-31",
          "1999-06-30",
          "1999-07-31",
          "1999-08-31",
          "1999-09-30",
          "1999-10-31",
          "1999-11-30",
          "1999-12-31",
          "2000-01-31",
          "2000-02-29",
          "2000-03-31",
          "2000-04-30",
          "2000-05-31",
          "2000-06-30",
          "2000-07-31",
          "2000-08-31",
          "2000-09-30",
          "2000-10-31",
          "2000-11-30",
          "2000-12-31",
          "2001-01-31",
          "2001-02-28",
          "2001-03-31",
          "2001-04-30",
          "2001-05-31",
          "2001-06-30",
          "2001-07-31",
          "2001-08-31",
          "2001-09-30",
          "2001-10-31",
          "2001-11-30",
          "2001-12-31",
          "2002-01-31",
          "2002-02-28",
          "2002-03-31",
          "2002-04-30",
          "2002-05-31",
          "2002-06-30",
          "2002-07-31",
          "2002-08-31",
          "2002-09-30",
          "2002-10-31",
          "2002-11-30",
          "2002-12-31",
          "2003-01-31",
          "2003-02-28",
          "2003-03-31",
          "2003-04-30",
          "2003-05-31",
          "2003-06-30",
          "2003-07-31",
          "2003-08-31",
          "2003-09-30",
          "2003-10-31",
          "2003-11-30",
          "2003-12-31",
          "2004-01-31",
          "2004-02-29",
          "2004-03-31",
          "2004-04-30",
          "2004-05-31",
          "2004-06-30",
          "2004-07-31",
          "2004-08-31",
          "2004-09-30",
          "2004-10-31",
          "2004-11-30",
          "2004-12-31",
          "2005-01-31",
          "2005-02-28",
          "2005-03-31",
          "2005-04-30",
          "2005-05-31",
          "2005-06-30",
          "2005-07-31",
          "2005-08-31",
          "2005-09-30",
          "2005-10-31",
          "2005-11-30",
          "2005-12-31",
          "2006-01-31",
          "2006-02-28",
          "2006-03-31",
          "2006-04-30",
          "2006-05-31",
          "2006-06-30",
          "2006-07-31",
          "2006-08-31",
          "2006-09-30",
          "2006-10-31",
          "2006-11-30",
          "2006-12-31",
          "2007-01-31",
          "2007-02-28",
          "2007-03-31",
          "2007-04-30",
          "2007-05-31",
          "2007-06-30",
          "2007-07-31",
          "2007-08-31",
          "2007-09-30",
          "2007-10-31",
          "2007-11-30",
          "2007-12-31",
          "2008-01-31",
          "2008-02-29",
          "2008-03-31",
          "2008-04-30",
          "2008-05-31",
          "2008-06-30",
          "2008-07-31",
          "2008-08-31",
          "2008-09-30",
          "2008-10-31",
          "2008-11-30",
          "2008-12-31",
          "2009-01-31",
          "2009-02-28",
          "2009-03-31",
          "2009-04-30",
          "2009-05-31",
          "2009-06-30",
          "2009-07-31",
          "2009-08-31",
          "2009-09-30",
          "2009-10-31",
          "2009-11-30",
          "2009-12-31",
          "2010-01-31",
          "2010-02-28",
          "2010-03-31",
          "2010-04-30",
          "2010-05-31",
          "2010-06-30",
          "2010-07-31",
          "2010-08-31",
          "2010-09-30",
          "2010-10-31",
          "2010-11-30",
          "2010-12-31",
          "2011-01-31",
          "2011-02-28",
          "2011-03-31",
          "2011-04-30",
          "2011-05-31",
          "2011-06-30",
          "2011-07-31",
          "2011-08-31",
          "2011-09-30",
          "2011-10-31",
          "2011-11-30",
          "2011-12-31",
          "2012-01-31",
          "2012-02-29",
          "2012-03-31",
          "2012-04-30",
          "2012-05-31",
          "2012-06-30",
          "2012-07-31",
          "2012-08-31",
          "2012-09-30",
          "2012-10-31",
          "2012-11-30",
          "2012-12-31",
          "2013-01-31",
          "2013-02-28",
          "2013-03-31",
          "2013-04-30",
          "2013-05-31",
          "2013-06-30",
          "2013-07-31",
          "2013-08-31",
          "2013-09-30",
          "2013-10-31",
          "2013-11-30",
          "2013-12-31",
          "2014-01-31",
          "2014-02-28",
          "2014-03-31",
          "2014-04-30",
          "2014-05-31",
          "2014-06-30",
          "2014-07-31",
          "2014-08-31",
          "2014-09-30",
          "2014-10-31",
          "2014-11-30",
          "2014-12-31",
          "2015-01-31",
          "2015-02-28",
          "2015-03-31",
          "2015-04-30",
          "2015-05-31",
          "2015-06-30",
          "2015-07-31",
          "2015-08-31",
          "2015-09-30",
          "2015-10-31",
          "2015-11-30",
          "2015-12-31",
          "2016-01-31",
          "2016-02-29",
          "2016-03-31",
          "2016-04-30",
          "2016-05-31",
          "2016-06-30",
          "2016-07-31",
          "2016-08-31",
          "2016-09-30",
          "2016-10-31",
          "2016-11-30",
          "2016-12-31",
          "2017-01-31",
          "2017-02-28",
          "2017-03-31",
          "2017-04-30",
          "2017-05-31",
          "2017-06-30",
          "2017-07-31",
          "2017-08-31",
          "2017-09-30",
          "2017-10-31",
          "2017-11-30",
          "2017-12-31",
          "2018-01-31",
          "2018-02-28",
          "2018-03-31",
          "2018-04-30",
          "2018-05-31",
          "2018-06-30",
          "2018-07-31",
          "2018-08-31",
          "2018-09-30",
          "2018-10-31",
          "2018-11-30",
          "2018-12-31",
          "2019-01-31",
          "2019-02-28",
          "2019-03-31",
          "2019-04-30",
          "2019-05-31",
          "2019-06-30",
          "2019-07-31",
          "2019-08-31",
          "2019-09-30",
          "2019-10-31",
          "2019-11-30",
          "2019-12-31",
          "2020-01-31",
          "2020-02-29",
          "2020-03-31",
          "2020-04-30",
          "2020-05-31",
          "2020-06-30",
          "2020-07-31",
          "2020-08-31",
          "2020-09-30",
          "2020-10-31",
          "2020-11-30",
          "2020-12-31",
          "2021-01-31"
         ],
         "y": [
          0.58,
          0.62,
          0.72,
          0.66,
          0.55,
          0.62,
          0.55,
          0.6,
          0.65,
          0.61,
          0.65,
          0.56,
          0.53,
          0.6,
          0.52,
          0.49,
          0.52,
          0.52,
          0.46,
          0.45,
          0.46,
          0.39,
          0.49,
          0.42,
          0.43,
          0.47,
          0.44,
          0.38,
          0.48,
          0.46,
          0.47,
          0.45,
          0.6,
          0.35,
          0.39,
          0.29,
          0.46,
          0.44,
          0.46,
          0.51,
          0.49,
          0.51,
          0.59,
          0.62,
          0.61,
          0.57,
          0.63,
          0.55,
          0.61,
          0.67,
          0.67,
          0.79,
          0.71,
          0.7,
          0.74,
          0.65,
          0.68,
          0.69,
          0.61,
          0.57,
          0.57,
          0.64,
          0.69,
          0.68,
          0.63,
          0.68,
          0.66,
          0.6,
          0.68,
          0.57,
          0.6,
          0.52,
          0.48,
          0.44,
          0.53,
          0.47,
          0.42,
          0.49,
          0.46,
          0.46,
          0.42,
          0.39,
          0.38,
          0.34,
          0.28,
          0.34,
          0.32,
          0.28,
          0.32,
          0.31,
          0.26,
          0.26,
          0.23,
          0.23,
          0.28,
          0.23,
          0.22,
          0.25,
          0.24,
          0.22,
          0.25,
          0.24,
          0.25,
          0.26,
          0.22,
          0.25,
          0.23,
          0.25,
          0.21,
          0.27,
          0.27,
          0.31,
          0.31,
          0.28,
          0.37,
          0.37,
          0.38,
          0.37,
          0.44,
          0.42,
          0.4,
          0.46,
          0.44,
          0.54,
          0.47,
          0.45,
          0.47,
          0.43,
          0.47,
          0.42,
          0.49,
          0.43,
          0.39,
          0.39,
          0.46,
          0.42,
          0.4,
          0.45,
          0.41,
          0.44,
          0.42,
          0.41,
          0.46,
          0.45,
          0.39,
          0.43,
          0.43,
          0.49,
          0.37,
          0.43,
          0.41,
          0.44,
          0.42,
          0.39,
          0.48,
          0.43,
          0.39,
          0.39,
          0.43,
          0.4,
          0.41,
          0.4,
          0.43,
          0.46,
          0.32,
          0.31,
          0.38,
          0.35,
          0.35,
          0.43,
          0.37,
          0.34,
          0.4,
          0.38,
          0.39,
          0.39,
          0.39,
          0.36,
          0.44,
          0.41,
          0.43,
          0.47,
          0.46,
          0.5,
          0.4,
          0.48,
          0.5,
          0.51,
          0.56,
          0.51,
          0.5,
          0.54,
          0.38,
          0.42,
          0.39,
          0.32,
          0.28,
          0.3,
          0.31,
          0.28,
          0.22,
          0.17,
          0.15,
          0.14,
          0.13,
          0.13,
          0.15,
          0.14,
          0.13,
          0.15,
          0.14,
          0.14,
          0.14,
          0.12,
          0.11,
          0.1,
          0.09,
          0.1,
          0.1,
          0.09,
          0.1,
          0.07,
          0.07,
          0.08,
          0.07,
          0.07,
          0.08,
          0.07,
          0.06,
          0.09,
          0.08,
          0.06,
          0.08,
          0.1,
          0.11,
          0.11,
          0.11,
          0.15,
          0.16,
          0.16,
          0.16,
          0.21,
          0.21,
          0.24,
          0.23,
          0.24,
          0.3,
          0.29,
          0.27,
          0.31,
          0.32,
          0.35,
          0.34,
          0.37,
          0.36,
          0.43,
          0.4,
          0.4,
          0.42,
          0.41,
          0.41,
          0.42,
          0.4,
          0.44,
          0.38,
          0.43,
          0.44,
          0.41,
          0.4,
          0.4,
          0.42,
          0.32,
          0.32,
          0.34,
          0.27,
          0.21,
          0.13,
          0.17,
          0.18,
          0.18,
          0.17,
          0.15,
          0.13,
          0.15,
          0.08,
          0.03,
          0,
          0,
          0.01,
          0.02,
          0.01,
          0,
          0.01,
          0.01,
          0.01,
          0.01,
          0,
          0,
          0.01,
          0,
          0,
          0.01,
          0.01,
          0.01,
          0.01,
          0.01,
          0.01,
          0.01,
          0.01,
          0.01,
          0.01,
          0.01,
          0.01,
          0.01,
          0,
          0,
          0,
          0,
          0.01,
          0,
          0,
          0,
          0,
          0,
          0,
          0,
          0,
          0.01,
          0,
          0,
          0.01,
          0.01,
          0.01,
          0.01,
          0.01,
          0,
          0,
          0,
          0,
          0,
          0,
          0,
          0,
          0,
          0,
          0,
          0,
          0,
          0,
          0,
          0,
          0,
          0,
          0,
          0,
          0,
          0,
          0,
          0,
          0,
          0,
          0,
          0,
          0,
          0,
          0,
          0,
          0,
          0,
          0,
          0.01,
          0.01,
          0.02,
          0.02,
          0.01,
          0.01,
          0.02,
          0.02,
          0.02,
          0.02,
          0.02,
          0.01,
          0.03,
          0.04,
          0.04,
          0.03,
          0.05,
          0.06,
          0.06,
          0.07,
          0.09,
          0.09,
          0.09,
          0.08,
          0.09,
          0.11,
          0.11,
          0.12,
          0.14,
          0.14,
          0.14,
          0.16,
          0.16,
          0.15,
          0.19,
          0.18,
          0.19,
          0.21,
          0.18,
          0.19,
          0.21,
          0.21,
          0.18,
          0.19,
          0.16,
          0.18,
          0.15,
          0.12,
          0.14,
          0.13,
          0.12,
          0.12,
          0,
          0.01,
          0.01,
          0.01,
          0.01,
          0.01,
          0.01,
          0.01,
          0.01,
          0
         ]
        }
       ],
       "layout": {
        "legend": {
         "bgcolor": "#F5F6F9",
         "font": {
          "color": "#4D5663"
         }
        },
        "paper_bgcolor": "#F5F6F9",
        "plot_bgcolor": "#F5F6F9",
        "template": {
         "data": {
          "bar": [
           {
            "error_x": {
             "color": "#2a3f5f"
            },
            "error_y": {
             "color": "#2a3f5f"
            },
            "marker": {
             "line": {
              "color": "#E5ECF6",
              "width": 0.5
             }
            },
            "type": "bar"
           }
          ],
          "barpolar": [
           {
            "marker": {
             "line": {
              "color": "#E5ECF6",
              "width": 0.5
             }
            },
            "type": "barpolar"
           }
          ],
          "carpet": [
           {
            "aaxis": {
             "endlinecolor": "#2a3f5f",
             "gridcolor": "white",
             "linecolor": "white",
             "minorgridcolor": "white",
             "startlinecolor": "#2a3f5f"
            },
            "baxis": {
             "endlinecolor": "#2a3f5f",
             "gridcolor": "white",
             "linecolor": "white",
             "minorgridcolor": "white",
             "startlinecolor": "#2a3f5f"
            },
            "type": "carpet"
           }
          ],
          "choropleth": [
           {
            "colorbar": {
             "outlinewidth": 0,
             "ticks": ""
            },
            "type": "choropleth"
           }
          ],
          "contour": [
           {
            "colorbar": {
             "outlinewidth": 0,
             "ticks": ""
            },
            "colorscale": [
             [
              0,
              "#0d0887"
             ],
             [
              0.1111111111111111,
              "#46039f"
             ],
             [
              0.2222222222222222,
              "#7201a8"
             ],
             [
              0.3333333333333333,
              "#9c179e"
             ],
             [
              0.4444444444444444,
              "#bd3786"
             ],
             [
              0.5555555555555556,
              "#d8576b"
             ],
             [
              0.6666666666666666,
              "#ed7953"
             ],
             [
              0.7777777777777778,
              "#fb9f3a"
             ],
             [
              0.8888888888888888,
              "#fdca26"
             ],
             [
              1,
              "#f0f921"
             ]
            ],
            "type": "contour"
           }
          ],
          "contourcarpet": [
           {
            "colorbar": {
             "outlinewidth": 0,
             "ticks": ""
            },
            "type": "contourcarpet"
           }
          ],
          "heatmap": [
           {
            "colorbar": {
             "outlinewidth": 0,
             "ticks": ""
            },
            "colorscale": [
             [
              0,
              "#0d0887"
             ],
             [
              0.1111111111111111,
              "#46039f"
             ],
             [
              0.2222222222222222,
              "#7201a8"
             ],
             [
              0.3333333333333333,
              "#9c179e"
             ],
             [
              0.4444444444444444,
              "#bd3786"
             ],
             [
              0.5555555555555556,
              "#d8576b"
             ],
             [
              0.6666666666666666,
              "#ed7953"
             ],
             [
              0.7777777777777778,
              "#fb9f3a"
             ],
             [
              0.8888888888888888,
              "#fdca26"
             ],
             [
              1,
              "#f0f921"
             ]
            ],
            "type": "heatmap"
           }
          ],
          "heatmapgl": [
           {
            "colorbar": {
             "outlinewidth": 0,
             "ticks": ""
            },
            "colorscale": [
             [
              0,
              "#0d0887"
             ],
             [
              0.1111111111111111,
              "#46039f"
             ],
             [
              0.2222222222222222,
              "#7201a8"
             ],
             [
              0.3333333333333333,
              "#9c179e"
             ],
             [
              0.4444444444444444,
              "#bd3786"
             ],
             [
              0.5555555555555556,
              "#d8576b"
             ],
             [
              0.6666666666666666,
              "#ed7953"
             ],
             [
              0.7777777777777778,
              "#fb9f3a"
             ],
             [
              0.8888888888888888,
              "#fdca26"
             ],
             [
              1,
              "#f0f921"
             ]
            ],
            "type": "heatmapgl"
           }
          ],
          "histogram": [
           {
            "marker": {
             "colorbar": {
              "outlinewidth": 0,
              "ticks": ""
             }
            },
            "type": "histogram"
           }
          ],
          "histogram2d": [
           {
            "colorbar": {
             "outlinewidth": 0,
             "ticks": ""
            },
            "colorscale": [
             [
              0,
              "#0d0887"
             ],
             [
              0.1111111111111111,
              "#46039f"
             ],
             [
              0.2222222222222222,
              "#7201a8"
             ],
             [
              0.3333333333333333,
              "#9c179e"
             ],
             [
              0.4444444444444444,
              "#bd3786"
             ],
             [
              0.5555555555555556,
              "#d8576b"
             ],
             [
              0.6666666666666666,
              "#ed7953"
             ],
             [
              0.7777777777777778,
              "#fb9f3a"
             ],
             [
              0.8888888888888888,
              "#fdca26"
             ],
             [
              1,
              "#f0f921"
             ]
            ],
            "type": "histogram2d"
           }
          ],
          "histogram2dcontour": [
           {
            "colorbar": {
             "outlinewidth": 0,
             "ticks": ""
            },
            "colorscale": [
             [
              0,
              "#0d0887"
             ],
             [
              0.1111111111111111,
              "#46039f"
             ],
             [
              0.2222222222222222,
              "#7201a8"
             ],
             [
              0.3333333333333333,
              "#9c179e"
             ],
             [
              0.4444444444444444,
              "#bd3786"
             ],
             [
              0.5555555555555556,
              "#d8576b"
             ],
             [
              0.6666666666666666,
              "#ed7953"
             ],
             [
              0.7777777777777778,
              "#fb9f3a"
             ],
             [
              0.8888888888888888,
              "#fdca26"
             ],
             [
              1,
              "#f0f921"
             ]
            ],
            "type": "histogram2dcontour"
           }
          ],
          "mesh3d": [
           {
            "colorbar": {
             "outlinewidth": 0,
             "ticks": ""
            },
            "type": "mesh3d"
           }
          ],
          "parcoords": [
           {
            "line": {
             "colorbar": {
              "outlinewidth": 0,
              "ticks": ""
             }
            },
            "type": "parcoords"
           }
          ],
          "pie": [
           {
            "automargin": true,
            "type": "pie"
           }
          ],
          "scatter": [
           {
            "marker": {
             "colorbar": {
              "outlinewidth": 0,
              "ticks": ""
             }
            },
            "type": "scatter"
           }
          ],
          "scatter3d": [
           {
            "line": {
             "colorbar": {
              "outlinewidth": 0,
              "ticks": ""
             }
            },
            "marker": {
             "colorbar": {
              "outlinewidth": 0,
              "ticks": ""
             }
            },
            "type": "scatter3d"
           }
          ],
          "scattercarpet": [
           {
            "marker": {
             "colorbar": {
              "outlinewidth": 0,
              "ticks": ""
             }
            },
            "type": "scattercarpet"
           }
          ],
          "scattergeo": [
           {
            "marker": {
             "colorbar": {
              "outlinewidth": 0,
              "ticks": ""
             }
            },
            "type": "scattergeo"
           }
          ],
          "scattergl": [
           {
            "marker": {
             "colorbar": {
              "outlinewidth": 0,
              "ticks": ""
             }
            },
            "type": "scattergl"
           }
          ],
          "scattermapbox": [
           {
            "marker": {
             "colorbar": {
              "outlinewidth": 0,
              "ticks": ""
             }
            },
            "type": "scattermapbox"
           }
          ],
          "scatterpolar": [
           {
            "marker": {
             "colorbar": {
              "outlinewidth": 0,
              "ticks": ""
             }
            },
            "type": "scatterpolar"
           }
          ],
          "scatterpolargl": [
           {
            "marker": {
             "colorbar": {
              "outlinewidth": 0,
              "ticks": ""
             }
            },
            "type": "scatterpolargl"
           }
          ],
          "scatterternary": [
           {
            "marker": {
             "colorbar": {
              "outlinewidth": 0,
              "ticks": ""
             }
            },
            "type": "scatterternary"
           }
          ],
          "surface": [
           {
            "colorbar": {
             "outlinewidth": 0,
             "ticks": ""
            },
            "colorscale": [
             [
              0,
              "#0d0887"
             ],
             [
              0.1111111111111111,
              "#46039f"
             ],
             [
              0.2222222222222222,
              "#7201a8"
             ],
             [
              0.3333333333333333,
              "#9c179e"
             ],
             [
              0.4444444444444444,
              "#bd3786"
             ],
             [
              0.5555555555555556,
              "#d8576b"
             ],
             [
              0.6666666666666666,
              "#ed7953"
             ],
             [
              0.7777777777777778,
              "#fb9f3a"
             ],
             [
              0.8888888888888888,
              "#fdca26"
             ],
             [
              1,
              "#f0f921"
             ]
            ],
            "type": "surface"
           }
          ],
          "table": [
           {
            "cells": {
             "fill": {
              "color": "#EBF0F8"
             },
             "line": {
              "color": "white"
             }
            },
            "header": {
             "fill": {
              "color": "#C8D4E3"
             },
             "line": {
              "color": "white"
             }
            },
            "type": "table"
           }
          ]
         },
         "layout": {
          "annotationdefaults": {
           "arrowcolor": "#2a3f5f",
           "arrowhead": 0,
           "arrowwidth": 1
          },
          "autotypenumbers": "strict",
          "coloraxis": {
           "colorbar": {
            "outlinewidth": 0,
            "ticks": ""
           }
          },
          "colorscale": {
           "diverging": [
            [
             0,
             "#8e0152"
            ],
            [
             0.1,
             "#c51b7d"
            ],
            [
             0.2,
             "#de77ae"
            ],
            [
             0.3,
             "#f1b6da"
            ],
            [
             0.4,
             "#fde0ef"
            ],
            [
             0.5,
             "#f7f7f7"
            ],
            [
             0.6,
             "#e6f5d0"
            ],
            [
             0.7,
             "#b8e186"
            ],
            [
             0.8,
             "#7fbc41"
            ],
            [
             0.9,
             "#4d9221"
            ],
            [
             1,
             "#276419"
            ]
           ],
           "sequential": [
            [
             0,
             "#0d0887"
            ],
            [
             0.1111111111111111,
             "#46039f"
            ],
            [
             0.2222222222222222,
             "#7201a8"
            ],
            [
             0.3333333333333333,
             "#9c179e"
            ],
            [
             0.4444444444444444,
             "#bd3786"
            ],
            [
             0.5555555555555556,
             "#d8576b"
            ],
            [
             0.6666666666666666,
             "#ed7953"
            ],
            [
             0.7777777777777778,
             "#fb9f3a"
            ],
            [
             0.8888888888888888,
             "#fdca26"
            ],
            [
             1,
             "#f0f921"
            ]
           ],
           "sequentialminus": [
            [
             0,
             "#0d0887"
            ],
            [
             0.1111111111111111,
             "#46039f"
            ],
            [
             0.2222222222222222,
             "#7201a8"
            ],
            [
             0.3333333333333333,
             "#9c179e"
            ],
            [
             0.4444444444444444,
             "#bd3786"
            ],
            [
             0.5555555555555556,
             "#d8576b"
            ],
            [
             0.6666666666666666,
             "#ed7953"
            ],
            [
             0.7777777777777778,
             "#fb9f3a"
            ],
            [
             0.8888888888888888,
             "#fdca26"
            ],
            [
             1,
             "#f0f921"
            ]
           ]
          },
          "colorway": [
           "#636efa",
           "#EF553B",
           "#00cc96",
           "#ab63fa",
           "#FFA15A",
           "#19d3f3",
           "#FF6692",
           "#B6E880",
           "#FF97FF",
           "#FECB52"
          ],
          "font": {
           "color": "#2a3f5f"
          },
          "geo": {
           "bgcolor": "white",
           "lakecolor": "white",
           "landcolor": "#E5ECF6",
           "showlakes": true,
           "showland": true,
           "subunitcolor": "white"
          },
          "hoverlabel": {
           "align": "left"
          },
          "hovermode": "closest",
          "mapbox": {
           "style": "light"
          },
          "paper_bgcolor": "white",
          "plot_bgcolor": "#E5ECF6",
          "polar": {
           "angularaxis": {
            "gridcolor": "white",
            "linecolor": "white",
            "ticks": ""
           },
           "bgcolor": "#E5ECF6",
           "radialaxis": {
            "gridcolor": "white",
            "linecolor": "white",
            "ticks": ""
           }
          },
          "scene": {
           "xaxis": {
            "backgroundcolor": "#E5ECF6",
            "gridcolor": "white",
            "gridwidth": 2,
            "linecolor": "white",
            "showbackground": true,
            "ticks": "",
            "zerolinecolor": "white"
           },
           "yaxis": {
            "backgroundcolor": "#E5ECF6",
            "gridcolor": "white",
            "gridwidth": 2,
            "linecolor": "white",
            "showbackground": true,
            "ticks": "",
            "zerolinecolor": "white"
           },
           "zaxis": {
            "backgroundcolor": "#E5ECF6",
            "gridcolor": "white",
            "gridwidth": 2,
            "linecolor": "white",
            "showbackground": true,
            "ticks": "",
            "zerolinecolor": "white"
           }
          },
          "shapedefaults": {
           "line": {
            "color": "#2a3f5f"
           }
          },
          "ternary": {
           "aaxis": {
            "gridcolor": "white",
            "linecolor": "white",
            "ticks": ""
           },
           "baxis": {
            "gridcolor": "white",
            "linecolor": "white",
            "ticks": ""
           },
           "bgcolor": "#E5ECF6",
           "caxis": {
            "gridcolor": "white",
            "linecolor": "white",
            "ticks": ""
           }
          },
          "title": {
           "x": 0.05
          },
          "xaxis": {
           "automargin": true,
           "gridcolor": "white",
           "linecolor": "white",
           "ticks": "",
           "title": {
            "standoff": 15
           },
           "zerolinecolor": "white",
           "zerolinewidth": 2
          },
          "yaxis": {
           "automargin": true,
           "gridcolor": "white",
           "linecolor": "white",
           "ticks": "",
           "title": {
            "standoff": 15
           },
           "zerolinecolor": "white",
           "zerolinewidth": 2
          }
         }
        },
        "title": {
         "font": {
          "color": "#4D5663"
         },
         "text": "Return Comparison"
        },
        "xaxis": {
         "gridcolor": "#E1E5ED",
         "showgrid": true,
         "tickfont": {
          "color": "#4D5663"
         },
         "title": {
          "font": {
           "color": "#4D5663"
          },
          "text": "Date"
         },
         "zerolinecolor": "#E1E5ED"
        },
        "yaxis": {
         "gridcolor": "#E1E5ED",
         "showgrid": true,
         "tickfont": {
          "color": "#4D5663"
         },
         "title": {
          "font": {
           "color": "#4D5663"
          },
          "text": "Returns"
         },
         "zerolinecolor": "#E1E5ED"
        }
       }
      },
      "text/html": [
       "<div>                            <div id=\"ea36cf50-fa44-44a7-a0d7-2e9d0ff718f9\" class=\"plotly-graph-div\" style=\"height:525px; width:100%;\"></div>            <script type=\"text/javascript\">                require([\"plotly\"], function(Plotly) {                    window.PLOTLYENV=window.PLOTLYENV || {};                                    if (document.getElementById(\"ea36cf50-fa44-44a7-a0d7-2e9d0ff718f9\")) {                    Plotly.newPlot(                        \"ea36cf50-fa44-44a7-a0d7-2e9d0ff718f9\",                        [{\"line\": {\"color\": \"red\", \"dash\": \"solid\", \"shape\": \"linear\", \"width\": 1.3}, \"marker\": {\"size\": 2.5, \"symbol\": \"circle\"}, \"mode\": \"lines+markers\", \"name\": \"Vfinx Return\", \"text\": \"\", \"type\": \"scatter\", \"x\": [\"1985-02-28\", \"1985-03-31\", \"1985-04-30\", \"1985-05-31\", \"1985-06-30\", \"1985-07-31\", \"1985-08-31\", \"1985-09-30\", \"1985-10-31\", \"1985-11-30\", \"1985-12-31\", \"1986-01-31\", \"1986-02-28\", \"1986-03-31\", \"1986-04-30\", \"1986-05-31\", \"1986-06-30\", \"1986-07-31\", \"1986-08-31\", \"1986-09-30\", \"1986-10-31\", \"1986-11-30\", \"1986-12-31\", \"1987-01-31\", \"1987-02-28\", \"1987-03-31\", \"1987-04-30\", \"1987-05-31\", \"1987-06-30\", \"1987-07-31\", \"1987-08-31\", \"1987-09-30\", \"1987-10-31\", \"1987-11-30\", \"1987-12-31\", \"1988-01-31\", \"1988-02-29\", \"1988-03-31\", \"1988-04-30\", \"1988-05-31\", \"1988-06-30\", \"1988-07-31\", \"1988-08-31\", \"1988-09-30\", \"1988-10-31\", \"1988-11-30\", \"1988-12-31\", \"1989-01-31\", \"1989-02-28\", \"1989-03-31\", \"1989-04-30\", \"1989-05-31\", \"1989-06-30\", \"1989-07-31\", \"1989-08-31\", \"1989-09-30\", \"1989-10-31\", \"1989-11-30\", \"1989-12-31\", \"1990-01-31\", \"1990-02-28\", \"1990-03-31\", \"1990-04-30\", \"1990-05-31\", \"1990-06-30\", \"1990-07-31\", \"1990-08-31\", \"1990-09-30\", \"1990-10-31\", \"1990-11-30\", \"1990-12-31\", \"1991-01-31\", \"1991-02-28\", \"1991-03-31\", \"1991-04-30\", \"1991-05-31\", \"1991-06-30\", \"1991-07-31\", \"1991-08-31\", \"1991-09-30\", \"1991-10-31\", \"1991-11-30\", \"1991-12-31\", \"1992-01-31\", \"1992-02-29\", \"1992-03-31\", \"1992-04-30\", \"1992-05-31\", \"1992-06-30\", \"1992-07-31\", \"1992-08-31\", \"1992-09-30\", \"1992-10-31\", \"1992-11-30\", \"1992-12-31\", \"1993-01-31\", \"1993-02-28\", \"1993-03-31\", \"1993-04-30\", \"1993-05-31\", \"1993-06-30\", \"1993-07-31\", \"1993-08-31\", \"1993-09-30\", \"1993-10-31\", \"1993-11-30\", \"1993-12-31\", \"1994-01-31\", \"1994-02-28\", \"1994-03-31\", \"1994-04-30\", \"1994-05-31\", \"1994-06-30\", \"1994-07-31\", \"1994-08-31\", \"1994-09-30\", \"1994-10-31\", \"1994-11-30\", \"1994-12-31\", \"1995-01-31\", \"1995-02-28\", \"1995-03-31\", \"1995-04-30\", \"1995-05-31\", \"1995-06-30\", \"1995-07-31\", \"1995-08-31\", \"1995-09-30\", \"1995-10-31\", \"1995-11-30\", \"1995-12-31\", \"1996-01-31\", \"1996-02-29\", \"1996-03-31\", \"1996-04-30\", \"1996-05-31\", \"1996-06-30\", \"1996-07-31\", \"1996-08-31\", \"1996-09-30\", \"1996-10-31\", \"1996-11-30\", \"1996-12-31\", \"1997-01-31\", \"1997-02-28\", \"1997-03-31\", \"1997-04-30\", \"1997-05-31\", \"1997-06-30\", \"1997-07-31\", \"1997-08-31\", \"1997-09-30\", \"1997-10-31\", \"1997-11-30\", \"1997-12-31\", \"1998-01-31\", \"1998-02-28\", \"1998-03-31\", \"1998-04-30\", \"1998-05-31\", \"1998-06-30\", \"1998-07-31\", \"1998-08-31\", \"1998-09-30\", \"1998-10-31\", \"1998-11-30\", \"1998-12-31\", \"1999-01-31\", \"1999-02-28\", \"1999-03-31\", \"1999-04-30\", \"1999-05-31\", \"1999-06-30\", \"1999-07-31\", \"1999-08-31\", \"1999-09-30\", \"1999-10-31\", \"1999-11-30\", \"1999-12-31\", \"2000-01-31\", \"2000-02-29\", \"2000-03-31\", \"2000-04-30\", \"2000-05-31\", \"2000-06-30\", \"2000-07-31\", \"2000-08-31\", \"2000-09-30\", \"2000-10-31\", \"2000-11-30\", \"2000-12-31\", \"2001-01-31\", \"2001-02-28\", \"2001-03-31\", \"2001-04-30\", \"2001-05-31\", \"2001-06-30\", \"2001-07-31\", \"2001-08-31\", \"2001-09-30\", \"2001-10-31\", \"2001-11-30\", \"2001-12-31\", \"2002-01-31\", \"2002-02-28\", \"2002-03-31\", \"2002-04-30\", \"2002-05-31\", \"2002-06-30\", \"2002-07-31\", \"2002-08-31\", \"2002-09-30\", \"2002-10-31\", \"2002-11-30\", \"2002-12-31\", \"2003-01-31\", \"2003-02-28\", \"2003-03-31\", \"2003-04-30\", \"2003-05-31\", \"2003-06-30\", \"2003-07-31\", \"2003-08-31\", \"2003-09-30\", \"2003-10-31\", \"2003-11-30\", \"2003-12-31\", \"2004-01-31\", \"2004-02-29\", \"2004-03-31\", \"2004-04-30\", \"2004-05-31\", \"2004-06-30\", \"2004-07-31\", \"2004-08-31\", \"2004-09-30\", \"2004-10-31\", \"2004-11-30\", \"2004-12-31\", \"2005-01-31\", \"2005-02-28\", \"2005-03-31\", \"2005-04-30\", \"2005-05-31\", \"2005-06-30\", \"2005-07-31\", \"2005-08-31\", \"2005-09-30\", \"2005-10-31\", \"2005-11-30\", \"2005-12-31\", \"2006-01-31\", \"2006-02-28\", \"2006-03-31\", \"2006-04-30\", \"2006-05-31\", \"2006-06-30\", \"2006-07-31\", \"2006-08-31\", \"2006-09-30\", \"2006-10-31\", \"2006-11-30\", \"2006-12-31\", \"2007-01-31\", \"2007-02-28\", \"2007-03-31\", \"2007-04-30\", \"2007-05-31\", \"2007-06-30\", \"2007-07-31\", \"2007-08-31\", \"2007-09-30\", \"2007-10-31\", \"2007-11-30\", \"2007-12-31\", \"2008-01-31\", \"2008-02-29\", \"2008-03-31\", \"2008-04-30\", \"2008-05-31\", \"2008-06-30\", \"2008-07-31\", \"2008-08-31\", \"2008-09-30\", \"2008-10-31\", \"2008-11-30\", \"2008-12-31\", \"2009-01-31\", \"2009-02-28\", \"2009-03-31\", \"2009-04-30\", \"2009-05-31\", \"2009-06-30\", \"2009-07-31\", \"2009-08-31\", \"2009-09-30\", \"2009-10-31\", \"2009-11-30\", \"2009-12-31\", \"2010-01-31\", \"2010-02-28\", \"2010-03-31\", \"2010-04-30\", \"2010-05-31\", \"2010-06-30\", \"2010-07-31\", \"2010-08-31\", \"2010-09-30\", \"2010-10-31\", \"2010-11-30\", \"2010-12-31\", \"2011-01-31\", \"2011-02-28\", \"2011-03-31\", \"2011-04-30\", \"2011-05-31\", \"2011-06-30\", \"2011-07-31\", \"2011-08-31\", \"2011-09-30\", \"2011-10-31\", \"2011-11-30\", \"2011-12-31\", \"2012-01-31\", \"2012-02-29\", \"2012-03-31\", \"2012-04-30\", \"2012-05-31\", \"2012-06-30\", \"2012-07-31\", \"2012-08-31\", \"2012-09-30\", \"2012-10-31\", \"2012-11-30\", \"2012-12-31\", \"2013-01-31\", \"2013-02-28\", \"2013-03-31\", \"2013-04-30\", \"2013-05-31\", \"2013-06-30\", \"2013-07-31\", \"2013-08-31\", \"2013-09-30\", \"2013-10-31\", \"2013-11-30\", \"2013-12-31\", \"2014-01-31\", \"2014-02-28\", \"2014-03-31\", \"2014-04-30\", \"2014-05-31\", \"2014-06-30\", \"2014-07-31\", \"2014-08-31\", \"2014-09-30\", \"2014-10-31\", \"2014-11-30\", \"2014-12-31\", \"2015-01-31\", \"2015-02-28\", \"2015-03-31\", \"2015-04-30\", \"2015-05-31\", \"2015-06-30\", \"2015-07-31\", \"2015-08-31\", \"2015-09-30\", \"2015-10-31\", \"2015-11-30\", \"2015-12-31\", \"2016-01-31\", \"2016-02-29\", \"2016-03-31\", \"2016-04-30\", \"2016-05-31\", \"2016-06-30\", \"2016-07-31\", \"2016-08-31\", \"2016-09-30\", \"2016-10-31\", \"2016-11-30\", \"2016-12-31\", \"2017-01-31\", \"2017-02-28\", \"2017-03-31\", \"2017-04-30\", \"2017-05-31\", \"2017-06-30\", \"2017-07-31\", \"2017-08-31\", \"2017-09-30\", \"2017-10-31\", \"2017-11-30\", \"2017-12-31\", \"2018-01-31\", \"2018-02-28\", \"2018-03-31\", \"2018-04-30\", \"2018-05-31\", \"2018-06-30\", \"2018-07-31\", \"2018-08-31\", \"2018-09-30\", \"2018-10-31\", \"2018-11-30\", \"2018-12-31\", \"2019-01-31\", \"2019-02-28\", \"2019-03-31\", \"2019-04-30\", \"2019-05-31\", \"2019-06-30\", \"2019-07-31\", \"2019-08-31\", \"2019-09-30\", \"2019-10-31\", \"2019-11-30\", \"2019-12-31\", \"2020-01-31\", \"2020-02-29\", \"2020-03-31\", \"2020-04-30\", \"2020-05-31\", \"2020-06-30\", \"2020-07-31\", \"2020-08-31\", \"2020-09-30\", \"2020-10-31\", \"2020-11-30\", \"2020-12-31\", \"2021-01-31\"], \"y\": [1.3809613415549205, -0.8454877092284763, 0.5712950262662053, 6.03327349759708, 0.6272047766660682, 0.5791559703768989, -0.6693762049297058, -3.9532616614361804, 5.279698214032202, 6.9444293800256185, -3.6865715459937998, 1.9717807167298984, 7.579064516126088, 4.750357079328116, -0.6578244716347825, 5.453778551874033, 0.9974012373828778, -5.116366197191724, 7.450489474923971, -8.956335172770613, 6.391722067547589, 2.553539823420947, -11.131486834197634, 14.864035474301463, 3.96510766935394, 2.239256994009997, -0.4011487059759733, 1.0369334217409154, 4.413336777709453, 5.5272690484510445, 3.841465416884704, -2.827111502746582, -21.288630798683684, -8.18506180836993, 6.158460300387092, 4.036457899529822, 5.374253110574778, -3.7134285822928215, 1.7236781675027624, 0.8098549314198289, 3.8638221589642363, 0.30336487611064555, -3.401154665365591, 3.559106063338935, 3.4275671926948137, -1.4748354906003902, -0.7667074810139507, 8.769186495442515, -2.468227032249215, 1.019318463225205, 5.846628335936721, 4.0357204578520545, -1.1446724486905868, 9.617159019419352, 1.8589720237034868, -0.9270118191382015, -1.8177182487035592, 2.0359717063580307, -1.2911110996015385, -4.895107120082742, 1.2746995711970799, 1.8879774471041388, -1.9628515138431113, 9.692763854693997, -1.1839596851582423, 0.18224499737535815, -9.03228050449999, -5.480329678229657, 0.19751479092862123, 6.438335384630278, 0.5148598222540546, 6.4504281390219464, 7.116548394961009, 1.6895973399161823, 0.7026084021356738, 4.272030430705831, -5.0403305666770315, 5.16079536646552, 2.333178006169412, -2.1473907482822185, 1.8230163274365774, -4.010700238094788, 9.49860716906783, -0.28982188152536503, 1.2441304311163526, -2.483313862004255, 3.5031470502919326, 0.48468343245564594, -2.0563645484947046, 4.643483710079277, -2.0677335601558933, 0.610512989260914, 0.8878153428073521, 3.4022139264590745, 0.5605490980752359, 1.2094277452026736, 1.355900731942672, 1.5050187415662997, -1.915551617686595, 2.6531683410062845, -0.25842230479694583, 0.09777228776131075, 3.785261533632922, -1.2992706065155568, 2.604265702056918, -0.9955252512625967, 0.1599904023833032, 4.4749967113525635, -2.714644067921035, -5.036325865805235, 1.7955719598877318, 1.6037509154593899, -2.948016255904906, 3.8121283868050693, 4.075948106620086, -2.937284670050122, 2.7621571877291418, -3.6546906255901623, 0.0, 3.7892176199622707, 3.8793055643776553, 2.467762257455175, 3.4296969499326035, 3.954428546814004, 1.8721676917764052, 3.748402479438373, 0.26494427879473204, 3.7939526027294557, 0.036980664873320634, 4.380368638824006, 0.7169040841638941, 4.397937578355093, 0.9235651697243163, 0.5491507090493508, 1.8229398270291242, 2.544368151336762, 0.03184524181285564, -4.085072364698783, 2.0961778271751497, 5.2468701709359244, 3.106863458369258, 7.5636942067395685, -3.123751619346493, 7.175706775450941, 0.7894523504035078, -4.537459490161455, 6.34278840537168, 6.0881612094759285, 4.115303447911867, 8.313593529393382, -5.609045820538261, 5.147690776271618, -3.057294479632089, 4.598562132247475, 0.5020986219671508, 1.6894586639604192, 7.192285153367872, 4.701850645914507, 1.2745773694826878, -1.7435482665707935, 3.805196422649093, -0.7993055405375316, -14.473561304009586, 6.11599992774654, 8.465503089568083, 6.071561288281457, 5.032736573415586, 4.688566798292659, -3.124495297944463, 3.3643921628987217, 4.086275394317118, -2.3890741003234517, 5.226962591294182, -2.827333335591109, -0.4964972439095994, -3.026551678873135, 6.641031089239147, 2.022973797250738, 5.233280658143147, -4.7389440681120165, -1.9063411716820688, 9.526469492726509, -2.7987136860988637, -2.0383648868524618, 2.248506606917977, -1.2628261054538514, 6.189997199088815, -5.515617103516057, -0.19160128781141594, -7.8775661201848095, 0.19731271592480226, 3.8707442071284515, -9.137746722653727, -6.611411565008407, 8.059244695683287, 0.6499111790224665, -2.6863524284742035, -0.7570241430274405, -6.273994986418863, -8.41997421253009, 2.2540880599752677, 7.6537881762447135, 0.5125726755228266, -1.117758237836386, -1.9361561244870984, 3.4600460656805554, -5.81866688894348, -0.7543892432401944, -7.4388876944262545, -7.420973924894458, 0.652601314684631, -11.281376922486608, 9.265234417017009, 6.156098885279704, -6.6274857445164255, -2.1262498103261973, -1.518549171637651, 0.5782195545660285, 8.658652686424094, 5.263819205329856, 0.9305781998442786, 2.0763900684802383, 1.9324892866552368, -1.4567295957204962, 6.051779204657404, 0.8642443840141789, 4.733280406406037, 2.295272629015477, 1.3774675615407128, -1.8588758489463397, -1.2307820142275605, 1.3578746903166072, 1.5901684039822506, -2.989664896254096, 0.3826394747792117, 0.664602303504469, 1.9212484359511617, 4.045907234375878, 2.629197964427954, -1.7275546528347063, 2.09363535048519, -2.1496574503741317, -1.5210756859878494, 3.1674523197411375, -0.2543672975220068, 4.100048739921536, -0.9131987047844015, 0.31904434578824414, -1.2126358293453765, 3.7645980873080465, -0.49358272934955094, 3.177873697016098, 0.25430370631260857, 0.8286793235941392, 1.7466041562405277, -2.896590348776018, -0.2898252531256751, 1.027942039763441, 2.3619300611866123, 2.124836303847366, 3.6932949996981046, 1.8813114510225715, 0.8962300403801082, 2.0012349818748554, -1.969228933179068, 0.6927079012070791, 4.852822852764249, 3.4770483854079437, -2.072724361285261, -2.69764741088393, 1.4983108921961197, 3.2682257710060503, 2.0291404023718096, -4.186765444468277, -1.242274415786715, -5.490733207663878, -3.2514510810511266, -0.9276805220011952, 5.372233324452913, 1.2845724369356493, -8.877895633384947, -0.36718888865907573, 1.446309893417852, -9.422961326180202, -16.30815732212224, -7.174882889619861, 0.19294224024120066, -7.6091692914576186, -10.65700608373622, 8.015848810759053, 10.331337001055063, 5.6177093489412355, -0.30592996589530186, 8.146615528420288, 3.5989160177352764, 3.20906219492334, -1.376185351312309, 5.981364684602819, 1.3024076935753248, -2.991066943831655, 3.091847513892998, 5.586615078534352, 1.991134427419805, -7.995950624485215, -5.731043729327734, 7.542346648511145, -4.529800427986896, 8.365167445749844, 4.314233870325079, 0.0, 6.21789871144145, 2.7933426445593046, 3.41629403261845, -0.3915398349339072, 3.383087825990083, -1.1454156118673287, -2.1161620480114607, -1.6039147628036154, -5.446434101793107, -7.535273314186353, 11.485867201196353, -0.233633214550244, 0.4510504308220531, 5.058839691592887, 4.306818369481724, 2.853059538631908, -0.22443498909880955, -6.017833915947756, 3.597665118787563, 1.8738795363034466, 2.2393474415737025, 2.082689394458237, -1.3848112642234733, 0.5599538909272006, 0.21361198037621598, 5.892244845869454, 1.3388905055939704, 3.2781083832997604, 2.359287615599759, 2.327460211321797, -1.8170006266454708, 5.572743035297423, -2.9118883593752143, 2.6350850884301558, 5.078739203897675, 3.0284134357106973, 1.987562536579368, -2.96837217520477, 4.560634142667874, 0.39550242600348007, 1.1525941108137427, 2.3348929122021023, 1.624178553224187, -0.9722125927827618, 3.987203460601041, -1.8551319270492916, 2.879213088407262, 2.682403948540335, -0.7889304418434717, -2.488938300629273, 5.73381439888494, -2.0643675251002525, 1.4386551515689794, 1.2726072950754341, -2.3644874447936393, 2.529062358877887, -6.041565343734801, -2.979520148275361, 8.960824542143753, 0.28639199136006877, -2.1442366092965015, -4.450552905072791, -0.14518906202245496, 6.234638261593206, 0.8869189388406307, 1.7829321804941678, -0.22154208261414565, 4.169128737781014, 0.1295068796343335, -0.4178105623771855, -1.4069559086304362, 3.699035562546027, 1.3541929163629174, 2.4932239022306124, 3.962727538779598, -0.3427717327142865, 1.4614254745918043, 1.393727945488843, 0.18357981384173883, 2.4782074481019656, 0.29343513905082386, 1.5634174243059462, 2.817498909471139, 3.0593420581845665, 0.6442747303172291, 6.193110004765479, -3.6984379569731884, -2.968914583761917, 0.7960531579347618, 2.3945690205223524, 0.1636168202534538, 4.162294039401893, 3.2462711939082123, 0.1264976834878917, -6.451545993631081, 2.026656143146144, -9.50184668692281, 8.54265384700248, 3.2005214199599674, 1.3955676425583485, 4.594624674857406, -6.3646061953390065, 6.514657310879346, 1.9188331473656284, -1.5911024622475733, 1.4064280987466482, 2.6136897248994373, 3.620432397944917, 2.534461418855738, 0.41109580297642445, -8.241331904838045, -12.755538389537824, 13.271938857044695, 4.755886687670485, 1.4825873053869953, 6.1299494455465675, 7.401888650397859, -4.393228829944418, -2.2769897317818533, 10.935639766428684, 3.4410728321334405, -0.6421049619809827]}, {\"line\": {\"color\": \"blue\", \"dash\": \"solid\", \"shape\": \"linear\", \"width\": 1.3}, \"marker\": {\"size\": 2.5, \"symbol\": \"diamond\"}, \"mode\": \"lines+markers\", \"name\": \"RF Return\", \"text\": \"\", \"type\": \"scatter\", \"x\": [\"1985-02-28\", \"1985-03-31\", \"1985-04-30\", \"1985-05-31\", \"1985-06-30\", \"1985-07-31\", \"1985-08-31\", \"1985-09-30\", \"1985-10-31\", \"1985-11-30\", \"1985-12-31\", \"1986-01-31\", \"1986-02-28\", \"1986-03-31\", \"1986-04-30\", \"1986-05-31\", \"1986-06-30\", \"1986-07-31\", \"1986-08-31\", \"1986-09-30\", \"1986-10-31\", \"1986-11-30\", \"1986-12-31\", \"1987-01-31\", \"1987-02-28\", \"1987-03-31\", \"1987-04-30\", \"1987-05-31\", \"1987-06-30\", \"1987-07-31\", \"1987-08-31\", \"1987-09-30\", \"1987-10-31\", \"1987-11-30\", \"1987-12-31\", \"1988-01-31\", \"1988-02-29\", \"1988-03-31\", \"1988-04-30\", \"1988-05-31\", \"1988-06-30\", \"1988-07-31\", \"1988-08-31\", \"1988-09-30\", \"1988-10-31\", \"1988-11-30\", \"1988-12-31\", \"1989-01-31\", \"1989-02-28\", \"1989-03-31\", \"1989-04-30\", \"1989-05-31\", \"1989-06-30\", \"1989-07-31\", \"1989-08-31\", \"1989-09-30\", \"1989-10-31\", \"1989-11-30\", \"1989-12-31\", \"1990-01-31\", \"1990-02-28\", \"1990-03-31\", \"1990-04-30\", \"1990-05-31\", \"1990-06-30\", \"1990-07-31\", \"1990-08-31\", \"1990-09-30\", \"1990-10-31\", \"1990-11-30\", \"1990-12-31\", \"1991-01-31\", \"1991-02-28\", \"1991-03-31\", \"1991-04-30\", \"1991-05-31\", \"1991-06-30\", \"1991-07-31\", \"1991-08-31\", \"1991-09-30\", \"1991-10-31\", \"1991-11-30\", \"1991-12-31\", \"1992-01-31\", \"1992-02-29\", \"1992-03-31\", \"1992-04-30\", \"1992-05-31\", \"1992-06-30\", \"1992-07-31\", \"1992-08-31\", \"1992-09-30\", \"1992-10-31\", \"1992-11-30\", \"1992-12-31\", \"1993-01-31\", \"1993-02-28\", \"1993-03-31\", \"1993-04-30\", \"1993-05-31\", \"1993-06-30\", \"1993-07-31\", \"1993-08-31\", \"1993-09-30\", \"1993-10-31\", \"1993-11-30\", \"1993-12-31\", \"1994-01-31\", \"1994-02-28\", \"1994-03-31\", \"1994-04-30\", \"1994-05-31\", \"1994-06-30\", \"1994-07-31\", \"1994-08-31\", \"1994-09-30\", \"1994-10-31\", \"1994-11-30\", \"1994-12-31\", \"1995-01-31\", \"1995-02-28\", \"1995-03-31\", \"1995-04-30\", \"1995-05-31\", \"1995-06-30\", \"1995-07-31\", \"1995-08-31\", \"1995-09-30\", \"1995-10-31\", \"1995-11-30\", \"1995-12-31\", \"1996-01-31\", \"1996-02-29\", \"1996-03-31\", \"1996-04-30\", \"1996-05-31\", \"1996-06-30\", \"1996-07-31\", \"1996-08-31\", \"1996-09-30\", \"1996-10-31\", \"1996-11-30\", \"1996-12-31\", \"1997-01-31\", \"1997-02-28\", \"1997-03-31\", \"1997-04-30\", \"1997-05-31\", \"1997-06-30\", \"1997-07-31\", \"1997-08-31\", \"1997-09-30\", \"1997-10-31\", \"1997-11-30\", \"1997-12-31\", \"1998-01-31\", \"1998-02-28\", \"1998-03-31\", \"1998-04-30\", \"1998-05-31\", \"1998-06-30\", \"1998-07-31\", \"1998-08-31\", \"1998-09-30\", \"1998-10-31\", \"1998-11-30\", \"1998-12-31\", \"1999-01-31\", \"1999-02-28\", \"1999-03-31\", \"1999-04-30\", \"1999-05-31\", \"1999-06-30\", \"1999-07-31\", \"1999-08-31\", \"1999-09-30\", \"1999-10-31\", \"1999-11-30\", \"1999-12-31\", \"2000-01-31\", \"2000-02-29\", \"2000-03-31\", \"2000-04-30\", \"2000-05-31\", \"2000-06-30\", \"2000-07-31\", \"2000-08-31\", \"2000-09-30\", \"2000-10-31\", \"2000-11-30\", \"2000-12-31\", \"2001-01-31\", \"2001-02-28\", \"2001-03-31\", \"2001-04-30\", \"2001-05-31\", \"2001-06-30\", \"2001-07-31\", \"2001-08-31\", \"2001-09-30\", \"2001-10-31\", \"2001-11-30\", \"2001-12-31\", \"2002-01-31\", \"2002-02-28\", \"2002-03-31\", \"2002-04-30\", \"2002-05-31\", \"2002-06-30\", \"2002-07-31\", \"2002-08-31\", \"2002-09-30\", \"2002-10-31\", \"2002-11-30\", \"2002-12-31\", \"2003-01-31\", \"2003-02-28\", \"2003-03-31\", \"2003-04-30\", \"2003-05-31\", \"2003-06-30\", \"2003-07-31\", \"2003-08-31\", \"2003-09-30\", \"2003-10-31\", \"2003-11-30\", \"2003-12-31\", \"2004-01-31\", \"2004-02-29\", \"2004-03-31\", \"2004-04-30\", \"2004-05-31\", \"2004-06-30\", \"2004-07-31\", \"2004-08-31\", \"2004-09-30\", \"2004-10-31\", \"2004-11-30\", \"2004-12-31\", \"2005-01-31\", \"2005-02-28\", \"2005-03-31\", \"2005-04-30\", \"2005-05-31\", \"2005-06-30\", \"2005-07-31\", \"2005-08-31\", \"2005-09-30\", \"2005-10-31\", \"2005-11-30\", \"2005-12-31\", \"2006-01-31\", \"2006-02-28\", \"2006-03-31\", \"2006-04-30\", \"2006-05-31\", \"2006-06-30\", \"2006-07-31\", \"2006-08-31\", \"2006-09-30\", \"2006-10-31\", \"2006-11-30\", \"2006-12-31\", \"2007-01-31\", \"2007-02-28\", \"2007-03-31\", \"2007-04-30\", \"2007-05-31\", \"2007-06-30\", \"2007-07-31\", \"2007-08-31\", \"2007-09-30\", \"2007-10-31\", \"2007-11-30\", \"2007-12-31\", \"2008-01-31\", \"2008-02-29\", \"2008-03-31\", \"2008-04-30\", \"2008-05-31\", \"2008-06-30\", \"2008-07-31\", \"2008-08-31\", \"2008-09-30\", \"2008-10-31\", \"2008-11-30\", \"2008-12-31\", \"2009-01-31\", \"2009-02-28\", \"2009-03-31\", \"2009-04-30\", \"2009-05-31\", \"2009-06-30\", \"2009-07-31\", \"2009-08-31\", \"2009-09-30\", \"2009-10-31\", \"2009-11-30\", \"2009-12-31\", \"2010-01-31\", \"2010-02-28\", \"2010-03-31\", \"2010-04-30\", \"2010-05-31\", \"2010-06-30\", \"2010-07-31\", \"2010-08-31\", \"2010-09-30\", \"2010-10-31\", \"2010-11-30\", \"2010-12-31\", \"2011-01-31\", \"2011-02-28\", \"2011-03-31\", \"2011-04-30\", \"2011-05-31\", \"2011-06-30\", \"2011-07-31\", \"2011-08-31\", \"2011-09-30\", \"2011-10-31\", \"2011-11-30\", \"2011-12-31\", \"2012-01-31\", \"2012-02-29\", \"2012-03-31\", \"2012-04-30\", \"2012-05-31\", \"2012-06-30\", \"2012-07-31\", \"2012-08-31\", \"2012-09-30\", \"2012-10-31\", \"2012-11-30\", \"2012-12-31\", \"2013-01-31\", \"2013-02-28\", \"2013-03-31\", \"2013-04-30\", \"2013-05-31\", \"2013-06-30\", \"2013-07-31\", \"2013-08-31\", \"2013-09-30\", \"2013-10-31\", \"2013-11-30\", \"2013-12-31\", \"2014-01-31\", \"2014-02-28\", \"2014-03-31\", \"2014-04-30\", \"2014-05-31\", \"2014-06-30\", \"2014-07-31\", \"2014-08-31\", \"2014-09-30\", \"2014-10-31\", \"2014-11-30\", \"2014-12-31\", \"2015-01-31\", \"2015-02-28\", \"2015-03-31\", \"2015-04-30\", \"2015-05-31\", \"2015-06-30\", \"2015-07-31\", \"2015-08-31\", \"2015-09-30\", \"2015-10-31\", \"2015-11-30\", \"2015-12-31\", \"2016-01-31\", \"2016-02-29\", \"2016-03-31\", \"2016-04-30\", \"2016-05-31\", \"2016-06-30\", \"2016-07-31\", \"2016-08-31\", \"2016-09-30\", \"2016-10-31\", \"2016-11-30\", \"2016-12-31\", \"2017-01-31\", \"2017-02-28\", \"2017-03-31\", \"2017-04-30\", \"2017-05-31\", \"2017-06-30\", \"2017-07-31\", \"2017-08-31\", \"2017-09-30\", \"2017-10-31\", \"2017-11-30\", \"2017-12-31\", \"2018-01-31\", \"2018-02-28\", \"2018-03-31\", \"2018-04-30\", \"2018-05-31\", \"2018-06-30\", \"2018-07-31\", \"2018-08-31\", \"2018-09-30\", \"2018-10-31\", \"2018-11-30\", \"2018-12-31\", \"2019-01-31\", \"2019-02-28\", \"2019-03-31\", \"2019-04-30\", \"2019-05-31\", \"2019-06-30\", \"2019-07-31\", \"2019-08-31\", \"2019-09-30\", \"2019-10-31\", \"2019-11-30\", \"2019-12-31\", \"2020-01-31\", \"2020-02-29\", \"2020-03-31\", \"2020-04-30\", \"2020-05-31\", \"2020-06-30\", \"2020-07-31\", \"2020-08-31\", \"2020-09-30\", \"2020-10-31\", \"2020-11-30\", \"2020-12-31\", \"2021-01-31\"], \"y\": [0.58, 0.62, 0.72, 0.66, 0.55, 0.62, 0.55, 0.6, 0.65, 0.61, 0.65, 0.56, 0.53, 0.6, 0.52, 0.49, 0.52, 0.52, 0.46, 0.45, 0.46, 0.39, 0.49, 0.42, 0.43, 0.47, 0.44, 0.38, 0.48, 0.46, 0.47, 0.45, 0.6, 0.35, 0.39, 0.29, 0.46, 0.44, 0.46, 0.51, 0.49, 0.51, 0.59, 0.62, 0.61, 0.57, 0.63, 0.55, 0.61, 0.67, 0.67, 0.79, 0.71, 0.7, 0.74, 0.65, 0.68, 0.69, 0.61, 0.57, 0.57, 0.64, 0.69, 0.68, 0.63, 0.68, 0.66, 0.6, 0.68, 0.57, 0.6, 0.52, 0.48, 0.44, 0.53, 0.47, 0.42, 0.49, 0.46, 0.46, 0.42, 0.39, 0.38, 0.34, 0.28, 0.34, 0.32, 0.28, 0.32, 0.31, 0.26, 0.26, 0.23, 0.23, 0.28, 0.23, 0.22, 0.25, 0.24, 0.22, 0.25, 0.24, 0.25, 0.26, 0.22, 0.25, 0.23, 0.25, 0.21, 0.27, 0.27, 0.31, 0.31, 0.28, 0.37, 0.37, 0.38, 0.37, 0.44, 0.42, 0.4, 0.46, 0.44, 0.54, 0.47, 0.45, 0.47, 0.43, 0.47, 0.42, 0.49, 0.43, 0.39, 0.39, 0.46, 0.42, 0.4, 0.45, 0.41, 0.44, 0.42, 0.41, 0.46, 0.45, 0.39, 0.43, 0.43, 0.49, 0.37, 0.43, 0.41, 0.44, 0.42, 0.39, 0.48, 0.43, 0.39, 0.39, 0.43, 0.4, 0.41, 0.4, 0.43, 0.46, 0.32, 0.31, 0.38, 0.35, 0.35, 0.43, 0.37, 0.34, 0.4, 0.38, 0.39, 0.39, 0.39, 0.36, 0.44, 0.41, 0.43, 0.47, 0.46, 0.5, 0.4, 0.48, 0.5, 0.51, 0.56, 0.51, 0.5, 0.54, 0.38, 0.42, 0.39, 0.32, 0.28, 0.3, 0.31, 0.28, 0.22, 0.17, 0.15, 0.14, 0.13, 0.13, 0.15, 0.14, 0.13, 0.15, 0.14, 0.14, 0.14, 0.12, 0.11, 0.1, 0.09, 0.1, 0.1, 0.09, 0.1, 0.07, 0.07, 0.08, 0.07, 0.07, 0.08, 0.07, 0.06, 0.09, 0.08, 0.06, 0.08, 0.1, 0.11, 0.11, 0.11, 0.15, 0.16, 0.16, 0.16, 0.21, 0.21, 0.24, 0.23, 0.24, 0.3, 0.29, 0.27, 0.31, 0.32, 0.35, 0.34, 0.37, 0.36, 0.43, 0.4, 0.4, 0.42, 0.41, 0.41, 0.42, 0.4, 0.44, 0.38, 0.43, 0.44, 0.41, 0.4, 0.4, 0.42, 0.32, 0.32, 0.34, 0.27, 0.21, 0.13, 0.17, 0.18, 0.18, 0.17, 0.15, 0.13, 0.15, 0.08, 0.03, 0.0, 0.0, 0.01, 0.02, 0.01, 0.0, 0.01, 0.01, 0.01, 0.01, 0.0, 0.0, 0.01, 0.0, 0.0, 0.01, 0.01, 0.01, 0.01, 0.01, 0.01, 0.01, 0.01, 0.01, 0.01, 0.01, 0.01, 0.01, 0.0, 0.0, 0.0, 0.0, 0.01, 0.0, 0.0, 0.0, 0.0, 0.0, 0.0, 0.0, 0.0, 0.01, 0.0, 0.0, 0.01, 0.01, 0.01, 0.01, 0.01, 0.0, 0.0, 0.0, 0.0, 0.0, 0.0, 0.0, 0.0, 0.0, 0.0, 0.0, 0.0, 0.0, 0.0, 0.0, 0.0, 0.0, 0.0, 0.0, 0.0, 0.0, 0.0, 0.0, 0.0, 0.0, 0.0, 0.0, 0.0, 0.0, 0.0, 0.0, 0.0, 0.0, 0.0, 0.0, 0.01, 0.01, 0.02, 0.02, 0.01, 0.01, 0.02, 0.02, 0.02, 0.02, 0.02, 0.01, 0.03, 0.04, 0.04, 0.03, 0.05, 0.06, 0.06, 0.07, 0.09, 0.09, 0.09, 0.08, 0.09, 0.11, 0.11, 0.12, 0.14, 0.14, 0.14, 0.16, 0.16, 0.15, 0.19, 0.18, 0.19, 0.21, 0.18, 0.19, 0.21, 0.21, 0.18, 0.19, 0.16, 0.18, 0.15, 0.12, 0.14, 0.13, 0.12, 0.12, 0.0, 0.01, 0.01, 0.01, 0.01, 0.01, 0.01, 0.01, 0.01, 0.0]}],                        {\"legend\": {\"bgcolor\": \"#F5F6F9\", \"font\": {\"color\": \"#4D5663\"}}, \"paper_bgcolor\": \"#F5F6F9\", \"plot_bgcolor\": \"#F5F6F9\", \"template\": {\"data\": {\"bar\": [{\"error_x\": {\"color\": \"#2a3f5f\"}, \"error_y\": {\"color\": \"#2a3f5f\"}, \"marker\": {\"line\": {\"color\": \"#E5ECF6\", \"width\": 0.5}}, \"type\": \"bar\"}], \"barpolar\": [{\"marker\": {\"line\": {\"color\": \"#E5ECF6\", \"width\": 0.5}}, \"type\": \"barpolar\"}], \"carpet\": [{\"aaxis\": {\"endlinecolor\": \"#2a3f5f\", \"gridcolor\": \"white\", \"linecolor\": \"white\", \"minorgridcolor\": \"white\", \"startlinecolor\": \"#2a3f5f\"}, \"baxis\": {\"endlinecolor\": \"#2a3f5f\", \"gridcolor\": \"white\", \"linecolor\": \"white\", \"minorgridcolor\": \"white\", \"startlinecolor\": \"#2a3f5f\"}, \"type\": \"carpet\"}], \"choropleth\": [{\"colorbar\": {\"outlinewidth\": 0, \"ticks\": \"\"}, \"type\": \"choropleth\"}], \"contour\": [{\"colorbar\": {\"outlinewidth\": 0, \"ticks\": \"\"}, \"colorscale\": [[0.0, \"#0d0887\"], [0.1111111111111111, \"#46039f\"], [0.2222222222222222, \"#7201a8\"], [0.3333333333333333, \"#9c179e\"], [0.4444444444444444, \"#bd3786\"], [0.5555555555555556, \"#d8576b\"], [0.6666666666666666, \"#ed7953\"], [0.7777777777777778, \"#fb9f3a\"], [0.8888888888888888, \"#fdca26\"], [1.0, \"#f0f921\"]], \"type\": \"contour\"}], \"contourcarpet\": [{\"colorbar\": {\"outlinewidth\": 0, \"ticks\": \"\"}, \"type\": \"contourcarpet\"}], \"heatmap\": [{\"colorbar\": {\"outlinewidth\": 0, \"ticks\": \"\"}, \"colorscale\": [[0.0, \"#0d0887\"], [0.1111111111111111, \"#46039f\"], [0.2222222222222222, \"#7201a8\"], [0.3333333333333333, \"#9c179e\"], [0.4444444444444444, \"#bd3786\"], [0.5555555555555556, \"#d8576b\"], [0.6666666666666666, \"#ed7953\"], [0.7777777777777778, \"#fb9f3a\"], [0.8888888888888888, \"#fdca26\"], [1.0, \"#f0f921\"]], \"type\": \"heatmap\"}], \"heatmapgl\": [{\"colorbar\": {\"outlinewidth\": 0, \"ticks\": \"\"}, \"colorscale\": [[0.0, \"#0d0887\"], [0.1111111111111111, \"#46039f\"], [0.2222222222222222, \"#7201a8\"], [0.3333333333333333, \"#9c179e\"], [0.4444444444444444, \"#bd3786\"], [0.5555555555555556, \"#d8576b\"], [0.6666666666666666, \"#ed7953\"], [0.7777777777777778, \"#fb9f3a\"], [0.8888888888888888, \"#fdca26\"], [1.0, \"#f0f921\"]], \"type\": \"heatmapgl\"}], \"histogram\": [{\"marker\": {\"colorbar\": {\"outlinewidth\": 0, \"ticks\": \"\"}}, \"type\": \"histogram\"}], \"histogram2d\": [{\"colorbar\": {\"outlinewidth\": 0, \"ticks\": \"\"}, \"colorscale\": [[0.0, \"#0d0887\"], [0.1111111111111111, \"#46039f\"], [0.2222222222222222, \"#7201a8\"], [0.3333333333333333, \"#9c179e\"], [0.4444444444444444, \"#bd3786\"], [0.5555555555555556, \"#d8576b\"], [0.6666666666666666, \"#ed7953\"], [0.7777777777777778, \"#fb9f3a\"], [0.8888888888888888, \"#fdca26\"], [1.0, \"#f0f921\"]], \"type\": \"histogram2d\"}], \"histogram2dcontour\": [{\"colorbar\": {\"outlinewidth\": 0, \"ticks\": \"\"}, \"colorscale\": [[0.0, \"#0d0887\"], [0.1111111111111111, \"#46039f\"], [0.2222222222222222, \"#7201a8\"], [0.3333333333333333, \"#9c179e\"], [0.4444444444444444, \"#bd3786\"], [0.5555555555555556, \"#d8576b\"], [0.6666666666666666, \"#ed7953\"], [0.7777777777777778, \"#fb9f3a\"], [0.8888888888888888, \"#fdca26\"], [1.0, \"#f0f921\"]], \"type\": \"histogram2dcontour\"}], \"mesh3d\": [{\"colorbar\": {\"outlinewidth\": 0, \"ticks\": \"\"}, \"type\": \"mesh3d\"}], \"parcoords\": [{\"line\": {\"colorbar\": {\"outlinewidth\": 0, \"ticks\": \"\"}}, \"type\": \"parcoords\"}], \"pie\": [{\"automargin\": true, \"type\": \"pie\"}], \"scatter\": [{\"marker\": {\"colorbar\": {\"outlinewidth\": 0, \"ticks\": \"\"}}, \"type\": \"scatter\"}], \"scatter3d\": [{\"line\": {\"colorbar\": {\"outlinewidth\": 0, \"ticks\": \"\"}}, \"marker\": {\"colorbar\": {\"outlinewidth\": 0, \"ticks\": \"\"}}, \"type\": \"scatter3d\"}], \"scattercarpet\": [{\"marker\": {\"colorbar\": {\"outlinewidth\": 0, \"ticks\": \"\"}}, \"type\": \"scattercarpet\"}], \"scattergeo\": [{\"marker\": {\"colorbar\": {\"outlinewidth\": 0, \"ticks\": \"\"}}, \"type\": \"scattergeo\"}], \"scattergl\": [{\"marker\": {\"colorbar\": {\"outlinewidth\": 0, \"ticks\": \"\"}}, \"type\": \"scattergl\"}], \"scattermapbox\": [{\"marker\": {\"colorbar\": {\"outlinewidth\": 0, \"ticks\": \"\"}}, \"type\": \"scattermapbox\"}], \"scatterpolar\": [{\"marker\": {\"colorbar\": {\"outlinewidth\": 0, \"ticks\": \"\"}}, \"type\": \"scatterpolar\"}], \"scatterpolargl\": [{\"marker\": {\"colorbar\": {\"outlinewidth\": 0, \"ticks\": \"\"}}, \"type\": \"scatterpolargl\"}], \"scatterternary\": [{\"marker\": {\"colorbar\": {\"outlinewidth\": 0, \"ticks\": \"\"}}, \"type\": \"scatterternary\"}], \"surface\": [{\"colorbar\": {\"outlinewidth\": 0, \"ticks\": \"\"}, \"colorscale\": [[0.0, \"#0d0887\"], [0.1111111111111111, \"#46039f\"], [0.2222222222222222, \"#7201a8\"], [0.3333333333333333, \"#9c179e\"], [0.4444444444444444, \"#bd3786\"], [0.5555555555555556, \"#d8576b\"], [0.6666666666666666, \"#ed7953\"], [0.7777777777777778, \"#fb9f3a\"], [0.8888888888888888, \"#fdca26\"], [1.0, \"#f0f921\"]], \"type\": \"surface\"}], \"table\": [{\"cells\": {\"fill\": {\"color\": \"#EBF0F8\"}, \"line\": {\"color\": \"white\"}}, \"header\": {\"fill\": {\"color\": \"#C8D4E3\"}, \"line\": {\"color\": \"white\"}}, \"type\": \"table\"}]}, \"layout\": {\"annotationdefaults\": {\"arrowcolor\": \"#2a3f5f\", \"arrowhead\": 0, \"arrowwidth\": 1}, \"autotypenumbers\": \"strict\", \"coloraxis\": {\"colorbar\": {\"outlinewidth\": 0, \"ticks\": \"\"}}, \"colorscale\": {\"diverging\": [[0, \"#8e0152\"], [0.1, \"#c51b7d\"], [0.2, \"#de77ae\"], [0.3, \"#f1b6da\"], [0.4, \"#fde0ef\"], [0.5, \"#f7f7f7\"], [0.6, \"#e6f5d0\"], [0.7, \"#b8e186\"], [0.8, \"#7fbc41\"], [0.9, \"#4d9221\"], [1, \"#276419\"]], \"sequential\": [[0.0, \"#0d0887\"], [0.1111111111111111, \"#46039f\"], [0.2222222222222222, \"#7201a8\"], [0.3333333333333333, \"#9c179e\"], [0.4444444444444444, \"#bd3786\"], [0.5555555555555556, \"#d8576b\"], [0.6666666666666666, \"#ed7953\"], [0.7777777777777778, \"#fb9f3a\"], [0.8888888888888888, \"#fdca26\"], [1.0, \"#f0f921\"]], \"sequentialminus\": [[0.0, \"#0d0887\"], [0.1111111111111111, \"#46039f\"], [0.2222222222222222, \"#7201a8\"], [0.3333333333333333, \"#9c179e\"], [0.4444444444444444, \"#bd3786\"], [0.5555555555555556, \"#d8576b\"], [0.6666666666666666, \"#ed7953\"], [0.7777777777777778, \"#fb9f3a\"], [0.8888888888888888, \"#fdca26\"], [1.0, \"#f0f921\"]]}, \"colorway\": [\"#636efa\", \"#EF553B\", \"#00cc96\", \"#ab63fa\", \"#FFA15A\", \"#19d3f3\", \"#FF6692\", \"#B6E880\", \"#FF97FF\", \"#FECB52\"], \"font\": {\"color\": \"#2a3f5f\"}, \"geo\": {\"bgcolor\": \"white\", \"lakecolor\": \"white\", \"landcolor\": \"#E5ECF6\", \"showlakes\": true, \"showland\": true, \"subunitcolor\": \"white\"}, \"hoverlabel\": {\"align\": \"left\"}, \"hovermode\": \"closest\", \"mapbox\": {\"style\": \"light\"}, \"paper_bgcolor\": \"white\", \"plot_bgcolor\": \"#E5ECF6\", \"polar\": {\"angularaxis\": {\"gridcolor\": \"white\", \"linecolor\": \"white\", \"ticks\": \"\"}, \"bgcolor\": \"#E5ECF6\", \"radialaxis\": {\"gridcolor\": \"white\", \"linecolor\": \"white\", \"ticks\": \"\"}}, \"scene\": {\"xaxis\": {\"backgroundcolor\": \"#E5ECF6\", \"gridcolor\": \"white\", \"gridwidth\": 2, \"linecolor\": \"white\", \"showbackground\": true, \"ticks\": \"\", \"zerolinecolor\": \"white\"}, \"yaxis\": {\"backgroundcolor\": \"#E5ECF6\", \"gridcolor\": \"white\", \"gridwidth\": 2, \"linecolor\": \"white\", \"showbackground\": true, \"ticks\": \"\", \"zerolinecolor\": \"white\"}, \"zaxis\": {\"backgroundcolor\": \"#E5ECF6\", \"gridcolor\": \"white\", \"gridwidth\": 2, \"linecolor\": \"white\", \"showbackground\": true, \"ticks\": \"\", \"zerolinecolor\": \"white\"}}, \"shapedefaults\": {\"line\": {\"color\": \"#2a3f5f\"}}, \"ternary\": {\"aaxis\": {\"gridcolor\": \"white\", \"linecolor\": \"white\", \"ticks\": \"\"}, \"baxis\": {\"gridcolor\": \"white\", \"linecolor\": \"white\", \"ticks\": \"\"}, \"bgcolor\": \"#E5ECF6\", \"caxis\": {\"gridcolor\": \"white\", \"linecolor\": \"white\", \"ticks\": \"\"}}, \"title\": {\"x\": 0.05}, \"xaxis\": {\"automargin\": true, \"gridcolor\": \"white\", \"linecolor\": \"white\", \"ticks\": \"\", \"title\": {\"standoff\": 15}, \"zerolinecolor\": \"white\", \"zerolinewidth\": 2}, \"yaxis\": {\"automargin\": true, \"gridcolor\": \"white\", \"linecolor\": \"white\", \"ticks\": \"\", \"title\": {\"standoff\": 15}, \"zerolinecolor\": \"white\", \"zerolinewidth\": 2}}}, \"title\": {\"font\": {\"color\": \"#4D5663\"}, \"text\": \"Return Comparison\"}, \"xaxis\": {\"gridcolor\": \"#E1E5ED\", \"showgrid\": true, \"tickfont\": {\"color\": \"#4D5663\"}, \"title\": {\"font\": {\"color\": \"#4D5663\"}, \"text\": \"Date\"}, \"zerolinecolor\": \"#E1E5ED\"}, \"yaxis\": {\"gridcolor\": \"#E1E5ED\", \"showgrid\": true, \"tickfont\": {\"color\": \"#4D5663\"}, \"title\": {\"font\": {\"color\": \"#4D5663\"}, \"text\": \"Returns\"}, \"zerolinecolor\": \"#E1E5ED\"}},                        {\"responsive\": true}                    ).then(function(){\n",
       "                            \n",
       "var gd = document.getElementById('ea36cf50-fa44-44a7-a0d7-2e9d0ff718f9');\n",
       "var x = new MutationObserver(function (mutations, observer) {{\n",
       "        var display = window.getComputedStyle(gd).display;\n",
       "        if (!display || display === 'none') {{\n",
       "            console.log([gd, 'removed!']);\n",
       "            Plotly.purge(gd);\n",
       "            observer.disconnect();\n",
       "        }}\n",
       "}});\n",
       "\n",
       "// Listen for the removal of the full notebook cells\n",
       "var notebookContainer = gd.closest('#notebook-container');\n",
       "if (notebookContainer) {{\n",
       "    x.observe(notebookContainer, {childList: true});\n",
       "}}\n",
       "\n",
       "// Listen for the clearing of the current output cell\n",
       "var outputEl = gd.closest('.output');\n",
       "if (outputEl) {{\n",
       "    x.observe(outputEl, {childList: true});\n",
       "}}\n",
       "\n",
       "                        })                };                });            </script>        </div>"
      ]
     },
     "metadata": {},
     "output_type": "display_data"
    },
    {
     "data": {
      "application/vnd.plotly.v1+json": {
       "config": {
        "linkText": "Export to plot.ly",
        "plotlyServerURL": "https://plot.ly",
        "showLink": false
       },
       "data": [
        {
         "line": {
          "color": "orange",
          "dash": "solid",
          "shape": "linear",
          "width": 1.3
         },
         "marker": {
          "size": 2.5,
          "symbol": "circle"
         },
         "mode": "lines+markers",
         "name": "S&P 500 Returns",
         "text": "",
         "type": "scatter",
         "x": [
          "1985-02-28",
          "1985-03-31",
          "1985-04-30",
          "1985-05-31",
          "1985-06-30",
          "1985-07-31",
          "1985-08-31",
          "1985-09-30",
          "1985-10-31",
          "1985-11-30",
          "1985-12-31",
          "1986-01-31",
          "1986-02-28",
          "1986-03-31",
          "1986-04-30",
          "1986-05-31",
          "1986-06-30",
          "1986-07-31",
          "1986-08-31",
          "1986-09-30",
          "1986-10-31",
          "1986-11-30",
          "1986-12-31",
          "1987-01-31",
          "1987-02-28",
          "1987-03-31",
          "1987-04-30",
          "1987-05-31",
          "1987-06-30",
          "1987-07-31",
          "1987-08-31",
          "1987-09-30",
          "1987-10-31",
          "1987-11-30",
          "1987-12-31",
          "1988-01-31",
          "1988-02-29",
          "1988-03-31",
          "1988-04-30",
          "1988-05-31",
          "1988-06-30",
          "1988-07-31",
          "1988-08-31",
          "1988-09-30",
          "1988-10-31",
          "1988-11-30",
          "1988-12-31",
          "1989-01-31",
          "1989-02-28",
          "1989-03-31",
          "1989-04-30",
          "1989-05-31",
          "1989-06-30",
          "1989-07-31",
          "1989-08-31",
          "1989-09-30",
          "1989-10-31",
          "1989-11-30",
          "1989-12-31",
          "1990-01-31",
          "1990-02-28",
          "1990-03-31",
          "1990-04-30",
          "1990-05-31",
          "1990-06-30",
          "1990-07-31",
          "1990-08-31",
          "1990-09-30",
          "1990-10-31",
          "1990-11-30",
          "1990-12-31",
          "1991-01-31",
          "1991-02-28",
          "1991-03-31",
          "1991-04-30",
          "1991-05-31",
          "1991-06-30",
          "1991-07-31",
          "1991-08-31",
          "1991-09-30",
          "1991-10-31",
          "1991-11-30",
          "1991-12-31",
          "1992-01-31",
          "1992-02-29",
          "1992-03-31",
          "1992-04-30",
          "1992-05-31",
          "1992-06-30",
          "1992-07-31",
          "1992-08-31",
          "1992-09-30",
          "1992-10-31",
          "1992-11-30",
          "1992-12-31",
          "1993-01-31",
          "1993-02-28",
          "1993-03-31",
          "1993-04-30",
          "1993-05-31",
          "1993-06-30",
          "1993-07-31",
          "1993-08-31",
          "1993-09-30",
          "1993-10-31",
          "1993-11-30",
          "1993-12-31",
          "1994-01-31",
          "1994-02-28",
          "1994-03-31",
          "1994-04-30",
          "1994-05-31",
          "1994-06-30",
          "1994-07-31",
          "1994-08-31",
          "1994-09-30",
          "1994-10-31",
          "1994-11-30",
          "1994-12-31",
          "1995-01-31",
          "1995-02-28",
          "1995-03-31",
          "1995-04-30",
          "1995-05-31",
          "1995-06-30",
          "1995-07-31",
          "1995-08-31",
          "1995-09-30",
          "1995-10-31",
          "1995-11-30",
          "1995-12-31",
          "1996-01-31",
          "1996-02-29",
          "1996-03-31",
          "1996-04-30",
          "1996-05-31",
          "1996-06-30",
          "1996-07-31",
          "1996-08-31",
          "1996-09-30",
          "1996-10-31",
          "1996-11-30",
          "1996-12-31",
          "1997-01-31",
          "1997-02-28",
          "1997-03-31",
          "1997-04-30",
          "1997-05-31",
          "1997-06-30",
          "1997-07-31",
          "1997-08-31",
          "1997-09-30",
          "1997-10-31",
          "1997-11-30",
          "1997-12-31",
          "1998-01-31",
          "1998-02-28",
          "1998-03-31",
          "1998-04-30",
          "1998-05-31",
          "1998-06-30",
          "1998-07-31",
          "1998-08-31",
          "1998-09-30",
          "1998-10-31",
          "1998-11-30",
          "1998-12-31",
          "1999-01-31",
          "1999-02-28",
          "1999-03-31",
          "1999-04-30",
          "1999-05-31",
          "1999-06-30",
          "1999-07-31",
          "1999-08-31",
          "1999-09-30",
          "1999-10-31",
          "1999-11-30",
          "1999-12-31",
          "2000-01-31",
          "2000-02-29",
          "2000-03-31",
          "2000-04-30",
          "2000-05-31",
          "2000-06-30",
          "2000-07-31",
          "2000-08-31",
          "2000-09-30",
          "2000-10-31",
          "2000-11-30",
          "2000-12-31",
          "2001-01-31",
          "2001-02-28",
          "2001-03-31",
          "2001-04-30",
          "2001-05-31",
          "2001-06-30",
          "2001-07-31",
          "2001-08-31",
          "2001-09-30",
          "2001-10-31",
          "2001-11-30",
          "2001-12-31",
          "2002-01-31",
          "2002-02-28",
          "2002-03-31",
          "2002-04-30",
          "2002-05-31",
          "2002-06-30",
          "2002-07-31",
          "2002-08-31",
          "2002-09-30",
          "2002-10-31",
          "2002-11-30",
          "2002-12-31",
          "2003-01-31",
          "2003-02-28",
          "2003-03-31",
          "2003-04-30",
          "2003-05-31",
          "2003-06-30",
          "2003-07-31",
          "2003-08-31",
          "2003-09-30",
          "2003-10-31",
          "2003-11-30",
          "2003-12-31",
          "2004-01-31",
          "2004-02-29",
          "2004-03-31",
          "2004-04-30",
          "2004-05-31",
          "2004-06-30",
          "2004-07-31",
          "2004-08-31",
          "2004-09-30",
          "2004-10-31",
          "2004-11-30",
          "2004-12-31",
          "2005-01-31",
          "2005-02-28",
          "2005-03-31",
          "2005-04-30",
          "2005-05-31",
          "2005-06-30",
          "2005-07-31",
          "2005-08-31",
          "2005-09-30",
          "2005-10-31",
          "2005-11-30",
          "2005-12-31",
          "2006-01-31",
          "2006-02-28",
          "2006-03-31",
          "2006-04-30",
          "2006-05-31",
          "2006-06-30",
          "2006-07-31",
          "2006-08-31",
          "2006-09-30",
          "2006-10-31",
          "2006-11-30",
          "2006-12-31",
          "2007-01-31",
          "2007-02-28",
          "2007-03-31",
          "2007-04-30",
          "2007-05-31",
          "2007-06-30",
          "2007-07-31",
          "2007-08-31",
          "2007-09-30",
          "2007-10-31",
          "2007-11-30",
          "2007-12-31",
          "2008-01-31",
          "2008-02-29",
          "2008-03-31",
          "2008-04-30",
          "2008-05-31",
          "2008-06-30",
          "2008-07-31",
          "2008-08-31",
          "2008-09-30",
          "2008-10-31",
          "2008-11-30",
          "2008-12-31",
          "2009-01-31",
          "2009-02-28",
          "2009-03-31",
          "2009-04-30",
          "2009-05-31",
          "2009-06-30",
          "2009-07-31",
          "2009-08-31",
          "2009-09-30",
          "2009-10-31",
          "2009-11-30",
          "2009-12-31",
          "2010-01-31",
          "2010-02-28",
          "2010-03-31",
          "2010-04-30",
          "2010-05-31",
          "2010-06-30",
          "2010-07-31",
          "2010-08-31",
          "2010-09-30",
          "2010-10-31",
          "2010-11-30",
          "2010-12-31",
          "2011-01-31",
          "2011-02-28",
          "2011-03-31",
          "2011-04-30",
          "2011-05-31",
          "2011-06-30",
          "2011-07-31",
          "2011-08-31",
          "2011-09-30",
          "2011-10-31",
          "2011-11-30",
          "2011-12-31",
          "2012-01-31",
          "2012-02-29",
          "2012-03-31",
          "2012-04-30",
          "2012-05-31",
          "2012-06-30",
          "2012-07-31",
          "2012-08-31",
          "2012-09-30",
          "2012-10-31",
          "2012-11-30",
          "2012-12-31",
          "2013-01-31",
          "2013-02-28",
          "2013-03-31",
          "2013-04-30",
          "2013-05-31",
          "2013-06-30",
          "2013-07-31",
          "2013-08-31",
          "2013-09-30",
          "2013-10-31",
          "2013-11-30",
          "2013-12-31",
          "2014-01-31",
          "2014-02-28",
          "2014-03-31",
          "2014-04-30",
          "2014-05-31",
          "2014-06-30",
          "2014-07-31",
          "2014-08-31",
          "2014-09-30",
          "2014-10-31",
          "2014-11-30",
          "2014-12-31",
          "2015-01-31",
          "2015-02-28",
          "2015-03-31",
          "2015-04-30",
          "2015-05-31",
          "2015-06-30",
          "2015-07-31",
          "2015-08-31",
          "2015-09-30",
          "2015-10-31",
          "2015-11-30",
          "2015-12-31",
          "2016-01-31",
          "2016-02-29",
          "2016-03-31",
          "2016-04-30",
          "2016-05-31",
          "2016-06-30",
          "2016-07-31",
          "2016-08-31",
          "2016-09-30",
          "2016-10-31",
          "2016-11-30",
          "2016-12-31",
          "2017-01-31",
          "2017-02-28",
          "2017-03-31",
          "2017-04-30",
          "2017-05-31",
          "2017-06-30",
          "2017-07-31",
          "2017-08-31",
          "2017-09-30",
          "2017-10-31",
          "2017-11-30",
          "2017-12-31",
          "2018-01-31",
          "2018-02-28",
          "2018-03-31",
          "2018-04-30",
          "2018-05-31",
          "2018-06-30",
          "2018-07-31",
          "2018-08-31",
          "2018-09-30",
          "2018-10-31",
          "2018-11-30",
          "2018-12-31",
          "2019-01-31",
          "2019-02-28",
          "2019-03-31",
          "2019-04-30",
          "2019-05-31",
          "2019-06-30",
          "2019-07-31",
          "2019-08-31",
          "2019-09-30",
          "2019-10-31",
          "2019-11-30",
          "2019-12-31",
          "2020-01-31",
          "2020-02-29",
          "2020-03-31",
          "2020-04-30",
          "2020-05-31",
          "2020-06-30",
          "2020-07-31",
          "2020-08-31",
          "2020-09-30",
          "2020-10-31",
          "2020-11-30",
          "2020-12-31",
          "2021-01-31"
         ],
         "y": [
          0.8628781143773745,
          -0.2870013357379797,
          -0.45942764398477776,
          5.405105317187275,
          1.2134017217609872,
          -0.48475786860283643,
          -1.1994516153305157,
          -3.472407796416055,
          4.262336089886154,
          6.5061587528020715,
          4.506109259594515,
          0.23665278415681001,
          7.148927694536433,
          5.279391902691621,
          -1.4148137651271764,
          5.022928753007316,
          1.9509035671286146,
          -5.804445332943264,
          7.1192606962404925,
          -8.543860593077246,
          5.47293300055971,
          2.151903913793074,
          -2.828827129328182,
          13.176689624451354,
          3.6923618943399905,
          2.649821816350495,
          -1.1077235310912315,
          1.0836670644854385,
          4.784229022201658,
          4.825821402869224,
          3.5088799119465053,
          -2.419578256690691,
          -21.763041614888422,
          -8.513086775721401,
          7.276829841360688,
          4.034804029911676,
          4.189853920553377,
          -3.3343259527283786,
          0.942474355374423,
          0.3060985024161189,
          4.325601093597786,
          -0.5411374771480792,
          -3.8635481522756643,
          3.972933403572454,
          2.6039889695838925,
          -1.8890880672147836,
          1.4761795174409897,
          7.1114791620643825,
          -2.8944148892512955,
          2.080596244578503,
          5.008993878810886,
          3.5137493453486712,
          -0.7893666097979368,
          8.837025922362152,
          1.5516716371120287,
          -0.6544367396408068,
          -2.517545224417217,
          1.6541324621341724,
          2.1357717367771922,
          -6.8817225277032605,
          0.8539042515520734,
          2.425498398919901,
          -2.688713874867843,
          9.198919015680262,
          -0.8968667747088932,
          -0.5223158084617485,
          -9.431418381548529,
          -5.118430711299804,
          -0.6860522570522276,
          5.996911608832911,
          2.4795921320934777,
          4.15808010327996,
          6.734320819582784,
          2.220283282365809,
          0.031979905037093914,
          3.857727659127841,
          -4.784380620222062,
          4.480307482521018,
          1.9648784299779676,
          -1.9143737536368444,
          1.1834237037883666,
          -4.392801914934563,
          11.191387240731544,
          -1.9782749489923424,
          0.9564820357436998,
          -2.1784412020187327,
          2.7943613933988365,
          0.0963957075388544,
          -1.7358832059340301,
          3.922091751432877,
          -2.3951538112866433,
          0.9105593819543456,
          0.21062829709799225,
          3.031099670079773,
          1.0107766174460409,
          0.7069054200530944,
          1.0483627354217484,
          1.8697297817929392,
          -2.5416810214496266,
          2.2717462810525113,
          0.0666299430670314,
          -0.5349145363025887,
          3.4431956860375923,
          -0.9966551870561169,
          1.9392922963742842,
          -1.2910626013377002,
          0.9785073644265507,
          3.23679549770004,
          -3.0024897881749335,
          -4.584861171750843,
          1.1780280825918643,
          1.2397143444171643,
          -2.679082365826957,
          3.148990781819383,
          3.7553441209639216,
          -2.6877535318882373,
          2.0877918170360665,
          -3.932157626473609,
          1.2611621985094024,
          2.4411537683638906,
          3.6074149761991636,
          2.7329193438646815,
          2.7980846143858207,
          3.6211076303305,
          2.1278544224437423,
          3.1776040385498083,
          -0.03202380540165972,
          4.00974724131713,
          -0.49793349436904055,
          4.104900257953581,
          1.7443874138492799,
          3.261738708671724,
          0.6933701552350291,
          0.7916567080580306,
          1.3431422153369565,
          2.2853405672085048,
          0.225671032293695,
          -4.574801719466748,
          1.8813935110919333,
          5.42033275694922,
          2.613089006745395,
          7.337615173263701,
          -2.1505415404998174,
          6.131703919481923,
          0.5927590007180461,
          -4.261401039642642,
          5.840557942205704,
          5.857688424192475,
          4.345261557489777,
          7.8145809507889075,
          -5.744585845372862,
          5.3153589937912304,
          -3.4477697196337753,
          4.458685489376402,
          1.5731597888257953,
          1.0150176798997546,
          7.044919304379715,
          4.9945714161429455,
          0.9076469253460395,
          -1.8826223521475116,
          3.9438241075214098,
          -1.161532702578949,
          -14.57967185567066,
          6.239551561771917,
          8.029422837244237,
          5.912599633962534,
          5.637528657573587,
          4.1009441536725255,
          -3.2282562686194116,
          3.8794215360158812,
          3.794402791554541,
          -2.497048087268683,
          5.443833101679418,
          -3.2046092218893762,
          -0.6254092044500448,
          -2.8551792268491583,
          6.253954162596531,
          1.906185862124965,
          5.784389487677943,
          -5.090354874936187,
          -2.0108083261058285,
          9.671982826973235,
          -3.079575555193137,
          -2.1915050512993584,
          2.393354960890126,
          -1.6341276221772727,
          6.069910518423605,
          -5.348297474561125,
          -0.4956419611889529,
          -8.00686099610699,
          0.4053445529197841,
          3.46365770863295,
          -9.229073584900005,
          -6.42047105408955,
          7.68143617590098,
          0.5090187119649592,
          -2.5035389109833495,
          -1.0772499245365053,
          -6.410840656371475,
          -8.172340601971618,
          1.809911144527776,
          7.517590426305354,
          0.7573834192915685,
          -1.5573832559794276,
          -2.0766211305560334,
          3.6738893618839086,
          -6.141762615913993,
          -0.908148107604545,
          -7.245535441757367,
          -7.900427496612538,
          0.4881433080019315,
          -11.002431826151904,
          8.644880101680986,
          5.706962092361811,
          -6.033257267429071,
          -2.7414692559952325,
          -1.7003608502929257,
          0.8357568566151441,
          8.104410687272612,
          5.089870966417798,
          1.1322214525161467,
          1.6223702411493068,
          1.7873203376464142,
          -1.1944364520745099,
          5.496148638401066,
          0.7128503847885437,
          5.076554100123931,
          1.7276387006114557,
          1.2208973273589496,
          -1.6358919214261247,
          -1.6790751862298725,
          1.2083450201310297,
          1.7988998669195677,
          -3.4290519411904974,
          0.2287349840552233,
          0.9363875691551504,
          1.4014243586486952,
          3.859493619815235,
          3.2493324181442462,
          -2.5290467099494562,
          1.8903346078316563,
          -1.9117655748441043,
          -2.01085818816793,
          2.9952046262565757,
          -0.01427142257658387,
          3.5968287193812287,
          -1.1222104874496597,
          0.6949024694760331,
          -1.7740780066319406,
          3.5186095929726546,
          -0.09523489924184725,
          2.5466771348641615,
          0.045315763072539816,
          1.1095810459249567,
          0.5932994573817352,
          -3.0916916141150885,
          0.01180284195241299,
          0.5196584959294537,
          1.9780463834533801,
          2.458193418889798,
          3.1531191854205165,
          1.6599403984733252,
          1.2615782852659851,
          1.4252138943948944,
          -2.16149088818709,
          0.9994267493802278,
          4.331274037411981,
          3.254922870993493,
          -1.7816322202167556,
          -3.28246998550904,
          1.29261914690868,
          3.5815110584269005,
          1.4463504269603966,
          -4.182328930119339,
          -0.7616782548283019,
          -6.091399944583742,
          -3.4796149597495662,
          -0.5825096986305178,
          4.461661965986008,
          1.0397075190310856,
          -8.546605180501155,
          -0.7292245126258146,
          1.0563809877891073,
          -9.432143617569333,
          -16.786211344912427,
          -7.47726204704745,
          1.6475186242702389,
          -8.539406400285799,
          -10.691418570668699,
          9.361677062472772,
          9.982480664414917,
          5.316592058535097,
          -0.4267490151555364,
          7.239196856416696,
          3.070027356578109,
          3.6840802792671212,
          -1.7745677258388715,
          5.73741511144743,
          1.4751213295900234,
          -3.823355820038332,
          2.8494514868917964,
          5.796307978346071,
          1.3199765429501742,
          -8.343563384136354,
          -5.204643194125335,
          6.837358320334208,
          -5.254943114504029,
          8.714703209166629,
          3.477950865140489,
          -0.4351748884396933,
          5.986856601790458,
          2.2661853432125234,
          2.953903808501357,
          -0.21149889874421124,
          2.567169533459235,
          -1.465709346666566,
          -1.825746126569705,
          -2.1474425791952023,
          -5.701726992982092,
          -7.193709508472135,
          10.79287596549019,
          -0.3229447641886485,
          0.8573146184177594,
          4.253852663368263,
          4.055781552617832,
          3.1166224651885566,
          -0.749745270927038,
          -6.26171647656113,
          3.9920021986609378,
          1.2471273882786127,
          1.9763369680148246,
          2.4265221077009125,
          -1.9945859894024198,
          0.2818370725180541,
          0.6954527328504545,
          5.042809651957847,
          1.1060649195259176,
          3.5987723516956116,
          1.8092182555871306,
          2.0775525011423435,
          -1.5584835913127093,
          4.71803287603092,
          -3.34138766735268,
          2.78737732606833,
          4.406179439131908,
          2.678689333744111,
          2.31435248766807,
          -3.4276716280839725,
          4.306431590331816,
          0.7891516070506421,
          0.5330951678748308,
          2.079183751140823,
          1.8899398137346646,
          -1.6113823324565013,
          3.812309261683522,
          -1.5857683542149226,
          2.364267205439563,
          2.445241028121159,
          -0.3330522564559013,
          -3.1040805790470305,
          5.4004894962004,
          -1.7736820848428203,
          0.8647643926512405,
          0.9586185132359315,
          -2.1592015853984403,
          1.7822974358974397,
          -6.287030901962143,
          -2.540997510973564,
          8.319750006681437,
          -0.016825486760474462,
          -1.871882025458349,
          -4.806199752479545,
          -0.24316505123893606,
          6.331663792222653,
          0.42204838551618273,
          1.440618339260058,
          0.2349716868025542,
          3.5373025278027326,
          -0.1012332834460894,
          -0.14093011610738504,
          -1.764064381311059,
          3.2945360148206593,
          1.7571441011636546,
          1.2124894262895536,
          3.4148645205360317,
          -0.7314689893332837,
          0.9253478409413596,
          0.9755096922754891,
          0.32123901702705293,
          1.600325645509293,
          -0.22002324429279962,
          1.816190720113342,
          2.1442194213337817,
          2.491865468615684,
          1.0778423478777555,
          5.219604060167038,
          -3.643589440088013,
          -2.738262637800837,
          0.5544095491336609,
          2.3575861881927285,
          -0.012132048624136083,
          4.116160742968211,
          2.8481126703292503,
          0.587513090589109,
          -7.331810795942772,
          1.5671973880285517,
          -10.164841497939436,
          9.170117425244872,
          3.040717603108156,
          1.292962360892247,
          3.4121735357783622,
          -6.783456243336761,
          6.913607301939417,
          0.30187591970312067,
          -1.807192038811578,
          2.32828280986217,
          1.8054864635815626,
          2.958646151007227,
          2.765078750265526,
          -0.59019568894072,
          -8.698069285842802,
          -13.10199232084479,
          16.586732252864156,
          6.10716170024983,
          2.024167903335927,
          5.31888133463605,
          6.448700782636729,
          -4.118101619120484,
          -3.4233491538269933,
          9.872882010730887,
          3.022596731741989,
          -1.3379902717240433
         ]
        },
        {
         "line": {
          "color": "green",
          "dash": "solid",
          "shape": "linear",
          "width": 1.3
         },
         "marker": {
          "size": 2.5,
          "symbol": "diamond"
         },
         "mode": "lines+markers",
         "name": "RF Return",
         "text": "",
         "type": "scatter",
         "x": [
          "1985-02-28",
          "1985-03-31",
          "1985-04-30",
          "1985-05-31",
          "1985-06-30",
          "1985-07-31",
          "1985-08-31",
          "1985-09-30",
          "1985-10-31",
          "1985-11-30",
          "1985-12-31",
          "1986-01-31",
          "1986-02-28",
          "1986-03-31",
          "1986-04-30",
          "1986-05-31",
          "1986-06-30",
          "1986-07-31",
          "1986-08-31",
          "1986-09-30",
          "1986-10-31",
          "1986-11-30",
          "1986-12-31",
          "1987-01-31",
          "1987-02-28",
          "1987-03-31",
          "1987-04-30",
          "1987-05-31",
          "1987-06-30",
          "1987-07-31",
          "1987-08-31",
          "1987-09-30",
          "1987-10-31",
          "1987-11-30",
          "1987-12-31",
          "1988-01-31",
          "1988-02-29",
          "1988-03-31",
          "1988-04-30",
          "1988-05-31",
          "1988-06-30",
          "1988-07-31",
          "1988-08-31",
          "1988-09-30",
          "1988-10-31",
          "1988-11-30",
          "1988-12-31",
          "1989-01-31",
          "1989-02-28",
          "1989-03-31",
          "1989-04-30",
          "1989-05-31",
          "1989-06-30",
          "1989-07-31",
          "1989-08-31",
          "1989-09-30",
          "1989-10-31",
          "1989-11-30",
          "1989-12-31",
          "1990-01-31",
          "1990-02-28",
          "1990-03-31",
          "1990-04-30",
          "1990-05-31",
          "1990-06-30",
          "1990-07-31",
          "1990-08-31",
          "1990-09-30",
          "1990-10-31",
          "1990-11-30",
          "1990-12-31",
          "1991-01-31",
          "1991-02-28",
          "1991-03-31",
          "1991-04-30",
          "1991-05-31",
          "1991-06-30",
          "1991-07-31",
          "1991-08-31",
          "1991-09-30",
          "1991-10-31",
          "1991-11-30",
          "1991-12-31",
          "1992-01-31",
          "1992-02-29",
          "1992-03-31",
          "1992-04-30",
          "1992-05-31",
          "1992-06-30",
          "1992-07-31",
          "1992-08-31",
          "1992-09-30",
          "1992-10-31",
          "1992-11-30",
          "1992-12-31",
          "1993-01-31",
          "1993-02-28",
          "1993-03-31",
          "1993-04-30",
          "1993-05-31",
          "1993-06-30",
          "1993-07-31",
          "1993-08-31",
          "1993-09-30",
          "1993-10-31",
          "1993-11-30",
          "1993-12-31",
          "1994-01-31",
          "1994-02-28",
          "1994-03-31",
          "1994-04-30",
          "1994-05-31",
          "1994-06-30",
          "1994-07-31",
          "1994-08-31",
          "1994-09-30",
          "1994-10-31",
          "1994-11-30",
          "1994-12-31",
          "1995-01-31",
          "1995-02-28",
          "1995-03-31",
          "1995-04-30",
          "1995-05-31",
          "1995-06-30",
          "1995-07-31",
          "1995-08-31",
          "1995-09-30",
          "1995-10-31",
          "1995-11-30",
          "1995-12-31",
          "1996-01-31",
          "1996-02-29",
          "1996-03-31",
          "1996-04-30",
          "1996-05-31",
          "1996-06-30",
          "1996-07-31",
          "1996-08-31",
          "1996-09-30",
          "1996-10-31",
          "1996-11-30",
          "1996-12-31",
          "1997-01-31",
          "1997-02-28",
          "1997-03-31",
          "1997-04-30",
          "1997-05-31",
          "1997-06-30",
          "1997-07-31",
          "1997-08-31",
          "1997-09-30",
          "1997-10-31",
          "1997-11-30",
          "1997-12-31",
          "1998-01-31",
          "1998-02-28",
          "1998-03-31",
          "1998-04-30",
          "1998-05-31",
          "1998-06-30",
          "1998-07-31",
          "1998-08-31",
          "1998-09-30",
          "1998-10-31",
          "1998-11-30",
          "1998-12-31",
          "1999-01-31",
          "1999-02-28",
          "1999-03-31",
          "1999-04-30",
          "1999-05-31",
          "1999-06-30",
          "1999-07-31",
          "1999-08-31",
          "1999-09-30",
          "1999-10-31",
          "1999-11-30",
          "1999-12-31",
          "2000-01-31",
          "2000-02-29",
          "2000-03-31",
          "2000-04-30",
          "2000-05-31",
          "2000-06-30",
          "2000-07-31",
          "2000-08-31",
          "2000-09-30",
          "2000-10-31",
          "2000-11-30",
          "2000-12-31",
          "2001-01-31",
          "2001-02-28",
          "2001-03-31",
          "2001-04-30",
          "2001-05-31",
          "2001-06-30",
          "2001-07-31",
          "2001-08-31",
          "2001-09-30",
          "2001-10-31",
          "2001-11-30",
          "2001-12-31",
          "2002-01-31",
          "2002-02-28",
          "2002-03-31",
          "2002-04-30",
          "2002-05-31",
          "2002-06-30",
          "2002-07-31",
          "2002-08-31",
          "2002-09-30",
          "2002-10-31",
          "2002-11-30",
          "2002-12-31",
          "2003-01-31",
          "2003-02-28",
          "2003-03-31",
          "2003-04-30",
          "2003-05-31",
          "2003-06-30",
          "2003-07-31",
          "2003-08-31",
          "2003-09-30",
          "2003-10-31",
          "2003-11-30",
          "2003-12-31",
          "2004-01-31",
          "2004-02-29",
          "2004-03-31",
          "2004-04-30",
          "2004-05-31",
          "2004-06-30",
          "2004-07-31",
          "2004-08-31",
          "2004-09-30",
          "2004-10-31",
          "2004-11-30",
          "2004-12-31",
          "2005-01-31",
          "2005-02-28",
          "2005-03-31",
          "2005-04-30",
          "2005-05-31",
          "2005-06-30",
          "2005-07-31",
          "2005-08-31",
          "2005-09-30",
          "2005-10-31",
          "2005-11-30",
          "2005-12-31",
          "2006-01-31",
          "2006-02-28",
          "2006-03-31",
          "2006-04-30",
          "2006-05-31",
          "2006-06-30",
          "2006-07-31",
          "2006-08-31",
          "2006-09-30",
          "2006-10-31",
          "2006-11-30",
          "2006-12-31",
          "2007-01-31",
          "2007-02-28",
          "2007-03-31",
          "2007-04-30",
          "2007-05-31",
          "2007-06-30",
          "2007-07-31",
          "2007-08-31",
          "2007-09-30",
          "2007-10-31",
          "2007-11-30",
          "2007-12-31",
          "2008-01-31",
          "2008-02-29",
          "2008-03-31",
          "2008-04-30",
          "2008-05-31",
          "2008-06-30",
          "2008-07-31",
          "2008-08-31",
          "2008-09-30",
          "2008-10-31",
          "2008-11-30",
          "2008-12-31",
          "2009-01-31",
          "2009-02-28",
          "2009-03-31",
          "2009-04-30",
          "2009-05-31",
          "2009-06-30",
          "2009-07-31",
          "2009-08-31",
          "2009-09-30",
          "2009-10-31",
          "2009-11-30",
          "2009-12-31",
          "2010-01-31",
          "2010-02-28",
          "2010-03-31",
          "2010-04-30",
          "2010-05-31",
          "2010-06-30",
          "2010-07-31",
          "2010-08-31",
          "2010-09-30",
          "2010-10-31",
          "2010-11-30",
          "2010-12-31",
          "2011-01-31",
          "2011-02-28",
          "2011-03-31",
          "2011-04-30",
          "2011-05-31",
          "2011-06-30",
          "2011-07-31",
          "2011-08-31",
          "2011-09-30",
          "2011-10-31",
          "2011-11-30",
          "2011-12-31",
          "2012-01-31",
          "2012-02-29",
          "2012-03-31",
          "2012-04-30",
          "2012-05-31",
          "2012-06-30",
          "2012-07-31",
          "2012-08-31",
          "2012-09-30",
          "2012-10-31",
          "2012-11-30",
          "2012-12-31",
          "2013-01-31",
          "2013-02-28",
          "2013-03-31",
          "2013-04-30",
          "2013-05-31",
          "2013-06-30",
          "2013-07-31",
          "2013-08-31",
          "2013-09-30",
          "2013-10-31",
          "2013-11-30",
          "2013-12-31",
          "2014-01-31",
          "2014-02-28",
          "2014-03-31",
          "2014-04-30",
          "2014-05-31",
          "2014-06-30",
          "2014-07-31",
          "2014-08-31",
          "2014-09-30",
          "2014-10-31",
          "2014-11-30",
          "2014-12-31",
          "2015-01-31",
          "2015-02-28",
          "2015-03-31",
          "2015-04-30",
          "2015-05-31",
          "2015-06-30",
          "2015-07-31",
          "2015-08-31",
          "2015-09-30",
          "2015-10-31",
          "2015-11-30",
          "2015-12-31",
          "2016-01-31",
          "2016-02-29",
          "2016-03-31",
          "2016-04-30",
          "2016-05-31",
          "2016-06-30",
          "2016-07-31",
          "2016-08-31",
          "2016-09-30",
          "2016-10-31",
          "2016-11-30",
          "2016-12-31",
          "2017-01-31",
          "2017-02-28",
          "2017-03-31",
          "2017-04-30",
          "2017-05-31",
          "2017-06-30",
          "2017-07-31",
          "2017-08-31",
          "2017-09-30",
          "2017-10-31",
          "2017-11-30",
          "2017-12-31",
          "2018-01-31",
          "2018-02-28",
          "2018-03-31",
          "2018-04-30",
          "2018-05-31",
          "2018-06-30",
          "2018-07-31",
          "2018-08-31",
          "2018-09-30",
          "2018-10-31",
          "2018-11-30",
          "2018-12-31",
          "2019-01-31",
          "2019-02-28",
          "2019-03-31",
          "2019-04-30",
          "2019-05-31",
          "2019-06-30",
          "2019-07-31",
          "2019-08-31",
          "2019-09-30",
          "2019-10-31",
          "2019-11-30",
          "2019-12-31",
          "2020-01-31",
          "2020-02-29",
          "2020-03-31",
          "2020-04-30",
          "2020-05-31",
          "2020-06-30",
          "2020-07-31",
          "2020-08-31",
          "2020-09-30",
          "2020-10-31",
          "2020-11-30",
          "2020-12-31",
          "2021-01-31"
         ],
         "y": [
          0.58,
          0.62,
          0.72,
          0.66,
          0.55,
          0.62,
          0.55,
          0.6,
          0.65,
          0.61,
          0.65,
          0.56,
          0.53,
          0.6,
          0.52,
          0.49,
          0.52,
          0.52,
          0.46,
          0.45,
          0.46,
          0.39,
          0.49,
          0.42,
          0.43,
          0.47,
          0.44,
          0.38,
          0.48,
          0.46,
          0.47,
          0.45,
          0.6,
          0.35,
          0.39,
          0.29,
          0.46,
          0.44,
          0.46,
          0.51,
          0.49,
          0.51,
          0.59,
          0.62,
          0.61,
          0.57,
          0.63,
          0.55,
          0.61,
          0.67,
          0.67,
          0.79,
          0.71,
          0.7,
          0.74,
          0.65,
          0.68,
          0.69,
          0.61,
          0.57,
          0.57,
          0.64,
          0.69,
          0.68,
          0.63,
          0.68,
          0.66,
          0.6,
          0.68,
          0.57,
          0.6,
          0.52,
          0.48,
          0.44,
          0.53,
          0.47,
          0.42,
          0.49,
          0.46,
          0.46,
          0.42,
          0.39,
          0.38,
          0.34,
          0.28,
          0.34,
          0.32,
          0.28,
          0.32,
          0.31,
          0.26,
          0.26,
          0.23,
          0.23,
          0.28,
          0.23,
          0.22,
          0.25,
          0.24,
          0.22,
          0.25,
          0.24,
          0.25,
          0.26,
          0.22,
          0.25,
          0.23,
          0.25,
          0.21,
          0.27,
          0.27,
          0.31,
          0.31,
          0.28,
          0.37,
          0.37,
          0.38,
          0.37,
          0.44,
          0.42,
          0.4,
          0.46,
          0.44,
          0.54,
          0.47,
          0.45,
          0.47,
          0.43,
          0.47,
          0.42,
          0.49,
          0.43,
          0.39,
          0.39,
          0.46,
          0.42,
          0.4,
          0.45,
          0.41,
          0.44,
          0.42,
          0.41,
          0.46,
          0.45,
          0.39,
          0.43,
          0.43,
          0.49,
          0.37,
          0.43,
          0.41,
          0.44,
          0.42,
          0.39,
          0.48,
          0.43,
          0.39,
          0.39,
          0.43,
          0.4,
          0.41,
          0.4,
          0.43,
          0.46,
          0.32,
          0.31,
          0.38,
          0.35,
          0.35,
          0.43,
          0.37,
          0.34,
          0.4,
          0.38,
          0.39,
          0.39,
          0.39,
          0.36,
          0.44,
          0.41,
          0.43,
          0.47,
          0.46,
          0.5,
          0.4,
          0.48,
          0.5,
          0.51,
          0.56,
          0.51,
          0.5,
          0.54,
          0.38,
          0.42,
          0.39,
          0.32,
          0.28,
          0.3,
          0.31,
          0.28,
          0.22,
          0.17,
          0.15,
          0.14,
          0.13,
          0.13,
          0.15,
          0.14,
          0.13,
          0.15,
          0.14,
          0.14,
          0.14,
          0.12,
          0.11,
          0.1,
          0.09,
          0.1,
          0.1,
          0.09,
          0.1,
          0.07,
          0.07,
          0.08,
          0.07,
          0.07,
          0.08,
          0.07,
          0.06,
          0.09,
          0.08,
          0.06,
          0.08,
          0.1,
          0.11,
          0.11,
          0.11,
          0.15,
          0.16,
          0.16,
          0.16,
          0.21,
          0.21,
          0.24,
          0.23,
          0.24,
          0.3,
          0.29,
          0.27,
          0.31,
          0.32,
          0.35,
          0.34,
          0.37,
          0.36,
          0.43,
          0.4,
          0.4,
          0.42,
          0.41,
          0.41,
          0.42,
          0.4,
          0.44,
          0.38,
          0.43,
          0.44,
          0.41,
          0.4,
          0.4,
          0.42,
          0.32,
          0.32,
          0.34,
          0.27,
          0.21,
          0.13,
          0.17,
          0.18,
          0.18,
          0.17,
          0.15,
          0.13,
          0.15,
          0.08,
          0.03,
          0,
          0,
          0.01,
          0.02,
          0.01,
          0,
          0.01,
          0.01,
          0.01,
          0.01,
          0,
          0,
          0.01,
          0,
          0,
          0.01,
          0.01,
          0.01,
          0.01,
          0.01,
          0.01,
          0.01,
          0.01,
          0.01,
          0.01,
          0.01,
          0.01,
          0.01,
          0,
          0,
          0,
          0,
          0.01,
          0,
          0,
          0,
          0,
          0,
          0,
          0,
          0,
          0.01,
          0,
          0,
          0.01,
          0.01,
          0.01,
          0.01,
          0.01,
          0,
          0,
          0,
          0,
          0,
          0,
          0,
          0,
          0,
          0,
          0,
          0,
          0,
          0,
          0,
          0,
          0,
          0,
          0,
          0,
          0,
          0,
          0,
          0,
          0,
          0,
          0,
          0,
          0,
          0,
          0,
          0,
          0,
          0,
          0,
          0.01,
          0.01,
          0.02,
          0.02,
          0.01,
          0.01,
          0.02,
          0.02,
          0.02,
          0.02,
          0.02,
          0.01,
          0.03,
          0.04,
          0.04,
          0.03,
          0.05,
          0.06,
          0.06,
          0.07,
          0.09,
          0.09,
          0.09,
          0.08,
          0.09,
          0.11,
          0.11,
          0.12,
          0.14,
          0.14,
          0.14,
          0.16,
          0.16,
          0.15,
          0.19,
          0.18,
          0.19,
          0.21,
          0.18,
          0.19,
          0.21,
          0.21,
          0.18,
          0.19,
          0.16,
          0.18,
          0.15,
          0.12,
          0.14,
          0.13,
          0.12,
          0.12,
          0,
          0.01,
          0.01,
          0.01,
          0.01,
          0.01,
          0.01,
          0.01,
          0.01,
          0
         ]
        }
       ],
       "layout": {
        "legend": {
         "bgcolor": "#F5F6F9",
         "font": {
          "color": "#4D5663"
         }
        },
        "paper_bgcolor": "#F5F6F9",
        "plot_bgcolor": "#F5F6F9",
        "template": {
         "data": {
          "bar": [
           {
            "error_x": {
             "color": "#2a3f5f"
            },
            "error_y": {
             "color": "#2a3f5f"
            },
            "marker": {
             "line": {
              "color": "#E5ECF6",
              "width": 0.5
             }
            },
            "type": "bar"
           }
          ],
          "barpolar": [
           {
            "marker": {
             "line": {
              "color": "#E5ECF6",
              "width": 0.5
             }
            },
            "type": "barpolar"
           }
          ],
          "carpet": [
           {
            "aaxis": {
             "endlinecolor": "#2a3f5f",
             "gridcolor": "white",
             "linecolor": "white",
             "minorgridcolor": "white",
             "startlinecolor": "#2a3f5f"
            },
            "baxis": {
             "endlinecolor": "#2a3f5f",
             "gridcolor": "white",
             "linecolor": "white",
             "minorgridcolor": "white",
             "startlinecolor": "#2a3f5f"
            },
            "type": "carpet"
           }
          ],
          "choropleth": [
           {
            "colorbar": {
             "outlinewidth": 0,
             "ticks": ""
            },
            "type": "choropleth"
           }
          ],
          "contour": [
           {
            "colorbar": {
             "outlinewidth": 0,
             "ticks": ""
            },
            "colorscale": [
             [
              0,
              "#0d0887"
             ],
             [
              0.1111111111111111,
              "#46039f"
             ],
             [
              0.2222222222222222,
              "#7201a8"
             ],
             [
              0.3333333333333333,
              "#9c179e"
             ],
             [
              0.4444444444444444,
              "#bd3786"
             ],
             [
              0.5555555555555556,
              "#d8576b"
             ],
             [
              0.6666666666666666,
              "#ed7953"
             ],
             [
              0.7777777777777778,
              "#fb9f3a"
             ],
             [
              0.8888888888888888,
              "#fdca26"
             ],
             [
              1,
              "#f0f921"
             ]
            ],
            "type": "contour"
           }
          ],
          "contourcarpet": [
           {
            "colorbar": {
             "outlinewidth": 0,
             "ticks": ""
            },
            "type": "contourcarpet"
           }
          ],
          "heatmap": [
           {
            "colorbar": {
             "outlinewidth": 0,
             "ticks": ""
            },
            "colorscale": [
             [
              0,
              "#0d0887"
             ],
             [
              0.1111111111111111,
              "#46039f"
             ],
             [
              0.2222222222222222,
              "#7201a8"
             ],
             [
              0.3333333333333333,
              "#9c179e"
             ],
             [
              0.4444444444444444,
              "#bd3786"
             ],
             [
              0.5555555555555556,
              "#d8576b"
             ],
             [
              0.6666666666666666,
              "#ed7953"
             ],
             [
              0.7777777777777778,
              "#fb9f3a"
             ],
             [
              0.8888888888888888,
              "#fdca26"
             ],
             [
              1,
              "#f0f921"
             ]
            ],
            "type": "heatmap"
           }
          ],
          "heatmapgl": [
           {
            "colorbar": {
             "outlinewidth": 0,
             "ticks": ""
            },
            "colorscale": [
             [
              0,
              "#0d0887"
             ],
             [
              0.1111111111111111,
              "#46039f"
             ],
             [
              0.2222222222222222,
              "#7201a8"
             ],
             [
              0.3333333333333333,
              "#9c179e"
             ],
             [
              0.4444444444444444,
              "#bd3786"
             ],
             [
              0.5555555555555556,
              "#d8576b"
             ],
             [
              0.6666666666666666,
              "#ed7953"
             ],
             [
              0.7777777777777778,
              "#fb9f3a"
             ],
             [
              0.8888888888888888,
              "#fdca26"
             ],
             [
              1,
              "#f0f921"
             ]
            ],
            "type": "heatmapgl"
           }
          ],
          "histogram": [
           {
            "marker": {
             "colorbar": {
              "outlinewidth": 0,
              "ticks": ""
             }
            },
            "type": "histogram"
           }
          ],
          "histogram2d": [
           {
            "colorbar": {
             "outlinewidth": 0,
             "ticks": ""
            },
            "colorscale": [
             [
              0,
              "#0d0887"
             ],
             [
              0.1111111111111111,
              "#46039f"
             ],
             [
              0.2222222222222222,
              "#7201a8"
             ],
             [
              0.3333333333333333,
              "#9c179e"
             ],
             [
              0.4444444444444444,
              "#bd3786"
             ],
             [
              0.5555555555555556,
              "#d8576b"
             ],
             [
              0.6666666666666666,
              "#ed7953"
             ],
             [
              0.7777777777777778,
              "#fb9f3a"
             ],
             [
              0.8888888888888888,
              "#fdca26"
             ],
             [
              1,
              "#f0f921"
             ]
            ],
            "type": "histogram2d"
           }
          ],
          "histogram2dcontour": [
           {
            "colorbar": {
             "outlinewidth": 0,
             "ticks": ""
            },
            "colorscale": [
             [
              0,
              "#0d0887"
             ],
             [
              0.1111111111111111,
              "#46039f"
             ],
             [
              0.2222222222222222,
              "#7201a8"
             ],
             [
              0.3333333333333333,
              "#9c179e"
             ],
             [
              0.4444444444444444,
              "#bd3786"
             ],
             [
              0.5555555555555556,
              "#d8576b"
             ],
             [
              0.6666666666666666,
              "#ed7953"
             ],
             [
              0.7777777777777778,
              "#fb9f3a"
             ],
             [
              0.8888888888888888,
              "#fdca26"
             ],
             [
              1,
              "#f0f921"
             ]
            ],
            "type": "histogram2dcontour"
           }
          ],
          "mesh3d": [
           {
            "colorbar": {
             "outlinewidth": 0,
             "ticks": ""
            },
            "type": "mesh3d"
           }
          ],
          "parcoords": [
           {
            "line": {
             "colorbar": {
              "outlinewidth": 0,
              "ticks": ""
             }
            },
            "type": "parcoords"
           }
          ],
          "pie": [
           {
            "automargin": true,
            "type": "pie"
           }
          ],
          "scatter": [
           {
            "marker": {
             "colorbar": {
              "outlinewidth": 0,
              "ticks": ""
             }
            },
            "type": "scatter"
           }
          ],
          "scatter3d": [
           {
            "line": {
             "colorbar": {
              "outlinewidth": 0,
              "ticks": ""
             }
            },
            "marker": {
             "colorbar": {
              "outlinewidth": 0,
              "ticks": ""
             }
            },
            "type": "scatter3d"
           }
          ],
          "scattercarpet": [
           {
            "marker": {
             "colorbar": {
              "outlinewidth": 0,
              "ticks": ""
             }
            },
            "type": "scattercarpet"
           }
          ],
          "scattergeo": [
           {
            "marker": {
             "colorbar": {
              "outlinewidth": 0,
              "ticks": ""
             }
            },
            "type": "scattergeo"
           }
          ],
          "scattergl": [
           {
            "marker": {
             "colorbar": {
              "outlinewidth": 0,
              "ticks": ""
             }
            },
            "type": "scattergl"
           }
          ],
          "scattermapbox": [
           {
            "marker": {
             "colorbar": {
              "outlinewidth": 0,
              "ticks": ""
             }
            },
            "type": "scattermapbox"
           }
          ],
          "scatterpolar": [
           {
            "marker": {
             "colorbar": {
              "outlinewidth": 0,
              "ticks": ""
             }
            },
            "type": "scatterpolar"
           }
          ],
          "scatterpolargl": [
           {
            "marker": {
             "colorbar": {
              "outlinewidth": 0,
              "ticks": ""
             }
            },
            "type": "scatterpolargl"
           }
          ],
          "scatterternary": [
           {
            "marker": {
             "colorbar": {
              "outlinewidth": 0,
              "ticks": ""
             }
            },
            "type": "scatterternary"
           }
          ],
          "surface": [
           {
            "colorbar": {
             "outlinewidth": 0,
             "ticks": ""
            },
            "colorscale": [
             [
              0,
              "#0d0887"
             ],
             [
              0.1111111111111111,
              "#46039f"
             ],
             [
              0.2222222222222222,
              "#7201a8"
             ],
             [
              0.3333333333333333,
              "#9c179e"
             ],
             [
              0.4444444444444444,
              "#bd3786"
             ],
             [
              0.5555555555555556,
              "#d8576b"
             ],
             [
              0.6666666666666666,
              "#ed7953"
             ],
             [
              0.7777777777777778,
              "#fb9f3a"
             ],
             [
              0.8888888888888888,
              "#fdca26"
             ],
             [
              1,
              "#f0f921"
             ]
            ],
            "type": "surface"
           }
          ],
          "table": [
           {
            "cells": {
             "fill": {
              "color": "#EBF0F8"
             },
             "line": {
              "color": "white"
             }
            },
            "header": {
             "fill": {
              "color": "#C8D4E3"
             },
             "line": {
              "color": "white"
             }
            },
            "type": "table"
           }
          ]
         },
         "layout": {
          "annotationdefaults": {
           "arrowcolor": "#2a3f5f",
           "arrowhead": 0,
           "arrowwidth": 1
          },
          "autotypenumbers": "strict",
          "coloraxis": {
           "colorbar": {
            "outlinewidth": 0,
            "ticks": ""
           }
          },
          "colorscale": {
           "diverging": [
            [
             0,
             "#8e0152"
            ],
            [
             0.1,
             "#c51b7d"
            ],
            [
             0.2,
             "#de77ae"
            ],
            [
             0.3,
             "#f1b6da"
            ],
            [
             0.4,
             "#fde0ef"
            ],
            [
             0.5,
             "#f7f7f7"
            ],
            [
             0.6,
             "#e6f5d0"
            ],
            [
             0.7,
             "#b8e186"
            ],
            [
             0.8,
             "#7fbc41"
            ],
            [
             0.9,
             "#4d9221"
            ],
            [
             1,
             "#276419"
            ]
           ],
           "sequential": [
            [
             0,
             "#0d0887"
            ],
            [
             0.1111111111111111,
             "#46039f"
            ],
            [
             0.2222222222222222,
             "#7201a8"
            ],
            [
             0.3333333333333333,
             "#9c179e"
            ],
            [
             0.4444444444444444,
             "#bd3786"
            ],
            [
             0.5555555555555556,
             "#d8576b"
            ],
            [
             0.6666666666666666,
             "#ed7953"
            ],
            [
             0.7777777777777778,
             "#fb9f3a"
            ],
            [
             0.8888888888888888,
             "#fdca26"
            ],
            [
             1,
             "#f0f921"
            ]
           ],
           "sequentialminus": [
            [
             0,
             "#0d0887"
            ],
            [
             0.1111111111111111,
             "#46039f"
            ],
            [
             0.2222222222222222,
             "#7201a8"
            ],
            [
             0.3333333333333333,
             "#9c179e"
            ],
            [
             0.4444444444444444,
             "#bd3786"
            ],
            [
             0.5555555555555556,
             "#d8576b"
            ],
            [
             0.6666666666666666,
             "#ed7953"
            ],
            [
             0.7777777777777778,
             "#fb9f3a"
            ],
            [
             0.8888888888888888,
             "#fdca26"
            ],
            [
             1,
             "#f0f921"
            ]
           ]
          },
          "colorway": [
           "#636efa",
           "#EF553B",
           "#00cc96",
           "#ab63fa",
           "#FFA15A",
           "#19d3f3",
           "#FF6692",
           "#B6E880",
           "#FF97FF",
           "#FECB52"
          ],
          "font": {
           "color": "#2a3f5f"
          },
          "geo": {
           "bgcolor": "white",
           "lakecolor": "white",
           "landcolor": "#E5ECF6",
           "showlakes": true,
           "showland": true,
           "subunitcolor": "white"
          },
          "hoverlabel": {
           "align": "left"
          },
          "hovermode": "closest",
          "mapbox": {
           "style": "light"
          },
          "paper_bgcolor": "white",
          "plot_bgcolor": "#E5ECF6",
          "polar": {
           "angularaxis": {
            "gridcolor": "white",
            "linecolor": "white",
            "ticks": ""
           },
           "bgcolor": "#E5ECF6",
           "radialaxis": {
            "gridcolor": "white",
            "linecolor": "white",
            "ticks": ""
           }
          },
          "scene": {
           "xaxis": {
            "backgroundcolor": "#E5ECF6",
            "gridcolor": "white",
            "gridwidth": 2,
            "linecolor": "white",
            "showbackground": true,
            "ticks": "",
            "zerolinecolor": "white"
           },
           "yaxis": {
            "backgroundcolor": "#E5ECF6",
            "gridcolor": "white",
            "gridwidth": 2,
            "linecolor": "white",
            "showbackground": true,
            "ticks": "",
            "zerolinecolor": "white"
           },
           "zaxis": {
            "backgroundcolor": "#E5ECF6",
            "gridcolor": "white",
            "gridwidth": 2,
            "linecolor": "white",
            "showbackground": true,
            "ticks": "",
            "zerolinecolor": "white"
           }
          },
          "shapedefaults": {
           "line": {
            "color": "#2a3f5f"
           }
          },
          "ternary": {
           "aaxis": {
            "gridcolor": "white",
            "linecolor": "white",
            "ticks": ""
           },
           "baxis": {
            "gridcolor": "white",
            "linecolor": "white",
            "ticks": ""
           },
           "bgcolor": "#E5ECF6",
           "caxis": {
            "gridcolor": "white",
            "linecolor": "white",
            "ticks": ""
           }
          },
          "title": {
           "x": 0.05
          },
          "xaxis": {
           "automargin": true,
           "gridcolor": "white",
           "linecolor": "white",
           "ticks": "",
           "title": {
            "standoff": 15
           },
           "zerolinecolor": "white",
           "zerolinewidth": 2
          },
          "yaxis": {
           "automargin": true,
           "gridcolor": "white",
           "linecolor": "white",
           "ticks": "",
           "title": {
            "standoff": 15
           },
           "zerolinecolor": "white",
           "zerolinewidth": 2
          }
         }
        },
        "title": {
         "font": {
          "color": "#4D5663"
         },
         "text": "Return Comparison"
        },
        "xaxis": {
         "gridcolor": "#E1E5ED",
         "showgrid": true,
         "tickfont": {
          "color": "#4D5663"
         },
         "title": {
          "font": {
           "color": "#4D5663"
          },
          "text": "Date"
         },
         "zerolinecolor": "#E1E5ED"
        },
        "yaxis": {
         "gridcolor": "#E1E5ED",
         "showgrid": true,
         "tickfont": {
          "color": "#4D5663"
         },
         "title": {
          "font": {
           "color": "#4D5663"
          },
          "text": "Returns"
         },
         "zerolinecolor": "#E1E5ED"
        }
       }
      },
      "text/html": [
       "<div>                            <div id=\"c01bacae-d089-4681-a994-6d020171e3d1\" class=\"plotly-graph-div\" style=\"height:525px; width:100%;\"></div>            <script type=\"text/javascript\">                require([\"plotly\"], function(Plotly) {                    window.PLOTLYENV=window.PLOTLYENV || {};                                    if (document.getElementById(\"c01bacae-d089-4681-a994-6d020171e3d1\")) {                    Plotly.newPlot(                        \"c01bacae-d089-4681-a994-6d020171e3d1\",                        [{\"line\": {\"color\": \"orange\", \"dash\": \"solid\", \"shape\": \"linear\", \"width\": 1.3}, \"marker\": {\"size\": 2.5, \"symbol\": \"circle\"}, \"mode\": \"lines+markers\", \"name\": \"S&P 500 Returns\", \"text\": \"\", \"type\": \"scatter\", \"x\": [\"1985-02-28\", \"1985-03-31\", \"1985-04-30\", \"1985-05-31\", \"1985-06-30\", \"1985-07-31\", \"1985-08-31\", \"1985-09-30\", \"1985-10-31\", \"1985-11-30\", \"1985-12-31\", \"1986-01-31\", \"1986-02-28\", \"1986-03-31\", \"1986-04-30\", \"1986-05-31\", \"1986-06-30\", \"1986-07-31\", \"1986-08-31\", \"1986-09-30\", \"1986-10-31\", \"1986-11-30\", \"1986-12-31\", \"1987-01-31\", \"1987-02-28\", \"1987-03-31\", \"1987-04-30\", \"1987-05-31\", \"1987-06-30\", \"1987-07-31\", \"1987-08-31\", \"1987-09-30\", \"1987-10-31\", \"1987-11-30\", \"1987-12-31\", \"1988-01-31\", \"1988-02-29\", \"1988-03-31\", \"1988-04-30\", \"1988-05-31\", \"1988-06-30\", \"1988-07-31\", \"1988-08-31\", \"1988-09-30\", \"1988-10-31\", \"1988-11-30\", \"1988-12-31\", \"1989-01-31\", \"1989-02-28\", \"1989-03-31\", \"1989-04-30\", \"1989-05-31\", \"1989-06-30\", \"1989-07-31\", \"1989-08-31\", \"1989-09-30\", \"1989-10-31\", \"1989-11-30\", \"1989-12-31\", \"1990-01-31\", \"1990-02-28\", \"1990-03-31\", \"1990-04-30\", \"1990-05-31\", \"1990-06-30\", \"1990-07-31\", \"1990-08-31\", \"1990-09-30\", \"1990-10-31\", \"1990-11-30\", \"1990-12-31\", \"1991-01-31\", \"1991-02-28\", \"1991-03-31\", \"1991-04-30\", \"1991-05-31\", \"1991-06-30\", \"1991-07-31\", \"1991-08-31\", \"1991-09-30\", \"1991-10-31\", \"1991-11-30\", \"1991-12-31\", \"1992-01-31\", \"1992-02-29\", \"1992-03-31\", \"1992-04-30\", \"1992-05-31\", \"1992-06-30\", \"1992-07-31\", \"1992-08-31\", \"1992-09-30\", \"1992-10-31\", \"1992-11-30\", \"1992-12-31\", \"1993-01-31\", \"1993-02-28\", \"1993-03-31\", \"1993-04-30\", \"1993-05-31\", \"1993-06-30\", \"1993-07-31\", \"1993-08-31\", \"1993-09-30\", \"1993-10-31\", \"1993-11-30\", \"1993-12-31\", \"1994-01-31\", \"1994-02-28\", \"1994-03-31\", \"1994-04-30\", \"1994-05-31\", \"1994-06-30\", \"1994-07-31\", \"1994-08-31\", \"1994-09-30\", \"1994-10-31\", \"1994-11-30\", \"1994-12-31\", \"1995-01-31\", \"1995-02-28\", \"1995-03-31\", \"1995-04-30\", \"1995-05-31\", \"1995-06-30\", \"1995-07-31\", \"1995-08-31\", \"1995-09-30\", \"1995-10-31\", \"1995-11-30\", \"1995-12-31\", \"1996-01-31\", \"1996-02-29\", \"1996-03-31\", \"1996-04-30\", \"1996-05-31\", \"1996-06-30\", \"1996-07-31\", \"1996-08-31\", \"1996-09-30\", \"1996-10-31\", \"1996-11-30\", \"1996-12-31\", \"1997-01-31\", \"1997-02-28\", \"1997-03-31\", \"1997-04-30\", \"1997-05-31\", \"1997-06-30\", \"1997-07-31\", \"1997-08-31\", \"1997-09-30\", \"1997-10-31\", \"1997-11-30\", \"1997-12-31\", \"1998-01-31\", \"1998-02-28\", \"1998-03-31\", \"1998-04-30\", \"1998-05-31\", \"1998-06-30\", \"1998-07-31\", \"1998-08-31\", \"1998-09-30\", \"1998-10-31\", \"1998-11-30\", \"1998-12-31\", \"1999-01-31\", \"1999-02-28\", \"1999-03-31\", \"1999-04-30\", \"1999-05-31\", \"1999-06-30\", \"1999-07-31\", \"1999-08-31\", \"1999-09-30\", \"1999-10-31\", \"1999-11-30\", \"1999-12-31\", \"2000-01-31\", \"2000-02-29\", \"2000-03-31\", \"2000-04-30\", \"2000-05-31\", \"2000-06-30\", \"2000-07-31\", \"2000-08-31\", \"2000-09-30\", \"2000-10-31\", \"2000-11-30\", \"2000-12-31\", \"2001-01-31\", \"2001-02-28\", \"2001-03-31\", \"2001-04-30\", \"2001-05-31\", \"2001-06-30\", \"2001-07-31\", \"2001-08-31\", \"2001-09-30\", \"2001-10-31\", \"2001-11-30\", \"2001-12-31\", \"2002-01-31\", \"2002-02-28\", \"2002-03-31\", \"2002-04-30\", \"2002-05-31\", \"2002-06-30\", \"2002-07-31\", \"2002-08-31\", \"2002-09-30\", \"2002-10-31\", \"2002-11-30\", \"2002-12-31\", \"2003-01-31\", \"2003-02-28\", \"2003-03-31\", \"2003-04-30\", \"2003-05-31\", \"2003-06-30\", \"2003-07-31\", \"2003-08-31\", \"2003-09-30\", \"2003-10-31\", \"2003-11-30\", \"2003-12-31\", \"2004-01-31\", \"2004-02-29\", \"2004-03-31\", \"2004-04-30\", \"2004-05-31\", \"2004-06-30\", \"2004-07-31\", \"2004-08-31\", \"2004-09-30\", \"2004-10-31\", \"2004-11-30\", \"2004-12-31\", \"2005-01-31\", \"2005-02-28\", \"2005-03-31\", \"2005-04-30\", \"2005-05-31\", \"2005-06-30\", \"2005-07-31\", \"2005-08-31\", \"2005-09-30\", \"2005-10-31\", \"2005-11-30\", \"2005-12-31\", \"2006-01-31\", \"2006-02-28\", \"2006-03-31\", \"2006-04-30\", \"2006-05-31\", \"2006-06-30\", \"2006-07-31\", \"2006-08-31\", \"2006-09-30\", \"2006-10-31\", \"2006-11-30\", \"2006-12-31\", \"2007-01-31\", \"2007-02-28\", \"2007-03-31\", \"2007-04-30\", \"2007-05-31\", \"2007-06-30\", \"2007-07-31\", \"2007-08-31\", \"2007-09-30\", \"2007-10-31\", \"2007-11-30\", \"2007-12-31\", \"2008-01-31\", \"2008-02-29\", \"2008-03-31\", \"2008-04-30\", \"2008-05-31\", \"2008-06-30\", \"2008-07-31\", \"2008-08-31\", \"2008-09-30\", \"2008-10-31\", \"2008-11-30\", \"2008-12-31\", \"2009-01-31\", \"2009-02-28\", \"2009-03-31\", \"2009-04-30\", \"2009-05-31\", \"2009-06-30\", \"2009-07-31\", \"2009-08-31\", \"2009-09-30\", \"2009-10-31\", \"2009-11-30\", \"2009-12-31\", \"2010-01-31\", \"2010-02-28\", \"2010-03-31\", \"2010-04-30\", \"2010-05-31\", \"2010-06-30\", \"2010-07-31\", \"2010-08-31\", \"2010-09-30\", \"2010-10-31\", \"2010-11-30\", \"2010-12-31\", \"2011-01-31\", \"2011-02-28\", \"2011-03-31\", \"2011-04-30\", \"2011-05-31\", \"2011-06-30\", \"2011-07-31\", \"2011-08-31\", \"2011-09-30\", \"2011-10-31\", \"2011-11-30\", \"2011-12-31\", \"2012-01-31\", \"2012-02-29\", \"2012-03-31\", \"2012-04-30\", \"2012-05-31\", \"2012-06-30\", \"2012-07-31\", \"2012-08-31\", \"2012-09-30\", \"2012-10-31\", \"2012-11-30\", \"2012-12-31\", \"2013-01-31\", \"2013-02-28\", \"2013-03-31\", \"2013-04-30\", \"2013-05-31\", \"2013-06-30\", \"2013-07-31\", \"2013-08-31\", \"2013-09-30\", \"2013-10-31\", \"2013-11-30\", \"2013-12-31\", \"2014-01-31\", \"2014-02-28\", \"2014-03-31\", \"2014-04-30\", \"2014-05-31\", \"2014-06-30\", \"2014-07-31\", \"2014-08-31\", \"2014-09-30\", \"2014-10-31\", \"2014-11-30\", \"2014-12-31\", \"2015-01-31\", \"2015-02-28\", \"2015-03-31\", \"2015-04-30\", \"2015-05-31\", \"2015-06-30\", \"2015-07-31\", \"2015-08-31\", \"2015-09-30\", \"2015-10-31\", \"2015-11-30\", \"2015-12-31\", \"2016-01-31\", \"2016-02-29\", \"2016-03-31\", \"2016-04-30\", \"2016-05-31\", \"2016-06-30\", \"2016-07-31\", \"2016-08-31\", \"2016-09-30\", \"2016-10-31\", \"2016-11-30\", \"2016-12-31\", \"2017-01-31\", \"2017-02-28\", \"2017-03-31\", \"2017-04-30\", \"2017-05-31\", \"2017-06-30\", \"2017-07-31\", \"2017-08-31\", \"2017-09-30\", \"2017-10-31\", \"2017-11-30\", \"2017-12-31\", \"2018-01-31\", \"2018-02-28\", \"2018-03-31\", \"2018-04-30\", \"2018-05-31\", \"2018-06-30\", \"2018-07-31\", \"2018-08-31\", \"2018-09-30\", \"2018-10-31\", \"2018-11-30\", \"2018-12-31\", \"2019-01-31\", \"2019-02-28\", \"2019-03-31\", \"2019-04-30\", \"2019-05-31\", \"2019-06-30\", \"2019-07-31\", \"2019-08-31\", \"2019-09-30\", \"2019-10-31\", \"2019-11-30\", \"2019-12-31\", \"2020-01-31\", \"2020-02-29\", \"2020-03-31\", \"2020-04-30\", \"2020-05-31\", \"2020-06-30\", \"2020-07-31\", \"2020-08-31\", \"2020-09-30\", \"2020-10-31\", \"2020-11-30\", \"2020-12-31\", \"2021-01-31\"], \"y\": [0.8628781143773745, -0.2870013357379797, -0.45942764398477776, 5.405105317187275, 1.2134017217609872, -0.48475786860283643, -1.1994516153305157, -3.472407796416055, 4.262336089886154, 6.5061587528020715, 4.506109259594515, 0.23665278415681001, 7.148927694536433, 5.279391902691621, -1.4148137651271764, 5.022928753007316, 1.9509035671286146, -5.804445332943264, 7.1192606962404925, -8.543860593077246, 5.47293300055971, 2.151903913793074, -2.828827129328182, 13.176689624451354, 3.6923618943399905, 2.649821816350495, -1.1077235310912315, 1.0836670644854385, 4.784229022201658, 4.825821402869224, 3.5088799119465053, -2.419578256690691, -21.763041614888422, -8.513086775721401, 7.276829841360688, 4.034804029911676, 4.189853920553377, -3.3343259527283786, 0.942474355374423, 0.3060985024161189, 4.325601093597786, -0.5411374771480792, -3.8635481522756643, 3.972933403572454, 2.6039889695838925, -1.8890880672147836, 1.4761795174409897, 7.1114791620643825, -2.8944148892512955, 2.080596244578503, 5.008993878810886, 3.5137493453486712, -0.7893666097979368, 8.837025922362152, 1.5516716371120287, -0.6544367396408068, -2.517545224417217, 1.6541324621341724, 2.1357717367771922, -6.8817225277032605, 0.8539042515520734, 2.425498398919901, -2.688713874867843, 9.198919015680262, -0.8968667747088932, -0.5223158084617485, -9.431418381548529, -5.118430711299804, -0.6860522570522276, 5.996911608832911, 2.4795921320934777, 4.15808010327996, 6.734320819582784, 2.220283282365809, 0.031979905037093914, 3.857727659127841, -4.784380620222062, 4.480307482521018, 1.9648784299779676, -1.9143737536368444, 1.1834237037883666, -4.392801914934563, 11.191387240731544, -1.9782749489923424, 0.9564820357436998, -2.1784412020187327, 2.7943613933988365, 0.0963957075388544, -1.7358832059340301, 3.922091751432877, -2.3951538112866433, 0.9105593819543456, 0.21062829709799225, 3.031099670079773, 1.0107766174460409, 0.7069054200530944, 1.0483627354217484, 1.8697297817929392, -2.5416810214496266, 2.2717462810525113, 0.0666299430670314, -0.5349145363025887, 3.4431956860375923, -0.9966551870561169, 1.9392922963742842, -1.2910626013377002, 0.9785073644265507, 3.23679549770004, -3.0024897881749335, -4.584861171750843, 1.1780280825918643, 1.2397143444171643, -2.679082365826957, 3.148990781819383, 3.7553441209639216, -2.6877535318882373, 2.0877918170360665, -3.932157626473609, 1.2611621985094024, 2.4411537683638906, 3.6074149761991636, 2.7329193438646815, 2.7980846143858207, 3.6211076303305, 2.1278544224437423, 3.1776040385498083, -0.03202380540165972, 4.00974724131713, -0.49793349436904055, 4.104900257953581, 1.7443874138492799, 3.261738708671724, 0.6933701552350291, 0.7916567080580306, 1.3431422153369565, 2.2853405672085048, 0.225671032293695, -4.574801719466748, 1.8813935110919333, 5.42033275694922, 2.613089006745395, 7.337615173263701, -2.1505415404998174, 6.131703919481923, 0.5927590007180461, -4.261401039642642, 5.840557942205704, 5.857688424192475, 4.345261557489777, 7.8145809507889075, -5.744585845372862, 5.3153589937912304, -3.4477697196337753, 4.458685489376402, 1.5731597888257953, 1.0150176798997546, 7.044919304379715, 4.9945714161429455, 0.9076469253460395, -1.8826223521475116, 3.9438241075214098, -1.161532702578949, -14.57967185567066, 6.239551561771917, 8.029422837244237, 5.912599633962534, 5.637528657573587, 4.1009441536725255, -3.2282562686194116, 3.8794215360158812, 3.794402791554541, -2.497048087268683, 5.443833101679418, -3.2046092218893762, -0.6254092044500448, -2.8551792268491583, 6.253954162596531, 1.906185862124965, 5.784389487677943, -5.090354874936187, -2.0108083261058285, 9.671982826973235, -3.079575555193137, -2.1915050512993584, 2.393354960890126, -1.6341276221772727, 6.069910518423605, -5.348297474561125, -0.4956419611889529, -8.00686099610699, 0.4053445529197841, 3.46365770863295, -9.229073584900005, -6.42047105408955, 7.68143617590098, 0.5090187119649592, -2.5035389109833495, -1.0772499245365053, -6.410840656371475, -8.172340601971618, 1.809911144527776, 7.517590426305354, 0.7573834192915685, -1.5573832559794276, -2.0766211305560334, 3.6738893618839086, -6.141762615913993, -0.908148107604545, -7.245535441757367, -7.900427496612538, 0.4881433080019315, -11.002431826151904, 8.644880101680986, 5.706962092361811, -6.033257267429071, -2.7414692559952325, -1.7003608502929257, 0.8357568566151441, 8.104410687272612, 5.089870966417798, 1.1322214525161467, 1.6223702411493068, 1.7873203376464142, -1.1944364520745099, 5.496148638401066, 0.7128503847885437, 5.076554100123931, 1.7276387006114557, 1.2208973273589496, -1.6358919214261247, -1.6790751862298725, 1.2083450201310297, 1.7988998669195677, -3.4290519411904974, 0.2287349840552233, 0.9363875691551504, 1.4014243586486952, 3.859493619815235, 3.2493324181442462, -2.5290467099494562, 1.8903346078316563, -1.9117655748441043, -2.01085818816793, 2.9952046262565757, -0.01427142257658387, 3.5968287193812287, -1.1222104874496597, 0.6949024694760331, -1.7740780066319406, 3.5186095929726546, -0.09523489924184725, 2.5466771348641615, 0.045315763072539816, 1.1095810459249567, 0.5932994573817352, -3.0916916141150885, 0.01180284195241299, 0.5196584959294537, 1.9780463834533801, 2.458193418889798, 3.1531191854205165, 1.6599403984733252, 1.2615782852659851, 1.4252138943948944, -2.16149088818709, 0.9994267493802278, 4.331274037411981, 3.254922870993493, -1.7816322202167556, -3.28246998550904, 1.29261914690868, 3.5815110584269005, 1.4463504269603966, -4.182328930119339, -0.7616782548283019, -6.091399944583742, -3.4796149597495662, -0.5825096986305178, 4.461661965986008, 1.0397075190310856, -8.546605180501155, -0.7292245126258146, 1.0563809877891073, -9.432143617569333, -16.786211344912427, -7.47726204704745, 1.6475186242702389, -8.539406400285799, -10.691418570668699, 9.361677062472772, 9.982480664414917, 5.316592058535097, -0.4267490151555364, 7.239196856416696, 3.070027356578109, 3.6840802792671212, -1.7745677258388715, 5.73741511144743, 1.4751213295900234, -3.823355820038332, 2.8494514868917964, 5.796307978346071, 1.3199765429501742, -8.343563384136354, -5.204643194125335, 6.837358320334208, -5.254943114504029, 8.714703209166629, 3.477950865140489, -0.4351748884396933, 5.986856601790458, 2.2661853432125234, 2.953903808501357, -0.21149889874421124, 2.567169533459235, -1.465709346666566, -1.825746126569705, -2.1474425791952023, -5.701726992982092, -7.193709508472135, 10.79287596549019, -0.3229447641886485, 0.8573146184177594, 4.253852663368263, 4.055781552617832, 3.1166224651885566, -0.749745270927038, -6.26171647656113, 3.9920021986609378, 1.2471273882786127, 1.9763369680148246, 2.4265221077009125, -1.9945859894024198, 0.2818370725180541, 0.6954527328504545, 5.042809651957847, 1.1060649195259176, 3.5987723516956116, 1.8092182555871306, 2.0775525011423435, -1.5584835913127093, 4.71803287603092, -3.34138766735268, 2.78737732606833, 4.406179439131908, 2.678689333744111, 2.31435248766807, -3.4276716280839725, 4.306431590331816, 0.7891516070506421, 0.5330951678748308, 2.079183751140823, 1.8899398137346646, -1.6113823324565013, 3.812309261683522, -1.5857683542149226, 2.364267205439563, 2.445241028121159, -0.3330522564559013, -3.1040805790470305, 5.4004894962004, -1.7736820848428203, 0.8647643926512405, 0.9586185132359315, -2.1592015853984403, 1.7822974358974397, -6.287030901962143, -2.540997510973564, 8.319750006681437, -0.016825486760474462, -1.871882025458349, -4.806199752479545, -0.24316505123893606, 6.331663792222653, 0.42204838551618273, 1.440618339260058, 0.2349716868025542, 3.5373025278027326, -0.1012332834460894, -0.14093011610738504, -1.764064381311059, 3.2945360148206593, 1.7571441011636546, 1.2124894262895536, 3.4148645205360317, -0.7314689893332837, 0.9253478409413596, 0.9755096922754891, 0.32123901702705293, 1.600325645509293, -0.22002324429279962, 1.816190720113342, 2.1442194213337817, 2.491865468615684, 1.0778423478777555, 5.219604060167038, -3.643589440088013, -2.738262637800837, 0.5544095491336609, 2.3575861881927285, -0.012132048624136083, 4.116160742968211, 2.8481126703292503, 0.587513090589109, -7.331810795942772, 1.5671973880285517, -10.164841497939436, 9.170117425244872, 3.040717603108156, 1.292962360892247, 3.4121735357783622, -6.783456243336761, 6.913607301939417, 0.30187591970312067, -1.807192038811578, 2.32828280986217, 1.8054864635815626, 2.958646151007227, 2.765078750265526, -0.59019568894072, -8.698069285842802, -13.10199232084479, 16.586732252864156, 6.10716170024983, 2.024167903335927, 5.31888133463605, 6.448700782636729, -4.118101619120484, -3.4233491538269933, 9.872882010730887, 3.022596731741989, -1.3379902717240433]}, {\"line\": {\"color\": \"green\", \"dash\": \"solid\", \"shape\": \"linear\", \"width\": 1.3}, \"marker\": {\"size\": 2.5, \"symbol\": \"diamond\"}, \"mode\": \"lines+markers\", \"name\": \"RF Return\", \"text\": \"\", \"type\": \"scatter\", \"x\": [\"1985-02-28\", \"1985-03-31\", \"1985-04-30\", \"1985-05-31\", \"1985-06-30\", \"1985-07-31\", \"1985-08-31\", \"1985-09-30\", \"1985-10-31\", \"1985-11-30\", \"1985-12-31\", \"1986-01-31\", \"1986-02-28\", \"1986-03-31\", \"1986-04-30\", \"1986-05-31\", \"1986-06-30\", \"1986-07-31\", \"1986-08-31\", \"1986-09-30\", \"1986-10-31\", \"1986-11-30\", \"1986-12-31\", \"1987-01-31\", \"1987-02-28\", \"1987-03-31\", \"1987-04-30\", \"1987-05-31\", \"1987-06-30\", \"1987-07-31\", \"1987-08-31\", \"1987-09-30\", \"1987-10-31\", \"1987-11-30\", \"1987-12-31\", \"1988-01-31\", \"1988-02-29\", \"1988-03-31\", \"1988-04-30\", \"1988-05-31\", \"1988-06-30\", \"1988-07-31\", \"1988-08-31\", \"1988-09-30\", \"1988-10-31\", \"1988-11-30\", \"1988-12-31\", \"1989-01-31\", \"1989-02-28\", \"1989-03-31\", \"1989-04-30\", \"1989-05-31\", \"1989-06-30\", \"1989-07-31\", \"1989-08-31\", \"1989-09-30\", \"1989-10-31\", \"1989-11-30\", \"1989-12-31\", \"1990-01-31\", \"1990-02-28\", \"1990-03-31\", \"1990-04-30\", \"1990-05-31\", \"1990-06-30\", \"1990-07-31\", \"1990-08-31\", \"1990-09-30\", \"1990-10-31\", \"1990-11-30\", \"1990-12-31\", \"1991-01-31\", \"1991-02-28\", \"1991-03-31\", \"1991-04-30\", \"1991-05-31\", \"1991-06-30\", \"1991-07-31\", \"1991-08-31\", \"1991-09-30\", \"1991-10-31\", \"1991-11-30\", \"1991-12-31\", \"1992-01-31\", \"1992-02-29\", \"1992-03-31\", \"1992-04-30\", \"1992-05-31\", \"1992-06-30\", \"1992-07-31\", \"1992-08-31\", \"1992-09-30\", \"1992-10-31\", \"1992-11-30\", \"1992-12-31\", \"1993-01-31\", \"1993-02-28\", \"1993-03-31\", \"1993-04-30\", \"1993-05-31\", \"1993-06-30\", \"1993-07-31\", \"1993-08-31\", \"1993-09-30\", \"1993-10-31\", \"1993-11-30\", \"1993-12-31\", \"1994-01-31\", \"1994-02-28\", \"1994-03-31\", \"1994-04-30\", \"1994-05-31\", \"1994-06-30\", \"1994-07-31\", \"1994-08-31\", \"1994-09-30\", \"1994-10-31\", \"1994-11-30\", \"1994-12-31\", \"1995-01-31\", \"1995-02-28\", \"1995-03-31\", \"1995-04-30\", \"1995-05-31\", \"1995-06-30\", \"1995-07-31\", \"1995-08-31\", \"1995-09-30\", \"1995-10-31\", \"1995-11-30\", \"1995-12-31\", \"1996-01-31\", \"1996-02-29\", \"1996-03-31\", \"1996-04-30\", \"1996-05-31\", \"1996-06-30\", \"1996-07-31\", \"1996-08-31\", \"1996-09-30\", \"1996-10-31\", \"1996-11-30\", \"1996-12-31\", \"1997-01-31\", \"1997-02-28\", \"1997-03-31\", \"1997-04-30\", \"1997-05-31\", \"1997-06-30\", \"1997-07-31\", \"1997-08-31\", \"1997-09-30\", \"1997-10-31\", \"1997-11-30\", \"1997-12-31\", \"1998-01-31\", \"1998-02-28\", \"1998-03-31\", \"1998-04-30\", \"1998-05-31\", \"1998-06-30\", \"1998-07-31\", \"1998-08-31\", \"1998-09-30\", \"1998-10-31\", \"1998-11-30\", \"1998-12-31\", \"1999-01-31\", \"1999-02-28\", \"1999-03-31\", \"1999-04-30\", \"1999-05-31\", \"1999-06-30\", \"1999-07-31\", \"1999-08-31\", \"1999-09-30\", \"1999-10-31\", \"1999-11-30\", \"1999-12-31\", \"2000-01-31\", \"2000-02-29\", \"2000-03-31\", \"2000-04-30\", \"2000-05-31\", \"2000-06-30\", \"2000-07-31\", \"2000-08-31\", \"2000-09-30\", \"2000-10-31\", \"2000-11-30\", \"2000-12-31\", \"2001-01-31\", \"2001-02-28\", \"2001-03-31\", \"2001-04-30\", \"2001-05-31\", \"2001-06-30\", \"2001-07-31\", \"2001-08-31\", \"2001-09-30\", \"2001-10-31\", \"2001-11-30\", \"2001-12-31\", \"2002-01-31\", \"2002-02-28\", \"2002-03-31\", \"2002-04-30\", \"2002-05-31\", \"2002-06-30\", \"2002-07-31\", \"2002-08-31\", \"2002-09-30\", \"2002-10-31\", \"2002-11-30\", \"2002-12-31\", \"2003-01-31\", \"2003-02-28\", \"2003-03-31\", \"2003-04-30\", \"2003-05-31\", \"2003-06-30\", \"2003-07-31\", \"2003-08-31\", \"2003-09-30\", \"2003-10-31\", \"2003-11-30\", \"2003-12-31\", \"2004-01-31\", \"2004-02-29\", \"2004-03-31\", \"2004-04-30\", \"2004-05-31\", \"2004-06-30\", \"2004-07-31\", \"2004-08-31\", \"2004-09-30\", \"2004-10-31\", \"2004-11-30\", \"2004-12-31\", \"2005-01-31\", \"2005-02-28\", \"2005-03-31\", \"2005-04-30\", \"2005-05-31\", \"2005-06-30\", \"2005-07-31\", \"2005-08-31\", \"2005-09-30\", \"2005-10-31\", \"2005-11-30\", \"2005-12-31\", \"2006-01-31\", \"2006-02-28\", \"2006-03-31\", \"2006-04-30\", \"2006-05-31\", \"2006-06-30\", \"2006-07-31\", \"2006-08-31\", \"2006-09-30\", \"2006-10-31\", \"2006-11-30\", \"2006-12-31\", \"2007-01-31\", \"2007-02-28\", \"2007-03-31\", \"2007-04-30\", \"2007-05-31\", \"2007-06-30\", \"2007-07-31\", \"2007-08-31\", \"2007-09-30\", \"2007-10-31\", \"2007-11-30\", \"2007-12-31\", \"2008-01-31\", \"2008-02-29\", \"2008-03-31\", \"2008-04-30\", \"2008-05-31\", \"2008-06-30\", \"2008-07-31\", \"2008-08-31\", \"2008-09-30\", \"2008-10-31\", \"2008-11-30\", \"2008-12-31\", \"2009-01-31\", \"2009-02-28\", \"2009-03-31\", \"2009-04-30\", \"2009-05-31\", \"2009-06-30\", \"2009-07-31\", \"2009-08-31\", \"2009-09-30\", \"2009-10-31\", \"2009-11-30\", \"2009-12-31\", \"2010-01-31\", \"2010-02-28\", \"2010-03-31\", \"2010-04-30\", \"2010-05-31\", \"2010-06-30\", \"2010-07-31\", \"2010-08-31\", \"2010-09-30\", \"2010-10-31\", \"2010-11-30\", \"2010-12-31\", \"2011-01-31\", \"2011-02-28\", \"2011-03-31\", \"2011-04-30\", \"2011-05-31\", \"2011-06-30\", \"2011-07-31\", \"2011-08-31\", \"2011-09-30\", \"2011-10-31\", \"2011-11-30\", \"2011-12-31\", \"2012-01-31\", \"2012-02-29\", \"2012-03-31\", \"2012-04-30\", \"2012-05-31\", \"2012-06-30\", \"2012-07-31\", \"2012-08-31\", \"2012-09-30\", \"2012-10-31\", \"2012-11-30\", \"2012-12-31\", \"2013-01-31\", \"2013-02-28\", \"2013-03-31\", \"2013-04-30\", \"2013-05-31\", \"2013-06-30\", \"2013-07-31\", \"2013-08-31\", \"2013-09-30\", \"2013-10-31\", \"2013-11-30\", \"2013-12-31\", \"2014-01-31\", \"2014-02-28\", \"2014-03-31\", \"2014-04-30\", \"2014-05-31\", \"2014-06-30\", \"2014-07-31\", \"2014-08-31\", \"2014-09-30\", \"2014-10-31\", \"2014-11-30\", \"2014-12-31\", \"2015-01-31\", \"2015-02-28\", \"2015-03-31\", \"2015-04-30\", \"2015-05-31\", \"2015-06-30\", \"2015-07-31\", \"2015-08-31\", \"2015-09-30\", \"2015-10-31\", \"2015-11-30\", \"2015-12-31\", \"2016-01-31\", \"2016-02-29\", \"2016-03-31\", \"2016-04-30\", \"2016-05-31\", \"2016-06-30\", \"2016-07-31\", \"2016-08-31\", \"2016-09-30\", \"2016-10-31\", \"2016-11-30\", \"2016-12-31\", \"2017-01-31\", \"2017-02-28\", \"2017-03-31\", \"2017-04-30\", \"2017-05-31\", \"2017-06-30\", \"2017-07-31\", \"2017-08-31\", \"2017-09-30\", \"2017-10-31\", \"2017-11-30\", \"2017-12-31\", \"2018-01-31\", \"2018-02-28\", \"2018-03-31\", \"2018-04-30\", \"2018-05-31\", \"2018-06-30\", \"2018-07-31\", \"2018-08-31\", \"2018-09-30\", \"2018-10-31\", \"2018-11-30\", \"2018-12-31\", \"2019-01-31\", \"2019-02-28\", \"2019-03-31\", \"2019-04-30\", \"2019-05-31\", \"2019-06-30\", \"2019-07-31\", \"2019-08-31\", \"2019-09-30\", \"2019-10-31\", \"2019-11-30\", \"2019-12-31\", \"2020-01-31\", \"2020-02-29\", \"2020-03-31\", \"2020-04-30\", \"2020-05-31\", \"2020-06-30\", \"2020-07-31\", \"2020-08-31\", \"2020-09-30\", \"2020-10-31\", \"2020-11-30\", \"2020-12-31\", \"2021-01-31\"], \"y\": [0.58, 0.62, 0.72, 0.66, 0.55, 0.62, 0.55, 0.6, 0.65, 0.61, 0.65, 0.56, 0.53, 0.6, 0.52, 0.49, 0.52, 0.52, 0.46, 0.45, 0.46, 0.39, 0.49, 0.42, 0.43, 0.47, 0.44, 0.38, 0.48, 0.46, 0.47, 0.45, 0.6, 0.35, 0.39, 0.29, 0.46, 0.44, 0.46, 0.51, 0.49, 0.51, 0.59, 0.62, 0.61, 0.57, 0.63, 0.55, 0.61, 0.67, 0.67, 0.79, 0.71, 0.7, 0.74, 0.65, 0.68, 0.69, 0.61, 0.57, 0.57, 0.64, 0.69, 0.68, 0.63, 0.68, 0.66, 0.6, 0.68, 0.57, 0.6, 0.52, 0.48, 0.44, 0.53, 0.47, 0.42, 0.49, 0.46, 0.46, 0.42, 0.39, 0.38, 0.34, 0.28, 0.34, 0.32, 0.28, 0.32, 0.31, 0.26, 0.26, 0.23, 0.23, 0.28, 0.23, 0.22, 0.25, 0.24, 0.22, 0.25, 0.24, 0.25, 0.26, 0.22, 0.25, 0.23, 0.25, 0.21, 0.27, 0.27, 0.31, 0.31, 0.28, 0.37, 0.37, 0.38, 0.37, 0.44, 0.42, 0.4, 0.46, 0.44, 0.54, 0.47, 0.45, 0.47, 0.43, 0.47, 0.42, 0.49, 0.43, 0.39, 0.39, 0.46, 0.42, 0.4, 0.45, 0.41, 0.44, 0.42, 0.41, 0.46, 0.45, 0.39, 0.43, 0.43, 0.49, 0.37, 0.43, 0.41, 0.44, 0.42, 0.39, 0.48, 0.43, 0.39, 0.39, 0.43, 0.4, 0.41, 0.4, 0.43, 0.46, 0.32, 0.31, 0.38, 0.35, 0.35, 0.43, 0.37, 0.34, 0.4, 0.38, 0.39, 0.39, 0.39, 0.36, 0.44, 0.41, 0.43, 0.47, 0.46, 0.5, 0.4, 0.48, 0.5, 0.51, 0.56, 0.51, 0.5, 0.54, 0.38, 0.42, 0.39, 0.32, 0.28, 0.3, 0.31, 0.28, 0.22, 0.17, 0.15, 0.14, 0.13, 0.13, 0.15, 0.14, 0.13, 0.15, 0.14, 0.14, 0.14, 0.12, 0.11, 0.1, 0.09, 0.1, 0.1, 0.09, 0.1, 0.07, 0.07, 0.08, 0.07, 0.07, 0.08, 0.07, 0.06, 0.09, 0.08, 0.06, 0.08, 0.1, 0.11, 0.11, 0.11, 0.15, 0.16, 0.16, 0.16, 0.21, 0.21, 0.24, 0.23, 0.24, 0.3, 0.29, 0.27, 0.31, 0.32, 0.35, 0.34, 0.37, 0.36, 0.43, 0.4, 0.4, 0.42, 0.41, 0.41, 0.42, 0.4, 0.44, 0.38, 0.43, 0.44, 0.41, 0.4, 0.4, 0.42, 0.32, 0.32, 0.34, 0.27, 0.21, 0.13, 0.17, 0.18, 0.18, 0.17, 0.15, 0.13, 0.15, 0.08, 0.03, 0.0, 0.0, 0.01, 0.02, 0.01, 0.0, 0.01, 0.01, 0.01, 0.01, 0.0, 0.0, 0.01, 0.0, 0.0, 0.01, 0.01, 0.01, 0.01, 0.01, 0.01, 0.01, 0.01, 0.01, 0.01, 0.01, 0.01, 0.01, 0.0, 0.0, 0.0, 0.0, 0.01, 0.0, 0.0, 0.0, 0.0, 0.0, 0.0, 0.0, 0.0, 0.01, 0.0, 0.0, 0.01, 0.01, 0.01, 0.01, 0.01, 0.0, 0.0, 0.0, 0.0, 0.0, 0.0, 0.0, 0.0, 0.0, 0.0, 0.0, 0.0, 0.0, 0.0, 0.0, 0.0, 0.0, 0.0, 0.0, 0.0, 0.0, 0.0, 0.0, 0.0, 0.0, 0.0, 0.0, 0.0, 0.0, 0.0, 0.0, 0.0, 0.0, 0.0, 0.0, 0.01, 0.01, 0.02, 0.02, 0.01, 0.01, 0.02, 0.02, 0.02, 0.02, 0.02, 0.01, 0.03, 0.04, 0.04, 0.03, 0.05, 0.06, 0.06, 0.07, 0.09, 0.09, 0.09, 0.08, 0.09, 0.11, 0.11, 0.12, 0.14, 0.14, 0.14, 0.16, 0.16, 0.15, 0.19, 0.18, 0.19, 0.21, 0.18, 0.19, 0.21, 0.21, 0.18, 0.19, 0.16, 0.18, 0.15, 0.12, 0.14, 0.13, 0.12, 0.12, 0.0, 0.01, 0.01, 0.01, 0.01, 0.01, 0.01, 0.01, 0.01, 0.0]}],                        {\"legend\": {\"bgcolor\": \"#F5F6F9\", \"font\": {\"color\": \"#4D5663\"}}, \"paper_bgcolor\": \"#F5F6F9\", \"plot_bgcolor\": \"#F5F6F9\", \"template\": {\"data\": {\"bar\": [{\"error_x\": {\"color\": \"#2a3f5f\"}, \"error_y\": {\"color\": \"#2a3f5f\"}, \"marker\": {\"line\": {\"color\": \"#E5ECF6\", \"width\": 0.5}}, \"type\": \"bar\"}], \"barpolar\": [{\"marker\": {\"line\": {\"color\": \"#E5ECF6\", \"width\": 0.5}}, \"type\": \"barpolar\"}], \"carpet\": [{\"aaxis\": {\"endlinecolor\": \"#2a3f5f\", \"gridcolor\": \"white\", \"linecolor\": \"white\", \"minorgridcolor\": \"white\", \"startlinecolor\": \"#2a3f5f\"}, \"baxis\": {\"endlinecolor\": \"#2a3f5f\", \"gridcolor\": \"white\", \"linecolor\": \"white\", \"minorgridcolor\": \"white\", \"startlinecolor\": \"#2a3f5f\"}, \"type\": \"carpet\"}], \"choropleth\": [{\"colorbar\": {\"outlinewidth\": 0, \"ticks\": \"\"}, \"type\": \"choropleth\"}], \"contour\": [{\"colorbar\": {\"outlinewidth\": 0, \"ticks\": \"\"}, \"colorscale\": [[0.0, \"#0d0887\"], [0.1111111111111111, \"#46039f\"], [0.2222222222222222, \"#7201a8\"], [0.3333333333333333, \"#9c179e\"], [0.4444444444444444, \"#bd3786\"], [0.5555555555555556, \"#d8576b\"], [0.6666666666666666, \"#ed7953\"], [0.7777777777777778, \"#fb9f3a\"], [0.8888888888888888, \"#fdca26\"], [1.0, \"#f0f921\"]], \"type\": \"contour\"}], \"contourcarpet\": [{\"colorbar\": {\"outlinewidth\": 0, \"ticks\": \"\"}, \"type\": \"contourcarpet\"}], \"heatmap\": [{\"colorbar\": {\"outlinewidth\": 0, \"ticks\": \"\"}, \"colorscale\": [[0.0, \"#0d0887\"], [0.1111111111111111, \"#46039f\"], [0.2222222222222222, \"#7201a8\"], [0.3333333333333333, \"#9c179e\"], [0.4444444444444444, \"#bd3786\"], [0.5555555555555556, \"#d8576b\"], [0.6666666666666666, \"#ed7953\"], [0.7777777777777778, \"#fb9f3a\"], [0.8888888888888888, \"#fdca26\"], [1.0, \"#f0f921\"]], \"type\": \"heatmap\"}], \"heatmapgl\": [{\"colorbar\": {\"outlinewidth\": 0, \"ticks\": \"\"}, \"colorscale\": [[0.0, \"#0d0887\"], [0.1111111111111111, \"#46039f\"], [0.2222222222222222, \"#7201a8\"], [0.3333333333333333, \"#9c179e\"], [0.4444444444444444, \"#bd3786\"], [0.5555555555555556, \"#d8576b\"], [0.6666666666666666, \"#ed7953\"], [0.7777777777777778, \"#fb9f3a\"], [0.8888888888888888, \"#fdca26\"], [1.0, \"#f0f921\"]], \"type\": \"heatmapgl\"}], \"histogram\": [{\"marker\": {\"colorbar\": {\"outlinewidth\": 0, \"ticks\": \"\"}}, \"type\": \"histogram\"}], \"histogram2d\": [{\"colorbar\": {\"outlinewidth\": 0, \"ticks\": \"\"}, \"colorscale\": [[0.0, \"#0d0887\"], [0.1111111111111111, \"#46039f\"], [0.2222222222222222, \"#7201a8\"], [0.3333333333333333, \"#9c179e\"], [0.4444444444444444, \"#bd3786\"], [0.5555555555555556, \"#d8576b\"], [0.6666666666666666, \"#ed7953\"], [0.7777777777777778, \"#fb9f3a\"], [0.8888888888888888, \"#fdca26\"], [1.0, \"#f0f921\"]], \"type\": \"histogram2d\"}], \"histogram2dcontour\": [{\"colorbar\": {\"outlinewidth\": 0, \"ticks\": \"\"}, \"colorscale\": [[0.0, \"#0d0887\"], [0.1111111111111111, \"#46039f\"], [0.2222222222222222, \"#7201a8\"], [0.3333333333333333, \"#9c179e\"], [0.4444444444444444, \"#bd3786\"], [0.5555555555555556, \"#d8576b\"], [0.6666666666666666, \"#ed7953\"], [0.7777777777777778, \"#fb9f3a\"], [0.8888888888888888, \"#fdca26\"], [1.0, \"#f0f921\"]], \"type\": \"histogram2dcontour\"}], \"mesh3d\": [{\"colorbar\": {\"outlinewidth\": 0, \"ticks\": \"\"}, \"type\": \"mesh3d\"}], \"parcoords\": [{\"line\": {\"colorbar\": {\"outlinewidth\": 0, \"ticks\": \"\"}}, \"type\": \"parcoords\"}], \"pie\": [{\"automargin\": true, \"type\": \"pie\"}], \"scatter\": [{\"marker\": {\"colorbar\": {\"outlinewidth\": 0, \"ticks\": \"\"}}, \"type\": \"scatter\"}], \"scatter3d\": [{\"line\": {\"colorbar\": {\"outlinewidth\": 0, \"ticks\": \"\"}}, \"marker\": {\"colorbar\": {\"outlinewidth\": 0, \"ticks\": \"\"}}, \"type\": \"scatter3d\"}], \"scattercarpet\": [{\"marker\": {\"colorbar\": {\"outlinewidth\": 0, \"ticks\": \"\"}}, \"type\": \"scattercarpet\"}], \"scattergeo\": [{\"marker\": {\"colorbar\": {\"outlinewidth\": 0, \"ticks\": \"\"}}, \"type\": \"scattergeo\"}], \"scattergl\": [{\"marker\": {\"colorbar\": {\"outlinewidth\": 0, \"ticks\": \"\"}}, \"type\": \"scattergl\"}], \"scattermapbox\": [{\"marker\": {\"colorbar\": {\"outlinewidth\": 0, \"ticks\": \"\"}}, \"type\": \"scattermapbox\"}], \"scatterpolar\": [{\"marker\": {\"colorbar\": {\"outlinewidth\": 0, \"ticks\": \"\"}}, \"type\": \"scatterpolar\"}], \"scatterpolargl\": [{\"marker\": {\"colorbar\": {\"outlinewidth\": 0, \"ticks\": \"\"}}, \"type\": \"scatterpolargl\"}], \"scatterternary\": [{\"marker\": {\"colorbar\": {\"outlinewidth\": 0, \"ticks\": \"\"}}, \"type\": \"scatterternary\"}], \"surface\": [{\"colorbar\": {\"outlinewidth\": 0, \"ticks\": \"\"}, \"colorscale\": [[0.0, \"#0d0887\"], [0.1111111111111111, \"#46039f\"], [0.2222222222222222, \"#7201a8\"], [0.3333333333333333, \"#9c179e\"], [0.4444444444444444, \"#bd3786\"], [0.5555555555555556, \"#d8576b\"], [0.6666666666666666, \"#ed7953\"], [0.7777777777777778, \"#fb9f3a\"], [0.8888888888888888, \"#fdca26\"], [1.0, \"#f0f921\"]], \"type\": \"surface\"}], \"table\": [{\"cells\": {\"fill\": {\"color\": \"#EBF0F8\"}, \"line\": {\"color\": \"white\"}}, \"header\": {\"fill\": {\"color\": \"#C8D4E3\"}, \"line\": {\"color\": \"white\"}}, \"type\": \"table\"}]}, \"layout\": {\"annotationdefaults\": {\"arrowcolor\": \"#2a3f5f\", \"arrowhead\": 0, \"arrowwidth\": 1}, \"autotypenumbers\": \"strict\", \"coloraxis\": {\"colorbar\": {\"outlinewidth\": 0, \"ticks\": \"\"}}, \"colorscale\": {\"diverging\": [[0, \"#8e0152\"], [0.1, \"#c51b7d\"], [0.2, \"#de77ae\"], [0.3, \"#f1b6da\"], [0.4, \"#fde0ef\"], [0.5, \"#f7f7f7\"], [0.6, \"#e6f5d0\"], [0.7, \"#b8e186\"], [0.8, \"#7fbc41\"], [0.9, \"#4d9221\"], [1, \"#276419\"]], \"sequential\": [[0.0, \"#0d0887\"], [0.1111111111111111, \"#46039f\"], [0.2222222222222222, \"#7201a8\"], [0.3333333333333333, \"#9c179e\"], [0.4444444444444444, \"#bd3786\"], [0.5555555555555556, \"#d8576b\"], [0.6666666666666666, \"#ed7953\"], [0.7777777777777778, \"#fb9f3a\"], [0.8888888888888888, \"#fdca26\"], [1.0, \"#f0f921\"]], \"sequentialminus\": [[0.0, \"#0d0887\"], [0.1111111111111111, \"#46039f\"], [0.2222222222222222, \"#7201a8\"], [0.3333333333333333, \"#9c179e\"], [0.4444444444444444, \"#bd3786\"], [0.5555555555555556, \"#d8576b\"], [0.6666666666666666, \"#ed7953\"], [0.7777777777777778, \"#fb9f3a\"], [0.8888888888888888, \"#fdca26\"], [1.0, \"#f0f921\"]]}, \"colorway\": [\"#636efa\", \"#EF553B\", \"#00cc96\", \"#ab63fa\", \"#FFA15A\", \"#19d3f3\", \"#FF6692\", \"#B6E880\", \"#FF97FF\", \"#FECB52\"], \"font\": {\"color\": \"#2a3f5f\"}, \"geo\": {\"bgcolor\": \"white\", \"lakecolor\": \"white\", \"landcolor\": \"#E5ECF6\", \"showlakes\": true, \"showland\": true, \"subunitcolor\": \"white\"}, \"hoverlabel\": {\"align\": \"left\"}, \"hovermode\": \"closest\", \"mapbox\": {\"style\": \"light\"}, \"paper_bgcolor\": \"white\", \"plot_bgcolor\": \"#E5ECF6\", \"polar\": {\"angularaxis\": {\"gridcolor\": \"white\", \"linecolor\": \"white\", \"ticks\": \"\"}, \"bgcolor\": \"#E5ECF6\", \"radialaxis\": {\"gridcolor\": \"white\", \"linecolor\": \"white\", \"ticks\": \"\"}}, \"scene\": {\"xaxis\": {\"backgroundcolor\": \"#E5ECF6\", \"gridcolor\": \"white\", \"gridwidth\": 2, \"linecolor\": \"white\", \"showbackground\": true, \"ticks\": \"\", \"zerolinecolor\": \"white\"}, \"yaxis\": {\"backgroundcolor\": \"#E5ECF6\", \"gridcolor\": \"white\", \"gridwidth\": 2, \"linecolor\": \"white\", \"showbackground\": true, \"ticks\": \"\", \"zerolinecolor\": \"white\"}, \"zaxis\": {\"backgroundcolor\": \"#E5ECF6\", \"gridcolor\": \"white\", \"gridwidth\": 2, \"linecolor\": \"white\", \"showbackground\": true, \"ticks\": \"\", \"zerolinecolor\": \"white\"}}, \"shapedefaults\": {\"line\": {\"color\": \"#2a3f5f\"}}, \"ternary\": {\"aaxis\": {\"gridcolor\": \"white\", \"linecolor\": \"white\", \"ticks\": \"\"}, \"baxis\": {\"gridcolor\": \"white\", \"linecolor\": \"white\", \"ticks\": \"\"}, \"bgcolor\": \"#E5ECF6\", \"caxis\": {\"gridcolor\": \"white\", \"linecolor\": \"white\", \"ticks\": \"\"}}, \"title\": {\"x\": 0.05}, \"xaxis\": {\"automargin\": true, \"gridcolor\": \"white\", \"linecolor\": \"white\", \"ticks\": \"\", \"title\": {\"standoff\": 15}, \"zerolinecolor\": \"white\", \"zerolinewidth\": 2}, \"yaxis\": {\"automargin\": true, \"gridcolor\": \"white\", \"linecolor\": \"white\", \"ticks\": \"\", \"title\": {\"standoff\": 15}, \"zerolinecolor\": \"white\", \"zerolinewidth\": 2}}}, \"title\": {\"font\": {\"color\": \"#4D5663\"}, \"text\": \"Return Comparison\"}, \"xaxis\": {\"gridcolor\": \"#E1E5ED\", \"showgrid\": true, \"tickfont\": {\"color\": \"#4D5663\"}, \"title\": {\"font\": {\"color\": \"#4D5663\"}, \"text\": \"Date\"}, \"zerolinecolor\": \"#E1E5ED\"}, \"yaxis\": {\"gridcolor\": \"#E1E5ED\", \"showgrid\": true, \"tickfont\": {\"color\": \"#4D5663\"}, \"title\": {\"font\": {\"color\": \"#4D5663\"}, \"text\": \"Returns\"}, \"zerolinecolor\": \"#E1E5ED\"}},                        {\"responsive\": true}                    ).then(function(){\n",
       "                            \n",
       "var gd = document.getElementById('c01bacae-d089-4681-a994-6d020171e3d1');\n",
       "var x = new MutationObserver(function (mutations, observer) {{\n",
       "        var display = window.getComputedStyle(gd).display;\n",
       "        if (!display || display === 'none') {{\n",
       "            console.log([gd, 'removed!']);\n",
       "            Plotly.purge(gd);\n",
       "            observer.disconnect();\n",
       "        }}\n",
       "}});\n",
       "\n",
       "// Listen for the removal of the full notebook cells\n",
       "var notebookContainer = gd.closest('#notebook-container');\n",
       "if (notebookContainer) {{\n",
       "    x.observe(notebookContainer, {childList: true});\n",
       "}}\n",
       "\n",
       "// Listen for the clearing of the current output cell\n",
       "var outputEl = gd.closest('.output');\n",
       "if (outputEl) {{\n",
       "    x.observe(outputEl, {childList: true});\n",
       "}}\n",
       "\n",
       "                        })                };                });            </script>        </div>"
      ]
     },
     "metadata": {},
     "output_type": "display_data"
    },
    {
     "data": {
      "application/vnd.plotly.v1+json": {
       "config": {
        "linkText": "Export to plot.ly",
        "plotlyServerURL": "https://plot.ly",
        "showLink": false
       },
       "data": [
        {
         "line": {
          "color": "blue",
          "dash": "solid",
          "shape": "linear",
          "width": 1.3
         },
         "marker": {
          "size": 2.5,
          "symbol": "circle"
         },
         "mode": "lines+markers",
         "name": "S&P 500 Returns",
         "text": "",
         "type": "scatter",
         "x": [
          "1985-02-28",
          "1985-03-31",
          "1985-04-30",
          "1985-05-31",
          "1985-06-30",
          "1985-07-31",
          "1985-08-31",
          "1985-09-30",
          "1985-10-31",
          "1985-11-30",
          "1985-12-31",
          "1986-01-31",
          "1986-02-28",
          "1986-03-31",
          "1986-04-30",
          "1986-05-31",
          "1986-06-30",
          "1986-07-31",
          "1986-08-31",
          "1986-09-30",
          "1986-10-31",
          "1986-11-30",
          "1986-12-31",
          "1987-01-31",
          "1987-02-28",
          "1987-03-31",
          "1987-04-30",
          "1987-05-31",
          "1987-06-30",
          "1987-07-31",
          "1987-08-31",
          "1987-09-30",
          "1987-10-31",
          "1987-11-30",
          "1987-12-31",
          "1988-01-31",
          "1988-02-29",
          "1988-03-31",
          "1988-04-30",
          "1988-05-31",
          "1988-06-30",
          "1988-07-31",
          "1988-08-31",
          "1988-09-30",
          "1988-10-31",
          "1988-11-30",
          "1988-12-31",
          "1989-01-31",
          "1989-02-28",
          "1989-03-31",
          "1989-04-30",
          "1989-05-31",
          "1989-06-30",
          "1989-07-31",
          "1989-08-31",
          "1989-09-30",
          "1989-10-31",
          "1989-11-30",
          "1989-12-31",
          "1990-01-31",
          "1990-02-28",
          "1990-03-31",
          "1990-04-30",
          "1990-05-31",
          "1990-06-30",
          "1990-07-31",
          "1990-08-31",
          "1990-09-30",
          "1990-10-31",
          "1990-11-30",
          "1990-12-31",
          "1991-01-31",
          "1991-02-28",
          "1991-03-31",
          "1991-04-30",
          "1991-05-31",
          "1991-06-30",
          "1991-07-31",
          "1991-08-31",
          "1991-09-30",
          "1991-10-31",
          "1991-11-30",
          "1991-12-31",
          "1992-01-31",
          "1992-02-29",
          "1992-03-31",
          "1992-04-30",
          "1992-05-31",
          "1992-06-30",
          "1992-07-31",
          "1992-08-31",
          "1992-09-30",
          "1992-10-31",
          "1992-11-30",
          "1992-12-31",
          "1993-01-31",
          "1993-02-28",
          "1993-03-31",
          "1993-04-30",
          "1993-05-31",
          "1993-06-30",
          "1993-07-31",
          "1993-08-31",
          "1993-09-30",
          "1993-10-31",
          "1993-11-30",
          "1993-12-31",
          "1994-01-31",
          "1994-02-28",
          "1994-03-31",
          "1994-04-30",
          "1994-05-31",
          "1994-06-30",
          "1994-07-31",
          "1994-08-31",
          "1994-09-30",
          "1994-10-31",
          "1994-11-30",
          "1994-12-31",
          "1995-01-31",
          "1995-02-28",
          "1995-03-31",
          "1995-04-30",
          "1995-05-31",
          "1995-06-30",
          "1995-07-31",
          "1995-08-31",
          "1995-09-30",
          "1995-10-31",
          "1995-11-30",
          "1995-12-31",
          "1996-01-31",
          "1996-02-29",
          "1996-03-31",
          "1996-04-30",
          "1996-05-31",
          "1996-06-30",
          "1996-07-31",
          "1996-08-31",
          "1996-09-30",
          "1996-10-31",
          "1996-11-30",
          "1996-12-31",
          "1997-01-31",
          "1997-02-28",
          "1997-03-31",
          "1997-04-30",
          "1997-05-31",
          "1997-06-30",
          "1997-07-31",
          "1997-08-31",
          "1997-09-30",
          "1997-10-31",
          "1997-11-30",
          "1997-12-31",
          "1998-01-31",
          "1998-02-28",
          "1998-03-31",
          "1998-04-30",
          "1998-05-31",
          "1998-06-30",
          "1998-07-31",
          "1998-08-31",
          "1998-09-30",
          "1998-10-31",
          "1998-11-30",
          "1998-12-31",
          "1999-01-31",
          "1999-02-28",
          "1999-03-31",
          "1999-04-30",
          "1999-05-31",
          "1999-06-30",
          "1999-07-31",
          "1999-08-31",
          "1999-09-30",
          "1999-10-31",
          "1999-11-30",
          "1999-12-31",
          "2000-01-31",
          "2000-02-29",
          "2000-03-31",
          "2000-04-30",
          "2000-05-31",
          "2000-06-30",
          "2000-07-31",
          "2000-08-31",
          "2000-09-30",
          "2000-10-31",
          "2000-11-30",
          "2000-12-31",
          "2001-01-31",
          "2001-02-28",
          "2001-03-31",
          "2001-04-30",
          "2001-05-31",
          "2001-06-30",
          "2001-07-31",
          "2001-08-31",
          "2001-09-30",
          "2001-10-31",
          "2001-11-30",
          "2001-12-31",
          "2002-01-31",
          "2002-02-28",
          "2002-03-31",
          "2002-04-30",
          "2002-05-31",
          "2002-06-30",
          "2002-07-31",
          "2002-08-31",
          "2002-09-30",
          "2002-10-31",
          "2002-11-30",
          "2002-12-31",
          "2003-01-31",
          "2003-02-28",
          "2003-03-31",
          "2003-04-30",
          "2003-05-31",
          "2003-06-30",
          "2003-07-31",
          "2003-08-31",
          "2003-09-30",
          "2003-10-31",
          "2003-11-30",
          "2003-12-31",
          "2004-01-31",
          "2004-02-29",
          "2004-03-31",
          "2004-04-30",
          "2004-05-31",
          "2004-06-30",
          "2004-07-31",
          "2004-08-31",
          "2004-09-30",
          "2004-10-31",
          "2004-11-30",
          "2004-12-31",
          "2005-01-31",
          "2005-02-28",
          "2005-03-31",
          "2005-04-30",
          "2005-05-31",
          "2005-06-30",
          "2005-07-31",
          "2005-08-31",
          "2005-09-30",
          "2005-10-31",
          "2005-11-30",
          "2005-12-31",
          "2006-01-31",
          "2006-02-28",
          "2006-03-31",
          "2006-04-30",
          "2006-05-31",
          "2006-06-30",
          "2006-07-31",
          "2006-08-31",
          "2006-09-30",
          "2006-10-31",
          "2006-11-30",
          "2006-12-31",
          "2007-01-31",
          "2007-02-28",
          "2007-03-31",
          "2007-04-30",
          "2007-05-31",
          "2007-06-30",
          "2007-07-31",
          "2007-08-31",
          "2007-09-30",
          "2007-10-31",
          "2007-11-30",
          "2007-12-31",
          "2008-01-31",
          "2008-02-29",
          "2008-03-31",
          "2008-04-30",
          "2008-05-31",
          "2008-06-30",
          "2008-07-31",
          "2008-08-31",
          "2008-09-30",
          "2008-10-31",
          "2008-11-30",
          "2008-12-31",
          "2009-01-31",
          "2009-02-28",
          "2009-03-31",
          "2009-04-30",
          "2009-05-31",
          "2009-06-30",
          "2009-07-31",
          "2009-08-31",
          "2009-09-30",
          "2009-10-31",
          "2009-11-30",
          "2009-12-31",
          "2010-01-31",
          "2010-02-28",
          "2010-03-31",
          "2010-04-30",
          "2010-05-31",
          "2010-06-30",
          "2010-07-31",
          "2010-08-31",
          "2010-09-30",
          "2010-10-31",
          "2010-11-30",
          "2010-12-31",
          "2011-01-31",
          "2011-02-28",
          "2011-03-31",
          "2011-04-30",
          "2011-05-31",
          "2011-06-30",
          "2011-07-31",
          "2011-08-31",
          "2011-09-30",
          "2011-10-31",
          "2011-11-30",
          "2011-12-31",
          "2012-01-31",
          "2012-02-29",
          "2012-03-31",
          "2012-04-30",
          "2012-05-31",
          "2012-06-30",
          "2012-07-31",
          "2012-08-31",
          "2012-09-30",
          "2012-10-31",
          "2012-11-30",
          "2012-12-31",
          "2013-01-31",
          "2013-02-28",
          "2013-03-31",
          "2013-04-30",
          "2013-05-31",
          "2013-06-30",
          "2013-07-31",
          "2013-08-31",
          "2013-09-30",
          "2013-10-31",
          "2013-11-30",
          "2013-12-31",
          "2014-01-31",
          "2014-02-28",
          "2014-03-31",
          "2014-04-30",
          "2014-05-31",
          "2014-06-30",
          "2014-07-31",
          "2014-08-31",
          "2014-09-30",
          "2014-10-31",
          "2014-11-30",
          "2014-12-31",
          "2015-01-31",
          "2015-02-28",
          "2015-03-31",
          "2015-04-30",
          "2015-05-31",
          "2015-06-30",
          "2015-07-31",
          "2015-08-31",
          "2015-09-30",
          "2015-10-31",
          "2015-11-30",
          "2015-12-31",
          "2016-01-31",
          "2016-02-29",
          "2016-03-31",
          "2016-04-30",
          "2016-05-31",
          "2016-06-30",
          "2016-07-31",
          "2016-08-31",
          "2016-09-30",
          "2016-10-31",
          "2016-11-30",
          "2016-12-31",
          "2017-01-31",
          "2017-02-28",
          "2017-03-31",
          "2017-04-30",
          "2017-05-31",
          "2017-06-30",
          "2017-07-31",
          "2017-08-31",
          "2017-09-30",
          "2017-10-31",
          "2017-11-30",
          "2017-12-31",
          "2018-01-31",
          "2018-02-28",
          "2018-03-31",
          "2018-04-30",
          "2018-05-31",
          "2018-06-30",
          "2018-07-31",
          "2018-08-31",
          "2018-09-30",
          "2018-10-31",
          "2018-11-30",
          "2018-12-31",
          "2019-01-31",
          "2019-02-28",
          "2019-03-31",
          "2019-04-30",
          "2019-05-31",
          "2019-06-30",
          "2019-07-31",
          "2019-08-31",
          "2019-09-30",
          "2019-10-31",
          "2019-11-30",
          "2019-12-31",
          "2020-01-31",
          "2020-02-29",
          "2020-03-31",
          "2020-04-30",
          "2020-05-31",
          "2020-06-30",
          "2020-07-31",
          "2020-08-31",
          "2020-09-30",
          "2020-10-31",
          "2020-11-30",
          "2020-12-31",
          "2021-01-31"
         ],
         "y": [
          0.8628781143773745,
          -0.2870013357379797,
          -0.45942764398477776,
          5.405105317187275,
          1.2134017217609872,
          -0.48475786860283643,
          -1.1994516153305157,
          -3.472407796416055,
          4.262336089886154,
          6.5061587528020715,
          4.506109259594515,
          0.23665278415681001,
          7.148927694536433,
          5.279391902691621,
          -1.4148137651271764,
          5.022928753007316,
          1.9509035671286146,
          -5.804445332943264,
          7.1192606962404925,
          -8.543860593077246,
          5.47293300055971,
          2.151903913793074,
          -2.828827129328182,
          13.176689624451354,
          3.6923618943399905,
          2.649821816350495,
          -1.1077235310912315,
          1.0836670644854385,
          4.784229022201658,
          4.825821402869224,
          3.5088799119465053,
          -2.419578256690691,
          -21.763041614888422,
          -8.513086775721401,
          7.276829841360688,
          4.034804029911676,
          4.189853920553377,
          -3.3343259527283786,
          0.942474355374423,
          0.3060985024161189,
          4.325601093597786,
          -0.5411374771480792,
          -3.8635481522756643,
          3.972933403572454,
          2.6039889695838925,
          -1.8890880672147836,
          1.4761795174409897,
          7.1114791620643825,
          -2.8944148892512955,
          2.080596244578503,
          5.008993878810886,
          3.5137493453486712,
          -0.7893666097979368,
          8.837025922362152,
          1.5516716371120287,
          -0.6544367396408068,
          -2.517545224417217,
          1.6541324621341724,
          2.1357717367771922,
          -6.8817225277032605,
          0.8539042515520734,
          2.425498398919901,
          -2.688713874867843,
          9.198919015680262,
          -0.8968667747088932,
          -0.5223158084617485,
          -9.431418381548529,
          -5.118430711299804,
          -0.6860522570522276,
          5.996911608832911,
          2.4795921320934777,
          4.15808010327996,
          6.734320819582784,
          2.220283282365809,
          0.031979905037093914,
          3.857727659127841,
          -4.784380620222062,
          4.480307482521018,
          1.9648784299779676,
          -1.9143737536368444,
          1.1834237037883666,
          -4.392801914934563,
          11.191387240731544,
          -1.9782749489923424,
          0.9564820357436998,
          -2.1784412020187327,
          2.7943613933988365,
          0.0963957075388544,
          -1.7358832059340301,
          3.922091751432877,
          -2.3951538112866433,
          0.9105593819543456,
          0.21062829709799225,
          3.031099670079773,
          1.0107766174460409,
          0.7069054200530944,
          1.0483627354217484,
          1.8697297817929392,
          -2.5416810214496266,
          2.2717462810525113,
          0.0666299430670314,
          -0.5349145363025887,
          3.4431956860375923,
          -0.9966551870561169,
          1.9392922963742842,
          -1.2910626013377002,
          0.9785073644265507,
          3.23679549770004,
          -3.0024897881749335,
          -4.584861171750843,
          1.1780280825918643,
          1.2397143444171643,
          -2.679082365826957,
          3.148990781819383,
          3.7553441209639216,
          -2.6877535318882373,
          2.0877918170360665,
          -3.932157626473609,
          1.2611621985094024,
          2.4411537683638906,
          3.6074149761991636,
          2.7329193438646815,
          2.7980846143858207,
          3.6211076303305,
          2.1278544224437423,
          3.1776040385498083,
          -0.03202380540165972,
          4.00974724131713,
          -0.49793349436904055,
          4.104900257953581,
          1.7443874138492799,
          3.261738708671724,
          0.6933701552350291,
          0.7916567080580306,
          1.3431422153369565,
          2.2853405672085048,
          0.225671032293695,
          -4.574801719466748,
          1.8813935110919333,
          5.42033275694922,
          2.613089006745395,
          7.337615173263701,
          -2.1505415404998174,
          6.131703919481923,
          0.5927590007180461,
          -4.261401039642642,
          5.840557942205704,
          5.857688424192475,
          4.345261557489777,
          7.8145809507889075,
          -5.744585845372862,
          5.3153589937912304,
          -3.4477697196337753,
          4.458685489376402,
          1.5731597888257953,
          1.0150176798997546,
          7.044919304379715,
          4.9945714161429455,
          0.9076469253460395,
          -1.8826223521475116,
          3.9438241075214098,
          -1.161532702578949,
          -14.57967185567066,
          6.239551561771917,
          8.029422837244237,
          5.912599633962534,
          5.637528657573587,
          4.1009441536725255,
          -3.2282562686194116,
          3.8794215360158812,
          3.794402791554541,
          -2.497048087268683,
          5.443833101679418,
          -3.2046092218893762,
          -0.6254092044500448,
          -2.8551792268491583,
          6.253954162596531,
          1.906185862124965,
          5.784389487677943,
          -5.090354874936187,
          -2.0108083261058285,
          9.671982826973235,
          -3.079575555193137,
          -2.1915050512993584,
          2.393354960890126,
          -1.6341276221772727,
          6.069910518423605,
          -5.348297474561125,
          -0.4956419611889529,
          -8.00686099610699,
          0.4053445529197841,
          3.46365770863295,
          -9.229073584900005,
          -6.42047105408955,
          7.68143617590098,
          0.5090187119649592,
          -2.5035389109833495,
          -1.0772499245365053,
          -6.410840656371475,
          -8.172340601971618,
          1.809911144527776,
          7.517590426305354,
          0.7573834192915685,
          -1.5573832559794276,
          -2.0766211305560334,
          3.6738893618839086,
          -6.141762615913993,
          -0.908148107604545,
          -7.245535441757367,
          -7.900427496612538,
          0.4881433080019315,
          -11.002431826151904,
          8.644880101680986,
          5.706962092361811,
          -6.033257267429071,
          -2.7414692559952325,
          -1.7003608502929257,
          0.8357568566151441,
          8.104410687272612,
          5.089870966417798,
          1.1322214525161467,
          1.6223702411493068,
          1.7873203376464142,
          -1.1944364520745099,
          5.496148638401066,
          0.7128503847885437,
          5.076554100123931,
          1.7276387006114557,
          1.2208973273589496,
          -1.6358919214261247,
          -1.6790751862298725,
          1.2083450201310297,
          1.7988998669195677,
          -3.4290519411904974,
          0.2287349840552233,
          0.9363875691551504,
          1.4014243586486952,
          3.859493619815235,
          3.2493324181442462,
          -2.5290467099494562,
          1.8903346078316563,
          -1.9117655748441043,
          -2.01085818816793,
          2.9952046262565757,
          -0.01427142257658387,
          3.5968287193812287,
          -1.1222104874496597,
          0.6949024694760331,
          -1.7740780066319406,
          3.5186095929726546,
          -0.09523489924184725,
          2.5466771348641615,
          0.045315763072539816,
          1.1095810459249567,
          0.5932994573817352,
          -3.0916916141150885,
          0.01180284195241299,
          0.5196584959294537,
          1.9780463834533801,
          2.458193418889798,
          3.1531191854205165,
          1.6599403984733252,
          1.2615782852659851,
          1.4252138943948944,
          -2.16149088818709,
          0.9994267493802278,
          4.331274037411981,
          3.254922870993493,
          -1.7816322202167556,
          -3.28246998550904,
          1.29261914690868,
          3.5815110584269005,
          1.4463504269603966,
          -4.182328930119339,
          -0.7616782548283019,
          -6.091399944583742,
          -3.4796149597495662,
          -0.5825096986305178,
          4.461661965986008,
          1.0397075190310856,
          -8.546605180501155,
          -0.7292245126258146,
          1.0563809877891073,
          -9.432143617569333,
          -16.786211344912427,
          -7.47726204704745,
          1.6475186242702389,
          -8.539406400285799,
          -10.691418570668699,
          9.361677062472772,
          9.982480664414917,
          5.316592058535097,
          -0.4267490151555364,
          7.239196856416696,
          3.070027356578109,
          3.6840802792671212,
          -1.7745677258388715,
          5.73741511144743,
          1.4751213295900234,
          -3.823355820038332,
          2.8494514868917964,
          5.796307978346071,
          1.3199765429501742,
          -8.343563384136354,
          -5.204643194125335,
          6.837358320334208,
          -5.254943114504029,
          8.714703209166629,
          3.477950865140489,
          -0.4351748884396933,
          5.986856601790458,
          2.2661853432125234,
          2.953903808501357,
          -0.21149889874421124,
          2.567169533459235,
          -1.465709346666566,
          -1.825746126569705,
          -2.1474425791952023,
          -5.701726992982092,
          -7.193709508472135,
          10.79287596549019,
          -0.3229447641886485,
          0.8573146184177594,
          4.253852663368263,
          4.055781552617832,
          3.1166224651885566,
          -0.749745270927038,
          -6.26171647656113,
          3.9920021986609378,
          1.2471273882786127,
          1.9763369680148246,
          2.4265221077009125,
          -1.9945859894024198,
          0.2818370725180541,
          0.6954527328504545,
          5.042809651957847,
          1.1060649195259176,
          3.5987723516956116,
          1.8092182555871306,
          2.0775525011423435,
          -1.5584835913127093,
          4.71803287603092,
          -3.34138766735268,
          2.78737732606833,
          4.406179439131908,
          2.678689333744111,
          2.31435248766807,
          -3.4276716280839725,
          4.306431590331816,
          0.7891516070506421,
          0.5330951678748308,
          2.079183751140823,
          1.8899398137346646,
          -1.6113823324565013,
          3.812309261683522,
          -1.5857683542149226,
          2.364267205439563,
          2.445241028121159,
          -0.3330522564559013,
          -3.1040805790470305,
          5.4004894962004,
          -1.7736820848428203,
          0.8647643926512405,
          0.9586185132359315,
          -2.1592015853984403,
          1.7822974358974397,
          -6.287030901962143,
          -2.540997510973564,
          8.319750006681437,
          -0.016825486760474462,
          -1.871882025458349,
          -4.806199752479545,
          -0.24316505123893606,
          6.331663792222653,
          0.42204838551618273,
          1.440618339260058,
          0.2349716868025542,
          3.5373025278027326,
          -0.1012332834460894,
          -0.14093011610738504,
          -1.764064381311059,
          3.2945360148206593,
          1.7571441011636546,
          1.2124894262895536,
          3.4148645205360317,
          -0.7314689893332837,
          0.9253478409413596,
          0.9755096922754891,
          0.32123901702705293,
          1.600325645509293,
          -0.22002324429279962,
          1.816190720113342,
          2.1442194213337817,
          2.491865468615684,
          1.0778423478777555,
          5.219604060167038,
          -3.643589440088013,
          -2.738262637800837,
          0.5544095491336609,
          2.3575861881927285,
          -0.012132048624136083,
          4.116160742968211,
          2.8481126703292503,
          0.587513090589109,
          -7.331810795942772,
          1.5671973880285517,
          -10.164841497939436,
          9.170117425244872,
          3.040717603108156,
          1.292962360892247,
          3.4121735357783622,
          -6.783456243336761,
          6.913607301939417,
          0.30187591970312067,
          -1.807192038811578,
          2.32828280986217,
          1.8054864635815626,
          2.958646151007227,
          2.765078750265526,
          -0.59019568894072,
          -8.698069285842802,
          -13.10199232084479,
          16.586732252864156,
          6.10716170024983,
          2.024167903335927,
          5.31888133463605,
          6.448700782636729,
          -4.118101619120484,
          -3.4233491538269933,
          9.872882010730887,
          3.022596731741989,
          -1.3379902717240433
         ]
        },
        {
         "line": {
          "color": "magenta",
          "dash": "solid",
          "shape": "linear",
          "width": 1.3
         },
         "marker": {
          "size": 2.5,
          "symbol": "diamond"
         },
         "mode": "lines+markers",
         "name": "Vfinx Return",
         "text": "",
         "type": "scatter",
         "x": [
          "1985-02-28",
          "1985-03-31",
          "1985-04-30",
          "1985-05-31",
          "1985-06-30",
          "1985-07-31",
          "1985-08-31",
          "1985-09-30",
          "1985-10-31",
          "1985-11-30",
          "1985-12-31",
          "1986-01-31",
          "1986-02-28",
          "1986-03-31",
          "1986-04-30",
          "1986-05-31",
          "1986-06-30",
          "1986-07-31",
          "1986-08-31",
          "1986-09-30",
          "1986-10-31",
          "1986-11-30",
          "1986-12-31",
          "1987-01-31",
          "1987-02-28",
          "1987-03-31",
          "1987-04-30",
          "1987-05-31",
          "1987-06-30",
          "1987-07-31",
          "1987-08-31",
          "1987-09-30",
          "1987-10-31",
          "1987-11-30",
          "1987-12-31",
          "1988-01-31",
          "1988-02-29",
          "1988-03-31",
          "1988-04-30",
          "1988-05-31",
          "1988-06-30",
          "1988-07-31",
          "1988-08-31",
          "1988-09-30",
          "1988-10-31",
          "1988-11-30",
          "1988-12-31",
          "1989-01-31",
          "1989-02-28",
          "1989-03-31",
          "1989-04-30",
          "1989-05-31",
          "1989-06-30",
          "1989-07-31",
          "1989-08-31",
          "1989-09-30",
          "1989-10-31",
          "1989-11-30",
          "1989-12-31",
          "1990-01-31",
          "1990-02-28",
          "1990-03-31",
          "1990-04-30",
          "1990-05-31",
          "1990-06-30",
          "1990-07-31",
          "1990-08-31",
          "1990-09-30",
          "1990-10-31",
          "1990-11-30",
          "1990-12-31",
          "1991-01-31",
          "1991-02-28",
          "1991-03-31",
          "1991-04-30",
          "1991-05-31",
          "1991-06-30",
          "1991-07-31",
          "1991-08-31",
          "1991-09-30",
          "1991-10-31",
          "1991-11-30",
          "1991-12-31",
          "1992-01-31",
          "1992-02-29",
          "1992-03-31",
          "1992-04-30",
          "1992-05-31",
          "1992-06-30",
          "1992-07-31",
          "1992-08-31",
          "1992-09-30",
          "1992-10-31",
          "1992-11-30",
          "1992-12-31",
          "1993-01-31",
          "1993-02-28",
          "1993-03-31",
          "1993-04-30",
          "1993-05-31",
          "1993-06-30",
          "1993-07-31",
          "1993-08-31",
          "1993-09-30",
          "1993-10-31",
          "1993-11-30",
          "1993-12-31",
          "1994-01-31",
          "1994-02-28",
          "1994-03-31",
          "1994-04-30",
          "1994-05-31",
          "1994-06-30",
          "1994-07-31",
          "1994-08-31",
          "1994-09-30",
          "1994-10-31",
          "1994-11-30",
          "1994-12-31",
          "1995-01-31",
          "1995-02-28",
          "1995-03-31",
          "1995-04-30",
          "1995-05-31",
          "1995-06-30",
          "1995-07-31",
          "1995-08-31",
          "1995-09-30",
          "1995-10-31",
          "1995-11-30",
          "1995-12-31",
          "1996-01-31",
          "1996-02-29",
          "1996-03-31",
          "1996-04-30",
          "1996-05-31",
          "1996-06-30",
          "1996-07-31",
          "1996-08-31",
          "1996-09-30",
          "1996-10-31",
          "1996-11-30",
          "1996-12-31",
          "1997-01-31",
          "1997-02-28",
          "1997-03-31",
          "1997-04-30",
          "1997-05-31",
          "1997-06-30",
          "1997-07-31",
          "1997-08-31",
          "1997-09-30",
          "1997-10-31",
          "1997-11-30",
          "1997-12-31",
          "1998-01-31",
          "1998-02-28",
          "1998-03-31",
          "1998-04-30",
          "1998-05-31",
          "1998-06-30",
          "1998-07-31",
          "1998-08-31",
          "1998-09-30",
          "1998-10-31",
          "1998-11-30",
          "1998-12-31",
          "1999-01-31",
          "1999-02-28",
          "1999-03-31",
          "1999-04-30",
          "1999-05-31",
          "1999-06-30",
          "1999-07-31",
          "1999-08-31",
          "1999-09-30",
          "1999-10-31",
          "1999-11-30",
          "1999-12-31",
          "2000-01-31",
          "2000-02-29",
          "2000-03-31",
          "2000-04-30",
          "2000-05-31",
          "2000-06-30",
          "2000-07-31",
          "2000-08-31",
          "2000-09-30",
          "2000-10-31",
          "2000-11-30",
          "2000-12-31",
          "2001-01-31",
          "2001-02-28",
          "2001-03-31",
          "2001-04-30",
          "2001-05-31",
          "2001-06-30",
          "2001-07-31",
          "2001-08-31",
          "2001-09-30",
          "2001-10-31",
          "2001-11-30",
          "2001-12-31",
          "2002-01-31",
          "2002-02-28",
          "2002-03-31",
          "2002-04-30",
          "2002-05-31",
          "2002-06-30",
          "2002-07-31",
          "2002-08-31",
          "2002-09-30",
          "2002-10-31",
          "2002-11-30",
          "2002-12-31",
          "2003-01-31",
          "2003-02-28",
          "2003-03-31",
          "2003-04-30",
          "2003-05-31",
          "2003-06-30",
          "2003-07-31",
          "2003-08-31",
          "2003-09-30",
          "2003-10-31",
          "2003-11-30",
          "2003-12-31",
          "2004-01-31",
          "2004-02-29",
          "2004-03-31",
          "2004-04-30",
          "2004-05-31",
          "2004-06-30",
          "2004-07-31",
          "2004-08-31",
          "2004-09-30",
          "2004-10-31",
          "2004-11-30",
          "2004-12-31",
          "2005-01-31",
          "2005-02-28",
          "2005-03-31",
          "2005-04-30",
          "2005-05-31",
          "2005-06-30",
          "2005-07-31",
          "2005-08-31",
          "2005-09-30",
          "2005-10-31",
          "2005-11-30",
          "2005-12-31",
          "2006-01-31",
          "2006-02-28",
          "2006-03-31",
          "2006-04-30",
          "2006-05-31",
          "2006-06-30",
          "2006-07-31",
          "2006-08-31",
          "2006-09-30",
          "2006-10-31",
          "2006-11-30",
          "2006-12-31",
          "2007-01-31",
          "2007-02-28",
          "2007-03-31",
          "2007-04-30",
          "2007-05-31",
          "2007-06-30",
          "2007-07-31",
          "2007-08-31",
          "2007-09-30",
          "2007-10-31",
          "2007-11-30",
          "2007-12-31",
          "2008-01-31",
          "2008-02-29",
          "2008-03-31",
          "2008-04-30",
          "2008-05-31",
          "2008-06-30",
          "2008-07-31",
          "2008-08-31",
          "2008-09-30",
          "2008-10-31",
          "2008-11-30",
          "2008-12-31",
          "2009-01-31",
          "2009-02-28",
          "2009-03-31",
          "2009-04-30",
          "2009-05-31",
          "2009-06-30",
          "2009-07-31",
          "2009-08-31",
          "2009-09-30",
          "2009-10-31",
          "2009-11-30",
          "2009-12-31",
          "2010-01-31",
          "2010-02-28",
          "2010-03-31",
          "2010-04-30",
          "2010-05-31",
          "2010-06-30",
          "2010-07-31",
          "2010-08-31",
          "2010-09-30",
          "2010-10-31",
          "2010-11-30",
          "2010-12-31",
          "2011-01-31",
          "2011-02-28",
          "2011-03-31",
          "2011-04-30",
          "2011-05-31",
          "2011-06-30",
          "2011-07-31",
          "2011-08-31",
          "2011-09-30",
          "2011-10-31",
          "2011-11-30",
          "2011-12-31",
          "2012-01-31",
          "2012-02-29",
          "2012-03-31",
          "2012-04-30",
          "2012-05-31",
          "2012-06-30",
          "2012-07-31",
          "2012-08-31",
          "2012-09-30",
          "2012-10-31",
          "2012-11-30",
          "2012-12-31",
          "2013-01-31",
          "2013-02-28",
          "2013-03-31",
          "2013-04-30",
          "2013-05-31",
          "2013-06-30",
          "2013-07-31",
          "2013-08-31",
          "2013-09-30",
          "2013-10-31",
          "2013-11-30",
          "2013-12-31",
          "2014-01-31",
          "2014-02-28",
          "2014-03-31",
          "2014-04-30",
          "2014-05-31",
          "2014-06-30",
          "2014-07-31",
          "2014-08-31",
          "2014-09-30",
          "2014-10-31",
          "2014-11-30",
          "2014-12-31",
          "2015-01-31",
          "2015-02-28",
          "2015-03-31",
          "2015-04-30",
          "2015-05-31",
          "2015-06-30",
          "2015-07-31",
          "2015-08-31",
          "2015-09-30",
          "2015-10-31",
          "2015-11-30",
          "2015-12-31",
          "2016-01-31",
          "2016-02-29",
          "2016-03-31",
          "2016-04-30",
          "2016-05-31",
          "2016-06-30",
          "2016-07-31",
          "2016-08-31",
          "2016-09-30",
          "2016-10-31",
          "2016-11-30",
          "2016-12-31",
          "2017-01-31",
          "2017-02-28",
          "2017-03-31",
          "2017-04-30",
          "2017-05-31",
          "2017-06-30",
          "2017-07-31",
          "2017-08-31",
          "2017-09-30",
          "2017-10-31",
          "2017-11-30",
          "2017-12-31",
          "2018-01-31",
          "2018-02-28",
          "2018-03-31",
          "2018-04-30",
          "2018-05-31",
          "2018-06-30",
          "2018-07-31",
          "2018-08-31",
          "2018-09-30",
          "2018-10-31",
          "2018-11-30",
          "2018-12-31",
          "2019-01-31",
          "2019-02-28",
          "2019-03-31",
          "2019-04-30",
          "2019-05-31",
          "2019-06-30",
          "2019-07-31",
          "2019-08-31",
          "2019-09-30",
          "2019-10-31",
          "2019-11-30",
          "2019-12-31",
          "2020-01-31",
          "2020-02-29",
          "2020-03-31",
          "2020-04-30",
          "2020-05-31",
          "2020-06-30",
          "2020-07-31",
          "2020-08-31",
          "2020-09-30",
          "2020-10-31",
          "2020-11-30",
          "2020-12-31",
          "2021-01-31"
         ],
         "y": [
          1.3809613415549205,
          -0.8454877092284763,
          0.5712950262662053,
          6.03327349759708,
          0.6272047766660682,
          0.5791559703768989,
          -0.6693762049297058,
          -3.9532616614361804,
          5.279698214032202,
          6.9444293800256185,
          -3.6865715459937998,
          1.9717807167298984,
          7.579064516126088,
          4.750357079328116,
          -0.6578244716347825,
          5.453778551874033,
          0.9974012373828778,
          -5.116366197191724,
          7.450489474923971,
          -8.956335172770613,
          6.391722067547589,
          2.553539823420947,
          -11.131486834197634,
          14.864035474301463,
          3.96510766935394,
          2.239256994009997,
          -0.4011487059759733,
          1.0369334217409154,
          4.413336777709453,
          5.5272690484510445,
          3.841465416884704,
          -2.827111502746582,
          -21.288630798683684,
          -8.18506180836993,
          6.158460300387092,
          4.036457899529822,
          5.374253110574778,
          -3.7134285822928215,
          1.7236781675027624,
          0.8098549314198289,
          3.8638221589642363,
          0.30336487611064555,
          -3.401154665365591,
          3.559106063338935,
          3.4275671926948137,
          -1.4748354906003902,
          -0.7667074810139507,
          8.769186495442515,
          -2.468227032249215,
          1.019318463225205,
          5.846628335936721,
          4.0357204578520545,
          -1.1446724486905868,
          9.617159019419352,
          1.8589720237034868,
          -0.9270118191382015,
          -1.8177182487035592,
          2.0359717063580307,
          -1.2911110996015385,
          -4.895107120082742,
          1.2746995711970799,
          1.8879774471041388,
          -1.9628515138431113,
          9.692763854693997,
          -1.1839596851582423,
          0.18224499737535815,
          -9.03228050449999,
          -5.480329678229657,
          0.19751479092862123,
          6.438335384630278,
          0.5148598222540546,
          6.4504281390219464,
          7.116548394961009,
          1.6895973399161823,
          0.7026084021356738,
          4.272030430705831,
          -5.0403305666770315,
          5.16079536646552,
          2.333178006169412,
          -2.1473907482822185,
          1.8230163274365774,
          -4.010700238094788,
          9.49860716906783,
          -0.28982188152536503,
          1.2441304311163526,
          -2.483313862004255,
          3.5031470502919326,
          0.48468343245564594,
          -2.0563645484947046,
          4.643483710079277,
          -2.0677335601558933,
          0.610512989260914,
          0.8878153428073521,
          3.4022139264590745,
          0.5605490980752359,
          1.2094277452026736,
          1.355900731942672,
          1.5050187415662997,
          -1.915551617686595,
          2.6531683410062845,
          -0.25842230479694583,
          0.09777228776131075,
          3.785261533632922,
          -1.2992706065155568,
          2.604265702056918,
          -0.9955252512625967,
          0.1599904023833032,
          4.4749967113525635,
          -2.714644067921035,
          -5.036325865805235,
          1.7955719598877318,
          1.6037509154593899,
          -2.948016255904906,
          3.8121283868050693,
          4.075948106620086,
          -2.937284670050122,
          2.7621571877291418,
          -3.6546906255901623,
          0,
          3.7892176199622707,
          3.8793055643776553,
          2.467762257455175,
          3.4296969499326035,
          3.954428546814004,
          1.8721676917764052,
          3.748402479438373,
          0.26494427879473204,
          3.7939526027294557,
          0.036980664873320634,
          4.380368638824006,
          0.7169040841638941,
          4.397937578355093,
          0.9235651697243163,
          0.5491507090493508,
          1.8229398270291242,
          2.544368151336762,
          0.03184524181285564,
          -4.085072364698783,
          2.0961778271751497,
          5.2468701709359244,
          3.106863458369258,
          7.5636942067395685,
          -3.123751619346493,
          7.175706775450941,
          0.7894523504035078,
          -4.537459490161455,
          6.34278840537168,
          6.0881612094759285,
          4.115303447911867,
          8.313593529393382,
          -5.609045820538261,
          5.147690776271618,
          -3.057294479632089,
          4.598562132247475,
          0.5020986219671508,
          1.6894586639604192,
          7.192285153367872,
          4.701850645914507,
          1.2745773694826878,
          -1.7435482665707935,
          3.805196422649093,
          -0.7993055405375316,
          -14.473561304009586,
          6.11599992774654,
          8.465503089568083,
          6.071561288281457,
          5.032736573415586,
          4.688566798292659,
          -3.124495297944463,
          3.3643921628987217,
          4.086275394317118,
          -2.3890741003234517,
          5.226962591294182,
          -2.827333335591109,
          -0.4964972439095994,
          -3.026551678873135,
          6.641031089239147,
          2.022973797250738,
          5.233280658143147,
          -4.7389440681120165,
          -1.9063411716820688,
          9.526469492726509,
          -2.7987136860988637,
          -2.0383648868524618,
          2.248506606917977,
          -1.2628261054538514,
          6.189997199088815,
          -5.515617103516057,
          -0.19160128781141594,
          -7.8775661201848095,
          0.19731271592480226,
          3.8707442071284515,
          -9.137746722653727,
          -6.611411565008407,
          8.059244695683287,
          0.6499111790224665,
          -2.6863524284742035,
          -0.7570241430274405,
          -6.273994986418863,
          -8.41997421253009,
          2.2540880599752677,
          7.6537881762447135,
          0.5125726755228266,
          -1.117758237836386,
          -1.9361561244870984,
          3.4600460656805554,
          -5.81866688894348,
          -0.7543892432401944,
          -7.4388876944262545,
          -7.420973924894458,
          0.652601314684631,
          -11.281376922486608,
          9.265234417017009,
          6.156098885279704,
          -6.6274857445164255,
          -2.1262498103261973,
          -1.518549171637651,
          0.5782195545660285,
          8.658652686424094,
          5.263819205329856,
          0.9305781998442786,
          2.0763900684802383,
          1.9324892866552368,
          -1.4567295957204962,
          6.051779204657404,
          0.8642443840141789,
          4.733280406406037,
          2.295272629015477,
          1.3774675615407128,
          -1.8588758489463397,
          -1.2307820142275605,
          1.3578746903166072,
          1.5901684039822506,
          -2.989664896254096,
          0.3826394747792117,
          0.664602303504469,
          1.9212484359511617,
          4.045907234375878,
          2.629197964427954,
          -1.7275546528347063,
          2.09363535048519,
          -2.1496574503741317,
          -1.5210756859878494,
          3.1674523197411375,
          -0.2543672975220068,
          4.100048739921536,
          -0.9131987047844015,
          0.31904434578824414,
          -1.2126358293453765,
          3.7645980873080465,
          -0.49358272934955094,
          3.177873697016098,
          0.25430370631260857,
          0.8286793235941392,
          1.7466041562405277,
          -2.896590348776018,
          -0.2898252531256751,
          1.027942039763441,
          2.3619300611866123,
          2.124836303847366,
          3.6932949996981046,
          1.8813114510225715,
          0.8962300403801082,
          2.0012349818748554,
          -1.969228933179068,
          0.6927079012070791,
          4.852822852764249,
          3.4770483854079437,
          -2.072724361285261,
          -2.69764741088393,
          1.4983108921961197,
          3.2682257710060503,
          2.0291404023718096,
          -4.186765444468277,
          -1.242274415786715,
          -5.490733207663878,
          -3.2514510810511266,
          -0.9276805220011952,
          5.372233324452913,
          1.2845724369356493,
          -8.877895633384947,
          -0.36718888865907573,
          1.446309893417852,
          -9.422961326180202,
          -16.30815732212224,
          -7.174882889619861,
          0.19294224024120066,
          -7.6091692914576186,
          -10.65700608373622,
          8.015848810759053,
          10.331337001055063,
          5.6177093489412355,
          -0.30592996589530186,
          8.146615528420288,
          3.5989160177352764,
          3.20906219492334,
          -1.376185351312309,
          5.981364684602819,
          1.3024076935753248,
          -2.991066943831655,
          3.091847513892998,
          5.586615078534352,
          1.991134427419805,
          -7.995950624485215,
          -5.731043729327734,
          7.542346648511145,
          -4.529800427986896,
          8.365167445749844,
          4.314233870325079,
          0,
          6.21789871144145,
          2.7933426445593046,
          3.41629403261845,
          -0.3915398349339072,
          3.383087825990083,
          -1.1454156118673287,
          -2.1161620480114607,
          -1.6039147628036154,
          -5.446434101793107,
          -7.535273314186353,
          11.485867201196353,
          -0.233633214550244,
          0.4510504308220531,
          5.058839691592887,
          4.306818369481724,
          2.853059538631908,
          -0.22443498909880955,
          -6.017833915947756,
          3.597665118787563,
          1.8738795363034466,
          2.2393474415737025,
          2.082689394458237,
          -1.3848112642234733,
          0.5599538909272006,
          0.21361198037621598,
          5.892244845869454,
          1.3388905055939704,
          3.2781083832997604,
          2.359287615599759,
          2.327460211321797,
          -1.8170006266454708,
          5.572743035297423,
          -2.9118883593752143,
          2.6350850884301558,
          5.078739203897675,
          3.0284134357106973,
          1.987562536579368,
          -2.96837217520477,
          4.560634142667874,
          0.39550242600348007,
          1.1525941108137427,
          2.3348929122021023,
          1.624178553224187,
          -0.9722125927827618,
          3.987203460601041,
          -1.8551319270492916,
          2.879213088407262,
          2.682403948540335,
          -0.7889304418434717,
          -2.488938300629273,
          5.73381439888494,
          -2.0643675251002525,
          1.4386551515689794,
          1.2726072950754341,
          -2.3644874447936393,
          2.529062358877887,
          -6.041565343734801,
          -2.979520148275361,
          8.960824542143753,
          0.28639199136006877,
          -2.1442366092965015,
          -4.450552905072791,
          -0.14518906202245496,
          6.234638261593206,
          0.8869189388406307,
          1.7829321804941678,
          -0.22154208261414565,
          4.169128737781014,
          0.1295068796343335,
          -0.4178105623771855,
          -1.4069559086304362,
          3.699035562546027,
          1.3541929163629174,
          2.4932239022306124,
          3.962727538779598,
          -0.3427717327142865,
          1.4614254745918043,
          1.393727945488843,
          0.18357981384173883,
          2.4782074481019656,
          0.29343513905082386,
          1.5634174243059462,
          2.817498909471139,
          3.0593420581845665,
          0.6442747303172291,
          6.193110004765479,
          -3.6984379569731884,
          -2.968914583761917,
          0.7960531579347618,
          2.3945690205223524,
          0.1636168202534538,
          4.162294039401893,
          3.2462711939082123,
          0.1264976834878917,
          -6.451545993631081,
          2.026656143146144,
          -9.50184668692281,
          8.54265384700248,
          3.2005214199599674,
          1.3955676425583485,
          4.594624674857406,
          -6.3646061953390065,
          6.514657310879346,
          1.9188331473656284,
          -1.5911024622475733,
          1.4064280987466482,
          2.6136897248994373,
          3.620432397944917,
          2.534461418855738,
          0.41109580297642445,
          -8.241331904838045,
          -12.755538389537824,
          13.271938857044695,
          4.755886687670485,
          1.4825873053869953,
          6.1299494455465675,
          7.401888650397859,
          -4.393228829944418,
          -2.2769897317818533,
          10.935639766428684,
          3.4410728321334405,
          -0.6421049619809827
         ]
        }
       ],
       "layout": {
        "legend": {
         "bgcolor": "#F5F6F9",
         "font": {
          "color": "#4D5663"
         }
        },
        "paper_bgcolor": "#F5F6F9",
        "plot_bgcolor": "#F5F6F9",
        "template": {
         "data": {
          "bar": [
           {
            "error_x": {
             "color": "#2a3f5f"
            },
            "error_y": {
             "color": "#2a3f5f"
            },
            "marker": {
             "line": {
              "color": "#E5ECF6",
              "width": 0.5
             }
            },
            "type": "bar"
           }
          ],
          "barpolar": [
           {
            "marker": {
             "line": {
              "color": "#E5ECF6",
              "width": 0.5
             }
            },
            "type": "barpolar"
           }
          ],
          "carpet": [
           {
            "aaxis": {
             "endlinecolor": "#2a3f5f",
             "gridcolor": "white",
             "linecolor": "white",
             "minorgridcolor": "white",
             "startlinecolor": "#2a3f5f"
            },
            "baxis": {
             "endlinecolor": "#2a3f5f",
             "gridcolor": "white",
             "linecolor": "white",
             "minorgridcolor": "white",
             "startlinecolor": "#2a3f5f"
            },
            "type": "carpet"
           }
          ],
          "choropleth": [
           {
            "colorbar": {
             "outlinewidth": 0,
             "ticks": ""
            },
            "type": "choropleth"
           }
          ],
          "contour": [
           {
            "colorbar": {
             "outlinewidth": 0,
             "ticks": ""
            },
            "colorscale": [
             [
              0,
              "#0d0887"
             ],
             [
              0.1111111111111111,
              "#46039f"
             ],
             [
              0.2222222222222222,
              "#7201a8"
             ],
             [
              0.3333333333333333,
              "#9c179e"
             ],
             [
              0.4444444444444444,
              "#bd3786"
             ],
             [
              0.5555555555555556,
              "#d8576b"
             ],
             [
              0.6666666666666666,
              "#ed7953"
             ],
             [
              0.7777777777777778,
              "#fb9f3a"
             ],
             [
              0.8888888888888888,
              "#fdca26"
             ],
             [
              1,
              "#f0f921"
             ]
            ],
            "type": "contour"
           }
          ],
          "contourcarpet": [
           {
            "colorbar": {
             "outlinewidth": 0,
             "ticks": ""
            },
            "type": "contourcarpet"
           }
          ],
          "heatmap": [
           {
            "colorbar": {
             "outlinewidth": 0,
             "ticks": ""
            },
            "colorscale": [
             [
              0,
              "#0d0887"
             ],
             [
              0.1111111111111111,
              "#46039f"
             ],
             [
              0.2222222222222222,
              "#7201a8"
             ],
             [
              0.3333333333333333,
              "#9c179e"
             ],
             [
              0.4444444444444444,
              "#bd3786"
             ],
             [
              0.5555555555555556,
              "#d8576b"
             ],
             [
              0.6666666666666666,
              "#ed7953"
             ],
             [
              0.7777777777777778,
              "#fb9f3a"
             ],
             [
              0.8888888888888888,
              "#fdca26"
             ],
             [
              1,
              "#f0f921"
             ]
            ],
            "type": "heatmap"
           }
          ],
          "heatmapgl": [
           {
            "colorbar": {
             "outlinewidth": 0,
             "ticks": ""
            },
            "colorscale": [
             [
              0,
              "#0d0887"
             ],
             [
              0.1111111111111111,
              "#46039f"
             ],
             [
              0.2222222222222222,
              "#7201a8"
             ],
             [
              0.3333333333333333,
              "#9c179e"
             ],
             [
              0.4444444444444444,
              "#bd3786"
             ],
             [
              0.5555555555555556,
              "#d8576b"
             ],
             [
              0.6666666666666666,
              "#ed7953"
             ],
             [
              0.7777777777777778,
              "#fb9f3a"
             ],
             [
              0.8888888888888888,
              "#fdca26"
             ],
             [
              1,
              "#f0f921"
             ]
            ],
            "type": "heatmapgl"
           }
          ],
          "histogram": [
           {
            "marker": {
             "colorbar": {
              "outlinewidth": 0,
              "ticks": ""
             }
            },
            "type": "histogram"
           }
          ],
          "histogram2d": [
           {
            "colorbar": {
             "outlinewidth": 0,
             "ticks": ""
            },
            "colorscale": [
             [
              0,
              "#0d0887"
             ],
             [
              0.1111111111111111,
              "#46039f"
             ],
             [
              0.2222222222222222,
              "#7201a8"
             ],
             [
              0.3333333333333333,
              "#9c179e"
             ],
             [
              0.4444444444444444,
              "#bd3786"
             ],
             [
              0.5555555555555556,
              "#d8576b"
             ],
             [
              0.6666666666666666,
              "#ed7953"
             ],
             [
              0.7777777777777778,
              "#fb9f3a"
             ],
             [
              0.8888888888888888,
              "#fdca26"
             ],
             [
              1,
              "#f0f921"
             ]
            ],
            "type": "histogram2d"
           }
          ],
          "histogram2dcontour": [
           {
            "colorbar": {
             "outlinewidth": 0,
             "ticks": ""
            },
            "colorscale": [
             [
              0,
              "#0d0887"
             ],
             [
              0.1111111111111111,
              "#46039f"
             ],
             [
              0.2222222222222222,
              "#7201a8"
             ],
             [
              0.3333333333333333,
              "#9c179e"
             ],
             [
              0.4444444444444444,
              "#bd3786"
             ],
             [
              0.5555555555555556,
              "#d8576b"
             ],
             [
              0.6666666666666666,
              "#ed7953"
             ],
             [
              0.7777777777777778,
              "#fb9f3a"
             ],
             [
              0.8888888888888888,
              "#fdca26"
             ],
             [
              1,
              "#f0f921"
             ]
            ],
            "type": "histogram2dcontour"
           }
          ],
          "mesh3d": [
           {
            "colorbar": {
             "outlinewidth": 0,
             "ticks": ""
            },
            "type": "mesh3d"
           }
          ],
          "parcoords": [
           {
            "line": {
             "colorbar": {
              "outlinewidth": 0,
              "ticks": ""
             }
            },
            "type": "parcoords"
           }
          ],
          "pie": [
           {
            "automargin": true,
            "type": "pie"
           }
          ],
          "scatter": [
           {
            "marker": {
             "colorbar": {
              "outlinewidth": 0,
              "ticks": ""
             }
            },
            "type": "scatter"
           }
          ],
          "scatter3d": [
           {
            "line": {
             "colorbar": {
              "outlinewidth": 0,
              "ticks": ""
             }
            },
            "marker": {
             "colorbar": {
              "outlinewidth": 0,
              "ticks": ""
             }
            },
            "type": "scatter3d"
           }
          ],
          "scattercarpet": [
           {
            "marker": {
             "colorbar": {
              "outlinewidth": 0,
              "ticks": ""
             }
            },
            "type": "scattercarpet"
           }
          ],
          "scattergeo": [
           {
            "marker": {
             "colorbar": {
              "outlinewidth": 0,
              "ticks": ""
             }
            },
            "type": "scattergeo"
           }
          ],
          "scattergl": [
           {
            "marker": {
             "colorbar": {
              "outlinewidth": 0,
              "ticks": ""
             }
            },
            "type": "scattergl"
           }
          ],
          "scattermapbox": [
           {
            "marker": {
             "colorbar": {
              "outlinewidth": 0,
              "ticks": ""
             }
            },
            "type": "scattermapbox"
           }
          ],
          "scatterpolar": [
           {
            "marker": {
             "colorbar": {
              "outlinewidth": 0,
              "ticks": ""
             }
            },
            "type": "scatterpolar"
           }
          ],
          "scatterpolargl": [
           {
            "marker": {
             "colorbar": {
              "outlinewidth": 0,
              "ticks": ""
             }
            },
            "type": "scatterpolargl"
           }
          ],
          "scatterternary": [
           {
            "marker": {
             "colorbar": {
              "outlinewidth": 0,
              "ticks": ""
             }
            },
            "type": "scatterternary"
           }
          ],
          "surface": [
           {
            "colorbar": {
             "outlinewidth": 0,
             "ticks": ""
            },
            "colorscale": [
             [
              0,
              "#0d0887"
             ],
             [
              0.1111111111111111,
              "#46039f"
             ],
             [
              0.2222222222222222,
              "#7201a8"
             ],
             [
              0.3333333333333333,
              "#9c179e"
             ],
             [
              0.4444444444444444,
              "#bd3786"
             ],
             [
              0.5555555555555556,
              "#d8576b"
             ],
             [
              0.6666666666666666,
              "#ed7953"
             ],
             [
              0.7777777777777778,
              "#fb9f3a"
             ],
             [
              0.8888888888888888,
              "#fdca26"
             ],
             [
              1,
              "#f0f921"
             ]
            ],
            "type": "surface"
           }
          ],
          "table": [
           {
            "cells": {
             "fill": {
              "color": "#EBF0F8"
             },
             "line": {
              "color": "white"
             }
            },
            "header": {
             "fill": {
              "color": "#C8D4E3"
             },
             "line": {
              "color": "white"
             }
            },
            "type": "table"
           }
          ]
         },
         "layout": {
          "annotationdefaults": {
           "arrowcolor": "#2a3f5f",
           "arrowhead": 0,
           "arrowwidth": 1
          },
          "autotypenumbers": "strict",
          "coloraxis": {
           "colorbar": {
            "outlinewidth": 0,
            "ticks": ""
           }
          },
          "colorscale": {
           "diverging": [
            [
             0,
             "#8e0152"
            ],
            [
             0.1,
             "#c51b7d"
            ],
            [
             0.2,
             "#de77ae"
            ],
            [
             0.3,
             "#f1b6da"
            ],
            [
             0.4,
             "#fde0ef"
            ],
            [
             0.5,
             "#f7f7f7"
            ],
            [
             0.6,
             "#e6f5d0"
            ],
            [
             0.7,
             "#b8e186"
            ],
            [
             0.8,
             "#7fbc41"
            ],
            [
             0.9,
             "#4d9221"
            ],
            [
             1,
             "#276419"
            ]
           ],
           "sequential": [
            [
             0,
             "#0d0887"
            ],
            [
             0.1111111111111111,
             "#46039f"
            ],
            [
             0.2222222222222222,
             "#7201a8"
            ],
            [
             0.3333333333333333,
             "#9c179e"
            ],
            [
             0.4444444444444444,
             "#bd3786"
            ],
            [
             0.5555555555555556,
             "#d8576b"
            ],
            [
             0.6666666666666666,
             "#ed7953"
            ],
            [
             0.7777777777777778,
             "#fb9f3a"
            ],
            [
             0.8888888888888888,
             "#fdca26"
            ],
            [
             1,
             "#f0f921"
            ]
           ],
           "sequentialminus": [
            [
             0,
             "#0d0887"
            ],
            [
             0.1111111111111111,
             "#46039f"
            ],
            [
             0.2222222222222222,
             "#7201a8"
            ],
            [
             0.3333333333333333,
             "#9c179e"
            ],
            [
             0.4444444444444444,
             "#bd3786"
            ],
            [
             0.5555555555555556,
             "#d8576b"
            ],
            [
             0.6666666666666666,
             "#ed7953"
            ],
            [
             0.7777777777777778,
             "#fb9f3a"
            ],
            [
             0.8888888888888888,
             "#fdca26"
            ],
            [
             1,
             "#f0f921"
            ]
           ]
          },
          "colorway": [
           "#636efa",
           "#EF553B",
           "#00cc96",
           "#ab63fa",
           "#FFA15A",
           "#19d3f3",
           "#FF6692",
           "#B6E880",
           "#FF97FF",
           "#FECB52"
          ],
          "font": {
           "color": "#2a3f5f"
          },
          "geo": {
           "bgcolor": "white",
           "lakecolor": "white",
           "landcolor": "#E5ECF6",
           "showlakes": true,
           "showland": true,
           "subunitcolor": "white"
          },
          "hoverlabel": {
           "align": "left"
          },
          "hovermode": "closest",
          "mapbox": {
           "style": "light"
          },
          "paper_bgcolor": "white",
          "plot_bgcolor": "#E5ECF6",
          "polar": {
           "angularaxis": {
            "gridcolor": "white",
            "linecolor": "white",
            "ticks": ""
           },
           "bgcolor": "#E5ECF6",
           "radialaxis": {
            "gridcolor": "white",
            "linecolor": "white",
            "ticks": ""
           }
          },
          "scene": {
           "xaxis": {
            "backgroundcolor": "#E5ECF6",
            "gridcolor": "white",
            "gridwidth": 2,
            "linecolor": "white",
            "showbackground": true,
            "ticks": "",
            "zerolinecolor": "white"
           },
           "yaxis": {
            "backgroundcolor": "#E5ECF6",
            "gridcolor": "white",
            "gridwidth": 2,
            "linecolor": "white",
            "showbackground": true,
            "ticks": "",
            "zerolinecolor": "white"
           },
           "zaxis": {
            "backgroundcolor": "#E5ECF6",
            "gridcolor": "white",
            "gridwidth": 2,
            "linecolor": "white",
            "showbackground": true,
            "ticks": "",
            "zerolinecolor": "white"
           }
          },
          "shapedefaults": {
           "line": {
            "color": "#2a3f5f"
           }
          },
          "ternary": {
           "aaxis": {
            "gridcolor": "white",
            "linecolor": "white",
            "ticks": ""
           },
           "baxis": {
            "gridcolor": "white",
            "linecolor": "white",
            "ticks": ""
           },
           "bgcolor": "#E5ECF6",
           "caxis": {
            "gridcolor": "white",
            "linecolor": "white",
            "ticks": ""
           }
          },
          "title": {
           "x": 0.05
          },
          "xaxis": {
           "automargin": true,
           "gridcolor": "white",
           "linecolor": "white",
           "ticks": "",
           "title": {
            "standoff": 15
           },
           "zerolinecolor": "white",
           "zerolinewidth": 2
          },
          "yaxis": {
           "automargin": true,
           "gridcolor": "white",
           "linecolor": "white",
           "ticks": "",
           "title": {
            "standoff": 15
           },
           "zerolinecolor": "white",
           "zerolinewidth": 2
          }
         }
        },
        "title": {
         "font": {
          "color": "#4D5663"
         },
         "text": "Return Comparison"
        },
        "xaxis": {
         "gridcolor": "#E1E5ED",
         "showgrid": true,
         "tickfont": {
          "color": "#4D5663"
         },
         "title": {
          "font": {
           "color": "#4D5663"
          },
          "text": "Date"
         },
         "zerolinecolor": "#E1E5ED"
        },
        "yaxis": {
         "gridcolor": "#E1E5ED",
         "showgrid": true,
         "tickfont": {
          "color": "#4D5663"
         },
         "title": {
          "font": {
           "color": "#4D5663"
          },
          "text": "Returns"
         },
         "zerolinecolor": "#E1E5ED"
        }
       }
      },
      "text/html": [
       "<div>                            <div id=\"9fbe3e9d-42c9-47e3-b4a0-27a984ae6f4a\" class=\"plotly-graph-div\" style=\"height:525px; width:100%;\"></div>            <script type=\"text/javascript\">                require([\"plotly\"], function(Plotly) {                    window.PLOTLYENV=window.PLOTLYENV || {};                                    if (document.getElementById(\"9fbe3e9d-42c9-47e3-b4a0-27a984ae6f4a\")) {                    Plotly.newPlot(                        \"9fbe3e9d-42c9-47e3-b4a0-27a984ae6f4a\",                        [{\"line\": {\"color\": \"blue\", \"dash\": \"solid\", \"shape\": \"linear\", \"width\": 1.3}, \"marker\": {\"size\": 2.5, \"symbol\": \"circle\"}, \"mode\": \"lines+markers\", \"name\": \"S&P 500 Returns\", \"text\": \"\", \"type\": \"scatter\", \"x\": [\"1985-02-28\", \"1985-03-31\", \"1985-04-30\", \"1985-05-31\", \"1985-06-30\", \"1985-07-31\", \"1985-08-31\", \"1985-09-30\", \"1985-10-31\", \"1985-11-30\", \"1985-12-31\", \"1986-01-31\", \"1986-02-28\", \"1986-03-31\", \"1986-04-30\", \"1986-05-31\", \"1986-06-30\", \"1986-07-31\", \"1986-08-31\", \"1986-09-30\", \"1986-10-31\", \"1986-11-30\", \"1986-12-31\", \"1987-01-31\", \"1987-02-28\", \"1987-03-31\", \"1987-04-30\", \"1987-05-31\", \"1987-06-30\", \"1987-07-31\", \"1987-08-31\", \"1987-09-30\", \"1987-10-31\", \"1987-11-30\", \"1987-12-31\", \"1988-01-31\", \"1988-02-29\", \"1988-03-31\", \"1988-04-30\", \"1988-05-31\", \"1988-06-30\", \"1988-07-31\", \"1988-08-31\", \"1988-09-30\", \"1988-10-31\", \"1988-11-30\", \"1988-12-31\", \"1989-01-31\", \"1989-02-28\", \"1989-03-31\", \"1989-04-30\", \"1989-05-31\", \"1989-06-30\", \"1989-07-31\", \"1989-08-31\", \"1989-09-30\", \"1989-10-31\", \"1989-11-30\", \"1989-12-31\", \"1990-01-31\", \"1990-02-28\", \"1990-03-31\", \"1990-04-30\", \"1990-05-31\", \"1990-06-30\", \"1990-07-31\", \"1990-08-31\", \"1990-09-30\", \"1990-10-31\", \"1990-11-30\", \"1990-12-31\", \"1991-01-31\", \"1991-02-28\", \"1991-03-31\", \"1991-04-30\", \"1991-05-31\", \"1991-06-30\", \"1991-07-31\", \"1991-08-31\", \"1991-09-30\", \"1991-10-31\", \"1991-11-30\", \"1991-12-31\", \"1992-01-31\", \"1992-02-29\", \"1992-03-31\", \"1992-04-30\", \"1992-05-31\", \"1992-06-30\", \"1992-07-31\", \"1992-08-31\", \"1992-09-30\", \"1992-10-31\", \"1992-11-30\", \"1992-12-31\", \"1993-01-31\", \"1993-02-28\", \"1993-03-31\", \"1993-04-30\", \"1993-05-31\", \"1993-06-30\", \"1993-07-31\", \"1993-08-31\", \"1993-09-30\", \"1993-10-31\", \"1993-11-30\", \"1993-12-31\", \"1994-01-31\", \"1994-02-28\", \"1994-03-31\", \"1994-04-30\", \"1994-05-31\", \"1994-06-30\", \"1994-07-31\", \"1994-08-31\", \"1994-09-30\", \"1994-10-31\", \"1994-11-30\", \"1994-12-31\", \"1995-01-31\", \"1995-02-28\", \"1995-03-31\", \"1995-04-30\", \"1995-05-31\", \"1995-06-30\", \"1995-07-31\", \"1995-08-31\", \"1995-09-30\", \"1995-10-31\", \"1995-11-30\", \"1995-12-31\", \"1996-01-31\", \"1996-02-29\", \"1996-03-31\", \"1996-04-30\", \"1996-05-31\", \"1996-06-30\", \"1996-07-31\", \"1996-08-31\", \"1996-09-30\", \"1996-10-31\", \"1996-11-30\", \"1996-12-31\", \"1997-01-31\", \"1997-02-28\", \"1997-03-31\", \"1997-04-30\", \"1997-05-31\", \"1997-06-30\", \"1997-07-31\", \"1997-08-31\", \"1997-09-30\", \"1997-10-31\", \"1997-11-30\", \"1997-12-31\", \"1998-01-31\", \"1998-02-28\", \"1998-03-31\", \"1998-04-30\", \"1998-05-31\", \"1998-06-30\", \"1998-07-31\", \"1998-08-31\", \"1998-09-30\", \"1998-10-31\", \"1998-11-30\", \"1998-12-31\", \"1999-01-31\", \"1999-02-28\", \"1999-03-31\", \"1999-04-30\", \"1999-05-31\", \"1999-06-30\", \"1999-07-31\", \"1999-08-31\", \"1999-09-30\", \"1999-10-31\", \"1999-11-30\", \"1999-12-31\", \"2000-01-31\", \"2000-02-29\", \"2000-03-31\", \"2000-04-30\", \"2000-05-31\", \"2000-06-30\", \"2000-07-31\", \"2000-08-31\", \"2000-09-30\", \"2000-10-31\", \"2000-11-30\", \"2000-12-31\", \"2001-01-31\", \"2001-02-28\", \"2001-03-31\", \"2001-04-30\", \"2001-05-31\", \"2001-06-30\", \"2001-07-31\", \"2001-08-31\", \"2001-09-30\", \"2001-10-31\", \"2001-11-30\", \"2001-12-31\", \"2002-01-31\", \"2002-02-28\", \"2002-03-31\", \"2002-04-30\", \"2002-05-31\", \"2002-06-30\", \"2002-07-31\", \"2002-08-31\", \"2002-09-30\", \"2002-10-31\", \"2002-11-30\", \"2002-12-31\", \"2003-01-31\", \"2003-02-28\", \"2003-03-31\", \"2003-04-30\", \"2003-05-31\", \"2003-06-30\", \"2003-07-31\", \"2003-08-31\", \"2003-09-30\", \"2003-10-31\", \"2003-11-30\", \"2003-12-31\", \"2004-01-31\", \"2004-02-29\", \"2004-03-31\", \"2004-04-30\", \"2004-05-31\", \"2004-06-30\", \"2004-07-31\", \"2004-08-31\", \"2004-09-30\", \"2004-10-31\", \"2004-11-30\", \"2004-12-31\", \"2005-01-31\", \"2005-02-28\", \"2005-03-31\", \"2005-04-30\", \"2005-05-31\", \"2005-06-30\", \"2005-07-31\", \"2005-08-31\", \"2005-09-30\", \"2005-10-31\", \"2005-11-30\", \"2005-12-31\", \"2006-01-31\", \"2006-02-28\", \"2006-03-31\", \"2006-04-30\", \"2006-05-31\", \"2006-06-30\", \"2006-07-31\", \"2006-08-31\", \"2006-09-30\", \"2006-10-31\", \"2006-11-30\", \"2006-12-31\", \"2007-01-31\", \"2007-02-28\", \"2007-03-31\", \"2007-04-30\", \"2007-05-31\", \"2007-06-30\", \"2007-07-31\", \"2007-08-31\", \"2007-09-30\", \"2007-10-31\", \"2007-11-30\", \"2007-12-31\", \"2008-01-31\", \"2008-02-29\", \"2008-03-31\", \"2008-04-30\", \"2008-05-31\", \"2008-06-30\", \"2008-07-31\", \"2008-08-31\", \"2008-09-30\", \"2008-10-31\", \"2008-11-30\", \"2008-12-31\", \"2009-01-31\", \"2009-02-28\", \"2009-03-31\", \"2009-04-30\", \"2009-05-31\", \"2009-06-30\", \"2009-07-31\", \"2009-08-31\", \"2009-09-30\", \"2009-10-31\", \"2009-11-30\", \"2009-12-31\", \"2010-01-31\", \"2010-02-28\", \"2010-03-31\", \"2010-04-30\", \"2010-05-31\", \"2010-06-30\", \"2010-07-31\", \"2010-08-31\", \"2010-09-30\", \"2010-10-31\", \"2010-11-30\", \"2010-12-31\", \"2011-01-31\", \"2011-02-28\", \"2011-03-31\", \"2011-04-30\", \"2011-05-31\", \"2011-06-30\", \"2011-07-31\", \"2011-08-31\", \"2011-09-30\", \"2011-10-31\", \"2011-11-30\", \"2011-12-31\", \"2012-01-31\", \"2012-02-29\", \"2012-03-31\", \"2012-04-30\", \"2012-05-31\", \"2012-06-30\", \"2012-07-31\", \"2012-08-31\", \"2012-09-30\", \"2012-10-31\", \"2012-11-30\", \"2012-12-31\", \"2013-01-31\", \"2013-02-28\", \"2013-03-31\", \"2013-04-30\", \"2013-05-31\", \"2013-06-30\", \"2013-07-31\", \"2013-08-31\", \"2013-09-30\", \"2013-10-31\", \"2013-11-30\", \"2013-12-31\", \"2014-01-31\", \"2014-02-28\", \"2014-03-31\", \"2014-04-30\", \"2014-05-31\", \"2014-06-30\", \"2014-07-31\", \"2014-08-31\", \"2014-09-30\", \"2014-10-31\", \"2014-11-30\", \"2014-12-31\", \"2015-01-31\", \"2015-02-28\", \"2015-03-31\", \"2015-04-30\", \"2015-05-31\", \"2015-06-30\", \"2015-07-31\", \"2015-08-31\", \"2015-09-30\", \"2015-10-31\", \"2015-11-30\", \"2015-12-31\", \"2016-01-31\", \"2016-02-29\", \"2016-03-31\", \"2016-04-30\", \"2016-05-31\", \"2016-06-30\", \"2016-07-31\", \"2016-08-31\", \"2016-09-30\", \"2016-10-31\", \"2016-11-30\", \"2016-12-31\", \"2017-01-31\", \"2017-02-28\", \"2017-03-31\", \"2017-04-30\", \"2017-05-31\", \"2017-06-30\", \"2017-07-31\", \"2017-08-31\", \"2017-09-30\", \"2017-10-31\", \"2017-11-30\", \"2017-12-31\", \"2018-01-31\", \"2018-02-28\", \"2018-03-31\", \"2018-04-30\", \"2018-05-31\", \"2018-06-30\", \"2018-07-31\", \"2018-08-31\", \"2018-09-30\", \"2018-10-31\", \"2018-11-30\", \"2018-12-31\", \"2019-01-31\", \"2019-02-28\", \"2019-03-31\", \"2019-04-30\", \"2019-05-31\", \"2019-06-30\", \"2019-07-31\", \"2019-08-31\", \"2019-09-30\", \"2019-10-31\", \"2019-11-30\", \"2019-12-31\", \"2020-01-31\", \"2020-02-29\", \"2020-03-31\", \"2020-04-30\", \"2020-05-31\", \"2020-06-30\", \"2020-07-31\", \"2020-08-31\", \"2020-09-30\", \"2020-10-31\", \"2020-11-30\", \"2020-12-31\", \"2021-01-31\"], \"y\": [0.8628781143773745, -0.2870013357379797, -0.45942764398477776, 5.405105317187275, 1.2134017217609872, -0.48475786860283643, -1.1994516153305157, -3.472407796416055, 4.262336089886154, 6.5061587528020715, 4.506109259594515, 0.23665278415681001, 7.148927694536433, 5.279391902691621, -1.4148137651271764, 5.022928753007316, 1.9509035671286146, -5.804445332943264, 7.1192606962404925, -8.543860593077246, 5.47293300055971, 2.151903913793074, -2.828827129328182, 13.176689624451354, 3.6923618943399905, 2.649821816350495, -1.1077235310912315, 1.0836670644854385, 4.784229022201658, 4.825821402869224, 3.5088799119465053, -2.419578256690691, -21.763041614888422, -8.513086775721401, 7.276829841360688, 4.034804029911676, 4.189853920553377, -3.3343259527283786, 0.942474355374423, 0.3060985024161189, 4.325601093597786, -0.5411374771480792, -3.8635481522756643, 3.972933403572454, 2.6039889695838925, -1.8890880672147836, 1.4761795174409897, 7.1114791620643825, -2.8944148892512955, 2.080596244578503, 5.008993878810886, 3.5137493453486712, -0.7893666097979368, 8.837025922362152, 1.5516716371120287, -0.6544367396408068, -2.517545224417217, 1.6541324621341724, 2.1357717367771922, -6.8817225277032605, 0.8539042515520734, 2.425498398919901, -2.688713874867843, 9.198919015680262, -0.8968667747088932, -0.5223158084617485, -9.431418381548529, -5.118430711299804, -0.6860522570522276, 5.996911608832911, 2.4795921320934777, 4.15808010327996, 6.734320819582784, 2.220283282365809, 0.031979905037093914, 3.857727659127841, -4.784380620222062, 4.480307482521018, 1.9648784299779676, -1.9143737536368444, 1.1834237037883666, -4.392801914934563, 11.191387240731544, -1.9782749489923424, 0.9564820357436998, -2.1784412020187327, 2.7943613933988365, 0.0963957075388544, -1.7358832059340301, 3.922091751432877, -2.3951538112866433, 0.9105593819543456, 0.21062829709799225, 3.031099670079773, 1.0107766174460409, 0.7069054200530944, 1.0483627354217484, 1.8697297817929392, -2.5416810214496266, 2.2717462810525113, 0.0666299430670314, -0.5349145363025887, 3.4431956860375923, -0.9966551870561169, 1.9392922963742842, -1.2910626013377002, 0.9785073644265507, 3.23679549770004, -3.0024897881749335, -4.584861171750843, 1.1780280825918643, 1.2397143444171643, -2.679082365826957, 3.148990781819383, 3.7553441209639216, -2.6877535318882373, 2.0877918170360665, -3.932157626473609, 1.2611621985094024, 2.4411537683638906, 3.6074149761991636, 2.7329193438646815, 2.7980846143858207, 3.6211076303305, 2.1278544224437423, 3.1776040385498083, -0.03202380540165972, 4.00974724131713, -0.49793349436904055, 4.104900257953581, 1.7443874138492799, 3.261738708671724, 0.6933701552350291, 0.7916567080580306, 1.3431422153369565, 2.2853405672085048, 0.225671032293695, -4.574801719466748, 1.8813935110919333, 5.42033275694922, 2.613089006745395, 7.337615173263701, -2.1505415404998174, 6.131703919481923, 0.5927590007180461, -4.261401039642642, 5.840557942205704, 5.857688424192475, 4.345261557489777, 7.8145809507889075, -5.744585845372862, 5.3153589937912304, -3.4477697196337753, 4.458685489376402, 1.5731597888257953, 1.0150176798997546, 7.044919304379715, 4.9945714161429455, 0.9076469253460395, -1.8826223521475116, 3.9438241075214098, -1.161532702578949, -14.57967185567066, 6.239551561771917, 8.029422837244237, 5.912599633962534, 5.637528657573587, 4.1009441536725255, -3.2282562686194116, 3.8794215360158812, 3.794402791554541, -2.497048087268683, 5.443833101679418, -3.2046092218893762, -0.6254092044500448, -2.8551792268491583, 6.253954162596531, 1.906185862124965, 5.784389487677943, -5.090354874936187, -2.0108083261058285, 9.671982826973235, -3.079575555193137, -2.1915050512993584, 2.393354960890126, -1.6341276221772727, 6.069910518423605, -5.348297474561125, -0.4956419611889529, -8.00686099610699, 0.4053445529197841, 3.46365770863295, -9.229073584900005, -6.42047105408955, 7.68143617590098, 0.5090187119649592, -2.5035389109833495, -1.0772499245365053, -6.410840656371475, -8.172340601971618, 1.809911144527776, 7.517590426305354, 0.7573834192915685, -1.5573832559794276, -2.0766211305560334, 3.6738893618839086, -6.141762615913993, -0.908148107604545, -7.245535441757367, -7.900427496612538, 0.4881433080019315, -11.002431826151904, 8.644880101680986, 5.706962092361811, -6.033257267429071, -2.7414692559952325, -1.7003608502929257, 0.8357568566151441, 8.104410687272612, 5.089870966417798, 1.1322214525161467, 1.6223702411493068, 1.7873203376464142, -1.1944364520745099, 5.496148638401066, 0.7128503847885437, 5.076554100123931, 1.7276387006114557, 1.2208973273589496, -1.6358919214261247, -1.6790751862298725, 1.2083450201310297, 1.7988998669195677, -3.4290519411904974, 0.2287349840552233, 0.9363875691551504, 1.4014243586486952, 3.859493619815235, 3.2493324181442462, -2.5290467099494562, 1.8903346078316563, -1.9117655748441043, -2.01085818816793, 2.9952046262565757, -0.01427142257658387, 3.5968287193812287, -1.1222104874496597, 0.6949024694760331, -1.7740780066319406, 3.5186095929726546, -0.09523489924184725, 2.5466771348641615, 0.045315763072539816, 1.1095810459249567, 0.5932994573817352, -3.0916916141150885, 0.01180284195241299, 0.5196584959294537, 1.9780463834533801, 2.458193418889798, 3.1531191854205165, 1.6599403984733252, 1.2615782852659851, 1.4252138943948944, -2.16149088818709, 0.9994267493802278, 4.331274037411981, 3.254922870993493, -1.7816322202167556, -3.28246998550904, 1.29261914690868, 3.5815110584269005, 1.4463504269603966, -4.182328930119339, -0.7616782548283019, -6.091399944583742, -3.4796149597495662, -0.5825096986305178, 4.461661965986008, 1.0397075190310856, -8.546605180501155, -0.7292245126258146, 1.0563809877891073, -9.432143617569333, -16.786211344912427, -7.47726204704745, 1.6475186242702389, -8.539406400285799, -10.691418570668699, 9.361677062472772, 9.982480664414917, 5.316592058535097, -0.4267490151555364, 7.239196856416696, 3.070027356578109, 3.6840802792671212, -1.7745677258388715, 5.73741511144743, 1.4751213295900234, -3.823355820038332, 2.8494514868917964, 5.796307978346071, 1.3199765429501742, -8.343563384136354, -5.204643194125335, 6.837358320334208, -5.254943114504029, 8.714703209166629, 3.477950865140489, -0.4351748884396933, 5.986856601790458, 2.2661853432125234, 2.953903808501357, -0.21149889874421124, 2.567169533459235, -1.465709346666566, -1.825746126569705, -2.1474425791952023, -5.701726992982092, -7.193709508472135, 10.79287596549019, -0.3229447641886485, 0.8573146184177594, 4.253852663368263, 4.055781552617832, 3.1166224651885566, -0.749745270927038, -6.26171647656113, 3.9920021986609378, 1.2471273882786127, 1.9763369680148246, 2.4265221077009125, -1.9945859894024198, 0.2818370725180541, 0.6954527328504545, 5.042809651957847, 1.1060649195259176, 3.5987723516956116, 1.8092182555871306, 2.0775525011423435, -1.5584835913127093, 4.71803287603092, -3.34138766735268, 2.78737732606833, 4.406179439131908, 2.678689333744111, 2.31435248766807, -3.4276716280839725, 4.306431590331816, 0.7891516070506421, 0.5330951678748308, 2.079183751140823, 1.8899398137346646, -1.6113823324565013, 3.812309261683522, -1.5857683542149226, 2.364267205439563, 2.445241028121159, -0.3330522564559013, -3.1040805790470305, 5.4004894962004, -1.7736820848428203, 0.8647643926512405, 0.9586185132359315, -2.1592015853984403, 1.7822974358974397, -6.287030901962143, -2.540997510973564, 8.319750006681437, -0.016825486760474462, -1.871882025458349, -4.806199752479545, -0.24316505123893606, 6.331663792222653, 0.42204838551618273, 1.440618339260058, 0.2349716868025542, 3.5373025278027326, -0.1012332834460894, -0.14093011610738504, -1.764064381311059, 3.2945360148206593, 1.7571441011636546, 1.2124894262895536, 3.4148645205360317, -0.7314689893332837, 0.9253478409413596, 0.9755096922754891, 0.32123901702705293, 1.600325645509293, -0.22002324429279962, 1.816190720113342, 2.1442194213337817, 2.491865468615684, 1.0778423478777555, 5.219604060167038, -3.643589440088013, -2.738262637800837, 0.5544095491336609, 2.3575861881927285, -0.012132048624136083, 4.116160742968211, 2.8481126703292503, 0.587513090589109, -7.331810795942772, 1.5671973880285517, -10.164841497939436, 9.170117425244872, 3.040717603108156, 1.292962360892247, 3.4121735357783622, -6.783456243336761, 6.913607301939417, 0.30187591970312067, -1.807192038811578, 2.32828280986217, 1.8054864635815626, 2.958646151007227, 2.765078750265526, -0.59019568894072, -8.698069285842802, -13.10199232084479, 16.586732252864156, 6.10716170024983, 2.024167903335927, 5.31888133463605, 6.448700782636729, -4.118101619120484, -3.4233491538269933, 9.872882010730887, 3.022596731741989, -1.3379902717240433]}, {\"line\": {\"color\": \"magenta\", \"dash\": \"solid\", \"shape\": \"linear\", \"width\": 1.3}, \"marker\": {\"size\": 2.5, \"symbol\": \"diamond\"}, \"mode\": \"lines+markers\", \"name\": \"Vfinx Return\", \"text\": \"\", \"type\": \"scatter\", \"x\": [\"1985-02-28\", \"1985-03-31\", \"1985-04-30\", \"1985-05-31\", \"1985-06-30\", \"1985-07-31\", \"1985-08-31\", \"1985-09-30\", \"1985-10-31\", \"1985-11-30\", \"1985-12-31\", \"1986-01-31\", \"1986-02-28\", \"1986-03-31\", \"1986-04-30\", \"1986-05-31\", \"1986-06-30\", \"1986-07-31\", \"1986-08-31\", \"1986-09-30\", \"1986-10-31\", \"1986-11-30\", \"1986-12-31\", \"1987-01-31\", \"1987-02-28\", \"1987-03-31\", \"1987-04-30\", \"1987-05-31\", \"1987-06-30\", \"1987-07-31\", \"1987-08-31\", \"1987-09-30\", \"1987-10-31\", \"1987-11-30\", \"1987-12-31\", \"1988-01-31\", \"1988-02-29\", \"1988-03-31\", \"1988-04-30\", \"1988-05-31\", \"1988-06-30\", \"1988-07-31\", \"1988-08-31\", \"1988-09-30\", \"1988-10-31\", \"1988-11-30\", \"1988-12-31\", \"1989-01-31\", \"1989-02-28\", \"1989-03-31\", \"1989-04-30\", \"1989-05-31\", \"1989-06-30\", \"1989-07-31\", \"1989-08-31\", \"1989-09-30\", \"1989-10-31\", \"1989-11-30\", \"1989-12-31\", \"1990-01-31\", \"1990-02-28\", \"1990-03-31\", \"1990-04-30\", \"1990-05-31\", \"1990-06-30\", \"1990-07-31\", \"1990-08-31\", \"1990-09-30\", \"1990-10-31\", \"1990-11-30\", \"1990-12-31\", \"1991-01-31\", \"1991-02-28\", \"1991-03-31\", \"1991-04-30\", \"1991-05-31\", \"1991-06-30\", \"1991-07-31\", \"1991-08-31\", \"1991-09-30\", \"1991-10-31\", \"1991-11-30\", \"1991-12-31\", \"1992-01-31\", \"1992-02-29\", \"1992-03-31\", \"1992-04-30\", \"1992-05-31\", \"1992-06-30\", \"1992-07-31\", \"1992-08-31\", \"1992-09-30\", \"1992-10-31\", \"1992-11-30\", \"1992-12-31\", \"1993-01-31\", \"1993-02-28\", \"1993-03-31\", \"1993-04-30\", \"1993-05-31\", \"1993-06-30\", \"1993-07-31\", \"1993-08-31\", \"1993-09-30\", \"1993-10-31\", \"1993-11-30\", \"1993-12-31\", \"1994-01-31\", \"1994-02-28\", \"1994-03-31\", \"1994-04-30\", \"1994-05-31\", \"1994-06-30\", \"1994-07-31\", \"1994-08-31\", \"1994-09-30\", \"1994-10-31\", \"1994-11-30\", \"1994-12-31\", \"1995-01-31\", \"1995-02-28\", \"1995-03-31\", \"1995-04-30\", \"1995-05-31\", \"1995-06-30\", \"1995-07-31\", \"1995-08-31\", \"1995-09-30\", \"1995-10-31\", \"1995-11-30\", \"1995-12-31\", \"1996-01-31\", \"1996-02-29\", \"1996-03-31\", \"1996-04-30\", \"1996-05-31\", \"1996-06-30\", \"1996-07-31\", \"1996-08-31\", \"1996-09-30\", \"1996-10-31\", \"1996-11-30\", \"1996-12-31\", \"1997-01-31\", \"1997-02-28\", \"1997-03-31\", \"1997-04-30\", \"1997-05-31\", \"1997-06-30\", \"1997-07-31\", \"1997-08-31\", \"1997-09-30\", \"1997-10-31\", \"1997-11-30\", \"1997-12-31\", \"1998-01-31\", \"1998-02-28\", \"1998-03-31\", \"1998-04-30\", \"1998-05-31\", \"1998-06-30\", \"1998-07-31\", \"1998-08-31\", \"1998-09-30\", \"1998-10-31\", \"1998-11-30\", \"1998-12-31\", \"1999-01-31\", \"1999-02-28\", \"1999-03-31\", \"1999-04-30\", \"1999-05-31\", \"1999-06-30\", \"1999-07-31\", \"1999-08-31\", \"1999-09-30\", \"1999-10-31\", \"1999-11-30\", \"1999-12-31\", \"2000-01-31\", \"2000-02-29\", \"2000-03-31\", \"2000-04-30\", \"2000-05-31\", \"2000-06-30\", \"2000-07-31\", \"2000-08-31\", \"2000-09-30\", \"2000-10-31\", \"2000-11-30\", \"2000-12-31\", \"2001-01-31\", \"2001-02-28\", \"2001-03-31\", \"2001-04-30\", \"2001-05-31\", \"2001-06-30\", \"2001-07-31\", \"2001-08-31\", \"2001-09-30\", \"2001-10-31\", \"2001-11-30\", \"2001-12-31\", \"2002-01-31\", \"2002-02-28\", \"2002-03-31\", \"2002-04-30\", \"2002-05-31\", \"2002-06-30\", \"2002-07-31\", \"2002-08-31\", \"2002-09-30\", \"2002-10-31\", \"2002-11-30\", \"2002-12-31\", \"2003-01-31\", \"2003-02-28\", \"2003-03-31\", \"2003-04-30\", \"2003-05-31\", \"2003-06-30\", \"2003-07-31\", \"2003-08-31\", \"2003-09-30\", \"2003-10-31\", \"2003-11-30\", \"2003-12-31\", \"2004-01-31\", \"2004-02-29\", \"2004-03-31\", \"2004-04-30\", \"2004-05-31\", \"2004-06-30\", \"2004-07-31\", \"2004-08-31\", \"2004-09-30\", \"2004-10-31\", \"2004-11-30\", \"2004-12-31\", \"2005-01-31\", \"2005-02-28\", \"2005-03-31\", \"2005-04-30\", \"2005-05-31\", \"2005-06-30\", \"2005-07-31\", \"2005-08-31\", \"2005-09-30\", \"2005-10-31\", \"2005-11-30\", \"2005-12-31\", \"2006-01-31\", \"2006-02-28\", \"2006-03-31\", \"2006-04-30\", \"2006-05-31\", \"2006-06-30\", \"2006-07-31\", \"2006-08-31\", \"2006-09-30\", \"2006-10-31\", \"2006-11-30\", \"2006-12-31\", \"2007-01-31\", \"2007-02-28\", \"2007-03-31\", \"2007-04-30\", \"2007-05-31\", \"2007-06-30\", \"2007-07-31\", \"2007-08-31\", \"2007-09-30\", \"2007-10-31\", \"2007-11-30\", \"2007-12-31\", \"2008-01-31\", \"2008-02-29\", \"2008-03-31\", \"2008-04-30\", \"2008-05-31\", \"2008-06-30\", \"2008-07-31\", \"2008-08-31\", \"2008-09-30\", \"2008-10-31\", \"2008-11-30\", \"2008-12-31\", \"2009-01-31\", \"2009-02-28\", \"2009-03-31\", \"2009-04-30\", \"2009-05-31\", \"2009-06-30\", \"2009-07-31\", \"2009-08-31\", \"2009-09-30\", \"2009-10-31\", \"2009-11-30\", \"2009-12-31\", \"2010-01-31\", \"2010-02-28\", \"2010-03-31\", \"2010-04-30\", \"2010-05-31\", \"2010-06-30\", \"2010-07-31\", \"2010-08-31\", \"2010-09-30\", \"2010-10-31\", \"2010-11-30\", \"2010-12-31\", \"2011-01-31\", \"2011-02-28\", \"2011-03-31\", \"2011-04-30\", \"2011-05-31\", \"2011-06-30\", \"2011-07-31\", \"2011-08-31\", \"2011-09-30\", \"2011-10-31\", \"2011-11-30\", \"2011-12-31\", \"2012-01-31\", \"2012-02-29\", \"2012-03-31\", \"2012-04-30\", \"2012-05-31\", \"2012-06-30\", \"2012-07-31\", \"2012-08-31\", \"2012-09-30\", \"2012-10-31\", \"2012-11-30\", \"2012-12-31\", \"2013-01-31\", \"2013-02-28\", \"2013-03-31\", \"2013-04-30\", \"2013-05-31\", \"2013-06-30\", \"2013-07-31\", \"2013-08-31\", \"2013-09-30\", \"2013-10-31\", \"2013-11-30\", \"2013-12-31\", \"2014-01-31\", \"2014-02-28\", \"2014-03-31\", \"2014-04-30\", \"2014-05-31\", \"2014-06-30\", \"2014-07-31\", \"2014-08-31\", \"2014-09-30\", \"2014-10-31\", \"2014-11-30\", \"2014-12-31\", \"2015-01-31\", \"2015-02-28\", \"2015-03-31\", \"2015-04-30\", \"2015-05-31\", \"2015-06-30\", \"2015-07-31\", \"2015-08-31\", \"2015-09-30\", \"2015-10-31\", \"2015-11-30\", \"2015-12-31\", \"2016-01-31\", \"2016-02-29\", \"2016-03-31\", \"2016-04-30\", \"2016-05-31\", \"2016-06-30\", \"2016-07-31\", \"2016-08-31\", \"2016-09-30\", \"2016-10-31\", \"2016-11-30\", \"2016-12-31\", \"2017-01-31\", \"2017-02-28\", \"2017-03-31\", \"2017-04-30\", \"2017-05-31\", \"2017-06-30\", \"2017-07-31\", \"2017-08-31\", \"2017-09-30\", \"2017-10-31\", \"2017-11-30\", \"2017-12-31\", \"2018-01-31\", \"2018-02-28\", \"2018-03-31\", \"2018-04-30\", \"2018-05-31\", \"2018-06-30\", \"2018-07-31\", \"2018-08-31\", \"2018-09-30\", \"2018-10-31\", \"2018-11-30\", \"2018-12-31\", \"2019-01-31\", \"2019-02-28\", \"2019-03-31\", \"2019-04-30\", \"2019-05-31\", \"2019-06-30\", \"2019-07-31\", \"2019-08-31\", \"2019-09-30\", \"2019-10-31\", \"2019-11-30\", \"2019-12-31\", \"2020-01-31\", \"2020-02-29\", \"2020-03-31\", \"2020-04-30\", \"2020-05-31\", \"2020-06-30\", \"2020-07-31\", \"2020-08-31\", \"2020-09-30\", \"2020-10-31\", \"2020-11-30\", \"2020-12-31\", \"2021-01-31\"], \"y\": [1.3809613415549205, -0.8454877092284763, 0.5712950262662053, 6.03327349759708, 0.6272047766660682, 0.5791559703768989, -0.6693762049297058, -3.9532616614361804, 5.279698214032202, 6.9444293800256185, -3.6865715459937998, 1.9717807167298984, 7.579064516126088, 4.750357079328116, -0.6578244716347825, 5.453778551874033, 0.9974012373828778, -5.116366197191724, 7.450489474923971, -8.956335172770613, 6.391722067547589, 2.553539823420947, -11.131486834197634, 14.864035474301463, 3.96510766935394, 2.239256994009997, -0.4011487059759733, 1.0369334217409154, 4.413336777709453, 5.5272690484510445, 3.841465416884704, -2.827111502746582, -21.288630798683684, -8.18506180836993, 6.158460300387092, 4.036457899529822, 5.374253110574778, -3.7134285822928215, 1.7236781675027624, 0.8098549314198289, 3.8638221589642363, 0.30336487611064555, -3.401154665365591, 3.559106063338935, 3.4275671926948137, -1.4748354906003902, -0.7667074810139507, 8.769186495442515, -2.468227032249215, 1.019318463225205, 5.846628335936721, 4.0357204578520545, -1.1446724486905868, 9.617159019419352, 1.8589720237034868, -0.9270118191382015, -1.8177182487035592, 2.0359717063580307, -1.2911110996015385, -4.895107120082742, 1.2746995711970799, 1.8879774471041388, -1.9628515138431113, 9.692763854693997, -1.1839596851582423, 0.18224499737535815, -9.03228050449999, -5.480329678229657, 0.19751479092862123, 6.438335384630278, 0.5148598222540546, 6.4504281390219464, 7.116548394961009, 1.6895973399161823, 0.7026084021356738, 4.272030430705831, -5.0403305666770315, 5.16079536646552, 2.333178006169412, -2.1473907482822185, 1.8230163274365774, -4.010700238094788, 9.49860716906783, -0.28982188152536503, 1.2441304311163526, -2.483313862004255, 3.5031470502919326, 0.48468343245564594, -2.0563645484947046, 4.643483710079277, -2.0677335601558933, 0.610512989260914, 0.8878153428073521, 3.4022139264590745, 0.5605490980752359, 1.2094277452026736, 1.355900731942672, 1.5050187415662997, -1.915551617686595, 2.6531683410062845, -0.25842230479694583, 0.09777228776131075, 3.785261533632922, -1.2992706065155568, 2.604265702056918, -0.9955252512625967, 0.1599904023833032, 4.4749967113525635, -2.714644067921035, -5.036325865805235, 1.7955719598877318, 1.6037509154593899, -2.948016255904906, 3.8121283868050693, 4.075948106620086, -2.937284670050122, 2.7621571877291418, -3.6546906255901623, 0.0, 3.7892176199622707, 3.8793055643776553, 2.467762257455175, 3.4296969499326035, 3.954428546814004, 1.8721676917764052, 3.748402479438373, 0.26494427879473204, 3.7939526027294557, 0.036980664873320634, 4.380368638824006, 0.7169040841638941, 4.397937578355093, 0.9235651697243163, 0.5491507090493508, 1.8229398270291242, 2.544368151336762, 0.03184524181285564, -4.085072364698783, 2.0961778271751497, 5.2468701709359244, 3.106863458369258, 7.5636942067395685, -3.123751619346493, 7.175706775450941, 0.7894523504035078, -4.537459490161455, 6.34278840537168, 6.0881612094759285, 4.115303447911867, 8.313593529393382, -5.609045820538261, 5.147690776271618, -3.057294479632089, 4.598562132247475, 0.5020986219671508, 1.6894586639604192, 7.192285153367872, 4.701850645914507, 1.2745773694826878, -1.7435482665707935, 3.805196422649093, -0.7993055405375316, -14.473561304009586, 6.11599992774654, 8.465503089568083, 6.071561288281457, 5.032736573415586, 4.688566798292659, -3.124495297944463, 3.3643921628987217, 4.086275394317118, -2.3890741003234517, 5.226962591294182, -2.827333335591109, -0.4964972439095994, -3.026551678873135, 6.641031089239147, 2.022973797250738, 5.233280658143147, -4.7389440681120165, -1.9063411716820688, 9.526469492726509, -2.7987136860988637, -2.0383648868524618, 2.248506606917977, -1.2628261054538514, 6.189997199088815, -5.515617103516057, -0.19160128781141594, -7.8775661201848095, 0.19731271592480226, 3.8707442071284515, -9.137746722653727, -6.611411565008407, 8.059244695683287, 0.6499111790224665, -2.6863524284742035, -0.7570241430274405, -6.273994986418863, -8.41997421253009, 2.2540880599752677, 7.6537881762447135, 0.5125726755228266, -1.117758237836386, -1.9361561244870984, 3.4600460656805554, -5.81866688894348, -0.7543892432401944, -7.4388876944262545, -7.420973924894458, 0.652601314684631, -11.281376922486608, 9.265234417017009, 6.156098885279704, -6.6274857445164255, -2.1262498103261973, -1.518549171637651, 0.5782195545660285, 8.658652686424094, 5.263819205329856, 0.9305781998442786, 2.0763900684802383, 1.9324892866552368, -1.4567295957204962, 6.051779204657404, 0.8642443840141789, 4.733280406406037, 2.295272629015477, 1.3774675615407128, -1.8588758489463397, -1.2307820142275605, 1.3578746903166072, 1.5901684039822506, -2.989664896254096, 0.3826394747792117, 0.664602303504469, 1.9212484359511617, 4.045907234375878, 2.629197964427954, -1.7275546528347063, 2.09363535048519, -2.1496574503741317, -1.5210756859878494, 3.1674523197411375, -0.2543672975220068, 4.100048739921536, -0.9131987047844015, 0.31904434578824414, -1.2126358293453765, 3.7645980873080465, -0.49358272934955094, 3.177873697016098, 0.25430370631260857, 0.8286793235941392, 1.7466041562405277, -2.896590348776018, -0.2898252531256751, 1.027942039763441, 2.3619300611866123, 2.124836303847366, 3.6932949996981046, 1.8813114510225715, 0.8962300403801082, 2.0012349818748554, -1.969228933179068, 0.6927079012070791, 4.852822852764249, 3.4770483854079437, -2.072724361285261, -2.69764741088393, 1.4983108921961197, 3.2682257710060503, 2.0291404023718096, -4.186765444468277, -1.242274415786715, -5.490733207663878, -3.2514510810511266, -0.9276805220011952, 5.372233324452913, 1.2845724369356493, -8.877895633384947, -0.36718888865907573, 1.446309893417852, -9.422961326180202, -16.30815732212224, -7.174882889619861, 0.19294224024120066, -7.6091692914576186, -10.65700608373622, 8.015848810759053, 10.331337001055063, 5.6177093489412355, -0.30592996589530186, 8.146615528420288, 3.5989160177352764, 3.20906219492334, -1.376185351312309, 5.981364684602819, 1.3024076935753248, -2.991066943831655, 3.091847513892998, 5.586615078534352, 1.991134427419805, -7.995950624485215, -5.731043729327734, 7.542346648511145, -4.529800427986896, 8.365167445749844, 4.314233870325079, 0.0, 6.21789871144145, 2.7933426445593046, 3.41629403261845, -0.3915398349339072, 3.383087825990083, -1.1454156118673287, -2.1161620480114607, -1.6039147628036154, -5.446434101793107, -7.535273314186353, 11.485867201196353, -0.233633214550244, 0.4510504308220531, 5.058839691592887, 4.306818369481724, 2.853059538631908, -0.22443498909880955, -6.017833915947756, 3.597665118787563, 1.8738795363034466, 2.2393474415737025, 2.082689394458237, -1.3848112642234733, 0.5599538909272006, 0.21361198037621598, 5.892244845869454, 1.3388905055939704, 3.2781083832997604, 2.359287615599759, 2.327460211321797, -1.8170006266454708, 5.572743035297423, -2.9118883593752143, 2.6350850884301558, 5.078739203897675, 3.0284134357106973, 1.987562536579368, -2.96837217520477, 4.560634142667874, 0.39550242600348007, 1.1525941108137427, 2.3348929122021023, 1.624178553224187, -0.9722125927827618, 3.987203460601041, -1.8551319270492916, 2.879213088407262, 2.682403948540335, -0.7889304418434717, -2.488938300629273, 5.73381439888494, -2.0643675251002525, 1.4386551515689794, 1.2726072950754341, -2.3644874447936393, 2.529062358877887, -6.041565343734801, -2.979520148275361, 8.960824542143753, 0.28639199136006877, -2.1442366092965015, -4.450552905072791, -0.14518906202245496, 6.234638261593206, 0.8869189388406307, 1.7829321804941678, -0.22154208261414565, 4.169128737781014, 0.1295068796343335, -0.4178105623771855, -1.4069559086304362, 3.699035562546027, 1.3541929163629174, 2.4932239022306124, 3.962727538779598, -0.3427717327142865, 1.4614254745918043, 1.393727945488843, 0.18357981384173883, 2.4782074481019656, 0.29343513905082386, 1.5634174243059462, 2.817498909471139, 3.0593420581845665, 0.6442747303172291, 6.193110004765479, -3.6984379569731884, -2.968914583761917, 0.7960531579347618, 2.3945690205223524, 0.1636168202534538, 4.162294039401893, 3.2462711939082123, 0.1264976834878917, -6.451545993631081, 2.026656143146144, -9.50184668692281, 8.54265384700248, 3.2005214199599674, 1.3955676425583485, 4.594624674857406, -6.3646061953390065, 6.514657310879346, 1.9188331473656284, -1.5911024622475733, 1.4064280987466482, 2.6136897248994373, 3.620432397944917, 2.534461418855738, 0.41109580297642445, -8.241331904838045, -12.755538389537824, 13.271938857044695, 4.755886687670485, 1.4825873053869953, 6.1299494455465675, 7.401888650397859, -4.393228829944418, -2.2769897317818533, 10.935639766428684, 3.4410728321334405, -0.6421049619809827]}],                        {\"legend\": {\"bgcolor\": \"#F5F6F9\", \"font\": {\"color\": \"#4D5663\"}}, \"paper_bgcolor\": \"#F5F6F9\", \"plot_bgcolor\": \"#F5F6F9\", \"template\": {\"data\": {\"bar\": [{\"error_x\": {\"color\": \"#2a3f5f\"}, \"error_y\": {\"color\": \"#2a3f5f\"}, \"marker\": {\"line\": {\"color\": \"#E5ECF6\", \"width\": 0.5}}, \"type\": \"bar\"}], \"barpolar\": [{\"marker\": {\"line\": {\"color\": \"#E5ECF6\", \"width\": 0.5}}, \"type\": \"barpolar\"}], \"carpet\": [{\"aaxis\": {\"endlinecolor\": \"#2a3f5f\", \"gridcolor\": \"white\", \"linecolor\": \"white\", \"minorgridcolor\": \"white\", \"startlinecolor\": \"#2a3f5f\"}, \"baxis\": {\"endlinecolor\": \"#2a3f5f\", \"gridcolor\": \"white\", \"linecolor\": \"white\", \"minorgridcolor\": \"white\", \"startlinecolor\": \"#2a3f5f\"}, \"type\": \"carpet\"}], \"choropleth\": [{\"colorbar\": {\"outlinewidth\": 0, \"ticks\": \"\"}, \"type\": \"choropleth\"}], \"contour\": [{\"colorbar\": {\"outlinewidth\": 0, \"ticks\": \"\"}, \"colorscale\": [[0.0, \"#0d0887\"], [0.1111111111111111, \"#46039f\"], [0.2222222222222222, \"#7201a8\"], [0.3333333333333333, \"#9c179e\"], [0.4444444444444444, \"#bd3786\"], [0.5555555555555556, \"#d8576b\"], [0.6666666666666666, \"#ed7953\"], [0.7777777777777778, \"#fb9f3a\"], [0.8888888888888888, \"#fdca26\"], [1.0, \"#f0f921\"]], \"type\": \"contour\"}], \"contourcarpet\": [{\"colorbar\": {\"outlinewidth\": 0, \"ticks\": \"\"}, \"type\": \"contourcarpet\"}], \"heatmap\": [{\"colorbar\": {\"outlinewidth\": 0, \"ticks\": \"\"}, \"colorscale\": [[0.0, \"#0d0887\"], [0.1111111111111111, \"#46039f\"], [0.2222222222222222, \"#7201a8\"], [0.3333333333333333, \"#9c179e\"], [0.4444444444444444, \"#bd3786\"], [0.5555555555555556, \"#d8576b\"], [0.6666666666666666, \"#ed7953\"], [0.7777777777777778, \"#fb9f3a\"], [0.8888888888888888, \"#fdca26\"], [1.0, \"#f0f921\"]], \"type\": \"heatmap\"}], \"heatmapgl\": [{\"colorbar\": {\"outlinewidth\": 0, \"ticks\": \"\"}, \"colorscale\": [[0.0, \"#0d0887\"], [0.1111111111111111, \"#46039f\"], [0.2222222222222222, \"#7201a8\"], [0.3333333333333333, \"#9c179e\"], [0.4444444444444444, \"#bd3786\"], [0.5555555555555556, \"#d8576b\"], [0.6666666666666666, \"#ed7953\"], [0.7777777777777778, \"#fb9f3a\"], [0.8888888888888888, \"#fdca26\"], [1.0, \"#f0f921\"]], \"type\": \"heatmapgl\"}], \"histogram\": [{\"marker\": {\"colorbar\": {\"outlinewidth\": 0, \"ticks\": \"\"}}, \"type\": \"histogram\"}], \"histogram2d\": [{\"colorbar\": {\"outlinewidth\": 0, \"ticks\": \"\"}, \"colorscale\": [[0.0, \"#0d0887\"], [0.1111111111111111, \"#46039f\"], [0.2222222222222222, \"#7201a8\"], [0.3333333333333333, \"#9c179e\"], [0.4444444444444444, \"#bd3786\"], [0.5555555555555556, \"#d8576b\"], [0.6666666666666666, \"#ed7953\"], [0.7777777777777778, \"#fb9f3a\"], [0.8888888888888888, \"#fdca26\"], [1.0, \"#f0f921\"]], \"type\": \"histogram2d\"}], \"histogram2dcontour\": [{\"colorbar\": {\"outlinewidth\": 0, \"ticks\": \"\"}, \"colorscale\": [[0.0, \"#0d0887\"], [0.1111111111111111, \"#46039f\"], [0.2222222222222222, \"#7201a8\"], [0.3333333333333333, \"#9c179e\"], [0.4444444444444444, \"#bd3786\"], [0.5555555555555556, \"#d8576b\"], [0.6666666666666666, \"#ed7953\"], [0.7777777777777778, \"#fb9f3a\"], [0.8888888888888888, \"#fdca26\"], [1.0, \"#f0f921\"]], \"type\": \"histogram2dcontour\"}], \"mesh3d\": [{\"colorbar\": {\"outlinewidth\": 0, \"ticks\": \"\"}, \"type\": \"mesh3d\"}], \"parcoords\": [{\"line\": {\"colorbar\": {\"outlinewidth\": 0, \"ticks\": \"\"}}, \"type\": \"parcoords\"}], \"pie\": [{\"automargin\": true, \"type\": \"pie\"}], \"scatter\": [{\"marker\": {\"colorbar\": {\"outlinewidth\": 0, \"ticks\": \"\"}}, \"type\": \"scatter\"}], \"scatter3d\": [{\"line\": {\"colorbar\": {\"outlinewidth\": 0, \"ticks\": \"\"}}, \"marker\": {\"colorbar\": {\"outlinewidth\": 0, \"ticks\": \"\"}}, \"type\": \"scatter3d\"}], \"scattercarpet\": [{\"marker\": {\"colorbar\": {\"outlinewidth\": 0, \"ticks\": \"\"}}, \"type\": \"scattercarpet\"}], \"scattergeo\": [{\"marker\": {\"colorbar\": {\"outlinewidth\": 0, \"ticks\": \"\"}}, \"type\": \"scattergeo\"}], \"scattergl\": [{\"marker\": {\"colorbar\": {\"outlinewidth\": 0, \"ticks\": \"\"}}, \"type\": \"scattergl\"}], \"scattermapbox\": [{\"marker\": {\"colorbar\": {\"outlinewidth\": 0, \"ticks\": \"\"}}, \"type\": \"scattermapbox\"}], \"scatterpolar\": [{\"marker\": {\"colorbar\": {\"outlinewidth\": 0, \"ticks\": \"\"}}, \"type\": \"scatterpolar\"}], \"scatterpolargl\": [{\"marker\": {\"colorbar\": {\"outlinewidth\": 0, \"ticks\": \"\"}}, \"type\": \"scatterpolargl\"}], \"scatterternary\": [{\"marker\": {\"colorbar\": {\"outlinewidth\": 0, \"ticks\": \"\"}}, \"type\": \"scatterternary\"}], \"surface\": [{\"colorbar\": {\"outlinewidth\": 0, \"ticks\": \"\"}, \"colorscale\": [[0.0, \"#0d0887\"], [0.1111111111111111, \"#46039f\"], [0.2222222222222222, \"#7201a8\"], [0.3333333333333333, \"#9c179e\"], [0.4444444444444444, \"#bd3786\"], [0.5555555555555556, \"#d8576b\"], [0.6666666666666666, \"#ed7953\"], [0.7777777777777778, \"#fb9f3a\"], [0.8888888888888888, \"#fdca26\"], [1.0, \"#f0f921\"]], \"type\": \"surface\"}], \"table\": [{\"cells\": {\"fill\": {\"color\": \"#EBF0F8\"}, \"line\": {\"color\": \"white\"}}, \"header\": {\"fill\": {\"color\": \"#C8D4E3\"}, \"line\": {\"color\": \"white\"}}, \"type\": \"table\"}]}, \"layout\": {\"annotationdefaults\": {\"arrowcolor\": \"#2a3f5f\", \"arrowhead\": 0, \"arrowwidth\": 1}, \"autotypenumbers\": \"strict\", \"coloraxis\": {\"colorbar\": {\"outlinewidth\": 0, \"ticks\": \"\"}}, \"colorscale\": {\"diverging\": [[0, \"#8e0152\"], [0.1, \"#c51b7d\"], [0.2, \"#de77ae\"], [0.3, \"#f1b6da\"], [0.4, \"#fde0ef\"], [0.5, \"#f7f7f7\"], [0.6, \"#e6f5d0\"], [0.7, \"#b8e186\"], [0.8, \"#7fbc41\"], [0.9, \"#4d9221\"], [1, \"#276419\"]], \"sequential\": [[0.0, \"#0d0887\"], [0.1111111111111111, \"#46039f\"], [0.2222222222222222, \"#7201a8\"], [0.3333333333333333, \"#9c179e\"], [0.4444444444444444, \"#bd3786\"], [0.5555555555555556, \"#d8576b\"], [0.6666666666666666, \"#ed7953\"], [0.7777777777777778, \"#fb9f3a\"], [0.8888888888888888, \"#fdca26\"], [1.0, \"#f0f921\"]], \"sequentialminus\": [[0.0, \"#0d0887\"], [0.1111111111111111, \"#46039f\"], [0.2222222222222222, \"#7201a8\"], [0.3333333333333333, \"#9c179e\"], [0.4444444444444444, \"#bd3786\"], [0.5555555555555556, \"#d8576b\"], [0.6666666666666666, \"#ed7953\"], [0.7777777777777778, \"#fb9f3a\"], [0.8888888888888888, \"#fdca26\"], [1.0, \"#f0f921\"]]}, \"colorway\": [\"#636efa\", \"#EF553B\", \"#00cc96\", \"#ab63fa\", \"#FFA15A\", \"#19d3f3\", \"#FF6692\", \"#B6E880\", \"#FF97FF\", \"#FECB52\"], \"font\": {\"color\": \"#2a3f5f\"}, \"geo\": {\"bgcolor\": \"white\", \"lakecolor\": \"white\", \"landcolor\": \"#E5ECF6\", \"showlakes\": true, \"showland\": true, \"subunitcolor\": \"white\"}, \"hoverlabel\": {\"align\": \"left\"}, \"hovermode\": \"closest\", \"mapbox\": {\"style\": \"light\"}, \"paper_bgcolor\": \"white\", \"plot_bgcolor\": \"#E5ECF6\", \"polar\": {\"angularaxis\": {\"gridcolor\": \"white\", \"linecolor\": \"white\", \"ticks\": \"\"}, \"bgcolor\": \"#E5ECF6\", \"radialaxis\": {\"gridcolor\": \"white\", \"linecolor\": \"white\", \"ticks\": \"\"}}, \"scene\": {\"xaxis\": {\"backgroundcolor\": \"#E5ECF6\", \"gridcolor\": \"white\", \"gridwidth\": 2, \"linecolor\": \"white\", \"showbackground\": true, \"ticks\": \"\", \"zerolinecolor\": \"white\"}, \"yaxis\": {\"backgroundcolor\": \"#E5ECF6\", \"gridcolor\": \"white\", \"gridwidth\": 2, \"linecolor\": \"white\", \"showbackground\": true, \"ticks\": \"\", \"zerolinecolor\": \"white\"}, \"zaxis\": {\"backgroundcolor\": \"#E5ECF6\", \"gridcolor\": \"white\", \"gridwidth\": 2, \"linecolor\": \"white\", \"showbackground\": true, \"ticks\": \"\", \"zerolinecolor\": \"white\"}}, \"shapedefaults\": {\"line\": {\"color\": \"#2a3f5f\"}}, \"ternary\": {\"aaxis\": {\"gridcolor\": \"white\", \"linecolor\": \"white\", \"ticks\": \"\"}, \"baxis\": {\"gridcolor\": \"white\", \"linecolor\": \"white\", \"ticks\": \"\"}, \"bgcolor\": \"#E5ECF6\", \"caxis\": {\"gridcolor\": \"white\", \"linecolor\": \"white\", \"ticks\": \"\"}}, \"title\": {\"x\": 0.05}, \"xaxis\": {\"automargin\": true, \"gridcolor\": \"white\", \"linecolor\": \"white\", \"ticks\": \"\", \"title\": {\"standoff\": 15}, \"zerolinecolor\": \"white\", \"zerolinewidth\": 2}, \"yaxis\": {\"automargin\": true, \"gridcolor\": \"white\", \"linecolor\": \"white\", \"ticks\": \"\", \"title\": {\"standoff\": 15}, \"zerolinecolor\": \"white\", \"zerolinewidth\": 2}}}, \"title\": {\"font\": {\"color\": \"#4D5663\"}, \"text\": \"Return Comparison\"}, \"xaxis\": {\"gridcolor\": \"#E1E5ED\", \"showgrid\": true, \"tickfont\": {\"color\": \"#4D5663\"}, \"title\": {\"font\": {\"color\": \"#4D5663\"}, \"text\": \"Date\"}, \"zerolinecolor\": \"#E1E5ED\"}, \"yaxis\": {\"gridcolor\": \"#E1E5ED\", \"showgrid\": true, \"tickfont\": {\"color\": \"#4D5663\"}, \"title\": {\"font\": {\"color\": \"#4D5663\"}, \"text\": \"Returns\"}, \"zerolinecolor\": \"#E1E5ED\"}},                        {\"responsive\": true}                    ).then(function(){\n",
       "                            \n",
       "var gd = document.getElementById('9fbe3e9d-42c9-47e3-b4a0-27a984ae6f4a');\n",
       "var x = new MutationObserver(function (mutations, observer) {{\n",
       "        var display = window.getComputedStyle(gd).display;\n",
       "        if (!display || display === 'none') {{\n",
       "            console.log([gd, 'removed!']);\n",
       "            Plotly.purge(gd);\n",
       "            observer.disconnect();\n",
       "        }}\n",
       "}});\n",
       "\n",
       "// Listen for the removal of the full notebook cells\n",
       "var notebookContainer = gd.closest('#notebook-container');\n",
       "if (notebookContainer) {{\n",
       "    x.observe(notebookContainer, {childList: true});\n",
       "}}\n",
       "\n",
       "// Listen for the clearing of the current output cell\n",
       "var outputEl = gd.closest('.output');\n",
       "if (outputEl) {{\n",
       "    x.observe(outputEl, {childList: true});\n",
       "}}\n",
       "\n",
       "                        })                };                });            </script>        </div>"
      ]
     },
     "metadata": {},
     "output_type": "display_data"
    }
   ],
   "source": [
    "vfinx_return = df_n.set_index('Date')\n",
    "return_df = pd.merge(vfinx_return,gspc,on = 'Date')\n",
    "return_df = return_df[['R','RF','Percent Return']]\n",
    "return_df.columns = ['Vfinx Return','RF Return','S&P 500 Returns']\n",
    "plyo.iplot(  \n",
    "    return_df[['Vfinx Return','RF Return']].iplot(asFigure=True,\n",
    "                    title='Return Comparison',  \n",
    "                     xTitle='Date',  \n",
    "                     yTitle='Returns',\n",
    "                    mode={'Vfinx Return': 'lines+markers','RF Return' : 'lines+markers'},  \n",
    "             symbol={'Vfinx Return': 'circle', 'RF Return' : 'diamond'},  \n",
    "             size=2.5,  \n",
    "             colors={'Vfinx Return': 'red', 'RF Return' : 'blue'}, ),)\n",
    "plyo.iplot(  \n",
    "    return_df[['S&P 500 Returns','RF Return']].iplot(asFigure=True,\n",
    "                    title='Return Comparison',  \n",
    "                     xTitle='Date',  \n",
    "                     yTitle='Returns',\n",
    "                    mode={'S&P 500 Returns': 'lines+markers','RF Return' : 'lines+markers'},  \n",
    "             symbol={'S&P 500 Returns': 'circle', 'RF Return' : 'diamond'},  \n",
    "             size=2.5,  \n",
    "             colors={'S&P 500 Returns': 'orange', 'RF Return' : 'green'}, ),)\n",
    "plyo.iplot(  \n",
    "    return_df[['S&P 500 Returns','Vfinx Return']].iplot(asFigure=True,\n",
    "                    title='Return Comparison',  \n",
    "                     xTitle='Date',  \n",
    "                     yTitle='Returns',\n",
    "                    mode={'S&P 500 Returns': 'lines+markers','Vfinx Return' : 'lines+markers'},  \n",
    "             symbol={'S&P 500 Returns': 'circle', 'Vfinx Return' : 'diamond'},  \n",
    "             size=2.5,  \n",
    "             colors={'S&P 500 Returns': 'blue', 'Vfinx Return' : 'magenta'}, ),)\n"
   ]
  },
  {
   "cell_type": "code",
   "execution_count": 22,
   "metadata": {},
   "outputs": [
    {
     "name": "stdout",
     "output_type": "stream",
     "text": [
      "Vfinx vs RF =  0.009056596806044984 S&P 500 vs RF =  0.02266933800486516 S&P 500 vs VFINX =  0.9826043213828569\n"
     ]
    }
   ],
   "source": [
    "vfinx_rf_corr = return_df['Vfinx Return'].corr(return_df['RF Return'])\n",
    "sp500_rf_corr = return_df['S&P 500 Returns'].corr(return_df['RF Return'])\n",
    "sp500_vfinx_corr = return_df['Vfinx Return'].corr(return_df['S&P 500 Returns'])\n",
    "print('Vfinx vs RF = ',vfinx_rf_corr, 'S&P 500 vs RF = ',sp500_rf_corr,'S&P 500 vs VFINX = ',sp500_vfinx_corr)"
   ]
  },
  {
   "cell_type": "markdown",
   "metadata": {},
   "source": [
    "# Table Generation"
   ]
  },
  {
   "cell_type": "markdown",
   "metadata": {},
   "source": [
    "We have also printed tables that would further convince Louise that the naive strategy would have been more lucrative than her strategy. We start by showing her how much money she would have today compared to what she has today.\n"
   ]
  },
  {
   "cell_type": "markdown",
   "metadata": {},
   "source": [
    "If she followed the naive strategy blindly, she would have approximately 1,875,345 assuming that she invests $ 500 in the beginning of every month. Based on her strategy she has approximately 1,662,784 today. So, following the naive strategy she would have approximately 212,561 more which is almost 13 % more than her current portfolio."
   ]
  },
  {
   "cell_type": "code",
   "execution_count": 23,
   "metadata": {},
   "outputs": [
    {
     "data": {
      "text/html": [
       "<div>\n",
       "<style scoped>\n",
       "    .dataframe tbody tr th:only-of-type {\n",
       "        vertical-align: middle;\n",
       "    }\n",
       "\n",
       "    .dataframe tbody tr th {\n",
       "        vertical-align: top;\n",
       "    }\n",
       "\n",
       "    .dataframe thead th {\n",
       "        text-align: right;\n",
       "    }\n",
       "</style>\n",
       "<table border=\"1\" class=\"dataframe\">\n",
       "  <thead>\n",
       "    <tr style=\"text-align: right;\">\n",
       "      <th></th>\n",
       "      <th>Louise Portfolio</th>\n",
       "      <th>Naive Portfolio</th>\n",
       "    </tr>\n",
       "    <tr>\n",
       "      <th>Date</th>\n",
       "      <th></th>\n",
       "      <th></th>\n",
       "    </tr>\n",
       "  </thead>\n",
       "  <tbody>\n",
       "    <tr>\n",
       "      <th>2020-09-30</th>\n",
       "      <td>1531557.0</td>\n",
       "      <td>1681263.0</td>\n",
       "    </tr>\n",
       "    <tr>\n",
       "      <th>2020-10-31</th>\n",
       "      <td>1497172.0</td>\n",
       "      <td>1643481.0</td>\n",
       "    </tr>\n",
       "    <tr>\n",
       "      <th>2020-11-30</th>\n",
       "      <td>1661452.0</td>\n",
       "      <td>1823706.0</td>\n",
       "    </tr>\n",
       "    <tr>\n",
       "      <th>2020-12-31</th>\n",
       "      <td>1662118.0</td>\n",
       "      <td>1886961.0</td>\n",
       "    </tr>\n",
       "    <tr>\n",
       "      <th>2021-01-31</th>\n",
       "      <td>1662784.0</td>\n",
       "      <td>1875345.0</td>\n",
       "    </tr>\n",
       "  </tbody>\n",
       "</table>\n",
       "</div>"
      ],
      "text/plain": [
       "            Louise Portfolio  Naive Portfolio\n",
       "Date                                         \n",
       "2020-09-30         1531557.0        1681263.0\n",
       "2020-10-31         1497172.0        1643481.0\n",
       "2020-11-30         1661452.0        1823706.0\n",
       "2020-12-31         1662118.0        1886961.0\n",
       "2021-01-31         1662784.0        1875345.0"
      ]
     },
     "execution_count": 23,
     "metadata": {},
     "output_type": "execute_result"
    }
   ],
   "source": [
    "finalinvest.tail().round()"
   ]
  },
  {
   "cell_type": "markdown",
   "metadata": {},
   "source": [
    "To analyse how well Louise timed the market, we look at 5 best and worst months of Louise’s strategy and the naive strategy. "
   ]
  },
  {
   "cell_type": "code",
   "execution_count": 24,
   "metadata": {},
   "outputs": [],
   "source": [
    "best_5_louise = portfolio_return.sort_values(by=['Louise Returns'], ascending=False)\n",
    "best_5_louise = pd.DataFrame(best_5_louise)\n",
    "best_5_naive = portfolio_return.sort_values(by=['Naive Returns'], ascending=False)\n",
    "best_5_naive = pd.DataFrame(best_5_naive)\n",
    "worst_5_louise = portfolio_return.sort_values(by=['Louise Returns'], ascending=True)\n",
    "worst_5_louise = pd.DataFrame(worst_5_louise)\n",
    "worst_5_naive = portfolio_return.sort_values(by=['Naive Returns'], ascending=True)\n",
    "worst_5_naive = pd.DataFrame(worst_5_naive)\n"
   ]
  },
  {
   "cell_type": "markdown",
   "metadata": {},
   "source": [
    "First, we look at the best 5 months of Louise’s portfolio and we notice that Louise's strategy matches the returns of the naive strategy "
   ]
  },
  {
   "cell_type": "code",
   "execution_count": 25,
   "metadata": {},
   "outputs": [
    {
     "data": {
      "text/html": [
       "<div>\n",
       "<style scoped>\n",
       "    .dataframe tbody tr th:only-of-type {\n",
       "        vertical-align: middle;\n",
       "    }\n",
       "\n",
       "    .dataframe tbody tr th {\n",
       "        vertical-align: top;\n",
       "    }\n",
       "\n",
       "    .dataframe thead th {\n",
       "        text-align: right;\n",
       "    }\n",
       "</style>\n",
       "<table border=\"1\" class=\"dataframe\">\n",
       "  <thead>\n",
       "    <tr style=\"text-align: right;\">\n",
       "      <th></th>\n",
       "      <th>Louise Returns</th>\n",
       "      <th>Naive Returns</th>\n",
       "      <th>Naive Portfolio</th>\n",
       "      <th>Louise Portfolio</th>\n",
       "    </tr>\n",
       "    <tr>\n",
       "      <th>Date</th>\n",
       "      <th></th>\n",
       "      <th></th>\n",
       "      <th></th>\n",
       "      <th></th>\n",
       "    </tr>\n",
       "  </thead>\n",
       "  <tbody>\n",
       "    <tr>\n",
       "      <th>1987-01-31</th>\n",
       "      <td>14.864035</td>\n",
       "      <td>14.864035</td>\n",
       "      <td>1.502243e+04</td>\n",
       "      <td>1.416902e+04</td>\n",
       "    </tr>\n",
       "    <tr>\n",
       "      <th>2020-11-30</th>\n",
       "      <td>10.935640</td>\n",
       "      <td>10.935640</td>\n",
       "      <td>1.823706e+06</td>\n",
       "      <td>1.661452e+06</td>\n",
       "    </tr>\n",
       "    <tr>\n",
       "      <th>1990-05-31</th>\n",
       "      <td>9.692764</td>\n",
       "      <td>9.692764</td>\n",
       "      <td>4.622456e+04</td>\n",
       "      <td>4.445086e+04</td>\n",
       "    </tr>\n",
       "    <tr>\n",
       "      <th>1989-07-31</th>\n",
       "      <td>9.617159</td>\n",
       "      <td>9.617159</td>\n",
       "      <td>3.885174e+04</td>\n",
       "      <td>3.421009e+04</td>\n",
       "    </tr>\n",
       "    <tr>\n",
       "      <th>2000-03-31</th>\n",
       "      <td>9.526469</td>\n",
       "      <td>9.526469</td>\n",
       "      <td>4.038889e+05</td>\n",
       "      <td>3.048890e+05</td>\n",
       "    </tr>\n",
       "  </tbody>\n",
       "</table>\n",
       "</div>"
      ],
      "text/plain": [
       "            Louise Returns  Naive Returns  Naive Portfolio  Louise Portfolio\n",
       "Date                                                                        \n",
       "1987-01-31       14.864035      14.864035     1.502243e+04      1.416902e+04\n",
       "2020-11-30       10.935640      10.935640     1.823706e+06      1.661452e+06\n",
       "1990-05-31        9.692764       9.692764     4.622456e+04      4.445086e+04\n",
       "1989-07-31        9.617159       9.617159     3.885174e+04      3.421009e+04\n",
       "2000-03-31        9.526469       9.526469     4.038889e+05      3.048890e+05"
      ]
     },
     "execution_count": 25,
     "metadata": {},
     "output_type": "execute_result"
    }
   ],
   "source": [
    "best_5_louise.head()"
   ]
  },
  {
   "cell_type": "markdown",
   "metadata": {},
   "source": [
    "Next, we look at the 5 best months of the naive strategy and we notice that in 3 out of the best 5 months of the Vanguard Fund, Louise had her investments at a risk-free rate based on her strategy which is a huge loss for her.\n"
   ]
  },
  {
   "cell_type": "code",
   "execution_count": 26,
   "metadata": {},
   "outputs": [
    {
     "data": {
      "text/html": [
       "<div>\n",
       "<style scoped>\n",
       "    .dataframe tbody tr th:only-of-type {\n",
       "        vertical-align: middle;\n",
       "    }\n",
       "\n",
       "    .dataframe tbody tr th {\n",
       "        vertical-align: top;\n",
       "    }\n",
       "\n",
       "    .dataframe thead th {\n",
       "        text-align: right;\n",
       "    }\n",
       "</style>\n",
       "<table border=\"1\" class=\"dataframe\">\n",
       "  <thead>\n",
       "    <tr style=\"text-align: right;\">\n",
       "      <th></th>\n",
       "      <th>Louise Returns</th>\n",
       "      <th>Naive Returns</th>\n",
       "      <th>Naive Portfolio</th>\n",
       "      <th>Louise Portfolio</th>\n",
       "    </tr>\n",
       "    <tr>\n",
       "      <th>Date</th>\n",
       "      <th></th>\n",
       "      <th></th>\n",
       "      <th></th>\n",
       "      <th></th>\n",
       "    </tr>\n",
       "  </thead>\n",
       "  <tbody>\n",
       "    <tr>\n",
       "      <th>1987-01-31</th>\n",
       "      <td>14.864035</td>\n",
       "      <td>14.864035</td>\n",
       "      <td>1.502243e+04</td>\n",
       "      <td>1.416902e+04</td>\n",
       "    </tr>\n",
       "    <tr>\n",
       "      <th>2020-04-30</th>\n",
       "      <td>0.120000</td>\n",
       "      <td>13.271939</td>\n",
       "      <td>1.448965e+06</td>\n",
       "      <td>1.402832e+06</td>\n",
       "    </tr>\n",
       "    <tr>\n",
       "      <th>2011-10-31</th>\n",
       "      <td>0.000000</td>\n",
       "      <td>11.485867</td>\n",
       "      <td>4.994631e+05</td>\n",
       "      <td>6.970937e+05</td>\n",
       "    </tr>\n",
       "    <tr>\n",
       "      <th>2020-11-30</th>\n",
       "      <td>10.935640</td>\n",
       "      <td>10.935640</td>\n",
       "      <td>1.823706e+06</td>\n",
       "      <td>1.661452e+06</td>\n",
       "    </tr>\n",
       "    <tr>\n",
       "      <th>2009-04-30</th>\n",
       "      <td>0.020000</td>\n",
       "      <td>10.331337</td>\n",
       "      <td>3.199547e+05</td>\n",
       "      <td>5.009615e+05</td>\n",
       "    </tr>\n",
       "  </tbody>\n",
       "</table>\n",
       "</div>"
      ],
      "text/plain": [
       "            Louise Returns  Naive Returns  Naive Portfolio  Louise Portfolio\n",
       "Date                                                                        \n",
       "1987-01-31       14.864035      14.864035     1.502243e+04      1.416902e+04\n",
       "2020-04-30        0.120000      13.271939     1.448965e+06      1.402832e+06\n",
       "2011-10-31        0.000000      11.485867     4.994631e+05      6.970937e+05\n",
       "2020-11-30       10.935640      10.935640     1.823706e+06      1.661452e+06\n",
       "2009-04-30        0.020000      10.331337     3.199547e+05      5.009615e+05"
      ]
     },
     "execution_count": 26,
     "metadata": {},
     "output_type": "execute_result"
    }
   ],
   "source": [
    "best_5_naive.head()"
   ]
  },
  {
   "cell_type": "markdown",
   "metadata": {},
   "source": [
    "Again, when we look at the worst 5 months of Louise’s strategy which notice that it is the same as the naive strategy which is actually a positive sign for Louise.\n"
   ]
  },
  {
   "cell_type": "code",
   "execution_count": 27,
   "metadata": {},
   "outputs": [
    {
     "data": {
      "text/html": [
       "<div>\n",
       "<style scoped>\n",
       "    .dataframe tbody tr th:only-of-type {\n",
       "        vertical-align: middle;\n",
       "    }\n",
       "\n",
       "    .dataframe tbody tr th {\n",
       "        vertical-align: top;\n",
       "    }\n",
       "\n",
       "    .dataframe thead th {\n",
       "        text-align: right;\n",
       "    }\n",
       "</style>\n",
       "<table border=\"1\" class=\"dataframe\">\n",
       "  <thead>\n",
       "    <tr style=\"text-align: right;\">\n",
       "      <th></th>\n",
       "      <th>Louise Returns</th>\n",
       "      <th>Naive Returns</th>\n",
       "      <th>Naive Portfolio</th>\n",
       "      <th>Louise Portfolio</th>\n",
       "    </tr>\n",
       "    <tr>\n",
       "      <th>Date</th>\n",
       "      <th></th>\n",
       "      <th></th>\n",
       "      <th></th>\n",
       "      <th></th>\n",
       "    </tr>\n",
       "  </thead>\n",
       "  <tbody>\n",
       "    <tr>\n",
       "      <th>1987-10-31</th>\n",
       "      <td>-21.288631</td>\n",
       "      <td>-21.288631</td>\n",
       "      <td>1.792459e+04</td>\n",
       "      <td>1.709377e+04</td>\n",
       "    </tr>\n",
       "    <tr>\n",
       "      <th>1998-08-31</th>\n",
       "      <td>-14.473561</td>\n",
       "      <td>-14.473561</td>\n",
       "      <td>2.487749e+05</td>\n",
       "      <td>2.412604e+05</td>\n",
       "    </tr>\n",
       "    <tr>\n",
       "      <th>2020-03-31</th>\n",
       "      <td>-12.755538</td>\n",
       "      <td>-12.755538</td>\n",
       "      <td>1.278750e+06</td>\n",
       "      <td>1.400651e+06</td>\n",
       "    </tr>\n",
       "    <tr>\n",
       "      <th>1986-12-31</th>\n",
       "      <td>-11.131487</td>\n",
       "      <td>-11.131487</td>\n",
       "      <td>1.264315e+04</td>\n",
       "      <td>1.183547e+04</td>\n",
       "    </tr>\n",
       "    <tr>\n",
       "      <th>2018-12-31</th>\n",
       "      <td>-9.501847</td>\n",
       "      <td>-9.501847</td>\n",
       "      <td>1.204502e+06</td>\n",
       "      <td>1.319902e+06</td>\n",
       "    </tr>\n",
       "  </tbody>\n",
       "</table>\n",
       "</div>"
      ],
      "text/plain": [
       "            Louise Returns  Naive Returns  Naive Portfolio  Louise Portfolio\n",
       "Date                                                                        \n",
       "1987-10-31      -21.288631     -21.288631     1.792459e+04      1.709377e+04\n",
       "1998-08-31      -14.473561     -14.473561     2.487749e+05      2.412604e+05\n",
       "2020-03-31      -12.755538     -12.755538     1.278750e+06      1.400651e+06\n",
       "1986-12-31      -11.131487     -11.131487     1.264315e+04      1.183547e+04\n",
       "2018-12-31       -9.501847      -9.501847     1.204502e+06      1.319902e+06"
      ]
     },
     "execution_count": 27,
     "metadata": {},
     "output_type": "execute_result"
    }
   ],
   "source": [
    "worst_5_louise.head()"
   ]
  },
  {
   "cell_type": "markdown",
   "metadata": {},
   "source": [
    "Lastly, when we look at the worst 5 months of Louise’s strategy we notice that Louise does well as she avoids 2 of the worst 5 months of the naive strategy.\n"
   ]
  },
  {
   "cell_type": "code",
   "execution_count": 28,
   "metadata": {},
   "outputs": [
    {
     "data": {
      "text/html": [
       "<div>\n",
       "<style scoped>\n",
       "    .dataframe tbody tr th:only-of-type {\n",
       "        vertical-align: middle;\n",
       "    }\n",
       "\n",
       "    .dataframe tbody tr th {\n",
       "        vertical-align: top;\n",
       "    }\n",
       "\n",
       "    .dataframe thead th {\n",
       "        text-align: right;\n",
       "    }\n",
       "</style>\n",
       "<table border=\"1\" class=\"dataframe\">\n",
       "  <thead>\n",
       "    <tr style=\"text-align: right;\">\n",
       "      <th></th>\n",
       "      <th>Louise Returns</th>\n",
       "      <th>Naive Returns</th>\n",
       "      <th>Naive Portfolio</th>\n",
       "      <th>Louise Portfolio</th>\n",
       "    </tr>\n",
       "    <tr>\n",
       "      <th>Date</th>\n",
       "      <th></th>\n",
       "      <th></th>\n",
       "      <th></th>\n",
       "      <th></th>\n",
       "    </tr>\n",
       "  </thead>\n",
       "  <tbody>\n",
       "    <tr>\n",
       "      <th>1987-10-31</th>\n",
       "      <td>-21.288631</td>\n",
       "      <td>-21.288631</td>\n",
       "      <td>1.792459e+04</td>\n",
       "      <td>1.709377e+04</td>\n",
       "    </tr>\n",
       "    <tr>\n",
       "      <th>2008-10-31</th>\n",
       "      <td>0.150000</td>\n",
       "      <td>-16.308157</td>\n",
       "      <td>3.462528e+05</td>\n",
       "      <td>4.972635e+05</td>\n",
       "    </tr>\n",
       "    <tr>\n",
       "      <th>1998-08-31</th>\n",
       "      <td>-14.473561</td>\n",
       "      <td>-14.473561</td>\n",
       "      <td>2.487749e+05</td>\n",
       "      <td>2.412604e+05</td>\n",
       "    </tr>\n",
       "    <tr>\n",
       "      <th>2020-03-31</th>\n",
       "      <td>-12.755538</td>\n",
       "      <td>-12.755538</td>\n",
       "      <td>1.278750e+06</td>\n",
       "      <td>1.400651e+06</td>\n",
       "    </tr>\n",
       "    <tr>\n",
       "      <th>2002-09-30</th>\n",
       "      <td>0.140000</td>\n",
       "      <td>-11.281377</td>\n",
       "      <td>2.369362e+05</td>\n",
       "      <td>3.258269e+05</td>\n",
       "    </tr>\n",
       "  </tbody>\n",
       "</table>\n",
       "</div>"
      ],
      "text/plain": [
       "            Louise Returns  Naive Returns  Naive Portfolio  Louise Portfolio\n",
       "Date                                                                        \n",
       "1987-10-31      -21.288631     -21.288631     1.792459e+04      1.709377e+04\n",
       "2008-10-31        0.150000     -16.308157     3.462528e+05      4.972635e+05\n",
       "1998-08-31      -14.473561     -14.473561     2.487749e+05      2.412604e+05\n",
       "2020-03-31      -12.755538     -12.755538     1.278750e+06      1.400651e+06\n",
       "2002-09-30        0.140000     -11.281377     2.369362e+05      3.258269e+05"
      ]
     },
     "execution_count": 28,
     "metadata": {},
     "output_type": "execute_result"
    }
   ],
   "source": [
    "worst_5_naive.head()"
   ]
  },
  {
   "cell_type": "markdown",
   "metadata": {},
   "source": [
    "Overall, we realise that due to her strategy Louise misses out on bigger gains than she avoids losses, so overall we come to the conclusion that Louise’s strategy is actually worse off as compared to naive strategy."
   ]
  },
  {
   "cell_type": "markdown",
   "metadata": {},
   "source": [
    "# Trade Offs"
   ]
  },
  {
   "cell_type": "markdown",
   "metadata": {},
   "source": [
    "The major trade-off that has been discussed is the loss of money of approximately $210,000. Other than that trade-off, there are a few other trade-offs that Louise must consider when choosing between her strategy and the naive strategy. A few conceptual trade-offs with Louise's strategy is that she has to pay the fees to trade such big amounts every time. Furthermore, she would have to keep tracking the portfolio to stick to her strategy and time the market."
   ]
  },
  {
   "cell_type": "code",
   "execution_count": 29,
   "metadata": {},
   "outputs": [
    {
     "name": "stdout",
     "output_type": "stream",
     "text": [
      "Average Rolling Naive Portfolio Volatility =  4.115847381792923\n",
      "Average Rolling Louise Portfolio Volatility =  3.230471398884641\n"
     ]
    }
   ],
   "source": [
    "naive_vola = finalvolatile['naive_std'].mean()\n",
    "louise_vola = finalvolatile['louise_volatile'].mean()\n",
    "print('Average Rolling Naive Portfolio Volatility = ',naive_vola)\n",
    "print('Average Rolling Louise Portfolio Volatility = ',louise_vola)"
   ]
  },
  {
   "cell_type": "code",
   "execution_count": 30,
   "metadata": {},
   "outputs": [
    {
     "name": "stdout",
     "output_type": "stream",
     "text": [
      "Annual Average Naive Portfolio Return 11.191332825020211\n",
      "Annual Average Louise Portfolio Return 10.131528305133617\n"
     ]
    }
   ],
   "source": [
    "naive_return = portfolio_return['Naive Returns'].mean()*12\n",
    "louise_return = portfolio_return['Louise Returns'].mean()*12\n",
    "print('Annual Average Naive Portfolio Return',naive_return)\n",
    "print('Annual Average Louise Portfolio Return',louise_return)"
   ]
  },
  {
   "cell_type": "markdown",
   "metadata": {},
   "source": [
    "In switching to the naive strategy Louise will have to choose a strategy that is more risky as the volatility is higher (4.1% vs 3.2%). In choosing the Louise strategy the tradeoff is giving up a higher return percentage which is an opportunity to make higher returns (11.2% vs 10.1%)"
   ]
  },
  {
   "cell_type": "code",
   "execution_count": 31,
   "metadata": {},
   "outputs": [
    {
     "data": {
      "text/html": [
       "<div>\n",
       "<style scoped>\n",
       "    .dataframe tbody tr th:only-of-type {\n",
       "        vertical-align: middle;\n",
       "    }\n",
       "\n",
       "    .dataframe tbody tr th {\n",
       "        vertical-align: top;\n",
       "    }\n",
       "\n",
       "    .dataframe thead th {\n",
       "        text-align: right;\n",
       "    }\n",
       "</style>\n",
       "<table border=\"1\" class=\"dataframe\">\n",
       "  <thead>\n",
       "    <tr style=\"text-align: right;\">\n",
       "      <th></th>\n",
       "      <th>Louise Portfolio</th>\n",
       "      <th>Naive Portfolio</th>\n",
       "      <th>Louise Returns</th>\n",
       "      <th>Naive Returns</th>\n",
       "      <th>Louise Returns Higher?</th>\n",
       "    </tr>\n",
       "    <tr>\n",
       "      <th>Date</th>\n",
       "      <th></th>\n",
       "      <th></th>\n",
       "      <th></th>\n",
       "      <th></th>\n",
       "      <th></th>\n",
       "    </tr>\n",
       "  </thead>\n",
       "  <tbody>\n",
       "    <tr>\n",
       "      <th>2010-12-31</th>\n",
       "      <td>663989.07</td>\n",
       "      <td>486788.99</td>\n",
       "      <td>NaN</td>\n",
       "      <td>NaN</td>\n",
       "      <td>False</td>\n",
       "    </tr>\n",
       "    <tr>\n",
       "      <th>2011-12-31</th>\n",
       "      <td>698093.73</td>\n",
       "      <td>501545.99</td>\n",
       "      <td>0.051363</td>\n",
       "      <td>0.030315</td>\n",
       "      <td>True</td>\n",
       "    </tr>\n",
       "    <tr>\n",
       "      <th>2012-12-31</th>\n",
       "      <td>713673.17</td>\n",
       "      <td>586467.95</td>\n",
       "      <td>0.022317</td>\n",
       "      <td>0.169320</td>\n",
       "      <td>False</td>\n",
       "    </tr>\n",
       "    <tr>\n",
       "      <th>2013-12-31</th>\n",
       "      <td>951732.25</td>\n",
       "      <td>783170.35</td>\n",
       "      <td>0.333569</td>\n",
       "      <td>0.335402</td>\n",
       "      <td>False</td>\n",
       "    </tr>\n",
       "    <tr>\n",
       "      <th>2014-12-31</th>\n",
       "      <td>1086647.48</td>\n",
       "      <td>895268.37</td>\n",
       "      <td>0.141758</td>\n",
       "      <td>0.143134</td>\n",
       "      <td>False</td>\n",
       "    </tr>\n",
       "    <tr>\n",
       "      <th>2015-12-31</th>\n",
       "      <td>1147146.23</td>\n",
       "      <td>912184.18</td>\n",
       "      <td>0.055675</td>\n",
       "      <td>0.018895</td>\n",
       "      <td>True</td>\n",
       "    </tr>\n",
       "    <tr>\n",
       "      <th>2016-12-31</th>\n",
       "      <td>1179382.20</td>\n",
       "      <td>1026045.83</td>\n",
       "      <td>0.028101</td>\n",
       "      <td>0.124823</td>\n",
       "      <td>False</td>\n",
       "    </tr>\n",
       "    <tr>\n",
       "      <th>2017-12-31</th>\n",
       "      <td>1409030.50</td>\n",
       "      <td>1256650.64</td>\n",
       "      <td>0.194719</td>\n",
       "      <td>0.224751</td>\n",
       "      <td>False</td>\n",
       "    </tr>\n",
       "    <tr>\n",
       "      <th>2018-12-31</th>\n",
       "      <td>1319902.34</td>\n",
       "      <td>1204502.43</td>\n",
       "      <td>-0.063255</td>\n",
       "      <td>-0.041498</td>\n",
       "      <td>False</td>\n",
       "    </tr>\n",
       "    <tr>\n",
       "      <th>2019-12-31</th>\n",
       "      <td>1740921.01</td>\n",
       "      <td>1589149.71</td>\n",
       "      <td>0.318977</td>\n",
       "      <td>0.319341</td>\n",
       "      <td>False</td>\n",
       "    </tr>\n",
       "  </tbody>\n",
       "</table>\n",
       "</div>"
      ],
      "text/plain": [
       "            Louise Portfolio  Naive Portfolio  Louise Returns  Naive Returns  \\\n",
       "Date                                                                           \n",
       "2010-12-31         663989.07        486788.99             NaN            NaN   \n",
       "2011-12-31         698093.73        501545.99        0.051363       0.030315   \n",
       "2012-12-31         713673.17        586467.95        0.022317       0.169320   \n",
       "2013-12-31         951732.25        783170.35        0.333569       0.335402   \n",
       "2014-12-31        1086647.48        895268.37        0.141758       0.143134   \n",
       "2015-12-31        1147146.23        912184.18        0.055675       0.018895   \n",
       "2016-12-31        1179382.20       1026045.83        0.028101       0.124823   \n",
       "2017-12-31        1409030.50       1256650.64        0.194719       0.224751   \n",
       "2018-12-31        1319902.34       1204502.43       -0.063255      -0.041498   \n",
       "2019-12-31        1740921.01       1589149.71        0.318977       0.319341   \n",
       "\n",
       "            Louise Returns Higher?  \n",
       "Date                                \n",
       "2010-12-31                   False  \n",
       "2011-12-31                    True  \n",
       "2012-12-31                   False  \n",
       "2013-12-31                   False  \n",
       "2014-12-31                   False  \n",
       "2015-12-31                    True  \n",
       "2016-12-31                   False  \n",
       "2017-12-31                   False  \n",
       "2018-12-31                   False  \n",
       "2019-12-31                   False  "
      ]
     },
     "execution_count": 31,
     "metadata": {},
     "output_type": "execute_result"
    }
   ],
   "source": [
    "new_df = finalinvest.loc['2010':'2019'].resample('Y').last().round(2)\n",
    "new_df['Louise Returns'] = new_df['Louise Portfolio'].pct_change(1)\n",
    "new_df['Naive Returns'] = new_df['Naive Portfolio'].pct_change(1)\n",
    "new_df['Louise Returns Higher?'] = new_df['Louise Returns'] > new_df['Naive Returns']\n",
    "new_df = pd.DataFrame(new_df)\n",
    "new_df"
   ]
  },
  {
   "cell_type": "markdown",
   "metadata": {},
   "source": [
    "If we look at the yearly returns of the portfolio from 2010 to 2019, we notice that the returns are inconsistent. We notice that her strategy is better than the naive strategy in 2011 and 2015. If she completely moves to the passive strategy, she misses out on the opportunity to make higher returns in 2011 and 2015. \n"
   ]
  },
  {
   "cell_type": "code",
   "execution_count": 32,
   "metadata": {},
   "outputs": [
    {
     "name": "stdout",
     "output_type": "stream",
     "text": [
      "Excess Returns Naive: 8.042999491686881\n",
      "Excess Returns Louise: 6.965139416244739\n"
     ]
    }
   ],
   "source": [
    "naive_excess_returns = 12 * df_n['R-RF'].mean()\n",
    "louise_excess_returns = 12 * (sum(rrfLst) / len(rrfLst))\n",
    "print('Excess Returns Naive:',naive_excess_returns)\n",
    "print('Excess Returns Louise:',louise_excess_returns)"
   ]
  },
  {
   "cell_type": "markdown",
   "metadata": {},
   "source": [
    "When comparing Louise's strategy to the naive startegy, it is important to anaylze the excess returns of both strategies. If two investing strategies are compared, the one with higher excess returns is generally the one that performed better. It is clear that the naive startegy in this case had higher excess returns than Louise's. Lower excess returns are usually associated with less risk. This means that Louise is likely applying less risk with her investment startegy but this comes with the loss of profits. Also in this specific case, it is unlikely that a strategy as safe as investing in the S&P 500 carries more risk anyway regardless of the excess returns."
   ]
  },
  {
   "cell_type": "markdown",
   "metadata": {},
   "source": [
    "# Conclusion"
   ]
  },
  {
   "cell_type": "markdown",
   "metadata": {},
   "source": [
    "Overall we concluded that the naive strategy is indeed better than Louise’s strategy based on the current data we have but the one component that is beyond the scope of this project is the analysis of the macro environment. Louise’s strategy was almost always ahead of the naive strategy until the coronavirus pandemic struck. Almost all trading strategies have failed in the midst of this pandemic and there has been not one effective strategy that could ideally time this extremely volatile market. As it stands, the naive strategy is better but we do believe that an analysis of the macro environment combined with these results might point in a different direction. "
   ]
  },
  {
   "cell_type": "code",
   "execution_count": null,
   "metadata": {},
   "outputs": [],
   "source": []
  }
 ],
 "metadata": {
  "kernelspec": {
   "display_name": "Python 3",
   "language": "python",
   "name": "python3"
  },
  "language_info": {
   "codemirror_mode": {
    "name": "ipython",
    "version": 3
   },
   "file_extension": ".py",
   "mimetype": "text/x-python",
   "name": "python",
   "nbconvert_exporter": "python",
   "pygments_lexer": "ipython3",
   "version": "3.7.1"
  }
 },
 "nbformat": 4,
 "nbformat_minor": 4
}
